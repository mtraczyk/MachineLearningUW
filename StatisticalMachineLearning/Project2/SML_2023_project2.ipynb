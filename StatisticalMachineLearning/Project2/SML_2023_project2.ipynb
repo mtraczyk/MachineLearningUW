{
 "nbformat": 4,
 "nbformat_minor": 0,
 "metadata": {
  "colab": {
   "provenance": []
  },
  "kernelspec": {
   "name": "python3",
   "display_name": "Python 3"
  },
  "language_info": {
   "name": "python"
  }
 },
 "cells": [
  {
   "cell_type": "code",
   "execution_count": null,
   "metadata": {
    "id": "lPDbY3vWTeJv"
   },
   "outputs": [],
   "source": [
    "# We need to update to python 3.11 for ydata_profiling to work.\n",
    "!python --version\n",
    "!sudo apt-get update -y\n",
    "!sudo apt-get install python3.11\n",
    "\n",
    "#change alternatives\n",
    "!sudo update-alternatives --install /usr/bin/python3 python3 /usr/bin/python3.10 1\n",
    "!sudo update-alternatives --install /usr/bin/python3 python3 /usr/bin/python3.11 2\n",
    "\n",
    "#check python version\n",
    "!python --version\n",
    "\n",
    "# install pip\n",
    "!curl https://bootstrap.pypa.io/get-pip.py -o get-pip.py\n",
    "!python3 get-pip.py --force-reinstall\n",
    "\n",
    "#install colab's dependencies\n",
    "!python3 -m pip install ipython ipython_genutils ipykernel jupyter_console prompt_toolkit httplib2 astor\n",
    "\n",
    "# link to the old google package\n",
    "!ln -s /usr/local/lib/python3.10/dist-packages/google \\\n",
    "       /usr/local/lib/python3.11/dist-packages/google\n",
    "\n",
    "# There has got to be a better way to do this...but there's a bad import in some of the colab files\n",
    "# IPython no longer exposes traitlets like this, it's a separate package now\n",
    "!sed -i \"s/from IPython.utils import traitlets as _traitlets/import traitlets as _traitlets/\" /usr/local/lib/python3.11/dist-packages/google/colab/*.py\n",
    "!sed -i \"s/from IPython.utils import traitlets/import traitlets/\" /usr/local/lib/python3.11/dist-packages/google/colab/*.py"
   ]
  },
  {
   "cell_type": "code",
   "outputs": [],
   "source": [
    "#check python version\n",
    "import sys\n",
    "print(sys.version)\n",
    "!python3 --version\n",
    "!python --version"
   ],
   "metadata": {
    "collapsed": false
   }
  },
  {
   "cell_type": "code",
   "outputs": [],
   "source": [
    "%pip install --quiet gdown  # for those who don't run it on Google Colab\n",
    "%pip install ydata-profiling\n",
    "%pip install plotly\n",
    "!gdown --fuzzy 'https://drive.google.com/file/d/1aZMVSrP3fwh_d5TPpL-IzgItefG-iNs1/view?usp=sharing'\n",
    "!unzip zip_data.zip"
   ],
   "metadata": {
    "collapsed": false
   }
  },
  {
   "cell_type": "markdown",
   "source": [
    "# **1. Exploration**\n",
    "\n"
   ],
   "metadata": {
    "collapsed": false
   }
  },
  {
   "cell_type": "code",
   "outputs": [],
   "source": [
    "import pandas as pd\n",
    "import numpy as np\n",
    "from ydata_profiling import ProfileReport\n",
    "\n",
    "X_train_data = pd.read_csv(\"X_train.csv\", delimiter=',')\n",
    "y_train_data = pd.read_csv(\"y_train.csv\", delimiter=',')\n",
    "X_test_data = pd.read_csv(\"X_test.csv\", delimiter=',')\n",
    "\n",
    "data = {\"X_train_data\": X_train_data,\n",
    "        \"y_train_adta\": y_train_data,\n",
    "        \"X_test_data\": X_test_data}\n",
    "\n",
    "# Generate the profile report the y_train_data\n",
    "profile = ProfileReport(y_train_data)\n",
    "# Save the report to an HTML file\n",
    "profile.to_file(f\"y_train_data_report.html\")"
   ],
   "metadata": {
    "collapsed": false
   }
  },
  {
   "cell_type": "markdown",
   "source": [],
   "metadata": {
    "collapsed": false
   }
  }
 ]
}
