{
 "cells": [
  {
   "cell_type": "code",
   "execution_count": 1,
   "metadata": {
    "collapsed": true,
    "ExecuteTime": {
     "end_time": "2023-12-12T10:54:04.895660Z",
     "start_time": "2023-12-12T10:54:03.073052Z"
    }
   },
   "outputs": [],
   "source": [
    "import numpy as np\n",
    "import pandas as pd"
   ]
  },
  {
   "cell_type": "markdown",
   "source": [
    "How many observations are there in the sample? Discuss the structure of the dataset: how many quantitative and how many qualitative variables do we have? Are there any missing data? (0.5point) • Provide and describe appropriate frequency tables or descriptive statistics for the variables (take into account the type of the variables!) (0.5point). • Present and discuss (where appropriate) variables’ distributions, especially compare them with the normal distribution (e.g. with histograms, density functions, qqplots...). (2points)"
   ],
   "metadata": {
    "collapsed": false
   }
  },
  {
   "cell_type": "markdown",
   "source": [],
   "metadata": {
    "collapsed": false
   }
  },
  {
   "cell_type": "code",
   "execution_count": 4,
   "outputs": [
    {
     "data": {
      "text/plain": "       id      base   bonus  overtime_pay    other  sector  section_07  sex  \\\n0  192064  26651.53     0.0          0.00     0.00       1           3    2   \n1   25495  40168.50  1500.0          0.00  3414.32       1           2    1   \n2  142164  20134.80     0.0          0.00  1700.41       1           2    2   \n3  198034  16475.00     0.0          0.00  1305.00       1           2    2   \n4  144990  34797.60     0.0       1893.35  3118.73       1           2    2   \n\n   education  contract  age  duration_total  duration_entity  \\\n0          4         1   49           33.03             7.06   \n1          1         1   36           10.07             6.01   \n2          4         1   52           28.08            19.05   \n3          5         1   55           35.07            11.01   \n4          2         1   50           27.00            19.01   \n\n   duration_nominal  duration_overtime  \n0           1524.15                0.0  \n1           1562.40                0.0  \n2           1816.00                0.0  \n3           1816.00                0.0  \n4            722.80               63.0  ",
      "text/html": "<div>\n<style scoped>\n    .dataframe tbody tr th:only-of-type {\n        vertical-align: middle;\n    }\n\n    .dataframe tbody tr th {\n        vertical-align: top;\n    }\n\n    .dataframe thead th {\n        text-align: right;\n    }\n</style>\n<table border=\"1\" class=\"dataframe\">\n  <thead>\n    <tr style=\"text-align: right;\">\n      <th></th>\n      <th>id</th>\n      <th>base</th>\n      <th>bonus</th>\n      <th>overtime_pay</th>\n      <th>other</th>\n      <th>sector</th>\n      <th>section_07</th>\n      <th>sex</th>\n      <th>education</th>\n      <th>contract</th>\n      <th>age</th>\n      <th>duration_total</th>\n      <th>duration_entity</th>\n      <th>duration_nominal</th>\n      <th>duration_overtime</th>\n    </tr>\n  </thead>\n  <tbody>\n    <tr>\n      <th>0</th>\n      <td>192064</td>\n      <td>26651.53</td>\n      <td>0.0</td>\n      <td>0.00</td>\n      <td>0.00</td>\n      <td>1</td>\n      <td>3</td>\n      <td>2</td>\n      <td>4</td>\n      <td>1</td>\n      <td>49</td>\n      <td>33.03</td>\n      <td>7.06</td>\n      <td>1524.15</td>\n      <td>0.0</td>\n    </tr>\n    <tr>\n      <th>1</th>\n      <td>25495</td>\n      <td>40168.50</td>\n      <td>1500.0</td>\n      <td>0.00</td>\n      <td>3414.32</td>\n      <td>1</td>\n      <td>2</td>\n      <td>1</td>\n      <td>1</td>\n      <td>1</td>\n      <td>36</td>\n      <td>10.07</td>\n      <td>6.01</td>\n      <td>1562.40</td>\n      <td>0.0</td>\n    </tr>\n    <tr>\n      <th>2</th>\n      <td>142164</td>\n      <td>20134.80</td>\n      <td>0.0</td>\n      <td>0.00</td>\n      <td>1700.41</td>\n      <td>1</td>\n      <td>2</td>\n      <td>2</td>\n      <td>4</td>\n      <td>1</td>\n      <td>52</td>\n      <td>28.08</td>\n      <td>19.05</td>\n      <td>1816.00</td>\n      <td>0.0</td>\n    </tr>\n    <tr>\n      <th>3</th>\n      <td>198034</td>\n      <td>16475.00</td>\n      <td>0.0</td>\n      <td>0.00</td>\n      <td>1305.00</td>\n      <td>1</td>\n      <td>2</td>\n      <td>2</td>\n      <td>5</td>\n      <td>1</td>\n      <td>55</td>\n      <td>35.07</td>\n      <td>11.01</td>\n      <td>1816.00</td>\n      <td>0.0</td>\n    </tr>\n    <tr>\n      <th>4</th>\n      <td>144990</td>\n      <td>34797.60</td>\n      <td>0.0</td>\n      <td>1893.35</td>\n      <td>3118.73</td>\n      <td>1</td>\n      <td>2</td>\n      <td>2</td>\n      <td>2</td>\n      <td>1</td>\n      <td>50</td>\n      <td>27.00</td>\n      <td>19.01</td>\n      <td>722.80</td>\n      <td>63.0</td>\n    </tr>\n  </tbody>\n</table>\n</div>"
     },
     "execution_count": 4,
     "metadata": {},
     "output_type": "execute_result"
    }
   ],
   "source": [
    "# Subtask 1\n",
    "\n",
    "data = pd.read_csv(\"earnings.csv\", delimiter=';')\n",
    "print(data.head())\n",
    "data.describe()"
   ],
   "metadata": {
    "collapsed": false,
    "ExecuteTime": {
     "end_time": "2023-12-12T11:02:49.272945Z",
     "start_time": "2023-12-12T11:02:49.205731Z"
    }
   }
  },
  {
   "cell_type": "code",
   "execution_count": 6,
   "outputs": [
    {
     "name": "stdout",
     "output_type": "stream",
     "text": [
      "Number of observations is: 11000\n",
      "There are 15 variables.\n",
      "The variables are: ['id' 'base' 'bonus' 'overtime_pay' 'other' 'sector' 'section_07' 'sex'\n",
      " 'education' 'contract' 'age' 'duration_total' 'duration_entity'\n",
      " 'duration_nominal' 'duration_overtime'] in total.\n",
      "There are 6 qualitative variables and 9 quantitative variables.\n",
      "The qualitative variables are: ['id', 'sector', 'section_07', 'sex', 'education', 'contract']\n",
      "The quantitative variables are: ['base' 'bonus' 'overtime_pay' 'other' 'age' 'duration_total'\n",
      " 'duration_entity' 'duration_nominal' 'duration_overtime']\n"
     ]
    }
   ],
   "source": [
    "print(f\"Number of observations is: {len(data)}.\")\n",
    "print(f\"There are {len(data.columns)} variables.\")\n",
    "print(f\"The variables are: {data.columns.values} in total.\")\n",
    "\n",
    "qual_vars = ['id', 'sector', 'section_07', 'sex', 'education', 'contract']\n",
    "quant_vars = data.columns.values[~data.columns.isin(qual_vars)]\n",
    "print(f\"There are {len(qual_vars)} qualitative variables and {len(quant_vars)} quantitative variables.\")\n",
    "print(f\"The qualitative variables are: {qual_vars}.\")\n",
    "print(f\"The quantitative variables are: {quant_vars}.\")\n",
    "print(f\"There is no null data:\\n{data.isnull().sum()}.\")"
   ],
   "metadata": {
    "collapsed": false,
    "ExecuteTime": {
     "end_time": "2023-12-12T11:10:45.012674Z",
     "start_time": "2023-12-12T11:10:45.005554Z"
    }
   }
  },
  {
   "cell_type": "code",
   "execution_count": 7,
   "outputs": [
    {
     "name": "stdout",
     "output_type": "stream",
     "text": [
      "id                   0\n",
      "base                 0\n",
      "bonus                0\n",
      "overtime_pay         0\n",
      "other                0\n",
      "sector               0\n",
      "section_07           0\n",
      "sex                  0\n",
      "education            0\n",
      "contract             0\n",
      "age                  0\n",
      "duration_total       0\n",
      "duration_entity      0\n",
      "duration_nominal     0\n",
      "duration_overtime    0\n",
      "dtype: int64\n"
     ]
    }
   ],
   "source": [
    "# how many null data\n",
    "print(data.isnull().sum())"
   ],
   "metadata": {
    "collapsed": false,
    "ExecuteTime": {
     "end_time": "2023-12-12T11:12:55.481452Z",
     "start_time": "2023-12-12T11:12:55.466243Z"
    }
   }
  },
  {
   "cell_type": "markdown",
   "source": [],
   "metadata": {
    "collapsed": false
   }
  },
  {
   "cell_type": "markdown",
   "source": [],
   "metadata": {
    "collapsed": false
   }
  },
  {
   "cell_type": "markdown",
   "source": [],
   "metadata": {
    "collapsed": false
   }
  }
 ],
 "metadata": {
  "kernelspec": {
   "display_name": "Python 3",
   "language": "python",
   "name": "python3"
  },
  "language_info": {
   "codemirror_mode": {
    "name": "ipython",
    "version": 2
   },
   "file_extension": ".py",
   "mimetype": "text/x-python",
   "name": "python",
   "nbconvert_exporter": "python",
   "pygments_lexer": "ipython2",
   "version": "2.7.6"
  }
 },
 "nbformat": 4,
 "nbformat_minor": 0
}
