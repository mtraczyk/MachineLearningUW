{
 "nbformat": 4,
 "nbformat_minor": 0,
 "metadata": {
  "colab": {
   "provenance": []
  },
  "kernelspec": {
   "name": "python3",
   "display_name": "Python 3"
  },
  "language_info": {
   "name": "python"
  }
 },
 "cells": [
  {
   "cell_type": "code",
   "execution_count": null,
   "metadata": {
    "id": "vfJ_DL-XACQw"
   },
   "outputs": [],
   "source": [
    "%pip install --quiet gdown  # for those who don't run it on Google Colab\n",
    "!gdown --fuzzy 'https://drive.google.com/file/d/1jj-iXuiIzANJpw4IIqR8zUR-wdDY2LAA/view?usp=share_link'\n",
    "!unzip edzd_trans_data.csv.zip"
   ]
  },
  {
   "cell_type": "code",
   "execution_count": null,
   "outputs": [],
   "source": [
    "import pandas as pd\n",
    "import numpy as np\n",
    "\n",
    "data = pd.read_csv(\"edzd_trans_data.csv\", delimiter=',')"
   ],
   "metadata": {
    "collapsed": false
   }
  },
  {
   "cell_type": "code",
   "execution_count": null,
   "outputs": [],
   "source": [
    "cols = data.columns\n",
    "\n",
    "print(f\"There are {len(cols)} columns which are: {list(cols)}.\")\n",
    "data.head()"
   ],
   "metadata": {
    "collapsed": false
   }
  }
 ]
}
