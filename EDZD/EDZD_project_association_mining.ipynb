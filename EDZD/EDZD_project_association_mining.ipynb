{
  "nbformat": 4,
  "nbformat_minor": 0,
  "metadata": {
    "colab": {
      "provenance": []
    },
    "kernelspec": {
      "name": "python3",
      "display_name": "Python 3"
    },
    "language_info": {
      "name": "python"
    }
  },
  "cells": [
    {
      "cell_type": "code",
      "execution_count": null,
      "metadata": {
        "id": "AsRfx910a-d1"
      },
      "outputs": [],
      "source": [
        "%pip install --quiet gdown  # for those who don't run it on Google Colab\n",
        "%pip install pycaret\n",
        "!gdown --fuzzy 'https://drive.google.com/file/d/1jj-iXuiIzANJpw4IIqR8zUR-wdDY2LAA/view?usp=share_link'\n",
        "!unzip edzd_trans_data.csv.zip"
      ]
    },
    {
      "cell_type": "code",
      "source": [
        "import pandas as pd\n",
        "import numpy as np\n",
        "from pycaret.arules import *"
      ],
      "metadata": {
        "id": "-gBTU9-HbGsj"
      },
      "execution_count": null,
      "outputs": []
    }
  ]
}