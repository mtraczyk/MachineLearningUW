{
 "cells": [
  {
   "cell_type": "markdown",
   "metadata": {
    "id": "VcBEyj_kn2be"
   },
   "source": [
    "# Low-shot visual anomaly detection\n",
    "\n",
    "In this notebook you'll investigate visual anomaly detection in a typical industrial setting - we don't have much data and we can train only only normal (non-anomalous) examples.\n",
    "Read the [PADIM paper](https://arxiv.org/pdf/2011.08785.pdf) carefully.\n",
    "The code here is based on the original implementation from its authors.\n",
    "\n",
    "If you have any questions - please write them on slack in the channel.\n",
    "\n",
    "### Bibliography\n",
    "\n",
    "1. Defard, T., Setkov, A., Loesch, A., & Audigier, R. (2021). [Padim: a patch distribution modeling framework for anomaly detection and localization](https://arxiv.org/pdf/2011.08785.pdf). In International Conference on Pattern Recognition (pp. 475-489). Cham: Springer International Publishing."
   ]
  },
  {
   "cell_type": "markdown",
   "metadata": {
    "id": "oMRCbPPRn2bi"
   },
   "source": [
    "## Data\n",
    "\n",
    "In case of any problems - please visit [MVTec AD](https://www.mvtec.com/company/research/datasets/mvtec-ad/downloads) to get the access to the data."
   ]
  },
  {
   "cell_type": "code",
   "execution_count": 1,
   "metadata": {
    "id": "ictK9mfSn2bj"
   },
   "outputs": [],
   "source": [
    "%pip install --quiet gdown  # for those who don't run it on Google Colab\n",
    "!gdown -q '1r7WJeDb-E5zzgQSOx7F7bNWg8kYX3yKE'\n",
    "!gdown -q '1Kb420ygkN1iBni5Iy_-psLGNoY0gQFk9'\n",
    "!gdown -q '12wDP9I3aVIr1qLekWY3GLhQO7c6SRhGn'"
   ]
  },
  {
   "cell_type": "code",
   "execution_count": 2,
   "metadata": {
    "id": "nXCI_ciJn2bk"
   },
   "outputs": [],
   "source": [
    "from pathlib import Path\n",
    "import tarfile\n",
    "\n",
    "DATA_PATH = Path('./mvtec_anomaly_detection')\n",
    "DATA_PATH.mkdir(exist_ok=True)\n",
    "\n",
    "for class_name in ['bottle', 'metal_nut', 'transistor']:\n",
    "    if not (DATA_PATH / class_name).exists():\n",
    "        with tarfile.open(class_name + '.tar.xz') as tar:\n",
    "            tar.extractall(path=DATA_PATH)"
   ]
  },
  {
   "cell_type": "markdown",
   "metadata": {
    "id": "Vs79kPLyn2bl"
   },
   "source": [
    "## PADIM implementation"
   ]
  },
  {
   "cell_type": "code",
   "execution_count": 3,
   "metadata": {
    "id": "p4DJA9QDn2bl"
   },
   "outputs": [],
   "source": [
    "import os\n",
    "import random\n",
    "import time\n",
    "from pathlib import Path\n",
    "from random import sample\n",
    "from typing import cast, Any, Dict, List, Optional, Tuple\n",
    "\n",
    "import pandas as pd\n",
    "import matplotlib.pyplot as plt\n",
    "import numpy as np\n",
    "import torch\n",
    "import torch.backends, torch.backends.mps\n",
    "import torch.nn.functional as F\n",
    "from numpy.typing import NDArray\n",
    "from matplotlib import colors\n",
    "from PIL import Image\n",
    "from sklearn.metrics import roc_auc_score, roc_curve, precision_recall_curve\n",
    "from scipy.spatial.distance import mahalanobis\n",
    "from scipy.ndimage import gaussian_filter\n",
    "from skimage import morphology\n",
    "from skimage.segmentation import mark_boundaries\n",
    "from torch.utils.data import DataLoader, Dataset\n",
    "from torchvision.models import wide_resnet50_2, resnet18, Wide_ResNet50_2_Weights, ResNet18_Weights\n",
    "from torch import nn\n",
    "from torchvision import transforms as T\n",
    "from tqdm import tqdm\n",
    "from torch.utils.data.sampler import SubsetRandomSampler\n",
    "\n",
    "FloatNDArray = NDArray[np.float32]"
   ]
  },
  {
   "cell_type": "code",
   "execution_count": 4,
   "metadata": {
    "id": "J7_GKlLDn2bm"
   },
   "outputs": [],
   "source": [
    "# Leave it as is if you're unsure, this notebook will guess this for you below.\n",
    "DEVICE: Optional[torch.device] = None\n",
    "SEED: int = 42  # do not modify\n",
    "\n",
    "plt.style.use(\"dark_background\")"
   ]
  },
  {
   "cell_type": "code",
   "execution_count": 5,
   "metadata": {
    "id": "verBlyF8n2bm"
   },
   "outputs": [],
   "source": [
    "def seed_all(seed: int = 0) -> None:\n",
    "    random.seed(seed)\n",
    "    np.random.seed(seed)\n",
    "    torch.manual_seed(seed)\n",
    "    if torch.cuda.is_available():\n",
    "        torch.cuda.manual_seed_all(seed)\n",
    "\n",
    "\n",
    "def get_best_device_for_pytorch() -> torch.device:\n",
    "    if torch.cuda.is_available():\n",
    "        device_str = \"cuda\"     # GPU\n",
    "    elif hasattr(torch.backends, \"mps\") and torch.backends.mps.is_available():\n",
    "        device_str = \"mps\"      # Apple silicon\n",
    "    else:\n",
    "        device_str = \"cpu\"      # CPU\n",
    "    return torch.device(device_str)"
   ]
  },
  {
   "cell_type": "code",
   "execution_count": 6,
   "metadata": {
    "id": "Px80efMJn2bn",
    "outputId": "441b4307-a823-4774-8522-98fef1d52bce",
    "colab": {
     "base_uri": "https://localhost:8080/"
    }
   },
   "outputs": [
    {
     "output_type": "stream",
     "name": "stdout",
     "text": [
      "Using PyTorch with cpu backend.\n",
      "Seeded everything with 42.\n"
     ]
    }
   ],
   "source": [
    "if not DEVICE:\n",
    "    DEVICE = get_best_device_for_pytorch()\n",
    "print(f\"Using PyTorch with {DEVICE} backend.\")\n",
    "\n",
    "seed_all(SEED)\n",
    "print(f\"Seeded everything with {SEED}.\")"
   ]
  },
  {
   "cell_type": "markdown",
   "metadata": {
    "id": "sic7S3jan2bo"
   },
   "source": [
    "### MVTecDataset"
   ]
  },
  {
   "cell_type": "code",
   "execution_count": 7,
   "metadata": {
    "id": "PKNaF2OYn2bp"
   },
   "outputs": [],
   "source": [
    "class MVTecDataset(Dataset[Tuple[torch.Tensor, int, torch.Tensor]]):\n",
    "    \"\"\"MVTec dataset of industrial objects with and without anomalies.\n",
    "\n",
    "    Yields (x, y, mask) tuples where:\n",
    "    - x is an RGB image from the class, as float tensor of shape (3, cropsize, cropsize);\n",
    "    - y is an int, 0 for good images, 1 for anomalous images;\n",
    "    - mask is 0 for normal pixels, 1 for anomalous pixels, as float tensor of shape (1, cropsize, cropsize).\n",
    "\n",
    "    Source: https://github.com/xiahaifeng1995/PaDiM-Anomaly-Detection-Localization-master/blob/main/datasets/mvtec.py\n",
    "    \"\"\"\n",
    "\n",
    "    def __init__(self, dataset_path: Path, class_name: str = 'bottle',\n",
    "                 is_train: bool = True, resize: int = 256, cropsize: int = 224, return_only_indices=False):\n",
    "        self.dataset_path = dataset_path\n",
    "        self.class_name = class_name\n",
    "        assert (dataset_path / class_name).is_dir(), f'Dataset class not found: {dataset_path / class_name}'\n",
    "        self.is_train = is_train\n",
    "\n",
    "        self.resize = resize\n",
    "        self.cropsize = cropsize\n",
    "\n",
    "        # load dataset\n",
    "        self.x, self.y, self.mask = self.load_dataset_folder()\n",
    "\n",
    "        # set transforms\n",
    "        self.transform_x = T.Compose([T.Resize(resize, Image.LANCZOS),\n",
    "                                      T.CenterCrop(cropsize),\n",
    "                                      T.ToTensor(),\n",
    "                                      T.Normalize(mean=[0.485, 0.456, 0.406],\n",
    "                                                  std=[0.229, 0.224, 0.225])])\n",
    "        self.transform_mask = T.Compose([T.Resize(resize, Image.NEAREST),\n",
    "                                         T.CenterCrop(cropsize),\n",
    "                                         T.ToTensor()])\n",
    "\n",
    "        self.return_only_indices = return_only_indices\n",
    "\n",
    "    def __getitem__(self, idx: int) -> Tuple[torch.Tensor, int, torch.Tensor]:\n",
    "        if self.return_only_indices:  # Used for checking the answer of T1.1.\n",
    "            return idx\n",
    "\n",
    "        x, y, mask = self.x[idx], self.y[idx], self.mask[idx]\n",
    "\n",
    "        x = Image.open(x).convert('RGB')\n",
    "        x = cast(torch.Tensor, self.transform_x(x))\n",
    "\n",
    "        if y == 0:\n",
    "            mask = torch.zeros([1, self.cropsize, self.cropsize])\n",
    "        else:\n",
    "            assert mask is not None\n",
    "            mask = Image.open(mask)\n",
    "            mask = cast(torch.Tensor, self.transform_mask(mask))\n",
    "\n",
    "        return x, y, mask\n",
    "\n",
    "    def __len__(self) -> int:\n",
    "        return len(self.x)\n",
    "\n",
    "    def load_dataset_folder(self) -> Tuple[List[Path], List[int], List[Optional[Path]]]:\n",
    "        phase = 'train' if self.is_train else 'test'\n",
    "        x: List[Path] = []\n",
    "        y: List[int] = []\n",
    "        mask: List[Optional[Path]] = []\n",
    "\n",
    "        img_dir = self.dataset_path / self.class_name / phase\n",
    "        gt_dir = self.dataset_path / self.class_name / 'ground_truth'\n",
    "\n",
    "        for img_type_dir in sorted(img_dir.iterdir()):\n",
    "            # Load images.\n",
    "            if not img_type_dir.is_dir():\n",
    "                continue\n",
    "            img_fpath_list = sorted(img_type_dir.glob('*.png'))\n",
    "            x.extend(img_fpath_list)\n",
    "\n",
    "            # Load ground-truth labels and masks.\n",
    "            if img_type_dir.name == 'good':\n",
    "                y.extend([0] * len(img_fpath_list))\n",
    "                mask.extend([None] * len(img_fpath_list))\n",
    "            else:\n",
    "                y.extend([1] * len(img_fpath_list))\n",
    "                mask.extend([gt_dir / img_type_dir.name / (f.stem + '_mask.png')\n",
    "                            for f in img_fpath_list])\n",
    "\n",
    "        assert len(x) == len(y) == len(mask), 'Number of x, y, and mask should be the same.'\n",
    "        return x, y, mask"
   ]
  },
  {
   "cell_type": "code",
   "execution_count": 8,
   "metadata": {
    "id": "tWXFurJQn2bp"
   },
   "outputs": [],
   "source": [
    "def sample_idx(number_of_features: int, max_number_of_features: int) -> torch.Tensor:\n",
    "    assert number_of_features <= max_number_of_features\n",
    "    return torch.tensor(sample(range(0, max_number_of_features), number_of_features))\n",
    "\n",
    "\n",
    "def denormalization(x: FloatNDArray) -> NDArray[np.uint8]:\n",
    "    \"\"\"Denormalize with ImageNet values.\"\"\"\n",
    "    mean = np.array([0.485, 0.456, 0.406])\n",
    "    std = np.array([0.229, 0.224, 0.225])\n",
    "    return (((x.transpose(1, 2, 0) * std) + mean) * 255.).astype(np.uint8)\n",
    "\n",
    "\n",
    "def embedding_concat(x: torch.Tensor, y: torch.Tensor) -> torch.Tensor:\n",
    "    \"\"\"\n",
    "    Concatenate embeddings (along the channel dimension, upscaling y to match x).\n",
    "\n",
    "    Args:\n",
    "        x: Tensor of shape (B, C1, H1, W1).\n",
    "        y: Tensor of shape (B, C2, H2, W2).\n",
    "\n",
    "    Returns:\n",
    "        Tensor of shape is (B, C1 + C2, H1, W1).\n",
    "    \"\"\"\n",
    "    B, C1, H1, W1 = x.size()\n",
    "    _, C2, H2, W2 = y.size()\n",
    "    s = int(H1 / H2)\n",
    "    x = F.unfold(x, kernel_size=s, dilation=1, stride=s)\n",
    "    x = x.view(B, C1, s * s, H2, W2)\n",
    "    z = torch.zeros(B, C1 + C2, s * s, H2, W2).to(x.device)\n",
    "    for i in range(s * s):\n",
    "        z[:, :, i, :, :] = torch.cat((x[:, :, i, :, :], y), dim=1)\n",
    "    z = z.view(B, -1, H2 * W2)\n",
    "    z = F.fold(z, kernel_size=s, output_size=(H1, W1), stride=s)\n",
    "    return z\n",
    "\n",
    "def concatenate_embeddings_from_all_layers(layer_outputs: Dict[str, torch.Tensor]) -> torch.Tensor:\n",
    "        embedding_vectors = layer_outputs['layer1']\n",
    "        for layer_name in ['layer2', 'layer3']:\n",
    "            embedding_vectors = embedding_concat(embedding_vectors, layer_outputs[layer_name])\n",
    "        return embedding_vectors\n",
    "\n",
    "def plot_fig(test_img, scores, gts, threshold: float, save_dir: Path, class_name: str):\n",
    "    num = len(scores)\n",
    "    vmax = scores.max() * 255.\n",
    "    vmin = scores.min() * 255.\n",
    "    for i in range(num):\n",
    "        img = test_img[i]\n",
    "        img = denormalization(img)\n",
    "        gt = gts[i].transpose(1, 2, 0).squeeze()\n",
    "        heat_map = scores[i] * 255\n",
    "        mask = scores[i]\n",
    "        mask[mask > threshold] = 1\n",
    "        mask[mask <= threshold] = 0\n",
    "        kernel = morphology.disk(4)\n",
    "        mask = morphology.opening(mask, kernel)\n",
    "        mask *= 255\n",
    "        vis_img = mark_boundaries(img, mask, color=(1, 0, 0), mode='thick')\n",
    "        fig_img, ax_img = plt.subplots(1, 5, figsize=(12, 3))\n",
    "        fig_img.subplots_adjust(right=0.9)\n",
    "        norm = colors.Normalize(vmin=vmin, vmax=vmax)\n",
    "        for ax_i in ax_img:\n",
    "            ax_i.axes.xaxis.set_visible(False)\n",
    "            ax_i.axes.yaxis.set_visible(False)\n",
    "        ax_img[0].imshow(img)\n",
    "        ax_img[0].title.set_text('Image')\n",
    "        ax_img[1].imshow(gt, cmap='gray')\n",
    "        ax_img[1].title.set_text('GroundTruth')\n",
    "        ax = ax_img[2].imshow(heat_map, cmap='jet', norm=norm)\n",
    "        ax_img[2].imshow(img, cmap='gray', interpolation='none')\n",
    "        ax_img[2].imshow(heat_map, cmap='jet', alpha=0.5, interpolation='none')\n",
    "        ax_img[2].title.set_text('Predicted heat map')\n",
    "        ax_img[3].imshow(mask, cmap='gray')\n",
    "        ax_img[3].title.set_text('Predicted mask')\n",
    "        ax_img[4].imshow(vis_img)\n",
    "        ax_img[4].title.set_text('Segmentation result')\n",
    "        left = 0.92\n",
    "        bottom = 0.15\n",
    "        width = 0.015\n",
    "        height = 1 - 2 * bottom\n",
    "        rect = [left, bottom, width, height]\n",
    "        cbar_ax = fig_img.add_axes(rect)\n",
    "        cb = plt.colorbar(ax, shrink=0.6, cax=cbar_ax, fraction=0.046)\n",
    "        cb.ax.tick_params(labelsize=8)\n",
    "        font = {\n",
    "            'family': 'serif',\n",
    "            'color': 'black',\n",
    "            'weight': 'normal',\n",
    "            'size': 8,\n",
    "        }\n",
    "        cb.set_label('Anomaly Score', fontdict=font)\n",
    "\n",
    "        fig_img.savefig(save_dir / f'{class_name}_{i}', dpi=100)\n",
    "        plt.close()"
   ]
  },
  {
   "cell_type": "code",
   "execution_count": 9,
   "metadata": {
    "id": "zXkGU5FDn2bq"
   },
   "outputs": [],
   "source": [
    "def get_feature_extractor(arch: str) -> nn.Module:\n",
    "    if arch == 'resnet18':\n",
    "        model = resnet18(weights=ResNet18_Weights.IMAGENET1K_V1, progress=True)\n",
    "        # t_d = 448\n",
    "        # d = 40\n",
    "    elif arch == 'wide_resnet50_2':\n",
    "        model = wide_resnet50_2(weights=Wide_ResNet50_2_Weights.IMAGENET1K_V1, progress=True)\n",
    "        # t_d = 1792\n",
    "        # d = 550\n",
    "    else:\n",
    "        raise NotImplementedError\n",
    "    return model"
   ]
  },
  {
   "cell_type": "markdown",
   "metadata": {
    "id": "dmm1yui_n2bq"
   },
   "source": [
    "### PADIM class"
   ]
  },
  {
   "cell_type": "code",
   "execution_count": 10,
   "metadata": {
    "id": "7MmcbTBPn2bq"
   },
   "outputs": [],
   "source": [
    "class PADIM():\n",
    "\n",
    "    def __init__(\n",
    "            self,\n",
    "            backbone: str,\n",
    "            device: torch.device,\n",
    "            save_path: Path,\n",
    "            backbone_features_idx: torch.Tensor,\n",
    "            class_names: List[str] = [\"bottle\"],\n",
    "            plot_metrics: bool = False,\n",
    "    ) -> None:\n",
    "        self.arch = backbone\n",
    "        self.device = device\n",
    "        self.model = get_feature_extractor(backbone)\n",
    "        self.model.to(device)\n",
    "        self.model.eval()\n",
    "\n",
    "        self.feature_subset_indices = backbone_features_idx\n",
    "        self.feature_subset_indices.to(device)\n",
    "\n",
    "        self.outputs: Dict[str, torch.Tensor] = {}\n",
    "\n",
    "        self.class_names = class_names\n",
    "        self.save_path = save_path\n",
    "        self.plot_metrics = plot_metrics\n",
    "\n",
    "        self.setup_hooks()\n",
    "        (self.save_path / f'temp_{self.arch}').mkdir(parents=True, exist_ok=True)\n",
    "\n",
    "        self.mean: FloatNDArray  # shape (C, H * W)\n",
    "        self.cov: FloatNDArray  # shape (C, C, H * W)\n",
    "\n",
    "    def setup_hooks(self):\n",
    "        \"\"\"Setup hooks to store model's intermediate outputs.\"\"\"\n",
    "        self.model.layer1[-1].register_forward_hook(lambda _, __, x: self.outputs.update({'layer1': x}))\n",
    "        self.model.layer2[-1].register_forward_hook(lambda _, __, x: self.outputs.update({'layer2': x}))\n",
    "        self.model.layer3[-1].register_forward_hook(lambda _, __, x: self.outputs.update({'layer3': x}))\n",
    "\n",
    "    def train_and_test(self, train_dataloader: DataLoader, test_dataloader: DataLoader) -> float:\n",
    "        self.train(train_dataloader)\n",
    "        return self.test(test_dataloader)\n",
    "\n",
    "    def train(self, train_dataloader: DataLoader) -> None:\n",
    "        self.train_outputs: Dict[str, List[torch.Tensor]] = {'layer1': [], 'layer2': [], 'layer3': []}\n",
    "        for x, _, _ in tqdm(train_dataloader, desc='Feature extraction (train)'):\n",
    "            # Run model prediction.\n",
    "            with torch.no_grad():\n",
    "                _ = self.model(x.to(DEVICE))\n",
    "            # Get intermediate layer outputs.\n",
    "            assert list(self.outputs.keys())  == ['layer1', 'layer2', 'layer3'], list(self.outputs.keys())\n",
    "            for k, v in self.outputs.items():\n",
    "                self.train_outputs[k].append(v.cpu().detach())\n",
    "            # Reset hook outputs.\n",
    "            self.outputs = {}\n",
    "\n",
    "        embedding_vectors = concatenate_embeddings_from_all_layers(\n",
    "            {k: torch.cat(v, 0) for k, v in self.train_outputs.items()})\n",
    "        embedding_vectors_subset = torch.index_select(embedding_vectors, 1, self.feature_subset_indices.cpu())\n",
    "\n",
    "        self.mean, self.cov = self.estimate_multivariate_gaussian(embedding_vectors_subset)\n",
    "        del(self.train_outputs)\n",
    "\n",
    "    def estimate_multivariate_gaussian(self, embedding_vectors: torch.Tensor\n",
    "                                       ) -> Tuple[FloatNDArray, FloatNDArray]:\n",
    "        \"\"\"Calculates multivariate Gaussian distribution.\n",
    "\n",
    "        Takes embeddings of shape (N, C, H, W).\n",
    "        Returns (mean, covariance) of shape (C, H * W) and (C, C, H * W) respectively.\n",
    "        \"\"\"\n",
    "        B, C, H, W = embedding_vectors.size()\n",
    "        embedding_vectors = embedding_vectors.view(B, C, H * W)\n",
    "        mean = torch.mean(embedding_vectors, dim=0).numpy()\n",
    "        cov = torch.zeros(C, C, H * W).numpy()\n",
    "        I = np.identity(C)\n",
    "        for i in tqdm(range(H * W), desc=\"Covariance estimation\"):\n",
    "            cov[:, :, i] = np.cov(embedding_vectors[:, :, i].numpy(), rowvar=False) + 0.01 * I\n",
    "        return mean, cov\n",
    "\n",
    "    def test(self, test_dataloader: DataLoader, feature_to_permute=None) -> float:\n",
    "        self.test_outputs: Dict[str, List[torch.Tensor]] = {'layer1': [], 'layer2': [], 'layer3': []}\n",
    "        test_imgs: List[FloatNDArray] = []\n",
    "        gt_list: List[NDArray[Any]] = []\n",
    "        gt_mask_list: List[FloatNDArray] = []\n",
    "\n",
    "        # Extract test set features.\n",
    "        for x, y, mask in tqdm(test_dataloader, desc='Feature extraction (test)', disable=False):\n",
    "            x_shape = x.shape\n",
    "            test_imgs.extend(x.cpu().detach().numpy())\n",
    "            gt_list.extend(y.cpu().detach().numpy())\n",
    "            gt_mask_list.extend(mask.cpu().detach().numpy())\n",
    "            # Run model prediction.\n",
    "            with torch.no_grad():\n",
    "                _ = self.model(x.to(DEVICE))\n",
    "            # Get intermediate layer outputs.\n",
    "            assert list(self.outputs.keys())  == ['layer1', 'layer2', 'layer3']\n",
    "            for k, v in self.outputs.items():\n",
    "                self.test_outputs[k].append(v.cpu().detach())\n",
    "            # Reset hook outputs.\n",
    "            self.outputs = {}\n",
    "        gt_mask = np.asarray(gt_mask_list)  # shape (len(test_dataset), 1, H, W)\n",
    "\n",
    "        embedding_vectors = concatenate_embeddings_from_all_layers(\n",
    "            {k: torch.cat(v, 0) for k, v in self.test_outputs.items()})\n",
    "        # shape (len(test_dataset), len(feature_subset_indices), H1, W1)\n",
    "        embedding_vectors_subset = torch.index_select(embedding_vectors, 1, self.feature_subset_indices.cpu())\n",
    "\n",
    "        if feature_to_permute is not None:\n",
    "            embedding_vectors_subset = self.permute_feature(embedding_vectors_subset, feature_to_permute)\n",
    "\n",
    "        distances = self.calculate_distances(embedding_vectors_subset)\n",
    "        score_map = self.prepare_anomaly_map((x_shape[2], x_shape[3]), distances)\n",
    "\n",
    "        img_fpr, img_tpr, img_auroc = self.calculate_auroc_image_level(score_map, gt_list)\n",
    "        pxl_fpr, pxl_tpr, pxl_auroc = self.calculate_auroc_pixel_level(score_map, gt_mask)\n",
    "\n",
    "        if self.plot_metrics:\n",
    "            print(f'[TEST] Image AUROC: {img_auroc:.3f}')\n",
    "            print(f'[TEST] Pixel AUROC: {pxl_auroc:.3f}')\n",
    "            threshold = self.calculate_optimal_threshold(score_map, gt_mask)\n",
    "            self.plot_test_results_for_class(gt_mask_list, test_imgs, score_map, threshold, img_fpr, img_tpr, img_auroc, pxl_fpr, pxl_tpr, pxl_auroc)\n",
    "\n",
    "        return pxl_auroc\n",
    "\n",
    "    # TODO: Some of your code for Task 1 goes here. You can add more functions if needed, but use the ones below - we will use them for checking your solution.\n",
    "    def test_permutation_importance(self, val_dataloader: DataLoader, features_to_permute: List[int]) -> List[float]:\n",
    "        \"\"\"Runs a series of tests on `val_dataloader`.\n",
    "        Returns a list of pixelwise AUROCs, where the n-th element of the list is generated by testing the embeddings from `permute_feature(embeddings, n).\"\"\"\n",
    "        return [self.test(val_dataloader, f) for f in features_to_permute]\n",
    "\n",
    "    def permute_feature(self, embedding_vectors_subset: torch.Tensor, number_of_feature_to_permute: int) -> torch.Tensor:\n",
    "        \"\"\"Permutes the embeddings.\n",
    "\n",
    "        Takes embeddings of shape (N, C, H, W) and feature number to permute.\n",
    "        Returns embeddings with the same shape. See the description of T1 for the details.\n",
    "        \"\"\"\n",
    "        permuted_embeddings = embedding_vectors_subset.clone()\n",
    "        cur_h_permutation = np.arange(embedding_vectors_subset.shape[2])\n",
    "        cur_w_permutation = np.arange(embedding_vectors_subset.shape[3])\n",
    "        for i in range(embedding_vectors_subset.shape[0]):\n",
    "            if not self.next_permutation(cur_w_permutation):\n",
    "                self.next_permutation(cur_h_permutation)\n",
    "                cur_w_permutation = np.arange(embedding_vectors_subset.shape[3])\n",
    "            permuted_embeddings[i, number_of_feature_to_permute, :, :] = permuted_embeddings[i, number_of_feature_to_permute, cur_h_permutation, cur_w_permutation]\n",
    "        return permuted_embeddings\n",
    "\n",
    "    @staticmethod\n",
    "    def next_permutation(a) -> bool:\n",
    "        \"\"\"Generates the next permutation of the give array in place.\n",
    "        Returns True if the next permutation was generated, False otherwise.\n",
    "        \"\"\"\n",
    "        i = len(a) - 2\n",
    "        while not (i < 0 or a[i] < a[i+1]):\n",
    "            i -= 1\n",
    "        if i < 0:\n",
    "            return False\n",
    "        j = len(a) - 1\n",
    "        while not (a[j] > a[i]):\n",
    "            j -= 1\n",
    "        a[i], a[j] = a[j], a[i]\n",
    "        a[i+1:] = reversed(a[i+1:])\n",
    "\n",
    "        return True\n",
    "\n",
    "    # TODO: End of your code for Task 1 (here)\n",
    "\n",
    "    def plot_test_results_for_class(self, gt_mask_list, test_imgs,\n",
    "                                    score_map, threshold: float,\n",
    "                                    img_fpr, img_tpr, img_auroc: float,\n",
    "                                    pxl_fpr, pxl_tpr, pxl_auroc: float):\n",
    "        _, ax = plt.subplots(1, 2, figsize=(8, 4))\n",
    "        ax[0].plot(img_fpr, img_tpr, label=f'Image AUROC: {img_auroc:.3f}')\n",
    "        ax[1].plot(pxl_fpr, pxl_tpr, label=f'Pixel AUROC: {pxl_auroc:.3f}')\n",
    "\n",
    "        save_dir = self.save_path / f'pictures_{self.arch}'\n",
    "        save_dir.mkdir(parents=True, exist_ok=True)\n",
    "        plot_fig(test_imgs, score_map, gt_mask_list,\n",
    "                 threshold, save_dir, \"\")\n",
    "\n",
    "    def calculate_auroc_image_level(self, score_map: FloatNDArray, gt_list: List[NDArray[Any]]) -> Tuple[FloatNDArray, FloatNDArray, float]:\n",
    "        \"\"\"Calculate image-level AUROC score.\"\"\"\n",
    "        img_scores = score_map.reshape(score_map.shape[0], -1).max(axis=1)\n",
    "        fpr, tpr, _ = roc_curve(gt_list, img_scores)  # false-positive-rates and true-positive-rates for consecutive thresholds (for plotting).\n",
    "        img_auroc = roc_auc_score(gt_list, img_scores)\n",
    "        return fpr, tpr, float(img_auroc)\n",
    "\n",
    "    def calculate_auroc_pixel_level(self, score_map: FloatNDArray, gt_mask: FloatNDArray) -> Tuple[FloatNDArray, FloatNDArray, float]:\n",
    "        \"\"\"Calculate per-pixel level AUROC.\"\"\"\n",
    "        assert score_map.shape == gt_mask.squeeze().shape, f\"{score_map.shape=}, {gt_mask.shape=}\"\n",
    "        fpr, tpr, _ = roc_curve(gt_mask.flatten(), score_map.flatten())\n",
    "        per_pixel_auroc = roc_auc_score(gt_mask.flatten(), score_map.flatten())\n",
    "        return fpr, tpr, float(per_pixel_auroc)\n",
    "\n",
    "    def calculate_optimal_threshold(self, score_map: FloatNDArray, gt_mask: FloatNDArray) -> float:\n",
    "        \"\"\"Calculate the optimal threshold with regard to F1 score.\"\"\"\n",
    "        assert score_map.shape == gt_mask.squeeze().shape\n",
    "        precision, recall, thresholds = precision_recall_curve(\n",
    "            gt_mask.flatten(), score_map.flatten())\n",
    "        a = 2 * precision * recall\n",
    "        b = precision + recall\n",
    "        f1 = np.divide(a, b, out=np.zeros_like(a), where=(b != 0))\n",
    "        threshold = thresholds[np.argmax(f1)]\n",
    "        return threshold\n",
    "\n",
    "    def calculate_distances(self, embedding_vectors: torch.Tensor) -> FloatNDArray:\n",
    "        \"\"\"Calculate Mahalanobis distance of each embedding vector from self.mean.\n",
    "\n",
    "        For embeddings of shape (N, C, H, W), returns shape (N, H, W).\n",
    "        \"\"\"\n",
    "        B, C, H, W = embedding_vectors.size()\n",
    "        embedding_vectors = embedding_vectors.view(B, C, H * W).numpy()\n",
    "        dist_list: List[List[np.float64]] = []\n",
    "        for i in range(H * W):\n",
    "            mean = self.mean[:, i]\n",
    "            conv_inv = np.linalg.inv(self.cov[:, :, i])\n",
    "            dist = [mahalanobis(sample[:, i], mean, conv_inv)\n",
    "                    for sample in embedding_vectors]\n",
    "            dist_list.append(dist)\n",
    "\n",
    "        return np.array(dist_list).transpose(1, 0).reshape(B, H, W)\n",
    "\n",
    "    def prepare_anomaly_map(self, shape: Tuple[int, int], distances: FloatNDArray) -> FloatNDArray:\n",
    "        \"\"\"Upsample distances to `shape`, apply Gaussian smoothing, and normalize to [0,1].\n",
    "\n",
    "        For distances of shape (N, H, W) and `shape` equal to (H2, W2), returns shape (N, H2, W2).\n",
    "        \"\"\"\n",
    "        dists = torch.Tensor(distances).unsqueeze(1)\n",
    "        shape = (dists.shape[0],) + shape\n",
    "        score_map = cast(FloatNDArray, F.interpolate(\n",
    "            dists, size=shape[2], mode='bilinear', align_corners=False).squeeze().numpy())\n",
    "        for i in range(score_map.shape[0]):\n",
    "            score_map[i] = gaussian_filter(score_map[i], sigma=4)\n",
    "\n",
    "        min_score, max_score = score_map.min(), score_map.max()\n",
    "        return (score_map - min_score) / (max_score - min_score + 1e-10)"
   ]
  },
  {
   "cell_type": "markdown",
   "metadata": {
    "id": "w8U69WCBn2br"
   },
   "source": [
    "### Let's see whether it works.\n",
    "Take a look to the `SAVE_PATH` to inspect the results."
   ]
  },
  {
   "cell_type": "code",
   "execution_count": 11,
   "metadata": {
    "id": "-3nst_6Tn2br",
    "outputId": "86c9a2d3-decd-49e8-fbd8-bf315eb9197a",
    "colab": {
     "base_uri": "https://localhost:8080/",
     "height": 511
    }
   },
   "outputs": [
    {
     "output_type": "stream",
     "name": "stdout",
     "text": [
      "========== bottle\n"
     ]
    },
    {
     "output_type": "stream",
     "name": "stderr",
     "text": [
      "Downloading: \"https://download.pytorch.org/models/resnet18-f37072fd.pth\" to /root/.cache/torch/hub/checkpoints/resnet18-f37072fd.pth\n",
      "100%|██████████| 44.7M/44.7M [00:00<00:00, 50.3MB/s]\n",
      "Feature extraction (train): 100%|██████████| 105/105 [00:37<00:00,  2.79it/s]\n",
      "Covariance estimation: 100%|██████████| 3136/3136 [00:01<00:00, 1922.65it/s]\n",
      "Feature extraction (test): 100%|██████████| 42/42 [00:11<00:00,  3.81it/s]\n"
     ]
    },
    {
     "output_type": "stream",
     "name": "stdout",
     "text": [
      "[TEST] Image AUROC: 0.998\n",
      "[TEST] Pixel AUROC: 0.981\n"
     ]
    },
    {
     "output_type": "display_data",
     "data": {
      "text/plain": [
       "<Figure size 800x400 with 2 Axes>"
      ],
      "image/png": "[encoded data removed]"
     },
     "metadata": {}
    }
   ],
   "source": [
    "seed_all(SEED)\n",
    "CLASS_NAMES = [\n",
    "            'bottle', #'metal_nut'\n",
    "            # 'cable', 'capsule', 'carpet', 'grid', 'hazelnut', 'leather',\n",
    "            # 'pill', 'screw', 'tile', 'toothbrush', 'transistor', 'wood', 'zipper'\n",
    "        ]\n",
    "BATCH_SIZE = 2\n",
    "RESIZE = 256 * 1\n",
    "CROP_SIZE = 224 * 1\n",
    "BACKBONE = \"resnet18\"\n",
    "NUMBER_OF_BACKBONE_FEATURES = 50\n",
    "MAX_NUMBER_OF_BACKBONE_FEATURES = 448\n",
    "\n",
    "run_timestamp = time.time()\n",
    "for class_name in CLASS_NAMES:\n",
    "    print('=' * 10, class_name)\n",
    "    SAVE_PATH = Path(f\"./results/{run_timestamp}/{class_name}\")\n",
    "\n",
    "    train_dataset = MVTecDataset(DATA_PATH, class_name=class_name, is_train=True, resize=RESIZE, cropsize=CROP_SIZE)\n",
    "    train_dataloader = DataLoader(train_dataset, batch_size=BATCH_SIZE, pin_memory=True)\n",
    "    test_dataset = MVTecDataset(DATA_PATH, class_name=class_name, is_train=False, resize=RESIZE, cropsize=CROP_SIZE)\n",
    "    test_dataloader = DataLoader(test_dataset, batch_size=BATCH_SIZE, pin_memory=True)\n",
    "\n",
    "    padim = PADIM(\n",
    "        backbone=BACKBONE,\n",
    "        device=DEVICE,\n",
    "        backbone_features_idx=sample_idx(NUMBER_OF_BACKBONE_FEATURES, MAX_NUMBER_OF_BACKBONE_FEATURES),\n",
    "        save_path=SAVE_PATH,\n",
    "        plot_metrics=True,\n",
    "    )\n",
    "\n",
    "    padim.train_and_test(\n",
    "        train_dataloader=train_dataloader,\n",
    "        test_dataloader=test_dataloader,\n",
    "    )"
   ]
  },
  {
   "cell_type": "markdown",
   "metadata": {
    "id": "Te-DtC2kn2br"
   },
   "source": [
    "# Task 1. Finding the right features (40%)\n",
    "\n",
    "The authors of the paper argue that it doesn't really matter how we choose a subset of features. Let's make some steps towards exploring whether it's true for three different classes (`bottle`, `transistor`, `metal_nut`).\n",
    "Design an experiment which will rank the ResNet18 features by its importance. To do so, we'll implement our variation of [permutation feature importance](https://scikit-learn.org/stable/modules/permutation_importance.html#outline-of-the-permutation-importance-algorithm) on a subset of features produced by the backbone.\n",
    "\n",
    "## 1.1 Preparing the data\n",
    "- Using the test dataset, create `val_dataloader` (every even sample from the original test dataset) and `test_dataloader` (every odd sample). `SubsetRandomSampler` might be handy here.\n",
    "- Then, create 3-fold cross validation-like process in which you'll train PADIM on the first 100 ResNet features in three equally sized subsets of train dataset in which you discard 1/3 of the data ($\\texttt{padim.train}(\\texttt{train\\_dataloader}_k)$) (see below). Again, `SubsetRandomSampler` might be handy here.\n",
    "\n",
    "In other words, you should have:\n",
    "\n",
    "- for $k=0$, the first 10 images indexes from the train dataset we should train on are `[1, 2, 4, 5, 7, 8, 10, 11, 13, 14]`,\n",
    "- for $k=1$, that's `[0, 2, 3, 5, 6, 8, 9, 11, 12, 14]`,\n",
    "- and for $k=2$, that's `[0, 1, 3, 4, 6, 7, 9, 10, 12, 13]`.\n",
    "\n",
    "For val and train, you should have `[0, 2, 4, ...]` and `[1, 3, 5, ...]` respectively (from the test dataset).\n",
    "\n",
    "Don't worry about the sampling order.\n",
    "Use these names for DataLoaders `val_dataloader`, `test_dataloader`. For k-fold training, store dataloaders in `train_dataloaders: List[DataLoader]`, where each element represent different $k$.\n",
    "For each class, store the results in `dataloaders` dictionary (defined below) - we will use this to check your solution.\n",
    "\n",
    "## 1.2 Calculating the importances\n",
    "- In a given fold, each $j$-th feature shall be ranked based on the pixel-wise AUROC difference between the output of that model ($s_{k} \\leftarrow \\texttt{padim.test}(\\texttt{val\\_dataloader})$) and the output with the model with permuted $j$-th feature ($s_{k, j} \\leftarrow \\texttt{padim.test}(\\texttt{val\\_dataloader, feature\\_to\\_permute=}j)$). See also `test_permutation_importance` method stub above.\n",
    "- Implement `permute_feature` method as follows: given the tensor with embeddings with shape `[B, C, H, W]`, by permutation of the $j$-th feature we mean randomly swapped values for $C=j$. The order of swapping shall be **different** for every image. In other words, for every image $b$ and feature $j$ you need to shuffle the last two dimensions (marked as stars in `[b, j, *, *]`) in an unique manner.\n",
    "- Then, calculate the mean importance $i$ averaged on these folds and plot weights importance for the class ($i_j \\leftarrow s_k -  \\frac{1}{K} \\sum_{k} s_{k, j}$, where $K$ is the number of folds).\n",
    "- Append results in `results` dictionary, where keys are class names and values are the lists of averaged feature importances (from feature 0 to feature 99).\n",
    "\n",
    "## 1.3 Drawing conclusions\n",
    "\n",
    "- Finally, for every class train three models on the full training data and evaluate it on the `test_dataloader`. The first model shall use the first 10 features, the second shall use worst 10 features (in terms of feature importance), and the third shall contain the best 10 features.\n",
    "- Write your conclusions (with the things enlisted below in mind). Simply plotting charts or outputting logs without any comment doesn't qualify as an answer to a question.\n",
    "\n",
    "Note 1: Limit yourself to the first 100 features of ResNet18. If you want, you can go with all of available features instead of 100, but it'll take some time to calculate. Converting parts of the code to PyTorch and running on GPU might change a lot here, but this is not evaluated in this exercise. This experiment can be calculated without GPU in less than one hour anyway.\n",
    "\n",
    "Note 2: If you'd like to be fully covered, one needs to explore if the features are correlated, as this might bias the results of feature importance calculations. However, this is not evaluated in this task for the sake of simplicity (that is, examining the 100 first features without worrying about correlated features are enough to get 100% from this task)."
   ]
  },
  {
   "cell_type": "code",
   "execution_count": 12,
   "metadata": {
    "id": "eQbbqdUUn2bs"
   },
   "outputs": [],
   "source": [
    "# do not modify\n",
    "CLASS_NAMES = ['bottle', 'transistor', 'metal_nut']\n",
    "\n",
    "BATCH_SIZE = 1\n",
    "RESIZE = 256 * 2 // 4\n",
    "CROP_SIZE = 224 * 2 // 4\n",
    "BACKBONE = \"resnet18\"\n",
    "NUMBER_OF_BACKBONE_FEATURES = 10\n",
    "MAX_NUMBER_OF_BACKBONE_FEATURES = 100  # 448\n",
    "folds = 3"
   ]
  },
  {
   "cell_type": "code",
   "execution_count": 13,
   "metadata": {
    "id": "ob7MCoX7n2bs",
    "colab": {
     "base_uri": "https://localhost:8080/"
    },
    "outputId": "016cc6eb-53d7-4242-850f-de23e91c8062"
   },
   "outputs": [
    {
     "output_type": "stream",
     "name": "stdout",
     "text": [
      "1701878297.8969097\n"
     ]
    }
   ],
   "source": [
    "seed_all(SEED)\n",
    "results = {c: [0] * MAX_NUMBER_OF_BACKBONE_FEATURES for c in CLASS_NAMES}\n",
    "\n",
    "run_timestamp = time.time()\n",
    "print(f\"{run_timestamp}\")\n",
    "\n",
    "idx_all_fatures = torch.Tensor(range(MAX_NUMBER_OF_BACKBONE_FEATURES)).int()\n",
    "idx_first_n_features = torch.Tensor(range(NUMBER_OF_BACKBONE_FEATURES)).int()\n",
    "\n",
    "dataloaders = {c: {\"val_dataloader\": None, \"test_dataloader\": None, \"train_dataloaders\": None} for c in CLASS_NAMES}\n",
    "\n",
    "# TODO: Your code for T1.1, T1.2, and T1.3 goes below. Don't forget to write `test_permutation_importance` and `permute_feature` above in the PADIM code."
   ]
  },
  {
   "cell_type": "code",
   "execution_count": 14,
   "metadata": {
    "id": "yCPlawC5n2bs",
    "colab": {
     "base_uri": "https://localhost:8080/",
     "height": 482
    },
    "outputId": "a5ed0571-5e2e-4262-c5a4-73a157366355"
   },
   "outputs": [
    {
     "output_type": "stream",
     "name": "stdout",
     "text": [
      "[0, 63, 73, 72, 71, 70, 69, 68, 67, 66]\n",
      "[0, 72, 71, 70, 69, 68, 67, 66, 65, 64]\n",
      "[0, 63, 73, 72, 71, 70, 69, 68, 67, 66]\n",
      "[0, 72, 71, 70, 69, 68, 67, 66, 65, 64]\n",
      "[0, 63, 73, 72, 71, 70, 69, 68, 67, 66]\n",
      "[0, 72, 71, 70, 69, 68, 67, 66, 65, 64]\n"
     ]
    },
    {
     "output_type": "error",
     "ename": "AttributeError",
     "evalue": "ignored",
     "traceback": [
      "\u001B[0;31m---------------------------------------------------------------------------\u001B[0m",
      "\u001B[0;31mAttributeError\u001B[0m                            Traceback (most recent call last)",
      "\u001B[0;32m<ipython-input-14-af7169607d7f>\u001B[0m in \u001B[0;36m<cell line: 13>\u001B[0;34m()\u001B[0m\n\u001B[1;32m     12\u001B[0m \u001B[0;34m\u001B[0m\u001B[0m\n\u001B[1;32m     13\u001B[0m \u001B[0;32mfor\u001B[0m \u001B[0mc\u001B[0m \u001B[0;32min\u001B[0m \u001B[0mCLASS_NAMES\u001B[0m\u001B[0;34m:\u001B[0m\u001B[0;34m\u001B[0m\u001B[0;34m\u001B[0m\u001B[0m\n\u001B[0;32m---> 14\u001B[0;31m     \u001B[0mprint\u001B[0m\u001B[0;34m(\u001B[0m\u001B[0mget_sorted_indices\u001B[0m\u001B[0;34m(\u001B[0m\u001B[0mdataloaders\u001B[0m\u001B[0;34m[\u001B[0m\u001B[0mc\u001B[0m\u001B[0;34m]\u001B[0m\u001B[0;34m[\u001B[0m\u001B[0;34m\"val_dataloader\"\u001B[0m\u001B[0;34m]\u001B[0m\u001B[0;34m)\u001B[0m\u001B[0;34m)\u001B[0m\u001B[0;34m\u001B[0m\u001B[0;34m\u001B[0m\u001B[0m\n\u001B[0m\u001B[1;32m     15\u001B[0m     \u001B[0mprint\u001B[0m\u001B[0;34m(\u001B[0m\u001B[0mget_sorted_indices\u001B[0m\u001B[0;34m(\u001B[0m\u001B[0mdataloaders\u001B[0m\u001B[0;34m[\u001B[0m\u001B[0mc\u001B[0m\u001B[0;34m]\u001B[0m\u001B[0;34m[\u001B[0m\u001B[0;34m\"test_dataloader\"\u001B[0m\u001B[0;34m]\u001B[0m\u001B[0;34m)\u001B[0m\u001B[0;34m)\u001B[0m\u001B[0;34m\u001B[0m\u001B[0;34m\u001B[0m\u001B[0m\n\u001B[1;32m     16\u001B[0m     \u001B[0;32mfor\u001B[0m \u001B[0mv\u001B[0m \u001B[0;32min\u001B[0m \u001B[0mdataloaders\u001B[0m\u001B[0;34m[\u001B[0m\u001B[0mc\u001B[0m\u001B[0;34m]\u001B[0m\u001B[0;34m[\u001B[0m\u001B[0;34m\"train_dataloaders\"\u001B[0m\u001B[0;34m]\u001B[0m\u001B[0;34m:\u001B[0m\u001B[0;34m\u001B[0m\u001B[0;34m\u001B[0m\u001B[0m\n",
      "\u001B[0;32m<ipython-input-14-af7169607d7f>\u001B[0m in \u001B[0;36mget_sorted_indices\u001B[0;34m(loader)\u001B[0m\n\u001B[1;32m      6\u001B[0m \u001B[0;34m\u001B[0m\u001B[0m\n\u001B[1;32m      7\u001B[0m \u001B[0;32mdef\u001B[0m \u001B[0mget_sorted_indices\u001B[0m\u001B[0;34m(\u001B[0m\u001B[0mloader\u001B[0m\u001B[0;34m)\u001B[0m\u001B[0;34m:\u001B[0m\u001B[0;34m\u001B[0m\u001B[0;34m\u001B[0m\u001B[0m\n\u001B[0;32m----> 8\u001B[0;31m     \u001B[0mloader\u001B[0m\u001B[0;34m.\u001B[0m\u001B[0mdataset\u001B[0m\u001B[0;34m.\u001B[0m\u001B[0mreturn_only_indices\u001B[0m \u001B[0;34m=\u001B[0m \u001B[0;32mTrue\u001B[0m\u001B[0;34m\u001B[0m\u001B[0;34m\u001B[0m\u001B[0m\n\u001B[0m\u001B[1;32m      9\u001B[0m     \u001B[0mindices\u001B[0m \u001B[0;34m=\u001B[0m \u001B[0msorted\u001B[0m\u001B[0;34m(\u001B[0m\u001B[0;34m[\u001B[0m\u001B[0mx\u001B[0m\u001B[0;34m.\u001B[0m\u001B[0mitem\u001B[0m\u001B[0;34m(\u001B[0m\u001B[0;34m)\u001B[0m \u001B[0;32mfor\u001B[0m \u001B[0mx\u001B[0m \u001B[0;32min\u001B[0m \u001B[0mloader\u001B[0m\u001B[0;34m]\u001B[0m\u001B[0;34m)\u001B[0m\u001B[0;34m\u001B[0m\u001B[0;34m\u001B[0m\u001B[0m\n\u001B[1;32m     10\u001B[0m     \u001B[0mloader\u001B[0m\u001B[0;34m.\u001B[0m\u001B[0mdataset\u001B[0m\u001B[0;34m.\u001B[0m\u001B[0mreturn_only_indices\u001B[0m \u001B[0;34m=\u001B[0m \u001B[0;32mFalse\u001B[0m\u001B[0;34m\u001B[0m\u001B[0;34m\u001B[0m\u001B[0m\n",
      "\u001B[0;31mAttributeError\u001B[0m: 'NoneType' object has no attribute 'dataset'"
     ]
    }
   ],
   "source": [
    "# Run at the end, but do not modify - we will use this to asses your output.\n",
    "for c in CLASS_NAMES:\n",
    "    s = pd.Series(results[c])\n",
    "    print(s.sort_values(ascending=False)[:10].index.tolist())\n",
    "    print(s.sort_values(ascending=True)[:10].index.tolist())\n",
    "\n",
    "def get_sorted_indices(loader):\n",
    "    loader.dataset.return_only_indices = True\n",
    "    indices = sorted([x.item() for x in loader])\n",
    "    loader.dataset.return_only_indices = False\n",
    "    return indices\n",
    "\n",
    "for c in CLASS_NAMES:\n",
    "    print(get_sorted_indices(dataloaders[c][\"val_dataloader\"]))\n",
    "    print(get_sorted_indices(dataloaders[c][\"test_dataloader\"]))\n",
    "    for v in dataloaders[c][\"train_dataloaders\"]:\n",
    "        print(get_sorted_indices(v))"
   ]
  },
  {
   "cell_type": "markdown",
   "metadata": {
    "id": "ojJ0TBiHn2bs"
   },
   "source": [
    "# Task 2. Improving PADIM with Online Covariance Estimation\n",
    "\n",
    "This implementation of PADIM can be improved in numerous ways. In this exercise, you'll try to indicate its shortcomings and provide some means to mitigate them.\n",
    "\n",
    "#### 2.1. PADIM's training complexity (15%)\n",
    "\n",
    "- Identify the key operations contributing to the algorithm's training space complexity *in this implementation*. Don't focus on the backbone, as it is not the part of the algorithm (however, its output is).\n",
    "- Shortly discuss the implications for scalability. You can support your claims by charts if needed.\n",
    "\n",
    "*Hint: this doesn't need to be super formal analysis - it's about fiding the \"worst\" parts of this implementation. You can support your claims with a chart and brief description (e.g. \"X dominates the complexity, as it's quadratic.\")*"
   ]
  },
  {
   "cell_type": "markdown",
   "metadata": {
    "id": "w45IcUWqn2bs"
   },
   "source": [
    "```Your answer to task 2.1 goes here```"
   ]
  },
  {
   "cell_type": "code",
   "execution_count": null,
   "metadata": {
    "id": "ehQX21uyn2bs"
   },
   "outputs": [],
   "source": [
    "# Your code goes here (if needed)"
   ]
  },
  {
   "cell_type": "markdown",
   "metadata": {
    "id": "gHnjBH3Bn2bs"
   },
   "source": [
    "#### 2.2 Online mean and covariance (35%)\n",
    "Implement a PyTorch version of [online covariance matrix estimation](https://en.wikipedia.org/wiki/Algorithms_for_calculating_variance#Online) in the training as an alternative to the current method in PADIM.\n",
    "Calculate the mean in an online fashion as well.\n",
    "Your implementation shall run on the selected `torch.device` (such as GPU).\n",
    "No need to reimplement the testing routine to online in this exercise (although it'd be nice to have for Task 1), albeit small changes might be necessary (such as conversion from `torch.Tensor` to `np.ndarray`).\n",
    "\n",
    "Passing criteria:\n",
    "```python\n",
    "torch.allclose(padim_online.mean, torch.Tensor(padim_offline.mean).to(DEVICE), atol=0.01)\n",
    "torch.allclose(padim_online.cov, torch.Tensor(padim_offline.cov).to(DEVICE), atol=0.01)\n",
    "```\n"
   ]
  },
  {
   "cell_type": "code",
   "execution_count": null,
   "metadata": {
    "id": "vOuXfaNon2bt"
   },
   "outputs": [],
   "source": [
    "class PADIMWithOnlineCovariance(PADIM):\n",
    "\n",
    "    ### TODO: Your code goes here\n",
    "    def __init__(\n",
    "            self,\n",
    "            backbone: str,\n",
    "            device: torch.device,\n",
    "            save_path: Path,\n",
    "            backbone_features_idx: List[int],\n",
    "            class_names=...,\n",
    "            plot_metrics=False,\n",
    "            ) -> None:\n",
    "        super().__init__(backbone, device, save_path, backbone_features_idx, class_names, plot_metrics)\n",
    "\n",
    "    def train(self, train_dataloader: DataLoader, C: int, H: int, W: int):\n",
    "        \"\"\"C, H, W come from the size of embeddings: [B, C, H, W]\"\"\"\n",
    "        pass\n",
    "\n",
    "    ### END OF YOUR CODE\n"
   ]
  },
  {
   "cell_type": "code",
   "execution_count": null,
   "metadata": {
    "id": "N9NrzC-an2bt"
   },
   "outputs": [],
   "source": [
    "# do not modify\n",
    "seed_all(SEED)\n",
    "class_name = 'bottle'\n",
    "BATCH_SIZE = 1\n",
    "RESIZE = 256 * 1\n",
    "CROP_SIZE = 224 * 1\n",
    "BACKBONE = \"resnet18\"\n",
    "NUMBER_OF_BACKBONE_FEATURES = 30\n",
    "MAX_NUMBER_OF_BACKBONE_FEATURES = 448\n",
    "# DEVICE=\"cpu\"\n",
    "\n",
    "indices = sample_idx(NUMBER_OF_BACKBONE_FEATURES, MAX_NUMBER_OF_BACKBONE_FEATURES).to(DEVICE)\n",
    "\n",
    "run_timestamp = time.time()\n",
    "SAVE_PATH = Path(f\"./results/{run_timestamp}/{class_name}\")\n",
    "\n",
    "train_dataset = MVTecDataset(DATA_PATH, class_name=class_name, is_train=True, resize=RESIZE, cropsize=CROP_SIZE)\n",
    "train_dataloader = DataLoader(train_dataset, batch_size=BATCH_SIZE, pin_memory=True)\n",
    "test_dataset = MVTecDataset(DATA_PATH, class_name=class_name, is_train=False, resize=RESIZE, cropsize=CROP_SIZE)\n",
    "val_dataloader = DataLoader(test_dataset, batch_size=BATCH_SIZE, pin_memory=True)\n",
    "\n",
    "\n",
    "padim_offline = PADIM(\n",
    "    backbone=BACKBONE,\n",
    "    device=DEVICE,\n",
    "    backbone_features_idx=indices,\n",
    "    save_path=SAVE_PATH,\n",
    "    plot_metrics=True,\n",
    ")\n",
    "padim_offline.train(train_dataloader)\n",
    "\n",
    "padim_online = PADIMWithOnlineCovariance(\n",
    "    backbone=BACKBONE,\n",
    "    device=DEVICE,\n",
    "    backbone_features_idx=indices,\n",
    "    save_path=SAVE_PATH,\n",
    "    plot_metrics=True,\n",
    ")\n",
    "padim_online.train(train_dataloader, NUMBER_OF_BACKBONE_FEATURES, int(CROP_SIZE/4), int(CROP_SIZE/4))\n",
    "\n",
    "torch.allclose(padim_online.mean, torch.Tensor(padim_offline.mean).to(DEVICE), atol=0.01) and torch.allclose(padim_online.cov, torch.Tensor(padim_offline.cov).to(DEVICE), atol=0.01)"
   ]
  },
  {
   "cell_type": "markdown",
   "metadata": {
    "id": "9-YhdxrUn2bt"
   },
   "source": [
    "#### 2.3 Performance experiments (10%)\n",
    "If you completed task 2.2, design experiments to empirically compare space and memory performance of PADIM training with both traditional and online covariance matrix estimation. Write short conclusions."
   ]
  },
  {
   "cell_type": "code",
   "execution_count": null,
   "metadata": {
    "id": "MaM-Llt-n2bt"
   },
   "outputs": [],
   "source": [
    "# Your code goes here"
   ]
  },
  {
   "cell_type": "markdown",
   "metadata": {
    "id": "DHKIFI-rn2bt"
   },
   "source": [
    "```Your conclusions go here```"
   ]
  }
 ],
 "metadata": {
  "kernelspec": {
   "display_name": "ml-teaching",
   "language": "python",
   "name": "python3"
  },
  "language_info": {
   "codemirror_mode": {
    "name": "ipython",
    "version": 3
   },
   "file_extension": ".py",
   "mimetype": "text/x-python",
   "name": "python",
   "nbconvert_exporter": "python",
   "pygments_lexer": "ipython3",
   "version": "3.10.11"
  },
  "colab": {
   "provenance": []
  }
 },
 "nbformat": 4,
 "nbformat_minor": 0
}
