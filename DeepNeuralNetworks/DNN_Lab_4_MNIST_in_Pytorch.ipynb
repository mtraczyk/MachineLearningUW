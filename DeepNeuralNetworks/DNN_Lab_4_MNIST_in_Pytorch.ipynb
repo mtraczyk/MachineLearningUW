{
 "nbformat": 4,
 "nbformat_minor": 0,
 "metadata": {
  "colab": {
   "provenance": []
  },
  "kernelspec": {
   "name": "python3",
   "display_name": "Python 3"
  },
  "language_info": {
   "name": "python"
  }
 },
 "cells": [
  {
   "cell_type": "markdown",
   "source": [
    "<center><img src='https://drive.google.com/uc?id=1_utx_ZGclmCwNttSe40kYA6VHzNocdET' height=\"60\"></center>\n",
    "\n",
    "AI TECH - Akademia Innowacyjnych Zastosowań Technologii Cyfrowych. Program Operacyjny Polska Cyfrowa na lata 2014-2020\n",
    "<hr>\n",
    "\n",
    "<center><img src='https://drive.google.com/uc?id=1BXZ0u3562N_MqCLcekI-Ens77Kk4LpPm'></center>\n",
    "\n",
    "<center>\n",
    "Projekt współfinansowany ze środków Unii Europejskiej w ramach Europejskiego Funduszu Rozwoju Regionalnego\n",
    "Program Operacyjny Polska Cyfrowa na lata 2014-2020,\n",
    "Oś Priorytetowa nr 3 \"Cyfrowe kompetencje społeczeństwa\" Działanie  nr 3.2 \"Innowacyjne rozwiązania na rzecz aktywizacji cyfrowej\"\n",
    "Tytuł projektu:  „Akademia Innowacyjnych Zastosowań Technologii Cyfrowych (AI Tech)”\n",
    "    </center>"
   ],
   "metadata": {
    "id": "MxW4dJFDfX_a"
   }
  },
  {
   "cell_type": "markdown",
   "metadata": {
    "id": "gcTwzhX8fBqs"
   },
   "source": [
    "Code based on https://github.com/pytorch/examples/blob/master/mnist/main.py\n",
    "\n",
    "In this exercise we are using high level abstractions from torch.nn like nn.Linear.\n",
    "Note: during the next lab session we will go one level deeper and implement more things\n",
    "with bare hands.\n",
    "\n",
    "Tasks:\n",
    "\n",
    "    1. Read the code.\n",
    "\n",
    "    2. Check that the given implementation reaches 95% test accuracy for architecture input-128-128-10 after few epochs.\n",
    "\n",
    "    3. Add the option to use SGD with momentum instead of ADAM.\n",
    "\n",
    "    4. Experiment with different learning rates, plot the learning curves for different\n",
    "    learning rates for both ADAM and SGD with momentum.\n",
    "\n",
    "    5. Parameterize the constructor by a list of sizes of hidden layers of the MLP.\n",
    "    Note that this requires creating a list of layers as an atribute of the Net class,\n",
    "    and one can't use a standard python list containing nn.Modules (why?).\n",
    "    Check torch.nn.ModuleList.\n"
   ]
  },
  {
   "cell_type": "code",
   "metadata": {
    "id": "IYAsziKffBFV"
   },
   "source": [
    "import torch\n",
    "import torch.nn as nn\n",
    "import torch.nn.functional as F\n",
    "import torch.optim as optim\n",
    "from torchvision import datasets, transforms"
   ],
   "execution_count": 1,
   "outputs": []
  },
  {
   "cell_type": "code",
   "metadata": {
    "id": "DMtap4QCfBH8"
   },
   "source": [
    "class Net(nn.Module):\n",
    "    def __init__(self, layers):\n",
    "        super(Net, self).__init__()\n",
    "        # After flattening an image of size 28x28 we have 784 inputs\n",
    "        self.layers = nn.ModuleList([nn.Linear(x, y) for x, y in zip(layers, layers[1:])])\n",
    "\n",
    "    def forward(self, x):\n",
    "        a = torch.flatten(x, 1)\n",
    "        x = a\n",
    "        for l in self.layers:\n",
    "          x = l(a)\n",
    "          a = F.relu(x)\n",
    "\n",
    "        output = F.log_softmax(x, dim=1)\n",
    "        return output\n",
    "\n",
    "\n",
    "def train(model, device, train_loader, optimizer, epoch, log_interval):\n",
    "    model.train()\n",
    "    for batch_idx, (data, target) in enumerate(train_loader):\n",
    "        data, target = data.to(device), target.to(device)\n",
    "        optimizer.zero_grad()\n",
    "        output = model(data)\n",
    "        loss = F.nll_loss(output, target)\n",
    "        loss.backward()\n",
    "        optimizer.step()\n",
    "        if batch_idx % log_interval == 0:\n",
    "            print('Train Epoch: {} [{}/{} ({:.0f}%)]\\tLoss: {:.6f}'.format(\n",
    "                epoch, batch_idx * len(data), len(train_loader.dataset),\n",
    "                100. * batch_idx / len(train_loader), loss.item()))\n",
    "\n",
    "\n",
    "def test(model, device, test_loader):\n",
    "    model.eval()\n",
    "    test_loss = 0\n",
    "    correct = 0\n",
    "    with torch.no_grad():\n",
    "        for data, target in test_loader:\n",
    "            data, target = data.to(device), target.to(device)\n",
    "            output = model(data)\n",
    "            test_loss += F.nll_loss(output, target, reduction='sum').item()  # sum up batch loss\n",
    "            pred = output.argmax(dim=1, keepdim=True)  # get the index of the max log-probability\n",
    "            correct += pred.eq(target.view_as(pred)).sum().item()\n",
    "\n",
    "    test_loss /= len(test_loader.dataset)\n",
    "\n",
    "    print('\\nTest set: Average loss: {:.4f}, Accuracy: {}/{} ({:.0f}%)\\n'.format(\n",
    "        test_loss, correct, len(test_loader.dataset),\n",
    "        100. * correct / len(test_loader.dataset)))\n",
    "\n"
   ],
   "execution_count": 18,
   "outputs": []
  },
  {
   "cell_type": "code",
   "metadata": {
    "id": "K5GlMs1-fBKP"
   },
   "source": [
    "batch_size = 256\n",
    "test_batch_size = 1000\n",
    "epochs = 5\n",
    "lr = 1e-2\n",
    "seed = 1\n",
    "log_interval = 10\n",
    "use_cuda = torch.cuda.is_available()"
   ],
   "execution_count": 3,
   "outputs": []
  },
  {
   "cell_type": "code",
   "metadata": {
    "id": "WgfUP23AfBMd"
   },
   "source": [
    "torch.manual_seed(seed)\n",
    "device = torch.device(\"cuda\" if use_cuda else \"cpu\")\n",
    "\n",
    "train_kwargs = {'batch_size': batch_size}\n",
    "test_kwargs = {'batch_size': test_batch_size}\n",
    "if use_cuda:\n",
    "    cuda_kwargs = {'num_workers': 1,\n",
    "                    'pin_memory': True,\n",
    "                    'shuffle': True}\n",
    "    train_kwargs.update(cuda_kwargs)\n",
    "    test_kwargs.update(cuda_kwargs)"
   ],
   "execution_count": 4,
   "outputs": []
  },
  {
   "cell_type": "code",
   "metadata": {
    "colab": {
     "base_uri": "https://localhost:8080/"
    },
    "id": "o0KPoUtsfBOs",
    "outputId": "c62dc59d-0f7c-48c6-cc87-125b2bcac39e"
   },
   "source": [
    "transform=transforms.Compose([\n",
    "    transforms.ToTensor(),\n",
    "    transforms.Normalize((0.1307,), (0.3081,))\n",
    "    ])\n",
    "dataset1 = datasets.MNIST('../data', train=True, download=True,\n",
    "                    transform=transform)\n",
    "dataset2 = datasets.MNIST('../data', train=False,\n",
    "                    transform=transform)\n",
    "train_loader = torch.utils.data.DataLoader(dataset1,**train_kwargs)\n",
    "test_loader = torch.utils.data.DataLoader(dataset2, **test_kwargs)"
   ],
   "execution_count": 5,
   "outputs": [
    {
     "output_type": "stream",
     "name": "stdout",
     "text": [
      "Downloading http://yann.lecun.com/exdb/mnist/train-images-idx3-ubyte.gz\n",
      "Downloading http://yann.lecun.com/exdb/mnist/train-images-idx3-ubyte.gz to ../data/MNIST/raw/train-images-idx3-ubyte.gz\n"
     ]
    },
    {
     "output_type": "stream",
     "name": "stderr",
     "text": [
      "100%|██████████| 9912422/9912422 [00:00<00:00, 107867824.27it/s]\n"
     ]
    },
    {
     "output_type": "stream",
     "name": "stdout",
     "text": [
      "Extracting ../data/MNIST/raw/train-images-idx3-ubyte.gz to ../data/MNIST/raw\n",
      "\n",
      "Downloading http://yann.lecun.com/exdb/mnist/train-labels-idx1-ubyte.gz\n",
      "Downloading http://yann.lecun.com/exdb/mnist/train-labels-idx1-ubyte.gz to ../data/MNIST/raw/train-labels-idx1-ubyte.gz\n"
     ]
    },
    {
     "output_type": "stream",
     "name": "stderr",
     "text": [
      "100%|██████████| 28881/28881 [00:00<00:00, 32105935.28it/s]\n"
     ]
    },
    {
     "output_type": "stream",
     "name": "stdout",
     "text": [
      "Extracting ../data/MNIST/raw/train-labels-idx1-ubyte.gz to ../data/MNIST/raw\n",
      "\n",
      "Downloading http://yann.lecun.com/exdb/mnist/t10k-images-idx3-ubyte.gz\n",
      "Downloading http://yann.lecun.com/exdb/mnist/t10k-images-idx3-ubyte.gz to ../data/MNIST/raw/t10k-images-idx3-ubyte.gz\n"
     ]
    },
    {
     "output_type": "stream",
     "name": "stderr",
     "text": [
      "100%|██████████| 1648877/1648877 [00:00<00:00, 28010673.86it/s]\n"
     ]
    },
    {
     "output_type": "stream",
     "name": "stdout",
     "text": [
      "Extracting ../data/MNIST/raw/t10k-images-idx3-ubyte.gz to ../data/MNIST/raw\n",
      "\n",
      "Downloading http://yann.lecun.com/exdb/mnist/t10k-labels-idx1-ubyte.gz\n",
      "Downloading http://yann.lecun.com/exdb/mnist/t10k-labels-idx1-ubyte.gz to ../data/MNIST/raw/t10k-labels-idx1-ubyte.gz\n"
     ]
    },
    {
     "output_type": "stream",
     "name": "stderr",
     "text": [
      "100%|██████████| 4542/4542 [00:00<00:00, 5542778.23it/s]\n"
     ]
    },
    {
     "output_type": "stream",
     "name": "stdout",
     "text": [
      "Extracting ../data/MNIST/raw/t10k-labels-idx1-ubyte.gz to ../data/MNIST/raw\n",
      "\n"
     ]
    }
   ]
  },
  {
   "cell_type": "code",
   "metadata": {
    "colab": {
     "base_uri": "https://localhost:8080/"
    },
    "id": "ezvIQbgsfBRT",
    "outputId": "730a4840-dab0-46f7-e032-76f6431c21b9"
   },
   "source": [
    "model = Net([784, 128, 128, 10]).to(device)\n",
    "optimizer = optim.Adam(model.parameters(), lr=lr)\n",
    "\n",
    "for epoch in range(1, epochs + 1):\n",
    "    train(model, device, train_loader, optimizer, epoch, log_interval)\n",
    "    test(model, device, test_loader)"
   ],
   "execution_count": null,
   "outputs": [
    {
     "output_type": "stream",
     "name": "stdout",
     "text": [
      "Train Epoch: 1 [0/60000 (0%)]\tLoss: 2.299619\n",
      "Train Epoch: 1 [2560/60000 (4%)]\tLoss: 0.529521\n",
      "Train Epoch: 1 [5120/60000 (9%)]\tLoss: 0.497725\n",
      "Train Epoch: 1 [7680/60000 (13%)]\tLoss: 0.426544\n",
      "Train Epoch: 1 [10240/60000 (17%)]\tLoss: 0.253610\n",
      "Train Epoch: 1 [12800/60000 (21%)]\tLoss: 0.349574\n",
      "Train Epoch: 1 [15360/60000 (26%)]\tLoss: 0.239824\n",
      "Train Epoch: 1 [17920/60000 (30%)]\tLoss: 0.174905\n",
      "Train Epoch: 1 [20480/60000 (34%)]\tLoss: 0.216088\n",
      "Train Epoch: 1 [23040/60000 (38%)]\tLoss: 0.247328\n",
      "Train Epoch: 1 [25600/60000 (43%)]\tLoss: 0.273255\n",
      "Train Epoch: 1 [28160/60000 (47%)]\tLoss: 0.237411\n",
      "Train Epoch: 1 [30720/60000 (51%)]\tLoss: 0.173276\n",
      "Train Epoch: 1 [33280/60000 (55%)]\tLoss: 0.196686\n",
      "Train Epoch: 1 [35840/60000 (60%)]\tLoss: 0.256425\n",
      "Train Epoch: 1 [38400/60000 (64%)]\tLoss: 0.207012\n",
      "Train Epoch: 1 [40960/60000 (68%)]\tLoss: 0.162990\n",
      "Train Epoch: 1 [43520/60000 (72%)]\tLoss: 0.147656\n",
      "Train Epoch: 1 [46080/60000 (77%)]\tLoss: 0.254312\n",
      "Train Epoch: 1 [48640/60000 (81%)]\tLoss: 0.076072\n",
      "Train Epoch: 1 [51200/60000 (85%)]\tLoss: 0.147131\n",
      "Train Epoch: 1 [53760/60000 (89%)]\tLoss: 0.224750\n",
      "Train Epoch: 1 [56320/60000 (94%)]\tLoss: 0.142222\n",
      "Train Epoch: 1 [58880/60000 (98%)]\tLoss: 0.040598\n",
      "\n",
      "Test set: Average loss: 0.1981, Accuracy: 9412/10000 (94%)\n",
      "\n",
      "Train Epoch: 2 [0/60000 (0%)]\tLoss: 0.178643\n",
      "Train Epoch: 2 [2560/60000 (4%)]\tLoss: 0.155191\n",
      "Train Epoch: 2 [5120/60000 (9%)]\tLoss: 0.163822\n",
      "Train Epoch: 2 [7680/60000 (13%)]\tLoss: 0.188118\n",
      "Train Epoch: 2 [10240/60000 (17%)]\tLoss: 0.113286\n",
      "Train Epoch: 2 [12800/60000 (21%)]\tLoss: 0.196641\n",
      "Train Epoch: 2 [15360/60000 (26%)]\tLoss: 0.126602\n",
      "Train Epoch: 2 [17920/60000 (30%)]\tLoss: 0.100267\n",
      "Train Epoch: 2 [20480/60000 (34%)]\tLoss: 0.175221\n",
      "Train Epoch: 2 [23040/60000 (38%)]\tLoss: 0.119962\n",
      "Train Epoch: 2 [25600/60000 (43%)]\tLoss: 0.116096\n",
      "Train Epoch: 2 [28160/60000 (47%)]\tLoss: 0.159923\n",
      "Train Epoch: 2 [30720/60000 (51%)]\tLoss: 0.087523\n",
      "Train Epoch: 2 [33280/60000 (55%)]\tLoss: 0.159028\n",
      "Train Epoch: 2 [35840/60000 (60%)]\tLoss: 0.192968\n",
      "Train Epoch: 2 [38400/60000 (64%)]\tLoss: 0.121977\n",
      "Train Epoch: 2 [40960/60000 (68%)]\tLoss: 0.146656\n",
      "Train Epoch: 2 [43520/60000 (72%)]\tLoss: 0.119995\n",
      "Train Epoch: 2 [46080/60000 (77%)]\tLoss: 0.195491\n",
      "Train Epoch: 2 [48640/60000 (81%)]\tLoss: 0.075733\n",
      "Train Epoch: 2 [51200/60000 (85%)]\tLoss: 0.139353\n",
      "Train Epoch: 2 [53760/60000 (89%)]\tLoss: 0.110121\n",
      "Train Epoch: 2 [56320/60000 (94%)]\tLoss: 0.147058\n",
      "Train Epoch: 2 [58880/60000 (98%)]\tLoss: 0.029292\n",
      "\n",
      "Test set: Average loss: 0.1628, Accuracy: 9534/10000 (95%)\n",
      "\n",
      "Train Epoch: 3 [0/60000 (0%)]\tLoss: 0.172144\n",
      "Train Epoch: 3 [2560/60000 (4%)]\tLoss: 0.131573\n",
      "Train Epoch: 3 [5120/60000 (9%)]\tLoss: 0.122240\n",
      "Train Epoch: 3 [7680/60000 (13%)]\tLoss: 0.180401\n",
      "Train Epoch: 3 [10240/60000 (17%)]\tLoss: 0.180886\n",
      "Train Epoch: 3 [12800/60000 (21%)]\tLoss: 0.180161\n",
      "Train Epoch: 3 [15360/60000 (26%)]\tLoss: 0.090241\n",
      "Train Epoch: 3 [17920/60000 (30%)]\tLoss: 0.107032\n",
      "Train Epoch: 3 [20480/60000 (34%)]\tLoss: 0.110593\n",
      "Train Epoch: 3 [23040/60000 (38%)]\tLoss: 0.064632\n",
      "Train Epoch: 3 [25600/60000 (43%)]\tLoss: 0.135263\n",
      "Train Epoch: 3 [28160/60000 (47%)]\tLoss: 0.157391\n",
      "Train Epoch: 3 [30720/60000 (51%)]\tLoss: 0.080711\n",
      "Train Epoch: 3 [33280/60000 (55%)]\tLoss: 0.118239\n",
      "Train Epoch: 3 [35840/60000 (60%)]\tLoss: 0.161072\n",
      "Train Epoch: 3 [38400/60000 (64%)]\tLoss: 0.112679\n",
      "Train Epoch: 3 [40960/60000 (68%)]\tLoss: 0.143722\n",
      "Train Epoch: 3 [43520/60000 (72%)]\tLoss: 0.132715\n",
      "Train Epoch: 3 [46080/60000 (77%)]\tLoss: 0.219278\n",
      "Train Epoch: 3 [48640/60000 (81%)]\tLoss: 0.087319\n",
      "Train Epoch: 3 [51200/60000 (85%)]\tLoss: 0.138267\n",
      "Train Epoch: 3 [53760/60000 (89%)]\tLoss: 0.181989\n",
      "Train Epoch: 3 [56320/60000 (94%)]\tLoss: 0.097250\n",
      "Train Epoch: 3 [58880/60000 (98%)]\tLoss: 0.002724\n",
      "\n",
      "Test set: Average loss: 0.1553, Accuracy: 9601/10000 (96%)\n",
      "\n",
      "Train Epoch: 4 [0/60000 (0%)]\tLoss: 0.128381\n",
      "Train Epoch: 4 [2560/60000 (4%)]\tLoss: 0.101465\n",
      "Train Epoch: 4 [5120/60000 (9%)]\tLoss: 0.100132\n",
      "Train Epoch: 4 [7680/60000 (13%)]\tLoss: 0.127803\n",
      "Train Epoch: 4 [10240/60000 (17%)]\tLoss: 0.142941\n",
      "Train Epoch: 4 [12800/60000 (21%)]\tLoss: 0.095081\n",
      "Train Epoch: 4 [15360/60000 (26%)]\tLoss: 0.088209\n",
      "Train Epoch: 4 [17920/60000 (30%)]\tLoss: 0.076596\n",
      "Train Epoch: 4 [20480/60000 (34%)]\tLoss: 0.164648\n",
      "Train Epoch: 4 [23040/60000 (38%)]\tLoss: 0.151707\n",
      "Train Epoch: 4 [25600/60000 (43%)]\tLoss: 0.159592\n",
      "Train Epoch: 4 [28160/60000 (47%)]\tLoss: 0.199996\n",
      "Train Epoch: 4 [30720/60000 (51%)]\tLoss: 0.100373\n",
      "Train Epoch: 4 [33280/60000 (55%)]\tLoss: 0.099768\n",
      "Train Epoch: 4 [35840/60000 (60%)]\tLoss: 0.206606\n",
      "Train Epoch: 4 [38400/60000 (64%)]\tLoss: 0.115733\n",
      "Train Epoch: 4 [40960/60000 (68%)]\tLoss: 0.114279\n",
      "Train Epoch: 4 [43520/60000 (72%)]\tLoss: 0.176499\n",
      "Train Epoch: 4 [46080/60000 (77%)]\tLoss: 0.225946\n",
      "Train Epoch: 4 [48640/60000 (81%)]\tLoss: 0.056108\n",
      "Train Epoch: 4 [51200/60000 (85%)]\tLoss: 0.101335\n",
      "Train Epoch: 4 [53760/60000 (89%)]\tLoss: 0.097880\n",
      "Train Epoch: 4 [56320/60000 (94%)]\tLoss: 0.092108\n",
      "Train Epoch: 4 [58880/60000 (98%)]\tLoss: 0.008363\n",
      "\n",
      "Test set: Average loss: 0.1480, Accuracy: 9626/10000 (96%)\n",
      "\n",
      "Train Epoch: 5 [0/60000 (0%)]\tLoss: 0.118637\n",
      "Train Epoch: 5 [2560/60000 (4%)]\tLoss: 0.095098\n",
      "Train Epoch: 5 [5120/60000 (9%)]\tLoss: 0.109933\n",
      "Train Epoch: 5 [7680/60000 (13%)]\tLoss: 0.097509\n",
      "Train Epoch: 5 [10240/60000 (17%)]\tLoss: 0.088247\n",
      "Train Epoch: 5 [12800/60000 (21%)]\tLoss: 0.117944\n",
      "Train Epoch: 5 [15360/60000 (26%)]\tLoss: 0.065966\n",
      "Train Epoch: 5 [17920/60000 (30%)]\tLoss: 0.067251\n",
      "Train Epoch: 5 [20480/60000 (34%)]\tLoss: 0.108882\n",
      "Train Epoch: 5 [23040/60000 (38%)]\tLoss: 0.120368\n",
      "Train Epoch: 5 [25600/60000 (43%)]\tLoss: 0.113611\n",
      "Train Epoch: 5 [28160/60000 (47%)]\tLoss: 0.108132\n",
      "Train Epoch: 5 [30720/60000 (51%)]\tLoss: 0.085566\n",
      "Train Epoch: 5 [33280/60000 (55%)]\tLoss: 0.126077\n",
      "Train Epoch: 5 [35840/60000 (60%)]\tLoss: 0.128670\n",
      "Train Epoch: 5 [38400/60000 (64%)]\tLoss: 0.100345\n",
      "Train Epoch: 5 [40960/60000 (68%)]\tLoss: 0.207077\n",
      "Train Epoch: 5 [43520/60000 (72%)]\tLoss: 0.117327\n",
      "Train Epoch: 5 [46080/60000 (77%)]\tLoss: 0.189045\n",
      "Train Epoch: 5 [48640/60000 (81%)]\tLoss: 0.041758\n",
      "Train Epoch: 5 [51200/60000 (85%)]\tLoss: 0.139403\n",
      "Train Epoch: 5 [53760/60000 (89%)]\tLoss: 0.069716\n",
      "Train Epoch: 5 [56320/60000 (94%)]\tLoss: 0.101712\n",
      "Train Epoch: 5 [58880/60000 (98%)]\tLoss: 0.002233\n"
     ]
    }
   ]
  },
  {
   "cell_type": "code",
   "metadata": {
    "id": "DQMSSwuifBTo",
    "colab": {
     "base_uri": "https://localhost:8080/"
    },
    "outputId": "206494b7-71be-4740-a711-724e5e429131"
   },
   "source": [
    "model = Net([784, 128, 128, 10]).to(device)\n",
    "SGD_optimizer = torch.optim.SGD(model.parameters(), lr=lr, momentum=0.9)\n",
    "\n",
    "for epoch in range(1, epochs + 1):\n",
    "    train(model, device, train_loader, SGD_optimizer, epoch, log_interval)\n",
    "    test(model, device, test_loader)"
   ],
   "execution_count": 8,
   "outputs": [
    {
     "output_type": "stream",
     "name": "stdout",
     "text": [
      "Train Epoch: 1 [0/60000 (0%)]\tLoss: 2.307556\n",
      "Train Epoch: 1 [2560/60000 (4%)]\tLoss: 2.198563\n",
      "Train Epoch: 1 [5120/60000 (9%)]\tLoss: 1.883218\n",
      "Train Epoch: 1 [7680/60000 (13%)]\tLoss: 1.368348\n",
      "Train Epoch: 1 [10240/60000 (17%)]\tLoss: 0.735437\n",
      "Train Epoch: 1 [12800/60000 (21%)]\tLoss: 0.693011\n",
      "Train Epoch: 1 [15360/60000 (26%)]\tLoss: 0.435643\n",
      "Train Epoch: 1 [17920/60000 (30%)]\tLoss: 0.365278\n",
      "Train Epoch: 1 [20480/60000 (34%)]\tLoss: 0.459646\n",
      "Train Epoch: 1 [23040/60000 (38%)]\tLoss: 0.378412\n",
      "Train Epoch: 1 [25600/60000 (43%)]\tLoss: 0.356934\n",
      "Train Epoch: 1 [28160/60000 (47%)]\tLoss: 0.497564\n",
      "Train Epoch: 1 [30720/60000 (51%)]\tLoss: 0.409239\n",
      "Train Epoch: 1 [33280/60000 (55%)]\tLoss: 0.394924\n",
      "Train Epoch: 1 [35840/60000 (60%)]\tLoss: 0.326487\n",
      "Train Epoch: 1 [38400/60000 (64%)]\tLoss: 0.350912\n",
      "Train Epoch: 1 [40960/60000 (68%)]\tLoss: 0.306210\n",
      "Train Epoch: 1 [43520/60000 (72%)]\tLoss: 0.257856\n",
      "Train Epoch: 1 [46080/60000 (77%)]\tLoss: 0.424362\n",
      "Train Epoch: 1 [48640/60000 (81%)]\tLoss: 0.187470\n",
      "Train Epoch: 1 [51200/60000 (85%)]\tLoss: 0.279336\n",
      "Train Epoch: 1 [53760/60000 (89%)]\tLoss: 0.350658\n",
      "Train Epoch: 1 [56320/60000 (94%)]\tLoss: 0.271433\n",
      "Train Epoch: 1 [58880/60000 (98%)]\tLoss: 0.069388\n",
      "\n",
      "Test set: Average loss: 0.2671, Accuracy: 9212/10000 (92%)\n",
      "\n",
      "Train Epoch: 2 [0/60000 (0%)]\tLoss: 0.251017\n",
      "Train Epoch: 2 [2560/60000 (4%)]\tLoss: 0.261080\n",
      "Train Epoch: 2 [5120/60000 (9%)]\tLoss: 0.312764\n",
      "Train Epoch: 2 [7680/60000 (13%)]\tLoss: 0.287506\n",
      "Train Epoch: 2 [10240/60000 (17%)]\tLoss: 0.174919\n",
      "Train Epoch: 2 [12800/60000 (21%)]\tLoss: 0.315524\n",
      "Train Epoch: 2 [15360/60000 (26%)]\tLoss: 0.200325\n",
      "Train Epoch: 2 [17920/60000 (30%)]\tLoss: 0.191126\n",
      "Train Epoch: 2 [20480/60000 (34%)]\tLoss: 0.291966\n",
      "Train Epoch: 2 [23040/60000 (38%)]\tLoss: 0.219415\n",
      "Train Epoch: 2 [25600/60000 (43%)]\tLoss: 0.239764\n",
      "Train Epoch: 2 [28160/60000 (47%)]\tLoss: 0.281948\n",
      "Train Epoch: 2 [30720/60000 (51%)]\tLoss: 0.240991\n",
      "Train Epoch: 2 [33280/60000 (55%)]\tLoss: 0.247455\n",
      "Train Epoch: 2 [35840/60000 (60%)]\tLoss: 0.228477\n",
      "Train Epoch: 2 [38400/60000 (64%)]\tLoss: 0.219786\n",
      "Train Epoch: 2 [40960/60000 (68%)]\tLoss: 0.246910\n",
      "Train Epoch: 2 [43520/60000 (72%)]\tLoss: 0.183421\n",
      "Train Epoch: 2 [46080/60000 (77%)]\tLoss: 0.327009\n",
      "Train Epoch: 2 [48640/60000 (81%)]\tLoss: 0.116264\n",
      "Train Epoch: 2 [51200/60000 (85%)]\tLoss: 0.175372\n",
      "Train Epoch: 2 [53760/60000 (89%)]\tLoss: 0.253416\n",
      "Train Epoch: 2 [56320/60000 (94%)]\tLoss: 0.180744\n",
      "Train Epoch: 2 [58880/60000 (98%)]\tLoss: 0.034609\n",
      "\n",
      "Test set: Average loss: 0.1841, Accuracy: 9461/10000 (95%)\n",
      "\n",
      "Train Epoch: 3 [0/60000 (0%)]\tLoss: 0.184308\n",
      "Train Epoch: 3 [2560/60000 (4%)]\tLoss: 0.165326\n",
      "Train Epoch: 3 [5120/60000 (9%)]\tLoss: 0.215846\n",
      "Train Epoch: 3 [7680/60000 (13%)]\tLoss: 0.210705\n",
      "Train Epoch: 3 [10240/60000 (17%)]\tLoss: 0.129677\n",
      "Train Epoch: 3 [12800/60000 (21%)]\tLoss: 0.207748\n",
      "Train Epoch: 3 [15360/60000 (26%)]\tLoss: 0.137358\n",
      "Train Epoch: 3 [17920/60000 (30%)]\tLoss: 0.153615\n",
      "Train Epoch: 3 [20480/60000 (34%)]\tLoss: 0.215356\n",
      "Train Epoch: 3 [23040/60000 (38%)]\tLoss: 0.147970\n",
      "Train Epoch: 3 [25600/60000 (43%)]\tLoss: 0.204462\n",
      "Train Epoch: 3 [28160/60000 (47%)]\tLoss: 0.197076\n",
      "Train Epoch: 3 [30720/60000 (51%)]\tLoss: 0.163984\n",
      "Train Epoch: 3 [33280/60000 (55%)]\tLoss: 0.189168\n",
      "Train Epoch: 3 [35840/60000 (60%)]\tLoss: 0.173848\n",
      "Train Epoch: 3 [38400/60000 (64%)]\tLoss: 0.165460\n",
      "Train Epoch: 3 [40960/60000 (68%)]\tLoss: 0.194760\n",
      "Train Epoch: 3 [43520/60000 (72%)]\tLoss: 0.145027\n",
      "Train Epoch: 3 [46080/60000 (77%)]\tLoss: 0.252588\n",
      "Train Epoch: 3 [48640/60000 (81%)]\tLoss: 0.083504\n",
      "Train Epoch: 3 [51200/60000 (85%)]\tLoss: 0.136042\n",
      "Train Epoch: 3 [53760/60000 (89%)]\tLoss: 0.198197\n",
      "Train Epoch: 3 [56320/60000 (94%)]\tLoss: 0.126594\n",
      "Train Epoch: 3 [58880/60000 (98%)]\tLoss: 0.022817\n",
      "\n",
      "Test set: Average loss: 0.1451, Accuracy: 9568/10000 (96%)\n",
      "\n",
      "Train Epoch: 4 [0/60000 (0%)]\tLoss: 0.154596\n",
      "Train Epoch: 4 [2560/60000 (4%)]\tLoss: 0.124596\n",
      "Train Epoch: 4 [5120/60000 (9%)]\tLoss: 0.158025\n",
      "Train Epoch: 4 [7680/60000 (13%)]\tLoss: 0.156435\n",
      "Train Epoch: 4 [10240/60000 (17%)]\tLoss: 0.106551\n",
      "Train Epoch: 4 [12800/60000 (21%)]\tLoss: 0.148044\n",
      "Train Epoch: 4 [15360/60000 (26%)]\tLoss: 0.111365\n",
      "Train Epoch: 4 [17920/60000 (30%)]\tLoss: 0.132592\n",
      "Train Epoch: 4 [20480/60000 (34%)]\tLoss: 0.173505\n",
      "Train Epoch: 4 [23040/60000 (38%)]\tLoss: 0.106799\n",
      "Train Epoch: 4 [25600/60000 (43%)]\tLoss: 0.181062\n",
      "Train Epoch: 4 [28160/60000 (47%)]\tLoss: 0.148209\n",
      "Train Epoch: 4 [30720/60000 (51%)]\tLoss: 0.121474\n",
      "Train Epoch: 4 [33280/60000 (55%)]\tLoss: 0.152067\n",
      "Train Epoch: 4 [35840/60000 (60%)]\tLoss: 0.137614\n",
      "Train Epoch: 4 [38400/60000 (64%)]\tLoss: 0.129356\n",
      "Train Epoch: 4 [40960/60000 (68%)]\tLoss: 0.154394\n",
      "Train Epoch: 4 [43520/60000 (72%)]\tLoss: 0.117369\n",
      "Train Epoch: 4 [46080/60000 (77%)]\tLoss: 0.213151\n",
      "Train Epoch: 4 [48640/60000 (81%)]\tLoss: 0.063563\n",
      "Train Epoch: 4 [51200/60000 (85%)]\tLoss: 0.115314\n",
      "Train Epoch: 4 [53760/60000 (89%)]\tLoss: 0.154444\n",
      "Train Epoch: 4 [56320/60000 (94%)]\tLoss: 0.096643\n",
      "Train Epoch: 4 [58880/60000 (98%)]\tLoss: 0.017131\n",
      "\n",
      "Test set: Average loss: 0.1237, Accuracy: 9624/10000 (96%)\n",
      "\n",
      "Train Epoch: 5 [0/60000 (0%)]\tLoss: 0.131756\n",
      "Train Epoch: 5 [2560/60000 (4%)]\tLoss: 0.107666\n",
      "Train Epoch: 5 [5120/60000 (9%)]\tLoss: 0.123497\n",
      "Train Epoch: 5 [7680/60000 (13%)]\tLoss: 0.122613\n",
      "Train Epoch: 5 [10240/60000 (17%)]\tLoss: 0.090317\n",
      "Train Epoch: 5 [12800/60000 (21%)]\tLoss: 0.114220\n",
      "Train Epoch: 5 [15360/60000 (26%)]\tLoss: 0.094663\n",
      "Train Epoch: 5 [17920/60000 (30%)]\tLoss: 0.113144\n",
      "Train Epoch: 5 [20480/60000 (34%)]\tLoss: 0.142501\n",
      "Train Epoch: 5 [23040/60000 (38%)]\tLoss: 0.083810\n",
      "Train Epoch: 5 [25600/60000 (43%)]\tLoss: 0.160443\n",
      "Train Epoch: 5 [28160/60000 (47%)]\tLoss: 0.117566\n",
      "Train Epoch: 5 [30720/60000 (51%)]\tLoss: 0.100813\n",
      "Train Epoch: 5 [33280/60000 (55%)]\tLoss: 0.126160\n",
      "Train Epoch: 5 [35840/60000 (60%)]\tLoss: 0.114835\n",
      "Train Epoch: 5 [38400/60000 (64%)]\tLoss: 0.108109\n",
      "Train Epoch: 5 [40960/60000 (68%)]\tLoss: 0.125419\n",
      "Train Epoch: 5 [43520/60000 (72%)]\tLoss: 0.103033\n",
      "Train Epoch: 5 [46080/60000 (77%)]\tLoss: 0.193870\n",
      "Train Epoch: 5 [48640/60000 (81%)]\tLoss: 0.050295\n",
      "Train Epoch: 5 [51200/60000 (85%)]\tLoss: 0.101976\n",
      "Train Epoch: 5 [53760/60000 (89%)]\tLoss: 0.117565\n",
      "Train Epoch: 5 [56320/60000 (94%)]\tLoss: 0.079889\n",
      "Train Epoch: 5 [58880/60000 (98%)]\tLoss: 0.013458\n",
      "\n",
      "Test set: Average loss: 0.1108, Accuracy: 9663/10000 (97%)\n",
      "\n"
     ]
    }
   ]
  },
  {
   "cell_type": "code",
   "metadata": {
    "id": "JX_2rCycfBWU"
   },
   "source": [],
   "execution_count": null,
   "outputs": []
  }
 ]
}
