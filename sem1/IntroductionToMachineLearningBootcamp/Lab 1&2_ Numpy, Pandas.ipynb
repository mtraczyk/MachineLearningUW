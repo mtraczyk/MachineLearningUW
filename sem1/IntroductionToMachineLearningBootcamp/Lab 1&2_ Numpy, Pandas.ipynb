{
 "nbformat": 4,
 "nbformat_minor": 0,
 "metadata": {
  "colab": {
   "provenance": [
    {
     "file_id": "1vAsqJNc-N7QERWzK5gNZ9HgQdC5TSvLq",
     "timestamp": 1696517946491
    },
    {
     "file_id": "1YLqd0ULrTf8jZfKjNeXEOjGctdVzNVrB",
     "timestamp": 1633292651487
    },
    {
     "file_id": "1WV7kIM2GO2o5s7OPvpR_QX7OLLXoeO_S",
     "timestamp": 1633292578281
    }
   ]
  },
  "kernelspec": {
   "name": "python3",
   "language": "python",
   "display_name": "Python 3 (ipykernel)"
  },
  "language_info": {
   "name": "python"
  }
 },
 "cells": [
  {
   "cell_type": "markdown",
   "metadata": {
    "id": "SeRy_Ng0lfDT"
   },
   "source": [
    "<center><img src='https://drive.google.com/uc?id=1_utx_ZGclmCwNttSe40kYA6VHzNocdET' height=\"60\"></center>\n",
    "\n",
    "AI TECH - Akademia Innowacyjnych Zastosowań Technologii Cyfrowych. Program Operacyjny Polska Cyfrowa na lata 2014-2020\n",
    "<hr>\n",
    "\n",
    "<center><img src='https://drive.google.com/uc?id=1BXZ0u3562N_MqCLcekI-Ens77Kk4LpPm'></center>\n",
    "\n",
    "<center>\n",
    "Projekt współfinansowany ze środków Unii Europejskiej w ramach Europejskiego Funduszu Rozwoju Regionalnego\n",
    "Program Operacyjny Polska Cyfrowa na lata 2014-2020,\n",
    "Oś Priorytetowa nr 3 \"Cyfrowe kompetencje społeczeństwa\" Działanie  nr 3.2 \"Innowacyjne rozwiązania na rzecz aktywizacji cyfrowej\"\n",
    "Tytuł projektu:  „Akademia Innowacyjnych Zastosowań Technologii Cyfrowych (AI Tech)”\n",
    "    </center>\n",
    "\n",
    "# Statistical machine learning - Notebook 1\n",
    "\n",
    "**Author: Maciej Bartczak**\n",
    "\n"
   ]
  },
  {
   "cell_type": "markdown",
   "metadata": {
    "id": "-ylA7nFWkahP"
   },
   "source": [
    "# Bootcamp - introduction to machine learning: NumPy & Pandas\n"
   ]
  },
  {
   "cell_type": "markdown",
   "metadata": {
    "id": "UyaGujEdkxNP"
   },
   "source": [
    "## What is NumPy?\n",
    "\n",
    "NumPy is the fundamental package for scientific computing in Python. It is a Python library that provides a multidimensional array object and an assortment of routines for fast operations on arrays, including mathematical, logical, shape manipulation, sorting, selecting, I/O, basic linear algebra, statistical operations, random simulation and much more.\n",
    "\n",
    "At the core of the NumPy package, is the ndarray object. This encapsulates n-dimensional arrays of homogeneous data types, with many operations being performed in compiled code for performance. There are several important differences between NumPy arrays and the standard Python sequences:\n",
    "\n",
    "- The elements in a NumPy array are all required to be of the same data type, and thus will be the same size in memory. The exception: one can have arrays of (Python, including NumPy) objects, thereby allowing for arrays of different sized elements.\n",
    "\n",
    "- NumPy arrays facilitate advanced mathematical and other types of operations on large numbers of data. Typically, **such operations are executed more efficiently and with less code than is possible using Python’s built-in sequences**.\n",
    "\n",
    "- A growing plethora of scientific and mathematical Python-based packages are using NumPy arrays; though these typically support Python-sequence input, they convert such input to NumPy arrays prior to processing, and they often output NumPy arrays. In other words, in order to efficiently use much (perhaps even most) of today’s scientific/mathematical Python-based software, just knowing how to use Python’s built-in sequence types is insufficient - one also needs to know how to use NumPy arrays.\n",
    "\n",
    "\n",
    "\n",
    "from: https://numpy.org/doc/stable/user/whatisnumpy.html"
   ]
  },
  {
   "cell_type": "code",
   "metadata": {
    "id": "IbloavGiHlwp",
    "executionInfo": {
     "status": "ok",
     "timestamp": 1696576830968,
     "user_tz": -120,
     "elapsed": 237,
     "user": {
      "displayName": "Michał Traczyk",
      "userId": "00555487641805485616"
     }
    }
   },
   "source": [
    "import numpy as np\n",
    "import matplotlib.pyplot as plt"
   ],
   "execution_count": 3,
   "outputs": []
  },
  {
   "cell_type": "markdown",
   "metadata": {
    "id": "W80hh5i_nJWl"
   },
   "source": [
    "## Array creation\n",
    "\n",
    "There are multiple ways to create an array, try examples below."
   ]
  },
  {
   "cell_type": "markdown",
   "metadata": {
    "id": "WEq2aTpyoQ1m"
   },
   "source": [
    "### From nested lists"
   ]
  },
  {
   "cell_type": "code",
   "metadata": {
    "id": "fBA-gIIcndlB"
   },
   "source": [
    "array_1d = np.array([1, 2, 3, 4, 5])\n",
    "array_1d"
   ],
   "execution_count": null,
   "outputs": []
  },
  {
   "cell_type": "code",
   "metadata": {
    "id": "rOjlDLLanl7a"
   },
   "source": [
    "array_2d = np.array(\n",
    "  [\n",
    "    [1,  2,  3,  4,  5 ],\n",
    "    [6,  7,  8,  9,  10],\n",
    "    [11, 12, 13, 14, 15]\n",
    "  ]\n",
    ")\n",
    "array_2d"
   ],
   "execution_count": null,
   "outputs": []
  },
  {
   "cell_type": "code",
   "metadata": {
    "id": "TzXqVFDdqXbo"
   },
   "source": [
    "array_3d = np.array(\n",
    "  [\n",
    "    [\n",
    "      [1,  2,  3,  4,  5 ],\n",
    "      [6,  7,  8,  9,  10],\n",
    "      [11, 12, 13, 14, 15],\n",
    "    ],\n",
    "    [\n",
    "      [16, 17, 18, 19, 20],\n",
    "      [21, 22, 23, 24, 25],\n",
    "      [26, 27, 28, 29, 30],\n",
    "    ]\n",
    "  ]\n",
    ")\n",
    "array_3d"
   ],
   "execution_count": null,
   "outputs": []
  },
  {
   "cell_type": "markdown",
   "metadata": {
    "id": "webMxD6uoYze"
   },
   "source": [
    "### Using zeros / ones / full\n",
    "\n"
   ]
  },
  {
   "cell_type": "code",
   "metadata": {
    "id": "jGqitqyTocBD"
   },
   "source": [
    "shape = (2, 3)\n",
    "\n",
    "np.zeros(shape)"
   ],
   "execution_count": null,
   "outputs": []
  },
  {
   "cell_type": "code",
   "metadata": {
    "id": "cdSok2u-pSPd"
   },
   "source": [
    "np.ones(shape)"
   ],
   "execution_count": null,
   "outputs": []
  },
  {
   "cell_type": "code",
   "metadata": {
    "id": "RCN5_xuhpUQd"
   },
   "source": [
    "fill_value = 42\n",
    "np.full(shape, fill_value)"
   ],
   "execution_count": null,
   "outputs": []
  },
  {
   "cell_type": "markdown",
   "metadata": {
    "id": "9cSS0vIQpiz5"
   },
   "source": [
    "### Using zeros_like / ones_like / full_like"
   ]
  },
  {
   "cell_type": "code",
   "metadata": {
    "id": "joGdJhWKpf1u"
   },
   "source": [
    "np.zeros_like(array_2d)"
   ],
   "execution_count": null,
   "outputs": []
  },
  {
   "cell_type": "code",
   "metadata": {
    "id": "u_1eS6Tlpu_V"
   },
   "source": [
    "np.ones_like(array_2d)"
   ],
   "execution_count": null,
   "outputs": []
  },
  {
   "cell_type": "code",
   "metadata": {
    "id": "OIfdmB0ipwum"
   },
   "source": [
    "fill_value = 42\n",
    "np.full_like(array_2d, fill_value)"
   ],
   "execution_count": null,
   "outputs": []
  },
  {
   "cell_type": "markdown",
   "metadata": {
    "id": "QHpb58Mlstlf"
   },
   "source": [
    "### Using arange / linspace (1D arrays only)\n",
    "\n",
    "which are used to fill an array with values from the interval $[low, high]$ with specific step or number of points."
   ]
  },
  {
   "cell_type": "code",
   "metadata": {
    "id": "RXj5fzEtsw8j"
   },
   "source": [
    "start = 0\n",
    "stop  = 1\n",
    "step  = 0.1\n",
    "\n",
    "np.arange(start, stop, step)"
   ],
   "execution_count": null,
   "outputs": []
  },
  {
   "cell_type": "code",
   "metadata": {
    "id": "ZIeKi-TXtqYv"
   },
   "source": [
    "np.arange(start, stop + 1e-4, step)"
   ],
   "execution_count": null,
   "outputs": []
  },
  {
   "cell_type": "code",
   "metadata": {
    "id": "boiLTInxt0lW"
   },
   "source": [
    "n_steps = int((stop-start)/step) + 1\n",
    "np.linspace(start, stop, n_steps)"
   ],
   "execution_count": null,
   "outputs": []
  },
  {
   "cell_type": "markdown",
   "metadata": {
    "id": "Xb_VL-mF3eOK"
   },
   "source": [
    "### Using identity / diag (2D arrays only)\n",
    " to create identity or diagonal (with optional offset) matrices."
   ]
  },
  {
   "cell_type": "code",
   "metadata": {
    "id": "It68UUiU3dwQ"
   },
   "source": [
    "n = 4\n",
    "np.identity(n)"
   ],
   "execution_count": null,
   "outputs": []
  },
  {
   "cell_type": "code",
   "metadata": {
    "id": "1FLjhK1C4Ec6"
   },
   "source": [
    "np.diag([1, 2, 3, 4])"
   ],
   "execution_count": null,
   "outputs": []
  },
  {
   "cell_type": "code",
   "metadata": {
    "id": "CNk5Kc5p4V5T"
   },
   "source": [
    "offset = 1\n",
    "np.diag([1, 2, 3], offset)"
   ],
   "execution_count": null,
   "outputs": []
  },
  {
   "cell_type": "markdown",
   "metadata": {
    "id": "Y0IyazV4-DV9"
   },
   "source": [
    "### Using meshgrid\n",
    "For 1D arrays X_1, ..., X_n meshgrid behavior is specified as follows\n",
    "\n",
    "```\n",
    "G_1, ..., G_n = np.meshgrid(X_1, ..., X_n, indexing='ij')\n",
    "G_j[i_1, i_2, ..., i_n] = X_j[i_j]\n",
    "\n",
    "G_1, ..., G_n = np.meshgrid(X_1, ..., X_n, indexing='xy')  # default indexing\n",
    "G_j[i_2, i_1, i_3, ..., i_n] = X_j[i_j]\n",
    "```\n",
    "\n",
    "what facilitates creating coordinate grids,\n",
    "\n",
    "\n"
   ]
  },
  {
   "cell_type": "code",
   "metadata": {
    "id": "0SHM6BbM_flY"
   },
   "source": [
    "x = np.array([1, 2, 3], dtype=int)\n",
    "y = np.array([4, 5, 6, 7], dtype=int)\n",
    "\n",
    "x_grid, y_grid = np.meshgrid(x, y, indexing='ij')"
   ],
   "execution_count": null,
   "outputs": []
  },
  {
   "cell_type": "markdown",
   "metadata": {
    "id": "gXGPzDVbj0EO"
   },
   "source": [
    "such as:"
   ]
  },
  {
   "cell_type": "code",
   "metadata": {
    "id": "bWXMGUSv-Cfc"
   },
   "source": [
    "x_grid"
   ],
   "execution_count": null,
   "outputs": []
  },
  {
   "cell_type": "code",
   "metadata": {
    "id": "_W4WNW_V_vqx"
   },
   "source": [
    "y_grid"
   ],
   "execution_count": null,
   "outputs": []
  },
  {
   "cell_type": "code",
   "metadata": {
    "id": "pweUsBo8_z3S"
   },
   "source": [
    "x_grid.shape == y_grid.shape == (len(x), len(y))"
   ],
   "execution_count": null,
   "outputs": []
  },
  {
   "cell_type": "markdown",
   "metadata": {
    "id": "e6mlIrax7hgC"
   },
   "source": [
    "### Using tile & repeat\n",
    "to create an array filled with \"repeating pattern\"."
   ]
  },
  {
   "cell_type": "code",
   "metadata": {
    "id": "DYXekk6v8H2g"
   },
   "source": [
    "array = np.array([0,1,2])"
   ],
   "execution_count": null,
   "outputs": []
  },
  {
   "cell_type": "code",
   "metadata": {
    "id": "yFGyhV4y7yc8"
   },
   "source": [
    "np.tile(array, 2)"
   ],
   "execution_count": null,
   "outputs": []
  },
  {
   "cell_type": "code",
   "metadata": {
    "id": "YtiHvEmC76KX"
   },
   "source": [
    "np.tile(array, (2, 1))"
   ],
   "execution_count": null,
   "outputs": []
  },
  {
   "cell_type": "code",
   "metadata": {
    "id": "ivQi_Yr58FSV"
   },
   "source": [
    "np.repeat(array, 2)"
   ],
   "execution_count": null,
   "outputs": []
  },
  {
   "cell_type": "code",
   "metadata": {
    "id": "kYKNAtvs8VE2"
   },
   "source": [
    "np.repeat(array, 2, axis=0)"
   ],
   "execution_count": null,
   "outputs": []
  },
  {
   "cell_type": "code",
   "metadata": {
    "id": "jb1KKdp18chc"
   },
   "source": [
    "np.repeat(array.reshape(1, -1), 2, axis=0)"
   ],
   "execution_count": null,
   "outputs": []
  },
  {
   "cell_type": "code",
   "metadata": {
    "id": "F7Mqcyj-8wsO"
   },
   "source": [
    "np.repeat(array.reshape(1, -1), 2, axis=1)"
   ],
   "execution_count": null,
   "outputs": []
  },
  {
   "cell_type": "markdown",
   "metadata": {
    "id": "Bvo7c15Z4uyl"
   },
   "source": [
    "## NumPy dtypes\n",
    "\n",
    "Full list of NumPy dtypes is available here: https://numpy.org/doc/stable/user/basics.types.html\n",
    "\n",
    "Among which there are 5 basic numerical types representing booleans (bool), integers (int), unsigned integers (uint) floating point (float) and complex.\n",
    "\n",
    "Data-types can be used as arguments to the dtype keyword that many numpy functions or methods accept, in particular array creation routines.\n",
    "\n",
    "See examples below."
   ]
  },
  {
   "cell_type": "code",
   "metadata": {
    "id": "71bkCN7u4uF1"
   },
   "source": [
    "np.array([1, 2, 3, 4, 5], dtype=int)"
   ],
   "execution_count": null,
   "outputs": []
  },
  {
   "cell_type": "code",
   "metadata": {
    "id": "pG-Kev4U66cU"
   },
   "source": [
    "np.array([1, 2, 3, 4, 5], dtype=float)"
   ],
   "execution_count": null,
   "outputs": []
  },
  {
   "cell_type": "code",
   "metadata": {
    "id": "GIvrCwdq6_Mk"
   },
   "source": [
    "np.array([1, 2, 3, 4, 5], dtype=complex)"
   ],
   "execution_count": null,
   "outputs": []
  },
  {
   "cell_type": "markdown",
   "metadata": {
    "id": "eLPy8VOR7MSH"
   },
   "source": [
    "Types can be cast as follows"
   ]
  },
  {
   "cell_type": "code",
   "metadata": {
    "id": "aXDd4Is-7pd1"
   },
   "source": [
    "float_array   = np.array([1, 2, 3, 4, 5], dtype=float)\n",
    "complex_array = float_array.astype(complex)\n",
    "\n",
    "float_array, float_array.dtype"
   ],
   "execution_count": null,
   "outputs": []
  },
  {
   "cell_type": "code",
   "metadata": {
    "id": "XZ4nwgP08DdW"
   },
   "source": [
    "complex_array, complex_array.dtype"
   ],
   "execution_count": null,
   "outputs": []
  },
  {
   "cell_type": "markdown",
   "metadata": {
    "id": "ZHAX35DzIV6f"
   },
   "source": [
    "## Saving / loading data"
   ]
  },
  {
   "cell_type": "markdown",
   "metadata": {
    "id": "a8JqT2YNIYLT"
   },
   "source": [
    "### Using savetxt / loadtxt\n",
    "\n",
    "to process a single 1D/2D array in human readable format. File created with `savetxt` can be easily accessed with a text editor"
   ]
  },
  {
   "cell_type": "code",
   "metadata": {
    "id": "DzZhxR8GIjZ8"
   },
   "source": [
    "data = np.array(\n",
    "  [\n",
    "    [1, 2],\n",
    "    [3, 4],\n",
    "  ]\n",
    ")\n",
    "\n",
    "np.savetxt('data.txt', data)\n",
    "!cat data.txt"
   ],
   "execution_count": null,
   "outputs": []
  },
  {
   "cell_type": "markdown",
   "metadata": {
    "id": "4NbX_OQvlGWJ"
   },
   "source": [
    "as well as seamlessly loaded back with `loadtxt`.\n"
   ]
  },
  {
   "cell_type": "code",
   "metadata": {
    "id": "Qhb4Lak7Ke6T"
   },
   "source": [
    "np.loadtxt('data.txt')"
   ],
   "execution_count": null,
   "outputs": []
  },
  {
   "cell_type": "markdown",
   "metadata": {
    "id": "HQphHlhfJeJR"
   },
   "source": [
    "File format can be specified, see https://numpy.org/doc/stable/reference/generated/numpy.savetxt.html for reference"
   ]
  },
  {
   "cell_type": "code",
   "metadata": {
    "id": "USsR9kCDIsVk"
   },
   "source": [
    "np.savetxt('data.txt', data, fmt='%.2f')\n",
    "!cat data.txt"
   ],
   "execution_count": null,
   "outputs": []
  },
  {
   "cell_type": "code",
   "metadata": {
    "id": "d0Gzo5ZWLV8N"
   },
   "source": [
    "np.savetxt('data.txt', data, fmt='%d')\n",
    "!cat data.txt"
   ],
   "execution_count": null,
   "outputs": []
  },
  {
   "cell_type": "markdown",
   "metadata": {
    "id": "YjGhKKPELdhN"
   },
   "source": [
    "Nevertheless information regarding dtype is not preserved."
   ]
  },
  {
   "cell_type": "code",
   "metadata": {
    "id": "mTXW5ua_LHoU"
   },
   "source": [
    "np.loadtxt('data.txt')"
   ],
   "execution_count": null,
   "outputs": []
  },
  {
   "cell_type": "code",
   "metadata": {
    "id": "vz3si1gRLKs9"
   },
   "source": [
    "np.loadtxt('data.txt', dtype=int)"
   ],
   "execution_count": null,
   "outputs": []
  },
  {
   "cell_type": "markdown",
   "metadata": {
    "id": "j_VJpd3LlxHY"
   },
   "source": [
    "`savetxt` method can be used to save an array in csv format, we only need to specify the proper delimiter"
   ]
  },
  {
   "cell_type": "code",
   "metadata": {
    "id": "S-PlqdM0lZDY"
   },
   "source": [
    "np.savetxt('data.csv', data, delimiter=',', fmt='%.2f')\n",
    "!cat data.csv"
   ],
   "execution_count": null,
   "outputs": []
  },
  {
   "cell_type": "markdown",
   "metadata": {
    "id": "RDOnFgRNmPlM"
   },
   "source": [
    "as well as loaded back"
   ]
  },
  {
   "cell_type": "code",
   "metadata": {
    "id": "ENHRU23jmRZc"
   },
   "source": [
    "np.loadtxt('data.csv', delimiter=',')"
   ],
   "execution_count": null,
   "outputs": []
  },
  {
   "cell_type": "markdown",
   "metadata": {
    "id": "ugKAZugbLycP"
   },
   "source": [
    "### Using save / load\n",
    "to process an arbitrary array in binary format. Unfortunately the resulting file is not human readable. On the other hand these methods can handle array of arbitrary shape and preserve the underlying dtype."
   ]
  },
  {
   "cell_type": "code",
   "metadata": {
    "id": "2lTtexfcMEu3"
   },
   "source": [
    "data = np.array(\n",
    "  [\n",
    "    [\n",
    "      [1, 2],\n",
    "      [3, 4],\n",
    "    ]\n",
    "  ]\n",
    ")\n",
    "\n",
    "np.save('data.npy', data)\n",
    "\n",
    "!cat data.npy"
   ],
   "execution_count": null,
   "outputs": []
  },
  {
   "cell_type": "code",
   "metadata": {
    "id": "1Pk_OTk2MHqL"
   },
   "source": [
    "np.load('data.npy')"
   ],
   "execution_count": null,
   "outputs": []
  },
  {
   "cell_type": "code",
   "metadata": {
    "id": "zYrC513RMMh6"
   },
   "source": [
    "np.load('data.npy').dtype == data.dtype"
   ],
   "execution_count": null,
   "outputs": []
  },
  {
   "cell_type": "markdown",
   "metadata": {
    "id": "lkpcm3PlMXtv"
   },
   "source": [
    "### Using savez / load\n",
    "\n",
    "to process **multiple** arbitrary arrays in binary format. The result of the load operation is an object of dictionary-like structure."
   ]
  },
  {
   "cell_type": "code",
   "metadata": {
    "id": "-bn26s1dMXtv"
   },
   "source": [
    "array_1 = np.array([1, 2, 3], dtype=int)\n",
    "array_2 = np.array([[4, 5, 6]], dtype=float)\n",
    "array_3 = np.array([[[7, 8, 9]]], dtype=complex)\n",
    "\n",
    "np.savez('data.npz', array_1, array_2, some_name=array_3)\n",
    "loaded_data = np.load('data.npz')\n",
    "loaded_data.files"
   ],
   "execution_count": null,
   "outputs": []
  },
  {
   "cell_type": "code",
   "metadata": {
    "id": "FiwGug7xMXtw"
   },
   "source": [
    "loaded_data['arr_0']"
   ],
   "execution_count": null,
   "outputs": []
  },
  {
   "cell_type": "code",
   "metadata": {
    "id": "rHCoJAwdOGxd"
   },
   "source": [
    "loaded_data['arr_1']"
   ],
   "execution_count": null,
   "outputs": []
  },
  {
   "cell_type": "code",
   "metadata": {
    "id": "Kgv1HwOnMXtx"
   },
   "source": [
    "loaded_data['some_name']"
   ],
   "execution_count": null,
   "outputs": []
  },
  {
   "cell_type": "markdown",
   "metadata": {
    "id": "7pPE-mrEAB4T"
   },
   "source": [
    "### Using savez_compressed / load\n",
    "to process multiple arbitrary arrays in binary format with compression. It behaves just as savez but the resulting file is also compressed, what save space on the disk.\n",
    "\n"
   ]
  },
  {
   "cell_type": "code",
   "metadata": {
    "id": "xtWLF3gknZyN"
   },
   "source": [
    "shape = (1000, 1000)\n",
    "data = np.ones(shape)\n",
    "np.savez('data_uncompressed.npz', data)\n",
    "np.savez_compressed('data_compressed.npz', data)"
   ],
   "execution_count": null,
   "outputs": []
  },
  {
   "cell_type": "markdown",
   "metadata": {
    "id": "xZac4u3Qn6rB"
   },
   "source": [
    "We can compare the filesizes with `ls` command."
   ]
  },
  {
   "cell_type": "code",
   "metadata": {
    "id": "EYY-wyecn_VR"
   },
   "source": [
    "!ls data_*compressed.npz -lh"
   ],
   "execution_count": null,
   "outputs": []
  },
  {
   "cell_type": "markdown",
   "metadata": {
    "id": "u7MwrG5zOd0u"
   },
   "source": [
    "## Shape manipulation\n",
    "It is possible to change the structure of data in the array. See examples below."
   ]
  },
  {
   "cell_type": "markdown",
   "metadata": {
    "id": "HcfnlAKZRybF"
   },
   "source": [
    "#### Reshape"
   ]
  },
  {
   "cell_type": "code",
   "metadata": {
    "id": "BV0M5pEUR7uZ"
   },
   "source": [
    "data = np.arange(0, 12, 1, dtype = int)\n",
    "data"
   ],
   "execution_count": null,
   "outputs": []
  },
  {
   "cell_type": "code",
   "metadata": {
    "id": "W32PRVRRSP6C"
   },
   "source": [
    "data.reshape(3, 4)"
   ],
   "execution_count": null,
   "outputs": []
  },
  {
   "cell_type": "code",
   "metadata": {
    "id": "qrMXwOeWSRtS"
   },
   "source": [
    "data.reshape(4, 3)"
   ],
   "execution_count": null,
   "outputs": []
  },
  {
   "cell_type": "code",
   "metadata": {
    "id": "ABDOg0W_STMb"
   },
   "source": [
    "data_reshaped = data.reshape(2, 3, 2)\n",
    "data_reshaped"
   ],
   "execution_count": null,
   "outputs": []
  },
  {
   "cell_type": "code",
   "metadata": {
    "id": "enjgvo5GSXwr"
   },
   "source": [
    "shape = data_reshaped.shape\n",
    "shape"
   ],
   "execution_count": null,
   "outputs": []
  },
  {
   "cell_type": "markdown",
   "metadata": {
    "id": "E5eLjehcUI54"
   },
   "source": [
    "#### Inferring **one** dimension while usigng reshape method"
   ]
  },
  {
   "cell_type": "code",
   "metadata": {
    "id": "D1uvX6j2UOn1"
   },
   "source": [
    "data.reshape(6, -1)"
   ],
   "execution_count": null,
   "outputs": []
  },
  {
   "cell_type": "code",
   "metadata": {
    "id": "KJKIn8I2UTdY"
   },
   "source": [
    "data.reshape(-1, 6)"
   ],
   "execution_count": null,
   "outputs": []
  },
  {
   "cell_type": "code",
   "metadata": {
    "id": "YVRFWz5KUVyh"
   },
   "source": [
    "data.reshape(3, 2, -1)"
   ],
   "execution_count": null,
   "outputs": []
  },
  {
   "cell_type": "markdown",
   "metadata": {
    "id": "z7JN4va5UFNQ"
   },
   "source": [
    "#### Flatten"
   ]
  },
  {
   "cell_type": "code",
   "metadata": {
    "id": "VbfFSFnNSlKM"
   },
   "source": [
    "data_reshaped.flatten()"
   ],
   "execution_count": null,
   "outputs": []
  },
  {
   "cell_type": "markdown",
   "metadata": {
    "id": "C1Q-G6XiUgHZ"
   },
   "source": [
    "#### Adding / deleting dummy dimensions\n",
    "Facilites vectorized arithmetic with conjunction with broadcasting mechanism (explained later)"
   ]
  },
  {
   "cell_type": "code",
   "metadata": {
    "id": "ttSoPC-4UfH8"
   },
   "source": [
    "data"
   ],
   "execution_count": null,
   "outputs": []
  },
  {
   "cell_type": "code",
   "metadata": {
    "id": "V8u1DSQ4VOks"
   },
   "source": [
    "data.shape"
   ],
   "execution_count": null,
   "outputs": []
  },
  {
   "cell_type": "code",
   "metadata": {
    "id": "u5aGbVEKU5i9"
   },
   "source": [
    "data_expanded1 = np.expand_dims(data, 0)\n",
    "data_expanded1"
   ],
   "execution_count": null,
   "outputs": []
  },
  {
   "cell_type": "code",
   "metadata": {
    "id": "7jf6QbLDVCqr"
   },
   "source": [
    "data_expanded1.shape"
   ],
   "execution_count": null,
   "outputs": []
  },
  {
   "cell_type": "code",
   "metadata": {
    "id": "Vr3DxigtVD9b"
   },
   "source": [
    "data_expanded2 = np.expand_dims(data, 1)\n",
    "data_expanded2"
   ],
   "execution_count": null,
   "outputs": []
  },
  {
   "cell_type": "code",
   "metadata": {
    "id": "V1rEBe5VVHje"
   },
   "source": [
    "data_expanded2.shape"
   ],
   "execution_count": null,
   "outputs": []
  },
  {
   "cell_type": "code",
   "metadata": {
    "id": "CAM7vbmNVLHM"
   },
   "source": [
    "data_expanded3 = np.expand_dims(data_expanded1, 2)\n",
    "data_expanded3"
   ],
   "execution_count": null,
   "outputs": []
  },
  {
   "cell_type": "code",
   "metadata": {
    "id": "xCuzgo84V_QG"
   },
   "source": [
    "data_expanded3.shape"
   ],
   "execution_count": null,
   "outputs": []
  },
  {
   "cell_type": "code",
   "metadata": {
    "id": "s8fcV0ywV_lC"
   },
   "source": [
    "data_squeezed = data_expanded3.squeeze()\n",
    "data_squeezed"
   ],
   "execution_count": null,
   "outputs": []
  },
  {
   "cell_type": "code",
   "metadata": {
    "id": "uykmKsMFWFPJ"
   },
   "source": [
    "data_squeezed.shape"
   ],
   "execution_count": null,
   "outputs": []
  },
  {
   "cell_type": "markdown",
   "metadata": {
    "id": "LpAE74RVWIZ6"
   },
   "source": [
    "#### Transposing\n",
    "\n",
    "For 2D arrays it behaves just as expected (performs matrix transpose)."
   ]
  },
  {
   "cell_type": "code",
   "metadata": {
    "id": "TlDkSdFbWr3S"
   },
   "source": [
    "data = np.arange(0, 4, 1).reshape(2, 2)\n",
    "data"
   ],
   "execution_count": null,
   "outputs": []
  },
  {
   "cell_type": "code",
   "metadata": {
    "id": "LuTAWIIIWztK"
   },
   "source": [
    "data.transpose()"
   ],
   "execution_count": null,
   "outputs": []
  },
  {
   "cell_type": "markdown",
   "metadata": {
    "id": "a1CUvf_SXETi"
   },
   "source": [
    "For higher dimensional arrays its best visualized via observing how the shape changes."
   ]
  },
  {
   "cell_type": "code",
   "metadata": {
    "id": "MoB0Bm2xWdoK"
   },
   "source": [
    "shape = (1, 2, 3, 4)\n",
    "data = np.ones(shape)\n",
    "data.shape"
   ],
   "execution_count": null,
   "outputs": []
  },
  {
   "cell_type": "markdown",
   "metadata": {
    "id": "KhiAsVjqXjHP"
   },
   "source": [
    "The default behavior is to flip dimensions."
   ]
  },
  {
   "cell_type": "code",
   "metadata": {
    "id": "FRtIar69XoTk"
   },
   "source": [
    "data.transpose().shape"
   ],
   "execution_count": null,
   "outputs": []
  },
  {
   "cell_type": "markdown",
   "metadata": {
    "id": "CmLxe99uXsHc"
   },
   "source": [
    "However other permutations of dimensions might be specified."
   ]
  },
  {
   "cell_type": "code",
   "metadata": {
    "id": "rCQvZCdvWiyz"
   },
   "source": [
    "dimensions_permutation = [1, 0, 3, 2]\n",
    "data.transpose(dimensions_permutation).shape"
   ],
   "execution_count": null,
   "outputs": []
  },
  {
   "cell_type": "markdown",
   "metadata": {
    "id": "-wTUj5N4Wj1c"
   },
   "source": [
    "`.T` is a shortand for `.transpose()`"
   ]
  },
  {
   "cell_type": "code",
   "metadata": {
    "id": "jJ0zxRMXYw5H"
   },
   "source": [
    "data.T.shape"
   ],
   "execution_count": null,
   "outputs": []
  },
  {
   "cell_type": "markdown",
   "metadata": {
    "id": "L9ypvo97uHpM"
   },
   "source": [
    "## Concatenation & stacking\n",
    "The following methods are used to merge multiple arrays (with compatible shapes) into one array."
   ]
  },
  {
   "cell_type": "markdown",
   "metadata": {
    "id": "PnRyiUEWvmKc"
   },
   "source": [
    "### concatenate\n",
    "used to join a sequence of arrays along an **existing** axis."
   ]
  },
  {
   "cell_type": "code",
   "metadata": {
    "id": "_AMMldjRuLDk"
   },
   "source": [
    "shape = (4,)\n",
    "array_1 = np.full(shape, 1)\n",
    "array_2 = np.full(shape, 2)\n",
    "\n",
    "array_1, array_2"
   ],
   "execution_count": null,
   "outputs": []
  },
  {
   "cell_type": "code",
   "metadata": {
    "id": "6tmV5Xdxulyk"
   },
   "source": [
    "np.concatenate([array_1, array_2, array_1])"
   ],
   "execution_count": null,
   "outputs": []
  },
  {
   "cell_type": "code",
   "metadata": {
    "id": "qLX4ZlU0u98d"
   },
   "source": [
    "array_1 = array_1.reshape(1, -1)\n",
    "array_2 = array_2.reshape(1, -1)\n",
    "\n",
    "array_1, array_2"
   ],
   "execution_count": null,
   "outputs": []
  },
  {
   "cell_type": "markdown",
   "metadata": {
    "id": "BHsemg62vKqO"
   },
   "source": [
    "The default axis to join on is 0"
   ]
  },
  {
   "cell_type": "code",
   "metadata": {
    "id": "Z6gb6VjvvVjX"
   },
   "source": [
    "np.concatenate([array_1, array_2, array_1])"
   ],
   "execution_count": null,
   "outputs": []
  },
  {
   "cell_type": "markdown",
   "metadata": {
    "id": "0laiWLYsvW3m"
   },
   "source": [
    "But it can be changed"
   ]
  },
  {
   "cell_type": "code",
   "metadata": {
    "id": "A0jUTxCsva4u"
   },
   "source": [
    "np.concatenate([array_1, array_2, array_1], axis=1)"
   ],
   "execution_count": null,
   "outputs": []
  },
  {
   "cell_type": "markdown",
   "metadata": {
    "id": "--40g1HAvqZE"
   },
   "source": [
    "### stack\n",
    "\n",
    "used to stack a sequence of arrays along a **new** axis."
   ]
  },
  {
   "cell_type": "code",
   "metadata": {
    "id": "IQmFfIiZv1n4",
    "ExecuteTime": {
     "end_time": "2023-10-06T08:09:18.231940Z",
     "start_time": "2023-10-06T08:09:18.028803Z"
    }
   },
   "source": [
    "shape = (4,)\n",
    "array_1 = np.full(shape, 1)\n",
    "array_2 = np.full(shape, 2)\n",
    "\n",
    "array_1, array_2"
   ],
   "execution_count": 1,
   "outputs": [
    {
     "ename": "NameError",
     "evalue": "name 'np' is not defined",
     "output_type": "error",
     "traceback": [
      "\u001B[0;31m---------------------------------------------------------------------------\u001B[0m",
      "\u001B[0;31mNameError\u001B[0m                                 Traceback (most recent call last)",
      "\u001B[0;32m/var/folders/rp/617gz73x3b93d8v2hszwskkw0000gn/T/ipykernel_42805/4213980879.py\u001B[0m in \u001B[0;36m<module>\u001B[0;34m\u001B[0m\n\u001B[1;32m      1\u001B[0m \u001B[0mshape\u001B[0m \u001B[0;34m=\u001B[0m \u001B[0;34m(\u001B[0m\u001B[0;36m4\u001B[0m\u001B[0;34m,\u001B[0m\u001B[0;34m)\u001B[0m\u001B[0;34m\u001B[0m\u001B[0;34m\u001B[0m\u001B[0m\n\u001B[0;32m----> 2\u001B[0;31m \u001B[0marray_1\u001B[0m \u001B[0;34m=\u001B[0m \u001B[0mnp\u001B[0m\u001B[0;34m.\u001B[0m\u001B[0mfull\u001B[0m\u001B[0;34m(\u001B[0m\u001B[0mshape\u001B[0m\u001B[0;34m,\u001B[0m \u001B[0;36m1\u001B[0m\u001B[0;34m)\u001B[0m\u001B[0;34m\u001B[0m\u001B[0;34m\u001B[0m\u001B[0m\n\u001B[0m\u001B[1;32m      3\u001B[0m \u001B[0marray_2\u001B[0m \u001B[0;34m=\u001B[0m \u001B[0mnp\u001B[0m\u001B[0;34m.\u001B[0m\u001B[0mfull\u001B[0m\u001B[0;34m(\u001B[0m\u001B[0mshape\u001B[0m\u001B[0;34m,\u001B[0m \u001B[0;36m2\u001B[0m\u001B[0;34m)\u001B[0m\u001B[0;34m\u001B[0m\u001B[0;34m\u001B[0m\u001B[0m\n\u001B[1;32m      4\u001B[0m \u001B[0;34m\u001B[0m\u001B[0m\n\u001B[1;32m      5\u001B[0m \u001B[0marray_1\u001B[0m\u001B[0;34m,\u001B[0m \u001B[0marray_2\u001B[0m\u001B[0;34m\u001B[0m\u001B[0;34m\u001B[0m\u001B[0m\n",
      "\u001B[0;31mNameError\u001B[0m: name 'np' is not defined"
     ]
    }
   ]
  },
  {
   "cell_type": "code",
   "metadata": {
    "id": "k4CJsJmLw3nV"
   },
   "source": [
    "np.stack([array_1, array_2, array_1])"
   ],
   "execution_count": null,
   "outputs": []
  },
  {
   "cell_type": "code",
   "metadata": {
    "id": "UPWMHBRLw7YN"
   },
   "source": [
    "np.stack([array_1, array_2, array_1], axis=1)"
   ],
   "execution_count": null,
   "outputs": []
  },
  {
   "cell_type": "markdown",
   "metadata": {
    "id": "29tgPR7jxE0n"
   },
   "source": [
    "\n",
    "### hstack, vstack and dstack\n",
    "stand for horizontal, vertical and depthwise stacking"
   ]
  },
  {
   "cell_type": "code",
   "metadata": {
    "id": "UvYSgl-YxVBf"
   },
   "source": [
    "np.hstack([array_1, array_2, array_1])"
   ],
   "execution_count": null,
   "outputs": []
  },
  {
   "cell_type": "code",
   "metadata": {
    "id": "3bgtiAgtxbFo"
   },
   "source": [
    "np.vstack([array_1, array_2, array_1])"
   ],
   "execution_count": null,
   "outputs": []
  },
  {
   "cell_type": "code",
   "metadata": {
    "id": "v8sLDA9Mxrg7"
   },
   "source": [
    "np.dstack([array_1, array_2, array_1])"
   ],
   "execution_count": null,
   "outputs": []
  },
  {
   "cell_type": "markdown",
   "metadata": {
    "id": "hVLsd4dRynKs"
   },
   "source": [
    "## Mathematical operations\n",
    "As stated before\n",
    "\n",
    "> NumPy arrays facilitate advanced mathematical and other types of operations on large numbers of data. Typically, such operations are executed more efficiently and with less code than is possible using Python’s built-in sequences.\n",
    "\n",
    "Let us observe some examples.\n",
    "\n"
   ]
  },
  {
   "cell_type": "code",
   "metadata": {
    "id": "YEZXVI031blS"
   },
   "source": [
    "x = np.arange(0, 3, 1)\n",
    "y = np.arange(3, 6, 1)\n",
    "\n",
    "x, y"
   ],
   "execution_count": null,
   "outputs": []
  },
  {
   "cell_type": "markdown",
   "metadata": {
    "id": "-ueTCTNM10NF"
   },
   "source": [
    "#### Elementwise\n",
    "\n",
    "Basic mathematical operations will be applied to the arrays elementwise."
   ]
  },
  {
   "cell_type": "code",
   "metadata": {
    "id": "MEg62Rxz2H9j"
   },
   "source": [
    "2 * x"
   ],
   "execution_count": null,
   "outputs": []
  },
  {
   "cell_type": "code",
   "metadata": {
    "id": "_EWYjqsF2J5L"
   },
   "source": [
    "x * 2"
   ],
   "execution_count": null,
   "outputs": []
  },
  {
   "cell_type": "code",
   "metadata": {
    "id": "-ngJGA2P2OGr"
   },
   "source": [
    "np.sin(x)"
   ],
   "execution_count": null,
   "outputs": []
  },
  {
   "cell_type": "code",
   "metadata": {
    "id": "mhqcwPqr2SSL"
   },
   "source": [
    "x**2"
   ],
   "execution_count": null,
   "outputs": []
  },
  {
   "cell_type": "markdown",
   "metadata": {
    "id": "k4eTsdsA2to6"
   },
   "source": [
    "The same applies to the binary (taking two arguments) operators and arrays of the same shape."
   ]
  },
  {
   "cell_type": "code",
   "metadata": {
    "id": "k8j2TfWS2zy5"
   },
   "source": [
    "x + y"
   ],
   "execution_count": null,
   "outputs": []
  },
  {
   "cell_type": "code",
   "metadata": {
    "id": "ApB4OBh720_h"
   },
   "source": [
    "x * y"
   ],
   "execution_count": null,
   "outputs": []
  },
  {
   "cell_type": "code",
   "metadata": {
    "id": "jnuLk9XV3AmH"
   },
   "source": [
    "x / y"
   ],
   "execution_count": null,
   "outputs": []
  },
  {
   "cell_type": "code",
   "metadata": {
    "id": "2oE-l0QP229x"
   },
   "source": [
    "y ** x"
   ],
   "execution_count": null,
   "outputs": []
  },
  {
   "cell_type": "markdown",
   "metadata": {
    "id": "MstU73vw3GR5"
   },
   "source": [
    "#### Broadcasting\n",
    "\n",
    "When arrays have different shapes the broadcasting mechanism comes into play.\n",
    "\n",
    "The term broadcasting describes how NumPy treats arrays with different shapes during arithmetic operations. Subject to certain constraints, the smaller array is “broadcast” across the larger array so that they have compatible shapes. Broadcasting provides a means of vectorizing array operations so that looping occurs in C instead of Python. It does this without making needless copies of data and usually leads to efficient algorithm implementations.\n",
    "\n",
    "When operating on two arrays, NumPy compares their shapes element-wise. It starts with the trailing (i.e. rightmost) dimensions and works its way left. Two dimensions are compatible when\n",
    "\n",
    "- they are equal, or\n",
    "- one of them is 1\n",
    "\n",
    "If these conditions are not met, a `ValueError: operands could not be broadcast together` exception is thrown, indicating that the arrays have incompatible shapes. The size of the resulting array is the size that is not 1 along each axis of the inputs.\n",
    "\n",
    "from: https://numpy.org/devdocs/user/basics.broadcasting.html"
   ]
  },
  {
   "cell_type": "code",
   "metadata": {
    "id": "FTn0D-662Roj"
   },
   "source": [
    "x_shape = (2, 4)\n",
    "y_shape = (2, 1)\n",
    "\n",
    "x = np.ones(x_shape)\n",
    "y = np.ones(y_shape)\n",
    "\n",
    "(x + y).shape"
   ],
   "execution_count": null,
   "outputs": []
  },
  {
   "cell_type": "code",
   "metadata": {
    "id": "fEAXWJg54gC6"
   },
   "source": [
    "x_shape =    (2, 4)\n",
    "y_shape = (3, 1, 1)\n",
    "\n",
    "x = np.ones(x_shape)\n",
    "y = np.ones(y_shape)\n",
    "\n",
    "(x + y).shape"
   ],
   "execution_count": null,
   "outputs": []
  },
  {
   "cell_type": "code",
   "metadata": {
    "id": "innvq0dI4lCr"
   },
   "source": [
    "x_shape = (   1, 4)\n",
    "y_shape = (3, 2, 1)\n",
    "\n",
    "x = np.ones(x_shape)\n",
    "y = np.ones(y_shape)\n",
    "\n",
    "(x + y).shape"
   ],
   "execution_count": null,
   "outputs": []
  },
  {
   "cell_type": "markdown",
   "metadata": {
    "id": "ownJQme57_Ho"
   },
   "source": [
    "### Matrix / tensor operations\n",
    "NumPy package wouldn't be complete without means to manipulate arrays other than elementwise operations, such as most common linear algebra functionalities. See the examples below."
   ]
  },
  {
   "cell_type": "markdown",
   "metadata": {
    "id": "1sIxcKax8cg5"
   },
   "source": [
    "#### Matrix multiplication\n",
    "\n",
    "can be performed with `matmul` method"
   ]
  },
  {
   "cell_type": "code",
   "metadata": {
    "id": "YFUeAbZj8hU5"
   },
   "source": [
    "a = np.eye(3)\n",
    "a[2,2] = 2\n",
    "b = np.arange(0, 3, 1).reshape(3, 1)\n",
    "\n",
    "a"
   ],
   "execution_count": null,
   "outputs": []
  },
  {
   "cell_type": "code",
   "metadata": {
    "id": "fd41AACC_bbF"
   },
   "source": [
    "b"
   ],
   "execution_count": null,
   "outputs": []
  },
  {
   "cell_type": "code",
   "metadata": {
    "id": "Y-18NpJX_cgc"
   },
   "source": [
    "np.matmul(a, b)"
   ],
   "execution_count": null,
   "outputs": []
  },
  {
   "cell_type": "markdown",
   "metadata": {
    "id": "l20RXVxg_8nU"
   },
   "source": [
    "or `@` operand"
   ]
  },
  {
   "cell_type": "code",
   "metadata": {
    "id": "h3AHDETg_2_E"
   },
   "source": [
    "a @ b"
   ],
   "execution_count": null,
   "outputs": []
  },
  {
   "cell_type": "markdown",
   "metadata": {
    "id": "FYCic63TAcKU"
   },
   "source": [
    "Be mindfull of its varying behaviour for different input shapes\n",
    "\n",
    "- If both arguments are 2-D they are multiplied like conventional matrices.\n",
    "- If either argument is N-D, N > 2, it is treated as a stack of matrices residing in the last two indexes and broadcast accordingly.\n",
    "- If the first argument is 1-D, it is promoted to a matrix by prepending a 1 to its dimensions. After matrix multiplication the prepended 1 is removed.\n",
    "- If the second argument is 1-D, it is promoted to a matrix by appending a 1 to its dimensions. After matrix multiplication the appended 1 is removed.\n",
    "\n",
    "from: https://numpy.org/doc/stable/reference/generated/numpy.matmul.html"
   ]
  },
  {
   "cell_type": "markdown",
   "metadata": {
    "id": "0EP2MLmCBEyu"
   },
   "source": [
    "#### Dot product\n",
    "\n",
    "can be performed using `dot` method."
   ]
  },
  {
   "cell_type": "code",
   "metadata": {
    "id": "eciZI6N9BKLm"
   },
   "source": [
    "x = np.arange(0, 3, 1)\n",
    "y = np.arange(3, 6, 1)\n",
    "\n",
    "x, y"
   ],
   "execution_count": null,
   "outputs": []
  },
  {
   "cell_type": "code",
   "metadata": {
    "id": "Y-M79hhnBXVv"
   },
   "source": [
    "np.dot(x, y)"
   ],
   "execution_count": null,
   "outputs": []
  },
  {
   "cell_type": "markdown",
   "metadata": {
    "id": "QzQDjBUbBgyJ"
   },
   "source": [
    "Be mindfull of its varying behaviour for different input shapes\n",
    "\n",
    "- If both a and b are 1-D arrays, it is inner product of vectors (without complex conjugation).\n",
    "\n",
    "- If both a and b are 2-D arrays, it is matrix multiplication, but using matmul or a @ b is preferred.\n",
    "\n",
    "- If either a or b is 0-D (scalar), it is equivalent to multiply and using numpy.multiply(a, b) or a * b is preferred.\n",
    "\n",
    "- If a is an N-D array and b is a 1-D array, it is a sum product over the last axis of a and b.\n",
    "\n",
    "- If a is an N-D array and b is an M-D array (where M>=2), it is a sum product over the last axis of a and the second-to-last axis of b:\n",
    "\n",
    "  ```\n",
    "  dot(a, b)[i,j,k,m] = sum(a[i,j,:] * b[k,:,m])\n",
    "  ```\n",
    "\n",
    "from: https://numpy.org/doc/stable/reference/generated/numpy.dot.html\n"
   ]
  },
  {
   "cell_type": "markdown",
   "metadata": {
    "id": "JbHGtGv5EiRE"
   },
   "source": [
    "#### Einstein summation convention\n",
    "Einstein summation convention provide a concise way of expressing multilinear operations. You can look it up here https://mathworld.wolfram.com/EinsteinSummation.html and its NumPy specification here https://numpy.org/doc/stable/reference/generated/numpy.einsum.html.\n",
    "\n",
    "Take a look a the following ilustrative examples.\n"
   ]
  },
  {
   "cell_type": "code",
   "metadata": {
    "id": "9ceniNXgg6e2"
   },
   "source": [
    "data = np.tri(3)\n",
    "data"
   ],
   "execution_count": null,
   "outputs": []
  },
  {
   "cell_type": "code",
   "metadata": {
    "id": "fFpsXkJbhuwJ"
   },
   "source": [
    "np.einsum('ij->ji', data)  # transpose"
   ],
   "execution_count": null,
   "outputs": []
  },
  {
   "cell_type": "code",
   "metadata": {
    "id": "UZ-VcjHthZq-"
   },
   "source": [
    "np.einsum('ij->i', data)  # row sum"
   ],
   "execution_count": null,
   "outputs": []
  },
  {
   "cell_type": "code",
   "metadata": {
    "id": "jg14G-s1hm_n"
   },
   "source": [
    "np.einsum('ij->j', data)  # column sum"
   ],
   "execution_count": null,
   "outputs": []
  },
  {
   "cell_type": "code",
   "metadata": {
    "id": "UfIfVmdohHuG"
   },
   "source": [
    "np.einsum('ii->i', data)  # diagonal"
   ],
   "execution_count": null,
   "outputs": []
  },
  {
   "cell_type": "code",
   "metadata": {
    "id": "hNCFExvziiT7"
   },
   "source": [
    "vector = np.ones(3)\n",
    "vector"
   ],
   "execution_count": null,
   "outputs": []
  },
  {
   "cell_type": "code",
   "metadata": {
    "id": "xpNMIWG2imKK"
   },
   "source": [
    "np.einsum('ij,j->i', data, vector)  # matrix multiplication (matrix x vector)"
   ],
   "execution_count": null,
   "outputs": []
  },
  {
   "cell_type": "code",
   "metadata": {
    "id": "ikx6mTuWi9TF"
   },
   "source": [
    "np.einsum('ij,jk->ik', data, vector.reshape(3, 1))  # matrix multiplication (matrix x matrix)"
   ],
   "execution_count": null,
   "outputs": []
  },
  {
   "cell_type": "markdown",
   "metadata": {
    "id": "pVUdwYH3GW05"
   },
   "source": [
    "## Other operations"
   ]
  },
  {
   "cell_type": "markdown",
   "metadata": {
    "id": "eiRGlH_vGmaI"
   },
   "source": [
    "### Aggregations: mean / var\n",
    "Very often we are required to calculate some aggregations with respect to specific dimensions of an array, such as mean or variance."
   ]
  },
  {
   "cell_type": "code",
   "metadata": {
    "id": "hhyoPd_DG39a"
   },
   "source": [
    "data = np.arange(0, 20, 1).reshape(4, 5)\n",
    "data"
   ],
   "execution_count": null,
   "outputs": []
  },
  {
   "cell_type": "markdown",
   "metadata": {
    "id": "bAwNyq96HEMi"
   },
   "source": [
    "By default the whole array is aggregated"
   ]
  },
  {
   "cell_type": "code",
   "metadata": {
    "id": "qfO9vYRFGw1k"
   },
   "source": [
    "data.mean()"
   ],
   "execution_count": null,
   "outputs": []
  },
  {
   "cell_type": "markdown",
   "metadata": {
    "id": "LEWqRMUZHBXM"
   },
   "source": [
    "But aggregations can also be applied axiswise"
   ]
  },
  {
   "cell_type": "code",
   "metadata": {
    "id": "aFGA-TSDHJVd"
   },
   "source": [
    "data.mean(axis=0)"
   ],
   "execution_count": null,
   "outputs": []
  },
  {
   "cell_type": "code",
   "metadata": {
    "id": "nvqcg3nlHKkc"
   },
   "source": [
    "data.mean(axis=1)"
   ],
   "execution_count": null,
   "outputs": []
  },
  {
   "cell_type": "code",
   "metadata": {
    "id": "5Z0DPbNqHMIN"
   },
   "source": [
    "data.var(axis=0)"
   ],
   "execution_count": null,
   "outputs": []
  },
  {
   "cell_type": "code",
   "metadata": {
    "id": "3hASONdoHYJL"
   },
   "source": [
    "data.var(axis=1)"
   ],
   "execution_count": null,
   "outputs": []
  },
  {
   "cell_type": "markdown",
   "metadata": {
    "id": "iFvzhMRxNMfz"
   },
   "source": [
    "### Aggregation: quantiles\n",
    "\n",
    "Many more aggregations are possible, e.g. determining data quantiles."
   ]
  },
  {
   "cell_type": "code",
   "metadata": {
    "id": "l-psF7MTNQn1"
   },
   "source": [
    "data = np.linspace(1, 2, 101)\n",
    "\n",
    "np.quantile(data, 0.3)"
   ],
   "execution_count": null,
   "outputs": []
  },
  {
   "cell_type": "code",
   "metadata": {
    "id": "k6AJnvgXNWpX"
   },
   "source": [
    "np.quantile(data, [0.3, 0.6])"
   ],
   "execution_count": null,
   "outputs": []
  },
  {
   "cell_type": "markdown",
   "metadata": {
    "id": "4kthnaqxNdpl"
   },
   "source": [
    "### Sorting\n",
    "Arrays can be sorted. By default sorting is performed with respect to the last dimension"
   ]
  },
  {
   "cell_type": "code",
   "metadata": {
    "id": "ScuZ5wvHNnzP"
   },
   "source": [
    "data = np.array([\n",
    "  [1, 4, 2, 8, 5],\n",
    "  [2, 3, 1, 9, 6],\n",
    "  [8, 2, 3, 7, 4],\n",
    "])\n",
    "\n",
    "np.sort(data)"
   ],
   "execution_count": null,
   "outputs": []
  },
  {
   "cell_type": "markdown",
   "metadata": {
    "id": "T5MVQ6L-ONtN"
   },
   "source": [
    "but sorting dimension can be explicitly specified."
   ]
  },
  {
   "cell_type": "code",
   "metadata": {
    "id": "V-uLaC9dN4z2"
   },
   "source": [
    "np.sort(data, axis=0)"
   ],
   "execution_count": null,
   "outputs": []
  },
  {
   "cell_type": "code",
   "metadata": {
    "id": "gPM7rRJIN5zu"
   },
   "source": [
    "np.sort(data, axis=1)"
   ],
   "execution_count": null,
   "outputs": []
  },
  {
   "cell_type": "markdown",
   "metadata": {
    "id": "xI3eftldOBd-"
   },
   "source": [
    "You can also get the \"sorting permutations\" that can be used in conjunction with advanced indexing (introduced below)."
   ]
  },
  {
   "cell_type": "code",
   "metadata": {
    "id": "kz1t6vBDOcW_"
   },
   "source": [
    "np.argsort(data, axis=0)"
   ],
   "execution_count": null,
   "outputs": []
  },
  {
   "cell_type": "code",
   "metadata": {
    "id": "HzIurHBROfbo"
   },
   "source": [
    "np.argsort(data, axis=1)"
   ],
   "execution_count": null,
   "outputs": []
  },
  {
   "cell_type": "markdown",
   "metadata": {
    "id": "P5H09Te1GiEb"
   },
   "source": [
    "## Indexing\n",
    "\n",
    "Allows selecting items and subarrays. It can be also used to modify fragments of an array."
   ]
  },
  {
   "cell_type": "markdown",
   "metadata": {
    "id": "MvDoRtmTPmDg"
   },
   "source": [
    "### Basic indexing"
   ]
  },
  {
   "cell_type": "code",
   "metadata": {
    "id": "6wNkceZBGiEc"
   },
   "source": [
    "data = np.arange(0, 16, 1)\n",
    "data"
   ],
   "execution_count": null,
   "outputs": []
  },
  {
   "cell_type": "code",
   "metadata": {
    "id": "GlNnE9I3GiEc"
   },
   "source": [
    "data[10]"
   ],
   "execution_count": null,
   "outputs": []
  },
  {
   "cell_type": "code",
   "metadata": {
    "id": "dyPC5QgnGiEd"
   },
   "source": [
    "data[-2]"
   ],
   "execution_count": null,
   "outputs": []
  },
  {
   "cell_type": "code",
   "metadata": {
    "id": "4fD0i1vPGiEd"
   },
   "source": [
    "data[:5]"
   ],
   "execution_count": null,
   "outputs": []
  },
  {
   "cell_type": "code",
   "metadata": {
    "id": "ylT1TzN8GiEd"
   },
   "source": [
    "data[::2]"
   ],
   "execution_count": null,
   "outputs": []
  },
  {
   "cell_type": "code",
   "metadata": {
    "id": "xDYxi7KZGiEd"
   },
   "source": [
    "data[-3:]"
   ],
   "execution_count": null,
   "outputs": []
  },
  {
   "cell_type": "markdown",
   "metadata": {
    "id": "XC5lLdv5GiEe"
   },
   "source": [
    "It is also possible in higher dimensional setting\n"
   ]
  },
  {
   "cell_type": "code",
   "metadata": {
    "id": "GQmHyjgnGiEe"
   },
   "source": [
    "data = data.reshape(4, 4)\n",
    "data"
   ],
   "execution_count": null,
   "outputs": []
  },
  {
   "cell_type": "code",
   "metadata": {
    "id": "inyJ51zXGiEe"
   },
   "source": [
    "data[1, 1]"
   ],
   "execution_count": null,
   "outputs": []
  },
  {
   "cell_type": "code",
   "metadata": {
    "id": "7ThXkYJHGiEe"
   },
   "source": [
    "data[1, :]"
   ],
   "execution_count": null,
   "outputs": []
  },
  {
   "cell_type": "markdown",
   "metadata": {
    "id": "pCCalPUaGiEf"
   },
   "source": [
    "One does not need to specify trailing colons `:`"
   ]
  },
  {
   "cell_type": "code",
   "metadata": {
    "id": "jkDtPEmzGiEf"
   },
   "source": [
    "data[:-2]"
   ],
   "execution_count": null,
   "outputs": []
  },
  {
   "cell_type": "markdown",
   "metadata": {
    "id": "2pEgZ0mXGiEf"
   },
   "source": [
    "Note how the column selection is achieved. In this case `:` can't be ommited."
   ]
  },
  {
   "cell_type": "code",
   "metadata": {
    "id": "f8SRcQZtGiEf"
   },
   "source": [
    "data[:, -2:]"
   ],
   "execution_count": null,
   "outputs": []
  },
  {
   "cell_type": "markdown",
   "metadata": {
    "id": "jNCnnDAvGiEf"
   },
   "source": [
    "One group of subsequent colons `:` can be replaced with `...`"
   ]
  },
  {
   "cell_type": "code",
   "metadata": {
    "id": "BTWokDfAGiEg"
   },
   "source": [
    "data_reshaped = data.reshape(4, 2, 2)\n",
    "data_reshaped"
   ],
   "execution_count": null,
   "outputs": []
  },
  {
   "cell_type": "code",
   "metadata": {
    "id": "ckI7EDwNGiEg"
   },
   "source": [
    "data_reshaped[..., 0]"
   ],
   "execution_count": null,
   "outputs": []
  },
  {
   "cell_type": "markdown",
   "metadata": {
    "id": "Y28i1ixMGiEg"
   },
   "source": [
    "Note the difference"
   ]
  },
  {
   "cell_type": "code",
   "metadata": {
    "id": "-vSdeG8iGiEg"
   },
   "source": [
    "data_reshaped[:, 0]"
   ],
   "execution_count": null,
   "outputs": []
  },
  {
   "cell_type": "markdown",
   "metadata": {
    "id": "y8Fbg4skPhZI"
   },
   "source": [
    "### View & copies\n",
    "\n",
    "Basic indexing routines presented above return views of the data in the underlying arrays. When the underlying array is modified the changes are reflected in the view."
   ]
  },
  {
   "cell_type": "code",
   "metadata": {
    "id": "4DnGEbkeQInP"
   },
   "source": [
    "data = np.arange(0, 16, 1).reshape(4, 4)\n",
    "data"
   ],
   "execution_count": null,
   "outputs": []
  },
  {
   "cell_type": "code",
   "metadata": {
    "id": "BduCu6bPQKS2"
   },
   "source": [
    "view = data[:, 3]\n",
    "view"
   ],
   "execution_count": null,
   "outputs": []
  },
  {
   "cell_type": "code",
   "metadata": {
    "id": "KRNJxUnvQTIM"
   },
   "source": [
    "data *= 2\n",
    "data"
   ],
   "execution_count": null,
   "outputs": []
  },
  {
   "cell_type": "code",
   "metadata": {
    "id": "DnPAbJujQVic"
   },
   "source": [
    "view"
   ],
   "execution_count": null,
   "outputs": []
  },
  {
   "cell_type": "markdown",
   "metadata": {
    "id": "Yxv8dzR_RFml"
   },
   "source": [
    "To \"detach\" view from the underlying array use `copy` method"
   ]
  },
  {
   "cell_type": "code",
   "metadata": {
    "id": "87ttHjjmRMgO"
   },
   "source": [
    "view_copy = view.copy()\n",
    "data *= 2\n",
    "view, view_copy"
   ],
   "execution_count": null,
   "outputs": []
  },
  {
   "cell_type": "markdown",
   "metadata": {
    "id": "YEUyRMzOROEG"
   },
   "source": [
    "Views are only possible when selecting with slices, then it's a matter of rememebering offset and stride only.\n",
    "\n",
    "You can read more about this here: https://scipy-cookbook.readthedocs.io/items/ViewsVsCopies.html"
   ]
  },
  {
   "cell_type": "markdown",
   "metadata": {
    "id": "a9gLMTtZSgCY"
   },
   "source": [
    "### Advanced indexing\n",
    "\n",
    "it is also possible to index with integer or boolean arrays"
   ]
  },
  {
   "cell_type": "code",
   "metadata": {
    "id": "Ts1DkP6sSfNg"
   },
   "source": [
    "data = np.arange(0, 16, 1).reshape(4, 4)\n",
    "data"
   ],
   "execution_count": null,
   "outputs": []
  },
  {
   "cell_type": "markdown",
   "metadata": {
    "id": "CgrvZDQSTZRj"
   },
   "source": [
    "We can select specific rows"
   ]
  },
  {
   "cell_type": "code",
   "metadata": {
    "id": "isgJivWfTUg0"
   },
   "source": [
    "data[[0, 3]]"
   ],
   "execution_count": null,
   "outputs": []
  },
  {
   "cell_type": "markdown",
   "metadata": {
    "id": "aDuYknJ4TdnS"
   },
   "source": [
    "and columns."
   ]
  },
  {
   "cell_type": "code",
   "metadata": {
    "id": "FIqWs6WfTfMs"
   },
   "source": [
    "data[:, [0, 3]]"
   ],
   "execution_count": null,
   "outputs": []
  },
  {
   "cell_type": "markdown",
   "metadata": {
    "id": "0cdJAq02TgUV"
   },
   "source": [
    "Seleceting both together is a little more complicated"
   ]
  },
  {
   "cell_type": "code",
   "metadata": {
    "id": "4iO4znPzTode"
   },
   "source": [
    "rows = [\n",
    " [0, 0],\n",
    " [3, 3]\n",
    "]\n",
    "columns = [\n",
    " [0, 3],\n",
    " [0, 3]\n",
    "]\n",
    "data[rows, columns]"
   ],
   "execution_count": null,
   "outputs": []
  },
  {
   "cell_type": "markdown",
   "metadata": {
    "id": "nIk5ZE8kUaUa"
   },
   "source": [
    "Use indices shape to control the output shape."
   ]
  },
  {
   "cell_type": "code",
   "metadata": {
    "id": "ljHFVBpiTmpt"
   },
   "source": [
    "rows = [0, 0, 3, 3]\n",
    "columns = [0, 3, 0, 3]\n",
    "data[rows, columns]"
   ],
   "execution_count": null,
   "outputs": []
  },
  {
   "cell_type": "markdown",
   "metadata": {
    "id": "H7MGpzdaUlmY"
   },
   "source": [
    "Boolean arrays can be used as well, though they work somewhat differently."
   ]
  },
  {
   "cell_type": "code",
   "metadata": {
    "id": "4Rc8BIDYUtvY"
   },
   "source": [
    "index = (data % 3 == 0)\n",
    "index"
   ],
   "execution_count": null,
   "outputs": []
  },
  {
   "cell_type": "code",
   "metadata": {
    "id": "E8tVnHZcUvyQ"
   },
   "source": [
    "data[index]"
   ],
   "execution_count": null,
   "outputs": []
  },
  {
   "cell_type": "markdown",
   "metadata": {
    "id": "6E13UcvQ9OGM"
   },
   "source": [
    "Its most common use case is to update array entries based on some condition."
   ]
  },
  {
   "cell_type": "code",
   "metadata": {
    "id": "ErmtBkjfuBsa"
   },
   "source": [
    "data[index] = -1\n",
    "data"
   ],
   "execution_count": null,
   "outputs": []
  },
  {
   "cell_type": "markdown",
   "metadata": {
    "id": "GQxk8eUwU59O"
   },
   "source": [
    "Detailed bahavior of indexing with boolean arrays is described here: https://numpy.org/doc/stable/reference/arrays.indexing.html#advanced-indexing"
   ]
  },
  {
   "cell_type": "markdown",
   "metadata": {
    "id": "KWErlaLBV3X8"
   },
   "source": [
    "# NumPy Exercises"
   ]
  },
  {
   "cell_type": "markdown",
   "metadata": {
    "id": "WUJrN7ZfSwud"
   },
   "source": [
    "### Exercise: multiplication table\n",
    "Create \"{0, ..., 10} x {0, ..., 10} multiplication table\" using only\n",
    "- `meshgrid` method,\n",
    "- multiplication of 1D arrays, dummy dimensions and broadcasting mechanism."
   ]
  },
  {
   "cell_type": "code",
   "metadata": {
    "id": "KyAr-VUITkWf",
    "colab": {
     "base_uri": "https://localhost:8080/"
    },
    "executionInfo": {
     "status": "ok",
     "timestamp": 1696578989906,
     "user_tz": -120,
     "elapsed": 230,
     "user": {
      "displayName": "Michał Traczyk",
      "userId": "00555487641805485616"
     }
    },
    "outputId": "811fd596-63ec-41b6-ec2f-96638caaf162"
   },
   "source": [
    "### YOUR CODE BEGINS HERE ###\n",
    "x = np.arange(0, 11, 1)\n",
    "y = np.arange(0, 11, 1)\n",
    "x_grid, y_grid = np.meshgrid(x, y, indexing='ij')\n",
    "\n",
    "mul_table = x_grid * y_grid\n",
    "mul_table\n",
    "### YOUR CODE ENDS HERE ###"
   ],
   "execution_count": 66,
   "outputs": [
    {
     "output_type": "execute_result",
     "data": {
      "text/plain": [
       "array([[  0,   0,   0,   0,   0,   0,   0,   0,   0,   0,   0],\n",
       "       [  0,   1,   2,   3,   4,   5,   6,   7,   8,   9,  10],\n",
       "       [  0,   2,   4,   6,   8,  10,  12,  14,  16,  18,  20],\n",
       "       [  0,   3,   6,   9,  12,  15,  18,  21,  24,  27,  30],\n",
       "       [  0,   4,   8,  12,  16,  20,  24,  28,  32,  36,  40],\n",
       "       [  0,   5,  10,  15,  20,  25,  30,  35,  40,  45,  50],\n",
       "       [  0,   6,  12,  18,  24,  30,  36,  42,  48,  54,  60],\n",
       "       [  0,   7,  14,  21,  28,  35,  42,  49,  56,  63,  70],\n",
       "       [  0,   8,  16,  24,  32,  40,  48,  56,  64,  72,  80],\n",
       "       [  0,   9,  18,  27,  36,  45,  54,  63,  72,  81,  90],\n",
       "       [  0,  10,  20,  30,  40,  50,  60,  70,  80,  90, 100]])"
      ]
     },
     "metadata": {},
     "execution_count": 66
    }
   ]
  },
  {
   "cell_type": "markdown",
   "metadata": {
    "id": "u_QMGc9V9dtx"
   },
   "source": [
    "### Exercise: speed comparison\n",
    "In this exercise we will measure the speed improvements due to NumPy implementation."
   ]
  },
  {
   "cell_type": "code",
   "metadata": {
    "id": "AubmFjCf9jL3",
    "executionInfo": {
     "status": "ok",
     "timestamp": 1696579021869,
     "user_tz": -120,
     "elapsed": 245,
     "user": {
      "displayName": "Michał Traczyk",
      "userId": "00555487641805485616"
     }
    }
   },
   "source": [
    "length = 10000\n",
    "a = b = np.arange(length)"
   ],
   "execution_count": 68,
   "outputs": []
  },
  {
   "cell_type": "markdown",
   "metadata": {
    "id": "doxhHjb-veJ1"
   },
   "source": [
    "Write the code to calculate dotproduct of arrays `a` and `b` using only native Python funcions. Use `timeit` magic to time the execution."
   ]
  },
  {
   "cell_type": "code",
   "metadata": {
    "id": "-JgNkfE0vGdd",
    "colab": {
     "base_uri": "https://localhost:8080/"
    },
    "executionInfo": {
     "status": "ok",
     "timestamp": 1696579029262,
     "user_tz": -120,
     "elapsed": 6285,
     "user": {
      "displayName": "Michał Traczyk",
      "userId": "00555487641805485616"
     }
    },
    "outputId": "48b48afd-1ef3-4c32-c2a2-b774afa2977b"
   },
   "source": [
    "%%timeit\n",
    "\n",
    "### YOUR CODE BEGINS HERE ###\n",
    "sum(a * b)\n",
    "### YOUR CODE ENDS HERE ###"
   ],
   "execution_count": 69,
   "outputs": [
    {
     "output_type": "stream",
     "name": "stdout",
     "text": [
      "735 µs ± 135 µs per loop (mean ± std. dev. of 7 runs, 1000 loops each)\n"
     ]
    }
   ]
  },
  {
   "cell_type": "markdown",
   "metadata": {
    "id": "j1UXCSG2vRfd"
   },
   "source": [
    "Now compare the execution time with `np.dot`."
   ]
  },
  {
   "cell_type": "code",
   "metadata": {
    "id": "tmXlftPyvIEN",
    "colab": {
     "base_uri": "https://localhost:8080/"
    },
    "executionInfo": {
     "status": "ok",
     "timestamp": 1696579039964,
     "user_tz": -120,
     "elapsed": 6934,
     "user": {
      "displayName": "Michał Traczyk",
      "userId": "00555487641805485616"
     }
    },
    "outputId": "2fceea56-a03a-4fd2-f499-87224b7a8639"
   },
   "source": [
    "%%timeit\n",
    "\n",
    "### YOUR CODE BEGINS HERE ###\n",
    "np.dot(a, b)\n",
    "### YOUR CODE ENDS HERE ###"
   ],
   "execution_count": 70,
   "outputs": [
    {
     "output_type": "stream",
     "name": "stdout",
     "text": [
      "8.38 µs ± 1.51 µs per loop (mean ± std. dev. of 7 runs, 100000 loops each)\n"
     ]
    }
   ]
  },
  {
   "cell_type": "markdown",
   "metadata": {
    "id": "qYQJ01iRUBFP"
   },
   "source": [
    "### Exercise: vector operations\n",
    "Calculate\n",
    "$$ \\int_0^1 \\sin(a\\cdot2\\pi x)\\sin(b\\cdot 2\\pi x)dx $$\n",
    "for\n",
    "- $a=b=1$,\n",
    "- $a=1$ and $b=2$,\n",
    "\n",
    "using discrete approximation of an integral and following NumPy functions: `linspace, sin, mean`. Do not use `vectorize`.\n"
   ]
  },
  {
   "cell_type": "code",
   "metadata": {
    "id": "YmRqKz0aZDgK",
    "colab": {
     "base_uri": "https://localhost:8080/"
    },
    "executionInfo": {
     "status": "ok",
     "timestamp": 1696579044186,
     "user_tz": -120,
     "elapsed": 222,
     "user": {
      "displayName": "Michał Traczyk",
      "userId": "00555487641805485616"
     }
    },
    "outputId": "21c51dd9-2cf9-4c02-ead1-a832230f2ad4"
   },
   "source": [
    "# Case a = b = 1\n",
    "### YOUR CODE BEGINS HERE ###\n",
    "a = b = 1\n",
    "start = 0\n",
    "stop = 1\n",
    "step = 1e-5\n",
    "n_steps = int((stop - start) / step) + 1\n",
    "steps = np.linspace(start, stop, n_steps)\n",
    "answer = np.mean(np.sin(a * 2 * np.pi * steps) * np.sin(b * 2 * np.pi * steps))\n",
    "### YOUR CODE ENDS HERE ###\n",
    "\n",
    "print(answer.round(4))\n",
    "assert np.isclose(answer, 0.5)"
   ],
   "execution_count": 71,
   "outputs": [
    {
     "output_type": "stream",
     "name": "stdout",
     "text": [
      "0.5\n"
     ]
    }
   ]
  },
  {
   "cell_type": "code",
   "metadata": {
    "id": "Kb19r8aEdxd_",
    "colab": {
     "base_uri": "https://localhost:8080/"
    },
    "executionInfo": {
     "status": "ok",
     "timestamp": 1696579052192,
     "user_tz": -120,
     "elapsed": 219,
     "user": {
      "displayName": "Michał Traczyk",
      "userId": "00555487641805485616"
     }
    },
    "outputId": "9b293a20-76a8-4286-cdb8-debca54b3c01"
   },
   "source": [
    "# Case a = 1, b = 2\n",
    "### YOUR CODE BEGINS HERE ###\n",
    "a = 1\n",
    "b = 2\n",
    "start = 0\n",
    "stop = 1\n",
    "step = 1e-5\n",
    "n_steps = int((stop - start) / step) + 1\n",
    "steps = np.linspace(start, stop, n_steps)\n",
    "answer = np.mean(np.sin(a * 2 * np.pi * steps) * np.sin(b * 2 * np.pi * steps))\n",
    "### YOUR CODE ENDS HERE ###\n",
    "\n",
    "print(answer.round(4))\n",
    "assert np.isclose(answer, 0)"
   ],
   "execution_count": 72,
   "outputs": [
    {
     "output_type": "stream",
     "name": "stdout",
     "text": [
      "0.0\n"
     ]
    }
   ]
  },
  {
   "cell_type": "markdown",
   "metadata": {
    "id": "giw7r-G8V_eM"
   },
   "source": [
    "### Exercise: vector operations ctd.\n",
    "\n",
    "Let $a_j = j$. Calculate in a similar fashion matrix $(b_{ij})_{i,j=0, ..., 4}$, where\n",
    "$$ b_{ij} = \\int_0^1 \\sin(a_i\\cdot2\\pi x)\\sin(a_j\\cdot 2\\pi x)dx. $$\n",
    "\n",
    "Try to structure your code in such a way that it would accept an arbitrary array `a`. Do not use `vectorize`."
   ]
  },
  {
   "cell_type": "code",
   "metadata": {
    "id": "uNflOF0lfcSm",
    "colab": {
     "base_uri": "https://localhost:8080/"
    },
    "executionInfo": {
     "status": "ok",
     "timestamp": 1696579061727,
     "user_tz": -120,
     "elapsed": 234,
     "user": {
      "displayName": "Michał Traczyk",
      "userId": "00555487641805485616"
     }
    },
    "outputId": "164c1429-d29f-4033-b625-7108e298c748"
   },
   "source": [
    "a = np.arange(5)\n",
    "\n",
    "### YOUR CODE BEGINS HERE ###\n",
    "start = 0\n",
    "stop = 1\n",
    "step = 1e-5\n",
    "n_steps = int((stop - start) / step) + 1\n",
    "steps = np.linspace(start, stop, n_steps).reshape(1, -1)\n",
    "a = a.reshape(-1, 1)\n",
    "sin_mat = np.sin(2 * np.pi * (a @ steps))\n",
    "answer = sin_mat @ sin_mat.transpose() / n_steps\n",
    "### YOUR CODE ENDS HERE ###\n",
    "\n",
    "print(answer.round(2))\n",
    "assert np.isclose(answer, np.diag([0, 0.5, 0.5, 0.5, 0.5])).all()"
   ],
   "execution_count": 73,
   "outputs": [
    {
     "output_type": "stream",
     "name": "stdout",
     "text": [
      "[[ 0.   0.   0.   0.   0. ]\n",
      " [ 0.   0.5 -0.  -0.  -0. ]\n",
      " [ 0.  -0.   0.5 -0.   0. ]\n",
      " [ 0.  -0.  -0.   0.5 -0. ]\n",
      " [ 0.  -0.   0.  -0.   0.5]]\n"
     ]
    }
   ]
  },
  {
   "cell_type": "markdown",
   "metadata": {
    "id": "s_L1zNkbjME2"
   },
   "source": [
    "### Exercise: subarrays\n",
    "\n",
    "Let us sample $n=100 000$ standard normal random variables. Calculate mean of values greater than zero."
   ]
  },
  {
   "cell_type": "code",
   "metadata": {
    "id": "05Ei2vVujnT7",
    "executionInfo": {
     "status": "ok",
     "timestamp": 1696579072914,
     "user_tz": -120,
     "elapsed": 224,
     "user": {
      "displayName": "Michał Traczyk",
      "userId": "00555487641805485616"
     }
    }
   },
   "source": [
    "np.random.seed(0)\n",
    "\n",
    "n = 100000\n",
    "sample = np.random.randn(n)\n",
    "\n",
    "### YOUR CODE BEGINS HERE ###\n",
    "answer = np.mean(sample[np.where(sample > 0)])\n",
    "### YOUR CODE ENDS HERE ###\n",
    "\n",
    "assert np.isclose(answer, np.sqrt(2/np.pi), rtol=0.01)"
   ],
   "execution_count": 74,
   "outputs": []
  },
  {
   "cell_type": "markdown",
   "metadata": {
    "id": "_5EssMSuymmz"
   },
   "source": [
    "### Exercise: subarrays ctd.\n",
    "Let us sample an array of random integers.\n",
    "1. Select columns for which sum of its values gives remainder = 1 when divided by 3.\n",
    "2. Change entries in that columns to ones.\n",
    "3. Calculate sum of all entries."
   ]
  },
  {
   "cell_type": "code",
   "metadata": {
    "id": "gdtGB0SUyqcT",
    "executionInfo": {
     "status": "ok",
     "timestamp": 1696579097686,
     "user_tz": -120,
     "elapsed": 234,
     "user": {
      "displayName": "Michał Traczyk",
      "userId": "00555487641805485616"
     }
    }
   },
   "source": [
    "np.random.seed(0)\n",
    "sample = np.random.randint(0, 3, size=(10, 10))\n",
    "\n",
    "### YOUR CODE BEGINS HERE ###\n",
    "cor_mod_cols = np.where(np.sum(sample, axis=0) % 3 == 1)\n",
    "sample[:, cor_mod_cols] = 1\n",
    "answer = np.sum(sample)\n",
    "### YOUR CODE ENDS HERE ###\n",
    "\n",
    "assert answer == 88"
   ],
   "execution_count": 75,
   "outputs": []
  },
  {
   "cell_type": "markdown",
   "metadata": {
    "id": "dylMl_qMmsGN"
   },
   "source": [
    "\n",
    "### Exercise: matrix multiplication & merging arrays\n",
    "\n",
    "In this exercies we will approximate operator norm of some matrices.\n",
    "\n",
    "1. Create an an array of $n=1000$ vectors $v\\in\\mathbb{R}^2$ \"evenly spaced\" on the unit circle.\n",
    "2. Combine given three matrices into one array.\n",
    "3. Use **one** matrix multiplication operation with these arrays to obtain matrix products of all the vectors with all the matrices.\n",
    "4. For each vector calculate its (euclidean) length.\n",
    "5. Take maximum with respect to each matrix.\n",
    "6. You should obtain three values representing approximations of operator norm of provided matrices.\n"
   ]
  },
  {
   "cell_type": "code",
   "metadata": {
    "id": "6-aovP6NoEKt",
    "colab": {
     "base_uri": "https://localhost:8080/"
    },
    "executionInfo": {
     "status": "ok",
     "timestamp": 1696579113454,
     "user_tz": -120,
     "elapsed": 237,
     "user": {
      "displayName": "Michał Traczyk",
      "userId": "00555487641805485616"
     }
    },
    "outputId": "5ba5df05-1d2b-4bc7-9ed1-493c2806033c"
   },
   "source": [
    "matrix_1 = np.array([\n",
    "  [1, 0],\n",
    "  [0, 1]\n",
    "])\n",
    "\n",
    "matrix_2 = np.array([\n",
    "  [1, 1],\n",
    "  [1, 1]\n",
    "])\n",
    "\n",
    "matrix_3 = np.array([\n",
    "  [1, 1],\n",
    "  [0, 1]\n",
    "])\n",
    "\n",
    "### YOUR CODE BEGINS HERE ###\n",
    "spaced_vectors = np.array([np.array([np.cos(angle), np.sin(angle)]) for angle in np.linspace(0, 2 * np.pi, 1000)]).transpose()\n",
    "comb_matrix = np.array([matrix_1, matrix_2, matrix_3])\n",
    "mul_op = comb_matrix @ spaced_vectors\n",
    "mul_op = mul_op * mul_op\n",
    "answer = np.array([np.sqrt(np.max(mul_op[i, 0, :] + mul_op[i, 1, :])) for i in range(3)])\n",
    "### YOUR CODE ENDS HERE ###\n",
    "\n",
    "print(answer.round(4))\n",
    "assert np.isclose(answer, [1, 2, (1+np.sqrt(5))/2]).all()"
   ],
   "execution_count": 76,
   "outputs": [
    {
     "output_type": "stream",
     "name": "stdout",
     "text": [
      "[1.    2.    1.618]\n"
     ]
    }
   ]
  },
  {
   "cell_type": "markdown",
   "metadata": {
    "id": "eq-L2oL9A5Hz"
   },
   "source": [
    "## Other NumPy functionalities\n",
    "NumPy package implements plethora of mathematical functionalities, not covered in this tutorial. NumPy User guide and API Reference are great starting point to discover those functionalities:\n",
    "- https://numpy.org/doc/stable/user/\n",
    "- https://numpy.org/doc/stable/reference/"
   ]
  },
  {
   "cell_type": "markdown",
   "metadata": {
    "id": "wfF_VgCsYXL-"
   },
   "source": [
    "\n",
    "# What is pandas?\n",
    "\n",
    "Pandas is a fast, powerful, flexible and easy to use open source data analysis and manipulation tool,\n",
    "built on top of the Python programming language.\n",
    "\n",
    "It is meant for manipulating datasets in tabular format, that is 2D arrays with rows representing observations and columns representing variables, the so called **DataFrames**.\n",
    "\n",
    "from: https://pandas.pydata.org/"
   ]
  },
  {
   "cell_type": "markdown",
   "metadata": {
    "id": "YEsU_HbrTbU9"
   },
   "source": [
    "### Creating dataframes"
   ]
  },
  {
   "cell_type": "markdown",
   "metadata": {
    "id": "KSZnWr_OT5SO"
   },
   "source": [
    "In the most basic form you just specify 2D array of values"
   ]
  },
  {
   "cell_type": "code",
   "metadata": {
    "id": "rhQ20UgCRSCw",
    "colab": {
     "base_uri": "https://localhost:8080/",
     "height": 175
    },
    "executionInfo": {
     "status": "ok",
     "timestamp": 1696579171739,
     "user_tz": -120,
     "elapsed": 243,
     "user": {
      "displayName": "Michał Traczyk",
      "userId": "00555487641805485616"
     }
    },
    "outputId": "c78a70c5-d2d7-407e-c3f7-db0a0cfb00c1"
   },
   "source": [
    "import pandas as pd\n",
    "\n",
    "df = pd.DataFrame(\n",
    "    np.arange(0, 16, 1).reshape(4, 4)\n",
    ")\n",
    "\n",
    "df"
   ],
   "execution_count": 77,
   "outputs": [
    {
     "output_type": "execute_result",
     "data": {
      "text/plain": [
       "    0   1   2   3\n",
       "0   0   1   2   3\n",
       "1   4   5   6   7\n",
       "2   8   9  10  11\n",
       "3  12  13  14  15"
      ],
      "text/html": [
       "\n",
       "  <div id=\"df-96ce84f6-54d7-499b-bb74-6a32a4a93051\" class=\"colab-df-container\">\n",
       "    <div>\n",
       "<style scoped>\n",
       "    .dataframe tbody tr th:only-of-type {\n",
       "        vertical-align: middle;\n",
       "    }\n",
       "\n",
       "    .dataframe tbody tr th {\n",
       "        vertical-align: top;\n",
       "    }\n",
       "\n",
       "    .dataframe thead th {\n",
       "        text-align: right;\n",
       "    }\n",
       "</style>\n",
       "<table border=\"1\" class=\"dataframe\">\n",
       "  <thead>\n",
       "    <tr style=\"text-align: right;\">\n",
       "      <th></th>\n",
       "      <th>0</th>\n",
       "      <th>1</th>\n",
       "      <th>2</th>\n",
       "      <th>3</th>\n",
       "    </tr>\n",
       "  </thead>\n",
       "  <tbody>\n",
       "    <tr>\n",
       "      <th>0</th>\n",
       "      <td>0</td>\n",
       "      <td>1</td>\n",
       "      <td>2</td>\n",
       "      <td>3</td>\n",
       "    </tr>\n",
       "    <tr>\n",
       "      <th>1</th>\n",
       "      <td>4</td>\n",
       "      <td>5</td>\n",
       "      <td>6</td>\n",
       "      <td>7</td>\n",
       "    </tr>\n",
       "    <tr>\n",
       "      <th>2</th>\n",
       "      <td>8</td>\n",
       "      <td>9</td>\n",
       "      <td>10</td>\n",
       "      <td>11</td>\n",
       "    </tr>\n",
       "    <tr>\n",
       "      <th>3</th>\n",
       "      <td>12</td>\n",
       "      <td>13</td>\n",
       "      <td>14</td>\n",
       "      <td>15</td>\n",
       "    </tr>\n",
       "  </tbody>\n",
       "</table>\n",
       "</div>\n",
       "    <div class=\"colab-df-buttons\">\n",
       "\n",
       "  <div class=\"colab-df-container\">\n",
       "    <button class=\"colab-df-convert\" onclick=\"convertToInteractive('df-96ce84f6-54d7-499b-bb74-6a32a4a93051')\"\n",
       "            title=\"Convert this dataframe to an interactive table.\"\n",
       "            style=\"display:none;\">\n",
       "\n",
       "  <svg xmlns=\"http://www.w3.org/2000/svg\" height=\"24px\" viewBox=\"0 -960 960 960\">\n",
       "    <path d=\"M120-120v-720h720v720H120Zm60-500h600v-160H180v160Zm220 220h160v-160H400v160Zm0 220h160v-160H400v160ZM180-400h160v-160H180v160Zm440 0h160v-160H620v160ZM180-180h160v-160H180v160Zm440 0h160v-160H620v160Z\"/>\n",
       "  </svg>\n",
       "    </button>\n",
       "\n",
       "  <style>\n",
       "    .colab-df-container {\n",
       "      display:flex;\n",
       "      gap: 12px;\n",
       "    }\n",
       "\n",
       "    .colab-df-convert {\n",
       "      background-color: #E8F0FE;\n",
       "      border: none;\n",
       "      border-radius: 50%;\n",
       "      cursor: pointer;\n",
       "      display: none;\n",
       "      fill: #1967D2;\n",
       "      height: 32px;\n",
       "      padding: 0 0 0 0;\n",
       "      width: 32px;\n",
       "    }\n",
       "\n",
       "    .colab-df-convert:hover {\n",
       "      background-color: #E2EBFA;\n",
       "      box-shadow: 0px 1px 2px rgba(60, 64, 67, 0.3), 0px 1px 3px 1px rgba(60, 64, 67, 0.15);\n",
       "      fill: #174EA6;\n",
       "    }\n",
       "\n",
       "    .colab-df-buttons div {\n",
       "      margin-bottom: 4px;\n",
       "    }\n",
       "\n",
       "    [theme=dark] .colab-df-convert {\n",
       "      background-color: #3B4455;\n",
       "      fill: #D2E3FC;\n",
       "    }\n",
       "\n",
       "    [theme=dark] .colab-df-convert:hover {\n",
       "      background-color: #434B5C;\n",
       "      box-shadow: 0px 1px 3px 1px rgba(0, 0, 0, 0.15);\n",
       "      filter: drop-shadow(0px 1px 2px rgba(0, 0, 0, 0.3));\n",
       "      fill: #FFFFFF;\n",
       "    }\n",
       "  </style>\n",
       "\n",
       "    <script>\n",
       "      const buttonEl =\n",
       "        document.querySelector('#df-96ce84f6-54d7-499b-bb74-6a32a4a93051 button.colab-df-convert');\n",
       "      buttonEl.style.display =\n",
       "        google.colab.kernel.accessAllowed ? 'block' : 'none';\n",
       "\n",
       "      async function convertToInteractive(key) {\n",
       "        const element = document.querySelector('#df-96ce84f6-54d7-499b-bb74-6a32a4a93051');\n",
       "        const dataTable =\n",
       "          await google.colab.kernel.invokeFunction('convertToInteractive',\n",
       "                                                    [key], {});\n",
       "        if (!dataTable) return;\n",
       "\n",
       "        const docLinkHtml = 'Like what you see? Visit the ' +\n",
       "          '<a target=\"_blank\" href=https://colab.research.google.com/notebooks/data_table.ipynb>data table notebook</a>'\n",
       "          + ' to learn more about interactive tables.';\n",
       "        element.innerHTML = '';\n",
       "        dataTable['output_type'] = 'display_data';\n",
       "        await google.colab.output.renderOutput(dataTable, element);\n",
       "        const docLink = document.createElement('div');\n",
       "        docLink.innerHTML = docLinkHtml;\n",
       "        element.appendChild(docLink);\n",
       "      }\n",
       "    </script>\n",
       "  </div>\n",
       "\n",
       "\n",
       "<div id=\"df-2823ddb7-53dd-4a02-928e-003631803d44\">\n",
       "  <button class=\"colab-df-quickchart\" onclick=\"quickchart('df-2823ddb7-53dd-4a02-928e-003631803d44')\"\n",
       "            title=\"Suggest charts.\"\n",
       "            style=\"display:none;\">\n",
       "\n",
       "<svg xmlns=\"http://www.w3.org/2000/svg\" height=\"24px\"viewBox=\"0 0 24 24\"\n",
       "     width=\"24px\">\n",
       "    <g>\n",
       "        <path d=\"M19 3H5c-1.1 0-2 .9-2 2v14c0 1.1.9 2 2 2h14c1.1 0 2-.9 2-2V5c0-1.1-.9-2-2-2zM9 17H7v-7h2v7zm4 0h-2V7h2v10zm4 0h-2v-4h2v4z\"/>\n",
       "    </g>\n",
       "</svg>\n",
       "  </button>\n",
       "\n",
       "<style>\n",
       "  .colab-df-quickchart {\n",
       "      --bg-color: #E8F0FE;\n",
       "      --fill-color: #1967D2;\n",
       "      --hover-bg-color: #E2EBFA;\n",
       "      --hover-fill-color: #174EA6;\n",
       "      --disabled-fill-color: #AAA;\n",
       "      --disabled-bg-color: #DDD;\n",
       "  }\n",
       "\n",
       "  [theme=dark] .colab-df-quickchart {\n",
       "      --bg-color: #3B4455;\n",
       "      --fill-color: #D2E3FC;\n",
       "      --hover-bg-color: #434B5C;\n",
       "      --hover-fill-color: #FFFFFF;\n",
       "      --disabled-bg-color: #3B4455;\n",
       "      --disabled-fill-color: #666;\n",
       "  }\n",
       "\n",
       "  .colab-df-quickchart {\n",
       "    background-color: var(--bg-color);\n",
       "    border: none;\n",
       "    border-radius: 50%;\n",
       "    cursor: pointer;\n",
       "    display: none;\n",
       "    fill: var(--fill-color);\n",
       "    height: 32px;\n",
       "    padding: 0;\n",
       "    width: 32px;\n",
       "  }\n",
       "\n",
       "  .colab-df-quickchart:hover {\n",
       "    background-color: var(--hover-bg-color);\n",
       "    box-shadow: 0 1px 2px rgba(60, 64, 67, 0.3), 0 1px 3px 1px rgba(60, 64, 67, 0.15);\n",
       "    fill: var(--button-hover-fill-color);\n",
       "  }\n",
       "\n",
       "  .colab-df-quickchart-complete:disabled,\n",
       "  .colab-df-quickchart-complete:disabled:hover {\n",
       "    background-color: var(--disabled-bg-color);\n",
       "    fill: var(--disabled-fill-color);\n",
       "    box-shadow: none;\n",
       "  }\n",
       "\n",
       "  .colab-df-spinner {\n",
       "    border: 2px solid var(--fill-color);\n",
       "    border-color: transparent;\n",
       "    border-bottom-color: var(--fill-color);\n",
       "    animation:\n",
       "      spin 1s steps(1) infinite;\n",
       "  }\n",
       "\n",
       "  @keyframes spin {\n",
       "    0% {\n",
       "      border-color: transparent;\n",
       "      border-bottom-color: var(--fill-color);\n",
       "      border-left-color: var(--fill-color);\n",
       "    }\n",
       "    20% {\n",
       "      border-color: transparent;\n",
       "      border-left-color: var(--fill-color);\n",
       "      border-top-color: var(--fill-color);\n",
       "    }\n",
       "    30% {\n",
       "      border-color: transparent;\n",
       "      border-left-color: var(--fill-color);\n",
       "      border-top-color: var(--fill-color);\n",
       "      border-right-color: var(--fill-color);\n",
       "    }\n",
       "    40% {\n",
       "      border-color: transparent;\n",
       "      border-right-color: var(--fill-color);\n",
       "      border-top-color: var(--fill-color);\n",
       "    }\n",
       "    60% {\n",
       "      border-color: transparent;\n",
       "      border-right-color: var(--fill-color);\n",
       "    }\n",
       "    80% {\n",
       "      border-color: transparent;\n",
       "      border-right-color: var(--fill-color);\n",
       "      border-bottom-color: var(--fill-color);\n",
       "    }\n",
       "    90% {\n",
       "      border-color: transparent;\n",
       "      border-bottom-color: var(--fill-color);\n",
       "    }\n",
       "  }\n",
       "</style>\n",
       "\n",
       "  <script>\n",
       "    async function quickchart(key) {\n",
       "      const quickchartButtonEl =\n",
       "        document.querySelector('#' + key + ' button');\n",
       "      quickchartButtonEl.disabled = true;  // To prevent multiple clicks.\n",
       "      quickchartButtonEl.classList.add('colab-df-spinner');\n",
       "      try {\n",
       "        const charts = await google.colab.kernel.invokeFunction(\n",
       "            'suggestCharts', [key], {});\n",
       "      } catch (error) {\n",
       "        console.error('Error during call to suggestCharts:', error);\n",
       "      }\n",
       "      quickchartButtonEl.classList.remove('colab-df-spinner');\n",
       "      quickchartButtonEl.classList.add('colab-df-quickchart-complete');\n",
       "    }\n",
       "    (() => {\n",
       "      let quickchartButtonEl =\n",
       "        document.querySelector('#df-2823ddb7-53dd-4a02-928e-003631803d44 button');\n",
       "      quickchartButtonEl.style.display =\n",
       "        google.colab.kernel.accessAllowed ? 'block' : 'none';\n",
       "    })();\n",
       "  </script>\n",
       "</div>\n",
       "    </div>\n",
       "  </div>\n"
      ]
     },
     "metadata": {},
     "execution_count": 77
    }
   ]
  },
  {
   "cell_type": "markdown",
   "metadata": {
    "id": "VCsvnayJUTWg"
   },
   "source": [
    "It is possible to additionally specify columns and index labels"
   ]
  },
  {
   "cell_type": "code",
   "metadata": {
    "id": "xD4KZXGAUCgO"
   },
   "source": [
    "df = pd.DataFrame(\n",
    "    np.arange(0, 16, 1).reshape(4, 4),\n",
    "    columns = ['column_1', 'column_2', 'column_3', 'column_4'],\n",
    "    index   = ['a', 'b', 'c', 'd']\n",
    ")\n",
    "\n",
    "df"
   ],
   "execution_count": null,
   "outputs": []
  },
  {
   "cell_type": "markdown",
   "metadata": {
    "id": "ZycNpPSvDMUy"
   },
   "source": [
    "as well as type of entries"
   ]
  },
  {
   "cell_type": "code",
   "metadata": {
    "id": "5-4MyYLQDS2s"
   },
   "source": [
    "df = pd.DataFrame(\n",
    "    np.arange(0, 16, 1).reshape(4, 4),\n",
    "    columns = ['column_1', 'column_2', 'column_3', 'column_4'],\n",
    "    index   = ['a', 'b', 'c', 'd'],\n",
    "    dtype   = float\n",
    ")\n",
    "\n",
    "df"
   ],
   "execution_count": null,
   "outputs": []
  },
  {
   "cell_type": "code",
   "metadata": {
    "id": "s4UWEfYWDtLI"
   },
   "source": [
    "df.astype(int)"
   ],
   "execution_count": null,
   "outputs": []
  },
  {
   "cell_type": "markdown",
   "metadata": {
    "id": "w45iqHKfUoLh"
   },
   "source": [
    "It can be done in an alternative manner"
   ]
  },
  {
   "cell_type": "code",
   "metadata": {
    "id": "bn_YerWOUsn4"
   },
   "source": [
    "df = pd.DataFrame(\n",
    "    {\n",
    "      'column_1': [0,  4,  8, 12],\n",
    "      'column_2': [1,  5,  9, 13],\n",
    "      'column_3': [2,  6, 10, 14],\n",
    "      'column_4': [3,  7, 11, 15]\n",
    "    },\n",
    "    index   = ['a', 'b', 'c', 'd']\n",
    ")\n",
    "\n",
    "df"
   ],
   "execution_count": null,
   "outputs": []
  },
  {
   "cell_type": "markdown",
   "metadata": {
    "id": "GrgbIQZIbeht"
   },
   "source": [
    "It is worth mentioning that the underlying data can be accesed under `values` attribute"
   ]
  },
  {
   "cell_type": "code",
   "metadata": {
    "id": "M8MRnPwKblIu"
   },
   "source": [
    "df.values"
   ],
   "execution_count": null,
   "outputs": []
  },
  {
   "cell_type": "markdown",
   "metadata": {
    "id": "vuKTe85p1lmN"
   },
   "source": [
    "What's important Pandas DataFrames can handle entries of different type. In the most common situation different columns will have different types."
   ]
  },
  {
   "cell_type": "code",
   "metadata": {
    "id": "wD02VmqJ2ADh"
   },
   "source": [
    "df = pd.DataFrame(\n",
    "    {\n",
    "      'integers': [0,   1,   2,  3],\n",
    "      'floats':   [1.0, 2.0, 3,  4],\n",
    "      'booleans': [True, False, True, False],\n",
    "      'arbitrary objects':  [0, 1.0, 'abc', False]\n",
    "    }\n",
    ")\n",
    "\n",
    "df"
   ],
   "execution_count": null,
   "outputs": []
  },
  {
   "cell_type": "code",
   "metadata": {
    "id": "jL1NvTVo2rQ5"
   },
   "source": [
    "df.dtypes"
   ],
   "execution_count": null,
   "outputs": []
  },
  {
   "cell_type": "markdown",
   "metadata": {
    "id": "cfjchzQODghh"
   },
   "source": [
    "Another available creation methods are listed below\n",
    "- `pd.DataFrame.from_dict`\n",
    "- `pd.DataFrame.from_records`\n",
    "\n",
    "You can read about them here: https://pandas.pydata.org/docs/reference/api/pandas.DataFrame.html"
   ]
  },
  {
   "cell_type": "markdown",
   "metadata": {
    "id": "OvYgdfx_SB9B"
   },
   "source": [
    "### Loading data\n",
    "Let us peek into the CSV file conveniently provided in the Google Colab runtime"
   ]
  },
  {
   "cell_type": "code",
   "metadata": {
    "id": "rA5uPiERSD3Q"
   },
   "source": [
    "!head './sample_data/california_housing_train.csv'"
   ],
   "execution_count": null,
   "outputs": []
  },
  {
   "cell_type": "markdown",
   "metadata": {
    "id": "-zGbvmsh5Icl"
   },
   "source": [
    "*and* load it using `pd.read_csv` method."
   ]
  },
  {
   "cell_type": "code",
   "metadata": {
    "id": "xJJm3_N4VnOv"
   },
   "source": [
    "pd.read_csv('./sample_data/california_housing_train.csv')"
   ],
   "execution_count": null,
   "outputs": []
  },
  {
   "cell_type": "markdown",
   "metadata": {
    "id": "-D51DYmy5QdA"
   },
   "source": [
    "In Pandas it is also possible to load JSON files."
   ]
  },
  {
   "cell_type": "code",
   "metadata": {
    "id": "jSdvfe-4VYXr"
   },
   "source": [
    "!head './sample_data/anscombe.json'"
   ],
   "execution_count": null,
   "outputs": []
  },
  {
   "cell_type": "code",
   "metadata": {
    "id": "N0rG07WBVkvz"
   },
   "source": [
    "pd.read_json('./sample_data/anscombe.json')"
   ],
   "execution_count": null,
   "outputs": []
  },
  {
   "cell_type": "markdown",
   "metadata": {
    "id": "ugMRMTAi5iV5"
   },
   "source": [
    "## Other I/O functionalities\n",
    "They are listed here https://pandas.pydata.org/pandas-docs/stable/user_guide/io.html and are suitable for: XML, HDF, Feather, Parquet files as well as for interaction with various databases and much more."
   ]
  },
  {
   "cell_type": "markdown",
   "metadata": {
    "id": "5ECXIMVASJ57"
   },
   "source": [
    "## Handling missing data and duplicates\n",
    "\n",
    "In the real world it's often the case that there are missing or duplicate values in the dataset. They can be easily delt with in Pandas."
   ]
  },
  {
   "cell_type": "code",
   "metadata": {
    "id": "azd0OHckW_P5"
   },
   "source": [
    "df = pd.DataFrame([\n",
    "  [0,       1     ],\n",
    "  [2,       0     ],\n",
    "  [2,       np.nan],\n",
    "  [np.nan,  np.nan]\n",
    "])\n",
    "\n",
    "df"
   ],
   "execution_count": null,
   "outputs": []
  },
  {
   "cell_type": "markdown",
   "metadata": {
    "id": "S9gRcGqm6ShT"
   },
   "source": [
    "Incomplete observations can be filtered out."
   ]
  },
  {
   "cell_type": "code",
   "metadata": {
    "id": "ylwDhz21XX-w"
   },
   "source": [
    "df.dropna()"
   ],
   "execution_count": null,
   "outputs": []
  },
  {
   "cell_type": "code",
   "metadata": {
    "id": "XDHte120XZfS"
   },
   "source": [
    "df.dropna(how='all')"
   ],
   "execution_count": null,
   "outputs": []
  },
  {
   "cell_type": "markdown",
   "metadata": {
    "id": "rNO5nXsc6XX8"
   },
   "source": [
    "It is also possible to \"fill the gaps\"."
   ]
  },
  {
   "cell_type": "code",
   "metadata": {
    "id": "XocA7HizXnpw"
   },
   "source": [
    "df.fillna(0)"
   ],
   "execution_count": null,
   "outputs": []
  },
  {
   "cell_type": "code",
   "metadata": {
    "id": "bmrjskmCCdzQ"
   },
   "source": [
    "df.fillna(0).drop_duplicates()"
   ],
   "execution_count": null,
   "outputs": []
  },
  {
   "cell_type": "code",
   "metadata": {
    "id": "aT9oJBDvXqQJ"
   },
   "source": [
    "df.fillna({0: 0, 1: 1})"
   ],
   "execution_count": null,
   "outputs": []
  },
  {
   "cell_type": "markdown",
   "metadata": {
    "id": "VA7EHyHjsSpc"
   },
   "source": [
    "## Data access\n",
    "\n",
    "Let us observe how we can access and manipulate DataFrame structure."
   ]
  },
  {
   "cell_type": "code",
   "metadata": {
    "id": "tVLuKfmLX0y5"
   },
   "source": [
    "df = pd.read_csv('./sample_data/california_housing_train.csv')\n",
    "df"
   ],
   "execution_count": null,
   "outputs": []
  },
  {
   "cell_type": "markdown",
   "metadata": {
    "id": "CASPRMoexl7a"
   },
   "source": [
    "### describe & info\n",
    "Once the dataframe is loaded `describe` and `info`methods provide an easy way to obtain a high level view of the underlying data."
   ]
  },
  {
   "cell_type": "code",
   "metadata": {
    "id": "HMwnatJGxzfC"
   },
   "source": [
    "df.describe()"
   ],
   "execution_count": null,
   "outputs": []
  },
  {
   "cell_type": "code",
   "metadata": {
    "id": "_Q2N98_Ex0mC"
   },
   "source": [
    "df.info()"
   ],
   "execution_count": null,
   "outputs": []
  },
  {
   "cell_type": "markdown",
   "metadata": {
    "id": "qSPgCTze7xev"
   },
   "source": [
    "### head & tail\n",
    "we can use these methods to look at the first and last entries"
   ]
  },
  {
   "cell_type": "code",
   "metadata": {
    "id": "XO5Etmdc75s0"
   },
   "source": [
    "df.head()"
   ],
   "execution_count": null,
   "outputs": []
  },
  {
   "cell_type": "code",
   "metadata": {
    "id": "_2KrT5a877XP"
   },
   "source": [
    "df.tail()"
   ],
   "execution_count": null,
   "outputs": []
  },
  {
   "cell_type": "code",
   "metadata": {
    "id": "wpXzcAu578ek"
   },
   "source": [
    "df.head(8)"
   ],
   "execution_count": null,
   "outputs": []
  },
  {
   "cell_type": "markdown",
   "metadata": {
    "id": "GJEDUNSz8EG4"
   },
   "source": [
    "### rename\n",
    "can be used to rename column labels."
   ]
  },
  {
   "cell_type": "code",
   "metadata": {
    "id": "f5S_0fIPsmIs"
   },
   "source": [
    "df.rename(columns={'longitude': 'lon', 'latitude': 'lat'})"
   ],
   "execution_count": null,
   "outputs": []
  },
  {
   "cell_type": "markdown",
   "metadata": {
    "id": "O9Pfc03O8N2B"
   },
   "source": [
    "### Accessing a subset of data"
   ]
  },
  {
   "cell_type": "markdown",
   "metadata": {
    "id": "r2Jxjtny8WyB"
   },
   "source": [
    "To select multiple columns specify list of labels within square brackets."
   ]
  },
  {
   "cell_type": "code",
   "metadata": {
    "id": "sXb7ShyGsaVI"
   },
   "source": [
    "df[['longitude', 'latitude']]"
   ],
   "execution_count": null,
   "outputs": []
  },
  {
   "cell_type": "markdown",
   "metadata": {
    "id": "pkX70vjk8pJC"
   },
   "source": [
    "Single column can be retrieved by specifying its name within square brackets. Note that this will yield a `Series` object which behaves a little different than DataFrames, but in general is a representation of single varaible values."
   ]
  },
  {
   "cell_type": "code",
   "metadata": {
    "id": "L4TKWFRysdgU"
   },
   "source": [
    "df['longitude']"
   ],
   "execution_count": null,
   "outputs": []
  },
  {
   "cell_type": "markdown",
   "metadata": {
    "id": "fmkR75Bo9CCy"
   },
   "source": [
    "If column name does not contain spaces and other special character it can accesed as an attribute."
   ]
  },
  {
   "cell_type": "code",
   "metadata": {
    "id": "XY9e9ZGS9LLs"
   },
   "source": [
    "df.longitude"
   ],
   "execution_count": null,
   "outputs": []
  },
  {
   "cell_type": "markdown",
   "metadata": {
    "id": "m2gC4xbr9P_F"
   },
   "source": [
    "Subset of a DataFrame can be selected using `loc` attribute. You need to specify index and column labels. Note that it supports slicing with respect to column names. Also, as [documentation](https://pandas.pydata.org/pandas-docs/version/0.15.2/indexing.html#different-choices-for-indexing) says *note that contrary to usual python slices, both the start and the stop are included!*."
   ]
  },
  {
   "cell_type": "code",
   "metadata": {
    "id": "vKOv3ZxqwkBO"
   },
   "source": [
    "df.loc[5:10, 'population': 'median_house_value']"
   ],
   "execution_count": null,
   "outputs": []
  },
  {
   "cell_type": "markdown",
   "metadata": {
    "id": "Hm0rnWF_SL3a"
   },
   "source": [
    "It also possible to select data with slices correspong to indices and columns **positions** (as in NumPy)."
   ]
  },
  {
   "cell_type": "code",
   "metadata": {
    "id": "E2i7VKPuw5HR"
   },
   "source": [
    "df.iloc[5:10, -4:]"
   ],
   "execution_count": null,
   "outputs": []
  },
  {
   "cell_type": "markdown",
   "metadata": {
    "id": "KbAv19uE9s9F"
   },
   "source": [
    "Boolean arrays (including boolean `Series` object) can be used as well."
   ]
  },
  {
   "cell_type": "code",
   "metadata": {
    "id": "4n57Qr-1xEX-"
   },
   "source": [
    "index = df.median_house_value < 25000\n",
    "index"
   ],
   "execution_count": null,
   "outputs": []
  },
  {
   "cell_type": "code",
   "metadata": {
    "id": "oXaFM6W2xXPP"
   },
   "source": [
    "df.loc[index, 'median_house_value']"
   ],
   "execution_count": null,
   "outputs": []
  },
  {
   "cell_type": "markdown",
   "metadata": {
    "id": "m05c1SiSxkCS"
   },
   "source": [
    "It is also possible to do"
   ]
  },
  {
   "cell_type": "code",
   "metadata": {
    "id": "SzFqHh3q-Kc2"
   },
   "source": [
    "df[index]"
   ],
   "execution_count": null,
   "outputs": []
  },
  {
   "cell_type": "markdown",
   "metadata": {
    "id": "ab4hdqAs-64J"
   },
   "source": [
    "## Merging dataframes\n",
    "can be used to merge multiple arrays into one.\n"
   ]
  },
  {
   "cell_type": "code",
   "metadata": {
    "id": "Ehwv1RhsJNTG"
   },
   "source": [
    "df_1 = pd.DataFrame(np.arange(9).reshape(3, 3), columns=['a', 'b', 'c'], index=[0, 1, 2])\n",
    "df_2 = pd.DataFrame(np.arange(9).reshape(3, 3), columns=['b', 'c', 'd'], index=[1, 2, 3])"
   ],
   "execution_count": null,
   "outputs": []
  },
  {
   "cell_type": "code",
   "metadata": {
    "id": "4FWYHpzJJjbR"
   },
   "source": [
    "df_1"
   ],
   "execution_count": null,
   "outputs": []
  },
  {
   "cell_type": "code",
   "metadata": {
    "id": "mR2ylFkxJkYZ"
   },
   "source": [
    "df_2"
   ],
   "execution_count": null,
   "outputs": []
  },
  {
   "cell_type": "markdown",
   "metadata": {
    "id": "fNnkUNbsMBBR"
   },
   "source": [
    "There are to basic methods for merging dataframes. The first one is `append` that concatenates dataframes along the index."
   ]
  },
  {
   "cell_type": "code",
   "metadata": {
    "id": "CbrEz7PsKCh6"
   },
   "source": [
    "df_1.append(df_2)"
   ],
   "execution_count": null,
   "outputs": []
  },
  {
   "cell_type": "markdown",
   "metadata": {
    "id": "6D3UJTGjMcDK"
   },
   "source": [
    "The second one is join that concatenates dataframes along the columns."
   ]
  },
  {
   "cell_type": "code",
   "metadata": {
    "id": "3myHk6j0LRWw"
   },
   "source": [
    "df_1.join(df_2, how='outer', lsuffix='_left', rsuffix='_right')"
   ],
   "execution_count": null,
   "outputs": []
  },
  {
   "cell_type": "markdown",
   "metadata": {
    "id": "x9T6GnbdLGdm"
   },
   "source": [
    "These two methods are special cases of more general function `concat` that allows more advanced oprations. There is also `merge` method which makes use of database-like joins.\n",
    "\n",
    "All of these methods are described and explained here: https://pandas.pydata.org/pandas-docs/stable/user_guide/merging.html"
   ]
  },
  {
   "cell_type": "markdown",
   "metadata": {
    "id": "uDCPw8QxBW_-"
   },
   "source": [
    "## Operations on dataframes\n",
    "Pandas can be used to perfrom mathematical and other operations on the underlying data."
   ]
  },
  {
   "cell_type": "markdown",
   "metadata": {
    "id": "CGsOofdMBok3"
   },
   "source": [
    "### Elementwise operations\n",
    "The most common use case is to create a new column being a result of some operation on existing columns."
   ]
  },
  {
   "cell_type": "code",
   "metadata": {
    "id": "EFcS4WvcD6J6"
   },
   "source": [
    "people_per_household = df.population / df.households\n",
    "people_per_household"
   ],
   "execution_count": null,
   "outputs": []
  },
  {
   "cell_type": "code",
   "metadata": {
    "id": "t6IYIl8iFHOS"
   },
   "source": [
    "df['people_per_household'] = people_per_household\n",
    "df"
   ],
   "execution_count": null,
   "outputs": []
  },
  {
   "cell_type": "markdown",
   "metadata": {
    "id": "OIMlorKU_qWL"
   },
   "source": [
    "More general function can be applied with use of `apply` method"
   ]
  },
  {
   "cell_type": "code",
   "metadata": {
    "id": "_a6iv70F_vGH"
   },
   "source": [
    "def func(row):\n",
    "  if row.latitude > 0:\n",
    "    ns_hemisphere = 'N'\n",
    "  else:\n",
    "    ns_hemisphere = 'S'\n",
    "\n",
    "  if row.longitude > 0:\n",
    "    ew_hemisphere = 'E'\n",
    "  else:\n",
    "    ew_hemisphere = 'W'\n",
    "\n",
    "  gps_label = f\"{abs(row.latitude)} {ns_hemisphere}, {abs(row.longitude)} {ew_hemisphere}\"\n",
    "\n",
    "  return gps_label\n",
    "\n",
    "df.apply(func, axis=1).head()"
   ],
   "execution_count": null,
   "outputs": []
  },
  {
   "cell_type": "markdown",
   "metadata": {
    "id": "nM5MtJy2x4GS"
   },
   "source": [
    "### GroupBy\n",
    "can be used to split a dataframe into multiple based on some condition/values"
   ]
  },
  {
   "cell_type": "code",
   "metadata": {
    "id": "dzecEgp-yPLS"
   },
   "source": [
    "values = df.median_house_value.round(-4)\n",
    "values\n"
   ],
   "execution_count": null,
   "outputs": []
  },
  {
   "cell_type": "code",
   "metadata": {
    "id": "wQjdhDwY0qhC"
   },
   "source": [
    "gb = df.groupby(values)\n",
    "gb"
   ],
   "execution_count": null,
   "outputs": []
  },
  {
   "cell_type": "markdown",
   "metadata": {
    "id": "R1OLOz_PEAJJ"
   },
   "source": [
    "Groups labels and indices can be accessed under `groups` attribute and themselves with the use of `get_group` method."
   ]
  },
  {
   "cell_type": "code",
   "metadata": {
    "id": "IDpJ8A-Ryi6p"
   },
   "source": [
    "gb.groups"
   ],
   "execution_count": null,
   "outputs": []
  },
  {
   "cell_type": "code",
   "metadata": {
    "id": "-80ppr-Ey2P9"
   },
   "source": [
    "gb.get_group(10000)"
   ],
   "execution_count": null,
   "outputs": []
  },
  {
   "cell_type": "markdown",
   "metadata": {
    "id": "6Gb9ybMCESgX"
   },
   "source": [
    "The main use case of the `groupby` functionality is to split dataframe based on some condition, perform some aggregation within groups and then join the results. An example of such an operation is calcualtin mean within each group."
   ]
  },
  {
   "cell_type": "code",
   "metadata": {
    "id": "JsZIkZLtyVki"
   },
   "source": [
    "gb.mean().head()"
   ],
   "execution_count": null,
   "outputs": []
  },
  {
   "cell_type": "markdown",
   "metadata": {
    "id": "x5pKMYQQEssJ"
   },
   "source": [
    "You can read more about `groupby` funcionality in teh pandas user guide: https://pandas.pydata.org/pandas-docs/stable/user_guide/groupby.html"
   ]
  },
  {
   "cell_type": "markdown",
   "metadata": {
    "id": "Zh6YSV42SsEc"
   },
   "source": [
    "## Pandas Exercises"
   ]
  },
  {
   "cell_type": "markdown",
   "metadata": {
    "id": "7Eps67iM_R4P"
   },
   "source": [
    "### Pandas exercise: IMDB movies\n",
    "\n",
    "In this exercise we will look into IMDB Top 1000 movies dataset. We will first load it into a dataframe.\n"
   ]
  },
  {
   "cell_type": "code",
   "metadata": {
    "id": "-fB20DPoN6U3",
    "colab": {
     "base_uri": "https://localhost:8080/",
     "height": 615
    },
    "executionInfo": {
     "status": "ok",
     "timestamp": 1696576843998,
     "user_tz": -120,
     "elapsed": 651,
     "user": {
      "displayName": "Michał Traczyk",
      "userId": "00555487641805485616"
     }
    },
    "outputId": "7050b2c1-608b-4a58-db35-6f0a42143eb1"
   },
   "source": [
    "url = \"https://raw.githubusercontent.com/peetck/IMDB-Top1000-Movies/master/IMDB-Movie-Data.csv\"\n",
    "df = pd.read_csv(url)\n",
    "df"
   ],
   "execution_count": 4,
   "outputs": [
    {
     "output_type": "execute_result",
     "data": {
      "text/plain": [
       "     Rank                    Title                     Genre  \\\n",
       "0       1  Guardians of the Galaxy   Action,Adventure,Sci-Fi   \n",
       "1       2               Prometheus  Adventure,Mystery,Sci-Fi   \n",
       "2       3                    Split           Horror,Thriller   \n",
       "3       4                     Sing   Animation,Comedy,Family   \n",
       "4       5            Suicide Squad  Action,Adventure,Fantasy   \n",
       "..    ...                      ...                       ...   \n",
       "995   996     Secret in Their Eyes       Crime,Drama,Mystery   \n",
       "996   997          Hostel: Part II                    Horror   \n",
       "997   998   Step Up 2: The Streets       Drama,Music,Romance   \n",
       "998   999             Search Party          Adventure,Comedy   \n",
       "999  1000               Nine Lives     Comedy,Family,Fantasy   \n",
       "\n",
       "                                           Description              Director  \\\n",
       "0    A group of intergalactic criminals are forced ...            James Gunn   \n",
       "1    Following clues to the origin of mankind, a te...          Ridley Scott   \n",
       "2    Three girls are kidnapped by a man with a diag...    M. Night Shyamalan   \n",
       "3    In a city of humanoid animals, a hustling thea...  Christophe Lourdelet   \n",
       "4    A secret government agency recruits some of th...            David Ayer   \n",
       "..                                                 ...                   ...   \n",
       "995  A tight-knit team of rising investigators, alo...             Billy Ray   \n",
       "996  Three American college students studying abroa...              Eli Roth   \n",
       "997  Romantic sparks occur between two dance studen...            Jon M. Chu   \n",
       "998  A pair of friends embark on a mission to reuni...        Scot Armstrong   \n",
       "999  A stuffy businessman finds himself trapped ins...      Barry Sonnenfeld   \n",
       "\n",
       "                                                Actors  Year  \\\n",
       "0    Chris Pratt, Vin Diesel, Bradley Cooper, Zoe S...  2014   \n",
       "1    Noomi Rapace, Logan Marshall-Green, Michael Fa...  2012   \n",
       "2    James McAvoy, Anya Taylor-Joy, Haley Lu Richar...  2016   \n",
       "3    Matthew McConaughey,Reese Witherspoon, Seth Ma...  2016   \n",
       "4    Will Smith, Jared Leto, Margot Robbie, Viola D...  2016   \n",
       "..                                                 ...   ...   \n",
       "995  Chiwetel Ejiofor, Nicole Kidman, Julia Roberts...  2015   \n",
       "996  Lauren German, Heather Matarazzo, Bijou Philli...  2007   \n",
       "997  Robert Hoffman, Briana Evigan, Cassie Ventura,...  2008   \n",
       "998  Adam Pally, T.J. Miller, Thomas Middleditch,Sh...  2014   \n",
       "999  Kevin Spacey, Jennifer Garner, Robbie Amell,Ch...  2016   \n",
       "\n",
       "     Runtime (Minutes)  Rating   Votes  Revenue (Millions)  Metascore  \n",
       "0                  121     8.1  757074              333.13         76  \n",
       "1                  124     7.0  485820              126.46         65  \n",
       "2                  117     7.3  157606              138.12         62  \n",
       "3                  108     7.2   60545              270.32         59  \n",
       "4                  123     6.2  393727              325.02         40  \n",
       "..                 ...     ...     ...                 ...        ...  \n",
       "995                111     6.2   27585                0.00         45  \n",
       "996                 94     5.5   73152               17.54         46  \n",
       "997                 98     6.2   70699               58.01         50  \n",
       "998                 93     5.6    4881                0.00         22  \n",
       "999                 87     5.3   12435               19.64         11  \n",
       "\n",
       "[1000 rows x 12 columns]"
      ],
      "text/html": [
       "\n",
       "  <div id=\"df-71d4801d-9fe0-40cf-beec-05d5b2781c88\" class=\"colab-df-container\">\n",
       "    <div>\n",
       "<style scoped>\n",
       "    .dataframe tbody tr th:only-of-type {\n",
       "        vertical-align: middle;\n",
       "    }\n",
       "\n",
       "    .dataframe tbody tr th {\n",
       "        vertical-align: top;\n",
       "    }\n",
       "\n",
       "    .dataframe thead th {\n",
       "        text-align: right;\n",
       "    }\n",
       "</style>\n",
       "<table border=\"1\" class=\"dataframe\">\n",
       "  <thead>\n",
       "    <tr style=\"text-align: right;\">\n",
       "      <th></th>\n",
       "      <th>Rank</th>\n",
       "      <th>Title</th>\n",
       "      <th>Genre</th>\n",
       "      <th>Description</th>\n",
       "      <th>Director</th>\n",
       "      <th>Actors</th>\n",
       "      <th>Year</th>\n",
       "      <th>Runtime (Minutes)</th>\n",
       "      <th>Rating</th>\n",
       "      <th>Votes</th>\n",
       "      <th>Revenue (Millions)</th>\n",
       "      <th>Metascore</th>\n",
       "    </tr>\n",
       "  </thead>\n",
       "  <tbody>\n",
       "    <tr>\n",
       "      <th>0</th>\n",
       "      <td>1</td>\n",
       "      <td>Guardians of the Galaxy</td>\n",
       "      <td>Action,Adventure,Sci-Fi</td>\n",
       "      <td>A group of intergalactic criminals are forced ...</td>\n",
       "      <td>James Gunn</td>\n",
       "      <td>Chris Pratt, Vin Diesel, Bradley Cooper, Zoe S...</td>\n",
       "      <td>2014</td>\n",
       "      <td>121</td>\n",
       "      <td>8.1</td>\n",
       "      <td>757074</td>\n",
       "      <td>333.13</td>\n",
       "      <td>76</td>\n",
       "    </tr>\n",
       "    <tr>\n",
       "      <th>1</th>\n",
       "      <td>2</td>\n",
       "      <td>Prometheus</td>\n",
       "      <td>Adventure,Mystery,Sci-Fi</td>\n",
       "      <td>Following clues to the origin of mankind, a te...</td>\n",
       "      <td>Ridley Scott</td>\n",
       "      <td>Noomi Rapace, Logan Marshall-Green, Michael Fa...</td>\n",
       "      <td>2012</td>\n",
       "      <td>124</td>\n",
       "      <td>7.0</td>\n",
       "      <td>485820</td>\n",
       "      <td>126.46</td>\n",
       "      <td>65</td>\n",
       "    </tr>\n",
       "    <tr>\n",
       "      <th>2</th>\n",
       "      <td>3</td>\n",
       "      <td>Split</td>\n",
       "      <td>Horror,Thriller</td>\n",
       "      <td>Three girls are kidnapped by a man with a diag...</td>\n",
       "      <td>M. Night Shyamalan</td>\n",
       "      <td>James McAvoy, Anya Taylor-Joy, Haley Lu Richar...</td>\n",
       "      <td>2016</td>\n",
       "      <td>117</td>\n",
       "      <td>7.3</td>\n",
       "      <td>157606</td>\n",
       "      <td>138.12</td>\n",
       "      <td>62</td>\n",
       "    </tr>\n",
       "    <tr>\n",
       "      <th>3</th>\n",
       "      <td>4</td>\n",
       "      <td>Sing</td>\n",
       "      <td>Animation,Comedy,Family</td>\n",
       "      <td>In a city of humanoid animals, a hustling thea...</td>\n",
       "      <td>Christophe Lourdelet</td>\n",
       "      <td>Matthew McConaughey,Reese Witherspoon, Seth Ma...</td>\n",
       "      <td>2016</td>\n",
       "      <td>108</td>\n",
       "      <td>7.2</td>\n",
       "      <td>60545</td>\n",
       "      <td>270.32</td>\n",
       "      <td>59</td>\n",
       "    </tr>\n",
       "    <tr>\n",
       "      <th>4</th>\n",
       "      <td>5</td>\n",
       "      <td>Suicide Squad</td>\n",
       "      <td>Action,Adventure,Fantasy</td>\n",
       "      <td>A secret government agency recruits some of th...</td>\n",
       "      <td>David Ayer</td>\n",
       "      <td>Will Smith, Jared Leto, Margot Robbie, Viola D...</td>\n",
       "      <td>2016</td>\n",
       "      <td>123</td>\n",
       "      <td>6.2</td>\n",
       "      <td>393727</td>\n",
       "      <td>325.02</td>\n",
       "      <td>40</td>\n",
       "    </tr>\n",
       "    <tr>\n",
       "      <th>...</th>\n",
       "      <td>...</td>\n",
       "      <td>...</td>\n",
       "      <td>...</td>\n",
       "      <td>...</td>\n",
       "      <td>...</td>\n",
       "      <td>...</td>\n",
       "      <td>...</td>\n",
       "      <td>...</td>\n",
       "      <td>...</td>\n",
       "      <td>...</td>\n",
       "      <td>...</td>\n",
       "      <td>...</td>\n",
       "    </tr>\n",
       "    <tr>\n",
       "      <th>995</th>\n",
       "      <td>996</td>\n",
       "      <td>Secret in Their Eyes</td>\n",
       "      <td>Crime,Drama,Mystery</td>\n",
       "      <td>A tight-knit team of rising investigators, alo...</td>\n",
       "      <td>Billy Ray</td>\n",
       "      <td>Chiwetel Ejiofor, Nicole Kidman, Julia Roberts...</td>\n",
       "      <td>2015</td>\n",
       "      <td>111</td>\n",
       "      <td>6.2</td>\n",
       "      <td>27585</td>\n",
       "      <td>0.00</td>\n",
       "      <td>45</td>\n",
       "    </tr>\n",
       "    <tr>\n",
       "      <th>996</th>\n",
       "      <td>997</td>\n",
       "      <td>Hostel: Part II</td>\n",
       "      <td>Horror</td>\n",
       "      <td>Three American college students studying abroa...</td>\n",
       "      <td>Eli Roth</td>\n",
       "      <td>Lauren German, Heather Matarazzo, Bijou Philli...</td>\n",
       "      <td>2007</td>\n",
       "      <td>94</td>\n",
       "      <td>5.5</td>\n",
       "      <td>73152</td>\n",
       "      <td>17.54</td>\n",
       "      <td>46</td>\n",
       "    </tr>\n",
       "    <tr>\n",
       "      <th>997</th>\n",
       "      <td>998</td>\n",
       "      <td>Step Up 2: The Streets</td>\n",
       "      <td>Drama,Music,Romance</td>\n",
       "      <td>Romantic sparks occur between two dance studen...</td>\n",
       "      <td>Jon M. Chu</td>\n",
       "      <td>Robert Hoffman, Briana Evigan, Cassie Ventura,...</td>\n",
       "      <td>2008</td>\n",
       "      <td>98</td>\n",
       "      <td>6.2</td>\n",
       "      <td>70699</td>\n",
       "      <td>58.01</td>\n",
       "      <td>50</td>\n",
       "    </tr>\n",
       "    <tr>\n",
       "      <th>998</th>\n",
       "      <td>999</td>\n",
       "      <td>Search Party</td>\n",
       "      <td>Adventure,Comedy</td>\n",
       "      <td>A pair of friends embark on a mission to reuni...</td>\n",
       "      <td>Scot Armstrong</td>\n",
       "      <td>Adam Pally, T.J. Miller, Thomas Middleditch,Sh...</td>\n",
       "      <td>2014</td>\n",
       "      <td>93</td>\n",
       "      <td>5.6</td>\n",
       "      <td>4881</td>\n",
       "      <td>0.00</td>\n",
       "      <td>22</td>\n",
       "    </tr>\n",
       "    <tr>\n",
       "      <th>999</th>\n",
       "      <td>1000</td>\n",
       "      <td>Nine Lives</td>\n",
       "      <td>Comedy,Family,Fantasy</td>\n",
       "      <td>A stuffy businessman finds himself trapped ins...</td>\n",
       "      <td>Barry Sonnenfeld</td>\n",
       "      <td>Kevin Spacey, Jennifer Garner, Robbie Amell,Ch...</td>\n",
       "      <td>2016</td>\n",
       "      <td>87</td>\n",
       "      <td>5.3</td>\n",
       "      <td>12435</td>\n",
       "      <td>19.64</td>\n",
       "      <td>11</td>\n",
       "    </tr>\n",
       "  </tbody>\n",
       "</table>\n",
       "<p>1000 rows × 12 columns</p>\n",
       "</div>\n",
       "    <div class=\"colab-df-buttons\">\n",
       "\n",
       "  <div class=\"colab-df-container\">\n",
       "    <button class=\"colab-df-convert\" onclick=\"convertToInteractive('df-71d4801d-9fe0-40cf-beec-05d5b2781c88')\"\n",
       "            title=\"Convert this dataframe to an interactive table.\"\n",
       "            style=\"display:none;\">\n",
       "\n",
       "  <svg xmlns=\"http://www.w3.org/2000/svg\" height=\"24px\" viewBox=\"0 -960 960 960\">\n",
       "    <path d=\"M120-120v-720h720v720H120Zm60-500h600v-160H180v160Zm220 220h160v-160H400v160Zm0 220h160v-160H400v160ZM180-400h160v-160H180v160Zm440 0h160v-160H620v160ZM180-180h160v-160H180v160Zm440 0h160v-160H620v160Z\"/>\n",
       "  </svg>\n",
       "    </button>\n",
       "\n",
       "  <style>\n",
       "    .colab-df-container {\n",
       "      display:flex;\n",
       "      gap: 12px;\n",
       "    }\n",
       "\n",
       "    .colab-df-convert {\n",
       "      background-color: #E8F0FE;\n",
       "      border: none;\n",
       "      border-radius: 50%;\n",
       "      cursor: pointer;\n",
       "      display: none;\n",
       "      fill: #1967D2;\n",
       "      height: 32px;\n",
       "      padding: 0 0 0 0;\n",
       "      width: 32px;\n",
       "    }\n",
       "\n",
       "    .colab-df-convert:hover {\n",
       "      background-color: #E2EBFA;\n",
       "      box-shadow: 0px 1px 2px rgba(60, 64, 67, 0.3), 0px 1px 3px 1px rgba(60, 64, 67, 0.15);\n",
       "      fill: #174EA6;\n",
       "    }\n",
       "\n",
       "    .colab-df-buttons div {\n",
       "      margin-bottom: 4px;\n",
       "    }\n",
       "\n",
       "    [theme=dark] .colab-df-convert {\n",
       "      background-color: #3B4455;\n",
       "      fill: #D2E3FC;\n",
       "    }\n",
       "\n",
       "    [theme=dark] .colab-df-convert:hover {\n",
       "      background-color: #434B5C;\n",
       "      box-shadow: 0px 1px 3px 1px rgba(0, 0, 0, 0.15);\n",
       "      filter: drop-shadow(0px 1px 2px rgba(0, 0, 0, 0.3));\n",
       "      fill: #FFFFFF;\n",
       "    }\n",
       "  </style>\n",
       "\n",
       "    <script>\n",
       "      const buttonEl =\n",
       "        document.querySelector('#df-71d4801d-9fe0-40cf-beec-05d5b2781c88 button.colab-df-convert');\n",
       "      buttonEl.style.display =\n",
       "        google.colab.kernel.accessAllowed ? 'block' : 'none';\n",
       "\n",
       "      async function convertToInteractive(key) {\n",
       "        const element = document.querySelector('#df-71d4801d-9fe0-40cf-beec-05d5b2781c88');\n",
       "        const dataTable =\n",
       "          await google.colab.kernel.invokeFunction('convertToInteractive',\n",
       "                                                    [key], {});\n",
       "        if (!dataTable) return;\n",
       "\n",
       "        const docLinkHtml = 'Like what you see? Visit the ' +\n",
       "          '<a target=\"_blank\" href=https://colab.research.google.com/notebooks/data_table.ipynb>data table notebook</a>'\n",
       "          + ' to learn more about interactive tables.';\n",
       "        element.innerHTML = '';\n",
       "        dataTable['output_type'] = 'display_data';\n",
       "        await google.colab.output.renderOutput(dataTable, element);\n",
       "        const docLink = document.createElement('div');\n",
       "        docLink.innerHTML = docLinkHtml;\n",
       "        element.appendChild(docLink);\n",
       "      }\n",
       "    </script>\n",
       "  </div>\n",
       "\n",
       "\n",
       "<div id=\"df-79820e66-0d9c-473b-bd60-91b4b53ce991\">\n",
       "  <button class=\"colab-df-quickchart\" onclick=\"quickchart('df-79820e66-0d9c-473b-bd60-91b4b53ce991')\"\n",
       "            title=\"Suggest charts.\"\n",
       "            style=\"display:none;\">\n",
       "\n",
       "<svg xmlns=\"http://www.w3.org/2000/svg\" height=\"24px\"viewBox=\"0 0 24 24\"\n",
       "     width=\"24px\">\n",
       "    <g>\n",
       "        <path d=\"M19 3H5c-1.1 0-2 .9-2 2v14c0 1.1.9 2 2 2h14c1.1 0 2-.9 2-2V5c0-1.1-.9-2-2-2zM9 17H7v-7h2v7zm4 0h-2V7h2v10zm4 0h-2v-4h2v4z\"/>\n",
       "    </g>\n",
       "</svg>\n",
       "  </button>\n",
       "\n",
       "<style>\n",
       "  .colab-df-quickchart {\n",
       "      --bg-color: #E8F0FE;\n",
       "      --fill-color: #1967D2;\n",
       "      --hover-bg-color: #E2EBFA;\n",
       "      --hover-fill-color: #174EA6;\n",
       "      --disabled-fill-color: #AAA;\n",
       "      --disabled-bg-color: #DDD;\n",
       "  }\n",
       "\n",
       "  [theme=dark] .colab-df-quickchart {\n",
       "      --bg-color: #3B4455;\n",
       "      --fill-color: #D2E3FC;\n",
       "      --hover-bg-color: #434B5C;\n",
       "      --hover-fill-color: #FFFFFF;\n",
       "      --disabled-bg-color: #3B4455;\n",
       "      --disabled-fill-color: #666;\n",
       "  }\n",
       "\n",
       "  .colab-df-quickchart {\n",
       "    background-color: var(--bg-color);\n",
       "    border: none;\n",
       "    border-radius: 50%;\n",
       "    cursor: pointer;\n",
       "    display: none;\n",
       "    fill: var(--fill-color);\n",
       "    height: 32px;\n",
       "    padding: 0;\n",
       "    width: 32px;\n",
       "  }\n",
       "\n",
       "  .colab-df-quickchart:hover {\n",
       "    background-color: var(--hover-bg-color);\n",
       "    box-shadow: 0 1px 2px rgba(60, 64, 67, 0.3), 0 1px 3px 1px rgba(60, 64, 67, 0.15);\n",
       "    fill: var(--button-hover-fill-color);\n",
       "  }\n",
       "\n",
       "  .colab-df-quickchart-complete:disabled,\n",
       "  .colab-df-quickchart-complete:disabled:hover {\n",
       "    background-color: var(--disabled-bg-color);\n",
       "    fill: var(--disabled-fill-color);\n",
       "    box-shadow: none;\n",
       "  }\n",
       "\n",
       "  .colab-df-spinner {\n",
       "    border: 2px solid var(--fill-color);\n",
       "    border-color: transparent;\n",
       "    border-bottom-color: var(--fill-color);\n",
       "    animation:\n",
       "      spin 1s steps(1) infinite;\n",
       "  }\n",
       "\n",
       "  @keyframes spin {\n",
       "    0% {\n",
       "      border-color: transparent;\n",
       "      border-bottom-color: var(--fill-color);\n",
       "      border-left-color: var(--fill-color);\n",
       "    }\n",
       "    20% {\n",
       "      border-color: transparent;\n",
       "      border-left-color: var(--fill-color);\n",
       "      border-top-color: var(--fill-color);\n",
       "    }\n",
       "    30% {\n",
       "      border-color: transparent;\n",
       "      border-left-color: var(--fill-color);\n",
       "      border-top-color: var(--fill-color);\n",
       "      border-right-color: var(--fill-color);\n",
       "    }\n",
       "    40% {\n",
       "      border-color: transparent;\n",
       "      border-right-color: var(--fill-color);\n",
       "      border-top-color: var(--fill-color);\n",
       "    }\n",
       "    60% {\n",
       "      border-color: transparent;\n",
       "      border-right-color: var(--fill-color);\n",
       "    }\n",
       "    80% {\n",
       "      border-color: transparent;\n",
       "      border-right-color: var(--fill-color);\n",
       "      border-bottom-color: var(--fill-color);\n",
       "    }\n",
       "    90% {\n",
       "      border-color: transparent;\n",
       "      border-bottom-color: var(--fill-color);\n",
       "    }\n",
       "  }\n",
       "</style>\n",
       "\n",
       "  <script>\n",
       "    async function quickchart(key) {\n",
       "      const quickchartButtonEl =\n",
       "        document.querySelector('#' + key + ' button');\n",
       "      quickchartButtonEl.disabled = true;  // To prevent multiple clicks.\n",
       "      quickchartButtonEl.classList.add('colab-df-spinner');\n",
       "      try {\n",
       "        const charts = await google.colab.kernel.invokeFunction(\n",
       "            'suggestCharts', [key], {});\n",
       "      } catch (error) {\n",
       "        console.error('Error during call to suggestCharts:', error);\n",
       "      }\n",
       "      quickchartButtonEl.classList.remove('colab-df-spinner');\n",
       "      quickchartButtonEl.classList.add('colab-df-quickchart-complete');\n",
       "    }\n",
       "    (() => {\n",
       "      let quickchartButtonEl =\n",
       "        document.querySelector('#df-79820e66-0d9c-473b-bd60-91b4b53ce991 button');\n",
       "      quickchartButtonEl.style.display =\n",
       "        google.colab.kernel.accessAllowed ? 'block' : 'none';\n",
       "    })();\n",
       "  </script>\n",
       "</div>\n",
       "    </div>\n",
       "  </div>\n"
      ]
     },
     "metadata": {},
     "execution_count": 4
    }
   ]
  },
  {
   "cell_type": "markdown",
   "metadata": {
    "id": "mf18PKraGQU3"
   },
   "source": [
    "Part 1.\n",
    "\n",
    "1. How much should movie earn to be among 2% best earning movies?\n",
    "2. Select movies that earned more than this value.\n",
    "3. Calculate their mean rating."
   ]
  },
  {
   "cell_type": "code",
   "metadata": {
    "id": "PVyAopqS6_Ad",
    "executionInfo": {
     "status": "ok",
     "timestamp": 1696576846987,
     "user_tz": -120,
     "elapsed": 235,
     "user": {
      "displayName": "Michał Traczyk",
      "userId": "00555487641805485616"
     }
    }
   },
   "source": [
    "### YOUR CODE BEGINS HERE ###\n",
    "answer = df[df['Revenue (Millions)'] > df['Revenue (Millions)'].quantile(.98)]['Rating'].mean()\n",
    "### YOUR CODE ENDS HERE ###"
   ],
   "execution_count": 5,
   "outputs": []
  },
  {
   "cell_type": "code",
   "metadata": {
    "id": "zwsu3e9FPlgO",
    "executionInfo": {
     "status": "ok",
     "timestamp": 1696576848799,
     "user_tz": -120,
     "elapsed": 524,
     "user": {
      "displayName": "Michał Traczyk",
      "userId": "00555487641805485616"
     }
    }
   },
   "source": [
    "# Your code in cell(s) above\n",
    "assert np.isclose(answer, 7.615)"
   ],
   "execution_count": 6,
   "outputs": []
  },
  {
   "cell_type": "markdown",
   "metadata": {
    "id": "lth4Je_2CsM0"
   },
   "source": [
    "Part 2.\n",
    "1. Calculate mean metascore and mean revenue per director. (use groupby)\n",
    "2. Restrict results to the directors that directed more than four movies. (look *up* `value_counts` method)\n",
    "3. Sort the results with respect to the metascore and display the rating as a dataframe.\n",
    "4. Who is the 3rd director it this rating and what is his/her mean revenue?"
   ]
  },
  {
   "cell_type": "code",
   "metadata": {
    "id": "aIbG4S7BCwq7",
    "colab": {
     "base_uri": "https://localhost:8080/"
    },
    "executionInfo": {
     "status": "ok",
     "timestamp": 1696576869580,
     "user_tz": -120,
     "elapsed": 235,
     "user": {
      "displayName": "Michał Traczyk",
      "userId": "00555487641805485616"
     }
    },
    "outputId": "50933cf8-9976-4577-fd9f-b73dc7ca133e"
   },
   "source": [
    "### YOUR CODE BEGINS HERE ###\n",
    "print(df.columns)\n",
    "means = df.groupby('Director')[['Metascore', 'Revenue (Millions)']].mean()\n",
    "print(means)\n",
    "restricted_means = df[df['Director'].isin(df['Director'].value_counts()[df['Director'].value_counts() > 4].index)].groupby('Director')[['Metascore', 'Revenue (Millions)', 'Rating']].mean()\n",
    "print(restricted_means.sort_values(by='Metascore', ascending=False))\n",
    "director = restricted_means.sort_values(by='Metascore', ascending=False)['Rating'].keys()[2]\n",
    "revenue = df[df['Director'] == director]['Revenue (Millions)'].mean()\n",
    "### YOUR CODE ENDS HERE ###"
   ],
   "execution_count": 9,
   "outputs": [
    {
     "output_type": "stream",
     "name": "stdout",
     "text": [
      "Index(['Rank', 'Title', 'Genre', 'Description', 'Director', 'Actors', 'Year',\n",
      "       'Runtime (Minutes)', 'Rating', 'Votes', 'Revenue (Millions)',\n",
      "       'Metascore'],\n",
      "      dtype='object')\n",
      "                     Metascore  Revenue (Millions)\n",
      "Director                                          \n",
      "Aamir Khan                42.0               1.200\n",
      "Abdellatif Kechiche       88.0               2.200\n",
      "Adam Leon                 77.0               0.000\n",
      "Adam McKay                65.5             109.535\n",
      "Adam Shankman             64.0              78.665\n",
      "...                        ...                 ...\n",
      "Xavier Dolan              61.0               1.745\n",
      "Yimou Zhang               42.0              45.130\n",
      "Yorgos Lanthimos          77.5               4.405\n",
      "Zack Snyder               48.0             195.148\n",
      "Zackary Adler             90.0               6.530\n",
      "\n",
      "[644 rows x 2 columns]\n",
      "                    Metascore  Revenue (Millions)    Rating\n",
      "Director                                                   \n",
      "David Fincher       78.600000          105.544000  7.820000\n",
      "Martin Scorsese     77.000000           91.622000  7.920000\n",
      "Denis Villeneuve    75.600000           43.242000  7.760000\n",
      "Danny Boyle         75.000000           36.680000  7.420000\n",
      "Christopher Nolan   74.800000          303.018000  8.680000\n",
      "J.J. Abrams         74.600000          336.690000  7.580000\n",
      "Woody Allen         69.400000           28.238000  7.020000\n",
      "David Yates         68.500000          271.751667  7.433333\n",
      "Ridley Scott        59.750000           89.882500  6.850000\n",
      "Peter Berg          57.400000          102.266000  6.860000\n",
      "Justin Lin          57.200000          164.958000  6.820000\n",
      "Antoine Fuqua       52.400000           78.642000  7.040000\n",
      "Zack Snyder         48.000000          195.148000  7.040000\n",
      "Michael Bay         43.833333          236.886667  6.483333\n",
      "Paul W.S. Anderson  40.333333           34.820000  5.766667\n",
      "M. Night Shyamalan  40.000000           61.748333  5.533333\n"
     ]
    }
   ]
  },
  {
   "cell_type": "code",
   "metadata": {
    "id": "EkeQqmiTRhuP",
    "colab": {
     "base_uri": "https://localhost:8080/"
    },
    "executionInfo": {
     "status": "ok",
     "timestamp": 1696576873801,
     "user_tz": -120,
     "elapsed": 234,
     "user": {
      "displayName": "Michał Traczyk",
      "userId": "00555487641805485616"
     }
    },
    "outputId": "7a4bfa4e-de14-48da-81b6-8098255e7388"
   },
   "source": [
    "print(f\"Mean revenue of {director} is {revenue:.3f}.\")\n",
    "assert np.isclose(revenue, 43.242)"
   ],
   "execution_count": 10,
   "outputs": [
    {
     "output_type": "stream",
     "name": "stdout",
     "text": [
      "Mean revenue of Denis Villeneuve is 43.242.\n"
     ]
    }
   ]
  },
  {
   "cell_type": "markdown",
   "metadata": {
    "id": "1w5sYaTOBQ6o"
   },
   "source": [
    "### Pandas exercises: Anscombe's quartet\n",
    "\n",
    "In this exercise we will look into so called Anscombe's quartet that visualizes pitfalls of some statistics used to describe datasets\n",
    "\n",
    "![image](https://upload.wikimedia.org/wikipedia/commons/e/ec/Anscombe%27s_quartet_3.svg)"
   ]
  },
  {
   "cell_type": "markdown",
   "metadata": {
    "id": "_5hDco-JUysb"
   },
   "source": [
    "Firstly, let us load the data."
   ]
  },
  {
   "cell_type": "code",
   "metadata": {
    "id": "lrL22-ROS9K-",
    "colab": {
     "base_uri": "https://localhost:8080/",
     "height": 1000
    },
    "executionInfo": {
     "status": "ok",
     "timestamp": 1696579201376,
     "user_tz": -120,
     "elapsed": 235,
     "user": {
      "displayName": "Michał Traczyk",
      "userId": "00555487641805485616"
     }
    },
    "outputId": "2ddd5cef-31e8-482b-96fb-253f87a4175a"
   },
   "source": [
    "df = pd.read_json(\"./sample_data/anscombe.json\")\n",
    "df"
   ],
   "execution_count": 79,
   "outputs": [
    {
     "output_type": "execute_result",
     "data": {
      "text/plain": [
       "   Series   X      Y\n",
       "0       I  10   8.04\n",
       "1       I   8   6.95\n",
       "2       I  13   7.58\n",
       "3       I   9   8.81\n",
       "4       I  11   8.33\n",
       "5       I  14   9.96\n",
       "6       I   6   7.24\n",
       "7       I   4   4.26\n",
       "8       I  12  10.84\n",
       "9       I   7   4.81\n",
       "10      I   5   5.68\n",
       "11     II  10   9.14\n",
       "12     II   8   8.14\n",
       "13     II  13   8.74\n",
       "14     II   9   8.77\n",
       "15     II  11   9.26\n",
       "16     II  14   8.10\n",
       "17     II   6   6.13\n",
       "18     II   4   3.10\n",
       "19     II  12   9.13\n",
       "20     II   7   7.26\n",
       "21     II   5   4.74\n",
       "22    III  10   7.46\n",
       "23    III   8   6.77\n",
       "24    III  13  12.74\n",
       "25    III   9   7.11\n",
       "26    III  11   7.81\n",
       "27    III  14   8.84\n",
       "28    III   6   6.08\n",
       "29    III   4   5.39\n",
       "30    III  12   8.15\n",
       "31    III   7   6.42\n",
       "32    III   5   5.73\n",
       "33     IV   8   6.58\n",
       "34     IV   8   5.76\n",
       "35     IV   8   7.71\n",
       "36     IV   8   8.84\n",
       "37     IV   8   8.47\n",
       "38     IV   8   7.04\n",
       "39     IV   8   5.25\n",
       "40     IV  19  12.50\n",
       "41     IV   8   5.56\n",
       "42     IV   8   7.91\n",
       "43     IV   8   6.89"
      ],
      "text/html": [
       "\n",
       "  <div id=\"df-2ff7739a-df18-4de2-8e45-2c7dd21883f6\" class=\"colab-df-container\">\n",
       "    <div>\n",
       "<style scoped>\n",
       "    .dataframe tbody tr th:only-of-type {\n",
       "        vertical-align: middle;\n",
       "    }\n",
       "\n",
       "    .dataframe tbody tr th {\n",
       "        vertical-align: top;\n",
       "    }\n",
       "\n",
       "    .dataframe thead th {\n",
       "        text-align: right;\n",
       "    }\n",
       "</style>\n",
       "<table border=\"1\" class=\"dataframe\">\n",
       "  <thead>\n",
       "    <tr style=\"text-align: right;\">\n",
       "      <th></th>\n",
       "      <th>Series</th>\n",
       "      <th>X</th>\n",
       "      <th>Y</th>\n",
       "    </tr>\n",
       "  </thead>\n",
       "  <tbody>\n",
       "    <tr>\n",
       "      <th>0</th>\n",
       "      <td>I</td>\n",
       "      <td>10</td>\n",
       "      <td>8.04</td>\n",
       "    </tr>\n",
       "    <tr>\n",
       "      <th>1</th>\n",
       "      <td>I</td>\n",
       "      <td>8</td>\n",
       "      <td>6.95</td>\n",
       "    </tr>\n",
       "    <tr>\n",
       "      <th>2</th>\n",
       "      <td>I</td>\n",
       "      <td>13</td>\n",
       "      <td>7.58</td>\n",
       "    </tr>\n",
       "    <tr>\n",
       "      <th>3</th>\n",
       "      <td>I</td>\n",
       "      <td>9</td>\n",
       "      <td>8.81</td>\n",
       "    </tr>\n",
       "    <tr>\n",
       "      <th>4</th>\n",
       "      <td>I</td>\n",
       "      <td>11</td>\n",
       "      <td>8.33</td>\n",
       "    </tr>\n",
       "    <tr>\n",
       "      <th>5</th>\n",
       "      <td>I</td>\n",
       "      <td>14</td>\n",
       "      <td>9.96</td>\n",
       "    </tr>\n",
       "    <tr>\n",
       "      <th>6</th>\n",
       "      <td>I</td>\n",
       "      <td>6</td>\n",
       "      <td>7.24</td>\n",
       "    </tr>\n",
       "    <tr>\n",
       "      <th>7</th>\n",
       "      <td>I</td>\n",
       "      <td>4</td>\n",
       "      <td>4.26</td>\n",
       "    </tr>\n",
       "    <tr>\n",
       "      <th>8</th>\n",
       "      <td>I</td>\n",
       "      <td>12</td>\n",
       "      <td>10.84</td>\n",
       "    </tr>\n",
       "    <tr>\n",
       "      <th>9</th>\n",
       "      <td>I</td>\n",
       "      <td>7</td>\n",
       "      <td>4.81</td>\n",
       "    </tr>\n",
       "    <tr>\n",
       "      <th>10</th>\n",
       "      <td>I</td>\n",
       "      <td>5</td>\n",
       "      <td>5.68</td>\n",
       "    </tr>\n",
       "    <tr>\n",
       "      <th>11</th>\n",
       "      <td>II</td>\n",
       "      <td>10</td>\n",
       "      <td>9.14</td>\n",
       "    </tr>\n",
       "    <tr>\n",
       "      <th>12</th>\n",
       "      <td>II</td>\n",
       "      <td>8</td>\n",
       "      <td>8.14</td>\n",
       "    </tr>\n",
       "    <tr>\n",
       "      <th>13</th>\n",
       "      <td>II</td>\n",
       "      <td>13</td>\n",
       "      <td>8.74</td>\n",
       "    </tr>\n",
       "    <tr>\n",
       "      <th>14</th>\n",
       "      <td>II</td>\n",
       "      <td>9</td>\n",
       "      <td>8.77</td>\n",
       "    </tr>\n",
       "    <tr>\n",
       "      <th>15</th>\n",
       "      <td>II</td>\n",
       "      <td>11</td>\n",
       "      <td>9.26</td>\n",
       "    </tr>\n",
       "    <tr>\n",
       "      <th>16</th>\n",
       "      <td>II</td>\n",
       "      <td>14</td>\n",
       "      <td>8.10</td>\n",
       "    </tr>\n",
       "    <tr>\n",
       "      <th>17</th>\n",
       "      <td>II</td>\n",
       "      <td>6</td>\n",
       "      <td>6.13</td>\n",
       "    </tr>\n",
       "    <tr>\n",
       "      <th>18</th>\n",
       "      <td>II</td>\n",
       "      <td>4</td>\n",
       "      <td>3.10</td>\n",
       "    </tr>\n",
       "    <tr>\n",
       "      <th>19</th>\n",
       "      <td>II</td>\n",
       "      <td>12</td>\n",
       "      <td>9.13</td>\n",
       "    </tr>\n",
       "    <tr>\n",
       "      <th>20</th>\n",
       "      <td>II</td>\n",
       "      <td>7</td>\n",
       "      <td>7.26</td>\n",
       "    </tr>\n",
       "    <tr>\n",
       "      <th>21</th>\n",
       "      <td>II</td>\n",
       "      <td>5</td>\n",
       "      <td>4.74</td>\n",
       "    </tr>\n",
       "    <tr>\n",
       "      <th>22</th>\n",
       "      <td>III</td>\n",
       "      <td>10</td>\n",
       "      <td>7.46</td>\n",
       "    </tr>\n",
       "    <tr>\n",
       "      <th>23</th>\n",
       "      <td>III</td>\n",
       "      <td>8</td>\n",
       "      <td>6.77</td>\n",
       "    </tr>\n",
       "    <tr>\n",
       "      <th>24</th>\n",
       "      <td>III</td>\n",
       "      <td>13</td>\n",
       "      <td>12.74</td>\n",
       "    </tr>\n",
       "    <tr>\n",
       "      <th>25</th>\n",
       "      <td>III</td>\n",
       "      <td>9</td>\n",
       "      <td>7.11</td>\n",
       "    </tr>\n",
       "    <tr>\n",
       "      <th>26</th>\n",
       "      <td>III</td>\n",
       "      <td>11</td>\n",
       "      <td>7.81</td>\n",
       "    </tr>\n",
       "    <tr>\n",
       "      <th>27</th>\n",
       "      <td>III</td>\n",
       "      <td>14</td>\n",
       "      <td>8.84</td>\n",
       "    </tr>\n",
       "    <tr>\n",
       "      <th>28</th>\n",
       "      <td>III</td>\n",
       "      <td>6</td>\n",
       "      <td>6.08</td>\n",
       "    </tr>\n",
       "    <tr>\n",
       "      <th>29</th>\n",
       "      <td>III</td>\n",
       "      <td>4</td>\n",
       "      <td>5.39</td>\n",
       "    </tr>\n",
       "    <tr>\n",
       "      <th>30</th>\n",
       "      <td>III</td>\n",
       "      <td>12</td>\n",
       "      <td>8.15</td>\n",
       "    </tr>\n",
       "    <tr>\n",
       "      <th>31</th>\n",
       "      <td>III</td>\n",
       "      <td>7</td>\n",
       "      <td>6.42</td>\n",
       "    </tr>\n",
       "    <tr>\n",
       "      <th>32</th>\n",
       "      <td>III</td>\n",
       "      <td>5</td>\n",
       "      <td>5.73</td>\n",
       "    </tr>\n",
       "    <tr>\n",
       "      <th>33</th>\n",
       "      <td>IV</td>\n",
       "      <td>8</td>\n",
       "      <td>6.58</td>\n",
       "    </tr>\n",
       "    <tr>\n",
       "      <th>34</th>\n",
       "      <td>IV</td>\n",
       "      <td>8</td>\n",
       "      <td>5.76</td>\n",
       "    </tr>\n",
       "    <tr>\n",
       "      <th>35</th>\n",
       "      <td>IV</td>\n",
       "      <td>8</td>\n",
       "      <td>7.71</td>\n",
       "    </tr>\n",
       "    <tr>\n",
       "      <th>36</th>\n",
       "      <td>IV</td>\n",
       "      <td>8</td>\n",
       "      <td>8.84</td>\n",
       "    </tr>\n",
       "    <tr>\n",
       "      <th>37</th>\n",
       "      <td>IV</td>\n",
       "      <td>8</td>\n",
       "      <td>8.47</td>\n",
       "    </tr>\n",
       "    <tr>\n",
       "      <th>38</th>\n",
       "      <td>IV</td>\n",
       "      <td>8</td>\n",
       "      <td>7.04</td>\n",
       "    </tr>\n",
       "    <tr>\n",
       "      <th>39</th>\n",
       "      <td>IV</td>\n",
       "      <td>8</td>\n",
       "      <td>5.25</td>\n",
       "    </tr>\n",
       "    <tr>\n",
       "      <th>40</th>\n",
       "      <td>IV</td>\n",
       "      <td>19</td>\n",
       "      <td>12.50</td>\n",
       "    </tr>\n",
       "    <tr>\n",
       "      <th>41</th>\n",
       "      <td>IV</td>\n",
       "      <td>8</td>\n",
       "      <td>5.56</td>\n",
       "    </tr>\n",
       "    <tr>\n",
       "      <th>42</th>\n",
       "      <td>IV</td>\n",
       "      <td>8</td>\n",
       "      <td>7.91</td>\n",
       "    </tr>\n",
       "    <tr>\n",
       "      <th>43</th>\n",
       "      <td>IV</td>\n",
       "      <td>8</td>\n",
       "      <td>6.89</td>\n",
       "    </tr>\n",
       "  </tbody>\n",
       "</table>\n",
       "</div>\n",
       "    <div class=\"colab-df-buttons\">\n",
       "\n",
       "  <div class=\"colab-df-container\">\n",
       "    <button class=\"colab-df-convert\" onclick=\"convertToInteractive('df-2ff7739a-df18-4de2-8e45-2c7dd21883f6')\"\n",
       "            title=\"Convert this dataframe to an interactive table.\"\n",
       "            style=\"display:none;\">\n",
       "\n",
       "  <svg xmlns=\"http://www.w3.org/2000/svg\" height=\"24px\" viewBox=\"0 -960 960 960\">\n",
       "    <path d=\"M120-120v-720h720v720H120Zm60-500h600v-160H180v160Zm220 220h160v-160H400v160Zm0 220h160v-160H400v160ZM180-400h160v-160H180v160Zm440 0h160v-160H620v160ZM180-180h160v-160H180v160Zm440 0h160v-160H620v160Z\"/>\n",
       "  </svg>\n",
       "    </button>\n",
       "\n",
       "  <style>\n",
       "    .colab-df-container {\n",
       "      display:flex;\n",
       "      gap: 12px;\n",
       "    }\n",
       "\n",
       "    .colab-df-convert {\n",
       "      background-color: #E8F0FE;\n",
       "      border: none;\n",
       "      border-radius: 50%;\n",
       "      cursor: pointer;\n",
       "      display: none;\n",
       "      fill: #1967D2;\n",
       "      height: 32px;\n",
       "      padding: 0 0 0 0;\n",
       "      width: 32px;\n",
       "    }\n",
       "\n",
       "    .colab-df-convert:hover {\n",
       "      background-color: #E2EBFA;\n",
       "      box-shadow: 0px 1px 2px rgba(60, 64, 67, 0.3), 0px 1px 3px 1px rgba(60, 64, 67, 0.15);\n",
       "      fill: #174EA6;\n",
       "    }\n",
       "\n",
       "    .colab-df-buttons div {\n",
       "      margin-bottom: 4px;\n",
       "    }\n",
       "\n",
       "    [theme=dark] .colab-df-convert {\n",
       "      background-color: #3B4455;\n",
       "      fill: #D2E3FC;\n",
       "    }\n",
       "\n",
       "    [theme=dark] .colab-df-convert:hover {\n",
       "      background-color: #434B5C;\n",
       "      box-shadow: 0px 1px 3px 1px rgba(0, 0, 0, 0.15);\n",
       "      filter: drop-shadow(0px 1px 2px rgba(0, 0, 0, 0.3));\n",
       "      fill: #FFFFFF;\n",
       "    }\n",
       "  </style>\n",
       "\n",
       "    <script>\n",
       "      const buttonEl =\n",
       "        document.querySelector('#df-2ff7739a-df18-4de2-8e45-2c7dd21883f6 button.colab-df-convert');\n",
       "      buttonEl.style.display =\n",
       "        google.colab.kernel.accessAllowed ? 'block' : 'none';\n",
       "\n",
       "      async function convertToInteractive(key) {\n",
       "        const element = document.querySelector('#df-2ff7739a-df18-4de2-8e45-2c7dd21883f6');\n",
       "        const dataTable =\n",
       "          await google.colab.kernel.invokeFunction('convertToInteractive',\n",
       "                                                    [key], {});\n",
       "        if (!dataTable) return;\n",
       "\n",
       "        const docLinkHtml = 'Like what you see? Visit the ' +\n",
       "          '<a target=\"_blank\" href=https://colab.research.google.com/notebooks/data_table.ipynb>data table notebook</a>'\n",
       "          + ' to learn more about interactive tables.';\n",
       "        element.innerHTML = '';\n",
       "        dataTable['output_type'] = 'display_data';\n",
       "        await google.colab.output.renderOutput(dataTable, element);\n",
       "        const docLink = document.createElement('div');\n",
       "        docLink.innerHTML = docLinkHtml;\n",
       "        element.appendChild(docLink);\n",
       "      }\n",
       "    </script>\n",
       "  </div>\n",
       "\n",
       "\n",
       "<div id=\"df-bd1fcf6f-1bf2-4ce8-90b9-513dcb200faa\">\n",
       "  <button class=\"colab-df-quickchart\" onclick=\"quickchart('df-bd1fcf6f-1bf2-4ce8-90b9-513dcb200faa')\"\n",
       "            title=\"Suggest charts.\"\n",
       "            style=\"display:none;\">\n",
       "\n",
       "<svg xmlns=\"http://www.w3.org/2000/svg\" height=\"24px\"viewBox=\"0 0 24 24\"\n",
       "     width=\"24px\">\n",
       "    <g>\n",
       "        <path d=\"M19 3H5c-1.1 0-2 .9-2 2v14c0 1.1.9 2 2 2h14c1.1 0 2-.9 2-2V5c0-1.1-.9-2-2-2zM9 17H7v-7h2v7zm4 0h-2V7h2v10zm4 0h-2v-4h2v4z\"/>\n",
       "    </g>\n",
       "</svg>\n",
       "  </button>\n",
       "\n",
       "<style>\n",
       "  .colab-df-quickchart {\n",
       "      --bg-color: #E8F0FE;\n",
       "      --fill-color: #1967D2;\n",
       "      --hover-bg-color: #E2EBFA;\n",
       "      --hover-fill-color: #174EA6;\n",
       "      --disabled-fill-color: #AAA;\n",
       "      --disabled-bg-color: #DDD;\n",
       "  }\n",
       "\n",
       "  [theme=dark] .colab-df-quickchart {\n",
       "      --bg-color: #3B4455;\n",
       "      --fill-color: #D2E3FC;\n",
       "      --hover-bg-color: #434B5C;\n",
       "      --hover-fill-color: #FFFFFF;\n",
       "      --disabled-bg-color: #3B4455;\n",
       "      --disabled-fill-color: #666;\n",
       "  }\n",
       "\n",
       "  .colab-df-quickchart {\n",
       "    background-color: var(--bg-color);\n",
       "    border: none;\n",
       "    border-radius: 50%;\n",
       "    cursor: pointer;\n",
       "    display: none;\n",
       "    fill: var(--fill-color);\n",
       "    height: 32px;\n",
       "    padding: 0;\n",
       "    width: 32px;\n",
       "  }\n",
       "\n",
       "  .colab-df-quickchart:hover {\n",
       "    background-color: var(--hover-bg-color);\n",
       "    box-shadow: 0 1px 2px rgba(60, 64, 67, 0.3), 0 1px 3px 1px rgba(60, 64, 67, 0.15);\n",
       "    fill: var(--button-hover-fill-color);\n",
       "  }\n",
       "\n",
       "  .colab-df-quickchart-complete:disabled,\n",
       "  .colab-df-quickchart-complete:disabled:hover {\n",
       "    background-color: var(--disabled-bg-color);\n",
       "    fill: var(--disabled-fill-color);\n",
       "    box-shadow: none;\n",
       "  }\n",
       "\n",
       "  .colab-df-spinner {\n",
       "    border: 2px solid var(--fill-color);\n",
       "    border-color: transparent;\n",
       "    border-bottom-color: var(--fill-color);\n",
       "    animation:\n",
       "      spin 1s steps(1) infinite;\n",
       "  }\n",
       "\n",
       "  @keyframes spin {\n",
       "    0% {\n",
       "      border-color: transparent;\n",
       "      border-bottom-color: var(--fill-color);\n",
       "      border-left-color: var(--fill-color);\n",
       "    }\n",
       "    20% {\n",
       "      border-color: transparent;\n",
       "      border-left-color: var(--fill-color);\n",
       "      border-top-color: var(--fill-color);\n",
       "    }\n",
       "    30% {\n",
       "      border-color: transparent;\n",
       "      border-left-color: var(--fill-color);\n",
       "      border-top-color: var(--fill-color);\n",
       "      border-right-color: var(--fill-color);\n",
       "    }\n",
       "    40% {\n",
       "      border-color: transparent;\n",
       "      border-right-color: var(--fill-color);\n",
       "      border-top-color: var(--fill-color);\n",
       "    }\n",
       "    60% {\n",
       "      border-color: transparent;\n",
       "      border-right-color: var(--fill-color);\n",
       "    }\n",
       "    80% {\n",
       "      border-color: transparent;\n",
       "      border-right-color: var(--fill-color);\n",
       "      border-bottom-color: var(--fill-color);\n",
       "    }\n",
       "    90% {\n",
       "      border-color: transparent;\n",
       "      border-bottom-color: var(--fill-color);\n",
       "    }\n",
       "  }\n",
       "</style>\n",
       "\n",
       "  <script>\n",
       "    async function quickchart(key) {\n",
       "      const quickchartButtonEl =\n",
       "        document.querySelector('#' + key + ' button');\n",
       "      quickchartButtonEl.disabled = true;  // To prevent multiple clicks.\n",
       "      quickchartButtonEl.classList.add('colab-df-spinner');\n",
       "      try {\n",
       "        const charts = await google.colab.kernel.invokeFunction(\n",
       "            'suggestCharts', [key], {});\n",
       "      } catch (error) {\n",
       "        console.error('Error during call to suggestCharts:', error);\n",
       "      }\n",
       "      quickchartButtonEl.classList.remove('colab-df-spinner');\n",
       "      quickchartButtonEl.classList.add('colab-df-quickchart-complete');\n",
       "    }\n",
       "    (() => {\n",
       "      let quickchartButtonEl =\n",
       "        document.querySelector('#df-bd1fcf6f-1bf2-4ce8-90b9-513dcb200faa button');\n",
       "      quickchartButtonEl.style.display =\n",
       "        google.colab.kernel.accessAllowed ? 'block' : 'none';\n",
       "    })();\n",
       "  </script>\n",
       "</div>\n",
       "    </div>\n",
       "  </div>\n"
      ]
     },
     "metadata": {},
     "execution_count": 79
    }
   ]
  },
  {
   "cell_type": "markdown",
   "metadata": {
    "id": "B_2Eosy0WSZk"
   },
   "source": [
    "For each series calculate its\n",
    "- mean value of $X$\n",
    "- mean value of $Y$\n",
    "- sample variance of $X$\n",
    "- sample variance of $Y$\n",
    "- covariance beetwen $X$ and $Y$\n",
    "\n",
    "and verify whether for each series you get\n",
    "- mean of $X$ = 9,\n",
    "- var of $X$ = 11,\n",
    "- mean of $Y$ = 7.5 +- 0.01,\n",
    "- var of $Y$ = 4.125 +- 0.01,\n",
    "- cov of $X$ and $Y$ = 5.50 +- 0.01,\n",
    "\n",
    "(you can try to make use of `aggregate` function of a `GroupBy` object)"
   ]
  },
  {
   "cell_type": "code",
   "metadata": {
    "id": "qHdlplc5ZmdQ",
    "colab": {
     "base_uri": "https://localhost:8080/"
    },
    "executionInfo": {
     "status": "ok",
     "timestamp": 1696579205032,
     "user_tz": -120,
     "elapsed": 238,
     "user": {
      "displayName": "Michał Traczyk",
      "userId": "00555487641805485616"
     }
    },
    "outputId": "429a76b4-0bea-4efa-b6ae-6cc144a40063"
   },
   "source": [
    "### YOUR CODE BEGINS HERE ###\n",
    "stats = df.groupby('Series')[['X','Y']].aggregate([np.mean, np.var])\n",
    "cov = df.groupby('Series').cov()\n",
    "covs = np.array([cov['X'][s]['Y'] for s in ['I', 'II', 'III', 'IV']])\n",
    "print(stats)\n",
    "print(cov)\n",
    "assert np.isclose(stats[('X', 'mean')], np.full((4, ), 9.0)).all()\n",
    "assert np.isclose(stats[('Y', 'mean')], np.full((4, ), 7.5), rtol=0.01).all()\n",
    "assert np.isclose(stats[('X', 'var')], np.full((4, ), 11.0)).all()\n",
    "assert np.isclose(stats[('Y', 'var')], np.full((4, ), 4.125), rtol=0.01).all()\n",
    "assert np.isclose(covs, np.full((4, ), 5.50), rtol=0.01).all()\n",
    "### YOUR CODE ENDS HERE ###"
   ],
   "execution_count": 80,
   "outputs": [
    {
     "output_type": "stream",
     "name": "stdout",
     "text": [
      "          X               Y          \n",
      "       mean   var      mean       var\n",
      "Series                               \n",
      "I       9.0  11.0  7.500000  4.132640\n",
      "II      9.0  11.0  7.500909  4.127629\n",
      "III     9.0  11.0  7.500000  4.122620\n",
      "IV      9.0  11.0  7.500909  4.123249\n",
      "               X         Y\n",
      "Series                    \n",
      "I      X  11.000  5.503000\n",
      "       Y   5.503  4.132640\n",
      "II     X  11.000  5.500000\n",
      "       Y   5.500  4.127629\n",
      "III    X  11.000  5.497000\n",
      "       Y   5.497  4.122620\n",
      "IV     X  11.000  5.499000\n",
      "       Y   5.499  4.123249\n"
     ]
    }
   ]
  },
  {
   "cell_type": "markdown",
   "metadata": {
    "id": "ksT9dLxgl9je"
   },
   "source": [
    "<center><img src='https://drive.google.com/uc?id=1BXZ0u3562N_MqCLcekI-Ens77Kk4LpPm'></center>"
   ]
  }
 ]
}
