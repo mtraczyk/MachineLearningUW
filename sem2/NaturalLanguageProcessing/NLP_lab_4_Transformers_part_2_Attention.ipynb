{
  "cells": [
    {
      "cell_type": "markdown",
      "id": "1d4005aa",
      "metadata": {
        "pycharm": {
          "name": "#%% md\n"
        },
        "id": "1d4005aa"
      },
      "source": [
        "# Visualizing transformers\n",
        "\n",
        "During this lab you will get more intuition about how attention mechanism works in practice. You will learn how to get some statistics about the model and how to visualize the attention based on the pretrained DialoGPT model."
      ]
    },
    {
      "cell_type": "code",
      "execution_count": null,
      "id": "d127acd1",
      "metadata": {
        "pycharm": {
          "name": "#%%\n"
        },
        "id": "d127acd1"
      },
      "outputs": [],
      "source": [
        "# imports and global variables\n",
        "import matplotlib.pyplot as plt\n",
        "import matplotlib.colors as mcolors\n",
        "import numpy as np\n",
        "\n",
        "from transformers import AutoModelForCausalLM, AutoTokenizer\n",
        "\n",
        "import torch\n",
        "import csv\n",
        "import urllib.request\n",
        "\n",
        "DEVICE = 'cpu'"
      ]
    },
    {
      "cell_type": "markdown",
      "id": "2cea21ef",
      "metadata": {
        "pycharm": {
          "name": "#%% md\n"
        },
        "id": "2cea21ef"
      },
      "source": [
        "## The Language Model\n",
        "\n",
        "Let's use the DialoGPT medium model."
      ]
    },
    {
      "cell_type": "code",
      "execution_count": null,
      "id": "a90eb7ef",
      "metadata": {
        "pycharm": {
          "name": "#%%\n"
        },
        "id": "a90eb7ef"
      },
      "outputs": [],
      "source": [
        "tokenizer = AutoTokenizer.from_pretrained('microsoft/DialoGPT-medium')\n",
        "model = AutoModelForCausalLM.from_pretrained('microsoft/DialoGPT-medium')\n",
        "model.eval()"
      ]
    },
    {
      "cell_type": "markdown",
      "id": "57f929ca",
      "metadata": {
        "pycharm": {
          "name": "#%% md\n"
        },
        "id": "57f929ca"
      },
      "source": [
        "Let's investigate deeper how the model looks like:"
      ]
    },
    {
      "cell_type": "code",
      "execution_count": null,
      "id": "61962ca0",
      "metadata": {
        "pycharm": {
          "name": "#%%\n"
        },
        "id": "61962ca0"
      },
      "outputs": [],
      "source": [
        "# prints model's architecture\n",
        "print(model)"
      ]
    },
    {
      "cell_type": "code",
      "execution_count": null,
      "id": "35135515",
      "metadata": {
        "pycharm": {
          "name": "#%%\n"
        },
        "id": "35135515"
      },
      "outputs": [],
      "source": [
        "# investigating model parameters\n",
        "\n",
        "parameters_count = 0\n",
        "\n",
        "for name, param in model.named_parameters():\n",
        "    print(name, param.size())\n",
        "    parameters_count += np.prod(param.size())\n",
        "\n",
        "print('Total number of parameters:', parameters_count)"
      ]
    },
    {
      "cell_type": "markdown",
      "id": "a9745fc3",
      "metadata": {
        "pycharm": {
          "name": "#%% md\n"
        },
        "id": "a9745fc3"
      },
      "source": [
        "Some important facts about the architecture:\n",
        "- over 354 mln parameters\n",
        "- it uses the same architecture as GPT-2\n",
        "- there are two embedding layers - wte and wpe, the word token embedding and the word position embedding\n",
        "- there are 23 'GPT-2 Blocks', which are usually called decoder blocks\n",
        "- each block consists of: normalization layer #1, attention layer, normalization layer and multi-layer perceptron (feed-forward network)\n",
        "- the model's last layer, often called 'head', is a linear layer"
      ]
    },
    {
      "cell_type": "markdown",
      "id": "75f11baf",
      "metadata": {
        "pycharm": {
          "name": "#%% md\n"
        },
        "id": "75f11baf"
      },
      "source": [
        "## Attention visualization\n",
        "\n",
        "The easiest way to get some intuition about how the model works is to look at the attention layers."
      ]
    },
    {
      "cell_type": "code",
      "execution_count": null,
      "id": "03366e5e",
      "metadata": {
        "pycharm": {
          "name": "#%%\n"
        },
        "id": "03366e5e"
      },
      "outputs": [],
      "source": [
        "# let's prepare a sample input\n",
        "sample_text = \"John would like to have a new computer. It would be much faster than his current one.\"\n",
        "tokenized_text = tokenizer.tokenize(sample_text)\n",
        "encoded_text = tokenizer.encode(sample_text, return_tensors='pt')\n",
        "\n",
        "print(tokenized_text)\n",
        "\n",
        "tokenized_text = [token.replace('Ġ', '') for token in tokenized_text] # let's ignore the Ġ (whitespace) symbol\n",
        "\n",
        "print('Tokens:', tokenized_text) # tokens' string representation, will be useful for plotting\n",
        "print('Token ids:', encoded_text)"
      ]
    },
    {
      "cell_type": "code",
      "execution_count": null,
      "id": "1cc8bff4",
      "metadata": {
        "pycharm": {
          "name": "#%%\n"
        },
        "id": "1cc8bff4"
      },
      "outputs": [],
      "source": [
        "model_output = model(encoded_text, output_attentions=True)\n",
        "\n",
        "print(model_output.attentions)"
      ]
    },
    {
      "cell_type": "markdown",
      "id": "3e3c6d4e",
      "metadata": {
        "pycharm": {
          "name": "#%% md\n"
        },
        "id": "3e3c6d4e"
      },
      "source": [
        "#### What do those values mean?\n",
        "\n",
        "*(You can skip this part if you understand what those values are)*\n",
        "\n",
        "The self-attention mechanism works as follows:\n",
        "![attention_mechanism.png](data:image/png;base64,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)\n",
        "\n"
      ]
    },
    {
      "cell_type": "markdown",
      "id": "ca720e29",
      "metadata": {
        "pycharm": {
          "name": "#%% md\n"
        },
        "id": "ca720e29"
      },
      "source": [
        "First, the input values for the attention layer are multiplied by matrices $W_q$, $W_k$ and $W_v$ to obtain queries $Q$, keys $K$ and values $V$. Then the attention weights are calculated with the equation $A = softmax(\\frac{QK^T}{\\sqrt{d_k}})$ and then are multiplied with $V$ to obtain the output $O = AV$.\n",
        "\n",
        "The attention weights determine the importance of every input token in calculations of the output token. Those are the values in the `model_output.attentions`."
      ]
    },
    {
      "cell_type": "markdown",
      "id": "f7274d23",
      "metadata": {
        "pycharm": {
          "name": "#%% md\n"
        },
        "id": "f7274d23"
      },
      "source": [
        "Let's plot those values and see what is happening in each attention layer. Write a function `illustrate_attention(tokens, attention_outputs, layer, heads, token_id)` that illustrates the attention outputs for a chosen attention layer, attention heads and token.\n",
        "\n",
        "Below there is a `generate_colormap` function that generates `matplotlib`'s colormap from `starting_color` to `target_color` and some ready-to-use colormaps. Feel free to generate your own colors. Take a look at the provided plotting example for some inspirations."
      ]
    },
    {
      "cell_type": "code",
      "execution_count": null,
      "id": "aed46ca4",
      "metadata": {
        "pycharm": {
          "name": "#%%\n"
        },
        "scrolled": true,
        "id": "aed46ca4"
      },
      "outputs": [],
      "source": [
        "# Colormaps\n",
        "\n",
        "def generate_colormap(starting_color, target_color):\n",
        "    starting_color = tuple(x / 255 for x in starting_color)\n",
        "    target_color = tuple(x / 255 for x in target_color)\n",
        "\n",
        "    cdict = {\n",
        "        'red': [\n",
        "                  (0.0, starting_color[0], starting_color[0]),\n",
        "                  (1.0, target_color[0], target_color[0])\n",
        "               ],\n",
        "\n",
        "        'green': [\n",
        "                    (0.0, starting_color[1], starting_color[1]),\n",
        "                    (1.0, target_color[1], target_color[1])\n",
        "                 ],\n",
        "\n",
        "        'blue': [\n",
        "                   (0.0, starting_color[2], starting_color[2]),\n",
        "                   (1.0, target_color[2], target_color[2])\n",
        "                ]\n",
        "    }\n",
        "\n",
        "    return mcolors.LinearSegmentedColormap('cmp', segmentdata=cdict, N=256)\n",
        "\n",
        "def plot_colormap(colormap):\n",
        "    gradient = np.linspace(0, 1, 256)\n",
        "    gradient = np.vstack((gradient, gradient))\n",
        "\n",
        "    plt.imshow(gradient, aspect=10, cmap=colormap)\n",
        "    plt.show()\n",
        "\n",
        "suggested_colormaps = [\n",
        "    plt.get_cmap('Reds'),\n",
        "    plt.get_cmap('Greens'),\n",
        "    plt.get_cmap('Blues'),\n",
        "    plt.get_cmap('Oranges'),\n",
        "    plt.get_cmap('Purples'),\n",
        "    generate_colormap((242, 255, 230), (74, 153, 0)), # light green\n",
        "    generate_colormap((255, 238, 230), (204, 68, 0)), # salmonish\n",
        "    generate_colormap((230, 255, 255), (0, 153, 153)), # cyan\n",
        "    generate_colormap((243, 230, 255), (105, 0, 204)), # lilac\n",
        "    generate_colormap((230, 255, 242), (0, 153, 74)), # jade\n",
        "    generate_colormap((249, 242, 236), (136, 86, 43)), # brown\n",
        "    generate_colormap((230, 247, 255), (0, 122, 179)), # light blue\n",
        "    generate_colormap((255, 204, 224), (153, 0, 61)), # magenta\n",
        "    generate_colormap((235, 235, 224), (93, 93, 60)), # olive\n",
        "    plt.get_cmap('Greys'),\n",
        "]\n",
        "\n",
        "for cmap in suggested_colormaps:\n",
        "    plot_colormap(cmap)"
      ]
    },
    {
      "cell_type": "code",
      "execution_count": null,
      "id": "4c350042",
      "metadata": {
        "pycharm": {
          "name": "#%%\n"
        },
        "id": "4c350042"
      },
      "outputs": [],
      "source": [
        "# Suggestions for generating visualizations for attention values\n",
        "\n",
        "labels = ['This', 'is', 'some', 'sample', 'text']\n",
        "target_label = 'text'\n",
        "attention_values = np.array([\n",
        "    [0.1, 0.3, 0.0, 0.4, 0.2],\n",
        "    [0.0, 0.3, 0.5, 0.2, 0.1],\n",
        "]) # those values are completely random and do not mean anything\n",
        "\n",
        "heads = attention_values.shape[0]\n",
        "\n",
        "fig, ax = plt.subplots(\n",
        "    heads,\n",
        "    1,\n",
        "    figsize=(3.5, 0.8 * heads),\n",
        "    sharey='row',\n",
        "    sharex='col'\n",
        ")\n",
        "\n",
        "fig.suptitle(f'Attention for token `{target_label}`')\n",
        "fig.set_dpi(200)\n",
        "\n",
        "for i in range(heads):\n",
        "    ax[i].imshow(attention_values[i:i+1], cmap=suggested_colormaps[i], vmin=0, vmax=1)\n",
        "    ax[i].axis('off')\n",
        "\n",
        "    for j in range(len(labels)):\n",
        "        text = ax[i].text(j, 0, labels[j], fontsize='small', ha=\"center\", va=\"center\", color='black' if attention_values[i, j] < 0.5 else 'white')\n",
        "\n",
        "plt.subplots_adjust(wspace=0, hspace=0)\n",
        "plt.show()"
      ]
    },
    {
      "cell_type": "code",
      "execution_count": null,
      "id": "bf6005de",
      "metadata": {
        "pycharm": {
          "name": "#%%\n"
        },
        "id": "bf6005de"
      },
      "outputs": [],
      "source": [
        "def illustrate_attention(tokens, attention_outputs, layer, heads, token_id):\n",
        "    \"\"\"\n",
        "        Plots the results of the attention mechanism in the chosen attention layer `layer` and heads `heads`\n",
        "        for token `token_id`.\n",
        "\n",
        "        Arguments:\n",
        "            - tokens - list of strings with token labels\n",
        "            - attention_outputs - the `attentions` parameter of model's output object\n",
        "            - layer - the id of the chosen attention layer\n",
        "            - heads - the list of ids of the chosen attention heads\n",
        "            - token_id - the id of the chosen token\n",
        "    \"\"\"\n",
        "\n",
        "    # TODO\n",
        "\n",
        "illustrate_attention(tokenized_text, model_output.attentions, 4, list(range(0, 15)), 2)"
      ]
    },
    {
      "cell_type": "markdown",
      "id": "f6801443",
      "metadata": {
        "pycharm": {
          "name": "#%% md\n"
        },
        "id": "f6801443"
      },
      "source": [
        "Try finding inputs with interesting attention values. See how the attention looks in a different models, e.g. pretrained GPT-2 or untrained GPT-2."
      ]
    },
    {
      "cell_type": "code",
      "execution_count": null,
      "id": "15ad9854",
      "metadata": {
        "pycharm": {
          "name": "#%%\n"
        },
        "id": "15ad9854"
      },
      "outputs": [],
      "source": [
        "# TODO"
      ]
    },
    {
      "cell_type": "markdown",
      "id": "69a0a585",
      "metadata": {
        "pycharm": {
          "name": "#%% md\n"
        },
        "id": "69a0a585"
      },
      "source": [
        "## Input saliency\n",
        "\n",
        "Another interesting idea is to try to determine which input tokens contribute to the next token predictions. According to the publication \"A Diagnostic Study of Explainability Techniques for Text Classification\" by Atanasova et al. (https://arxiv.org/pdf/2009.13295.pdf), a gradient-based input saliency is a viable method for visualizing language models.\n",
        "\n",
        "The language model returns logits that form a probability distribution over all tokens in the vocabulary that predicts the next token. Using the backpropagation method, we can calculate the gradient of a chosen logit with respect to the input. The gradients give us some intuition about the importance of the input tokens - we assume that if the gradient is large then changing the input token will drastically change the output value, so it should have an influence on the output. The token's importance value is defined as the L2 norm of the element-wise multiplication of the gradient vector and the token's embedding."
      ]
    },
    {
      "cell_type": "markdown",
      "id": "f92d02da",
      "metadata": {
        "pycharm": {
          "name": "#%% md\n"
        },
        "id": "f92d02da"
      },
      "source": [
        "#### Torch's Autograd\n",
        "\n",
        "Autograd is a tool performing automatic differentiation in PyTorch. See [this article](https://blog.paperspace.com/pytorch-101-understanding-graphs-and-automatic-differentiation/) for a great explaination how Autograd works."
      ]
    },
    {
      "cell_type": "markdown",
      "id": "818f7e5a",
      "metadata": {
        "pycharm": {
          "name": "#%% md\n"
        },
        "id": "818f7e5a"
      },
      "source": [
        "#### Torch Forward and Backward hooks\n",
        "\n",
        "Torch provides a very useful functionality called hooks. The hook is a function that can be registered on a `Tensor` or `nn.Module` and will be called each time the `forward` or `backward` function of the `torch.Autograd.Function` of the registered object is executed. They are useful to get values of gradients with respect to some specific layer's weights.\n",
        "\n",
        "The forward hook executes a function with signature: `(module, input, output) -> None` where `module` is the registered module, `input` is the input Tensor, output is the `module`'s output Tensor.\n",
        "\n",
        "The backward hook executes a function with signature: `(module, input_grad, output_grad) -> None or Tensor` where `module` is the registered module, `input_grad` is the gradient with respect to the input, `output_grad` is the gradient with respect to the output. The hook may return a `Tensor` that replaces the `input_grad` in later backpropagation steps, but we won't need that today."
      ]
    },
    {
      "cell_type": "markdown",
      "id": "0ce2cd8f",
      "metadata": {
        "pycharm": {
          "name": "#%% md\n"
        },
        "id": "0ce2cd8f"
      },
      "source": [
        "#### The algorithm\n",
        "\n",
        "We can generate input saliency with the following steps:\n",
        "1. Register backward hook on the embedding layer's `Module` to get gradients with respect to the embedded input tokens (embedding layer output)\n",
        "2. Register a forward hook on the embedding layer's `Module` to get the values of the embedded tokens\n",
        "3. Run `model.forward()` on a chosen input and generate the logits for the next token\n",
        "4. Choose a logit representing a token you are interested in and call `backward()`\n",
        "5. Calculate L2 norm of the element-wise multiplication of values obtained from forward and backward hooks - it's the input saliency\n"
      ]
    },
    {
      "cell_type": "code",
      "execution_count": null,
      "id": "2d863d60",
      "metadata": {
        "pycharm": {
          "name": "#%%\n"
        },
        "id": "2d863d60"
      },
      "outputs": [],
      "source": [
        "# let's print the model's architecture once again. What is the name of the embedding layer?\n",
        "print(model)"
      ]
    },
    {
      "cell_type": "code",
      "execution_count": null,
      "id": "9ae02ee1",
      "metadata": {
        "pycharm": {
          "name": "#%%\n"
        },
        "id": "9ae02ee1"
      },
      "outputs": [],
      "source": [
        "# let's prepare a sample input\n",
        "sample_text = \"My favourite animal is the\"\n",
        "tokenized_text = tokenizer.tokenize(sample_text)\n",
        "encoded_text = tokenizer.encode(sample_text, return_tensors='pt')\n",
        "\n",
        "print(tokenized_text)\n",
        "\n",
        "tokenized_text = [token.replace('Ġ', '') for token in tokenized_text] # let's ignore the Ġ (whitespace) symbol\n",
        "\n",
        "print('Tokens:', tokenized_text) # tokens' string representation, will be useful for plotting\n",
        "print('Token ids:', encoded_text)"
      ]
    },
    {
      "cell_type": "code",
      "execution_count": null,
      "id": "9aa87722",
      "metadata": {
        "pycharm": {
          "name": "#%%\n"
        },
        "id": "9aa87722"
      },
      "outputs": [],
      "source": [
        "# example filled code\n",
        "\n",
        "def calc_saliency(model, input_token_ids):\n",
        "    torch.enable_grad()\n",
        "    model.eval()\n",
        "\n",
        "    embedded_input_tokens = []\n",
        "    embedding_layer_gradients = []\n",
        "\n",
        "    # 1. register a backward hook on the embedding layer's Module to get gradients with respect to the embedded input tokens\n",
        "    embedding_layer = # TODO - set it to the model's embedding layer\n",
        "\n",
        "    def backward_hook(module, grad_input, grad_output):\n",
        "        embedding_layer_gradients.append(grad_output[0].clone().detach())\n",
        "\n",
        "    backward_hook_handle = embedding_layer.register_backward_hook(backward_hook)\n",
        "\n",
        "    # 2. register a forward hook on the embedding layer's Module to get the values of the embedded tokens\n",
        "    def forward_hook(module, inputs, outputs):\n",
        "        embedded_input_tokens.append(outputs.clone().detach())\n",
        "\n",
        "    forward_hook_handle = embedding_layer.register_forward_hook(forward_hook)\n",
        "\n",
        "    # 3. Run `model.forward()` on a chosen input and generate the logits for the next token\n",
        "    model.zero_grad() # set gradients to 0\n",
        "    model_output = model(input_token_ids)\n",
        "    next_token_logits = model_output.logits[0, -1, :]\n",
        "\n",
        "    # 4. Choose a logit representing a token you are interested in and call backward()\n",
        "    predicted_token = torch.argmax(next_token_logits.detach()) # detach to ignore computing gradients\n",
        "    next_token_logits[predicted_token].backward()\n",
        "\n",
        "    # remove hooks\n",
        "    backward_hook_handle.remove()\n",
        "    forward_hook_handle.remove()\n",
        "\n",
        "    embedded_input_tokens = embedded_input_tokens[0][0]\n",
        "    embedding_layer_gradients = embedding_layer_gradients[0][0]\n",
        "\n",
        "    # 5. Calculate L2 norm of the element-wise multiplication of values obtained from forward and backward hooks - it's the input saliency\n",
        "    saliency_grad = # TODO - get the L2 norm (\\sqrt(v^Tv)) of the input embeddings (dim 1) and normalize the obtained scores (divide by sum of token scores)\n",
        "\n",
        "    return saliency_grad, predicted_token\n",
        "\n",
        "input_saliency_map, predicted_token = calc_saliency(model, encoded_text)\n",
        "\n",
        "print(input_saliency_map)\n",
        "print(tokenizer.decode(predicted_token))"
      ]
    },
    {
      "cell_type": "code",
      "execution_count": null,
      "id": "d3b20404",
      "metadata": {
        "pycharm": {
          "name": "#%%\n"
        },
        "id": "d3b20404"
      },
      "outputs": [],
      "source": [
        "# TODO - implement a function that plots the results in the readable way (similarly to illustrate_attention)\n",
        "# then try out different inputs and analyze the results. You don't have to always choose the token with the largest logit\n",
        "# for backpropagation, feel free to change it."
      ]
    },
    {
      "cell_type": "code",
      "execution_count": null,
      "id": "f2b4d0fb",
      "metadata": {
        "pycharm": {
          "name": "#%%\n"
        },
        "id": "f2b4d0fb"
      },
      "outputs": [],
      "source": []
    }
  ],
  "metadata": {
    "kernelspec": {
      "display_name": "Python 3 (ipykernel)",
      "language": "python",
      "name": "python3"
    },
    "language_info": {
      "codemirror_mode": {
        "name": "ipython",
        "version": 3
      },
      "file_extension": ".py",
      "mimetype": "text/x-python",
      "name": "python",
      "nbconvert_exporter": "python",
      "pygments_lexer": "ipython3",
      "version": "3.9.10"
    },
    "colab": {
      "provenance": [],
      "toc_visible": true
    }
  },
  "nbformat": 4,
  "nbformat_minor": 5
}