{
  "cells": [
    {
      "cell_type": "markdown",
      "metadata": {
        "id": "IO_VRo3GfIFp"
      },
      "source": [
        "From Switch Transformer paper:\n",
        "\n",
        ">In deep learning, models typically reuse the same parameters for all inputs. Mixture of Experts (MoE) defies this and instead selects different parameters for each incoming example. The result is a sparsely-activated model -- with outrageous numbers of parameters -- but a constant computational cost.\n",
        "\n",
        "A vanilla Transformer block looks like this:\n",
        "\n",
        "```python\n",
        "class ModernTransformerBlock(nn.Module):\n",
        "    def __init__(self, embed_dim, n_heads, up):\n",
        "        super().__init__()\n",
        "        self.attn = nn.MultiheadAttention(embed_dim, n_heads)\n",
        "        self.mlp = nn.Sequential(\n",
        "            SwishGLU(embed_dim, embed_dim * up),\n",
        "            nn.Linear(embed_dim * up, embed_dim),\n",
        "        )\n",
        "        self.pre_attn_norm = RMSNorm(embed_dim)\n",
        "        self.pre_mlp_norm = RMSNorm(embed_dim)\n",
        "    \n",
        "    def forward(self, x):\n",
        "        x = x + self.attn(self.pre_attn_norm(x))\n",
        "        x = x + self.mlp(self.pre_mlp_norm(x))\n",
        "        return x\n",
        "```\n",
        "\n",
        "The Mixture-of-Experts layer replaces the MLP layer. Instead of having one MLP layer, we have `num_experts` different MLP layers called *experts*.\n",
        "\n",
        "The idea is to process a contextualized token, by sending it to a subset of experts. In this way we could efficiently increase the number of parameters of the model without affecting computational cost too much.\n",
        "\n",
        "First, the token is fed into *router*, which determines to which experts a token should go to be processed. For computational reasons, there is a fixed limit on:\n",
        "* how many tokens an expert can process, and\n",
        "* by how many experts a token is processed.\n",
        "\n",
        "# Grading\n",
        "Your task is to implement a Mixture of Experts layer. You can get points for the following subtasks:\n",
        "1.  (5 points) Naive implementation of MoE layer that works with `num_experts_per_token>=1`\n",
        "2.  (5 points) Well-vectorized implementation of MoE layer that works with `num_experts_per_token=1`\n",
        "3.  (5 points) Implementation of a script testing for 1. 2. implementations output equivalence and performance superiority of 2.\n",
        "4.  (5 points) Well-vectorized implementation of MoE layer that works with `num_experts_per_token>=1`\n",
        "5.  (Bonus 5 points) Use Huggingface's Trainer class and compare performance of randomly initialized MoE Transformer and standard Transformer on `https://huggingface.co/datasets/imdb` dataset.\n",
        "\n",
        "20 points scored in this task is equivalent to at least 16% points achievable in this course.\n",
        "\n",
        "Please submit your assignments until 15th of April, 18:00 CET.\n",
        "\n",
        "# Rules\n",
        "- You shouldn't change basic `forward` and `initialization` signatures of the main classes: `Router` and `MoE`. You can add additional arguments with default values.\n",
        "- As an assignment, provide a Jupyter notebook with a short introduction at the top of what has been done and where.\n",
        "- You can add or remove any other classes, though you should keep the behaviour of `MLP` class somehow.\n",
        "- Sensible vectorization is good enough for the maximum amount of points. There is no need to optimize performance to the max, just show that you can identify opportunities for vectorization and you are able to implement complex vectorizations.\n",
        "- If in doubt, direct questions to either Jan Ludziejewski or Juliusz Straszyński.\n",
        "- A notebook that is hard to grade (crashing, obfuscated) might be scored for 0 points.\n",
        "\n",
        "# Hints\n",
        "- First, write a naive implementation, vectorized operations might be hard to analyze for correctness.\n",
        "- You can make randomness deterministic by appropriate torch functions.\n",
        "- If you have a hard time fulfilling fair randomness for token discarding, you can try keeping the earlier tokens."
      ]
    },
    {
      "cell_type": "code",
      "execution_count": 1,
      "metadata": {
        "id": "yh3a3zPwfIFt",
        "colab": {
          "base_uri": "https://localhost:8080/"
        },
        "outputId": "26b136ea-18f4-4cc6-db94-254c5c738563"
      },
      "outputs": [
        {
          "output_type": "stream",
          "name": "stdout",
          "text": [
            "Collecting torch_tb_profiler\n",
            "  Downloading torch_tb_profiler-0.4.3-py3-none-any.whl (1.1 MB)\n",
            "\u001b[2K     \u001b[90m━━━━━━━━━━━━━━━━━━━━━━━━━━━━━━━━━━━━━━━━\u001b[0m \u001b[32m1.1/1.1 MB\u001b[0m \u001b[31m7.4 MB/s\u001b[0m eta \u001b[36m0:00:00\u001b[0m\n",
            "\u001b[?25hCollecting einops\n",
            "  Downloading einops-0.7.0-py3-none-any.whl (44 kB)\n",
            "\u001b[2K     \u001b[90m━━━━━━━━━━━━━━━━━━━━━━━━━━━━━━━━━━━━━━━━\u001b[0m \u001b[32m44.6/44.6 kB\u001b[0m \u001b[31m2.6 MB/s\u001b[0m eta \u001b[36m0:00:00\u001b[0m\n",
            "\u001b[?25hRequirement already satisfied: pandas>=1.0.0 in /usr/local/lib/python3.10/dist-packages (from torch_tb_profiler) (2.0.3)\n",
            "Requirement already satisfied: tensorboard!=2.1.0,>=1.15 in /usr/local/lib/python3.10/dist-packages (from torch_tb_profiler) (2.15.2)\n",
            "Requirement already satisfied: python-dateutil>=2.8.2 in /usr/local/lib/python3.10/dist-packages (from pandas>=1.0.0->torch_tb_profiler) (2.8.2)\n",
            "Requirement already satisfied: pytz>=2020.1 in /usr/local/lib/python3.10/dist-packages (from pandas>=1.0.0->torch_tb_profiler) (2023.4)\n",
            "Requirement already satisfied: tzdata>=2022.1 in /usr/local/lib/python3.10/dist-packages (from pandas>=1.0.0->torch_tb_profiler) (2024.1)\n",
            "Requirement already satisfied: numpy>=1.21.0 in /usr/local/lib/python3.10/dist-packages (from pandas>=1.0.0->torch_tb_profiler) (1.25.2)\n",
            "Requirement already satisfied: absl-py>=0.4 in /usr/local/lib/python3.10/dist-packages (from tensorboard!=2.1.0,>=1.15->torch_tb_profiler) (1.4.0)\n",
            "Requirement already satisfied: grpcio>=1.48.2 in /usr/local/lib/python3.10/dist-packages (from tensorboard!=2.1.0,>=1.15->torch_tb_profiler) (1.62.1)\n",
            "Requirement already satisfied: google-auth<3,>=1.6.3 in /usr/local/lib/python3.10/dist-packages (from tensorboard!=2.1.0,>=1.15->torch_tb_profiler) (2.27.0)\n",
            "Requirement already satisfied: google-auth-oauthlib<2,>=0.5 in /usr/local/lib/python3.10/dist-packages (from tensorboard!=2.1.0,>=1.15->torch_tb_profiler) (1.2.0)\n",
            "Requirement already satisfied: markdown>=2.6.8 in /usr/local/lib/python3.10/dist-packages (from tensorboard!=2.1.0,>=1.15->torch_tb_profiler) (3.6)\n",
            "Requirement already satisfied: protobuf!=4.24.0,>=3.19.6 in /usr/local/lib/python3.10/dist-packages (from tensorboard!=2.1.0,>=1.15->torch_tb_profiler) (3.20.3)\n",
            "Requirement already satisfied: requests<3,>=2.21.0 in /usr/local/lib/python3.10/dist-packages (from tensorboard!=2.1.0,>=1.15->torch_tb_profiler) (2.31.0)\n",
            "Requirement already satisfied: setuptools>=41.0.0 in /usr/local/lib/python3.10/dist-packages (from tensorboard!=2.1.0,>=1.15->torch_tb_profiler) (67.7.2)\n",
            "Requirement already satisfied: six>1.9 in /usr/local/lib/python3.10/dist-packages (from tensorboard!=2.1.0,>=1.15->torch_tb_profiler) (1.16.0)\n",
            "Requirement already satisfied: tensorboard-data-server<0.8.0,>=0.7.0 in /usr/local/lib/python3.10/dist-packages (from tensorboard!=2.1.0,>=1.15->torch_tb_profiler) (0.7.2)\n",
            "Requirement already satisfied: werkzeug>=1.0.1 in /usr/local/lib/python3.10/dist-packages (from tensorboard!=2.1.0,>=1.15->torch_tb_profiler) (3.0.2)\n",
            "Requirement already satisfied: cachetools<6.0,>=2.0.0 in /usr/local/lib/python3.10/dist-packages (from google-auth<3,>=1.6.3->tensorboard!=2.1.0,>=1.15->torch_tb_profiler) (5.3.3)\n",
            "Requirement already satisfied: pyasn1-modules>=0.2.1 in /usr/local/lib/python3.10/dist-packages (from google-auth<3,>=1.6.3->tensorboard!=2.1.0,>=1.15->torch_tb_profiler) (0.4.0)\n",
            "Requirement already satisfied: rsa<5,>=3.1.4 in /usr/local/lib/python3.10/dist-packages (from google-auth<3,>=1.6.3->tensorboard!=2.1.0,>=1.15->torch_tb_profiler) (4.9)\n",
            "Requirement already satisfied: requests-oauthlib>=0.7.0 in /usr/local/lib/python3.10/dist-packages (from google-auth-oauthlib<2,>=0.5->tensorboard!=2.1.0,>=1.15->torch_tb_profiler) (1.3.1)\n",
            "Requirement already satisfied: charset-normalizer<4,>=2 in /usr/local/lib/python3.10/dist-packages (from requests<3,>=2.21.0->tensorboard!=2.1.0,>=1.15->torch_tb_profiler) (3.3.2)\n",
            "Requirement already satisfied: idna<4,>=2.5 in /usr/local/lib/python3.10/dist-packages (from requests<3,>=2.21.0->tensorboard!=2.1.0,>=1.15->torch_tb_profiler) (3.6)\n",
            "Requirement already satisfied: urllib3<3,>=1.21.1 in /usr/local/lib/python3.10/dist-packages (from requests<3,>=2.21.0->tensorboard!=2.1.0,>=1.15->torch_tb_profiler) (2.0.7)\n",
            "Requirement already satisfied: certifi>=2017.4.17 in /usr/local/lib/python3.10/dist-packages (from requests<3,>=2.21.0->tensorboard!=2.1.0,>=1.15->torch_tb_profiler) (2024.2.2)\n",
            "Requirement already satisfied: MarkupSafe>=2.1.1 in /usr/local/lib/python3.10/dist-packages (from werkzeug>=1.0.1->tensorboard!=2.1.0,>=1.15->torch_tb_profiler) (2.1.5)\n",
            "Requirement already satisfied: pyasn1<0.7.0,>=0.4.6 in /usr/local/lib/python3.10/dist-packages (from pyasn1-modules>=0.2.1->google-auth<3,>=1.6.3->tensorboard!=2.1.0,>=1.15->torch_tb_profiler) (0.6.0)\n",
            "Requirement already satisfied: oauthlib>=3.0.0 in /usr/local/lib/python3.10/dist-packages (from requests-oauthlib>=0.7.0->google-auth-oauthlib<2,>=0.5->tensorboard!=2.1.0,>=1.15->torch_tb_profiler) (3.2.2)\n",
            "Installing collected packages: einops, torch_tb_profiler\n",
            "Successfully installed einops-0.7.0 torch_tb_profiler-0.4.3\n"
          ]
        }
      ],
      "source": [
        "%pip install torch_tb_profiler einops"
      ]
    },
    {
      "cell_type": "code",
      "execution_count": 2,
      "metadata": {
        "id": "XrwQghs3fIFt"
      },
      "outputs": [],
      "source": [
        "from torch import nn\n",
        "import torch\n",
        "from transformers import PretrainedConfig\n",
        "import torch.nn.functional as F\n",
        "from einops import einsum\n",
        "\n",
        "class MLP(nn.Module):\n",
        "    def __init__(self, config):\n",
        "        super().__init__()\n",
        "        self.mlp = nn.Sequential(\n",
        "            nn.Linear(config.hidden_size, config.intermediate_size),\n",
        "            nn.ReLU(),\n",
        "            nn.Linear(config.intermediate_size, config.hidden_size),\n",
        "        )\n",
        "\n",
        "    def forward(self, x):\n",
        "        return self.mlp(x)"
      ]
    },
    {
      "cell_type": "markdown",
      "metadata": {
        "id": "UMG2OUC1fIFu"
      },
      "source": [
        "# Router\n",
        "The router is a module which assigns tokens to experts. It answers two questions:\n",
        "1. Which tokens should be assigned to which expert.\n",
        "2. How much weight should be assigned to each expert. The weight is determined by similarity between the token embedding and the expert embedding\n",
        "\n",
        "The following conditions must be satisfied:\n",
        "1. The routing weights must sum to 1 for each token and be non-negative\n",
        "2. A token should have exactly `num_experts_per_token` non-zero weights"
      ]
    },
    {
      "cell_type": "code",
      "execution_count": 3,
      "metadata": {
        "id": "Tyie1JaVfIFu"
      },
      "outputs": [],
      "source": [
        "# Input: [batch_size, seq_len, hidden_size] - input embeddings\n",
        "# Output: [batch_size, seq_len, num_experts] - expert routing weights\n",
        "class Router(nn.Module):\n",
        "    def __init__(self, config):\n",
        "        super().__init__()\n",
        "        self.config = config\n",
        "        self.num_experts_per_token = config.num_experts_per_token\n",
        "        self.hidden_size = config.hidden_size\n",
        "        self.num_experts = config.num_experts\n",
        "\n",
        "        self.expert_embeddings = nn.Parameter(torch.randn(self.num_experts, self.hidden_size))\n",
        "        torch.nn.init.kaiming_uniform_(self.expert_embeddings, nonlinearity='linear')\n",
        "\n",
        "    def forward(self, x):\n",
        "        pass"
      ]
    },
    {
      "cell_type": "markdown",
      "metadata": {
        "id": "wJph0HYCfIFv"
      },
      "source": [
        "The MoE module is a module which wraps around a set of expert modules and a router module.\n",
        "\n",
        "It takes input embeddings and routes them to the experts.\n",
        "\n",
        "Each token is processed individually by a subset of experts.\n",
        "\n",
        "The output token embedding is a weighted sum of the expert outputs.\n",
        "\n",
        "The weights are determined by the router module.\n",
        "\n",
        "The subset of experts is determined by non-zero weights in the routing output.\n",
        "\n",
        "Additionally each expert might process at most `expert_capacity = ceil((batch_size * seq_len) / num_experts * capacity_factor)` tokens\n",
        "\n",
        "Superfluous tokens to be discarded by a particular expert should be selected uniformly at random.\n",
        "\n",
        "Discarding should be equivalent to setting the appropriate routing weight to 0, while other weights remain the same.\n",
        "\n",
        "This means that a token is processed by at most num_experts_per_token experts with a sum of weights of at most 1.\n",
        "\n",
        "Specifically, this could mean that a token is processed by 0 experts - in this case the resulting embedding should be a zero tensor."
      ]
    },
    {
      "cell_type": "code",
      "execution_count": 4,
      "metadata": {
        "id": "XYWT1tWwfIFv"
      },
      "outputs": [],
      "source": [
        "import math\n",
        "\n",
        "# Input: [batch_size, seq_len, hidden_size] - input embeddings\n",
        "# Output: [batch_size, seq_len, hidden_size] - output embeddings\n",
        "class MoE(nn.Module):\n",
        "    def __init__(self, config):\n",
        "        super().__init__()\n",
        "        self.config = config\n",
        "        self.num_experts = config.num_experts\n",
        "        self.hidden_size = config.hidden_size\n",
        "        self.num_experts_per_token = config.num_experts_per_token\n",
        "        self.capacity_factor = config.capacity_factor\n",
        "\n",
        "        # You can change experts representation if you want\n",
        "        self.experts = nn.ModuleList([MLP(config) for _ in range(self.num_experts)])\n",
        "        self.router = Router(config)\n",
        "\n",
        "    def forward(self, x):\n",
        "        batch_size, seq_len, hidden_size = x.shape\n",
        "        expert_capacity = math.ceil(batch_size * seq_len / self.num_experts * self.capacity_factor)\n",
        "        pass"
      ]
    },
    {
      "cell_type": "markdown",
      "metadata": {
        "id": "UDRxR0HafIFw"
      },
      "source": [
        "# Configurations"
      ]
    },
    {
      "cell_type": "code",
      "execution_count": 5,
      "metadata": {
        "id": "W_0dW5DsfIFw"
      },
      "outputs": [],
      "source": [
        "base_config = dict(\n",
        "    vocab_size=5000,\n",
        "    max_position_embeddings=256,\n",
        "    num_attention_heads=8,\n",
        "    num_hidden_layers=4,\n",
        "    hidden_dropout_prob=0.1,\n",
        "    hidden_size=128,\n",
        "    intermediate_size=512,\n",
        "    num_labels=2\n",
        ")\n",
        "\n",
        "standard_config = PretrainedConfig(\n",
        "    **base_config,\n",
        "    ff_cls=MLP\n",
        ")\n",
        "\n",
        "moe_config = PretrainedConfig(\n",
        "    **base_config,\n",
        "    num_experts=4,\n",
        "    capacity_factor=2.0,\n",
        "    num_experts_per_token=1,\n",
        "    ff_cls=MoE\n",
        ")"
      ]
    },
    {
      "cell_type": "markdown",
      "metadata": {
        "id": "abAV-rA3fIFy"
      },
      "source": [
        "# Basic Transformer-related classes"
      ]
    },
    {
      "cell_type": "code",
      "execution_count": 6,
      "metadata": {
        "id": "gXd1lstpfIFy"
      },
      "outputs": [],
      "source": [
        "from einops import rearrange\n",
        "\n",
        "class Embedding(nn.Module):\n",
        "  def __init__(self, config):\n",
        "    super(Embedding, self).__init__()\n",
        "    self.word_embed = nn.Embedding(config.vocab_size, config.hidden_size)\n",
        "    self.pos_embed = nn.Embedding(config.max_position_embeddings, config.hidden_size)\n",
        "    self.dropout = nn.Dropout(config.hidden_dropout_prob)\n",
        "\n",
        "  def forward(self, x):\n",
        "    batch_size, seq_length = x.shape\n",
        "    device = x.device\n",
        "    positions = torch.arange(0, seq_length).expand(\n",
        "        batch_size, seq_length).to(device)\n",
        "    embedding = self.word_embed(x) + self.pos_embed(positions)\n",
        "    return self.dropout(embedding)\n",
        "\n",
        "\n",
        "class MHSelfAttention(nn.Module):\n",
        "    def __init__(self, config: PretrainedConfig):\n",
        "        super(MHSelfAttention, self).__init__()\n",
        "        self.num_attention_heads = config.num_attention_heads\n",
        "        self.hidden_size = config.hidden_size\n",
        "        self.head_size = self.hidden_size // self.num_attention_heads\n",
        "        self.num_attention_heads = config.num_attention_heads\n",
        "        self.qkv = nn.Linear(self.hidden_size, 3 * self.hidden_size, bias=False)\n",
        "\n",
        "    def forward(self, embeddings):\n",
        "        batch_size, seq_length, hidden_size = embeddings.size()\n",
        "\n",
        "        result = self.qkv(embeddings)\n",
        "        q, k, v = rearrange(result, 'b s (qkv nah hdsz) -> qkv b nah s hdsz', nah=self.num_attention_heads, qkv=3).unbind(0)\n",
        "\n",
        "        attention_scores = torch.matmul(q, k.transpose(-1, -2))\n",
        "        attention_scores = attention_scores / math.sqrt(hidden_size)\n",
        "        attention_probs = nn.Softmax(dim=-1)(attention_scores)\n",
        "\n",
        "        contextualized_layer = torch.matmul(attention_probs, v)\n",
        "\n",
        "        outputs = rearrange(contextualized_layer, 'b nah s hdsz -> b s (nah hdsz)')\n",
        "        return outputs\n",
        "\n",
        "class TransformerBlock(nn.Module):\n",
        "    def __init__(self, config):\n",
        "        super().__init__()\n",
        "        self.attention = MHSelfAttention(config)\n",
        "        self.norm1 = nn.LayerNorm(config.hidden_size)\n",
        "        self.norm2 = nn.LayerNorm(config.hidden_size)\n",
        "        self.intermediate = config.ff_cls(config)\n",
        "        self.dropout = nn.Dropout(config.hidden_dropout_prob)\n",
        "\n",
        "    def forward(self, x):\n",
        "        x =  x + self.norm1(self.dropout(self.attention(x)))\n",
        "        x =  x + self.norm2(self.dropout(self.intermediate(x)))\n",
        "        return x\n",
        "\n",
        "class TransformerClassifier(nn.Module):\n",
        "    def __init__(self, config):\n",
        "        super().__init__()\n",
        "        self.embeddings = Embedding(config)\n",
        "        self.layer = nn.Sequential(*[TransformerBlock(config) for _ in range(config.num_hidden_layers)])\n",
        "        self.classifier = nn.Linear(config.hidden_size, config.num_labels)\n",
        "\n",
        "    def forward(self, input_ids, labels=None):\n",
        "        embedding_output = self.embeddings(input_ids)\n",
        "        encoding = self.layer(embedding_output)\n",
        "        pooled_encoding = encoding.mean(dim=1)\n",
        "        logits = self.classifier(pooled_encoding)\n",
        "        loss = F.cross_entropy(logits, labels) if labels is not None else None\n",
        "        return {\n",
        "            'loss': loss,\n",
        "            'logits': logits,\n",
        "        }"
      ]
    },
    {
      "cell_type": "markdown",
      "metadata": {
        "id": "bg4Jm-uFfIFy"
      },
      "source": [
        "# Tokenizer training"
      ]
    },
    {
      "cell_type": "code",
      "source": [
        "%pip install datasets"
      ],
      "metadata": {
        "colab": {
          "base_uri": "https://localhost:8080/"
        },
        "id": "OGAB5sXq-RK-",
        "outputId": "d97b1209-0493-4055-ebe8-eff9e45d3cb7"
      },
      "execution_count": 7,
      "outputs": [
        {
          "output_type": "stream",
          "name": "stdout",
          "text": [
            "Collecting datasets\n",
            "  Downloading datasets-2.18.0-py3-none-any.whl (510 kB)\n",
            "\u001b[2K     \u001b[90m━━━━━━━━━━━━━━━━━━━━━━━━━━━━━━━━━━━━━━━━\u001b[0m \u001b[32m510.5/510.5 kB\u001b[0m \u001b[31m8.9 MB/s\u001b[0m eta \u001b[36m0:00:00\u001b[0m\n",
            "\u001b[?25hRequirement already satisfied: filelock in /usr/local/lib/python3.10/dist-packages (from datasets) (3.13.4)\n",
            "Requirement already satisfied: numpy>=1.17 in /usr/local/lib/python3.10/dist-packages (from datasets) (1.25.2)\n",
            "Requirement already satisfied: pyarrow>=12.0.0 in /usr/local/lib/python3.10/dist-packages (from datasets) (14.0.2)\n",
            "Requirement already satisfied: pyarrow-hotfix in /usr/local/lib/python3.10/dist-packages (from datasets) (0.6)\n",
            "Collecting dill<0.3.9,>=0.3.0 (from datasets)\n",
            "  Downloading dill-0.3.8-py3-none-any.whl (116 kB)\n",
            "\u001b[2K     \u001b[90m━━━━━━━━━━━━━━━━━━━━━━━━━━━━━━━━━━━━━━━━\u001b[0m \u001b[32m116.3/116.3 kB\u001b[0m \u001b[31m10.1 MB/s\u001b[0m eta \u001b[36m0:00:00\u001b[0m\n",
            "\u001b[?25hRequirement already satisfied: pandas in /usr/local/lib/python3.10/dist-packages (from datasets) (2.0.3)\n",
            "Requirement already satisfied: requests>=2.19.0 in /usr/local/lib/python3.10/dist-packages (from datasets) (2.31.0)\n",
            "Requirement already satisfied: tqdm>=4.62.1 in /usr/local/lib/python3.10/dist-packages (from datasets) (4.66.2)\n",
            "Collecting xxhash (from datasets)\n",
            "  Downloading xxhash-3.4.1-cp310-cp310-manylinux_2_17_x86_64.manylinux2014_x86_64.whl (194 kB)\n",
            "\u001b[2K     \u001b[90m━━━━━━━━━━━━━━━━━━━━━━━━━━━━━━━━━━━━━━━━\u001b[0m \u001b[32m194.1/194.1 kB\u001b[0m \u001b[31m11.0 MB/s\u001b[0m eta \u001b[36m0:00:00\u001b[0m\n",
            "\u001b[?25hCollecting multiprocess (from datasets)\n",
            "  Downloading multiprocess-0.70.16-py310-none-any.whl (134 kB)\n",
            "\u001b[2K     \u001b[90m━━━━━━━━━━━━━━━━━━━━━━━━━━━━━━━━━━━━━━━━\u001b[0m \u001b[32m134.8/134.8 kB\u001b[0m \u001b[31m13.4 MB/s\u001b[0m eta \u001b[36m0:00:00\u001b[0m\n",
            "\u001b[?25hRequirement already satisfied: fsspec[http]<=2024.2.0,>=2023.1.0 in /usr/local/lib/python3.10/dist-packages (from datasets) (2023.6.0)\n",
            "Requirement already satisfied: aiohttp in /usr/local/lib/python3.10/dist-packages (from datasets) (3.9.3)\n",
            "Requirement already satisfied: huggingface-hub>=0.19.4 in /usr/local/lib/python3.10/dist-packages (from datasets) (0.20.3)\n",
            "Requirement already satisfied: packaging in /usr/local/lib/python3.10/dist-packages (from datasets) (24.0)\n",
            "Requirement already satisfied: pyyaml>=5.1 in /usr/local/lib/python3.10/dist-packages (from datasets) (6.0.1)\n",
            "Requirement already satisfied: aiosignal>=1.1.2 in /usr/local/lib/python3.10/dist-packages (from aiohttp->datasets) (1.3.1)\n",
            "Requirement already satisfied: attrs>=17.3.0 in /usr/local/lib/python3.10/dist-packages (from aiohttp->datasets) (23.2.0)\n",
            "Requirement already satisfied: frozenlist>=1.1.1 in /usr/local/lib/python3.10/dist-packages (from aiohttp->datasets) (1.4.1)\n",
            "Requirement already satisfied: multidict<7.0,>=4.5 in /usr/local/lib/python3.10/dist-packages (from aiohttp->datasets) (6.0.5)\n",
            "Requirement already satisfied: yarl<2.0,>=1.0 in /usr/local/lib/python3.10/dist-packages (from aiohttp->datasets) (1.9.4)\n",
            "Requirement already satisfied: async-timeout<5.0,>=4.0 in /usr/local/lib/python3.10/dist-packages (from aiohttp->datasets) (4.0.3)\n",
            "Requirement already satisfied: typing-extensions>=3.7.4.3 in /usr/local/lib/python3.10/dist-packages (from huggingface-hub>=0.19.4->datasets) (4.11.0)\n",
            "Requirement already satisfied: charset-normalizer<4,>=2 in /usr/local/lib/python3.10/dist-packages (from requests>=2.19.0->datasets) (3.3.2)\n",
            "Requirement already satisfied: idna<4,>=2.5 in /usr/local/lib/python3.10/dist-packages (from requests>=2.19.0->datasets) (3.6)\n",
            "Requirement already satisfied: urllib3<3,>=1.21.1 in /usr/local/lib/python3.10/dist-packages (from requests>=2.19.0->datasets) (2.0.7)\n",
            "Requirement already satisfied: certifi>=2017.4.17 in /usr/local/lib/python3.10/dist-packages (from requests>=2.19.0->datasets) (2024.2.2)\n",
            "Requirement already satisfied: python-dateutil>=2.8.2 in /usr/local/lib/python3.10/dist-packages (from pandas->datasets) (2.8.2)\n",
            "Requirement already satisfied: pytz>=2020.1 in /usr/local/lib/python3.10/dist-packages (from pandas->datasets) (2023.4)\n",
            "Requirement already satisfied: tzdata>=2022.1 in /usr/local/lib/python3.10/dist-packages (from pandas->datasets) (2024.1)\n",
            "Requirement already satisfied: six>=1.5 in /usr/local/lib/python3.10/dist-packages (from python-dateutil>=2.8.2->pandas->datasets) (1.16.0)\n",
            "Installing collected packages: xxhash, dill, multiprocess, datasets\n",
            "Successfully installed datasets-2.18.0 dill-0.3.8 multiprocess-0.70.16 xxhash-3.4.1\n"
          ]
        }
      ]
    },
    {
      "cell_type": "code",
      "execution_count": 8,
      "metadata": {
        "id": "FdqQL-HNfIFz",
        "colab": {
          "base_uri": "https://localhost:8080/",
          "height": 337,
          "referenced_widgets": [
            "7b3e3e5c48c148828bff11ecd6a71203",
            "8606b77625284a1da02305b337d53bc7",
            "aa65200d1b5f4c9589b6fbc867416bb0",
            "0ee0ff50c52748ee898e2a12fcfec1b6",
            "5a90f244382c430a8c4802cfdf8bafea",
            "2e56c448783d40568e6ddb4fbb99c5e6",
            "bfc63a8622254765873d8088828e054b",
            "8a817cfb73e747e784694b979c7fa5ac",
            "53791a9259524ef686c4f2d49c5d8b95",
            "f2eb910a629040a58270d67298d44319",
            "e4a55967b3314e299457caac831a1e6b",
            "db841faf813f46288f951c57bb825e68",
            "103409c61e1546e484bbb72b7c482bf2",
            "05c927b0a1ce48cfa3534e59b1e22cb6",
            "484f602d10ce48a08f2c736b3087595e",
            "667df8a378ed43308c21b0f7ec5cc921",
            "1a5ae8c67177490e9283c0ac2153da93",
            "113abd8d8f414e1a8e91e1dff302f047",
            "266da5290f914aff9b8d6be2fbe20f1b",
            "2afe931419a14c88bf5eb71beab1f6f4",
            "b3a111b562bb4112ae6521247ccf6b1e",
            "a6768295ef744a9ab80dae5910a13671",
            "94c79f51a25840d28a4bf2abf05e90f6",
            "bce1832da1c649c0aa7a32fc63776e7a",
            "4adfddbf763541898700a61a615bd423",
            "3f9ec26e4379437d98a5e81e57f0e7e4",
            "451efa92528d49e18121d34755a455c4",
            "9e96a249ce1b4c92b0a5074fa39252a1",
            "540a95f98f6a4a34a41f90a277fda4f2",
            "418349717f1d4c0cbd44e0f28d15d2a9",
            "3f60292b31ad49728bfef016ae26bdcc",
            "2c94976d87d9447fbd4660f42b30e75d",
            "473fdc28544f4f13b862e646d7f71b58",
            "52bf7c2b54db495882c2b9b43083777f",
            "5088da70f8a340299ca7683ac8629303",
            "1c7925b7017a4202b4792890d7a872ae",
            "c3db6d531b8e46ecaa0ebc42413c647a",
            "3be4e9bfc346408b8b89bb5b6ee5fcb6",
            "a55e5f36c3d24a248fe76da167501210",
            "6f3881cb41824b67b2a5f3432947804c",
            "014d49791e8344f281ef6b9f10518c7d",
            "71a609a6f61642afb9cd317d6725ace2",
            "37924065cd884085963994fab4e208df",
            "09e4ce61364d4e39a6e7196aa25ccb4b",
            "5b82013cb74546b1a1e14e269aacddc7",
            "62874df911e046f7bba06128dc922b02",
            "6f72cf0fbba7472e8e3acdfe8c997c5b",
            "3468fe5c2a33484ca08332f13c246f11",
            "6a4763edc99c43b99b14fb1df20a62f7",
            "04db9e6a09b24f0d828aa2a0c58bc4d8",
            "8faf7b87040b494b8410b099e3246e8e",
            "6c926a9fd6864622bb061fd934410c1a",
            "e5112fe53953474ab07a16aae1958dcc",
            "7b126eec46e74d299183bbf67993b1f5",
            "a30c7f5ca5b546b8be9cde4462148acf",
            "060ca6dea699478db7541f09e1d7a954",
            "8f633dc51be44eb48c717357593a51e8",
            "02ade8edd38b4282a9e2912dc3e51154",
            "5e7b36a127e04eb6acb880d1c962f526",
            "e78323f461834ec5975179fa5570b902",
            "6d0d753a798742c2b89011b383730999",
            "2d079e438b204a4fb20bd4ab91d8fc9d",
            "478991fb504144b0b98b042df8bed6cf",
            "fc9d7e17c9cc4545a3c0b6113fa39620",
            "380eba05429d4b92a5b13e4e8429c720",
            "67ecf6b489954c00a7e34e78825b0db7",
            "18f814f7f2a546c79aa488e509a71b05",
            "866a74323b7a4f63b009e43d42ce6581",
            "347103a349b94b868d231a3bcae6d3f1",
            "7c1b9a0d42164a3797ed3609693fdce6",
            "af4ee65874bb430094239fddfa75bd1b",
            "8be7f8464dfc4c919bac5cc97ef1756b",
            "6ee78267fc504f808020ec46b1471a55",
            "e7d53f7c00ed42d1bcfaa849157d9d63",
            "f99d530338be4e61818378e2b58c3c55",
            "6fdb3a8824aa465483852c78d96f8d75",
            "96448e2d032241bda774e631761701aa",
            "a0b837a204d64740b423fd05f2d84bc9",
            "d9efcd2c3b33475d9376bd54224b085a",
            "9fab5f363e6e4c079ad53c115de4875c",
            "942d98e780404296a331b020c4bf12d5",
            "3691a3014571457e924ce11eb0b3993e",
            "915bdf2585cc4c7d9262b65d53a8cbdb",
            "45086a9d4e2642cdae61252941cdce35",
            "6d4d436939364229b0f859353274daf1",
            "f553b84bc98b4b0fa0679a747ce3cf2e",
            "f9e4464f87b246b58e8820ebcc2eee81",
            "1669ead2fd954737a73439f3795aa625",
            "388fc0f9ab8a4e5f8096613b56fda2c6",
            "174732cc49d143ee914f43d63b495d6e",
            "172099f6a81e4ba5913f3efde638773b",
            "711a94efff574dcb828a645e88fdca40",
            "2284092da869488c8908ef5344918917",
            "bdb6cf2c2c9547719a1602316841ece1",
            "350bc9f1d687455bb10ea2efbc0e25a3",
            "019c609e873a4baba2ccb23ff386449b",
            "aecd5943352249219b073d8b42fed542",
            "8f52bdef79684faf891b594d2e102004",
            "606e628ad5844727bf3b762a8943f4bf",
            "53dbb4cf7d834d5d8233cae111fc5778",
            "a5e7ce8b415e4afc970bf6939448d646",
            "89fd189978634d6d8eb138800b943b23",
            "20a8c46384804fd3a2e9055e11807b35",
            "5972f28bce834c8080e99fd3ece70e8a",
            "1b3692521c2d48ebb1d2148e5077a8a2",
            "c5dfd344574e46659a444da5e087af69",
            "30f07b7f6004458187aeab015701255c",
            "afa5cba685624f579975427407d50fde",
            "d4e32d51a13d4c69a2f2897b475ae921",
            "d894b8779b5245b282a591684b14568c"
          ]
        },
        "outputId": "9453ad8d-0fcc-424c-ec57-a5fa9ec0cf3e"
      },
      "outputs": [
        {
          "output_type": "display_data",
          "data": {
            "text/plain": [
              "Downloading readme:   0%|          | 0.00/7.81k [00:00<?, ?B/s]"
            ],
            "application/vnd.jupyter.widget-view+json": {
              "version_major": 2,
              "version_minor": 0,
              "model_id": "7b3e3e5c48c148828bff11ecd6a71203"
            }
          },
          "metadata": {}
        },
        {
          "output_type": "display_data",
          "data": {
            "text/plain": [
              "Downloading data:   0%|          | 0.00/21.0M [00:00<?, ?B/s]"
            ],
            "application/vnd.jupyter.widget-view+json": {
              "version_major": 2,
              "version_minor": 0,
              "model_id": "db841faf813f46288f951c57bb825e68"
            }
          },
          "metadata": {}
        },
        {
          "output_type": "display_data",
          "data": {
            "text/plain": [
              "Downloading data:   0%|          | 0.00/20.5M [00:00<?, ?B/s]"
            ],
            "application/vnd.jupyter.widget-view+json": {
              "version_major": 2,
              "version_minor": 0,
              "model_id": "94c79f51a25840d28a4bf2abf05e90f6"
            }
          },
          "metadata": {}
        },
        {
          "output_type": "display_data",
          "data": {
            "text/plain": [
              "Downloading data:   0%|          | 0.00/42.0M [00:00<?, ?B/s]"
            ],
            "application/vnd.jupyter.widget-view+json": {
              "version_major": 2,
              "version_minor": 0,
              "model_id": "52bf7c2b54db495882c2b9b43083777f"
            }
          },
          "metadata": {}
        },
        {
          "output_type": "display_data",
          "data": {
            "text/plain": [
              "Generating train split:   0%|          | 0/25000 [00:00<?, ? examples/s]"
            ],
            "application/vnd.jupyter.widget-view+json": {
              "version_major": 2,
              "version_minor": 0,
              "model_id": "5b82013cb74546b1a1e14e269aacddc7"
            }
          },
          "metadata": {}
        },
        {
          "output_type": "display_data",
          "data": {
            "text/plain": [
              "Generating test split:   0%|          | 0/25000 [00:00<?, ? examples/s]"
            ],
            "application/vnd.jupyter.widget-view+json": {
              "version_major": 2,
              "version_minor": 0,
              "model_id": "060ca6dea699478db7541f09e1d7a954"
            }
          },
          "metadata": {}
        },
        {
          "output_type": "display_data",
          "data": {
            "text/plain": [
              "Generating unsupervised split:   0%|          | 0/50000 [00:00<?, ? examples/s]"
            ],
            "application/vnd.jupyter.widget-view+json": {
              "version_major": 2,
              "version_minor": 0,
              "model_id": "18f814f7f2a546c79aa488e509a71b05"
            }
          },
          "metadata": {}
        },
        {
          "output_type": "display_data",
          "data": {
            "text/plain": [
              "Map:   0%|          | 0/25000 [00:00<?, ? examples/s]"
            ],
            "application/vnd.jupyter.widget-view+json": {
              "version_major": 2,
              "version_minor": 0,
              "model_id": "a0b837a204d64740b423fd05f2d84bc9"
            }
          },
          "metadata": {}
        },
        {
          "output_type": "display_data",
          "data": {
            "text/plain": [
              "Map:   0%|          | 0/25000 [00:00<?, ? examples/s]"
            ],
            "application/vnd.jupyter.widget-view+json": {
              "version_major": 2,
              "version_minor": 0,
              "model_id": "388fc0f9ab8a4e5f8096613b56fda2c6"
            }
          },
          "metadata": {}
        },
        {
          "output_type": "display_data",
          "data": {
            "text/plain": [
              "Map:   0%|          | 0/50000 [00:00<?, ? examples/s]"
            ],
            "application/vnd.jupyter.widget-view+json": {
              "version_major": 2,
              "version_minor": 0,
              "model_id": "53dbb4cf7d834d5d8233cae111fc5778"
            }
          },
          "metadata": {}
        }
      ],
      "source": [
        "from tokenizers import ByteLevelBPETokenizer\n",
        "from datasets import load_dataset\n",
        "from tokenizers.processors import BertProcessing\n",
        "\n",
        "dataset = load_dataset('imdb')\n",
        "\n",
        "tokenizer = ByteLevelBPETokenizer()\n",
        "tokenizer.train_from_iterator(\n",
        "    dataset['train']['text'],\n",
        "    vocab_size=base_config['vocab_size'],\n",
        "    special_tokens=[\"<s>\", \"</s>\", \"<pad>\"],\n",
        "    min_frequency=2\n",
        ")\n",
        "tokenizer.post_processor = BertProcessing(\n",
        "    (\"</s>\", tokenizer.token_to_id(\"</s>\")),\n",
        "    (\"<s>\", tokenizer.token_to_id(\"<s>\")),\n",
        ")\n",
        "\n",
        "tokenizer.enable_truncation(max_length=base_config['max_position_embeddings'])\n",
        "tokenizer.enable_padding(pad_id=tokenizer.token_to_id(\"<pad>\"), pad_token=\"<pad>\", length=base_config['max_position_embeddings'])\n",
        "tokenizer.model_max_length = base_config['max_position_embeddings']\n",
        "tokenizer.pad_token = \"<pad>\"\n",
        "\n",
        "from transformers import Trainer, TrainingArguments\n",
        "\n",
        "def tokenize(row):\n",
        "    return {\n",
        "        'input_ids': tokenizer.encode(row['text']).ids,\n",
        "    }\n",
        "\n",
        "tokenized_dataset = dataset.map(tokenize)"
      ]
    },
    {
      "cell_type": "markdown",
      "source": [
        "# **1. Naive implementation of MoE layer that works with num_experts_per_token>=1 and leftmost token choosing strategy.**"
      ],
      "metadata": {
        "id": "KQw4wxsXztgJ"
      }
    },
    {
      "cell_type": "code",
      "source": [
        "# Input: [batch_size, seq_len, hidden_size] - input embeddings\n",
        "# Output: [batch_size, seq_len, num_experts] - expert routing weights\n",
        "class Router(nn.Module):\n",
        "    def __init__(self, config):\n",
        "        super().__init__()\n",
        "        self.config = config\n",
        "        self.num_experts_per_token = config.num_experts_per_token\n",
        "        self.hidden_size = config.hidden_size\n",
        "        self.num_experts = config.num_experts\n",
        "\n",
        "        self.expert_embeddings = nn.Parameter(torch.randn(self.num_experts, self.hidden_size))\n",
        "        torch.nn.init.kaiming_uniform_(self.expert_embeddings, nonlinearity='linear')\n",
        "\n",
        "    def forward(self, x):\n",
        "        batch_size, seq_len, hidden_size = x.shape\n",
        "        similarity = einsum(x, self.expert_embeddings, 'b s h, e h -> b s e')\n",
        "        top_experts = torch.topk(similarity, self.num_experts_per_token)\n",
        "        softmaxed_topk_values = F.softmax(top_experts.values, dim=-1)\n",
        "        mask = torch.zeros_like(similarity, dtype=torch.bool)\n",
        "        mask = mask.scatter_(-1, top_experts.indices, 1)\n",
        "        routing_weights = torch.zeros_like(similarity)\n",
        "        routing_weights[mask] = softmaxed_topk_values.flatten()\n",
        "\n",
        "        return routing_weights"
      ],
      "metadata": {
        "id": "5zxhKHZq1se9"
      },
      "execution_count": 9,
      "outputs": []
    },
    {
      "cell_type": "code",
      "source": [
        "# Input: [batch_size, seq_len, hidden_size] - input embeddings\n",
        "# Output: [batch_size, seq_len, hidden_size] - output embeddings\n",
        "class NaiveMoE(nn.Module):\n",
        "    def __init__(self, config):\n",
        "        super().__init__()\n",
        "        self.config = config\n",
        "        self.num_experts = config.num_experts\n",
        "        self.hidden_size = config.hidden_size\n",
        "        self.num_experts_per_token = config.num_experts_per_token\n",
        "        self.capacity_factor = config.capacity_factor\n",
        "\n",
        "        # You can change experts representation if you want\n",
        "        self.experts = nn.ModuleList([MLP(config) for _ in range(self.num_experts)])\n",
        "        self.router = Router(config)\n",
        "\n",
        "    def forward(self, x):\n",
        "        batch_size, seq_len, hidden_size = x.shape\n",
        "        expert_capacity = torch.ceil(torch.tensor(batch_size * seq_len / self.num_experts * self.capacity_factor, device=x.device, dtype=torch.int))\n",
        "        routing_weights = self.router(x)\n",
        "        for i in range(self.num_experts):\n",
        "            token_indices = torch.nonzero(routing_weights[:, :, i], as_tuple=False)\n",
        "            if token_indices.shape[0] > expert_capacity:\n",
        "                routing_weights[token_indices[expert_capacity:, 0], token_indices[expert_capacity:, 1], i] = 0\n",
        "\n",
        "        expert_outputs = torch.zeros(batch_size, seq_len, self.hidden_size, device=x.device)\n",
        "        for i in range(self.num_experts):\n",
        "            expert_indices = torch.nonzero(routing_weights[:, :, i], as_tuple=False)\n",
        "            expert_outputs[expert_indices[:, 0], expert_indices[:, 1]] = self.experts[i](x[expert_indices[:, 0], expert_indices[:, 1]])\n",
        "\n",
        "        return expert_outputs"
      ],
      "metadata": {
        "id": "y4spfrEH3LyA"
      },
      "execution_count": 10,
      "outputs": []
    },
    {
      "cell_type": "code",
      "source": [
        "from torch.utils.data import DataLoader\n",
        "\n",
        "naive_moe_config = PretrainedConfig(\n",
        "    **base_config,\n",
        "    num_experts=4,\n",
        "    capacity_factor=2.0,\n",
        "    num_experts_per_token=2,\n",
        "    ff_cls=NaiveMoE\n",
        ")\n",
        "\n",
        "train_loader = DataLoader(tokenized_dataset['train'], batch_size=16, shuffle=True)\n",
        "test_loader = DataLoader(tokenized_dataset['test'], batch_size=16, shuffle=False)\n",
        "\n",
        "DEVICE = 'cuda' if torch.cuda.is_available() else 'cpu'\n",
        "model = TransformerClassifier(naive_moe_config).to(DEVICE)\n",
        "# model = TransformerClassifier(standard_config).to(DEVICE)\n",
        "optimizer = torch.optim.Adam(model.parameters(), lr=5e-5)"
      ],
      "metadata": {
        "id": "JxpeAbt3OJLc"
      },
      "execution_count": 11,
      "outputs": []
    },
    {
      "cell_type": "code",
      "source": [
        "from tqdm import tqdm\n",
        "\n",
        "NUM_OF_EPOCHS = 20\n",
        "\n",
        "for epoch in range(NUM_OF_EPOCHS):\n",
        "    model.train()\n",
        "    train_progress_bar = tqdm(train_loader, desc=f'Train, Epoch {epoch + 1} / {NUM_OF_EPOCHS}')\n",
        "    running_loss = 0.\n",
        "    for i, batch in enumerate(train_progress_bar):\n",
        "        x, y = batch['input_ids'], batch['label']\n",
        "        x = torch.stack(x, dim=1).to(DEVICE)\n",
        "        y = y.to(DEVICE)\n",
        "        optimizer.zero_grad()\n",
        "        loss = model(x, y)['loss']\n",
        "        loss.backward()\n",
        "        optimizer.step()\n",
        "        running_loss += loss.item()\n",
        "\n",
        "        if i % 10 == 9:\n",
        "            last_loss = running_loss / 10 # avg loss per batch\n",
        "            print('batch {} loss: {}'.format(i + 1, last_loss))\n",
        "            running_loss = 0.\n",
        "\n",
        "    model.eval()\n",
        "    with torch.no_grad():\n",
        "        total_loss = 0\n",
        "        total_samples = 0\n",
        "        correct_samples = 0\n",
        "        test_progress_bar = tqdm(test_loader, desc=f'Test, Epoch {epoch + 1} / {NUM_OF_EPOCHS}')\n",
        "        for batch in test_progress_bar:\n",
        "            x, y = batch['input_ids'], batch['label']\n",
        "            x = torch.stack(x, dim=1).to(DEVICE)\n",
        "            y = y.to(DEVICE)\n",
        "            logits = model(x)['logits']\n",
        "            total_loss += F.cross_entropy(logits, y, reduction='sum').item()\n",
        "            total_samples += y.shape[0]\n",
        "            correct_samples += (logits.argmax(dim=-1) == y).sum().item()\n",
        "\n",
        "        print(f'Epoch {epoch + 1}, loss: {total_loss / total_samples}, accuracy: {correct_samples / total_samples}')"
      ],
      "metadata": {
        "colab": {
          "base_uri": "https://localhost:8080/",
          "height": 561
        },
        "id": "KsEB0dVMLT3n",
        "outputId": "41ebd581-f9ed-418e-9d50-884e1d4109cd"
      },
      "execution_count": 12,
      "outputs": [
        {
          "output_type": "stream",
          "name": "stderr",
          "text": [
            "Train, Epoch 1 / 20:   1%|          | 11/1563 [00:02<03:03,  8.46it/s]"
          ]
        },
        {
          "output_type": "stream",
          "name": "stdout",
          "text": [
            "batch 10 loss: 1.0349373400211335\n"
          ]
        },
        {
          "output_type": "stream",
          "name": "stderr",
          "text": [
            "Train, Epoch 1 / 20:   1%|▏         | 23/1563 [00:03<01:41, 15.18it/s]"
          ]
        },
        {
          "output_type": "stream",
          "name": "stdout",
          "text": [
            "batch 20 loss: 0.8920106291770935\n"
          ]
        },
        {
          "output_type": "stream",
          "name": "stderr",
          "text": [
            "Train, Epoch 1 / 20:   2%|▏         | 33/1563 [00:04<01:39, 15.34it/s]"
          ]
        },
        {
          "output_type": "stream",
          "name": "stdout",
          "text": [
            "batch 30 loss: 0.8101996958255768\n"
          ]
        },
        {
          "output_type": "stream",
          "name": "stderr",
          "text": [
            "Train, Epoch 1 / 20:   3%|▎         | 43/1563 [00:04<01:37, 15.51it/s]"
          ]
        },
        {
          "output_type": "stream",
          "name": "stdout",
          "text": [
            "batch 40 loss: 0.7471609890460968\n"
          ]
        },
        {
          "output_type": "stream",
          "name": "stderr",
          "text": [
            "Train, Epoch 1 / 20:   3%|▎         | 51/1563 [00:05<01:58, 12.77it/s]"
          ]
        },
        {
          "output_type": "stream",
          "name": "stdout",
          "text": [
            "batch 50 loss: 0.7084021866321564\n"
          ]
        },
        {
          "output_type": "stream",
          "name": "stderr",
          "text": [
            "Train, Epoch 1 / 20:   4%|▍         | 63/1563 [00:06<01:38, 15.18it/s]"
          ]
        },
        {
          "output_type": "stream",
          "name": "stdout",
          "text": [
            "batch 60 loss: 0.7095832407474518\n"
          ]
        },
        {
          "output_type": "stream",
          "name": "stderr",
          "text": [
            "Train, Epoch 1 / 20:   5%|▍         | 73/1563 [00:06<01:28, 16.84it/s]"
          ]
        },
        {
          "output_type": "stream",
          "name": "stdout",
          "text": [
            "batch 70 loss: 0.7351710438728333\n"
          ]
        },
        {
          "output_type": "stream",
          "name": "stderr",
          "text": [
            "Train, Epoch 1 / 20:   5%|▌         | 81/1563 [00:07<02:37,  9.39it/s]"
          ]
        },
        {
          "output_type": "stream",
          "name": "stdout",
          "text": [
            "batch 80 loss: 0.7763126134872437\n"
          ]
        },
        {
          "output_type": "stream",
          "name": "stderr",
          "text": [
            "Train, Epoch 1 / 20:   6%|▌         | 92/1563 [00:09<02:48,  8.73it/s]"
          ]
        },
        {
          "output_type": "stream",
          "name": "stdout",
          "text": [
            "batch 90 loss: 0.8216028213500977\n"
          ]
        },
        {
          "output_type": "stream",
          "name": "stderr",
          "text": [
            "Train, Epoch 1 / 20:   7%|▋         | 102/1563 [00:09<01:36, 15.15it/s]"
          ]
        },
        {
          "output_type": "stream",
          "name": "stdout",
          "text": [
            "batch 100 loss: 0.7581846296787262\n"
          ]
        },
        {
          "output_type": "stream",
          "name": "stderr",
          "text": [
            "Train, Epoch 1 / 20:   7%|▋         | 108/1563 [00:10<02:19, 10.41it/s]\n"
          ]
        },
        {
          "output_type": "error",
          "ename": "KeyboardInterrupt",
          "evalue": "",
          "traceback": [
            "\u001b[0;31m---------------------------------------------------------------------------\u001b[0m",
            "\u001b[0;31mKeyboardInterrupt\u001b[0m                         Traceback (most recent call last)",
            "\u001b[0;32m<ipython-input-12-e8c99127efcd>\u001b[0m in \u001b[0;36m<cell line: 5>\u001b[0;34m()\u001b[0m\n\u001b[1;32m     12\u001b[0m         \u001b[0my\u001b[0m \u001b[0;34m=\u001b[0m \u001b[0my\u001b[0m\u001b[0;34m.\u001b[0m\u001b[0mto\u001b[0m\u001b[0;34m(\u001b[0m\u001b[0mDEVICE\u001b[0m\u001b[0;34m)\u001b[0m\u001b[0;34m\u001b[0m\u001b[0;34m\u001b[0m\u001b[0m\n\u001b[1;32m     13\u001b[0m         \u001b[0moptimizer\u001b[0m\u001b[0;34m.\u001b[0m\u001b[0mzero_grad\u001b[0m\u001b[0;34m(\u001b[0m\u001b[0;34m)\u001b[0m\u001b[0;34m\u001b[0m\u001b[0;34m\u001b[0m\u001b[0m\n\u001b[0;32m---> 14\u001b[0;31m         \u001b[0mloss\u001b[0m \u001b[0;34m=\u001b[0m \u001b[0mmodel\u001b[0m\u001b[0;34m(\u001b[0m\u001b[0mx\u001b[0m\u001b[0;34m,\u001b[0m \u001b[0my\u001b[0m\u001b[0;34m)\u001b[0m\u001b[0;34m[\u001b[0m\u001b[0;34m'loss'\u001b[0m\u001b[0;34m]\u001b[0m\u001b[0;34m\u001b[0m\u001b[0;34m\u001b[0m\u001b[0m\n\u001b[0m\u001b[1;32m     15\u001b[0m         \u001b[0mloss\u001b[0m\u001b[0;34m.\u001b[0m\u001b[0mbackward\u001b[0m\u001b[0;34m(\u001b[0m\u001b[0;34m)\u001b[0m\u001b[0;34m\u001b[0m\u001b[0;34m\u001b[0m\u001b[0m\n\u001b[1;32m     16\u001b[0m         \u001b[0moptimizer\u001b[0m\u001b[0;34m.\u001b[0m\u001b[0mstep\u001b[0m\u001b[0;34m(\u001b[0m\u001b[0;34m)\u001b[0m\u001b[0;34m\u001b[0m\u001b[0;34m\u001b[0m\u001b[0m\n",
            "\u001b[0;32m/usr/local/lib/python3.10/dist-packages/torch/nn/modules/module.py\u001b[0m in \u001b[0;36m_wrapped_call_impl\u001b[0;34m(self, *args, **kwargs)\u001b[0m\n\u001b[1;32m   1509\u001b[0m             \u001b[0;32mreturn\u001b[0m \u001b[0mself\u001b[0m\u001b[0;34m.\u001b[0m\u001b[0m_compiled_call_impl\u001b[0m\u001b[0;34m(\u001b[0m\u001b[0;34m*\u001b[0m\u001b[0margs\u001b[0m\u001b[0;34m,\u001b[0m \u001b[0;34m**\u001b[0m\u001b[0mkwargs\u001b[0m\u001b[0;34m)\u001b[0m  \u001b[0;31m# type: ignore[misc]\u001b[0m\u001b[0;34m\u001b[0m\u001b[0;34m\u001b[0m\u001b[0m\n\u001b[1;32m   1510\u001b[0m         \u001b[0;32melse\u001b[0m\u001b[0;34m:\u001b[0m\u001b[0;34m\u001b[0m\u001b[0;34m\u001b[0m\u001b[0m\n\u001b[0;32m-> 1511\u001b[0;31m             \u001b[0;32mreturn\u001b[0m \u001b[0mself\u001b[0m\u001b[0;34m.\u001b[0m\u001b[0m_call_impl\u001b[0m\u001b[0;34m(\u001b[0m\u001b[0;34m*\u001b[0m\u001b[0margs\u001b[0m\u001b[0;34m,\u001b[0m \u001b[0;34m**\u001b[0m\u001b[0mkwargs\u001b[0m\u001b[0;34m)\u001b[0m\u001b[0;34m\u001b[0m\u001b[0;34m\u001b[0m\u001b[0m\n\u001b[0m\u001b[1;32m   1512\u001b[0m \u001b[0;34m\u001b[0m\u001b[0m\n\u001b[1;32m   1513\u001b[0m     \u001b[0;32mdef\u001b[0m \u001b[0m_call_impl\u001b[0m\u001b[0;34m(\u001b[0m\u001b[0mself\u001b[0m\u001b[0;34m,\u001b[0m \u001b[0;34m*\u001b[0m\u001b[0margs\u001b[0m\u001b[0;34m,\u001b[0m \u001b[0;34m**\u001b[0m\u001b[0mkwargs\u001b[0m\u001b[0;34m)\u001b[0m\u001b[0;34m:\u001b[0m\u001b[0;34m\u001b[0m\u001b[0;34m\u001b[0m\u001b[0m\n",
            "\u001b[0;32m/usr/local/lib/python3.10/dist-packages/torch/nn/modules/module.py\u001b[0m in \u001b[0;36m_call_impl\u001b[0;34m(self, *args, **kwargs)\u001b[0m\n\u001b[1;32m   1518\u001b[0m                 \u001b[0;32mor\u001b[0m \u001b[0m_global_backward_pre_hooks\u001b[0m \u001b[0;32mor\u001b[0m \u001b[0m_global_backward_hooks\u001b[0m\u001b[0;34m\u001b[0m\u001b[0;34m\u001b[0m\u001b[0m\n\u001b[1;32m   1519\u001b[0m                 or _global_forward_hooks or _global_forward_pre_hooks):\n\u001b[0;32m-> 1520\u001b[0;31m             \u001b[0;32mreturn\u001b[0m \u001b[0mforward_call\u001b[0m\u001b[0;34m(\u001b[0m\u001b[0;34m*\u001b[0m\u001b[0margs\u001b[0m\u001b[0;34m,\u001b[0m \u001b[0;34m**\u001b[0m\u001b[0mkwargs\u001b[0m\u001b[0;34m)\u001b[0m\u001b[0;34m\u001b[0m\u001b[0;34m\u001b[0m\u001b[0m\n\u001b[0m\u001b[1;32m   1521\u001b[0m \u001b[0;34m\u001b[0m\u001b[0m\n\u001b[1;32m   1522\u001b[0m         \u001b[0;32mtry\u001b[0m\u001b[0;34m:\u001b[0m\u001b[0;34m\u001b[0m\u001b[0;34m\u001b[0m\u001b[0m\n",
            "\u001b[0;32m<ipython-input-6-ee50b4db39a7>\u001b[0m in \u001b[0;36mforward\u001b[0;34m(self, input_ids, labels)\u001b[0m\n\u001b[1;32m     63\u001b[0m \u001b[0;34m\u001b[0m\u001b[0m\n\u001b[1;32m     64\u001b[0m     \u001b[0;32mdef\u001b[0m \u001b[0mforward\u001b[0m\u001b[0;34m(\u001b[0m\u001b[0mself\u001b[0m\u001b[0;34m,\u001b[0m \u001b[0minput_ids\u001b[0m\u001b[0;34m,\u001b[0m \u001b[0mlabels\u001b[0m\u001b[0;34m=\u001b[0m\u001b[0;32mNone\u001b[0m\u001b[0;34m)\u001b[0m\u001b[0;34m:\u001b[0m\u001b[0;34m\u001b[0m\u001b[0;34m\u001b[0m\u001b[0m\n\u001b[0;32m---> 65\u001b[0;31m         \u001b[0membedding_output\u001b[0m \u001b[0;34m=\u001b[0m \u001b[0mself\u001b[0m\u001b[0;34m.\u001b[0m\u001b[0membeddings\u001b[0m\u001b[0;34m(\u001b[0m\u001b[0minput_ids\u001b[0m\u001b[0;34m)\u001b[0m\u001b[0;34m\u001b[0m\u001b[0;34m\u001b[0m\u001b[0m\n\u001b[0m\u001b[1;32m     66\u001b[0m         \u001b[0mencoding\u001b[0m \u001b[0;34m=\u001b[0m \u001b[0mself\u001b[0m\u001b[0;34m.\u001b[0m\u001b[0mlayer\u001b[0m\u001b[0;34m(\u001b[0m\u001b[0membedding_output\u001b[0m\u001b[0;34m)\u001b[0m\u001b[0;34m\u001b[0m\u001b[0;34m\u001b[0m\u001b[0m\n\u001b[1;32m     67\u001b[0m         \u001b[0mpooled_encoding\u001b[0m \u001b[0;34m=\u001b[0m \u001b[0mencoding\u001b[0m\u001b[0;34m.\u001b[0m\u001b[0mmean\u001b[0m\u001b[0;34m(\u001b[0m\u001b[0mdim\u001b[0m\u001b[0;34m=\u001b[0m\u001b[0;36m1\u001b[0m\u001b[0;34m)\u001b[0m\u001b[0;34m\u001b[0m\u001b[0;34m\u001b[0m\u001b[0m\n",
            "\u001b[0;32m/usr/local/lib/python3.10/dist-packages/torch/nn/modules/module.py\u001b[0m in \u001b[0;36m_wrapped_call_impl\u001b[0;34m(self, *args, **kwargs)\u001b[0m\n\u001b[1;32m   1509\u001b[0m             \u001b[0;32mreturn\u001b[0m \u001b[0mself\u001b[0m\u001b[0;34m.\u001b[0m\u001b[0m_compiled_call_impl\u001b[0m\u001b[0;34m(\u001b[0m\u001b[0;34m*\u001b[0m\u001b[0margs\u001b[0m\u001b[0;34m,\u001b[0m \u001b[0;34m**\u001b[0m\u001b[0mkwargs\u001b[0m\u001b[0;34m)\u001b[0m  \u001b[0;31m# type: ignore[misc]\u001b[0m\u001b[0;34m\u001b[0m\u001b[0;34m\u001b[0m\u001b[0m\n\u001b[1;32m   1510\u001b[0m         \u001b[0;32melse\u001b[0m\u001b[0;34m:\u001b[0m\u001b[0;34m\u001b[0m\u001b[0;34m\u001b[0m\u001b[0m\n\u001b[0;32m-> 1511\u001b[0;31m             \u001b[0;32mreturn\u001b[0m \u001b[0mself\u001b[0m\u001b[0;34m.\u001b[0m\u001b[0m_call_impl\u001b[0m\u001b[0;34m(\u001b[0m\u001b[0;34m*\u001b[0m\u001b[0margs\u001b[0m\u001b[0;34m,\u001b[0m \u001b[0;34m**\u001b[0m\u001b[0mkwargs\u001b[0m\u001b[0;34m)\u001b[0m\u001b[0;34m\u001b[0m\u001b[0;34m\u001b[0m\u001b[0m\n\u001b[0m\u001b[1;32m   1512\u001b[0m \u001b[0;34m\u001b[0m\u001b[0m\n\u001b[1;32m   1513\u001b[0m     \u001b[0;32mdef\u001b[0m \u001b[0m_call_impl\u001b[0m\u001b[0;34m(\u001b[0m\u001b[0mself\u001b[0m\u001b[0;34m,\u001b[0m \u001b[0;34m*\u001b[0m\u001b[0margs\u001b[0m\u001b[0;34m,\u001b[0m \u001b[0;34m**\u001b[0m\u001b[0mkwargs\u001b[0m\u001b[0;34m)\u001b[0m\u001b[0;34m:\u001b[0m\u001b[0;34m\u001b[0m\u001b[0;34m\u001b[0m\u001b[0m\n",
            "\u001b[0;32m/usr/local/lib/python3.10/dist-packages/torch/nn/modules/module.py\u001b[0m in \u001b[0;36m_call_impl\u001b[0;34m(self, *args, **kwargs)\u001b[0m\n\u001b[1;32m   1518\u001b[0m                 \u001b[0;32mor\u001b[0m \u001b[0m_global_backward_pre_hooks\u001b[0m \u001b[0;32mor\u001b[0m \u001b[0m_global_backward_hooks\u001b[0m\u001b[0;34m\u001b[0m\u001b[0;34m\u001b[0m\u001b[0m\n\u001b[1;32m   1519\u001b[0m                 or _global_forward_hooks or _global_forward_pre_hooks):\n\u001b[0;32m-> 1520\u001b[0;31m             \u001b[0;32mreturn\u001b[0m \u001b[0mforward_call\u001b[0m\u001b[0;34m(\u001b[0m\u001b[0;34m*\u001b[0m\u001b[0margs\u001b[0m\u001b[0;34m,\u001b[0m \u001b[0;34m**\u001b[0m\u001b[0mkwargs\u001b[0m\u001b[0;34m)\u001b[0m\u001b[0;34m\u001b[0m\u001b[0;34m\u001b[0m\u001b[0m\n\u001b[0m\u001b[1;32m   1521\u001b[0m \u001b[0;34m\u001b[0m\u001b[0m\n\u001b[1;32m   1522\u001b[0m         \u001b[0;32mtry\u001b[0m\u001b[0;34m:\u001b[0m\u001b[0;34m\u001b[0m\u001b[0;34m\u001b[0m\u001b[0m\n",
            "\u001b[0;32m<ipython-input-6-ee50b4db39a7>\u001b[0m in \u001b[0;36mforward\u001b[0;34m(self, x)\u001b[0m\n\u001b[1;32m     13\u001b[0m     positions = torch.arange(0, seq_length).expand(\n\u001b[1;32m     14\u001b[0m         batch_size, seq_length).to(device)\n\u001b[0;32m---> 15\u001b[0;31m     \u001b[0membedding\u001b[0m \u001b[0;34m=\u001b[0m \u001b[0mself\u001b[0m\u001b[0;34m.\u001b[0m\u001b[0mword_embed\u001b[0m\u001b[0;34m(\u001b[0m\u001b[0mx\u001b[0m\u001b[0;34m)\u001b[0m \u001b[0;34m+\u001b[0m \u001b[0mself\u001b[0m\u001b[0;34m.\u001b[0m\u001b[0mpos_embed\u001b[0m\u001b[0;34m(\u001b[0m\u001b[0mpositions\u001b[0m\u001b[0;34m)\u001b[0m\u001b[0;34m\u001b[0m\u001b[0;34m\u001b[0m\u001b[0m\n\u001b[0m\u001b[1;32m     16\u001b[0m     \u001b[0;32mreturn\u001b[0m \u001b[0mself\u001b[0m\u001b[0;34m.\u001b[0m\u001b[0mdropout\u001b[0m\u001b[0;34m(\u001b[0m\u001b[0membedding\u001b[0m\u001b[0;34m)\u001b[0m\u001b[0;34m\u001b[0m\u001b[0;34m\u001b[0m\u001b[0m\n\u001b[1;32m     17\u001b[0m \u001b[0;34m\u001b[0m\u001b[0m\n",
            "\u001b[0;32m/usr/local/lib/python3.10/dist-packages/torch/nn/modules/module.py\u001b[0m in \u001b[0;36m_wrapped_call_impl\u001b[0;34m(self, *args, **kwargs)\u001b[0m\n\u001b[1;32m   1509\u001b[0m             \u001b[0;32mreturn\u001b[0m \u001b[0mself\u001b[0m\u001b[0;34m.\u001b[0m\u001b[0m_compiled_call_impl\u001b[0m\u001b[0;34m(\u001b[0m\u001b[0;34m*\u001b[0m\u001b[0margs\u001b[0m\u001b[0;34m,\u001b[0m \u001b[0;34m**\u001b[0m\u001b[0mkwargs\u001b[0m\u001b[0;34m)\u001b[0m  \u001b[0;31m# type: ignore[misc]\u001b[0m\u001b[0;34m\u001b[0m\u001b[0;34m\u001b[0m\u001b[0m\n\u001b[1;32m   1510\u001b[0m         \u001b[0;32melse\u001b[0m\u001b[0;34m:\u001b[0m\u001b[0;34m\u001b[0m\u001b[0;34m\u001b[0m\u001b[0m\n\u001b[0;32m-> 1511\u001b[0;31m             \u001b[0;32mreturn\u001b[0m \u001b[0mself\u001b[0m\u001b[0;34m.\u001b[0m\u001b[0m_call_impl\u001b[0m\u001b[0;34m(\u001b[0m\u001b[0;34m*\u001b[0m\u001b[0margs\u001b[0m\u001b[0;34m,\u001b[0m \u001b[0;34m**\u001b[0m\u001b[0mkwargs\u001b[0m\u001b[0;34m)\u001b[0m\u001b[0;34m\u001b[0m\u001b[0;34m\u001b[0m\u001b[0m\n\u001b[0m\u001b[1;32m   1512\u001b[0m \u001b[0;34m\u001b[0m\u001b[0m\n\u001b[1;32m   1513\u001b[0m     \u001b[0;32mdef\u001b[0m \u001b[0m_call_impl\u001b[0m\u001b[0;34m(\u001b[0m\u001b[0mself\u001b[0m\u001b[0;34m,\u001b[0m \u001b[0;34m*\u001b[0m\u001b[0margs\u001b[0m\u001b[0;34m,\u001b[0m \u001b[0;34m**\u001b[0m\u001b[0mkwargs\u001b[0m\u001b[0;34m)\u001b[0m\u001b[0;34m:\u001b[0m\u001b[0;34m\u001b[0m\u001b[0;34m\u001b[0m\u001b[0m\n",
            "\u001b[0;32m/usr/local/lib/python3.10/dist-packages/torch/nn/modules/module.py\u001b[0m in \u001b[0;36m_call_impl\u001b[0;34m(self, *args, **kwargs)\u001b[0m\n\u001b[1;32m   1518\u001b[0m                 \u001b[0;32mor\u001b[0m \u001b[0m_global_backward_pre_hooks\u001b[0m \u001b[0;32mor\u001b[0m \u001b[0m_global_backward_hooks\u001b[0m\u001b[0;34m\u001b[0m\u001b[0;34m\u001b[0m\u001b[0m\n\u001b[1;32m   1519\u001b[0m                 or _global_forward_hooks or _global_forward_pre_hooks):\n\u001b[0;32m-> 1520\u001b[0;31m             \u001b[0;32mreturn\u001b[0m \u001b[0mforward_call\u001b[0m\u001b[0;34m(\u001b[0m\u001b[0;34m*\u001b[0m\u001b[0margs\u001b[0m\u001b[0;34m,\u001b[0m \u001b[0;34m**\u001b[0m\u001b[0mkwargs\u001b[0m\u001b[0;34m)\u001b[0m\u001b[0;34m\u001b[0m\u001b[0;34m\u001b[0m\u001b[0m\n\u001b[0m\u001b[1;32m   1521\u001b[0m \u001b[0;34m\u001b[0m\u001b[0m\n\u001b[1;32m   1522\u001b[0m         \u001b[0;32mtry\u001b[0m\u001b[0;34m:\u001b[0m\u001b[0;34m\u001b[0m\u001b[0;34m\u001b[0m\u001b[0m\n",
            "\u001b[0;32m/usr/local/lib/python3.10/dist-packages/torch/nn/modules/sparse.py\u001b[0m in \u001b[0;36mforward\u001b[0;34m(self, input)\u001b[0m\n\u001b[1;32m    161\u001b[0m \u001b[0;34m\u001b[0m\u001b[0m\n\u001b[1;32m    162\u001b[0m     \u001b[0;32mdef\u001b[0m \u001b[0mforward\u001b[0m\u001b[0;34m(\u001b[0m\u001b[0mself\u001b[0m\u001b[0;34m,\u001b[0m \u001b[0minput\u001b[0m\u001b[0;34m:\u001b[0m \u001b[0mTensor\u001b[0m\u001b[0;34m)\u001b[0m \u001b[0;34m->\u001b[0m \u001b[0mTensor\u001b[0m\u001b[0;34m:\u001b[0m\u001b[0;34m\u001b[0m\u001b[0;34m\u001b[0m\u001b[0m\n\u001b[0;32m--> 163\u001b[0;31m         return F.embedding(\n\u001b[0m\u001b[1;32m    164\u001b[0m             \u001b[0minput\u001b[0m\u001b[0;34m,\u001b[0m \u001b[0mself\u001b[0m\u001b[0;34m.\u001b[0m\u001b[0mweight\u001b[0m\u001b[0;34m,\u001b[0m \u001b[0mself\u001b[0m\u001b[0;34m.\u001b[0m\u001b[0mpadding_idx\u001b[0m\u001b[0;34m,\u001b[0m \u001b[0mself\u001b[0m\u001b[0;34m.\u001b[0m\u001b[0mmax_norm\u001b[0m\u001b[0;34m,\u001b[0m\u001b[0;34m\u001b[0m\u001b[0;34m\u001b[0m\u001b[0m\n\u001b[1;32m    165\u001b[0m             self.norm_type, self.scale_grad_by_freq, self.sparse)\n",
            "\u001b[0;32m/usr/local/lib/python3.10/dist-packages/torch/nn/functional.py\u001b[0m in \u001b[0;36membedding\u001b[0;34m(input, weight, padding_idx, max_norm, norm_type, scale_grad_by_freq, sparse)\u001b[0m\n\u001b[1;32m   2235\u001b[0m         \u001b[0;31m# remove once script supports set_grad_enabled\u001b[0m\u001b[0;34m\u001b[0m\u001b[0;34m\u001b[0m\u001b[0m\n\u001b[1;32m   2236\u001b[0m         \u001b[0m_no_grad_embedding_renorm_\u001b[0m\u001b[0;34m(\u001b[0m\u001b[0mweight\u001b[0m\u001b[0;34m,\u001b[0m \u001b[0minput\u001b[0m\u001b[0;34m,\u001b[0m \u001b[0mmax_norm\u001b[0m\u001b[0;34m,\u001b[0m \u001b[0mnorm_type\u001b[0m\u001b[0;34m)\u001b[0m\u001b[0;34m\u001b[0m\u001b[0;34m\u001b[0m\u001b[0m\n\u001b[0;32m-> 2237\u001b[0;31m     \u001b[0;32mreturn\u001b[0m \u001b[0mtorch\u001b[0m\u001b[0;34m.\u001b[0m\u001b[0membedding\u001b[0m\u001b[0;34m(\u001b[0m\u001b[0mweight\u001b[0m\u001b[0;34m,\u001b[0m \u001b[0minput\u001b[0m\u001b[0;34m,\u001b[0m \u001b[0mpadding_idx\u001b[0m\u001b[0;34m,\u001b[0m \u001b[0mscale_grad_by_freq\u001b[0m\u001b[0;34m,\u001b[0m \u001b[0msparse\u001b[0m\u001b[0;34m)\u001b[0m\u001b[0;34m\u001b[0m\u001b[0;34m\u001b[0m\u001b[0m\n\u001b[0m\u001b[1;32m   2238\u001b[0m \u001b[0;34m\u001b[0m\u001b[0m\n\u001b[1;32m   2239\u001b[0m \u001b[0;34m\u001b[0m\u001b[0m\n",
            "\u001b[0;31mKeyboardInterrupt\u001b[0m: "
          ]
        }
      ]
    },
    {
      "cell_type": "markdown",
      "source": [
        "# **2. and 4. Vectorized implementation of MoE layer that works with num_experts_per_token>=1. Satisfies 2nd and 4th part of the task.**"
      ],
      "metadata": {
        "id": "vdVSfWpb5pSU"
      }
    },
    {
      "cell_type": "code",
      "source": [
        "# Input: [batch_size, seq_len, hidden_size] - input embeddings\n",
        "# Output: [batch_size, seq_len, hidden_size] - output embeddings\n",
        "class VectorizedMoE(nn.Module):\n",
        "    def __init__(self, config):\n",
        "        super().__init__()\n",
        "        self.config = config\n",
        "        self.num_experts = config.num_experts\n",
        "        self.hidden_size = config.hidden_size\n",
        "        self.num_experts_per_token = config.num_experts_per_token\n",
        "        self.capacity_factor = config.capacity_factor\n",
        "\n",
        "        # You can change experts representation if you want\n",
        "        self.expert = torch.nn.Linear(self.hidden_size, self.hidden_size)\n",
        "        self.expert_weights = torch.nn.Parameter(torch.stack([self.expert.weight for _ in range(self.num_experts)], dim=0))\n",
        "        self.expert_biases = torch.nn.Parameter(torch.stack([self.expert.bias for _ in range(self.num_experts)], dim=0))\n",
        "        self.router = Router(config)\n",
        "\n",
        "    def forward(self, x):\n",
        "        batch_size, seq_len, hidden_size = x.shape\n",
        "        expert_capacity = torch.ceil(torch.tensor(batch_size * seq_len / self.num_experts * self.capacity_factor, device=x.device, dtype=torch.int))\n",
        "        routing_weights = self.router(x)\n",
        "        flat_routing_weights = routing_weights.view(-1, self.num_experts)  # Shape: [batch_size * seq_len, num_experts]\n",
        "        topk_values, topk_indices = flat_routing_weights.topk(k=expert_capacity, dim=0)\n",
        "        mask = torch.zeros_like(flat_routing_weights).bool()\n",
        "        mask.scatter_(0, topk_indices, 1)\n",
        "        flat_routing_weights = flat_routing_weights * mask.float()\n",
        "\n",
        "        x_flat = x.reshape(-1, x.size(-1))\n",
        "        inputs_expanded = x_flat.unsqueeze(1).expand(-1, self.num_experts, -1)\n",
        "        weighted_inputs = inputs_expanded * flat_routing_weights.unsqueeze(-1)\n",
        "        combined_inputs = weighted_inputs.reshape(-1, self.hidden_size)\n",
        "        combined_outputs = torch.matmul(combined_inputs, self.expert_weights.view(-1, self.hidden_size).t()) + self.expert_biases.flatten()\n",
        "        combined_outputs = combined_outputs.view(self.num_experts, batch_size * seq_len, self.num_experts, self.hidden_size)\n",
        "        expert_outputs = torch.sum(combined_outputs * flat_routing_weights.unsqueeze(-1), dim=(0, 2))\n",
        "        expert_outputs = expert_outputs.view(batch_size, seq_len, self.hidden_size)\n",
        "\n",
        "        return expert_outputs"
      ],
      "metadata": {
        "id": "rVHieyLg55_H"
      },
      "execution_count": 70,
      "outputs": []
    },
    {
      "cell_type": "code",
      "source": [
        "from torch.utils.data import DataLoader\n",
        "\n",
        "vectorized_moe_config = PretrainedConfig(\n",
        "    **base_config,\n",
        "    num_experts=4,\n",
        "    capacity_factor=2.0,\n",
        "    num_experts_per_token=2,\n",
        "    ff_cls=VectorizedMoE\n",
        ")\n",
        "\n",
        "train_loader = DataLoader(tokenized_dataset['train'], batch_size=16, shuffle=True)\n",
        "test_loader = DataLoader(tokenized_dataset['test'], batch_size=16, shuffle=False)\n",
        "\n",
        "DEVICE = 'cuda' if torch.cuda.is_available() else 'cpu'\n",
        "model = TransformerClassifier(vectorized_moe_config).to(DEVICE)\n",
        "optimizer = torch.optim.Adam(model.parameters(), lr=5e-5)"
      ],
      "metadata": {
        "id": "FldBJZeewY_J"
      },
      "execution_count": 71,
      "outputs": []
    },
    {
      "cell_type": "code",
      "source": [
        "from tqdm import tqdm\n",
        "\n",
        "NUM_OF_EPOCHS = 20\n",
        "\n",
        "for epoch in range(NUM_OF_EPOCHS):\n",
        "    model.train()\n",
        "    train_progress_bar = tqdm(train_loader, desc=f'Train, Epoch {epoch + 1} / {NUM_OF_EPOCHS}')\n",
        "    running_loss = 0.\n",
        "    for i, batch in enumerate(train_progress_bar):\n",
        "        x, y = batch['input_ids'], batch['label']\n",
        "        x = torch.stack(x, dim=1).to(DEVICE)\n",
        "        y = y.to(DEVICE)\n",
        "        optimizer.zero_grad()\n",
        "        loss = model(x, y)['loss']\n",
        "        loss.backward()\n",
        "        optimizer.step()\n",
        "        running_loss += loss.item()\n",
        "\n",
        "        if i % 10 == 9:\n",
        "            last_loss = running_loss / 10 # avg loss per batch\n",
        "            print('batch {} loss: {}'.format(i + 1, last_loss))\n",
        "            running_loss = 0.\n",
        "\n",
        "    model.eval()\n",
        "    with torch.no_grad():\n",
        "        total_loss = 0\n",
        "        total_samples = 0\n",
        "        correct_samples = 0\n",
        "        test_progress_bar = tqdm(test_loader, desc=f'Test, Epoch {epoch + 1} / {NUM_OF_EPOCHS}')\n",
        "        for batch in test_progress_bar:\n",
        "            x, y = batch['input_ids'], batch['label']\n",
        "            x = torch.stack(x, dim=1).to(DEVICE)\n",
        "            y = y.to(DEVICE)\n",
        "            logits = model(x)['logits']\n",
        "            total_loss += F.cross_entropy(logits, y, reduction='sum').item()\n",
        "            total_samples += y.shape[0]\n",
        "            correct_samples += (logits.argmax(dim=-1) == y).sum().item()\n",
        "\n",
        "        print(f'Epoch {epoch + 1}, loss: {total_loss / total_samples}, accuracy: {correct_samples / total_samples}')"
      ],
      "metadata": {
        "colab": {
          "base_uri": "https://localhost:8080/"
        },
        "id": "j7fON9pHwmKy",
        "outputId": "01b01ddd-c6d5-4347-9317-f57aa1984e32"
      },
      "execution_count": null,
      "outputs": [
        {
          "output_type": "stream",
          "name": "stderr",
          "text": [
            "Train, Epoch 1 / 20:   1%|          | 13/1563 [00:00<01:09, 22.45it/s]"
          ]
        },
        {
          "output_type": "stream",
          "name": "stdout",
          "text": [
            "batch 10 loss: 0.2766726344823837\n"
          ]
        },
        {
          "output_type": "stream",
          "name": "stderr",
          "text": [
            "Train, Epoch 1 / 20:   1%|▏         | 22/1563 [00:00<01:04, 23.91it/s]"
          ]
        },
        {
          "output_type": "stream",
          "name": "stdout",
          "text": [
            "batch 20 loss: 0.2886638596653938\n"
          ]
        },
        {
          "output_type": "stream",
          "name": "stderr",
          "text": [
            "Train, Epoch 1 / 20:   2%|▏         | 34/1563 [00:01<01:02, 24.39it/s]"
          ]
        },
        {
          "output_type": "stream",
          "name": "stdout",
          "text": [
            "batch 30 loss: 0.2591233104467392\n"
          ]
        },
        {
          "output_type": "stream",
          "name": "stderr",
          "text": [
            "Train, Epoch 1 / 20:   3%|▎         | 43/1563 [00:01<01:02, 24.31it/s]"
          ]
        },
        {
          "output_type": "stream",
          "name": "stdout",
          "text": [
            "batch 40 loss: 0.31057392954826357\n"
          ]
        },
        {
          "output_type": "stream",
          "name": "stderr",
          "text": [
            "Train, Epoch 1 / 20:   4%|▎         | 55/1563 [00:02<01:00, 24.83it/s]"
          ]
        },
        {
          "output_type": "stream",
          "name": "stdout",
          "text": [
            "batch 50 loss: 0.3500113531947136\n"
          ]
        },
        {
          "output_type": "stream",
          "name": "stderr",
          "text": [
            "Train, Epoch 1 / 20:   4%|▍         | 64/1563 [00:02<01:00, 24.76it/s]"
          ]
        },
        {
          "output_type": "stream",
          "name": "stdout",
          "text": [
            "batch 60 loss: 0.2743122145533562\n"
          ]
        },
        {
          "output_type": "stream",
          "name": "stderr",
          "text": [
            "Train, Epoch 1 / 20:   5%|▍         | 73/1563 [00:03<01:00, 24.48it/s]"
          ]
        },
        {
          "output_type": "stream",
          "name": "stdout",
          "text": [
            "batch 70 loss: 0.31888297945261\n"
          ]
        },
        {
          "output_type": "stream",
          "name": "stderr",
          "text": [
            "Train, Epoch 1 / 20:   5%|▌         | 85/1563 [00:03<01:00, 24.44it/s]"
          ]
        },
        {
          "output_type": "stream",
          "name": "stdout",
          "text": [
            "batch 80 loss: 0.27324262708425523\n"
          ]
        },
        {
          "output_type": "stream",
          "name": "stderr",
          "text": [
            "Train, Epoch 1 / 20:   6%|▌         | 94/1563 [00:03<00:59, 24.65it/s]"
          ]
        },
        {
          "output_type": "stream",
          "name": "stdout",
          "text": [
            "batch 90 loss: 0.3056113369762897\n"
          ]
        },
        {
          "output_type": "stream",
          "name": "stderr",
          "text": [
            "Train, Epoch 1 / 20:   7%|▋         | 103/1563 [00:04<00:58, 24.82it/s]"
          ]
        },
        {
          "output_type": "stream",
          "name": "stdout",
          "text": [
            "batch 100 loss: 0.3045415073633194\n"
          ]
        },
        {
          "output_type": "stream",
          "name": "stderr",
          "text": [
            "Train, Epoch 1 / 20:   7%|▋         | 115/1563 [00:04<00:58, 24.87it/s]"
          ]
        },
        {
          "output_type": "stream",
          "name": "stdout",
          "text": [
            "batch 110 loss: 0.24308620244264603\n"
          ]
        },
        {
          "output_type": "stream",
          "name": "stderr",
          "text": [
            "Train, Epoch 1 / 20:   8%|▊         | 124/1563 [00:05<00:58, 24.56it/s]"
          ]
        },
        {
          "output_type": "stream",
          "name": "stdout",
          "text": [
            "batch 120 loss: 0.31419908404350283\n"
          ]
        },
        {
          "output_type": "stream",
          "name": "stderr",
          "text": [
            "Train, Epoch 1 / 20:   9%|▊         | 133/1563 [00:05<01:00, 23.67it/s]"
          ]
        },
        {
          "output_type": "stream",
          "name": "stdout",
          "text": [
            "batch 130 loss: 0.26195075958967207\n"
          ]
        },
        {
          "output_type": "stream",
          "name": "stderr",
          "text": [
            "Train, Epoch 1 / 20:   9%|▉         | 142/1563 [00:05<00:59, 23.96it/s]"
          ]
        },
        {
          "output_type": "stream",
          "name": "stdout",
          "text": [
            "batch 140 loss: 0.2512147530913353\n"
          ]
        },
        {
          "output_type": "stream",
          "name": "stderr",
          "text": [
            "Train, Epoch 1 / 20:  10%|▉         | 154/1563 [00:06<00:57, 24.37it/s]"
          ]
        },
        {
          "output_type": "stream",
          "name": "stdout",
          "text": [
            "batch 150 loss: 0.34145334661006926\n"
          ]
        },
        {
          "output_type": "stream",
          "name": "stderr",
          "text": [
            "Train, Epoch 1 / 20:  10%|█         | 163/1563 [00:06<01:01, 22.82it/s]"
          ]
        },
        {
          "output_type": "stream",
          "name": "stdout",
          "text": [
            "batch 160 loss: 0.23814160302281379\n"
          ]
        },
        {
          "output_type": "stream",
          "name": "stderr",
          "text": [
            "Train, Epoch 1 / 20:  11%|█         | 172/1563 [00:07<01:02, 22.23it/s]"
          ]
        },
        {
          "output_type": "stream",
          "name": "stdout",
          "text": [
            "batch 170 loss: 0.39445137456059454\n"
          ]
        },
        {
          "output_type": "stream",
          "name": "stderr",
          "text": [
            "Train, Epoch 1 / 20:  12%|█▏        | 184/1563 [00:07<01:01, 22.40it/s]"
          ]
        },
        {
          "output_type": "stream",
          "name": "stdout",
          "text": [
            "batch 180 loss: 0.2817846015095711\n"
          ]
        },
        {
          "output_type": "stream",
          "name": "stderr",
          "text": [
            "Train, Epoch 1 / 20:  12%|█▏        | 193/1563 [00:08<01:02, 21.76it/s]"
          ]
        },
        {
          "output_type": "stream",
          "name": "stdout",
          "text": [
            "batch 190 loss: 0.4022702813148499\n"
          ]
        },
        {
          "output_type": "stream",
          "name": "stderr",
          "text": [
            "Train, Epoch 1 / 20:  13%|█▎        | 202/1563 [00:08<01:03, 21.55it/s]"
          ]
        },
        {
          "output_type": "stream",
          "name": "stdout",
          "text": [
            "batch 200 loss: 0.2810122758150101\n"
          ]
        },
        {
          "output_type": "stream",
          "name": "stderr",
          "text": [
            "Train, Epoch 1 / 20:  14%|█▎        | 214/1563 [00:09<00:56, 23.88it/s]"
          ]
        },
        {
          "output_type": "stream",
          "name": "stdout",
          "text": [
            "batch 210 loss: 0.36494734287261965\n"
          ]
        },
        {
          "output_type": "stream",
          "name": "stderr",
          "text": [
            "Train, Epoch 1 / 20:  14%|█▍        | 223/1563 [00:09<00:54, 24.66it/s]"
          ]
        },
        {
          "output_type": "stream",
          "name": "stdout",
          "text": [
            "batch 220 loss: 0.29545731395483016\n"
          ]
        },
        {
          "output_type": "stream",
          "name": "stderr",
          "text": [
            "Train, Epoch 1 / 20:  15%|█▍        | 232/1563 [00:09<00:53, 24.71it/s]"
          ]
        },
        {
          "output_type": "stream",
          "name": "stdout",
          "text": [
            "batch 230 loss: 0.42759610116481783\n"
          ]
        },
        {
          "output_type": "stream",
          "name": "stderr",
          "text": [
            "Train, Epoch 1 / 20:  16%|█▌        | 244/1563 [00:10<00:55, 23.76it/s]"
          ]
        },
        {
          "output_type": "stream",
          "name": "stdout",
          "text": [
            "batch 240 loss: 0.3223703056573868\n"
          ]
        },
        {
          "output_type": "stream",
          "name": "stderr",
          "text": [
            "Train, Epoch 1 / 20:  16%|█▌        | 253/1563 [00:10<00:54, 24.23it/s]"
          ]
        },
        {
          "output_type": "stream",
          "name": "stdout",
          "text": [
            "batch 250 loss: 0.3184202089905739\n"
          ]
        },
        {
          "output_type": "stream",
          "name": "stderr",
          "text": [
            "Train, Epoch 1 / 20:  17%|█▋        | 265/1563 [00:11<00:52, 24.55it/s]"
          ]
        },
        {
          "output_type": "stream",
          "name": "stdout",
          "text": [
            "batch 260 loss: 0.3343494340777397\n"
          ]
        },
        {
          "output_type": "stream",
          "name": "stderr",
          "text": [
            "Train, Epoch 1 / 20:  18%|█▊        | 274/1563 [00:11<00:53, 24.27it/s]"
          ]
        },
        {
          "output_type": "stream",
          "name": "stdout",
          "text": [
            "batch 270 loss: 0.292835907638073\n"
          ]
        },
        {
          "output_type": "stream",
          "name": "stderr",
          "text": [
            "Train, Epoch 1 / 20:  18%|█▊        | 283/1563 [00:11<00:52, 24.41it/s]"
          ]
        },
        {
          "output_type": "stream",
          "name": "stdout",
          "text": [
            "batch 280 loss: 0.3518767774105072\n"
          ]
        },
        {
          "output_type": "stream",
          "name": "stderr",
          "text": [
            "Train, Epoch 1 / 20:  19%|█▉        | 295/1563 [00:12<00:51, 24.39it/s]"
          ]
        },
        {
          "output_type": "stream",
          "name": "stdout",
          "text": [
            "batch 290 loss: 0.36021568477153776\n"
          ]
        },
        {
          "output_type": "stream",
          "name": "stderr",
          "text": [
            "Train, Epoch 1 / 20:  19%|█▉        | 304/1563 [00:12<00:51, 24.34it/s]"
          ]
        },
        {
          "output_type": "stream",
          "name": "stdout",
          "text": [
            "batch 300 loss: 0.37414331883192065\n"
          ]
        },
        {
          "output_type": "stream",
          "name": "stderr",
          "text": [
            "Train, Epoch 1 / 20:  20%|██        | 313/1563 [00:13<00:51, 24.12it/s]"
          ]
        },
        {
          "output_type": "stream",
          "name": "stdout",
          "text": [
            "batch 310 loss: 0.29714060574769974\n"
          ]
        },
        {
          "output_type": "stream",
          "name": "stderr",
          "text": [
            "Train, Epoch 1 / 20:  21%|██        | 322/1563 [00:13<00:50, 24.49it/s]"
          ]
        },
        {
          "output_type": "stream",
          "name": "stdout",
          "text": [
            "batch 320 loss: 0.3030294470489025\n"
          ]
        },
        {
          "output_type": "stream",
          "name": "stderr",
          "text": [
            "Train, Epoch 1 / 20:  21%|██▏       | 334/1563 [00:13<00:50, 24.30it/s]"
          ]
        },
        {
          "output_type": "stream",
          "name": "stdout",
          "text": [
            "batch 330 loss: 0.3300422117114067\n"
          ]
        },
        {
          "output_type": "stream",
          "name": "stderr",
          "text": [
            "Train, Epoch 1 / 20:  22%|██▏       | 343/1563 [00:14<00:49, 24.60it/s]"
          ]
        },
        {
          "output_type": "stream",
          "name": "stdout",
          "text": [
            "batch 340 loss: 0.38443803191185\n"
          ]
        },
        {
          "output_type": "stream",
          "name": "stderr",
          "text": [
            "Train, Epoch 1 / 20:  23%|██▎       | 355/1563 [00:14<00:48, 24.67it/s]"
          ]
        },
        {
          "output_type": "stream",
          "name": "stdout",
          "text": [
            "batch 350 loss: 0.4077755518257618\n"
          ]
        },
        {
          "output_type": "stream",
          "name": "stderr",
          "text": [
            "Train, Epoch 1 / 20:  23%|██▎       | 364/1563 [00:15<00:49, 24.18it/s]"
          ]
        },
        {
          "output_type": "stream",
          "name": "stdout",
          "text": [
            "batch 360 loss: 0.31590947061777114\n"
          ]
        },
        {
          "output_type": "stream",
          "name": "stderr",
          "text": [
            "Train, Epoch 1 / 20:  24%|██▍       | 373/1563 [00:15<00:49, 24.01it/s]"
          ]
        },
        {
          "output_type": "stream",
          "name": "stdout",
          "text": [
            "batch 370 loss: 0.33724630028009417\n"
          ]
        },
        {
          "output_type": "stream",
          "name": "stderr",
          "text": [
            "Train, Epoch 1 / 20:  25%|██▍       | 385/1563 [00:16<00:48, 24.42it/s]"
          ]
        },
        {
          "output_type": "stream",
          "name": "stdout",
          "text": [
            "batch 380 loss: 0.33660186976194384\n"
          ]
        },
        {
          "output_type": "stream",
          "name": "stderr",
          "text": [
            "Train, Epoch 1 / 20:  25%|██▌       | 394/1563 [00:16<00:48, 24.33it/s]"
          ]
        },
        {
          "output_type": "stream",
          "name": "stdout",
          "text": [
            "batch 390 loss: 0.29330799765884874\n"
          ]
        },
        {
          "output_type": "stream",
          "name": "stderr",
          "text": [
            "Train, Epoch 1 / 20:  26%|██▌       | 403/1563 [00:16<00:47, 24.20it/s]"
          ]
        },
        {
          "output_type": "stream",
          "name": "stdout",
          "text": [
            "batch 400 loss: 0.26153324246406556\n"
          ]
        },
        {
          "output_type": "stream",
          "name": "stderr",
          "text": [
            "Train, Epoch 1 / 20:  26%|██▋       | 412/1563 [00:17<00:48, 23.93it/s]"
          ]
        },
        {
          "output_type": "stream",
          "name": "stdout",
          "text": [
            "batch 410 loss: 0.30333126783370973\n"
          ]
        },
        {
          "output_type": "stream",
          "name": "stderr",
          "text": [
            "Train, Epoch 1 / 20:  27%|██▋       | 424/1563 [00:17<00:47, 24.08it/s]"
          ]
        },
        {
          "output_type": "stream",
          "name": "stdout",
          "text": [
            "batch 420 loss: 0.4021012201905251\n"
          ]
        },
        {
          "output_type": "stream",
          "name": "stderr",
          "text": [
            "Train, Epoch 1 / 20:  28%|██▊       | 433/1563 [00:18<00:46, 24.30it/s]"
          ]
        },
        {
          "output_type": "stream",
          "name": "stdout",
          "text": [
            "batch 430 loss: 0.3447847247123718\n"
          ]
        },
        {
          "output_type": "stream",
          "name": "stderr",
          "text": [
            "Train, Epoch 1 / 20:  28%|██▊       | 442/1563 [00:18<00:45, 24.49it/s]"
          ]
        },
        {
          "output_type": "stream",
          "name": "stdout",
          "text": [
            "batch 440 loss: 0.3137070268392563\n"
          ]
        },
        {
          "output_type": "stream",
          "name": "stderr",
          "text": [
            "Train, Epoch 1 / 20:  29%|██▉       | 454/1563 [00:18<00:49, 22.38it/s]"
          ]
        },
        {
          "output_type": "stream",
          "name": "stdout",
          "text": [
            "batch 450 loss: 0.3252694010734558\n"
          ]
        },
        {
          "output_type": "stream",
          "name": "stderr",
          "text": [
            "Train, Epoch 1 / 20:  30%|██▉       | 463/1563 [00:19<00:51, 21.45it/s]"
          ]
        },
        {
          "output_type": "stream",
          "name": "stdout",
          "text": [
            "batch 460 loss: 0.2519796349108219\n"
          ]
        },
        {
          "output_type": "stream",
          "name": "stderr",
          "text": [
            "Train, Epoch 1 / 20:  30%|███       | 472/1563 [00:19<00:50, 21.71it/s]"
          ]
        },
        {
          "output_type": "stream",
          "name": "stdout",
          "text": [
            "batch 470 loss: 0.3557786226272583\n"
          ]
        },
        {
          "output_type": "stream",
          "name": "stderr",
          "text": [
            "Train, Epoch 1 / 20:  31%|███       | 484/1563 [00:20<00:49, 21.92it/s]"
          ]
        },
        {
          "output_type": "stream",
          "name": "stdout",
          "text": [
            "batch 480 loss: 0.3171763889491558\n"
          ]
        },
        {
          "output_type": "stream",
          "name": "stderr",
          "text": [
            "Train, Epoch 1 / 20:  32%|███▏      | 493/1563 [00:20<00:46, 22.87it/s]"
          ]
        },
        {
          "output_type": "stream",
          "name": "stdout",
          "text": [
            "batch 490 loss: 0.37291503995656966\n"
          ]
        },
        {
          "output_type": "stream",
          "name": "stderr",
          "text": [
            "Train, Epoch 1 / 20:  32%|███▏      | 505/1563 [00:21<00:43, 24.33it/s]"
          ]
        },
        {
          "output_type": "stream",
          "name": "stdout",
          "text": [
            "batch 500 loss: 0.30247472822666166\n"
          ]
        },
        {
          "output_type": "stream",
          "name": "stderr",
          "text": [
            "Train, Epoch 1 / 20:  33%|███▎      | 514/1563 [00:21<00:42, 24.67it/s]"
          ]
        },
        {
          "output_type": "stream",
          "name": "stdout",
          "text": [
            "batch 510 loss: 0.3437381699681282\n"
          ]
        },
        {
          "output_type": "stream",
          "name": "stderr",
          "text": [
            "Train, Epoch 1 / 20:  33%|███▎      | 523/1563 [00:21<00:42, 24.72it/s]"
          ]
        },
        {
          "output_type": "stream",
          "name": "stdout",
          "text": [
            "batch 520 loss: 0.44994084537029266\n"
          ]
        },
        {
          "output_type": "stream",
          "name": "stderr",
          "text": [
            "Train, Epoch 1 / 20:  34%|███▍      | 535/1563 [00:22<00:41, 24.71it/s]"
          ]
        },
        {
          "output_type": "stream",
          "name": "stdout",
          "text": [
            "batch 530 loss: 0.2904044911265373\n"
          ]
        },
        {
          "output_type": "stream",
          "name": "stderr",
          "text": [
            "Train, Epoch 1 / 20:  35%|███▍      | 544/1563 [00:22<00:41, 24.73it/s]"
          ]
        },
        {
          "output_type": "stream",
          "name": "stdout",
          "text": [
            "batch 540 loss: 0.39033285826444625\n"
          ]
        },
        {
          "output_type": "stream",
          "name": "stderr",
          "text": [
            "Train, Epoch 1 / 20:  35%|███▌      | 553/1563 [00:23<00:40, 24.77it/s]"
          ]
        },
        {
          "output_type": "stream",
          "name": "stdout",
          "text": [
            "batch 550 loss: 0.2542389616370201\n"
          ]
        },
        {
          "output_type": "stream",
          "name": "stderr",
          "text": [
            "Train, Epoch 1 / 20:  36%|███▌      | 565/1563 [00:23<00:40, 24.78it/s]"
          ]
        },
        {
          "output_type": "stream",
          "name": "stdout",
          "text": [
            "batch 560 loss: 0.34379192516207696\n"
          ]
        },
        {
          "output_type": "stream",
          "name": "stderr",
          "text": [
            "Train, Epoch 1 / 20:  37%|███▋      | 574/1563 [00:24<00:39, 24.81it/s]"
          ]
        },
        {
          "output_type": "stream",
          "name": "stdout",
          "text": [
            "batch 570 loss: 0.2881782576441765\n"
          ]
        },
        {
          "output_type": "stream",
          "name": "stderr",
          "text": [
            "Train, Epoch 1 / 20:  37%|███▋      | 583/1563 [00:24<00:40, 24.45it/s]"
          ]
        },
        {
          "output_type": "stream",
          "name": "stdout",
          "text": [
            "batch 580 loss: 0.2934445276856422\n"
          ]
        },
        {
          "output_type": "stream",
          "name": "stderr",
          "text": [
            "Train, Epoch 1 / 20:  38%|███▊      | 595/1563 [00:24<00:39, 24.82it/s]"
          ]
        },
        {
          "output_type": "stream",
          "name": "stdout",
          "text": [
            "batch 590 loss: 0.2998204782605171\n"
          ]
        },
        {
          "output_type": "stream",
          "name": "stderr",
          "text": [
            "Train, Epoch 1 / 20:  39%|███▊      | 604/1563 [00:25<00:38, 24.70it/s]"
          ]
        },
        {
          "output_type": "stream",
          "name": "stdout",
          "text": [
            "batch 600 loss: 0.35171882808208466\n"
          ]
        },
        {
          "output_type": "stream",
          "name": "stderr",
          "text": [
            "Train, Epoch 1 / 20:  39%|███▉      | 613/1563 [00:25<00:38, 24.54it/s]"
          ]
        },
        {
          "output_type": "stream",
          "name": "stdout",
          "text": [
            "batch 610 loss: 0.2853461816906929\n"
          ]
        },
        {
          "output_type": "stream",
          "name": "stderr",
          "text": [
            "Train, Epoch 1 / 20:  40%|███▉      | 625/1563 [00:26<00:37, 24.78it/s]"
          ]
        },
        {
          "output_type": "stream",
          "name": "stdout",
          "text": [
            "batch 620 loss: 0.31939870715141294\n"
          ]
        },
        {
          "output_type": "stream",
          "name": "stderr",
          "text": [
            "Train, Epoch 1 / 20:  41%|████      | 634/1563 [00:26<00:37, 24.58it/s]"
          ]
        },
        {
          "output_type": "stream",
          "name": "stdout",
          "text": [
            "batch 630 loss: 0.3280961111187935\n"
          ]
        },
        {
          "output_type": "stream",
          "name": "stderr",
          "text": [
            "Train, Epoch 1 / 20:  41%|████      | 643/1563 [00:26<00:37, 24.70it/s]"
          ]
        },
        {
          "output_type": "stream",
          "name": "stdout",
          "text": [
            "batch 640 loss: 0.2877744801342487\n"
          ]
        },
        {
          "output_type": "stream",
          "name": "stderr",
          "text": [
            "Train, Epoch 1 / 20:  42%|████▏     | 655/1563 [00:27<00:36, 24.69it/s]"
          ]
        },
        {
          "output_type": "stream",
          "name": "stdout",
          "text": [
            "batch 650 loss: 0.29163185358047483\n"
          ]
        },
        {
          "output_type": "stream",
          "name": "stderr",
          "text": [
            "Train, Epoch 1 / 20:  42%|████▏     | 664/1563 [00:27<00:36, 24.65it/s]"
          ]
        },
        {
          "output_type": "stream",
          "name": "stdout",
          "text": [
            "batch 660 loss: 0.2868714764714241\n"
          ]
        },
        {
          "output_type": "stream",
          "name": "stderr",
          "text": [
            "Train, Epoch 1 / 20:  43%|████▎     | 673/1563 [00:28<00:35, 24.73it/s]"
          ]
        },
        {
          "output_type": "stream",
          "name": "stdout",
          "text": [
            "batch 670 loss: 0.2774727404117584\n"
          ]
        },
        {
          "output_type": "stream",
          "name": "stderr",
          "text": [
            "Train, Epoch 1 / 20:  44%|████▎     | 682/1563 [00:28<00:35, 24.64it/s]"
          ]
        },
        {
          "output_type": "stream",
          "name": "stdout",
          "text": [
            "batch 680 loss: 0.44333207979798317\n"
          ]
        },
        {
          "output_type": "stream",
          "name": "stderr",
          "text": [
            "Train, Epoch 1 / 20:  44%|████▍     | 694/1563 [00:28<00:35, 24.75it/s]"
          ]
        },
        {
          "output_type": "stream",
          "name": "stdout",
          "text": [
            "batch 690 loss: 0.4046535685658455\n"
          ]
        },
        {
          "output_type": "stream",
          "name": "stderr",
          "text": [
            "Train, Epoch 1 / 20:  45%|████▍     | 703/1563 [00:29<00:34, 24.85it/s]"
          ]
        },
        {
          "output_type": "stream",
          "name": "stdout",
          "text": [
            "batch 700 loss: 0.35405546277761457\n"
          ]
        },
        {
          "output_type": "stream",
          "name": "stderr",
          "text": [
            "Train, Epoch 1 / 20:  46%|████▌     | 715/1563 [00:29<00:34, 24.74it/s]"
          ]
        },
        {
          "output_type": "stream",
          "name": "stdout",
          "text": [
            "batch 710 loss: 0.3324707716703415\n"
          ]
        },
        {
          "output_type": "stream",
          "name": "stderr",
          "text": [
            "Train, Epoch 1 / 20:  46%|████▋     | 724/1563 [00:30<00:33, 24.75it/s]"
          ]
        },
        {
          "output_type": "stream",
          "name": "stdout",
          "text": [
            "batch 720 loss: 0.4097690463066101\n"
          ]
        },
        {
          "output_type": "stream",
          "name": "stderr",
          "text": [
            "Train, Epoch 1 / 20:  47%|████▋     | 733/1563 [00:30<00:33, 24.55it/s]"
          ]
        },
        {
          "output_type": "stream",
          "name": "stdout",
          "text": [
            "batch 730 loss: 0.33953007832169535\n"
          ]
        },
        {
          "output_type": "stream",
          "name": "stderr",
          "text": [
            "Train, Epoch 1 / 20:  47%|████▋     | 742/1563 [00:30<00:35, 23.42it/s]"
          ]
        },
        {
          "output_type": "stream",
          "name": "stdout",
          "text": [
            "batch 740 loss: 0.40621945410966875\n"
          ]
        },
        {
          "output_type": "stream",
          "name": "stderr",
          "text": [
            "Train, Epoch 1 / 20:  48%|████▊     | 754/1563 [00:31<00:35, 22.51it/s]"
          ]
        },
        {
          "output_type": "stream",
          "name": "stdout",
          "text": [
            "batch 750 loss: 0.2905574679374695\n"
          ]
        },
        {
          "output_type": "stream",
          "name": "stderr",
          "text": [
            "Train, Epoch 1 / 20:  49%|████▉     | 763/1563 [00:31<00:36, 21.97it/s]"
          ]
        },
        {
          "output_type": "stream",
          "name": "stdout",
          "text": [
            "batch 760 loss: 0.3054989829659462\n"
          ]
        },
        {
          "output_type": "stream",
          "name": "stderr",
          "text": [
            "Train, Epoch 1 / 20:  49%|████▉     | 772/1563 [00:32<00:36, 21.67it/s]"
          ]
        },
        {
          "output_type": "stream",
          "name": "stdout",
          "text": [
            "batch 770 loss: 0.375459697842598\n"
          ]
        },
        {
          "output_type": "stream",
          "name": "stderr",
          "text": [
            "Train, Epoch 1 / 20:  50%|█████     | 784/1563 [00:32<00:34, 22.75it/s]"
          ]
        },
        {
          "output_type": "stream",
          "name": "stdout",
          "text": [
            "batch 780 loss: 0.351295205950737\n"
          ]
        },
        {
          "output_type": "stream",
          "name": "stderr",
          "text": [
            "Train, Epoch 1 / 20:  51%|█████     | 793/1563 [00:33<00:31, 24.08it/s]"
          ]
        },
        {
          "output_type": "stream",
          "name": "stdout",
          "text": [
            "batch 790 loss: 0.3416846811771393\n"
          ]
        },
        {
          "output_type": "stream",
          "name": "stderr",
          "text": [
            "Train, Epoch 1 / 20:  52%|█████▏    | 805/1563 [00:33<00:30, 24.61it/s]"
          ]
        },
        {
          "output_type": "stream",
          "name": "stdout",
          "text": [
            "batch 800 loss: 0.2914705917239189\n"
          ]
        },
        {
          "output_type": "stream",
          "name": "stderr",
          "text": [
            "Train, Epoch 1 / 20:  52%|█████▏    | 814/1563 [00:33<00:30, 24.75it/s]"
          ]
        },
        {
          "output_type": "stream",
          "name": "stdout",
          "text": [
            "batch 810 loss: 0.3629662379622459\n"
          ]
        },
        {
          "output_type": "stream",
          "name": "stderr",
          "text": [
            "Train, Epoch 1 / 20:  53%|█████▎    | 823/1563 [00:34<00:30, 24.59it/s]"
          ]
        },
        {
          "output_type": "stream",
          "name": "stdout",
          "text": [
            "batch 820 loss: 0.32235144823789597\n"
          ]
        },
        {
          "output_type": "stream",
          "name": "stderr",
          "text": [
            "Train, Epoch 1 / 20:  53%|█████▎    | 835/1563 [00:34<00:29, 24.75it/s]"
          ]
        },
        {
          "output_type": "stream",
          "name": "stdout",
          "text": [
            "batch 830 loss: 0.36822804510593415\n"
          ]
        },
        {
          "output_type": "stream",
          "name": "stderr",
          "text": [
            "Train, Epoch 1 / 20:  54%|█████▍    | 844/1563 [00:35<00:29, 24.79it/s]"
          ]
        },
        {
          "output_type": "stream",
          "name": "stdout",
          "text": [
            "batch 840 loss: 0.28015346080064774\n"
          ]
        },
        {
          "output_type": "stream",
          "name": "stderr",
          "text": [
            "Train, Epoch 1 / 20:  55%|█████▍    | 853/1563 [00:35<00:28, 24.70it/s]"
          ]
        },
        {
          "output_type": "stream",
          "name": "stdout",
          "text": [
            "batch 850 loss: 0.3456715628504753\n"
          ]
        },
        {
          "output_type": "stream",
          "name": "stderr",
          "text": [
            "Train, Epoch 1 / 20:  55%|█████▌    | 865/1563 [00:36<00:28, 24.76it/s]"
          ]
        },
        {
          "output_type": "stream",
          "name": "stdout",
          "text": [
            "batch 860 loss: 0.32784459441900254\n"
          ]
        },
        {
          "output_type": "stream",
          "name": "stderr",
          "text": [
            "Train, Epoch 1 / 20:  56%|█████▌    | 874/1563 [00:36<00:27, 24.83it/s]"
          ]
        },
        {
          "output_type": "stream",
          "name": "stdout",
          "text": [
            "batch 870 loss: 0.26245655566453935\n"
          ]
        },
        {
          "output_type": "stream",
          "name": "stderr",
          "text": [
            "Train, Epoch 1 / 20:  56%|█████▋    | 883/1563 [00:36<00:27, 24.75it/s]"
          ]
        },
        {
          "output_type": "stream",
          "name": "stdout",
          "text": [
            "batch 880 loss: 0.3034244626760483\n"
          ]
        },
        {
          "output_type": "stream",
          "name": "stderr",
          "text": [
            "Train, Epoch 1 / 20:  57%|█████▋    | 895/1563 [00:37<00:26, 24.78it/s]"
          ]
        },
        {
          "output_type": "stream",
          "name": "stdout",
          "text": [
            "batch 890 loss: 0.28563610315322874\n"
          ]
        },
        {
          "output_type": "stream",
          "name": "stderr",
          "text": [
            "Train, Epoch 1 / 20:  58%|█████▊    | 904/1563 [00:37<00:26, 25.01it/s]"
          ]
        },
        {
          "output_type": "stream",
          "name": "stdout",
          "text": [
            "batch 900 loss: 0.2823440782725811\n"
          ]
        },
        {
          "output_type": "stream",
          "name": "stderr",
          "text": [
            "Train, Epoch 1 / 20:  58%|█████▊    | 913/1563 [00:37<00:25, 25.24it/s]"
          ]
        },
        {
          "output_type": "stream",
          "name": "stdout",
          "text": [
            "batch 910 loss: 0.3564406827092171\n"
          ]
        },
        {
          "output_type": "stream",
          "name": "stderr",
          "text": [
            "Train, Epoch 1 / 20:  59%|█████▉    | 925/1563 [00:38<00:25, 24.74it/s]"
          ]
        },
        {
          "output_type": "stream",
          "name": "stdout",
          "text": [
            "batch 920 loss: 0.3407641306519508\n"
          ]
        },
        {
          "output_type": "stream",
          "name": "stderr",
          "text": [
            "Train, Epoch 1 / 20:  60%|█████▉    | 934/1563 [00:38<00:25, 24.37it/s]"
          ]
        },
        {
          "output_type": "stream",
          "name": "stdout",
          "text": [
            "batch 930 loss: 0.352698228508234\n"
          ]
        },
        {
          "output_type": "stream",
          "name": "stderr",
          "text": [
            "Train, Epoch 1 / 20:  60%|██████    | 943/1563 [00:39<00:24, 24.82it/s]"
          ]
        },
        {
          "output_type": "stream",
          "name": "stdout",
          "text": [
            "batch 940 loss: 0.3675050035119057\n"
          ]
        },
        {
          "output_type": "stream",
          "name": "stderr",
          "text": [
            "Train, Epoch 1 / 20:  61%|██████    | 955/1563 [00:39<00:24, 24.83it/s]"
          ]
        },
        {
          "output_type": "stream",
          "name": "stdout",
          "text": [
            "batch 950 loss: 0.27464827969670297\n"
          ]
        },
        {
          "output_type": "stream",
          "name": "stderr",
          "text": [
            "Train, Epoch 1 / 20:  62%|██████▏   | 964/1563 [00:40<00:24, 24.83it/s]"
          ]
        },
        {
          "output_type": "stream",
          "name": "stdout",
          "text": [
            "batch 960 loss: 0.2873018652200699\n"
          ]
        },
        {
          "output_type": "stream",
          "name": "stderr",
          "text": [
            "Train, Epoch 1 / 20:  62%|██████▏   | 973/1563 [00:40<00:23, 24.75it/s]"
          ]
        },
        {
          "output_type": "stream",
          "name": "stdout",
          "text": [
            "batch 970 loss: 0.3153077095746994\n"
          ]
        },
        {
          "output_type": "stream",
          "name": "stderr",
          "text": [
            "Train, Epoch 1 / 20:  63%|██████▎   | 982/1563 [00:40<00:23, 24.60it/s]"
          ]
        },
        {
          "output_type": "stream",
          "name": "stdout",
          "text": [
            "batch 980 loss: 0.36649033725261687\n"
          ]
        },
        {
          "output_type": "stream",
          "name": "stderr",
          "text": [
            "Train, Epoch 1 / 20:  64%|██████▎   | 994/1563 [00:41<00:23, 24.13it/s]"
          ]
        },
        {
          "output_type": "stream",
          "name": "stdout",
          "text": [
            "batch 990 loss: 0.29108971506357195\n"
          ]
        },
        {
          "output_type": "stream",
          "name": "stderr",
          "text": [
            "Train, Epoch 1 / 20:  64%|██████▍   | 1003/1563 [00:41<00:22, 24.55it/s]"
          ]
        },
        {
          "output_type": "stream",
          "name": "stdout",
          "text": [
            "batch 1000 loss: 0.35753636360168456\n"
          ]
        },
        {
          "output_type": "stream",
          "name": "stderr",
          "text": [
            "Train, Epoch 1 / 20:  65%|██████▍   | 1015/1563 [00:42<00:22, 24.57it/s]"
          ]
        },
        {
          "output_type": "stream",
          "name": "stdout",
          "text": [
            "batch 1010 loss: 0.42950029149651525\n"
          ]
        },
        {
          "output_type": "stream",
          "name": "stderr",
          "text": [
            "Train, Epoch 1 / 20:  66%|██████▌   | 1024/1563 [00:42<00:21, 24.90it/s]"
          ]
        },
        {
          "output_type": "stream",
          "name": "stdout",
          "text": [
            "batch 1020 loss: 0.27509209886193275\n"
          ]
        },
        {
          "output_type": "stream",
          "name": "stderr",
          "text": [
            "Train, Epoch 1 / 20:  66%|██████▌   | 1033/1563 [00:42<00:23, 22.23it/s]"
          ]
        },
        {
          "output_type": "stream",
          "name": "stdout",
          "text": [
            "batch 1030 loss: 0.3305599108338356\n"
          ]
        },
        {
          "output_type": "stream",
          "name": "stderr",
          "text": [
            "Train, Epoch 1 / 20:  67%|██████▋   | 1042/1563 [00:43<00:23, 21.73it/s]"
          ]
        },
        {
          "output_type": "stream",
          "name": "stdout",
          "text": [
            "batch 1040 loss: 0.3274805977940559\n"
          ]
        },
        {
          "output_type": "stream",
          "name": "stderr",
          "text": [
            "Train, Epoch 1 / 20:  67%|██████▋   | 1054/1563 [00:43<00:23, 22.04it/s]"
          ]
        },
        {
          "output_type": "stream",
          "name": "stdout",
          "text": [
            "batch 1050 loss: 0.29462156891822816\n"
          ]
        },
        {
          "output_type": "stream",
          "name": "stderr",
          "text": [
            "Train, Epoch 1 / 20:  68%|██████▊   | 1063/1563 [00:44<00:22, 21.78it/s]"
          ]
        },
        {
          "output_type": "stream",
          "name": "stdout",
          "text": [
            "batch 1060 loss: 0.3430894359946251\n"
          ]
        },
        {
          "output_type": "stream",
          "name": "stderr",
          "text": [
            "Train, Epoch 1 / 20:  69%|██████▊   | 1072/1563 [00:44<00:22, 21.61it/s]"
          ]
        },
        {
          "output_type": "stream",
          "name": "stdout",
          "text": [
            "batch 1070 loss: 0.3668249696493149\n"
          ]
        },
        {
          "output_type": "stream",
          "name": "stderr",
          "text": [
            "Train, Epoch 1 / 20:  69%|██████▉   | 1084/1563 [00:45<00:20, 23.80it/s]"
          ]
        },
        {
          "output_type": "stream",
          "name": "stdout",
          "text": [
            "batch 1080 loss: 0.36558069586753844\n"
          ]
        },
        {
          "output_type": "stream",
          "name": "stderr",
          "text": [
            "Train, Epoch 1 / 20:  70%|██████▉   | 1093/1563 [00:45<00:19, 24.33it/s]"
          ]
        },
        {
          "output_type": "stream",
          "name": "stdout",
          "text": [
            "batch 1090 loss: 0.3599484711885452\n"
          ]
        },
        {
          "output_type": "stream",
          "name": "stderr",
          "text": [
            "Train, Epoch 1 / 20:  71%|███████   | 1102/1563 [00:45<00:19, 24.06it/s]"
          ]
        },
        {
          "output_type": "stream",
          "name": "stdout",
          "text": [
            "batch 1100 loss: 0.271943187713623\n"
          ]
        },
        {
          "output_type": "stream",
          "name": "stderr",
          "text": [
            "Train, Epoch 1 / 20:  71%|███████▏  | 1114/1563 [00:46<00:18, 24.82it/s]"
          ]
        },
        {
          "output_type": "stream",
          "name": "stdout",
          "text": [
            "batch 1110 loss: 0.33389376997947695\n"
          ]
        },
        {
          "output_type": "stream",
          "name": "stderr",
          "text": [
            "Train, Epoch 1 / 20:  72%|███████▏  | 1123/1563 [00:46<00:17, 24.90it/s]"
          ]
        },
        {
          "output_type": "stream",
          "name": "stdout",
          "text": [
            "batch 1120 loss: 0.26954945623874665\n"
          ]
        },
        {
          "output_type": "stream",
          "name": "stderr",
          "text": [
            "Train, Epoch 1 / 20:  72%|███████▏  | 1132/1563 [00:47<00:17, 24.68it/s]"
          ]
        },
        {
          "output_type": "stream",
          "name": "stdout",
          "text": [
            "batch 1130 loss: 0.30702722668647764\n"
          ]
        },
        {
          "output_type": "stream",
          "name": "stderr",
          "text": [
            "Train, Epoch 1 / 20:  73%|███████▎  | 1144/1563 [00:47<00:17, 24.41it/s]"
          ]
        },
        {
          "output_type": "stream",
          "name": "stdout",
          "text": [
            "batch 1140 loss: 0.37493381053209307\n"
          ]
        },
        {
          "output_type": "stream",
          "name": "stderr",
          "text": [
            "Train, Epoch 1 / 20:  74%|███████▍  | 1153/1563 [00:48<00:16, 24.44it/s]"
          ]
        },
        {
          "output_type": "stream",
          "name": "stdout",
          "text": [
            "batch 1150 loss: 0.30817201137542727\n"
          ]
        },
        {
          "output_type": "stream",
          "name": "stderr",
          "text": [
            "Train, Epoch 1 / 20:  75%|███████▍  | 1165/1563 [00:48<00:16, 24.76it/s]"
          ]
        },
        {
          "output_type": "stream",
          "name": "stdout",
          "text": [
            "batch 1160 loss: 0.35261841118335724\n"
          ]
        },
        {
          "output_type": "stream",
          "name": "stderr",
          "text": [
            "Train, Epoch 1 / 20:  75%|███████▌  | 1174/1563 [00:48<00:15, 25.07it/s]"
          ]
        },
        {
          "output_type": "stream",
          "name": "stdout",
          "text": [
            "batch 1170 loss: 0.3860779538750648\n"
          ]
        },
        {
          "output_type": "stream",
          "name": "stderr",
          "text": [
            "Train, Epoch 1 / 20:  76%|███████▌  | 1183/1563 [00:49<00:15, 24.82it/s]"
          ]
        },
        {
          "output_type": "stream",
          "name": "stdout",
          "text": [
            "batch 1180 loss: 0.37089347243309023\n"
          ]
        },
        {
          "output_type": "stream",
          "name": "stderr",
          "text": [
            "Train, Epoch 1 / 20:  76%|███████▋  | 1195/1563 [00:49<00:14, 24.57it/s]"
          ]
        },
        {
          "output_type": "stream",
          "name": "stdout",
          "text": [
            "batch 1190 loss: 0.3613490015268326\n"
          ]
        },
        {
          "output_type": "stream",
          "name": "stderr",
          "text": [
            "Train, Epoch 1 / 20:  77%|███████▋  | 1204/1563 [00:50<00:14, 24.62it/s]"
          ]
        },
        {
          "output_type": "stream",
          "name": "stdout",
          "text": [
            "batch 1200 loss: 0.33307394534349444\n"
          ]
        },
        {
          "output_type": "stream",
          "name": "stderr",
          "text": [
            "Train, Epoch 1 / 20:  78%|███████▊  | 1213/1563 [00:50<00:14, 24.87it/s]"
          ]
        },
        {
          "output_type": "stream",
          "name": "stdout",
          "text": [
            "batch 1210 loss: 0.24489504098892212\n"
          ]
        },
        {
          "output_type": "stream",
          "name": "stderr",
          "text": [
            "Train, Epoch 1 / 20:  78%|███████▊  | 1225/1563 [00:50<00:13, 24.82it/s]"
          ]
        },
        {
          "output_type": "stream",
          "name": "stdout",
          "text": [
            "batch 1220 loss: 0.28318401277065275\n"
          ]
        },
        {
          "output_type": "stream",
          "name": "stderr",
          "text": [
            "Train, Epoch 1 / 20:  79%|███████▉  | 1234/1563 [00:51<00:13, 24.55it/s]"
          ]
        },
        {
          "output_type": "stream",
          "name": "stdout",
          "text": [
            "batch 1230 loss: 0.34165955856442454\n"
          ]
        },
        {
          "output_type": "stream",
          "name": "stderr",
          "text": [
            "Train, Epoch 1 / 20:  80%|███████▉  | 1243/1563 [00:51<00:12, 24.71it/s]"
          ]
        },
        {
          "output_type": "stream",
          "name": "stdout",
          "text": [
            "batch 1240 loss: 0.2905297502875328\n"
          ]
        },
        {
          "output_type": "stream",
          "name": "stderr",
          "text": [
            "Train, Epoch 1 / 20:  80%|████████  | 1255/1563 [00:52<00:12, 24.73it/s]"
          ]
        },
        {
          "output_type": "stream",
          "name": "stdout",
          "text": [
            "batch 1250 loss: 0.49748715162277224\n"
          ]
        },
        {
          "output_type": "stream",
          "name": "stderr",
          "text": [
            "Train, Epoch 1 / 20:  81%|████████  | 1264/1563 [00:52<00:12, 24.54it/s]"
          ]
        },
        {
          "output_type": "stream",
          "name": "stdout",
          "text": [
            "batch 1260 loss: 0.38706188797950747\n"
          ]
        },
        {
          "output_type": "stream",
          "name": "stderr",
          "text": [
            "Train, Epoch 1 / 20:  81%|████████▏ | 1273/1563 [00:52<00:11, 24.55it/s]"
          ]
        },
        {
          "output_type": "stream",
          "name": "stdout",
          "text": [
            "batch 1270 loss: 0.3975639700889587\n"
          ]
        },
        {
          "output_type": "stream",
          "name": "stderr",
          "text": [
            "Train, Epoch 1 / 20:  82%|████████▏ | 1285/1563 [00:53<00:11, 24.81it/s]"
          ]
        },
        {
          "output_type": "stream",
          "name": "stdout",
          "text": [
            "batch 1280 loss: 0.3620395168662071\n"
          ]
        },
        {
          "output_type": "stream",
          "name": "stderr",
          "text": [
            "Train, Epoch 1 / 20:  83%|████████▎ | 1294/1563 [00:53<00:10, 24.87it/s]"
          ]
        },
        {
          "output_type": "stream",
          "name": "stdout",
          "text": [
            "batch 1290 loss: 0.4437989205121994\n"
          ]
        },
        {
          "output_type": "stream",
          "name": "stderr",
          "text": [
            "Train, Epoch 1 / 20:  83%|████████▎ | 1303/1563 [00:54<00:10, 24.75it/s]"
          ]
        },
        {
          "output_type": "stream",
          "name": "stdout",
          "text": [
            "batch 1300 loss: 0.33056831285357474\n"
          ]
        },
        {
          "output_type": "stream",
          "name": "stderr",
          "text": [
            "Train, Epoch 1 / 20:  84%|████████▍ | 1312/1563 [00:54<00:10, 24.41it/s]"
          ]
        },
        {
          "output_type": "stream",
          "name": "stdout",
          "text": [
            "batch 1310 loss: 0.320328451693058\n"
          ]
        },
        {
          "output_type": "stream",
          "name": "stderr",
          "text": [
            "Train, Epoch 1 / 20:  85%|████████▍ | 1324/1563 [00:54<00:10, 23.52it/s]"
          ]
        },
        {
          "output_type": "stream",
          "name": "stdout",
          "text": [
            "batch 1320 loss: 0.31739068031311035\n"
          ]
        },
        {
          "output_type": "stream",
          "name": "stderr",
          "text": [
            "Train, Epoch 1 / 20:  85%|████████▌ | 1333/1563 [00:55<00:10, 22.23it/s]"
          ]
        },
        {
          "output_type": "stream",
          "name": "stdout",
          "text": [
            "batch 1330 loss: 0.35652573257684705\n"
          ]
        },
        {
          "output_type": "stream",
          "name": "stderr",
          "text": [
            "Train, Epoch 1 / 20:  86%|████████▌ | 1342/1563 [00:55<00:09, 22.37it/s]"
          ]
        },
        {
          "output_type": "stream",
          "name": "stdout",
          "text": [
            "batch 1340 loss: 0.3294738009572029\n"
          ]
        },
        {
          "output_type": "stream",
          "name": "stderr",
          "text": [
            "Train, Epoch 1 / 20:  87%|████████▋ | 1354/1563 [00:56<00:09, 21.42it/s]"
          ]
        },
        {
          "output_type": "stream",
          "name": "stdout",
          "text": [
            "batch 1350 loss: 0.29100749641656876\n"
          ]
        },
        {
          "output_type": "stream",
          "name": "stderr",
          "text": [
            "Train, Epoch 1 / 20:  87%|████████▋ | 1363/1563 [00:56<00:09, 20.88it/s]"
          ]
        },
        {
          "output_type": "stream",
          "name": "stdout",
          "text": [
            "batch 1360 loss: 0.3438190042972565\n"
          ]
        },
        {
          "output_type": "stream",
          "name": "stderr",
          "text": [
            "Train, Epoch 1 / 20:  88%|████████▊ | 1375/1563 [00:57<00:08, 23.39it/s]"
          ]
        },
        {
          "output_type": "stream",
          "name": "stdout",
          "text": [
            "batch 1370 loss: 0.3200289458036423\n"
          ]
        },
        {
          "output_type": "stream",
          "name": "stderr",
          "text": [
            "Train, Epoch 1 / 20:  89%|████████▊ | 1384/1563 [00:57<00:07, 24.37it/s]"
          ]
        },
        {
          "output_type": "stream",
          "name": "stdout",
          "text": [
            "batch 1380 loss: 0.2840874932706356\n"
          ]
        },
        {
          "output_type": "stream",
          "name": "stderr",
          "text": [
            "Train, Epoch 1 / 20:  89%|████████▉ | 1393/1563 [00:58<00:06, 24.66it/s]"
          ]
        },
        {
          "output_type": "stream",
          "name": "stdout",
          "text": [
            "batch 1390 loss: 0.34914787411689757\n"
          ]
        },
        {
          "output_type": "stream",
          "name": "stderr",
          "text": [
            "Train, Epoch 1 / 20:  90%|████████▉ | 1405/1563 [00:58<00:06, 24.99it/s]"
          ]
        },
        {
          "output_type": "stream",
          "name": "stdout",
          "text": [
            "batch 1400 loss: 0.39301468059420586\n"
          ]
        },
        {
          "output_type": "stream",
          "name": "stderr",
          "text": [
            "Train, Epoch 1 / 20:  90%|█████████ | 1414/1563 [00:58<00:06, 24.72it/s]"
          ]
        },
        {
          "output_type": "stream",
          "name": "stdout",
          "text": [
            "batch 1410 loss: 0.2919599786400795\n"
          ]
        },
        {
          "output_type": "stream",
          "name": "stderr",
          "text": [
            "Train, Epoch 1 / 20:  91%|█████████ | 1423/1563 [00:59<00:05, 24.40it/s]"
          ]
        },
        {
          "output_type": "stream",
          "name": "stdout",
          "text": [
            "batch 1420 loss: 0.3317485377192497\n"
          ]
        },
        {
          "output_type": "stream",
          "name": "stderr",
          "text": [
            "Train, Epoch 1 / 20:  92%|█████████▏| 1435/1563 [00:59<00:05, 24.72it/s]"
          ]
        },
        {
          "output_type": "stream",
          "name": "stdout",
          "text": [
            "batch 1430 loss: 0.4057007983326912\n"
          ]
        },
        {
          "output_type": "stream",
          "name": "stderr",
          "text": [
            "Train, Epoch 1 / 20:  92%|█████████▏| 1444/1563 [01:00<00:04, 24.50it/s]"
          ]
        },
        {
          "output_type": "stream",
          "name": "stdout",
          "text": [
            "batch 1440 loss: 0.3342812016606331\n"
          ]
        },
        {
          "output_type": "stream",
          "name": "stderr",
          "text": [
            "Train, Epoch 1 / 20:  93%|█████████▎| 1453/1563 [01:00<00:04, 24.70it/s]"
          ]
        },
        {
          "output_type": "stream",
          "name": "stdout",
          "text": [
            "batch 1450 loss: 0.4379023924469948\n"
          ]
        },
        {
          "output_type": "stream",
          "name": "stderr",
          "text": [
            "Train, Epoch 1 / 20:  94%|█████████▎| 1465/1563 [01:00<00:03, 24.60it/s]"
          ]
        },
        {
          "output_type": "stream",
          "name": "stdout",
          "text": [
            "batch 1460 loss: 0.34598219841718675\n"
          ]
        },
        {
          "output_type": "stream",
          "name": "stderr",
          "text": [
            "Train, Epoch 1 / 20:  94%|█████████▍| 1474/1563 [01:01<00:03, 23.90it/s]"
          ]
        },
        {
          "output_type": "stream",
          "name": "stdout",
          "text": [
            "batch 1470 loss: 0.28729773312807083\n"
          ]
        },
        {
          "output_type": "stream",
          "name": "stderr",
          "text": [
            "Train, Epoch 1 / 20:  95%|█████████▍| 1483/1563 [01:01<00:03, 24.50it/s]"
          ]
        },
        {
          "output_type": "stream",
          "name": "stdout",
          "text": [
            "batch 1480 loss: 0.3588501334190369\n"
          ]
        },
        {
          "output_type": "stream",
          "name": "stderr",
          "text": [
            "Train, Epoch 1 / 20:  96%|█████████▌| 1495/1563 [01:02<00:02, 24.66it/s]"
          ]
        },
        {
          "output_type": "stream",
          "name": "stdout",
          "text": [
            "batch 1490 loss: 0.3296908512711525\n"
          ]
        },
        {
          "output_type": "stream",
          "name": "stderr",
          "text": [
            "Train, Epoch 1 / 20:  96%|█████████▌| 1504/1563 [01:02<00:02, 24.67it/s]"
          ]
        },
        {
          "output_type": "stream",
          "name": "stdout",
          "text": [
            "batch 1500 loss: 0.3310796245932579\n"
          ]
        },
        {
          "output_type": "stream",
          "name": "stderr",
          "text": [
            "Train, Epoch 1 / 20:  97%|█████████▋| 1513/1563 [01:02<00:02, 24.50it/s]"
          ]
        },
        {
          "output_type": "stream",
          "name": "stdout",
          "text": [
            "batch 1510 loss: 0.39211954176425934\n"
          ]
        },
        {
          "output_type": "stream",
          "name": "stderr",
          "text": [
            "Train, Epoch 1 / 20:  97%|█████████▋| 1522/1563 [01:03<00:01, 23.87it/s]"
          ]
        },
        {
          "output_type": "stream",
          "name": "stdout",
          "text": [
            "batch 1520 loss: 0.347456394135952\n"
          ]
        },
        {
          "output_type": "stream",
          "name": "stderr",
          "text": [
            "Train, Epoch 1 / 20:  98%|█████████▊| 1534/1563 [01:03<00:01, 24.59it/s]"
          ]
        },
        {
          "output_type": "stream",
          "name": "stdout",
          "text": [
            "batch 1530 loss: 0.38183885961771014\n"
          ]
        },
        {
          "output_type": "stream",
          "name": "stderr",
          "text": [
            "Train, Epoch 1 / 20:  99%|█████████▊| 1543/1563 [01:04<00:00, 24.44it/s]"
          ]
        },
        {
          "output_type": "stream",
          "name": "stdout",
          "text": [
            "batch 1540 loss: 0.35556735545396806\n"
          ]
        },
        {
          "output_type": "stream",
          "name": "stderr",
          "text": [
            "Train, Epoch 1 / 20:  99%|█████████▉| 1552/1563 [01:04<00:00, 24.48it/s]"
          ]
        },
        {
          "output_type": "stream",
          "name": "stdout",
          "text": [
            "batch 1550 loss: 0.2927076943218708\n"
          ]
        },
        {
          "output_type": "stream",
          "name": "stderr",
          "text": [
            "Train, Epoch 1 / 20: 100%|██████████| 1563/1563 [01:04<00:00, 24.06it/s]\n"
          ]
        },
        {
          "output_type": "stream",
          "name": "stdout",
          "text": [
            "batch 1560 loss: 0.3718066304922104\n"
          ]
        },
        {
          "output_type": "stream",
          "name": "stderr",
          "text": [
            "Test, Epoch 1 / 20: 100%|██████████| 1563/1563 [00:29<00:00, 52.85it/s]\n"
          ]
        },
        {
          "output_type": "stream",
          "name": "stdout",
          "text": [
            "Epoch 1, loss: 0.43059260813772676, accuracy: 0.80596\n"
          ]
        },
        {
          "output_type": "stream",
          "name": "stderr",
          "text": [
            "Train, Epoch 2 / 20:   1%|          | 12/1563 [00:00<01:02, 24.99it/s]"
          ]
        },
        {
          "output_type": "stream",
          "name": "stdout",
          "text": [
            "batch 10 loss: 0.43686993718147277\n"
          ]
        },
        {
          "output_type": "stream",
          "name": "stderr",
          "text": [
            "Train, Epoch 2 / 20:   2%|▏         | 24/1563 [00:00<01:02, 24.59it/s]"
          ]
        },
        {
          "output_type": "stream",
          "name": "stdout",
          "text": [
            "batch 20 loss: 0.2856064051389694\n"
          ]
        },
        {
          "output_type": "stream",
          "name": "stderr",
          "text": [
            "Train, Epoch 2 / 20:   2%|▏         | 33/1563 [00:01<01:01, 24.71it/s]"
          ]
        },
        {
          "output_type": "stream",
          "name": "stdout",
          "text": [
            "batch 30 loss: 0.3329220965504646\n"
          ]
        },
        {
          "output_type": "stream",
          "name": "stderr",
          "text": [
            "Train, Epoch 2 / 20:   3%|▎         | 42/1563 [00:01<01:01, 24.71it/s]"
          ]
        },
        {
          "output_type": "stream",
          "name": "stdout",
          "text": [
            "batch 40 loss: 0.3473674848675728\n"
          ]
        },
        {
          "output_type": "stream",
          "name": "stderr",
          "text": [
            "Train, Epoch 2 / 20:   3%|▎         | 54/1563 [00:02<01:02, 24.21it/s]"
          ]
        },
        {
          "output_type": "stream",
          "name": "stdout",
          "text": [
            "batch 50 loss: 0.2824481979012489\n"
          ]
        },
        {
          "output_type": "stream",
          "name": "stderr",
          "text": [
            "Train, Epoch 2 / 20:   4%|▍         | 63/1563 [00:02<01:01, 24.49it/s]"
          ]
        },
        {
          "output_type": "stream",
          "name": "stdout",
          "text": [
            "batch 60 loss: 0.3712827518582344\n"
          ]
        },
        {
          "output_type": "stream",
          "name": "stderr",
          "text": [
            "Train, Epoch 2 / 20:   5%|▍         | 75/1563 [00:03<01:00, 24.70it/s]"
          ]
        },
        {
          "output_type": "stream",
          "name": "stdout",
          "text": [
            "batch 70 loss: 0.30649104714393616\n"
          ]
        },
        {
          "output_type": "stream",
          "name": "stderr",
          "text": [
            "Train, Epoch 2 / 20:   5%|▌         | 84/1563 [00:03<00:59, 25.01it/s]"
          ]
        },
        {
          "output_type": "stream",
          "name": "stdout",
          "text": [
            "batch 80 loss: 0.2542556770145893\n"
          ]
        },
        {
          "output_type": "stream",
          "name": "stderr",
          "text": [
            "Train, Epoch 2 / 20:   6%|▌         | 93/1563 [00:03<00:59, 24.52it/s]"
          ]
        },
        {
          "output_type": "stream",
          "name": "stdout",
          "text": [
            "batch 90 loss: 0.3672840163111687\n"
          ]
        },
        {
          "output_type": "stream",
          "name": "stderr",
          "text": [
            "Train, Epoch 2 / 20:   7%|▋         | 105/1563 [00:04<00:59, 24.47it/s]"
          ]
        },
        {
          "output_type": "stream",
          "name": "stdout",
          "text": [
            "batch 100 loss: 0.3568741902709007\n"
          ]
        },
        {
          "output_type": "stream",
          "name": "stderr",
          "text": [
            "Train, Epoch 2 / 20:   7%|▋         | 114/1563 [00:04<00:59, 24.18it/s]"
          ]
        },
        {
          "output_type": "stream",
          "name": "stdout",
          "text": [
            "batch 110 loss: 0.3229146361351013\n"
          ]
        },
        {
          "output_type": "stream",
          "name": "stderr",
          "text": [
            "Train, Epoch 2 / 20:   8%|▊         | 123/1563 [00:05<01:00, 23.87it/s]"
          ]
        },
        {
          "output_type": "stream",
          "name": "stdout",
          "text": [
            "batch 120 loss: 0.30989143550395964\n"
          ]
        },
        {
          "output_type": "stream",
          "name": "stderr",
          "text": [
            "Train, Epoch 2 / 20:   9%|▊         | 135/1563 [00:05<00:58, 24.42it/s]"
          ]
        },
        {
          "output_type": "stream",
          "name": "stdout",
          "text": [
            "batch 130 loss: 0.3941999450325966\n"
          ]
        },
        {
          "output_type": "stream",
          "name": "stderr",
          "text": [
            "Train, Epoch 2 / 20:   9%|▉         | 144/1563 [00:05<00:58, 24.37it/s]"
          ]
        },
        {
          "output_type": "stream",
          "name": "stdout",
          "text": [
            "batch 140 loss: 0.3813342034816742\n"
          ]
        },
        {
          "output_type": "stream",
          "name": "stderr",
          "text": [
            "Train, Epoch 2 / 20:  10%|▉         | 153/1563 [00:06<00:57, 24.69it/s]"
          ]
        },
        {
          "output_type": "stream",
          "name": "stdout",
          "text": [
            "batch 150 loss: 0.38916474878787993\n"
          ]
        },
        {
          "output_type": "stream",
          "name": "stderr",
          "text": [
            "Train, Epoch 2 / 20:  10%|█         | 162/1563 [00:06<00:58, 24.02it/s]"
          ]
        },
        {
          "output_type": "stream",
          "name": "stdout",
          "text": [
            "batch 160 loss: 0.28273397237062453\n"
          ]
        },
        {
          "output_type": "stream",
          "name": "stderr",
          "text": [
            "Train, Epoch 2 / 20:  11%|█         | 174/1563 [00:07<00:56, 24.38it/s]"
          ]
        },
        {
          "output_type": "stream",
          "name": "stdout",
          "text": [
            "batch 170 loss: 0.3656235247850418\n"
          ]
        },
        {
          "output_type": "stream",
          "name": "stderr",
          "text": [
            "Train, Epoch 2 / 20:  12%|█▏        | 183/1563 [00:07<00:56, 24.49it/s]"
          ]
        },
        {
          "output_type": "stream",
          "name": "stdout",
          "text": [
            "batch 180 loss: 0.338108591735363\n"
          ]
        },
        {
          "output_type": "stream",
          "name": "stderr",
          "text": [
            "Train, Epoch 2 / 20:  12%|█▏        | 195/1563 [00:07<00:55, 24.54it/s]"
          ]
        },
        {
          "output_type": "stream",
          "name": "stdout",
          "text": [
            "batch 190 loss: 0.316956102848053\n"
          ]
        },
        {
          "output_type": "stream",
          "name": "stderr",
          "text": [
            "Train, Epoch 2 / 20:  13%|█▎        | 204/1563 [00:08<00:55, 24.45it/s]"
          ]
        },
        {
          "output_type": "stream",
          "name": "stdout",
          "text": [
            "batch 200 loss: 0.33600242882966996\n"
          ]
        },
        {
          "output_type": "stream",
          "name": "stderr",
          "text": [
            "Train, Epoch 2 / 20:  14%|█▎        | 213/1563 [00:08<00:56, 23.92it/s]"
          ]
        },
        {
          "output_type": "stream",
          "name": "stdout",
          "text": [
            "batch 210 loss: 0.3041773110628128\n"
          ]
        },
        {
          "output_type": "stream",
          "name": "stderr",
          "text": [
            "Train, Epoch 2 / 20:  14%|█▍        | 222/1563 [00:09<00:59, 22.68it/s]"
          ]
        },
        {
          "output_type": "stream",
          "name": "stdout",
          "text": [
            "batch 220 loss: 0.313111712038517\n"
          ]
        },
        {
          "output_type": "stream",
          "name": "stderr",
          "text": [
            "Train, Epoch 2 / 20:  15%|█▍        | 234/1563 [00:09<01:01, 21.59it/s]"
          ]
        },
        {
          "output_type": "stream",
          "name": "stdout",
          "text": [
            "batch 230 loss: 0.29771034717559813\n"
          ]
        },
        {
          "output_type": "stream",
          "name": "stderr",
          "text": [
            "Train, Epoch 2 / 20:  16%|█▌        | 243/1563 [00:10<01:02, 20.98it/s]"
          ]
        },
        {
          "output_type": "stream",
          "name": "stdout",
          "text": [
            "batch 240 loss: 0.29671782404184344\n"
          ]
        },
        {
          "output_type": "stream",
          "name": "stderr",
          "text": [
            "Train, Epoch 2 / 20:  16%|█▌        | 252/1563 [00:10<01:02, 21.02it/s]"
          ]
        },
        {
          "output_type": "stream",
          "name": "stdout",
          "text": [
            "batch 250 loss: 0.32874417304992676\n"
          ]
        },
        {
          "output_type": "stream",
          "name": "stderr",
          "text": [
            "Train, Epoch 2 / 20:  17%|█▋        | 264/1563 [00:11<00:57, 22.76it/s]"
          ]
        },
        {
          "output_type": "stream",
          "name": "stdout",
          "text": [
            "batch 260 loss: 0.3113717630505562\n"
          ]
        },
        {
          "output_type": "stream",
          "name": "stderr",
          "text": [
            "Train, Epoch 2 / 20:  17%|█▋        | 273/1563 [00:11<00:54, 23.88it/s]"
          ]
        },
        {
          "output_type": "stream",
          "name": "stdout",
          "text": [
            "batch 270 loss: 0.34510254561901094\n"
          ]
        },
        {
          "output_type": "stream",
          "name": "stderr",
          "text": [
            "Train, Epoch 2 / 20:  18%|█▊        | 285/1563 [00:11<00:51, 24.59it/s]"
          ]
        },
        {
          "output_type": "stream",
          "name": "stdout",
          "text": [
            "batch 280 loss: 0.3128556728363037\n"
          ]
        },
        {
          "output_type": "stream",
          "name": "stderr",
          "text": [
            "Train, Epoch 2 / 20:  19%|█▉        | 294/1563 [00:12<00:52, 24.35it/s]"
          ]
        },
        {
          "output_type": "stream",
          "name": "stdout",
          "text": [
            "batch 290 loss: 0.3595954868942499\n"
          ]
        },
        {
          "output_type": "stream",
          "name": "stderr",
          "text": [
            "Train, Epoch 2 / 20:  19%|█▉        | 303/1563 [00:12<00:51, 24.43it/s]"
          ]
        },
        {
          "output_type": "stream",
          "name": "stdout",
          "text": [
            "batch 300 loss: 0.42731798738241195\n"
          ]
        },
        {
          "output_type": "stream",
          "name": "stderr",
          "text": [
            "Train, Epoch 2 / 20:  20%|█▉        | 312/1563 [00:13<00:52, 24.03it/s]"
          ]
        },
        {
          "output_type": "stream",
          "name": "stdout",
          "text": [
            "batch 310 loss: 0.4078137785196304\n"
          ]
        },
        {
          "output_type": "stream",
          "name": "stderr",
          "text": [
            "Train, Epoch 2 / 20:  21%|██        | 324/1563 [00:13<00:49, 24.83it/s]"
          ]
        },
        {
          "output_type": "stream",
          "name": "stdout",
          "text": [
            "batch 320 loss: 0.3670760035514832\n"
          ]
        },
        {
          "output_type": "stream",
          "name": "stderr",
          "text": [
            "Train, Epoch 2 / 20:  21%|██▏       | 333/1563 [00:13<00:49, 24.87it/s]"
          ]
        },
        {
          "output_type": "stream",
          "name": "stdout",
          "text": [
            "batch 330 loss: 0.32872607558965683\n"
          ]
        },
        {
          "output_type": "stream",
          "name": "stderr",
          "text": [
            "Train, Epoch 2 / 20:  22%|██▏       | 345/1563 [00:14<00:49, 24.58it/s]"
          ]
        },
        {
          "output_type": "stream",
          "name": "stdout",
          "text": [
            "batch 340 loss: 0.33114692717790606\n"
          ]
        },
        {
          "output_type": "stream",
          "name": "stderr",
          "text": [
            "Train, Epoch 2 / 20:  23%|██▎       | 354/1563 [00:14<00:50, 23.96it/s]"
          ]
        },
        {
          "output_type": "stream",
          "name": "stdout",
          "text": [
            "batch 350 loss: 0.38366842567920684\n"
          ]
        },
        {
          "output_type": "stream",
          "name": "stderr",
          "text": [
            "Train, Epoch 2 / 20:  23%|██▎       | 363/1563 [00:15<00:49, 24.15it/s]"
          ]
        },
        {
          "output_type": "stream",
          "name": "stdout",
          "text": [
            "batch 360 loss: 0.2667055331170559\n"
          ]
        },
        {
          "output_type": "stream",
          "name": "stderr",
          "text": [
            "Train, Epoch 2 / 20:  24%|██▍       | 375/1563 [00:15<00:47, 24.75it/s]"
          ]
        },
        {
          "output_type": "stream",
          "name": "stdout",
          "text": [
            "batch 370 loss: 0.31116136014461515\n"
          ]
        },
        {
          "output_type": "stream",
          "name": "stderr",
          "text": [
            "Train, Epoch 2 / 20:  25%|██▍       | 384/1563 [00:15<00:47, 24.67it/s]"
          ]
        },
        {
          "output_type": "stream",
          "name": "stdout",
          "text": [
            "batch 380 loss: 0.26209709569811823\n"
          ]
        },
        {
          "output_type": "stream",
          "name": "stderr",
          "text": [
            "Train, Epoch 2 / 20:  25%|██▌       | 393/1563 [00:16<00:47, 24.69it/s]"
          ]
        },
        {
          "output_type": "stream",
          "name": "stdout",
          "text": [
            "batch 390 loss: 0.29439336732029914\n"
          ]
        },
        {
          "output_type": "stream",
          "name": "stderr",
          "text": [
            "Train, Epoch 2 / 20:  26%|██▌       | 402/1563 [00:16<00:47, 24.37it/s]"
          ]
        },
        {
          "output_type": "stream",
          "name": "stdout",
          "text": [
            "batch 400 loss: 0.2662817224860191\n"
          ]
        },
        {
          "output_type": "stream",
          "name": "stderr",
          "text": [
            "Train, Epoch 2 / 20:  26%|██▋       | 414/1563 [00:17<00:47, 24.30it/s]"
          ]
        },
        {
          "output_type": "stream",
          "name": "stdout",
          "text": [
            "batch 410 loss: 0.32341189607977866\n"
          ]
        },
        {
          "output_type": "stream",
          "name": "stderr",
          "text": [
            "Train, Epoch 2 / 20:  27%|██▋       | 423/1563 [00:17<00:46, 24.65it/s]"
          ]
        },
        {
          "output_type": "stream",
          "name": "stdout",
          "text": [
            "batch 420 loss: 0.2763072565197945\n"
          ]
        },
        {
          "output_type": "stream",
          "name": "stderr",
          "text": [
            "Train, Epoch 2 / 20:  28%|██▊       | 435/1563 [00:18<00:45, 24.56it/s]"
          ]
        },
        {
          "output_type": "stream",
          "name": "stdout",
          "text": [
            "batch 430 loss: 0.23481523841619492\n"
          ]
        },
        {
          "output_type": "stream",
          "name": "stderr",
          "text": [
            "Train, Epoch 2 / 20:  28%|██▊       | 444/1563 [00:18<00:45, 24.49it/s]"
          ]
        },
        {
          "output_type": "stream",
          "name": "stdout",
          "text": [
            "batch 440 loss: 0.2385905921459198\n"
          ]
        },
        {
          "output_type": "stream",
          "name": "stderr",
          "text": [
            "Train, Epoch 2 / 20:  29%|██▉       | 453/1563 [00:18<00:44, 24.75it/s]"
          ]
        },
        {
          "output_type": "stream",
          "name": "stdout",
          "text": [
            "batch 450 loss: 0.27470550015568734\n"
          ]
        },
        {
          "output_type": "stream",
          "name": "stderr",
          "text": [
            "Train, Epoch 2 / 20:  30%|██▉       | 465/1563 [00:19<00:44, 24.65it/s]"
          ]
        },
        {
          "output_type": "stream",
          "name": "stdout",
          "text": [
            "batch 460 loss: 0.2934282571077347\n"
          ]
        },
        {
          "output_type": "stream",
          "name": "stderr",
          "text": [
            "Train, Epoch 2 / 20:  30%|███       | 474/1563 [00:19<00:44, 24.45it/s]"
          ]
        },
        {
          "output_type": "stream",
          "name": "stdout",
          "text": [
            "batch 470 loss: 0.2620144933462143\n"
          ]
        },
        {
          "output_type": "stream",
          "name": "stderr",
          "text": [
            "Train, Epoch 2 / 20:  31%|███       | 483/1563 [00:20<00:43, 24.66it/s]"
          ]
        },
        {
          "output_type": "stream",
          "name": "stdout",
          "text": [
            "batch 480 loss: 0.31321265250444413\n"
          ]
        },
        {
          "output_type": "stream",
          "name": "stderr",
          "text": [
            "Train, Epoch 2 / 20:  32%|███▏      | 495/1563 [00:20<00:43, 24.80it/s]"
          ]
        },
        {
          "output_type": "stream",
          "name": "stdout",
          "text": [
            "batch 490 loss: 0.3375547662377357\n"
          ]
        },
        {
          "output_type": "stream",
          "name": "stderr",
          "text": [
            "Train, Epoch 2 / 20:  32%|███▏      | 504/1563 [00:20<00:43, 24.51it/s]"
          ]
        },
        {
          "output_type": "stream",
          "name": "stdout",
          "text": [
            "batch 500 loss: 0.2977663815021515\n"
          ]
        },
        {
          "output_type": "stream",
          "name": "stderr",
          "text": [
            "Train, Epoch 2 / 20:  33%|███▎      | 513/1563 [00:21<00:47, 22.28it/s]"
          ]
        },
        {
          "output_type": "stream",
          "name": "stdout",
          "text": [
            "batch 510 loss: 0.30907254815101626\n"
          ]
        },
        {
          "output_type": "stream",
          "name": "stderr",
          "text": [
            "Train, Epoch 2 / 20:  33%|███▎      | 522/1563 [00:21<00:48, 21.53it/s]"
          ]
        },
        {
          "output_type": "stream",
          "name": "stdout",
          "text": [
            "batch 520 loss: 0.3547264412045479\n"
          ]
        },
        {
          "output_type": "stream",
          "name": "stderr",
          "text": [
            "Train, Epoch 2 / 20:  34%|███▍      | 534/1563 [00:22<00:48, 21.33it/s]"
          ]
        },
        {
          "output_type": "stream",
          "name": "stdout",
          "text": [
            "batch 530 loss: 0.33194275498390197\n"
          ]
        },
        {
          "output_type": "stream",
          "name": "stderr",
          "text": [
            "Train, Epoch 2 / 20:  35%|███▍      | 543/1563 [00:22<00:47, 21.31it/s]"
          ]
        },
        {
          "output_type": "stream",
          "name": "stdout",
          "text": [
            "batch 540 loss: 0.24862563461065293\n"
          ]
        },
        {
          "output_type": "stream",
          "name": "stderr",
          "text": [
            "Train, Epoch 2 / 20:  35%|███▌      | 552/1563 [00:23<00:45, 22.40it/s]"
          ]
        },
        {
          "output_type": "stream",
          "name": "stdout",
          "text": [
            "batch 550 loss: 0.3516828939318657\n"
          ]
        },
        {
          "output_type": "stream",
          "name": "stderr",
          "text": [
            "Train, Epoch 2 / 20:  36%|███▌      | 564/1563 [00:23<00:41, 24.00it/s]"
          ]
        },
        {
          "output_type": "stream",
          "name": "stdout",
          "text": [
            "batch 560 loss: 0.2809456646442413\n"
          ]
        },
        {
          "output_type": "stream",
          "name": "stderr",
          "text": [
            "Train, Epoch 2 / 20:  37%|███▋      | 573/1563 [00:23<00:40, 24.38it/s]"
          ]
        },
        {
          "output_type": "stream",
          "name": "stdout",
          "text": [
            "batch 570 loss: 0.4576829522848129\n"
          ]
        },
        {
          "output_type": "stream",
          "name": "stderr",
          "text": [
            "Train, Epoch 2 / 20:  37%|███▋      | 585/1563 [00:24<00:39, 24.63it/s]"
          ]
        },
        {
          "output_type": "stream",
          "name": "stdout",
          "text": [
            "batch 580 loss: 0.3287199065089226\n"
          ]
        },
        {
          "output_type": "stream",
          "name": "stderr",
          "text": [
            "Train, Epoch 2 / 20:  38%|███▊      | 594/1563 [00:24<00:39, 24.84it/s]"
          ]
        },
        {
          "output_type": "stream",
          "name": "stdout",
          "text": [
            "batch 590 loss: 0.3254243716597557\n"
          ]
        },
        {
          "output_type": "stream",
          "name": "stderr",
          "text": [
            "Train, Epoch 2 / 20:  39%|███▊      | 603/1563 [00:25<00:38, 24.69it/s]"
          ]
        },
        {
          "output_type": "stream",
          "name": "stdout",
          "text": [
            "batch 600 loss: 0.27958313226699827\n"
          ]
        },
        {
          "output_type": "stream",
          "name": "stderr",
          "text": [
            "Train, Epoch 2 / 20:  39%|███▉      | 615/1563 [00:25<00:38, 24.80it/s]"
          ]
        },
        {
          "output_type": "stream",
          "name": "stdout",
          "text": [
            "batch 610 loss: 0.3949595019221306\n"
          ]
        },
        {
          "output_type": "stream",
          "name": "stderr",
          "text": [
            "Train, Epoch 2 / 20:  40%|███▉      | 624/1563 [00:26<00:38, 24.38it/s]"
          ]
        },
        {
          "output_type": "stream",
          "name": "stdout",
          "text": [
            "batch 620 loss: 0.2906356886029243\n"
          ]
        },
        {
          "output_type": "stream",
          "name": "stderr",
          "text": [
            "Train, Epoch 2 / 20:  40%|████      | 633/1563 [00:26<00:38, 24.04it/s]"
          ]
        },
        {
          "output_type": "stream",
          "name": "stdout",
          "text": [
            "batch 630 loss: 0.27604137659072875\n"
          ]
        },
        {
          "output_type": "stream",
          "name": "stderr",
          "text": [
            "Train, Epoch 2 / 20:  41%|████▏     | 645/1563 [00:26<00:37, 24.43it/s]"
          ]
        },
        {
          "output_type": "stream",
          "name": "stdout",
          "text": [
            "batch 640 loss: 0.3714238092303276\n"
          ]
        },
        {
          "output_type": "stream",
          "name": "stderr",
          "text": [
            "Train, Epoch 2 / 20:  42%|████▏     | 654/1563 [00:27<00:36, 24.57it/s]"
          ]
        },
        {
          "output_type": "stream",
          "name": "stdout",
          "text": [
            "batch 650 loss: 0.29639111235737803\n"
          ]
        },
        {
          "output_type": "stream",
          "name": "stderr",
          "text": [
            "Train, Epoch 2 / 20:  42%|████▏     | 663/1563 [00:27<00:36, 24.81it/s]"
          ]
        },
        {
          "output_type": "stream",
          "name": "stdout",
          "text": [
            "batch 660 loss: 0.37027700543403624\n"
          ]
        },
        {
          "output_type": "stream",
          "name": "stderr",
          "text": [
            "Train, Epoch 2 / 20:  43%|████▎     | 672/1563 [00:28<00:36, 24.54it/s]"
          ]
        },
        {
          "output_type": "stream",
          "name": "stdout",
          "text": [
            "batch 670 loss: 0.3277878999710083\n"
          ]
        },
        {
          "output_type": "stream",
          "name": "stderr",
          "text": [
            "Train, Epoch 2 / 20:  44%|████▍     | 684/1563 [00:28<00:36, 24.32it/s]"
          ]
        },
        {
          "output_type": "stream",
          "name": "stdout",
          "text": [
            "batch 680 loss: 0.27638421058654783\n"
          ]
        },
        {
          "output_type": "stream",
          "name": "stderr",
          "text": [
            "Train, Epoch 2 / 20:  44%|████▍     | 693/1563 [00:28<00:35, 24.19it/s]"
          ]
        },
        {
          "output_type": "stream",
          "name": "stdout",
          "text": [
            "batch 690 loss: 0.3006404221057892\n"
          ]
        },
        {
          "output_type": "stream",
          "name": "stderr",
          "text": [
            "Train, Epoch 2 / 20:  45%|████▌     | 705/1563 [00:29<00:35, 24.44it/s]"
          ]
        },
        {
          "output_type": "stream",
          "name": "stdout",
          "text": [
            "batch 700 loss: 0.2804295033216476\n"
          ]
        },
        {
          "output_type": "stream",
          "name": "stderr",
          "text": [
            "Train, Epoch 2 / 20:  46%|████▌     | 714/1563 [00:29<00:34, 24.60it/s]"
          ]
        },
        {
          "output_type": "stream",
          "name": "stdout",
          "text": [
            "batch 710 loss: 0.3698600172996521\n"
          ]
        },
        {
          "output_type": "stream",
          "name": "stderr",
          "text": [
            "Train, Epoch 2 / 20:  46%|████▋     | 723/1563 [00:30<00:34, 24.45it/s]"
          ]
        },
        {
          "output_type": "stream",
          "name": "stdout",
          "text": [
            "batch 720 loss: 0.3577371180057526\n"
          ]
        },
        {
          "output_type": "stream",
          "name": "stderr",
          "text": [
            "Train, Epoch 2 / 20:  47%|████▋     | 732/1563 [00:30<00:34, 23.78it/s]"
          ]
        },
        {
          "output_type": "stream",
          "name": "stdout",
          "text": [
            "batch 730 loss: 0.2615091517567635\n"
          ]
        },
        {
          "output_type": "stream",
          "name": "stderr",
          "text": [
            "Train, Epoch 2 / 20:  48%|████▊     | 744/1563 [00:30<00:33, 24.48it/s]"
          ]
        },
        {
          "output_type": "stream",
          "name": "stdout",
          "text": [
            "batch 740 loss: 0.3958165466785431\n"
          ]
        },
        {
          "output_type": "stream",
          "name": "stderr",
          "text": [
            "Train, Epoch 2 / 20:  48%|████▊     | 753/1563 [00:31<00:32, 24.72it/s]"
          ]
        },
        {
          "output_type": "stream",
          "name": "stdout",
          "text": [
            "batch 750 loss: 0.361165377497673\n"
          ]
        },
        {
          "output_type": "stream",
          "name": "stderr",
          "text": [
            "Train, Epoch 2 / 20:  49%|████▉     | 765/1563 [00:31<00:32, 24.76it/s]"
          ]
        },
        {
          "output_type": "stream",
          "name": "stdout",
          "text": [
            "batch 760 loss: 0.2900048330426216\n"
          ]
        },
        {
          "output_type": "stream",
          "name": "stderr",
          "text": [
            "Train, Epoch 2 / 20:  50%|████▉     | 774/1563 [00:32<00:31, 24.80it/s]"
          ]
        },
        {
          "output_type": "stream",
          "name": "stdout",
          "text": [
            "batch 770 loss: 0.3053305711597204\n"
          ]
        },
        {
          "output_type": "stream",
          "name": "stderr",
          "text": [
            "Train, Epoch 2 / 20:  50%|█████     | 783/1563 [00:32<00:31, 24.75it/s]"
          ]
        },
        {
          "output_type": "stream",
          "name": "stdout",
          "text": [
            "batch 780 loss: 0.3525292694568634\n"
          ]
        },
        {
          "output_type": "stream",
          "name": "stderr",
          "text": [
            "Train, Epoch 2 / 20:  51%|█████     | 792/1563 [00:32<00:31, 24.19it/s]"
          ]
        },
        {
          "output_type": "stream",
          "name": "stdout",
          "text": [
            "batch 790 loss: 0.30516262724995613\n"
          ]
        },
        {
          "output_type": "stream",
          "name": "stderr",
          "text": [
            "Train, Epoch 2 / 20:  51%|█████▏    | 804/1563 [00:33<00:34, 22.19it/s]"
          ]
        },
        {
          "output_type": "stream",
          "name": "stdout",
          "text": [
            "batch 800 loss: 0.321744467318058\n"
          ]
        },
        {
          "output_type": "stream",
          "name": "stderr",
          "text": [
            "Train, Epoch 2 / 20:  52%|█████▏    | 813/1563 [00:33<00:33, 22.25it/s]"
          ]
        },
        {
          "output_type": "stream",
          "name": "stdout",
          "text": [
            "batch 810 loss: 0.2834912955760956\n"
          ]
        },
        {
          "output_type": "stream",
          "name": "stderr",
          "text": [
            "Train, Epoch 2 / 20:  53%|█████▎    | 822/1563 [00:34<00:33, 22.02it/s]"
          ]
        },
        {
          "output_type": "stream",
          "name": "stdout",
          "text": [
            "batch 820 loss: 0.3993960365653038\n"
          ]
        },
        {
          "output_type": "stream",
          "name": "stderr",
          "text": [
            "Train, Epoch 2 / 20:  53%|█████▎    | 834/1563 [00:34<00:34, 21.18it/s]"
          ]
        },
        {
          "output_type": "stream",
          "name": "stdout",
          "text": [
            "batch 830 loss: 0.2969891279935837\n"
          ]
        },
        {
          "output_type": "stream",
          "name": "stderr",
          "text": [
            "Train, Epoch 2 / 20:  54%|█████▍    | 843/1563 [00:35<00:31, 22.72it/s]"
          ]
        },
        {
          "output_type": "stream",
          "name": "stdout",
          "text": [
            "batch 840 loss: 0.29567896090447904\n"
          ]
        },
        {
          "output_type": "stream",
          "name": "stderr",
          "text": [
            "Train, Epoch 2 / 20:  55%|█████▍    | 852/1563 [00:35<00:29, 23.89it/s]"
          ]
        },
        {
          "output_type": "stream",
          "name": "stdout",
          "text": [
            "batch 850 loss: 0.320771611481905\n"
          ]
        },
        {
          "output_type": "stream",
          "name": "stderr",
          "text": [
            "Train, Epoch 2 / 20:  55%|█████▌    | 864/1563 [00:36<00:28, 24.58it/s]"
          ]
        },
        {
          "output_type": "stream",
          "name": "stdout",
          "text": [
            "batch 860 loss: 0.40155435502529147\n"
          ]
        },
        {
          "output_type": "stream",
          "name": "stderr",
          "text": [
            "Train, Epoch 2 / 20:  56%|█████▌    | 873/1563 [00:36<00:28, 24.60it/s]"
          ]
        },
        {
          "output_type": "stream",
          "name": "stdout",
          "text": [
            "batch 870 loss: 0.3432561635971069\n"
          ]
        },
        {
          "output_type": "stream",
          "name": "stderr",
          "text": [
            "Train, Epoch 2 / 20:  57%|█████▋    | 885/1563 [00:36<00:27, 24.82it/s]"
          ]
        },
        {
          "output_type": "stream",
          "name": "stdout",
          "text": [
            "batch 880 loss: 0.2738906741142273\n"
          ]
        },
        {
          "output_type": "stream",
          "name": "stderr",
          "text": [
            "Train, Epoch 2 / 20:  57%|█████▋    | 894/1563 [00:37<00:26, 24.79it/s]"
          ]
        },
        {
          "output_type": "stream",
          "name": "stdout",
          "text": [
            "batch 890 loss: 0.30052113234996797\n"
          ]
        },
        {
          "output_type": "stream",
          "name": "stderr",
          "text": [
            "Train, Epoch 2 / 20:  58%|█████▊    | 903/1563 [00:37<00:26, 24.70it/s]"
          ]
        },
        {
          "output_type": "stream",
          "name": "stdout",
          "text": [
            "batch 900 loss: 0.2549113541841507\n"
          ]
        },
        {
          "output_type": "stream",
          "name": "stderr",
          "text": [
            "Train, Epoch 2 / 20:  58%|█████▊    | 912/1563 [00:38<00:26, 24.70it/s]"
          ]
        },
        {
          "output_type": "stream",
          "name": "stdout",
          "text": [
            "batch 910 loss: 0.4305694460868835\n"
          ]
        },
        {
          "output_type": "stream",
          "name": "stderr",
          "text": [
            "Train, Epoch 2 / 20:  59%|█████▉    | 924/1563 [00:38<00:25, 24.61it/s]"
          ]
        },
        {
          "output_type": "stream",
          "name": "stdout",
          "text": [
            "batch 920 loss: 0.2855188138782978\n"
          ]
        },
        {
          "output_type": "stream",
          "name": "stderr",
          "text": [
            "Train, Epoch 2 / 20:  60%|█████▉    | 933/1563 [00:38<00:25, 24.71it/s]"
          ]
        },
        {
          "output_type": "stream",
          "name": "stdout",
          "text": [
            "batch 930 loss: 0.3404510527849197\n"
          ]
        },
        {
          "output_type": "stream",
          "name": "stderr",
          "text": [
            "Train, Epoch 2 / 20:  60%|██████    | 942/1563 [00:39<00:25, 24.71it/s]"
          ]
        },
        {
          "output_type": "stream",
          "name": "stdout",
          "text": [
            "batch 940 loss: 0.3199041813611984\n"
          ]
        },
        {
          "output_type": "stream",
          "name": "stderr",
          "text": [
            "Train, Epoch 2 / 20:  61%|██████    | 954/1563 [00:39<00:24, 24.59it/s]"
          ]
        },
        {
          "output_type": "stream",
          "name": "stdout",
          "text": [
            "batch 950 loss: 0.3163865938782692\n"
          ]
        },
        {
          "output_type": "stream",
          "name": "stderr",
          "text": [
            "Train, Epoch 2 / 20:  62%|██████▏   | 963/1563 [00:40<00:24, 24.75it/s]"
          ]
        },
        {
          "output_type": "stream",
          "name": "stdout",
          "text": [
            "batch 960 loss: 0.35762783885002136\n"
          ]
        },
        {
          "output_type": "stream",
          "name": "stderr",
          "text": [
            "Train, Epoch 2 / 20:  62%|██████▏   | 975/1563 [00:40<00:23, 24.73it/s]"
          ]
        },
        {
          "output_type": "stream",
          "name": "stdout",
          "text": [
            "batch 970 loss: 0.2895986527204514\n"
          ]
        },
        {
          "output_type": "stream",
          "name": "stderr",
          "text": [
            "Train, Epoch 2 / 20:  63%|██████▎   | 984/1563 [00:40<00:23, 24.88it/s]"
          ]
        },
        {
          "output_type": "stream",
          "name": "stdout",
          "text": [
            "batch 980 loss: 0.3704542741179466\n"
          ]
        },
        {
          "output_type": "stream",
          "name": "stderr",
          "text": [
            "Train, Epoch 2 / 20:  64%|██████▎   | 993/1563 [00:41<00:23, 24.68it/s]"
          ]
        },
        {
          "output_type": "stream",
          "name": "stdout",
          "text": [
            "batch 990 loss: 0.3439012922346592\n"
          ]
        },
        {
          "output_type": "stream",
          "name": "stderr",
          "text": [
            "Train, Epoch 2 / 20:  64%|██████▍   | 1002/1563 [00:41<00:23, 24.12it/s]"
          ]
        },
        {
          "output_type": "stream",
          "name": "stdout",
          "text": [
            "batch 1000 loss: 0.41138105243444445\n"
          ]
        },
        {
          "output_type": "stream",
          "name": "stderr",
          "text": [
            "Train, Epoch 2 / 20:  65%|██████▍   | 1014/1563 [00:42<00:22, 24.57it/s]"
          ]
        },
        {
          "output_type": "stream",
          "name": "stdout",
          "text": [
            "batch 1010 loss: 0.34657002389431\n"
          ]
        },
        {
          "output_type": "stream",
          "name": "stderr",
          "text": [
            "Train, Epoch 2 / 20:  65%|██████▌   | 1023/1563 [00:42<00:22, 24.32it/s]"
          ]
        },
        {
          "output_type": "stream",
          "name": "stdout",
          "text": [
            "batch 1020 loss: 0.34935481250286105\n"
          ]
        },
        {
          "output_type": "stream",
          "name": "stderr",
          "text": [
            "Train, Epoch 2 / 20:  66%|██████▌   | 1032/1563 [00:42<00:21, 24.25it/s]"
          ]
        },
        {
          "output_type": "stream",
          "name": "stdout",
          "text": [
            "batch 1030 loss: 0.28446606919169426\n"
          ]
        },
        {
          "output_type": "stream",
          "name": "stderr",
          "text": [
            "Train, Epoch 2 / 20:  67%|██████▋   | 1044/1563 [00:43<00:21, 23.98it/s]"
          ]
        },
        {
          "output_type": "stream",
          "name": "stdout",
          "text": [
            "batch 1040 loss: 0.29422907829284667\n"
          ]
        },
        {
          "output_type": "stream",
          "name": "stderr",
          "text": [
            "Train, Epoch 2 / 20:  67%|██████▋   | 1053/1563 [00:43<00:20, 24.52it/s]"
          ]
        },
        {
          "output_type": "stream",
          "name": "stdout",
          "text": [
            "batch 1050 loss: 0.2946022152900696\n"
          ]
        },
        {
          "output_type": "stream",
          "name": "stderr",
          "text": [
            "Train, Epoch 2 / 20:  68%|██████▊   | 1065/1563 [00:44<00:20, 24.79it/s]"
          ]
        },
        {
          "output_type": "stream",
          "name": "stdout",
          "text": [
            "batch 1060 loss: 0.3207365214824677\n"
          ]
        },
        {
          "output_type": "stream",
          "name": "stderr",
          "text": [
            "Train, Epoch 2 / 20:  69%|██████▊   | 1074/1563 [00:44<00:19, 24.54it/s]"
          ]
        },
        {
          "output_type": "stream",
          "name": "stdout",
          "text": [
            "batch 1070 loss: 0.3056363955140114\n"
          ]
        },
        {
          "output_type": "stream",
          "name": "stderr",
          "text": [
            "Train, Epoch 2 / 20:  69%|██████▉   | 1083/1563 [00:45<00:20, 23.80it/s]"
          ]
        },
        {
          "output_type": "stream",
          "name": "stdout",
          "text": [
            "batch 1080 loss: 0.41330641955137254\n"
          ]
        },
        {
          "output_type": "stream",
          "name": "stderr",
          "text": [
            "Train, Epoch 2 / 20:  70%|██████▉   | 1092/1563 [00:45<00:21, 22.10it/s]"
          ]
        },
        {
          "output_type": "stream",
          "name": "stdout",
          "text": [
            "batch 1090 loss: 0.2600709691643715\n"
          ]
        },
        {
          "output_type": "stream",
          "name": "stderr",
          "text": [
            "Train, Epoch 2 / 20:  71%|███████   | 1104/1563 [00:46<00:20, 22.01it/s]"
          ]
        },
        {
          "output_type": "stream",
          "name": "stdout",
          "text": [
            "batch 1100 loss: 0.3049697533249855\n"
          ]
        },
        {
          "output_type": "stream",
          "name": "stderr",
          "text": [
            "Train, Epoch 2 / 20:  71%|███████   | 1113/1563 [00:46<00:20, 22.00it/s]"
          ]
        },
        {
          "output_type": "stream",
          "name": "stdout",
          "text": [
            "batch 1110 loss: 0.2953291229903698\n"
          ]
        },
        {
          "output_type": "stream",
          "name": "stderr",
          "text": [
            "Train, Epoch 2 / 20:  72%|███████▏  | 1122/1563 [00:46<00:20, 21.11it/s]"
          ]
        },
        {
          "output_type": "stream",
          "name": "stdout",
          "text": [
            "batch 1120 loss: 0.33544220179319384\n"
          ]
        },
        {
          "output_type": "stream",
          "name": "stderr",
          "text": [
            "Train, Epoch 2 / 20:  73%|███████▎  | 1134/1563 [00:47<00:18, 22.69it/s]"
          ]
        },
        {
          "output_type": "stream",
          "name": "stdout",
          "text": [
            "batch 1130 loss: 0.27087654545903206\n"
          ]
        },
        {
          "output_type": "stream",
          "name": "stderr",
          "text": [
            "Train, Epoch 2 / 20:  73%|███████▎  | 1143/1563 [00:47<00:17, 23.99it/s]"
          ]
        },
        {
          "output_type": "stream",
          "name": "stdout",
          "text": [
            "batch 1140 loss: 0.35633694380521774\n"
          ]
        },
        {
          "output_type": "stream",
          "name": "stderr",
          "text": [
            "Train, Epoch 2 / 20:  74%|███████▍  | 1155/1563 [00:48<00:16, 24.30it/s]"
          ]
        },
        {
          "output_type": "stream",
          "name": "stdout",
          "text": [
            "batch 1150 loss: 0.2832542508840561\n"
          ]
        },
        {
          "output_type": "stream",
          "name": "stderr",
          "text": [
            "Train, Epoch 2 / 20:  74%|███████▍  | 1164/1563 [00:48<00:16, 24.59it/s]"
          ]
        },
        {
          "output_type": "stream",
          "name": "stdout",
          "text": [
            "batch 1160 loss: 0.2859543666243553\n"
          ]
        },
        {
          "output_type": "stream",
          "name": "stderr",
          "text": [
            "Train, Epoch 2 / 20:  75%|███████▌  | 1173/1563 [00:49<00:16, 24.32it/s]"
          ]
        },
        {
          "output_type": "stream",
          "name": "stdout",
          "text": [
            "batch 1170 loss: 0.3485731169581413\n"
          ]
        },
        {
          "output_type": "stream",
          "name": "stderr",
          "text": [
            "Train, Epoch 2 / 20:  76%|███████▌  | 1182/1563 [00:49<00:15, 23.97it/s]"
          ]
        },
        {
          "output_type": "stream",
          "name": "stdout",
          "text": [
            "batch 1180 loss: 0.28942266702651975\n"
          ]
        },
        {
          "output_type": "stream",
          "name": "stderr",
          "text": [
            "Train, Epoch 2 / 20:  76%|███████▋  | 1194/1563 [00:49<00:15, 24.24it/s]"
          ]
        },
        {
          "output_type": "stream",
          "name": "stdout",
          "text": [
            "batch 1190 loss: 0.36150852739810946\n"
          ]
        },
        {
          "output_type": "stream",
          "name": "stderr",
          "text": [
            "Train, Epoch 2 / 20:  77%|███████▋  | 1203/1563 [00:50<00:14, 24.38it/s]"
          ]
        },
        {
          "output_type": "stream",
          "name": "stdout",
          "text": [
            "batch 1200 loss: 0.3404958724975586\n"
          ]
        },
        {
          "output_type": "stream",
          "name": "stderr",
          "text": [
            "Train, Epoch 2 / 20:  78%|███████▊  | 1215/1563 [00:50<00:14, 24.78it/s]"
          ]
        },
        {
          "output_type": "stream",
          "name": "stdout",
          "text": [
            "batch 1210 loss: 0.38144680857658386\n"
          ]
        },
        {
          "output_type": "stream",
          "name": "stderr",
          "text": [
            "Train, Epoch 2 / 20:  78%|███████▊  | 1224/1563 [00:51<00:13, 24.41it/s]"
          ]
        },
        {
          "output_type": "stream",
          "name": "stdout",
          "text": [
            "batch 1220 loss: 0.3646652281284332\n"
          ]
        },
        {
          "output_type": "stream",
          "name": "stderr",
          "text": [
            "Train, Epoch 2 / 20:  79%|███████▉  | 1233/1563 [00:51<00:13, 24.27it/s]"
          ]
        },
        {
          "output_type": "stream",
          "name": "stdout",
          "text": [
            "batch 1230 loss: 0.38996029198169707\n"
          ]
        },
        {
          "output_type": "stream",
          "name": "stderr",
          "text": [
            "Train, Epoch 2 / 20:  80%|███████▉  | 1245/1563 [00:51<00:12, 24.56it/s]"
          ]
        },
        {
          "output_type": "stream",
          "name": "stdout",
          "text": [
            "batch 1240 loss: 0.3499880224466324\n"
          ]
        },
        {
          "output_type": "stream",
          "name": "stderr",
          "text": [
            "Train, Epoch 2 / 20:  80%|████████  | 1254/1563 [00:52<00:12, 24.67it/s]"
          ]
        },
        {
          "output_type": "stream",
          "name": "stdout",
          "text": [
            "batch 1250 loss: 0.3253841243684292\n"
          ]
        },
        {
          "output_type": "stream",
          "name": "stderr",
          "text": [
            "Train, Epoch 2 / 20:  81%|████████  | 1263/1563 [00:52<00:12, 24.66it/s]"
          ]
        },
        {
          "output_type": "stream",
          "name": "stdout",
          "text": [
            "batch 1260 loss: 0.33343545347452164\n"
          ]
        },
        {
          "output_type": "stream",
          "name": "stderr",
          "text": [
            "Train, Epoch 2 / 20:  81%|████████▏ | 1272/1563 [00:53<00:11, 24.43it/s]"
          ]
        },
        {
          "output_type": "stream",
          "name": "stdout",
          "text": [
            "batch 1270 loss: 0.35840228348970415\n"
          ]
        },
        {
          "output_type": "stream",
          "name": "stderr",
          "text": [
            "Train, Epoch 2 / 20:  82%|████████▏ | 1284/1563 [00:53<00:11, 24.74it/s]"
          ]
        },
        {
          "output_type": "stream",
          "name": "stdout",
          "text": [
            "batch 1280 loss: 0.3707777768373489\n"
          ]
        },
        {
          "output_type": "stream",
          "name": "stderr",
          "text": [
            "Train, Epoch 2 / 20:  83%|████████▎ | 1293/1563 [00:53<00:10, 24.90it/s]"
          ]
        },
        {
          "output_type": "stream",
          "name": "stdout",
          "text": [
            "batch 1290 loss: 0.24701641798019408\n"
          ]
        },
        {
          "output_type": "stream",
          "name": "stderr",
          "text": [
            "Train, Epoch 2 / 20:  83%|████████▎ | 1305/1563 [00:54<00:10, 24.74it/s]"
          ]
        },
        {
          "output_type": "stream",
          "name": "stdout",
          "text": [
            "batch 1300 loss: 0.38035951405763624\n"
          ]
        },
        {
          "output_type": "stream",
          "name": "stderr",
          "text": [
            "Train, Epoch 2 / 20:  84%|████████▍ | 1314/1563 [00:54<00:10, 24.63it/s]"
          ]
        },
        {
          "output_type": "stream",
          "name": "stdout",
          "text": [
            "batch 1310 loss: 0.30887592434883115\n"
          ]
        },
        {
          "output_type": "stream",
          "name": "stderr",
          "text": [
            "Train, Epoch 2 / 20:  85%|████████▍ | 1323/1563 [00:55<00:09, 24.69it/s]"
          ]
        },
        {
          "output_type": "stream",
          "name": "stdout",
          "text": [
            "batch 1320 loss: 0.3214855924248695\n"
          ]
        },
        {
          "output_type": "stream",
          "name": "stderr",
          "text": [
            "Train, Epoch 2 / 20:  85%|████████▌ | 1335/1563 [00:55<00:09, 24.74it/s]"
          ]
        },
        {
          "output_type": "stream",
          "name": "stdout",
          "text": [
            "batch 1330 loss: 0.26360511481761933\n"
          ]
        },
        {
          "output_type": "stream",
          "name": "stderr",
          "text": [
            "Train, Epoch 2 / 20:  86%|████████▌ | 1344/1563 [00:55<00:08, 24.50it/s]"
          ]
        },
        {
          "output_type": "stream",
          "name": "stdout",
          "text": [
            "batch 1340 loss: 0.2708613224327564\n"
          ]
        },
        {
          "output_type": "stream",
          "name": "stderr",
          "text": [
            "Train, Epoch 2 / 20:  87%|████████▋ | 1353/1563 [00:56<00:08, 24.73it/s]"
          ]
        },
        {
          "output_type": "stream",
          "name": "stdout",
          "text": [
            "batch 1350 loss: 0.3929178208112717\n"
          ]
        },
        {
          "output_type": "stream",
          "name": "stderr",
          "text": [
            "Train, Epoch 2 / 20:  87%|████████▋ | 1365/1563 [00:56<00:07, 25.04it/s]"
          ]
        },
        {
          "output_type": "stream",
          "name": "stdout",
          "text": [
            "batch 1360 loss: 0.3524350456893444\n"
          ]
        },
        {
          "output_type": "stream",
          "name": "stderr",
          "text": [
            "Train, Epoch 2 / 20:  88%|████████▊ | 1374/1563 [00:57<00:07, 24.29it/s]"
          ]
        },
        {
          "output_type": "stream",
          "name": "stdout",
          "text": [
            "batch 1370 loss: 0.39941706210374833\n"
          ]
        },
        {
          "output_type": "stream",
          "name": "stderr",
          "text": [
            "Train, Epoch 2 / 20:  88%|████████▊ | 1383/1563 [00:57<00:07, 22.57it/s]"
          ]
        },
        {
          "output_type": "stream",
          "name": "stdout",
          "text": [
            "batch 1380 loss: 0.3118152476847172\n"
          ]
        },
        {
          "output_type": "stream",
          "name": "stderr",
          "text": [
            "Train, Epoch 2 / 20:  89%|████████▉ | 1392/1563 [00:58<00:07, 22.40it/s]"
          ]
        },
        {
          "output_type": "stream",
          "name": "stdout",
          "text": [
            "batch 1390 loss: 0.30593269020318986\n"
          ]
        },
        {
          "output_type": "stream",
          "name": "stderr",
          "text": [
            "Train, Epoch 2 / 20:  90%|████████▉ | 1404/1563 [00:58<00:07, 21.87it/s]"
          ]
        },
        {
          "output_type": "stream",
          "name": "stdout",
          "text": [
            "batch 1400 loss: 0.3442560777068138\n"
          ]
        },
        {
          "output_type": "stream",
          "name": "stderr",
          "text": [
            "Train, Epoch 2 / 20:  90%|█████████ | 1413/1563 [00:58<00:06, 21.87it/s]"
          ]
        },
        {
          "output_type": "stream",
          "name": "stdout",
          "text": [
            "batch 1410 loss: 0.3000264331698418\n"
          ]
        },
        {
          "output_type": "stream",
          "name": "stderr",
          "text": [
            "Train, Epoch 2 / 20:  91%|█████████ | 1425/1563 [00:59<00:05, 23.20it/s]"
          ]
        },
        {
          "output_type": "stream",
          "name": "stdout",
          "text": [
            "batch 1420 loss: 0.3240217551589012\n"
          ]
        },
        {
          "output_type": "stream",
          "name": "stderr",
          "text": [
            "Train, Epoch 2 / 20:  92%|█████████▏| 1434/1563 [00:59<00:05, 24.24it/s]"
          ]
        },
        {
          "output_type": "stream",
          "name": "stdout",
          "text": [
            "batch 1430 loss: 0.2731920272111893\n"
          ]
        },
        {
          "output_type": "stream",
          "name": "stderr",
          "text": [
            "Train, Epoch 2 / 20:  92%|█████████▏| 1443/1563 [01:00<00:04, 24.25it/s]"
          ]
        },
        {
          "output_type": "stream",
          "name": "stdout",
          "text": [
            "batch 1440 loss: 0.3236252129077911\n"
          ]
        },
        {
          "output_type": "stream",
          "name": "stderr",
          "text": [
            "Train, Epoch 2 / 20:  93%|█████████▎| 1455/1563 [01:00<00:04, 24.87it/s]"
          ]
        },
        {
          "output_type": "stream",
          "name": "stdout",
          "text": [
            "batch 1450 loss: 0.2931600347161293\n"
          ]
        },
        {
          "output_type": "stream",
          "name": "stderr",
          "text": [
            "Train, Epoch 2 / 20:  94%|█████████▎| 1464/1563 [01:01<00:03, 24.93it/s]"
          ]
        },
        {
          "output_type": "stream",
          "name": "stdout",
          "text": [
            "batch 1460 loss: 0.31293133795261385\n"
          ]
        },
        {
          "output_type": "stream",
          "name": "stderr",
          "text": [
            "Train, Epoch 2 / 20:  94%|█████████▍| 1473/1563 [01:01<00:03, 24.55it/s]"
          ]
        },
        {
          "output_type": "stream",
          "name": "stdout",
          "text": [
            "batch 1470 loss: 0.3832743287086487\n"
          ]
        },
        {
          "output_type": "stream",
          "name": "stderr",
          "text": [
            "Train, Epoch 2 / 20:  95%|█████████▌| 1485/1563 [01:01<00:03, 24.70it/s]"
          ]
        },
        {
          "output_type": "stream",
          "name": "stdout",
          "text": [
            "batch 1480 loss: 0.3481237590312958\n"
          ]
        },
        {
          "output_type": "stream",
          "name": "stderr",
          "text": [
            "Train, Epoch 2 / 20:  96%|█████████▌| 1494/1563 [01:02<00:02, 24.85it/s]"
          ]
        },
        {
          "output_type": "stream",
          "name": "stdout",
          "text": [
            "batch 1490 loss: 0.3062587797641754\n"
          ]
        },
        {
          "output_type": "stream",
          "name": "stderr",
          "text": [
            "Train, Epoch 2 / 20:  96%|█████████▌| 1503/1563 [01:02<00:02, 24.87it/s]"
          ]
        },
        {
          "output_type": "stream",
          "name": "stdout",
          "text": [
            "batch 1500 loss: 0.2975587897002697\n"
          ]
        },
        {
          "output_type": "stream",
          "name": "stderr",
          "text": [
            "Train, Epoch 2 / 20:  97%|█████████▋| 1515/1563 [01:03<00:01, 25.01it/s]"
          ]
        },
        {
          "output_type": "stream",
          "name": "stdout",
          "text": [
            "batch 1510 loss: 0.32166707813739776\n"
          ]
        },
        {
          "output_type": "stream",
          "name": "stderr",
          "text": [
            "Train, Epoch 2 / 20:  98%|█████████▊| 1524/1563 [01:03<00:01, 24.39it/s]"
          ]
        },
        {
          "output_type": "stream",
          "name": "stdout",
          "text": [
            "batch 1520 loss: 0.27075456231832506\n"
          ]
        },
        {
          "output_type": "stream",
          "name": "stderr",
          "text": [
            "Train, Epoch 2 / 20:  98%|█████████▊| 1533/1563 [01:03<00:01, 24.82it/s]"
          ]
        },
        {
          "output_type": "stream",
          "name": "stdout",
          "text": [
            "batch 1530 loss: 0.2677240177989006\n"
          ]
        },
        {
          "output_type": "stream",
          "name": "stderr",
          "text": [
            "Train, Epoch 2 / 20:  99%|█████████▉| 1545/1563 [01:04<00:00, 24.87it/s]"
          ]
        },
        {
          "output_type": "stream",
          "name": "stdout",
          "text": [
            "batch 1540 loss: 0.32490474358201027\n"
          ]
        },
        {
          "output_type": "stream",
          "name": "stderr",
          "text": [
            "Train, Epoch 2 / 20:  99%|█████████▉| 1554/1563 [01:04<00:00, 24.88it/s]"
          ]
        },
        {
          "output_type": "stream",
          "name": "stdout",
          "text": [
            "batch 1550 loss: 0.31853189766407014\n"
          ]
        },
        {
          "output_type": "stream",
          "name": "stderr",
          "text": [
            "Train, Epoch 2 / 20: 100%|██████████| 1563/1563 [01:05<00:00, 24.02it/s]\n"
          ]
        },
        {
          "output_type": "stream",
          "name": "stdout",
          "text": [
            "batch 1560 loss: 0.33365279585123064\n"
          ]
        },
        {
          "output_type": "stream",
          "name": "stderr",
          "text": [
            "Test, Epoch 2 / 20: 100%|██████████| 1563/1563 [00:29<00:00, 52.75it/s]\n"
          ]
        },
        {
          "output_type": "stream",
          "name": "stdout",
          "text": [
            "Epoch 2, loss: 0.4618800037497282, accuracy: 0.79936\n"
          ]
        },
        {
          "output_type": "stream",
          "name": "stderr",
          "text": [
            "Train, Epoch 3 / 20:   1%|          | 12/1563 [00:00<01:11, 21.83it/s]"
          ]
        },
        {
          "output_type": "stream",
          "name": "stdout",
          "text": [
            "batch 10 loss: 0.3612811520695686\n"
          ]
        },
        {
          "output_type": "stream",
          "name": "stderr",
          "text": [
            "Train, Epoch 3 / 20:   2%|▏         | 24/1563 [00:01<01:13, 20.98it/s]"
          ]
        },
        {
          "output_type": "stream",
          "name": "stdout",
          "text": [
            "batch 20 loss: 0.3021635740995407\n"
          ]
        },
        {
          "output_type": "stream",
          "name": "stderr",
          "text": [
            "Train, Epoch 3 / 20:   2%|▏         | 33/1563 [00:01<01:05, 23.30it/s]"
          ]
        },
        {
          "output_type": "stream",
          "name": "stdout",
          "text": [
            "batch 30 loss: 0.23443946987390518\n"
          ]
        },
        {
          "output_type": "stream",
          "name": "stderr",
          "text": [
            "Train, Epoch 3 / 20:   3%|▎         | 42/1563 [00:01<01:03, 23.86it/s]"
          ]
        },
        {
          "output_type": "stream",
          "name": "stdout",
          "text": [
            "batch 40 loss: 0.3039336487650871\n"
          ]
        },
        {
          "output_type": "stream",
          "name": "stderr",
          "text": [
            "Train, Epoch 3 / 20:   3%|▎         | 54/1563 [00:02<01:01, 24.57it/s]"
          ]
        },
        {
          "output_type": "stream",
          "name": "stdout",
          "text": [
            "batch 50 loss: 0.2900997221469879\n"
          ]
        },
        {
          "output_type": "stream",
          "name": "stderr",
          "text": [
            "Train, Epoch 3 / 20:   4%|▍         | 63/1563 [00:02<01:01, 24.41it/s]"
          ]
        },
        {
          "output_type": "stream",
          "name": "stdout",
          "text": [
            "batch 60 loss: 0.31989234164357183\n"
          ]
        },
        {
          "output_type": "stream",
          "name": "stderr",
          "text": [
            "Train, Epoch 3 / 20:   5%|▍         | 75/1563 [00:03<01:00, 24.64it/s]"
          ]
        },
        {
          "output_type": "stream",
          "name": "stdout",
          "text": [
            "batch 70 loss: 0.2808642238378525\n"
          ]
        },
        {
          "output_type": "stream",
          "name": "stderr",
          "text": [
            "Train, Epoch 3 / 20:   5%|▌         | 84/1563 [00:03<00:59, 24.77it/s]"
          ]
        },
        {
          "output_type": "stream",
          "name": "stdout",
          "text": [
            "batch 80 loss: 0.3438254475593567\n"
          ]
        },
        {
          "output_type": "stream",
          "name": "stderr",
          "text": [
            "Train, Epoch 3 / 20:   6%|▌         | 93/1563 [00:03<00:59, 24.76it/s]"
          ]
        },
        {
          "output_type": "stream",
          "name": "stdout",
          "text": [
            "batch 90 loss: 0.31006359606981276\n"
          ]
        },
        {
          "output_type": "stream",
          "name": "stderr",
          "text": [
            "Train, Epoch 3 / 20:   7%|▋         | 105/1563 [00:04<00:58, 24.74it/s]"
          ]
        },
        {
          "output_type": "stream",
          "name": "stdout",
          "text": [
            "batch 100 loss: 0.3306683346629143\n"
          ]
        },
        {
          "output_type": "stream",
          "name": "stderr",
          "text": [
            "Train, Epoch 3 / 20:   7%|▋         | 114/1563 [00:04<00:58, 24.67it/s]"
          ]
        },
        {
          "output_type": "stream",
          "name": "stdout",
          "text": [
            "batch 110 loss: 0.3109341710805893\n"
          ]
        },
        {
          "output_type": "stream",
          "name": "stderr",
          "text": [
            "Train, Epoch 3 / 20:   8%|▊         | 123/1563 [00:05<00:58, 24.56it/s]"
          ]
        },
        {
          "output_type": "stream",
          "name": "stdout",
          "text": [
            "batch 120 loss: 0.3469917833805084\n"
          ]
        },
        {
          "output_type": "stream",
          "name": "stderr",
          "text": [
            "Train, Epoch 3 / 20:   8%|▊         | 132/1563 [00:05<00:58, 24.62it/s]"
          ]
        },
        {
          "output_type": "stream",
          "name": "stdout",
          "text": [
            "batch 130 loss: 0.28828305974602697\n"
          ]
        },
        {
          "output_type": "stream",
          "name": "stderr",
          "text": [
            "Train, Epoch 3 / 20:   9%|▉         | 144/1563 [00:06<00:57, 24.62it/s]"
          ]
        },
        {
          "output_type": "stream",
          "name": "stdout",
          "text": [
            "batch 140 loss: 0.2819612056016922\n"
          ]
        },
        {
          "output_type": "stream",
          "name": "stderr",
          "text": [
            "Train, Epoch 3 / 20:  10%|▉         | 153/1563 [00:06<00:57, 24.36it/s]"
          ]
        },
        {
          "output_type": "stream",
          "name": "stdout",
          "text": [
            "batch 150 loss: 0.33430557399988176\n"
          ]
        },
        {
          "output_type": "stream",
          "name": "stderr",
          "text": [
            "Train, Epoch 3 / 20:  11%|█         | 165/1563 [00:06<00:57, 24.50it/s]"
          ]
        },
        {
          "output_type": "stream",
          "name": "stdout",
          "text": [
            "batch 160 loss: 0.31617102921009066\n"
          ]
        },
        {
          "output_type": "stream",
          "name": "stderr",
          "text": [
            "Train, Epoch 3 / 20:  11%|█         | 174/1563 [00:07<00:56, 24.68it/s]"
          ]
        },
        {
          "output_type": "stream",
          "name": "stdout",
          "text": [
            "batch 170 loss: 0.3109236598014832\n"
          ]
        },
        {
          "output_type": "stream",
          "name": "stderr",
          "text": [
            "Train, Epoch 3 / 20:  12%|█▏        | 183/1563 [00:07<00:55, 24.75it/s]"
          ]
        },
        {
          "output_type": "stream",
          "name": "stdout",
          "text": [
            "batch 180 loss: 0.34172007739543914\n"
          ]
        },
        {
          "output_type": "stream",
          "name": "stderr",
          "text": [
            "Train, Epoch 3 / 20:  12%|█▏        | 195/1563 [00:08<00:55, 24.61it/s]"
          ]
        },
        {
          "output_type": "stream",
          "name": "stdout",
          "text": [
            "batch 190 loss: 0.2767410188913345\n"
          ]
        },
        {
          "output_type": "stream",
          "name": "stderr",
          "text": [
            "Train, Epoch 3 / 20:  13%|█▎        | 204/1563 [00:08<00:54, 24.90it/s]"
          ]
        },
        {
          "output_type": "stream",
          "name": "stdout",
          "text": [
            "batch 200 loss: 0.3549062669277191\n"
          ]
        },
        {
          "output_type": "stream",
          "name": "stderr",
          "text": [
            "Train, Epoch 3 / 20:  14%|█▎        | 213/1563 [00:08<00:54, 24.75it/s]"
          ]
        },
        {
          "output_type": "stream",
          "name": "stdout",
          "text": [
            "batch 210 loss: 0.3025678895413876\n"
          ]
        },
        {
          "output_type": "stream",
          "name": "stderr",
          "text": [
            "Train, Epoch 3 / 20:  14%|█▍        | 225/1563 [00:09<00:53, 24.82it/s]"
          ]
        },
        {
          "output_type": "stream",
          "name": "stdout",
          "text": [
            "batch 220 loss: 0.2647088892757893\n"
          ]
        },
        {
          "output_type": "stream",
          "name": "stderr",
          "text": [
            "Train, Epoch 3 / 20:  15%|█▍        | 234/1563 [00:09<00:53, 24.75it/s]"
          ]
        },
        {
          "output_type": "stream",
          "name": "stdout",
          "text": [
            "batch 230 loss: 0.36846083253622053\n"
          ]
        },
        {
          "output_type": "stream",
          "name": "stderr",
          "text": [
            "Train, Epoch 3 / 20:  16%|█▌        | 243/1563 [00:10<00:53, 24.57it/s]"
          ]
        },
        {
          "output_type": "stream",
          "name": "stdout",
          "text": [
            "batch 240 loss: 0.2985044106841087\n"
          ]
        },
        {
          "output_type": "stream",
          "name": "stderr",
          "text": [
            "Train, Epoch 3 / 20:  16%|█▋        | 255/1563 [00:10<00:52, 24.74it/s]"
          ]
        },
        {
          "output_type": "stream",
          "name": "stdout",
          "text": [
            "batch 250 loss: 0.3113438993692398\n"
          ]
        },
        {
          "output_type": "stream",
          "name": "stderr",
          "text": [
            "Train, Epoch 3 / 20:  17%|█▋        | 264/1563 [00:10<00:52, 24.79it/s]"
          ]
        },
        {
          "output_type": "stream",
          "name": "stdout",
          "text": [
            "batch 260 loss: 0.32415861189365386\n"
          ]
        },
        {
          "output_type": "stream",
          "name": "stderr",
          "text": [
            "Train, Epoch 3 / 20:  17%|█▋        | 273/1563 [00:11<00:54, 23.81it/s]"
          ]
        },
        {
          "output_type": "stream",
          "name": "stdout",
          "text": [
            "batch 270 loss: 0.29124501198530195\n"
          ]
        },
        {
          "output_type": "stream",
          "name": "stderr",
          "text": [
            "Train, Epoch 3 / 20:  18%|█▊        | 282/1563 [00:11<00:56, 22.51it/s]"
          ]
        },
        {
          "output_type": "stream",
          "name": "stdout",
          "text": [
            "batch 280 loss: 0.2928178787231445\n"
          ]
        },
        {
          "output_type": "stream",
          "name": "stderr",
          "text": [
            "Train, Epoch 3 / 20:  19%|█▉        | 294/1563 [00:12<00:58, 21.84it/s]"
          ]
        },
        {
          "output_type": "stream",
          "name": "stdout",
          "text": [
            "batch 290 loss: 0.35746983587741854\n"
          ]
        },
        {
          "output_type": "stream",
          "name": "stderr",
          "text": [
            "Train, Epoch 3 / 20:  19%|█▉        | 303/1563 [00:12<00:57, 22.00it/s]"
          ]
        },
        {
          "output_type": "stream",
          "name": "stdout",
          "text": [
            "batch 300 loss: 0.3146261438727379\n"
          ]
        },
        {
          "output_type": "stream",
          "name": "stderr",
          "text": [
            "Train, Epoch 3 / 20:  20%|█▉        | 312/1563 [00:13<00:57, 21.83it/s]"
          ]
        },
        {
          "output_type": "stream",
          "name": "stdout",
          "text": [
            "batch 310 loss: 0.26596259921789167\n"
          ]
        },
        {
          "output_type": "stream",
          "name": "stderr",
          "text": [
            "Train, Epoch 3 / 20:  21%|██        | 324/1563 [00:13<00:53, 23.03it/s]"
          ]
        },
        {
          "output_type": "stream",
          "name": "stdout",
          "text": [
            "batch 320 loss: 0.21799768023192884\n"
          ]
        },
        {
          "output_type": "stream",
          "name": "stderr",
          "text": [
            "Train, Epoch 3 / 20:  21%|██▏       | 333/1563 [00:13<00:51, 23.72it/s]"
          ]
        },
        {
          "output_type": "stream",
          "name": "stdout",
          "text": [
            "batch 330 loss: 0.37586979269981385\n"
          ]
        },
        {
          "output_type": "stream",
          "name": "stderr",
          "text": [
            "Train, Epoch 3 / 20:  22%|██▏       | 345/1563 [00:14<00:49, 24.41it/s]"
          ]
        },
        {
          "output_type": "stream",
          "name": "stdout",
          "text": [
            "batch 340 loss: 0.36933417320251466\n"
          ]
        },
        {
          "output_type": "stream",
          "name": "stderr",
          "text": [
            "Train, Epoch 3 / 20:  23%|██▎       | 354/1563 [00:14<00:49, 24.60it/s]"
          ]
        },
        {
          "output_type": "stream",
          "name": "stdout",
          "text": [
            "batch 350 loss: 0.32284086644649507\n"
          ]
        },
        {
          "output_type": "stream",
          "name": "stderr",
          "text": [
            "Train, Epoch 3 / 20:  23%|██▎       | 363/1563 [00:15<00:48, 24.50it/s]"
          ]
        },
        {
          "output_type": "stream",
          "name": "stdout",
          "text": [
            "batch 360 loss: 0.30929277688264845\n"
          ]
        },
        {
          "output_type": "stream",
          "name": "stderr",
          "text": [
            "Train, Epoch 3 / 20:  24%|██▍       | 375/1563 [00:15<00:47, 24.84it/s]"
          ]
        },
        {
          "output_type": "stream",
          "name": "stdout",
          "text": [
            "batch 370 loss: 0.34589322060346606\n"
          ]
        },
        {
          "output_type": "stream",
          "name": "stderr",
          "text": [
            "Train, Epoch 3 / 20:  25%|██▍       | 384/1563 [00:16<00:47, 24.66it/s]"
          ]
        },
        {
          "output_type": "stream",
          "name": "stdout",
          "text": [
            "batch 380 loss: 0.3166315644979477\n"
          ]
        },
        {
          "output_type": "stream",
          "name": "stderr",
          "text": [
            "Train, Epoch 3 / 20:  25%|██▌       | 393/1563 [00:16<00:47, 24.69it/s]"
          ]
        },
        {
          "output_type": "stream",
          "name": "stdout",
          "text": [
            "batch 390 loss: 0.23420992866158485\n"
          ]
        },
        {
          "output_type": "stream",
          "name": "stderr",
          "text": [
            "Train, Epoch 3 / 20:  26%|██▌       | 405/1563 [00:16<00:46, 24.76it/s]"
          ]
        },
        {
          "output_type": "stream",
          "name": "stdout",
          "text": [
            "batch 400 loss: 0.3877770289778709\n"
          ]
        },
        {
          "output_type": "stream",
          "name": "stderr",
          "text": [
            "Train, Epoch 3 / 20:  26%|██▋       | 414/1563 [00:17<00:46, 24.82it/s]"
          ]
        },
        {
          "output_type": "stream",
          "name": "stdout",
          "text": [
            "batch 410 loss: 0.2504273973405361\n"
          ]
        },
        {
          "output_type": "stream",
          "name": "stderr",
          "text": [
            "Train, Epoch 3 / 20:  27%|██▋       | 423/1563 [00:17<00:46, 24.69it/s]"
          ]
        },
        {
          "output_type": "stream",
          "name": "stdout",
          "text": [
            "batch 420 loss: 0.3162396363914013\n"
          ]
        },
        {
          "output_type": "stream",
          "name": "stderr",
          "text": [
            "Train, Epoch 3 / 20:  28%|██▊       | 432/1563 [00:17<00:46, 24.40it/s]"
          ]
        },
        {
          "output_type": "stream",
          "name": "stdout",
          "text": [
            "batch 430 loss: 0.4026048943400383\n"
          ]
        },
        {
          "output_type": "stream",
          "name": "stderr",
          "text": [
            "Train, Epoch 3 / 20:  28%|██▊       | 444/1563 [00:18<00:45, 24.75it/s]"
          ]
        },
        {
          "output_type": "stream",
          "name": "stdout",
          "text": [
            "batch 440 loss: 0.41327731907367704\n"
          ]
        },
        {
          "output_type": "stream",
          "name": "stderr",
          "text": [
            "Train, Epoch 3 / 20:  29%|██▉       | 453/1563 [00:18<00:45, 24.62it/s]"
          ]
        },
        {
          "output_type": "stream",
          "name": "stdout",
          "text": [
            "batch 450 loss: 0.3054276406764984\n"
          ]
        },
        {
          "output_type": "stream",
          "name": "stderr",
          "text": [
            "Train, Epoch 3 / 20:  30%|██▉       | 465/1563 [00:19<00:44, 24.58it/s]"
          ]
        },
        {
          "output_type": "stream",
          "name": "stdout",
          "text": [
            "batch 460 loss: 0.3260527357459068\n"
          ]
        },
        {
          "output_type": "stream",
          "name": "stderr",
          "text": [
            "Train, Epoch 3 / 20:  30%|███       | 474/1563 [00:19<00:43, 24.79it/s]"
          ]
        },
        {
          "output_type": "stream",
          "name": "stdout",
          "text": [
            "batch 470 loss: 0.29351040720939636\n"
          ]
        },
        {
          "output_type": "stream",
          "name": "stderr",
          "text": [
            "Train, Epoch 3 / 20:  31%|███       | 483/1563 [00:20<00:44, 24.35it/s]"
          ]
        },
        {
          "output_type": "stream",
          "name": "stdout",
          "text": [
            "batch 480 loss: 0.3652501180768013\n"
          ]
        },
        {
          "output_type": "stream",
          "name": "stderr",
          "text": [
            "Train, Epoch 3 / 20:  32%|███▏      | 495/1563 [00:20<00:43, 24.50it/s]"
          ]
        },
        {
          "output_type": "stream",
          "name": "stdout",
          "text": [
            "batch 490 loss: 0.28322947323322295\n"
          ]
        },
        {
          "output_type": "stream",
          "name": "stderr",
          "text": [
            "Train, Epoch 3 / 20:  32%|███▏      | 504/1563 [00:20<00:43, 24.48it/s]"
          ]
        },
        {
          "output_type": "stream",
          "name": "stdout",
          "text": [
            "batch 500 loss: 0.4385853037238121\n"
          ]
        },
        {
          "output_type": "stream",
          "name": "stderr",
          "text": [
            "Train, Epoch 3 / 20:  33%|███▎      | 513/1563 [00:21<00:42, 24.56it/s]"
          ]
        },
        {
          "output_type": "stream",
          "name": "stdout",
          "text": [
            "batch 510 loss: 0.2531095691025257\n"
          ]
        },
        {
          "output_type": "stream",
          "name": "stderr",
          "text": [
            "Train, Epoch 3 / 20:  34%|███▎      | 525/1563 [00:21<00:41, 24.72it/s]"
          ]
        },
        {
          "output_type": "stream",
          "name": "stdout",
          "text": [
            "batch 520 loss: 0.3094510644674301\n"
          ]
        },
        {
          "output_type": "stream",
          "name": "stderr",
          "text": [
            "Train, Epoch 3 / 20:  34%|███▍      | 534/1563 [00:22<00:41, 24.55it/s]"
          ]
        },
        {
          "output_type": "stream",
          "name": "stdout",
          "text": [
            "batch 530 loss: 0.30873587876558306\n"
          ]
        },
        {
          "output_type": "stream",
          "name": "stderr",
          "text": [
            "Train, Epoch 3 / 20:  35%|███▍      | 543/1563 [00:22<00:41, 24.63it/s]"
          ]
        },
        {
          "output_type": "stream",
          "name": "stdout",
          "text": [
            "batch 540 loss: 0.32180910408496854\n"
          ]
        },
        {
          "output_type": "stream",
          "name": "stderr",
          "text": [
            "Train, Epoch 3 / 20:  36%|███▌      | 555/1563 [00:22<00:40, 24.89it/s]"
          ]
        },
        {
          "output_type": "stream",
          "name": "stdout",
          "text": [
            "batch 550 loss: 0.3552399627864361\n"
          ]
        },
        {
          "output_type": "stream",
          "name": "stderr",
          "text": [
            "Train, Epoch 3 / 20:  36%|███▌      | 564/1563 [00:23<00:41, 24.32it/s]"
          ]
        },
        {
          "output_type": "stream",
          "name": "stdout",
          "text": [
            "batch 560 loss: 0.40284943357110026\n"
          ]
        },
        {
          "output_type": "stream",
          "name": "stderr",
          "text": [
            "Train, Epoch 3 / 20:  37%|███▋      | 573/1563 [00:23<00:42, 23.03it/s]"
          ]
        },
        {
          "output_type": "stream",
          "name": "stdout",
          "text": [
            "batch 570 loss: 0.3276021771132946\n"
          ]
        },
        {
          "output_type": "stream",
          "name": "stderr",
          "text": [
            "Train, Epoch 3 / 20:  37%|███▋      | 582/1563 [00:24<00:44, 22.12it/s]"
          ]
        },
        {
          "output_type": "stream",
          "name": "stdout",
          "text": [
            "batch 580 loss: 0.3794849470257759\n"
          ]
        },
        {
          "output_type": "stream",
          "name": "stderr",
          "text": [
            "Train, Epoch 3 / 20:  38%|███▊      | 594/1563 [00:24<00:44, 21.83it/s]"
          ]
        },
        {
          "output_type": "stream",
          "name": "stdout",
          "text": [
            "batch 590 loss: 0.3089323937892914\n"
          ]
        },
        {
          "output_type": "stream",
          "name": "stderr",
          "text": [
            "Train, Epoch 3 / 20:  39%|███▊      | 603/1563 [00:25<00:45, 21.17it/s]"
          ]
        },
        {
          "output_type": "stream",
          "name": "stdout",
          "text": [
            "batch 600 loss: 0.28576742559671403\n"
          ]
        },
        {
          "output_type": "stream",
          "name": "stderr",
          "text": [
            "Train, Epoch 3 / 20:  39%|███▉      | 615/1563 [00:25<00:41, 22.71it/s]"
          ]
        },
        {
          "output_type": "stream",
          "name": "stdout",
          "text": [
            "batch 610 loss: 0.28227822110056877\n"
          ]
        },
        {
          "output_type": "stream",
          "name": "stderr",
          "text": [
            "Train, Epoch 3 / 20:  40%|███▉      | 624/1563 [00:26<00:39, 23.90it/s]"
          ]
        },
        {
          "output_type": "stream",
          "name": "stdout",
          "text": [
            "batch 620 loss: 0.2893090158700943\n"
          ]
        },
        {
          "output_type": "stream",
          "name": "stderr",
          "text": [
            "Train, Epoch 3 / 20:  40%|████      | 633/1563 [00:26<00:38, 24.07it/s]"
          ]
        },
        {
          "output_type": "stream",
          "name": "stdout",
          "text": [
            "batch 630 loss: 0.3392844468355179\n"
          ]
        },
        {
          "output_type": "stream",
          "name": "stderr",
          "text": [
            "Train, Epoch 3 / 20:  41%|████▏     | 645/1563 [00:26<00:37, 24.23it/s]"
          ]
        },
        {
          "output_type": "stream",
          "name": "stdout",
          "text": [
            "batch 640 loss: 0.2731360301375389\n"
          ]
        },
        {
          "output_type": "stream",
          "name": "stderr",
          "text": [
            "Train, Epoch 3 / 20:  42%|████▏     | 654/1563 [00:27<00:37, 24.32it/s]"
          ]
        },
        {
          "output_type": "stream",
          "name": "stdout",
          "text": [
            "batch 650 loss: 0.40006336718797686\n"
          ]
        },
        {
          "output_type": "stream",
          "name": "stderr",
          "text": [
            "Train, Epoch 3 / 20:  42%|████▏     | 663/1563 [00:27<00:36, 24.54it/s]"
          ]
        },
        {
          "output_type": "stream",
          "name": "stdout",
          "text": [
            "batch 660 loss: 0.42566275745630267\n"
          ]
        },
        {
          "output_type": "stream",
          "name": "stderr",
          "text": [
            "Train, Epoch 3 / 20:  43%|████▎     | 675/1563 [00:28<00:35, 24.69it/s]"
          ]
        },
        {
          "output_type": "stream",
          "name": "stdout",
          "text": [
            "batch 670 loss: 0.24665458053350447\n"
          ]
        },
        {
          "output_type": "stream",
          "name": "stderr",
          "text": [
            "Train, Epoch 3 / 20:  44%|████▍     | 684/1563 [00:28<00:35, 24.52it/s]"
          ]
        },
        {
          "output_type": "stream",
          "name": "stdout",
          "text": [
            "batch 680 loss: 0.4303412616252899\n"
          ]
        },
        {
          "output_type": "stream",
          "name": "stderr",
          "text": [
            "Train, Epoch 3 / 20:  44%|████▍     | 693/1563 [00:28<00:36, 24.06it/s]"
          ]
        },
        {
          "output_type": "stream",
          "name": "stdout",
          "text": [
            "batch 690 loss: 0.3093492701649666\n"
          ]
        },
        {
          "output_type": "stream",
          "name": "stderr",
          "text": [
            "Train, Epoch 3 / 20:  45%|████▍     | 702/1563 [00:29<00:35, 24.41it/s]"
          ]
        },
        {
          "output_type": "stream",
          "name": "stdout",
          "text": [
            "batch 700 loss: 0.35091327130794525\n"
          ]
        },
        {
          "output_type": "stream",
          "name": "stderr",
          "text": [
            "Train, Epoch 3 / 20:  46%|████▌     | 714/1563 [00:29<00:34, 24.59it/s]"
          ]
        },
        {
          "output_type": "stream",
          "name": "stdout",
          "text": [
            "batch 710 loss: 0.3815924659371376\n"
          ]
        },
        {
          "output_type": "stream",
          "name": "stderr",
          "text": [
            "Train, Epoch 3 / 20:  46%|████▋     | 723/1563 [00:30<00:34, 24.67it/s]"
          ]
        },
        {
          "output_type": "stream",
          "name": "stdout",
          "text": [
            "batch 720 loss: 0.27344470769166945\n"
          ]
        },
        {
          "output_type": "stream",
          "name": "stderr",
          "text": [
            "Train, Epoch 3 / 20:  47%|████▋     | 735/1563 [00:30<00:33, 24.72it/s]"
          ]
        },
        {
          "output_type": "stream",
          "name": "stdout",
          "text": [
            "batch 730 loss: 0.3578189998865128\n"
          ]
        },
        {
          "output_type": "stream",
          "name": "stderr",
          "text": [
            "Train, Epoch 3 / 20:  48%|████▊     | 744/1563 [00:30<00:33, 24.72it/s]"
          ]
        },
        {
          "output_type": "stream",
          "name": "stdout",
          "text": [
            "batch 740 loss: 0.3365393102169037\n"
          ]
        },
        {
          "output_type": "stream",
          "name": "stderr",
          "text": [
            "Train, Epoch 3 / 20:  48%|████▊     | 753/1563 [00:31<00:34, 23.82it/s]"
          ]
        },
        {
          "output_type": "stream",
          "name": "stdout",
          "text": [
            "batch 750 loss: 0.25519910007715224\n"
          ]
        },
        {
          "output_type": "stream",
          "name": "stderr",
          "text": [
            "Train, Epoch 3 / 20:  49%|████▉     | 762/1563 [00:31<00:32, 24.29it/s]"
          ]
        },
        {
          "output_type": "stream",
          "name": "stdout",
          "text": [
            "batch 760 loss: 0.2952660322189331\n"
          ]
        },
        {
          "output_type": "stream",
          "name": "stderr",
          "text": [
            "Train, Epoch 3 / 20:  50%|████▉     | 774/1563 [00:32<00:32, 24.30it/s]"
          ]
        },
        {
          "output_type": "stream",
          "name": "stdout",
          "text": [
            "batch 770 loss: 0.340319462120533\n"
          ]
        },
        {
          "output_type": "stream",
          "name": "stderr",
          "text": [
            "Train, Epoch 3 / 20:  50%|█████     | 783/1563 [00:32<00:32, 24.32it/s]"
          ]
        },
        {
          "output_type": "stream",
          "name": "stdout",
          "text": [
            "batch 780 loss: 0.31554832458496096\n"
          ]
        },
        {
          "output_type": "stream",
          "name": "stderr",
          "text": [
            "Train, Epoch 3 / 20:  51%|█████     | 795/1563 [00:33<00:31, 24.58it/s]"
          ]
        },
        {
          "output_type": "stream",
          "name": "stdout",
          "text": [
            "batch 790 loss: 0.2985275939106941\n"
          ]
        },
        {
          "output_type": "stream",
          "name": "stderr",
          "text": [
            "Train, Epoch 3 / 20:  51%|█████▏    | 804/1563 [00:33<00:30, 24.56it/s]"
          ]
        },
        {
          "output_type": "stream",
          "name": "stdout",
          "text": [
            "batch 800 loss: 0.3077985063195229\n"
          ]
        },
        {
          "output_type": "stream",
          "name": "stderr",
          "text": [
            "Train, Epoch 3 / 20:  52%|█████▏    | 813/1563 [00:33<00:30, 24.56it/s]"
          ]
        },
        {
          "output_type": "stream",
          "name": "stdout",
          "text": [
            "batch 810 loss: 0.28665361031889913\n"
          ]
        },
        {
          "output_type": "stream",
          "name": "stderr",
          "text": [
            "Train, Epoch 3 / 20:  53%|█████▎    | 825/1563 [00:34<00:29, 24.67it/s]"
          ]
        },
        {
          "output_type": "stream",
          "name": "stdout",
          "text": [
            "batch 820 loss: 0.3243150696158409\n"
          ]
        },
        {
          "output_type": "stream",
          "name": "stderr",
          "text": [
            "Train, Epoch 3 / 20:  53%|█████▎    | 834/1563 [00:34<00:29, 24.65it/s]"
          ]
        },
        {
          "output_type": "stream",
          "name": "stdout",
          "text": [
            "batch 830 loss: 0.2197428748011589\n"
          ]
        },
        {
          "output_type": "stream",
          "name": "stderr",
          "text": [
            "Train, Epoch 3 / 20:  54%|█████▍    | 843/1563 [00:35<00:29, 24.19it/s]"
          ]
        },
        {
          "output_type": "stream",
          "name": "stdout",
          "text": [
            "batch 840 loss: 0.3076521523296833\n"
          ]
        },
        {
          "output_type": "stream",
          "name": "stderr",
          "text": [
            "Train, Epoch 3 / 20:  55%|█████▍    | 852/1563 [00:35<00:29, 24.27it/s]"
          ]
        },
        {
          "output_type": "stream",
          "name": "stdout",
          "text": [
            "batch 850 loss: 0.31809090822935104\n"
          ]
        },
        {
          "output_type": "stream",
          "name": "stderr",
          "text": [
            "Train, Epoch 3 / 20:  55%|█████▌    | 864/1563 [00:35<00:30, 22.63it/s]"
          ]
        },
        {
          "output_type": "stream",
          "name": "stdout",
          "text": [
            "batch 860 loss: 0.31695033609867096\n"
          ]
        },
        {
          "output_type": "stream",
          "name": "stderr",
          "text": [
            "Train, Epoch 3 / 20:  56%|█████▌    | 873/1563 [00:36<00:31, 22.12it/s]"
          ]
        },
        {
          "output_type": "stream",
          "name": "stdout",
          "text": [
            "batch 870 loss: 0.252034392952919\n"
          ]
        },
        {
          "output_type": "stream",
          "name": "stderr",
          "text": [
            "Train, Epoch 3 / 20:  56%|█████▋    | 882/1563 [00:36<00:31, 21.68it/s]"
          ]
        },
        {
          "output_type": "stream",
          "name": "stdout",
          "text": [
            "batch 880 loss: 0.29783681482076646\n"
          ]
        },
        {
          "output_type": "stream",
          "name": "stderr",
          "text": [
            "Train, Epoch 3 / 20:  57%|█████▋    | 894/1563 [00:37<00:30, 21.78it/s]"
          ]
        },
        {
          "output_type": "stream",
          "name": "stdout",
          "text": [
            "batch 890 loss: 0.33944964706897734\n"
          ]
        },
        {
          "output_type": "stream",
          "name": "stderr",
          "text": [
            "Train, Epoch 3 / 20:  58%|█████▊    | 903/1563 [00:37<00:29, 22.73it/s]"
          ]
        },
        {
          "output_type": "stream",
          "name": "stdout",
          "text": [
            "batch 900 loss: 0.3385383188724518\n"
          ]
        },
        {
          "output_type": "stream",
          "name": "stderr",
          "text": [
            "Train, Epoch 3 / 20:  59%|█████▊    | 915/1563 [00:38<00:26, 24.15it/s]"
          ]
        },
        {
          "output_type": "stream",
          "name": "stdout",
          "text": [
            "batch 910 loss: 0.3590881258249283\n"
          ]
        },
        {
          "output_type": "stream",
          "name": "stderr",
          "text": [
            "Train, Epoch 3 / 20:  59%|█████▉    | 924/1563 [00:38<00:26, 24.40it/s]"
          ]
        },
        {
          "output_type": "stream",
          "name": "stdout",
          "text": [
            "batch 920 loss: 0.28319277316331865\n"
          ]
        },
        {
          "output_type": "stream",
          "name": "stderr",
          "text": [
            "Train, Epoch 3 / 20:  60%|█████▉    | 933/1563 [00:38<00:25, 24.70it/s]"
          ]
        },
        {
          "output_type": "stream",
          "name": "stdout",
          "text": [
            "batch 930 loss: 0.3613795228302479\n"
          ]
        },
        {
          "output_type": "stream",
          "name": "stderr",
          "text": [
            "Train, Epoch 3 / 20:  60%|██████    | 945/1563 [00:39<00:25, 24.68it/s]"
          ]
        },
        {
          "output_type": "stream",
          "name": "stdout",
          "text": [
            "batch 940 loss: 0.29613447189331055\n"
          ]
        },
        {
          "output_type": "stream",
          "name": "stderr",
          "text": [
            "Train, Epoch 3 / 20:  61%|██████    | 954/1563 [00:39<00:24, 24.68it/s]"
          ]
        },
        {
          "output_type": "stream",
          "name": "stdout",
          "text": [
            "batch 950 loss: 0.29387338310480116\n"
          ]
        },
        {
          "output_type": "stream",
          "name": "stderr",
          "text": [
            "Train, Epoch 3 / 20:  62%|██████▏   | 963/1563 [00:40<00:24, 24.77it/s]"
          ]
        },
        {
          "output_type": "stream",
          "name": "stdout",
          "text": [
            "batch 960 loss: 0.28716719299554827\n"
          ]
        },
        {
          "output_type": "stream",
          "name": "stderr",
          "text": [
            "Train, Epoch 3 / 20:  62%|██████▏   | 972/1563 [00:40<00:23, 24.66it/s]"
          ]
        },
        {
          "output_type": "stream",
          "name": "stdout",
          "text": [
            "batch 970 loss: 0.3250977858901024\n"
          ]
        },
        {
          "output_type": "stream",
          "name": "stderr",
          "text": [
            "Train, Epoch 3 / 20:  63%|██████▎   | 984/1563 [00:41<00:23, 24.83it/s]"
          ]
        },
        {
          "output_type": "stream",
          "name": "stdout",
          "text": [
            "batch 980 loss: 0.3319790229201317\n"
          ]
        },
        {
          "output_type": "stream",
          "name": "stderr",
          "text": [
            "Train, Epoch 3 / 20:  64%|██████▎   | 993/1563 [00:41<00:23, 24.74it/s]"
          ]
        },
        {
          "output_type": "stream",
          "name": "stdout",
          "text": [
            "batch 990 loss: 0.24324941337108613\n"
          ]
        },
        {
          "output_type": "stream",
          "name": "stderr",
          "text": [
            "Train, Epoch 3 / 20:  64%|██████▍   | 1005/1563 [00:41<00:22, 24.74it/s]"
          ]
        },
        {
          "output_type": "stream",
          "name": "stdout",
          "text": [
            "batch 1000 loss: 0.34231643080711366\n"
          ]
        },
        {
          "output_type": "stream",
          "name": "stderr",
          "text": [
            "Train, Epoch 3 / 20:  65%|██████▍   | 1014/1563 [00:42<00:22, 24.78it/s]"
          ]
        },
        {
          "output_type": "stream",
          "name": "stdout",
          "text": [
            "batch 1010 loss: 0.3086524836719036\n"
          ]
        },
        {
          "output_type": "stream",
          "name": "stderr",
          "text": [
            "Train, Epoch 3 / 20:  65%|██████▌   | 1023/1563 [00:42<00:21, 24.79it/s]"
          ]
        },
        {
          "output_type": "stream",
          "name": "stdout",
          "text": [
            "batch 1020 loss: 0.3180746003985405\n"
          ]
        },
        {
          "output_type": "stream",
          "name": "stderr",
          "text": [
            "Train, Epoch 3 / 20:  66%|██████▌   | 1032/1563 [00:42<00:21, 24.62it/s]"
          ]
        },
        {
          "output_type": "stream",
          "name": "stdout",
          "text": [
            "batch 1030 loss: 0.26858790293335916\n"
          ]
        },
        {
          "output_type": "stream",
          "name": "stderr",
          "text": [
            "Train, Epoch 3 / 20:  67%|██████▋   | 1044/1563 [00:43<00:20, 24.83it/s]"
          ]
        },
        {
          "output_type": "stream",
          "name": "stdout",
          "text": [
            "batch 1040 loss: 0.35080331563949585\n"
          ]
        },
        {
          "output_type": "stream",
          "name": "stderr",
          "text": [
            "Train, Epoch 3 / 20:  67%|██████▋   | 1053/1563 [00:43<00:20, 24.81it/s]"
          ]
        },
        {
          "output_type": "stream",
          "name": "stdout",
          "text": [
            "batch 1050 loss: 0.3386603593826294\n"
          ]
        },
        {
          "output_type": "stream",
          "name": "stderr",
          "text": [
            "Train, Epoch 3 / 20:  68%|██████▊   | 1065/1563 [00:44<00:20, 24.75it/s]"
          ]
        },
        {
          "output_type": "stream",
          "name": "stdout",
          "text": [
            "batch 1060 loss: 0.30549328923225405\n"
          ]
        },
        {
          "output_type": "stream",
          "name": "stderr",
          "text": [
            "Train, Epoch 3 / 20:  69%|██████▊   | 1074/1563 [00:44<00:19, 24.71it/s]"
          ]
        },
        {
          "output_type": "stream",
          "name": "stdout",
          "text": [
            "batch 1070 loss: 0.27650130689144137\n"
          ]
        },
        {
          "output_type": "stream",
          "name": "stderr",
          "text": [
            "Train, Epoch 3 / 20:  69%|██████▉   | 1083/1563 [00:45<00:19, 24.74it/s]"
          ]
        },
        {
          "output_type": "stream",
          "name": "stdout",
          "text": [
            "batch 1080 loss: 0.3059900477528572\n"
          ]
        },
        {
          "output_type": "stream",
          "name": "stderr",
          "text": [
            "Train, Epoch 3 / 20:  70%|███████   | 1095/1563 [00:45<00:18, 24.76it/s]"
          ]
        },
        {
          "output_type": "stream",
          "name": "stdout",
          "text": [
            "batch 1090 loss: 0.28130612447857856\n"
          ]
        },
        {
          "output_type": "stream",
          "name": "stderr",
          "text": [
            "Train, Epoch 3 / 20:  71%|███████   | 1104/1563 [00:45<00:18, 24.80it/s]"
          ]
        },
        {
          "output_type": "stream",
          "name": "stdout",
          "text": [
            "batch 1100 loss: 0.33677469193935394\n"
          ]
        },
        {
          "output_type": "stream",
          "name": "stderr",
          "text": [
            "Train, Epoch 3 / 20:  71%|███████   | 1113/1563 [00:46<00:18, 24.70it/s]"
          ]
        },
        {
          "output_type": "stream",
          "name": "stdout",
          "text": [
            "batch 1110 loss: 0.31571459472179414\n"
          ]
        },
        {
          "output_type": "stream",
          "name": "stderr",
          "text": [
            "Train, Epoch 3 / 20:  72%|███████▏  | 1122/1563 [00:46<00:17, 24.85it/s]"
          ]
        },
        {
          "output_type": "stream",
          "name": "stdout",
          "text": [
            "batch 1120 loss: 0.3065657317638397\n"
          ]
        },
        {
          "output_type": "stream",
          "name": "stderr",
          "text": [
            "Train, Epoch 3 / 20:  73%|███████▎  | 1134/1563 [00:47<00:17, 24.78it/s]"
          ]
        },
        {
          "output_type": "stream",
          "name": "stdout",
          "text": [
            "batch 1130 loss: 0.3380445301532745\n"
          ]
        },
        {
          "output_type": "stream",
          "name": "stderr",
          "text": [
            "Train, Epoch 3 / 20:  73%|███████▎  | 1143/1563 [00:47<00:16, 24.78it/s]"
          ]
        },
        {
          "output_type": "stream",
          "name": "stdout",
          "text": [
            "batch 1140 loss: 0.36422847807407377\n"
          ]
        },
        {
          "output_type": "stream",
          "name": "stderr",
          "text": [
            "Train, Epoch 3 / 20:  74%|███████▎  | 1152/1563 [00:47<00:17, 23.22it/s]"
          ]
        },
        {
          "output_type": "stream",
          "name": "stdout",
          "text": [
            "batch 1150 loss: 0.2919066809117794\n"
          ]
        },
        {
          "output_type": "stream",
          "name": "stderr",
          "text": [
            "Train, Epoch 3 / 20:  74%|███████▍  | 1164/1563 [00:48<00:18, 22.11it/s]"
          ]
        },
        {
          "output_type": "stream",
          "name": "stdout",
          "text": [
            "batch 1160 loss: 0.31241179406642916\n"
          ]
        },
        {
          "output_type": "stream",
          "name": "stderr",
          "text": [
            "Train, Epoch 3 / 20:  75%|███████▌  | 1173/1563 [00:48<00:17, 22.55it/s]"
          ]
        },
        {
          "output_type": "stream",
          "name": "stdout",
          "text": [
            "batch 1170 loss: 0.30745984315872193\n"
          ]
        },
        {
          "output_type": "stream",
          "name": "stderr",
          "text": [
            "Train, Epoch 3 / 20:  76%|███████▌  | 1182/1563 [00:49<00:17, 22.13it/s]"
          ]
        },
        {
          "output_type": "stream",
          "name": "stdout",
          "text": [
            "batch 1180 loss: 0.3420543894171715\n"
          ]
        },
        {
          "output_type": "stream",
          "name": "stderr",
          "text": [
            "Train, Epoch 3 / 20:  76%|███████▋  | 1194/1563 [00:49<00:16, 22.13it/s]"
          ]
        },
        {
          "output_type": "stream",
          "name": "stdout",
          "text": [
            "batch 1190 loss: 0.2991744354367256\n"
          ]
        },
        {
          "output_type": "stream",
          "name": "stderr",
          "text": [
            "Train, Epoch 3 / 20:  77%|███████▋  | 1203/1563 [00:50<00:15, 23.63it/s]"
          ]
        },
        {
          "output_type": "stream",
          "name": "stdout",
          "text": [
            "batch 1200 loss: 0.31481511816382407\n"
          ]
        },
        {
          "output_type": "stream",
          "name": "stderr",
          "text": [
            "Train, Epoch 3 / 20:  78%|███████▊  | 1215/1563 [00:50<00:14, 24.53it/s]"
          ]
        },
        {
          "output_type": "stream",
          "name": "stdout",
          "text": [
            "batch 1210 loss: 0.29252017587423323\n"
          ]
        },
        {
          "output_type": "stream",
          "name": "stderr",
          "text": [
            "Train, Epoch 3 / 20:  78%|███████▊  | 1224/1563 [00:51<00:13, 24.25it/s]"
          ]
        },
        {
          "output_type": "stream",
          "name": "stdout",
          "text": [
            "batch 1220 loss: 0.32696756049990655\n"
          ]
        },
        {
          "output_type": "stream",
          "name": "stderr",
          "text": [
            "Train, Epoch 3 / 20:  79%|███████▉  | 1233/1563 [00:51<00:13, 24.50it/s]"
          ]
        },
        {
          "output_type": "stream",
          "name": "stdout",
          "text": [
            "batch 1230 loss: 0.37615028470754625\n"
          ]
        },
        {
          "output_type": "stream",
          "name": "stderr",
          "text": [
            "Train, Epoch 3 / 20:  80%|███████▉  | 1245/1563 [00:51<00:12, 24.72it/s]"
          ]
        },
        {
          "output_type": "stream",
          "name": "stdout",
          "text": [
            "batch 1240 loss: 0.40031903237104416\n"
          ]
        },
        {
          "output_type": "stream",
          "name": "stderr",
          "text": [
            "Train, Epoch 3 / 20:  80%|████████  | 1254/1563 [00:52<00:12, 24.71it/s]"
          ]
        },
        {
          "output_type": "stream",
          "name": "stdout",
          "text": [
            "batch 1250 loss: 0.2911130219697952\n"
          ]
        },
        {
          "output_type": "stream",
          "name": "stderr",
          "text": [
            "Train, Epoch 3 / 20:  81%|████████  | 1263/1563 [00:52<00:12, 24.72it/s]"
          ]
        },
        {
          "output_type": "stream",
          "name": "stdout",
          "text": [
            "batch 1260 loss: 0.2902273803949356\n"
          ]
        },
        {
          "output_type": "stream",
          "name": "stderr",
          "text": [
            "Train, Epoch 3 / 20:  82%|████████▏ | 1275/1563 [00:53<00:11, 24.73it/s]"
          ]
        },
        {
          "output_type": "stream",
          "name": "stdout",
          "text": [
            "batch 1270 loss: 0.28332229927182195\n"
          ]
        },
        {
          "output_type": "stream",
          "name": "stderr",
          "text": [
            "Train, Epoch 3 / 20:  82%|████████▏ | 1284/1563 [00:53<00:11, 24.72it/s]"
          ]
        },
        {
          "output_type": "stream",
          "name": "stdout",
          "text": [
            "batch 1280 loss: 0.2493879273533821\n"
          ]
        },
        {
          "output_type": "stream",
          "name": "stderr",
          "text": [
            "Train, Epoch 3 / 20:  83%|████████▎ | 1293/1563 [00:53<00:10, 24.55it/s]"
          ]
        },
        {
          "output_type": "stream",
          "name": "stdout",
          "text": [
            "batch 1290 loss: 0.30495256930589676\n"
          ]
        },
        {
          "output_type": "stream",
          "name": "stderr",
          "text": [
            "Train, Epoch 3 / 20:  83%|████████▎ | 1305/1563 [00:54<00:10, 24.73it/s]"
          ]
        },
        {
          "output_type": "stream",
          "name": "stdout",
          "text": [
            "batch 1300 loss: 0.2854018434882164\n"
          ]
        },
        {
          "output_type": "stream",
          "name": "stderr",
          "text": [
            "Train, Epoch 3 / 20:  84%|████████▍ | 1314/1563 [00:54<00:10, 24.73it/s]"
          ]
        },
        {
          "output_type": "stream",
          "name": "stdout",
          "text": [
            "batch 1310 loss: 0.3439402639865875\n"
          ]
        },
        {
          "output_type": "stream",
          "name": "stderr",
          "text": [
            "Train, Epoch 3 / 20:  85%|████████▍ | 1323/1563 [00:55<00:09, 24.53it/s]"
          ]
        },
        {
          "output_type": "stream",
          "name": "stdout",
          "text": [
            "batch 1320 loss: 0.30578130185604097\n"
          ]
        },
        {
          "output_type": "stream",
          "name": "stderr",
          "text": [
            "Train, Epoch 3 / 20:  85%|████████▌ | 1335/1563 [00:55<00:09, 24.79it/s]"
          ]
        },
        {
          "output_type": "stream",
          "name": "stdout",
          "text": [
            "batch 1330 loss: 0.32966781258583067\n"
          ]
        },
        {
          "output_type": "stream",
          "name": "stderr",
          "text": [
            "Train, Epoch 3 / 20:  86%|████████▌ | 1344/1563 [00:55<00:08, 24.73it/s]"
          ]
        },
        {
          "output_type": "stream",
          "name": "stdout",
          "text": [
            "batch 1340 loss: 0.2833933748304844\n"
          ]
        },
        {
          "output_type": "stream",
          "name": "stderr",
          "text": [
            "Train, Epoch 3 / 20:  87%|████████▋ | 1353/1563 [00:56<00:08, 24.44it/s]"
          ]
        },
        {
          "output_type": "stream",
          "name": "stdout",
          "text": [
            "batch 1350 loss: 0.3103933557868004\n"
          ]
        },
        {
          "output_type": "stream",
          "name": "stderr",
          "text": [
            "Train, Epoch 3 / 20:  87%|████████▋ | 1362/1563 [00:56<00:08, 24.63it/s]"
          ]
        },
        {
          "output_type": "stream",
          "name": "stdout",
          "text": [
            "batch 1360 loss: 0.330221613496542\n"
          ]
        },
        {
          "output_type": "stream",
          "name": "stderr",
          "text": [
            "Train, Epoch 3 / 20:  88%|████████▊ | 1374/1563 [00:57<00:07, 24.29it/s]"
          ]
        },
        {
          "output_type": "stream",
          "name": "stdout",
          "text": [
            "batch 1370 loss: 0.2755622535943985\n"
          ]
        },
        {
          "output_type": "stream",
          "name": "stderr",
          "text": [
            "Train, Epoch 3 / 20:  88%|████████▊ | 1383/1563 [00:57<00:07, 24.49it/s]"
          ]
        },
        {
          "output_type": "stream",
          "name": "stdout",
          "text": [
            "batch 1380 loss: 0.3566749632358551\n"
          ]
        },
        {
          "output_type": "stream",
          "name": "stderr",
          "text": [
            "Train, Epoch 3 / 20:  89%|████████▉ | 1395/1563 [00:57<00:06, 24.59it/s]"
          ]
        },
        {
          "output_type": "stream",
          "name": "stdout",
          "text": [
            "batch 1390 loss: 0.3331379473209381\n"
          ]
        },
        {
          "output_type": "stream",
          "name": "stderr",
          "text": [
            "Train, Epoch 3 / 20:  90%|████████▉ | 1404/1563 [00:58<00:06, 24.46it/s]"
          ]
        },
        {
          "output_type": "stream",
          "name": "stdout",
          "text": [
            "batch 1400 loss: 0.3743728488683701\n"
          ]
        },
        {
          "output_type": "stream",
          "name": "stderr",
          "text": [
            "Train, Epoch 3 / 20:  90%|█████████ | 1413/1563 [00:58<00:06, 24.57it/s]"
          ]
        },
        {
          "output_type": "stream",
          "name": "stdout",
          "text": [
            "batch 1410 loss: 0.36250387132167816\n"
          ]
        },
        {
          "output_type": "stream",
          "name": "stderr",
          "text": [
            "Train, Epoch 3 / 20:  91%|█████████ | 1422/1563 [00:59<00:05, 24.09it/s]"
          ]
        },
        {
          "output_type": "stream",
          "name": "stdout",
          "text": [
            "batch 1420 loss: 0.3599502667784691\n"
          ]
        },
        {
          "output_type": "stream",
          "name": "stderr",
          "text": [
            "Train, Epoch 3 / 20:  92%|█████████▏| 1434/1563 [00:59<00:05, 24.54it/s]"
          ]
        },
        {
          "output_type": "stream",
          "name": "stdout",
          "text": [
            "batch 1430 loss: 0.249730284512043\n"
          ]
        },
        {
          "output_type": "stream",
          "name": "stderr",
          "text": [
            "Train, Epoch 3 / 20:  92%|█████████▏| 1443/1563 [00:59<00:05, 22.95it/s]"
          ]
        },
        {
          "output_type": "stream",
          "name": "stdout",
          "text": [
            "batch 1440 loss: 0.4074462503194809\n"
          ]
        },
        {
          "output_type": "stream",
          "name": "stderr",
          "text": [
            "Train, Epoch 3 / 20:  93%|█████████▎| 1452/1563 [01:00<00:05, 21.97it/s]"
          ]
        },
        {
          "output_type": "stream",
          "name": "stdout",
          "text": [
            "batch 1450 loss: 0.38334065675735474\n"
          ]
        },
        {
          "output_type": "stream",
          "name": "stderr",
          "text": [
            "Train, Epoch 3 / 20:  94%|█████████▎| 1464/1563 [01:00<00:04, 22.00it/s]"
          ]
        },
        {
          "output_type": "stream",
          "name": "stdout",
          "text": [
            "batch 1460 loss: 0.2213415816426277\n"
          ]
        },
        {
          "output_type": "stream",
          "name": "stderr",
          "text": [
            "Train, Epoch 3 / 20:  94%|█████████▍| 1473/1563 [01:01<00:04, 21.52it/s]"
          ]
        },
        {
          "output_type": "stream",
          "name": "stdout",
          "text": [
            "batch 1470 loss: 0.4162814453244209\n"
          ]
        },
        {
          "output_type": "stream",
          "name": "stderr",
          "text": [
            "Train, Epoch 3 / 20:  95%|█████████▍| 1482/1563 [01:01<00:03, 21.31it/s]"
          ]
        },
        {
          "output_type": "stream",
          "name": "stdout",
          "text": [
            "batch 1480 loss: 0.29592072069644926\n"
          ]
        },
        {
          "output_type": "stream",
          "name": "stderr",
          "text": [
            "Train, Epoch 3 / 20:  96%|█████████▌| 1494/1563 [01:02<00:02, 23.02it/s]"
          ]
        },
        {
          "output_type": "stream",
          "name": "stdout",
          "text": [
            "batch 1490 loss: 0.29838897883892057\n"
          ]
        },
        {
          "output_type": "stream",
          "name": "stderr",
          "text": [
            "Train, Epoch 3 / 20:  96%|█████████▌| 1503/1563 [01:02<00:02, 24.32it/s]"
          ]
        },
        {
          "output_type": "stream",
          "name": "stdout",
          "text": [
            "batch 1500 loss: 0.2598245330154896\n"
          ]
        },
        {
          "output_type": "stream",
          "name": "stderr",
          "text": [
            "Train, Epoch 3 / 20:  97%|█████████▋| 1515/1563 [01:03<00:01, 24.75it/s]"
          ]
        },
        {
          "output_type": "stream",
          "name": "stdout",
          "text": [
            "batch 1510 loss: 0.426333736628294\n"
          ]
        },
        {
          "output_type": "stream",
          "name": "stderr",
          "text": [
            "Train, Epoch 3 / 20:  98%|█████████▊| 1524/1563 [01:03<00:01, 24.83it/s]"
          ]
        },
        {
          "output_type": "stream",
          "name": "stdout",
          "text": [
            "batch 1520 loss: 0.3587407790124416\n"
          ]
        },
        {
          "output_type": "stream",
          "name": "stderr",
          "text": [
            "Train, Epoch 3 / 20:  98%|█████████▊| 1533/1563 [01:03<00:01, 24.77it/s]"
          ]
        },
        {
          "output_type": "stream",
          "name": "stdout",
          "text": [
            "batch 1530 loss: 0.27980647310614587\n"
          ]
        },
        {
          "output_type": "stream",
          "name": "stderr",
          "text": [
            "Train, Epoch 3 / 20:  99%|█████████▊| 1542/1563 [01:04<00:00, 24.43it/s]"
          ]
        },
        {
          "output_type": "stream",
          "name": "stdout",
          "text": [
            "batch 1540 loss: 0.32955129742622374\n"
          ]
        },
        {
          "output_type": "stream",
          "name": "stderr",
          "text": [
            "Train, Epoch 3 / 20:  99%|█████████▉| 1554/1563 [01:04<00:00, 24.40it/s]"
          ]
        },
        {
          "output_type": "stream",
          "name": "stdout",
          "text": [
            "batch 1550 loss: 0.2811399534344673\n"
          ]
        },
        {
          "output_type": "stream",
          "name": "stderr",
          "text": [
            "Train, Epoch 3 / 20: 100%|██████████| 1563/1563 [01:05<00:00, 24.00it/s]\n"
          ]
        },
        {
          "output_type": "stream",
          "name": "stdout",
          "text": [
            "batch 1560 loss: 0.29199896156787875\n"
          ]
        },
        {
          "output_type": "stream",
          "name": "stderr",
          "text": [
            "Test, Epoch 3 / 20: 100%|██████████| 1563/1563 [00:29<00:00, 53.17it/s]\n"
          ]
        },
        {
          "output_type": "stream",
          "name": "stdout",
          "text": [
            "Epoch 3, loss: 0.46191361332118513, accuracy: 0.79816\n"
          ]
        },
        {
          "output_type": "stream",
          "name": "stderr",
          "text": [
            "Train, Epoch 4 / 20:   1%|          | 15/1563 [00:00<01:02, 24.67it/s]"
          ]
        },
        {
          "output_type": "stream",
          "name": "stdout",
          "text": [
            "batch 10 loss: 0.2747302740812302\n"
          ]
        },
        {
          "output_type": "stream",
          "name": "stderr",
          "text": [
            "Train, Epoch 4 / 20:   2%|▏         | 24/1563 [00:00<01:02, 24.81it/s]"
          ]
        },
        {
          "output_type": "stream",
          "name": "stdout",
          "text": [
            "batch 20 loss: 0.2779908299446106\n"
          ]
        },
        {
          "output_type": "stream",
          "name": "stderr",
          "text": [
            "Train, Epoch 4 / 20:   2%|▏         | 33/1563 [00:01<01:01, 24.85it/s]"
          ]
        },
        {
          "output_type": "stream",
          "name": "stdout",
          "text": [
            "batch 30 loss: 0.2624199718236923\n"
          ]
        },
        {
          "output_type": "stream",
          "name": "stderr",
          "text": [
            "Train, Epoch 4 / 20:   3%|▎         | 45/1563 [00:01<01:01, 24.69it/s]"
          ]
        },
        {
          "output_type": "stream",
          "name": "stdout",
          "text": [
            "batch 40 loss: 0.33460202664136884\n"
          ]
        },
        {
          "output_type": "stream",
          "name": "stderr",
          "text": [
            "Train, Epoch 4 / 20:   3%|▎         | 54/1563 [00:02<01:05, 23.13it/s]"
          ]
        },
        {
          "output_type": "stream",
          "name": "stdout",
          "text": [
            "batch 50 loss: 0.32365805059671404\n"
          ]
        },
        {
          "output_type": "stream",
          "name": "stderr",
          "text": [
            "Train, Epoch 4 / 20:   4%|▍         | 63/1563 [00:02<01:07, 22.07it/s]"
          ]
        },
        {
          "output_type": "stream",
          "name": "stdout",
          "text": [
            "batch 60 loss: 0.32756701931357385\n"
          ]
        },
        {
          "output_type": "stream",
          "name": "stderr",
          "text": [
            "Train, Epoch 4 / 20:   5%|▍         | 72/1563 [00:03<01:08, 21.86it/s]"
          ]
        },
        {
          "output_type": "stream",
          "name": "stdout",
          "text": [
            "batch 70 loss: 0.3285084642469883\n"
          ]
        },
        {
          "output_type": "stream",
          "name": "stderr",
          "text": [
            "Train, Epoch 4 / 20:   5%|▌         | 84/1563 [00:03<01:07, 22.00it/s]"
          ]
        },
        {
          "output_type": "stream",
          "name": "stdout",
          "text": [
            "batch 80 loss: 0.3419452950358391\n"
          ]
        },
        {
          "output_type": "stream",
          "name": "stderr",
          "text": [
            "Train, Epoch 4 / 20:   6%|▌         | 93/1563 [00:04<01:06, 22.07it/s]"
          ]
        },
        {
          "output_type": "stream",
          "name": "stdout",
          "text": [
            "batch 90 loss: 0.3374593771994114\n"
          ]
        },
        {
          "output_type": "stream",
          "name": "stderr",
          "text": [
            "Train, Epoch 4 / 20:   7%|▋         | 105/1563 [00:04<01:00, 24.10it/s]"
          ]
        },
        {
          "output_type": "stream",
          "name": "stdout",
          "text": [
            "batch 100 loss: 0.34413502663373946\n"
          ]
        },
        {
          "output_type": "stream",
          "name": "stderr",
          "text": [
            "Train, Epoch 4 / 20:   7%|▋         | 114/1563 [00:04<00:58, 24.68it/s]"
          ]
        },
        {
          "output_type": "stream",
          "name": "stdout",
          "text": [
            "batch 110 loss: 0.25079243406653406\n"
          ]
        },
        {
          "output_type": "stream",
          "name": "stderr",
          "text": [
            "Train, Epoch 4 / 20:   8%|▊         | 123/1563 [00:05<00:58, 24.41it/s]"
          ]
        },
        {
          "output_type": "stream",
          "name": "stdout",
          "text": [
            "batch 120 loss: 0.30738621652126313\n"
          ]
        },
        {
          "output_type": "stream",
          "name": "stderr",
          "text": [
            "Train, Epoch 4 / 20:   9%|▊         | 135/1563 [00:05<00:57, 24.63it/s]"
          ]
        },
        {
          "output_type": "stream",
          "name": "stdout",
          "text": [
            "batch 130 loss: 0.32562273293733596\n"
          ]
        },
        {
          "output_type": "stream",
          "name": "stderr",
          "text": [
            "Train, Epoch 4 / 20:   9%|▉         | 144/1563 [00:06<00:57, 24.73it/s]"
          ]
        },
        {
          "output_type": "stream",
          "name": "stdout",
          "text": [
            "batch 140 loss: 0.3116340309381485\n"
          ]
        },
        {
          "output_type": "stream",
          "name": "stderr",
          "text": [
            "Train, Epoch 4 / 20:  10%|▉         | 153/1563 [00:06<00:56, 24.82it/s]"
          ]
        },
        {
          "output_type": "stream",
          "name": "stdout",
          "text": [
            "batch 150 loss: 0.2818165600299835\n"
          ]
        },
        {
          "output_type": "stream",
          "name": "stderr",
          "text": [
            "Train, Epoch 4 / 20:  11%|█         | 165/1563 [00:06<00:56, 24.59it/s]"
          ]
        },
        {
          "output_type": "stream",
          "name": "stdout",
          "text": [
            "batch 160 loss: 0.3321663707494736\n"
          ]
        },
        {
          "output_type": "stream",
          "name": "stderr",
          "text": [
            "Train, Epoch 4 / 20:  11%|█         | 174/1563 [00:07<00:56, 24.76it/s]"
          ]
        },
        {
          "output_type": "stream",
          "name": "stdout",
          "text": [
            "batch 170 loss: 0.23775860518217087\n"
          ]
        },
        {
          "output_type": "stream",
          "name": "stderr",
          "text": [
            "Train, Epoch 4 / 20:  12%|█▏        | 183/1563 [00:07<00:55, 24.87it/s]"
          ]
        },
        {
          "output_type": "stream",
          "name": "stdout",
          "text": [
            "batch 180 loss: 0.2926121518015862\n"
          ]
        },
        {
          "output_type": "stream",
          "name": "stderr",
          "text": [
            "Train, Epoch 4 / 20:  12%|█▏        | 195/1563 [00:08<00:55, 24.77it/s]"
          ]
        },
        {
          "output_type": "stream",
          "name": "stdout",
          "text": [
            "batch 190 loss: 0.24547101631760598\n"
          ]
        },
        {
          "output_type": "stream",
          "name": "stderr",
          "text": [
            "Train, Epoch 4 / 20:  13%|█▎        | 204/1563 [00:08<00:54, 24.77it/s]"
          ]
        },
        {
          "output_type": "stream",
          "name": "stdout",
          "text": [
            "batch 200 loss: 0.3227141186594963\n"
          ]
        },
        {
          "output_type": "stream",
          "name": "stderr",
          "text": [
            "Train, Epoch 4 / 20:  14%|█▎        | 213/1563 [00:08<00:54, 24.64it/s]"
          ]
        },
        {
          "output_type": "stream",
          "name": "stdout",
          "text": [
            "batch 210 loss: 0.2588765323162079\n"
          ]
        },
        {
          "output_type": "stream",
          "name": "stderr",
          "text": [
            "Train, Epoch 4 / 20:  14%|█▍        | 225/1563 [00:09<00:54, 24.77it/s]"
          ]
        },
        {
          "output_type": "stream",
          "name": "stdout",
          "text": [
            "batch 220 loss: 0.3298365533351898\n"
          ]
        },
        {
          "output_type": "stream",
          "name": "stderr",
          "text": [
            "Train, Epoch 4 / 20:  15%|█▍        | 234/1563 [00:09<00:53, 24.78it/s]"
          ]
        },
        {
          "output_type": "stream",
          "name": "stdout",
          "text": [
            "batch 230 loss: 0.24250303581357002\n"
          ]
        },
        {
          "output_type": "stream",
          "name": "stderr",
          "text": [
            "Train, Epoch 4 / 20:  16%|█▌        | 243/1563 [00:10<00:53, 24.65it/s]"
          ]
        },
        {
          "output_type": "stream",
          "name": "stdout",
          "text": [
            "batch 240 loss: 0.3822904363274574\n"
          ]
        },
        {
          "output_type": "stream",
          "name": "stderr",
          "text": [
            "Train, Epoch 4 / 20:  16%|█▋        | 255/1563 [00:10<00:52, 24.75it/s]"
          ]
        },
        {
          "output_type": "stream",
          "name": "stdout",
          "text": [
            "batch 250 loss: 0.2903418309986591\n"
          ]
        },
        {
          "output_type": "stream",
          "name": "stderr",
          "text": [
            "Train, Epoch 4 / 20:  17%|█▋        | 264/1563 [00:10<00:53, 24.33it/s]"
          ]
        },
        {
          "output_type": "stream",
          "name": "stdout",
          "text": [
            "batch 260 loss: 0.3272665038704872\n"
          ]
        },
        {
          "output_type": "stream",
          "name": "stderr",
          "text": [
            "Train, Epoch 4 / 20:  17%|█▋        | 273/1563 [00:11<00:52, 24.65it/s]"
          ]
        },
        {
          "output_type": "stream",
          "name": "stdout",
          "text": [
            "batch 270 loss: 0.35643915086984634\n"
          ]
        },
        {
          "output_type": "stream",
          "name": "stderr",
          "text": [
            "Train, Epoch 4 / 20:  18%|█▊        | 285/1563 [00:11<00:51, 24.82it/s]"
          ]
        },
        {
          "output_type": "stream",
          "name": "stdout",
          "text": [
            "batch 280 loss: 0.3138289250433445\n"
          ]
        },
        {
          "output_type": "stream",
          "name": "stderr",
          "text": [
            "Train, Epoch 4 / 20:  19%|█▉        | 294/1563 [00:12<00:51, 24.71it/s]"
          ]
        },
        {
          "output_type": "stream",
          "name": "stdout",
          "text": [
            "batch 290 loss: 0.33647897392511367\n"
          ]
        },
        {
          "output_type": "stream",
          "name": "stderr",
          "text": [
            "Train, Epoch 4 / 20:  19%|█▉        | 303/1563 [00:12<00:50, 24.75it/s]"
          ]
        },
        {
          "output_type": "stream",
          "name": "stdout",
          "text": [
            "batch 300 loss: 0.34201347529888154\n"
          ]
        },
        {
          "output_type": "stream",
          "name": "stderr",
          "text": [
            "Train, Epoch 4 / 20:  20%|██        | 315/1563 [00:13<00:50, 24.75it/s]"
          ]
        },
        {
          "output_type": "stream",
          "name": "stdout",
          "text": [
            "batch 310 loss: 0.2610740095376968\n"
          ]
        },
        {
          "output_type": "stream",
          "name": "stderr",
          "text": [
            "Train, Epoch 4 / 20:  21%|██        | 324/1563 [00:13<00:50, 24.66it/s]"
          ]
        },
        {
          "output_type": "stream",
          "name": "stdout",
          "text": [
            "batch 320 loss: 0.3047835625708103\n"
          ]
        },
        {
          "output_type": "stream",
          "name": "stderr",
          "text": [
            "Train, Epoch 4 / 20:  21%|██▏       | 333/1563 [00:13<00:49, 24.73it/s]"
          ]
        },
        {
          "output_type": "stream",
          "name": "stdout",
          "text": [
            "batch 330 loss: 0.32668583691120145\n"
          ]
        },
        {
          "output_type": "stream",
          "name": "stderr",
          "text": [
            "Train, Epoch 4 / 20:  22%|██▏       | 342/1563 [00:14<00:51, 23.92it/s]"
          ]
        },
        {
          "output_type": "stream",
          "name": "stdout",
          "text": [
            "batch 340 loss: 0.29038451313972474\n"
          ]
        },
        {
          "output_type": "stream",
          "name": "stderr",
          "text": [
            "Train, Epoch 4 / 20:  23%|██▎       | 354/1563 [00:14<00:54, 22.20it/s]"
          ]
        },
        {
          "output_type": "stream",
          "name": "stdout",
          "text": [
            "batch 350 loss: 0.41496695429086683\n"
          ]
        },
        {
          "output_type": "stream",
          "name": "stderr",
          "text": [
            "Train, Epoch 4 / 20:  23%|██▎       | 363/1563 [00:15<00:58, 20.37it/s]"
          ]
        },
        {
          "output_type": "stream",
          "name": "stdout",
          "text": [
            "batch 360 loss: 0.38416344225406646\n"
          ]
        },
        {
          "output_type": "stream",
          "name": "stderr",
          "text": [
            "Train, Epoch 4 / 20:  24%|██▍       | 372/1563 [00:15<00:58, 20.25it/s]"
          ]
        },
        {
          "output_type": "stream",
          "name": "stdout",
          "text": [
            "batch 370 loss: 0.34562341719865797\n"
          ]
        },
        {
          "output_type": "stream",
          "name": "stderr",
          "text": [
            "Train, Epoch 4 / 20:  25%|██▍       | 384/1563 [00:16<00:56, 20.95it/s]"
          ]
        },
        {
          "output_type": "stream",
          "name": "stdout",
          "text": [
            "batch 380 loss: 0.3051338195800781\n"
          ]
        },
        {
          "output_type": "stream",
          "name": "stderr",
          "text": [
            "Train, Epoch 4 / 20:  25%|██▌       | 393/1563 [00:16<00:50, 23.32it/s]"
          ]
        },
        {
          "output_type": "stream",
          "name": "stdout",
          "text": [
            "batch 390 loss: 0.30310437083244324\n"
          ]
        },
        {
          "output_type": "stream",
          "name": "stderr",
          "text": [
            "Train, Epoch 4 / 20:  26%|██▌       | 402/1563 [00:16<00:47, 24.20it/s]"
          ]
        },
        {
          "output_type": "stream",
          "name": "stdout",
          "text": [
            "batch 400 loss: 0.3386926904320717\n"
          ]
        },
        {
          "output_type": "stream",
          "name": "stderr",
          "text": [
            "Train, Epoch 4 / 20:  26%|██▋       | 414/1563 [00:17<00:46, 24.67it/s]"
          ]
        },
        {
          "output_type": "stream",
          "name": "stdout",
          "text": [
            "batch 410 loss: 0.4680784344673157\n"
          ]
        },
        {
          "output_type": "stream",
          "name": "stderr",
          "text": [
            "Train, Epoch 4 / 20:  27%|██▋       | 423/1563 [00:17<00:46, 24.74it/s]"
          ]
        },
        {
          "output_type": "stream",
          "name": "stdout",
          "text": [
            "batch 420 loss: 0.2754755116999149\n"
          ]
        },
        {
          "output_type": "stream",
          "name": "stderr",
          "text": [
            "Train, Epoch 4 / 20:  28%|██▊       | 432/1563 [00:18<00:46, 24.46it/s]"
          ]
        },
        {
          "output_type": "stream",
          "name": "stdout",
          "text": [
            "batch 430 loss: 0.31506065279245377\n"
          ]
        },
        {
          "output_type": "stream",
          "name": "stderr",
          "text": [
            "Train, Epoch 4 / 20:  28%|██▊       | 444/1563 [00:18<00:45, 24.85it/s]"
          ]
        },
        {
          "output_type": "stream",
          "name": "stdout",
          "text": [
            "batch 440 loss: 0.34617775678634644\n"
          ]
        },
        {
          "output_type": "stream",
          "name": "stderr",
          "text": [
            "Train, Epoch 4 / 20:  29%|██▉       | 453/1563 [00:18<00:44, 24.89it/s]"
          ]
        },
        {
          "output_type": "stream",
          "name": "stdout",
          "text": [
            "batch 450 loss: 0.3782987967133522\n"
          ]
        },
        {
          "output_type": "stream",
          "name": "stderr",
          "text": [
            "Train, Epoch 4 / 20:  30%|██▉       | 465/1563 [00:19<00:44, 24.54it/s]"
          ]
        },
        {
          "output_type": "stream",
          "name": "stdout",
          "text": [
            "batch 460 loss: 0.3291569799184799\n"
          ]
        },
        {
          "output_type": "stream",
          "name": "stderr",
          "text": [
            "Train, Epoch 4 / 20:  30%|███       | 474/1563 [00:19<00:44, 24.71it/s]"
          ]
        },
        {
          "output_type": "stream",
          "name": "stdout",
          "text": [
            "batch 470 loss: 0.2645725980401039\n"
          ]
        },
        {
          "output_type": "stream",
          "name": "stderr",
          "text": [
            "Train, Epoch 4 / 20:  31%|███       | 483/1563 [00:20<00:44, 24.42it/s]"
          ]
        },
        {
          "output_type": "stream",
          "name": "stdout",
          "text": [
            "batch 480 loss: 0.2745181530714035\n"
          ]
        },
        {
          "output_type": "stream",
          "name": "stderr",
          "text": [
            "Train, Epoch 4 / 20:  32%|███▏      | 495/1563 [00:20<00:43, 24.77it/s]"
          ]
        },
        {
          "output_type": "stream",
          "name": "stdout",
          "text": [
            "batch 490 loss: 0.27285851165652275\n"
          ]
        },
        {
          "output_type": "stream",
          "name": "stderr",
          "text": [
            "Train, Epoch 4 / 20:  32%|███▏      | 504/1563 [00:21<00:42, 24.83it/s]"
          ]
        },
        {
          "output_type": "stream",
          "name": "stdout",
          "text": [
            "batch 500 loss: 0.3351699233055115\n"
          ]
        },
        {
          "output_type": "stream",
          "name": "stderr",
          "text": [
            "Train, Epoch 4 / 20:  33%|███▎      | 513/1563 [00:21<00:42, 24.72it/s]"
          ]
        },
        {
          "output_type": "stream",
          "name": "stdout",
          "text": [
            "batch 510 loss: 0.2622246026992798\n"
          ]
        },
        {
          "output_type": "stream",
          "name": "stderr",
          "text": [
            "Train, Epoch 4 / 20:  34%|███▎      | 525/1563 [00:21<00:41, 24.85it/s]"
          ]
        },
        {
          "output_type": "stream",
          "name": "stdout",
          "text": [
            "batch 520 loss: 0.3006480410695076\n"
          ]
        },
        {
          "output_type": "stream",
          "name": "stderr",
          "text": [
            "Train, Epoch 4 / 20:  34%|███▍      | 534/1563 [00:22<00:41, 24.76it/s]"
          ]
        },
        {
          "output_type": "stream",
          "name": "stdout",
          "text": [
            "batch 530 loss: 0.3550460129976273\n"
          ]
        },
        {
          "output_type": "stream",
          "name": "stderr",
          "text": [
            "Train, Epoch 4 / 20:  35%|███▍      | 543/1563 [00:22<00:41, 24.75it/s]"
          ]
        },
        {
          "output_type": "stream",
          "name": "stdout",
          "text": [
            "batch 540 loss: 0.3420400172472\n"
          ]
        },
        {
          "output_type": "stream",
          "name": "stderr",
          "text": [
            "Train, Epoch 4 / 20:  36%|███▌      | 555/1563 [00:23<00:40, 24.85it/s]"
          ]
        },
        {
          "output_type": "stream",
          "name": "stdout",
          "text": [
            "batch 550 loss: 0.29893572106957433\n"
          ]
        },
        {
          "output_type": "stream",
          "name": "stderr",
          "text": [
            "Train, Epoch 4 / 20:  36%|███▌      | 564/1563 [00:23<00:40, 24.71it/s]"
          ]
        },
        {
          "output_type": "stream",
          "name": "stdout",
          "text": [
            "batch 560 loss: 0.3367889426648617\n"
          ]
        },
        {
          "output_type": "stream",
          "name": "stderr",
          "text": [
            "Train, Epoch 4 / 20:  37%|███▋      | 573/1563 [00:23<00:40, 24.70it/s]"
          ]
        },
        {
          "output_type": "stream",
          "name": "stdout",
          "text": [
            "batch 570 loss: 0.29309302270412446\n"
          ]
        },
        {
          "output_type": "stream",
          "name": "stderr",
          "text": [
            "Train, Epoch 4 / 20:  37%|███▋      | 585/1563 [00:24<00:39, 24.71it/s]"
          ]
        },
        {
          "output_type": "stream",
          "name": "stdout",
          "text": [
            "batch 580 loss: 0.2803143925964832\n"
          ]
        },
        {
          "output_type": "stream",
          "name": "stderr",
          "text": [
            "Train, Epoch 4 / 20:  38%|███▊      | 594/1563 [00:24<00:39, 24.80it/s]"
          ]
        },
        {
          "output_type": "stream",
          "name": "stdout",
          "text": [
            "batch 590 loss: 0.2870097205042839\n"
          ]
        },
        {
          "output_type": "stream",
          "name": "stderr",
          "text": [
            "Train, Epoch 4 / 20:  39%|███▊      | 603/1563 [00:25<00:38, 24.90it/s]"
          ]
        },
        {
          "output_type": "stream",
          "name": "stdout",
          "text": [
            "batch 600 loss: 0.3732319548726082\n"
          ]
        },
        {
          "output_type": "stream",
          "name": "stderr",
          "text": [
            "Train, Epoch 4 / 20:  39%|███▉      | 612/1563 [00:25<00:38, 24.64it/s]"
          ]
        },
        {
          "output_type": "stream",
          "name": "stdout",
          "text": [
            "batch 610 loss: 0.3103925108909607\n"
          ]
        },
        {
          "output_type": "stream",
          "name": "stderr",
          "text": [
            "Train, Epoch 4 / 20:  40%|███▉      | 624/1563 [00:25<00:38, 24.46it/s]"
          ]
        },
        {
          "output_type": "stream",
          "name": "stdout",
          "text": [
            "batch 620 loss: 0.2483879178762436\n"
          ]
        },
        {
          "output_type": "stream",
          "name": "stderr",
          "text": [
            "Train, Epoch 4 / 20:  40%|████      | 633/1563 [00:26<00:39, 23.40it/s]"
          ]
        },
        {
          "output_type": "stream",
          "name": "stdout",
          "text": [
            "batch 630 loss: 0.28635999336838724\n"
          ]
        },
        {
          "output_type": "stream",
          "name": "stderr",
          "text": [
            "Train, Epoch 4 / 20:  41%|████      | 642/1563 [00:26<00:41, 22.11it/s]"
          ]
        },
        {
          "output_type": "stream",
          "name": "stdout",
          "text": [
            "batch 640 loss: 0.28458329737186433\n"
          ]
        },
        {
          "output_type": "stream",
          "name": "stderr",
          "text": [
            "Train, Epoch 4 / 20:  42%|████▏     | 654/1563 [00:27<00:40, 22.54it/s]"
          ]
        },
        {
          "output_type": "stream",
          "name": "stdout",
          "text": [
            "batch 650 loss: 0.31929885447025297\n"
          ]
        },
        {
          "output_type": "stream",
          "name": "stderr",
          "text": [
            "Train, Epoch 4 / 20:  42%|████▏     | 663/1563 [00:27<00:41, 21.78it/s]"
          ]
        },
        {
          "output_type": "stream",
          "name": "stdout",
          "text": [
            "batch 660 loss: 0.3012890234589577\n"
          ]
        },
        {
          "output_type": "stream",
          "name": "stderr",
          "text": [
            "Train, Epoch 4 / 20:  43%|████▎     | 672/1563 [00:28<00:42, 21.13it/s]"
          ]
        },
        {
          "output_type": "stream",
          "name": "stdout",
          "text": [
            "batch 670 loss: 0.2937513001263142\n"
          ]
        },
        {
          "output_type": "stream",
          "name": "stderr",
          "text": [
            "Train, Epoch 4 / 20:  44%|████▍     | 684/1563 [00:28<00:38, 23.09it/s]"
          ]
        },
        {
          "output_type": "stream",
          "name": "stdout",
          "text": [
            "batch 680 loss: 0.3776655226945877\n"
          ]
        },
        {
          "output_type": "stream",
          "name": "stderr",
          "text": [
            "Train, Epoch 4 / 20:  44%|████▍     | 693/1563 [00:28<00:35, 24.25it/s]"
          ]
        },
        {
          "output_type": "stream",
          "name": "stdout",
          "text": [
            "batch 690 loss: 0.29362594336271286\n"
          ]
        },
        {
          "output_type": "stream",
          "name": "stderr",
          "text": [
            "Train, Epoch 4 / 20:  45%|████▍     | 702/1563 [00:29<00:35, 24.54it/s]"
          ]
        },
        {
          "output_type": "stream",
          "name": "stdout",
          "text": [
            "batch 700 loss: 0.27989482656121256\n"
          ]
        },
        {
          "output_type": "stream",
          "name": "stderr",
          "text": [
            "Train, Epoch 4 / 20:  46%|████▌     | 714/1563 [00:29<00:34, 24.71it/s]"
          ]
        },
        {
          "output_type": "stream",
          "name": "stdout",
          "text": [
            "batch 710 loss: 0.30740840137004855\n"
          ]
        },
        {
          "output_type": "stream",
          "name": "stderr",
          "text": [
            "Train, Epoch 4 / 20:  46%|████▋     | 723/1563 [00:30<00:33, 24.76it/s]"
          ]
        },
        {
          "output_type": "stream",
          "name": "stdout",
          "text": [
            "batch 720 loss: 0.34127330780029297\n"
          ]
        },
        {
          "output_type": "stream",
          "name": "stderr",
          "text": [
            "Train, Epoch 4 / 20:  47%|████▋     | 735/1563 [00:30<00:33, 24.70it/s]"
          ]
        },
        {
          "output_type": "stream",
          "name": "stdout",
          "text": [
            "batch 730 loss: 0.3204489655792713\n"
          ]
        },
        {
          "output_type": "stream",
          "name": "stderr",
          "text": [
            "Train, Epoch 4 / 20:  48%|████▊     | 744/1563 [00:31<00:33, 24.47it/s]"
          ]
        },
        {
          "output_type": "stream",
          "name": "stdout",
          "text": [
            "batch 740 loss: 0.2735121764242649\n"
          ]
        },
        {
          "output_type": "stream",
          "name": "stderr",
          "text": [
            "Train, Epoch 4 / 20:  48%|████▊     | 753/1563 [00:31<00:32, 24.64it/s]"
          ]
        },
        {
          "output_type": "stream",
          "name": "stdout",
          "text": [
            "batch 750 loss: 0.3071112722158432\n"
          ]
        },
        {
          "output_type": "stream",
          "name": "stderr",
          "text": [
            "Train, Epoch 4 / 20:  49%|████▉     | 765/1563 [00:31<00:32, 24.71it/s]"
          ]
        },
        {
          "output_type": "stream",
          "name": "stdout",
          "text": [
            "batch 760 loss: 0.3612604171037674\n"
          ]
        },
        {
          "output_type": "stream",
          "name": "stderr",
          "text": [
            "Train, Epoch 4 / 20:  50%|████▉     | 774/1563 [00:32<00:31, 24.86it/s]"
          ]
        },
        {
          "output_type": "stream",
          "name": "stdout",
          "text": [
            "batch 770 loss: 0.35669803991913795\n"
          ]
        },
        {
          "output_type": "stream",
          "name": "stderr",
          "text": [
            "Train, Epoch 4 / 20:  50%|█████     | 783/1563 [00:32<00:31, 24.69it/s]"
          ]
        },
        {
          "output_type": "stream",
          "name": "stdout",
          "text": [
            "batch 780 loss: 0.3008938729763031\n"
          ]
        },
        {
          "output_type": "stream",
          "name": "stderr",
          "text": [
            "Train, Epoch 4 / 20:  51%|█████     | 795/1563 [00:33<00:31, 24.68it/s]"
          ]
        },
        {
          "output_type": "stream",
          "name": "stdout",
          "text": [
            "batch 790 loss: 0.31526989787817\n"
          ]
        },
        {
          "output_type": "stream",
          "name": "stderr",
          "text": [
            "Train, Epoch 4 / 20:  51%|█████▏    | 804/1563 [00:33<00:31, 24.34it/s]"
          ]
        },
        {
          "output_type": "stream",
          "name": "stdout",
          "text": [
            "batch 800 loss: 0.25342140197753904\n"
          ]
        },
        {
          "output_type": "stream",
          "name": "stderr",
          "text": [
            "Train, Epoch 4 / 20:  52%|█████▏    | 813/1563 [00:33<00:30, 24.81it/s]"
          ]
        },
        {
          "output_type": "stream",
          "name": "stdout",
          "text": [
            "batch 810 loss: 0.34390575289726255\n"
          ]
        },
        {
          "output_type": "stream",
          "name": "stderr",
          "text": [
            "Train, Epoch 4 / 20:  53%|█████▎    | 825/1563 [00:34<00:29, 24.86it/s]"
          ]
        },
        {
          "output_type": "stream",
          "name": "stdout",
          "text": [
            "batch 820 loss: 0.28720314614474773\n"
          ]
        },
        {
          "output_type": "stream",
          "name": "stderr",
          "text": [
            "Train, Epoch 4 / 20:  53%|█████▎    | 834/1563 [00:34<00:29, 24.52it/s]"
          ]
        },
        {
          "output_type": "stream",
          "name": "stdout",
          "text": [
            "batch 830 loss: 0.30220688357949255\n"
          ]
        },
        {
          "output_type": "stream",
          "name": "stderr",
          "text": [
            "Train, Epoch 4 / 20:  54%|█████▍    | 843/1563 [00:35<00:29, 24.69it/s]"
          ]
        },
        {
          "output_type": "stream",
          "name": "stdout",
          "text": [
            "batch 840 loss: 0.29521204754710195\n"
          ]
        },
        {
          "output_type": "stream",
          "name": "stderr",
          "text": [
            "Train, Epoch 4 / 20:  55%|█████▍    | 852/1563 [00:35<00:28, 24.79it/s]"
          ]
        },
        {
          "output_type": "stream",
          "name": "stdout",
          "text": [
            "batch 850 loss: 0.27330139726400376\n"
          ]
        },
        {
          "output_type": "stream",
          "name": "stderr",
          "text": [
            "Train, Epoch 4 / 20:  55%|█████▌    | 864/1563 [00:35<00:28, 24.76it/s]"
          ]
        },
        {
          "output_type": "stream",
          "name": "stdout",
          "text": [
            "batch 860 loss: 0.2972702421247959\n"
          ]
        },
        {
          "output_type": "stream",
          "name": "stderr",
          "text": [
            "Train, Epoch 4 / 20:  56%|█████▌    | 873/1563 [00:36<00:27, 24.90it/s]"
          ]
        },
        {
          "output_type": "stream",
          "name": "stdout",
          "text": [
            "batch 870 loss: 0.3309099555015564\n"
          ]
        },
        {
          "output_type": "stream",
          "name": "stderr",
          "text": [
            "Train, Epoch 4 / 20:  57%|█████▋    | 885/1563 [00:36<00:27, 24.80it/s]"
          ]
        },
        {
          "output_type": "stream",
          "name": "stdout",
          "text": [
            "batch 880 loss: 0.24806026443839074\n"
          ]
        },
        {
          "output_type": "stream",
          "name": "stderr",
          "text": [
            "Train, Epoch 4 / 20:  57%|█████▋    | 894/1563 [00:37<00:27, 24.57it/s]"
          ]
        },
        {
          "output_type": "stream",
          "name": "stdout",
          "text": [
            "batch 890 loss: 0.35933089107275007\n"
          ]
        },
        {
          "output_type": "stream",
          "name": "stderr",
          "text": [
            "Train, Epoch 4 / 20:  58%|█████▊    | 903/1563 [00:37<00:26, 24.64it/s]"
          ]
        },
        {
          "output_type": "stream",
          "name": "stdout",
          "text": [
            "batch 900 loss: 0.34238729774951937\n"
          ]
        },
        {
          "output_type": "stream",
          "name": "stderr",
          "text": [
            "Train, Epoch 4 / 20:  59%|█████▊    | 915/1563 [00:37<00:26, 24.82it/s]"
          ]
        },
        {
          "output_type": "stream",
          "name": "stdout",
          "text": [
            "batch 910 loss: 0.26637869998812674\n"
          ]
        },
        {
          "output_type": "stream",
          "name": "stderr",
          "text": [
            "Train, Epoch 4 / 20:  59%|█████▉    | 924/1563 [00:38<00:25, 24.71it/s]"
          ]
        },
        {
          "output_type": "stream",
          "name": "stdout",
          "text": [
            "batch 920 loss: 0.30802459865808485\n"
          ]
        },
        {
          "output_type": "stream",
          "name": "stderr",
          "text": [
            "Train, Epoch 4 / 20:  60%|█████▉    | 933/1563 [00:38<00:27, 22.71it/s]"
          ]
        },
        {
          "output_type": "stream",
          "name": "stdout",
          "text": [
            "batch 930 loss: 0.38431568294763563\n"
          ]
        },
        {
          "output_type": "stream",
          "name": "stderr",
          "text": [
            "Train, Epoch 4 / 20:  60%|██████    | 942/1563 [00:39<00:28, 21.98it/s]"
          ]
        },
        {
          "output_type": "stream",
          "name": "stdout",
          "text": [
            "batch 940 loss: 0.2597604110836983\n"
          ]
        },
        {
          "output_type": "stream",
          "name": "stderr",
          "text": [
            "Train, Epoch 4 / 20:  61%|██████    | 954/1563 [00:39<00:27, 21.80it/s]"
          ]
        },
        {
          "output_type": "stream",
          "name": "stdout",
          "text": [
            "batch 950 loss: 0.3131450653076172\n"
          ]
        },
        {
          "output_type": "stream",
          "name": "stderr",
          "text": [
            "Train, Epoch 4 / 20:  62%|██████▏   | 963/1563 [00:40<00:27, 21.75it/s]"
          ]
        },
        {
          "output_type": "stream",
          "name": "stdout",
          "text": [
            "batch 960 loss: 0.31020401418209076\n"
          ]
        },
        {
          "output_type": "stream",
          "name": "stderr",
          "text": [
            "Train, Epoch 4 / 20:  62%|██████▏   | 972/1563 [00:40<00:26, 22.25it/s]"
          ]
        },
        {
          "output_type": "stream",
          "name": "stdout",
          "text": [
            "batch 970 loss: 0.30740406811237336\n"
          ]
        },
        {
          "output_type": "stream",
          "name": "stderr",
          "text": [
            "Train, Epoch 4 / 20:  63%|██████▎   | 984/1563 [00:41<00:23, 24.26it/s]"
          ]
        },
        {
          "output_type": "stream",
          "name": "stdout",
          "text": [
            "batch 980 loss: 0.26374110728502276\n"
          ]
        },
        {
          "output_type": "stream",
          "name": "stderr",
          "text": [
            "Train, Epoch 4 / 20:  64%|██████▎   | 993/1563 [00:41<00:23, 24.58it/s]"
          ]
        },
        {
          "output_type": "stream",
          "name": "stdout",
          "text": [
            "batch 990 loss: 0.30994800925254823\n"
          ]
        },
        {
          "output_type": "stream",
          "name": "stderr",
          "text": [
            "Train, Epoch 4 / 20:  64%|██████▍   | 1005/1563 [00:41<00:22, 24.55it/s]"
          ]
        },
        {
          "output_type": "stream",
          "name": "stdout",
          "text": [
            "batch 1000 loss: 0.32430636063218116\n"
          ]
        },
        {
          "output_type": "stream",
          "name": "stderr",
          "text": [
            "Train, Epoch 4 / 20:  65%|██████▍   | 1014/1563 [00:42<00:22, 24.73it/s]"
          ]
        },
        {
          "output_type": "stream",
          "name": "stdout",
          "text": [
            "batch 1010 loss: 0.28453618437051775\n"
          ]
        },
        {
          "output_type": "stream",
          "name": "stderr",
          "text": [
            "Train, Epoch 4 / 20:  65%|██████▌   | 1023/1563 [00:42<00:21, 24.82it/s]"
          ]
        },
        {
          "output_type": "stream",
          "name": "stdout",
          "text": [
            "batch 1020 loss: 0.36320057362318037\n"
          ]
        },
        {
          "output_type": "stream",
          "name": "stderr",
          "text": [
            "Train, Epoch 4 / 20:  66%|██████▌   | 1035/1563 [00:43<00:21, 24.66it/s]"
          ]
        },
        {
          "output_type": "stream",
          "name": "stdout",
          "text": [
            "batch 1030 loss: 0.2699805095791817\n"
          ]
        },
        {
          "output_type": "stream",
          "name": "stderr",
          "text": [
            "Train, Epoch 4 / 20:  67%|██████▋   | 1044/1563 [00:43<00:21, 24.60it/s]"
          ]
        },
        {
          "output_type": "stream",
          "name": "stdout",
          "text": [
            "batch 1040 loss: 0.2574846476316452\n"
          ]
        },
        {
          "output_type": "stream",
          "name": "stderr",
          "text": [
            "Train, Epoch 4 / 20:  67%|██████▋   | 1053/1563 [00:43<00:20, 24.63it/s]"
          ]
        },
        {
          "output_type": "stream",
          "name": "stdout",
          "text": [
            "batch 1050 loss: 0.33039209693670274\n"
          ]
        },
        {
          "output_type": "stream",
          "name": "stderr",
          "text": [
            "Train, Epoch 4 / 20:  68%|██████▊   | 1065/1563 [00:44<00:20, 24.83it/s]"
          ]
        },
        {
          "output_type": "stream",
          "name": "stdout",
          "text": [
            "batch 1060 loss: 0.3254571445286274\n"
          ]
        },
        {
          "output_type": "stream",
          "name": "stderr",
          "text": [
            "Train, Epoch 4 / 20:  69%|██████▊   | 1074/1563 [00:44<00:19, 24.84it/s]"
          ]
        },
        {
          "output_type": "stream",
          "name": "stdout",
          "text": [
            "batch 1070 loss: 0.29286663979291916\n"
          ]
        },
        {
          "output_type": "stream",
          "name": "stderr",
          "text": [
            "Train, Epoch 4 / 20:  69%|██████▉   | 1083/1563 [00:45<00:19, 24.80it/s]"
          ]
        },
        {
          "output_type": "stream",
          "name": "stdout",
          "text": [
            "batch 1080 loss: 0.2576608471572399\n"
          ]
        },
        {
          "output_type": "stream",
          "name": "stderr",
          "text": [
            "Train, Epoch 4 / 20:  70%|███████   | 1095/1563 [00:45<00:18, 24.76it/s]"
          ]
        },
        {
          "output_type": "stream",
          "name": "stdout",
          "text": [
            "batch 1090 loss: 0.2559959478676319\n"
          ]
        },
        {
          "output_type": "stream",
          "name": "stderr",
          "text": [
            "Train, Epoch 4 / 20:  71%|███████   | 1104/1563 [00:45<00:18, 24.54it/s]"
          ]
        },
        {
          "output_type": "stream",
          "name": "stdout",
          "text": [
            "batch 1100 loss: 0.3128915518522263\n"
          ]
        },
        {
          "output_type": "stream",
          "name": "stderr",
          "text": [
            "Train, Epoch 4 / 20:  71%|███████   | 1113/1563 [00:46<00:18, 24.77it/s]"
          ]
        },
        {
          "output_type": "stream",
          "name": "stdout",
          "text": [
            "batch 1110 loss: 0.3518818110227585\n"
          ]
        },
        {
          "output_type": "stream",
          "name": "stderr",
          "text": [
            "Train, Epoch 4 / 20:  72%|███████▏  | 1125/1563 [00:46<00:17, 24.90it/s]"
          ]
        },
        {
          "output_type": "stream",
          "name": "stdout",
          "text": [
            "batch 1120 loss: 0.3004509650170803\n"
          ]
        },
        {
          "output_type": "stream",
          "name": "stderr",
          "text": [
            "Train, Epoch 4 / 20:  73%|███████▎  | 1134/1563 [00:47<00:17, 24.69it/s]"
          ]
        },
        {
          "output_type": "stream",
          "name": "stdout",
          "text": [
            "batch 1130 loss: 0.4004813492298126\n"
          ]
        },
        {
          "output_type": "stream",
          "name": "stderr",
          "text": [
            "Train, Epoch 4 / 20:  73%|███████▎  | 1143/1563 [00:47<00:16, 24.82it/s]"
          ]
        },
        {
          "output_type": "stream",
          "name": "stdout",
          "text": [
            "batch 1140 loss: 0.3314893513917923\n"
          ]
        },
        {
          "output_type": "stream",
          "name": "stderr",
          "text": [
            "Train, Epoch 4 / 20:  74%|███████▎  | 1152/1563 [00:47<00:16, 24.45it/s]"
          ]
        },
        {
          "output_type": "stream",
          "name": "stdout",
          "text": [
            "batch 1150 loss: 0.26314360499382017\n"
          ]
        },
        {
          "output_type": "stream",
          "name": "stderr",
          "text": [
            "Train, Epoch 4 / 20:  74%|███████▍  | 1164/1563 [00:48<00:16, 24.78it/s]"
          ]
        },
        {
          "output_type": "stream",
          "name": "stdout",
          "text": [
            "batch 1160 loss: 0.30591697692871095\n"
          ]
        },
        {
          "output_type": "stream",
          "name": "stderr",
          "text": [
            "Train, Epoch 4 / 20:  75%|███████▌  | 1173/1563 [00:48<00:15, 24.66it/s]"
          ]
        },
        {
          "output_type": "stream",
          "name": "stdout",
          "text": [
            "batch 1170 loss: 0.2507130205631256\n"
          ]
        },
        {
          "output_type": "stream",
          "name": "stderr",
          "text": [
            "Train, Epoch 4 / 20:  76%|███████▌  | 1185/1563 [00:49<00:15, 24.63it/s]"
          ]
        },
        {
          "output_type": "stream",
          "name": "stdout",
          "text": [
            "batch 1180 loss: 0.3456022828817368\n"
          ]
        },
        {
          "output_type": "stream",
          "name": "stderr",
          "text": [
            "Train, Epoch 4 / 20:  76%|███████▋  | 1194/1563 [00:49<00:14, 24.67it/s]"
          ]
        },
        {
          "output_type": "stream",
          "name": "stdout",
          "text": [
            "batch 1190 loss: 0.37395156025886533\n"
          ]
        },
        {
          "output_type": "stream",
          "name": "stderr",
          "text": [
            "Train, Epoch 4 / 20:  77%|███████▋  | 1203/1563 [00:49<00:14, 24.67it/s]"
          ]
        },
        {
          "output_type": "stream",
          "name": "stdout",
          "text": [
            "batch 1200 loss: 0.2984802410006523\n"
          ]
        },
        {
          "output_type": "stream",
          "name": "stderr",
          "text": [
            "Train, Epoch 4 / 20:  78%|███████▊  | 1215/1563 [00:50<00:13, 24.88it/s]"
          ]
        },
        {
          "output_type": "stream",
          "name": "stdout",
          "text": [
            "batch 1210 loss: 0.3198609724640846\n"
          ]
        },
        {
          "output_type": "stream",
          "name": "stderr",
          "text": [
            "Train, Epoch 4 / 20:  78%|███████▊  | 1224/1563 [00:50<00:14, 23.41it/s]"
          ]
        },
        {
          "output_type": "stream",
          "name": "stdout",
          "text": [
            "batch 1220 loss: 0.31764824986457824\n"
          ]
        },
        {
          "output_type": "stream",
          "name": "stderr",
          "text": [
            "Train, Epoch 4 / 20:  79%|███████▉  | 1233/1563 [00:51<00:14, 22.71it/s]"
          ]
        },
        {
          "output_type": "stream",
          "name": "stdout",
          "text": [
            "batch 1230 loss: 0.3531113341450691\n"
          ]
        },
        {
          "output_type": "stream",
          "name": "stderr",
          "text": [
            "Train, Epoch 4 / 20:  79%|███████▉  | 1242/1563 [00:51<00:14, 21.87it/s]"
          ]
        },
        {
          "output_type": "stream",
          "name": "stdout",
          "text": [
            "batch 1240 loss: 0.33174494951963424\n"
          ]
        },
        {
          "output_type": "stream",
          "name": "stderr",
          "text": [
            "Train, Epoch 4 / 20:  80%|████████  | 1254/1563 [00:52<00:14, 21.82it/s]"
          ]
        },
        {
          "output_type": "stream",
          "name": "stdout",
          "text": [
            "batch 1250 loss: 0.29477608278393747\n"
          ]
        },
        {
          "output_type": "stream",
          "name": "stderr",
          "text": [
            "Train, Epoch 4 / 20:  81%|████████  | 1263/1563 [00:52<00:14, 21.18it/s]"
          ]
        },
        {
          "output_type": "stream",
          "name": "stdout",
          "text": [
            "batch 1260 loss: 0.34918485283851625\n"
          ]
        },
        {
          "output_type": "stream",
          "name": "stderr",
          "text": [
            "Train, Epoch 4 / 20:  81%|████████▏ | 1272/1563 [00:52<00:12, 23.12it/s]"
          ]
        },
        {
          "output_type": "stream",
          "name": "stdout",
          "text": [
            "batch 1270 loss: 0.27826168984174726\n"
          ]
        },
        {
          "output_type": "stream",
          "name": "stderr",
          "text": [
            "Train, Epoch 4 / 20:  82%|████████▏ | 1284/1563 [00:53<00:11, 24.39it/s]"
          ]
        },
        {
          "output_type": "stream",
          "name": "stdout",
          "text": [
            "batch 1280 loss: 0.29885939359664915\n"
          ]
        },
        {
          "output_type": "stream",
          "name": "stderr",
          "text": [
            "Train, Epoch 4 / 20:  83%|████████▎ | 1293/1563 [00:53<00:10, 24.55it/s]"
          ]
        },
        {
          "output_type": "stream",
          "name": "stdout",
          "text": [
            "batch 1290 loss: 0.3179220102727413\n"
          ]
        },
        {
          "output_type": "stream",
          "name": "stderr",
          "text": [
            "Train, Epoch 4 / 20:  83%|████████▎ | 1305/1563 [00:54<00:10, 24.72it/s]"
          ]
        },
        {
          "output_type": "stream",
          "name": "stdout",
          "text": [
            "batch 1300 loss: 0.36748779863119124\n"
          ]
        },
        {
          "output_type": "stream",
          "name": "stderr",
          "text": [
            "Train, Epoch 4 / 20:  84%|████████▍ | 1314/1563 [00:54<00:10, 24.85it/s]"
          ]
        },
        {
          "output_type": "stream",
          "name": "stdout",
          "text": [
            "batch 1310 loss: 0.30974568128585817\n"
          ]
        },
        {
          "output_type": "stream",
          "name": "stderr",
          "text": [
            "Train, Epoch 4 / 20:  85%|████████▍ | 1323/1563 [00:55<00:09, 24.64it/s]"
          ]
        },
        {
          "output_type": "stream",
          "name": "stdout",
          "text": [
            "batch 1320 loss: 0.3216960996389389\n"
          ]
        },
        {
          "output_type": "stream",
          "name": "stderr",
          "text": [
            "Train, Epoch 4 / 20:  85%|████████▌ | 1335/1563 [00:55<00:09, 24.74it/s]"
          ]
        },
        {
          "output_type": "stream",
          "name": "stdout",
          "text": [
            "batch 1330 loss: 0.3242617458105087\n"
          ]
        },
        {
          "output_type": "stream",
          "name": "stderr",
          "text": [
            "Train, Epoch 4 / 20:  86%|████████▌ | 1344/1563 [00:55<00:08, 24.84it/s]"
          ]
        },
        {
          "output_type": "stream",
          "name": "stdout",
          "text": [
            "batch 1340 loss: 0.346371679008007\n"
          ]
        },
        {
          "output_type": "stream",
          "name": "stderr",
          "text": [
            "Train, Epoch 4 / 20:  87%|████████▋ | 1353/1563 [00:56<00:08, 24.71it/s]"
          ]
        },
        {
          "output_type": "stream",
          "name": "stdout",
          "text": [
            "batch 1350 loss: 0.20723241940140724\n"
          ]
        },
        {
          "output_type": "stream",
          "name": "stderr",
          "text": [
            "Train, Epoch 4 / 20:  87%|████████▋ | 1365/1563 [00:56<00:08, 24.71it/s]"
          ]
        },
        {
          "output_type": "stream",
          "name": "stdout",
          "text": [
            "batch 1360 loss: 0.28887921050190923\n"
          ]
        },
        {
          "output_type": "stream",
          "name": "stderr",
          "text": [
            "Train, Epoch 4 / 20:  88%|████████▊ | 1374/1563 [00:57<00:07, 24.82it/s]"
          ]
        },
        {
          "output_type": "stream",
          "name": "stdout",
          "text": [
            "batch 1370 loss: 0.28449536934494973\n"
          ]
        },
        {
          "output_type": "stream",
          "name": "stderr",
          "text": [
            "Train, Epoch 4 / 20:  88%|████████▊ | 1383/1563 [00:57<00:07, 24.75it/s]"
          ]
        },
        {
          "output_type": "stream",
          "name": "stdout",
          "text": [
            "batch 1380 loss: 0.31253954768180847\n"
          ]
        },
        {
          "output_type": "stream",
          "name": "stderr",
          "text": [
            "Train, Epoch 4 / 20:  89%|████████▉ | 1392/1563 [00:57<00:06, 24.54it/s]"
          ]
        },
        {
          "output_type": "stream",
          "name": "stdout",
          "text": [
            "batch 1390 loss: 0.3229449734091759\n"
          ]
        },
        {
          "output_type": "stream",
          "name": "stderr",
          "text": [
            "Train, Epoch 4 / 20:  90%|████████▉ | 1404/1563 [00:58<00:06, 24.30it/s]"
          ]
        },
        {
          "output_type": "stream",
          "name": "stdout",
          "text": [
            "batch 1400 loss: 0.37703456580638883\n"
          ]
        },
        {
          "output_type": "stream",
          "name": "stderr",
          "text": [
            "Train, Epoch 4 / 20:  90%|█████████ | 1413/1563 [00:58<00:06, 24.45it/s]"
          ]
        },
        {
          "output_type": "stream",
          "name": "stdout",
          "text": [
            "batch 1410 loss: 0.4055956467986107\n"
          ]
        },
        {
          "output_type": "stream",
          "name": "stderr",
          "text": [
            "Train, Epoch 4 / 20:  91%|█████████ | 1422/1563 [00:59<00:05, 24.33it/s]"
          ]
        },
        {
          "output_type": "stream",
          "name": "stdout",
          "text": [
            "batch 1420 loss: 0.2734722658991814\n"
          ]
        },
        {
          "output_type": "stream",
          "name": "stderr",
          "text": [
            "Train, Epoch 4 / 20:  92%|█████████▏| 1434/1563 [00:59<00:05, 24.53it/s]"
          ]
        },
        {
          "output_type": "stream",
          "name": "stdout",
          "text": [
            "batch 1430 loss: 0.30372281596064565\n"
          ]
        },
        {
          "output_type": "stream",
          "name": "stderr",
          "text": [
            "Train, Epoch 4 / 20:  92%|█████████▏| 1443/1563 [00:59<00:04, 24.83it/s]"
          ]
        },
        {
          "output_type": "stream",
          "name": "stdout",
          "text": [
            "batch 1440 loss: 0.3085404023528099\n"
          ]
        },
        {
          "output_type": "stream",
          "name": "stderr",
          "text": [
            "Train, Epoch 4 / 20:  93%|█████████▎| 1455/1563 [01:00<00:04, 24.69it/s]"
          ]
        },
        {
          "output_type": "stream",
          "name": "stdout",
          "text": [
            "batch 1450 loss: 0.2728892207145691\n"
          ]
        },
        {
          "output_type": "stream",
          "name": "stderr",
          "text": [
            "Train, Epoch 4 / 20:  94%|█████████▎| 1464/1563 [01:00<00:04, 24.68it/s]"
          ]
        },
        {
          "output_type": "stream",
          "name": "stdout",
          "text": [
            "batch 1460 loss: 0.2582352988421917\n"
          ]
        },
        {
          "output_type": "stream",
          "name": "stderr",
          "text": [
            "Train, Epoch 4 / 20:  94%|█████████▍| 1473/1563 [01:01<00:03, 24.60it/s]"
          ]
        },
        {
          "output_type": "stream",
          "name": "stdout",
          "text": [
            "batch 1470 loss: 0.36131943613290785\n"
          ]
        },
        {
          "output_type": "stream",
          "name": "stderr",
          "text": [
            "Train, Epoch 4 / 20:  95%|█████████▌| 1485/1563 [01:01<00:03, 24.77it/s]"
          ]
        },
        {
          "output_type": "stream",
          "name": "stdout",
          "text": [
            "batch 1480 loss: 0.2759132131934166\n"
          ]
        },
        {
          "output_type": "stream",
          "name": "stderr",
          "text": [
            "Train, Epoch 4 / 20:  96%|█████████▌| 1494/1563 [01:01<00:02, 24.98it/s]"
          ]
        },
        {
          "output_type": "stream",
          "name": "stdout",
          "text": [
            "batch 1490 loss: 0.3726701259613037\n"
          ]
        },
        {
          "output_type": "stream",
          "name": "stderr",
          "text": [
            "Train, Epoch 4 / 20:  96%|█████████▌| 1503/1563 [01:02<00:02, 24.79it/s]"
          ]
        },
        {
          "output_type": "stream",
          "name": "stdout",
          "text": [
            "batch 1500 loss: 0.38334828019142153\n"
          ]
        },
        {
          "output_type": "stream",
          "name": "stderr",
          "text": [
            "Train, Epoch 4 / 20:  97%|█████████▋| 1512/1563 [01:02<00:02, 24.78it/s]"
          ]
        },
        {
          "output_type": "stream",
          "name": "stdout",
          "text": [
            "batch 1510 loss: 0.3308547087013721\n"
          ]
        },
        {
          "output_type": "stream",
          "name": "stderr",
          "text": [
            "Train, Epoch 4 / 20:  98%|█████████▊| 1524/1563 [01:03<00:01, 22.55it/s]"
          ]
        },
        {
          "output_type": "stream",
          "name": "stdout",
          "text": [
            "batch 1520 loss: 0.3479881212115288\n"
          ]
        },
        {
          "output_type": "stream",
          "name": "stderr",
          "text": [
            "Train, Epoch 4 / 20:  98%|█████████▊| 1533/1563 [01:03<00:01, 22.60it/s]"
          ]
        },
        {
          "output_type": "stream",
          "name": "stdout",
          "text": [
            "batch 1530 loss: 0.31366133093833926\n"
          ]
        },
        {
          "output_type": "stream",
          "name": "stderr",
          "text": [
            "Train, Epoch 4 / 20:  99%|█████████▊| 1542/1563 [01:04<00:00, 22.94it/s]"
          ]
        },
        {
          "output_type": "stream",
          "name": "stdout",
          "text": [
            "batch 1540 loss: 0.2692111149430275\n"
          ]
        },
        {
          "output_type": "stream",
          "name": "stderr",
          "text": [
            "Train, Epoch 4 / 20:  99%|█████████▉| 1554/1563 [01:04<00:00, 22.25it/s]"
          ]
        },
        {
          "output_type": "stream",
          "name": "stdout",
          "text": [
            "batch 1550 loss: 0.3660686001181602\n"
          ]
        },
        {
          "output_type": "stream",
          "name": "stderr",
          "text": [
            "Train, Epoch 4 / 20: 100%|██████████| 1563/1563 [01:04<00:00, 24.05it/s]\n"
          ]
        },
        {
          "output_type": "stream",
          "name": "stdout",
          "text": [
            "batch 1560 loss: 0.2886709086596966\n"
          ]
        },
        {
          "output_type": "stream",
          "name": "stderr",
          "text": [
            "Test, Epoch 4 / 20: 100%|██████████| 1563/1563 [00:29<00:00, 53.17it/s]\n"
          ]
        },
        {
          "output_type": "stream",
          "name": "stdout",
          "text": [
            "Epoch 4, loss: 0.44013975133240224, accuracy: 0.80632\n"
          ]
        },
        {
          "output_type": "stream",
          "name": "stderr",
          "text": [
            "Train, Epoch 5 / 20:   1%|          | 15/1563 [00:00<01:02, 24.86it/s]"
          ]
        },
        {
          "output_type": "stream",
          "name": "stdout",
          "text": [
            "batch 10 loss: 0.34234242886304855\n"
          ]
        },
        {
          "output_type": "stream",
          "name": "stderr",
          "text": [
            "Train, Epoch 5 / 20:   2%|▏         | 24/1563 [00:00<01:02, 24.69it/s]"
          ]
        },
        {
          "output_type": "stream",
          "name": "stdout",
          "text": [
            "batch 20 loss: 0.2300398215651512\n"
          ]
        },
        {
          "output_type": "stream",
          "name": "stderr",
          "text": [
            "Train, Epoch 5 / 20:   2%|▏         | 33/1563 [00:01<01:02, 24.36it/s]"
          ]
        },
        {
          "output_type": "stream",
          "name": "stdout",
          "text": [
            "batch 30 loss: 0.3107479438185692\n"
          ]
        },
        {
          "output_type": "stream",
          "name": "stderr",
          "text": [
            "Train, Epoch 5 / 20:   3%|▎         | 42/1563 [00:01<01:03, 24.04it/s]"
          ]
        },
        {
          "output_type": "stream",
          "name": "stdout",
          "text": [
            "batch 40 loss: 0.2522423006594181\n"
          ]
        },
        {
          "output_type": "stream",
          "name": "stderr",
          "text": [
            "Train, Epoch 5 / 20:   3%|▎         | 54/1563 [00:02<01:01, 24.70it/s]"
          ]
        },
        {
          "output_type": "stream",
          "name": "stdout",
          "text": [
            "batch 50 loss: 0.25652572736144064\n"
          ]
        },
        {
          "output_type": "stream",
          "name": "stderr",
          "text": [
            "Train, Epoch 5 / 20:   4%|▍         | 63/1563 [00:02<01:00, 24.67it/s]"
          ]
        },
        {
          "output_type": "stream",
          "name": "stdout",
          "text": [
            "batch 60 loss: 0.2867560774087906\n"
          ]
        },
        {
          "output_type": "stream",
          "name": "stderr",
          "text": [
            "Train, Epoch 5 / 20:   5%|▍         | 75/1563 [00:03<01:00, 24.61it/s]"
          ]
        },
        {
          "output_type": "stream",
          "name": "stdout",
          "text": [
            "batch 70 loss: 0.3540546908974648\n"
          ]
        },
        {
          "output_type": "stream",
          "name": "stderr",
          "text": [
            "Train, Epoch 5 / 20:   5%|▌         | 84/1563 [00:03<00:59, 24.72it/s]"
          ]
        },
        {
          "output_type": "stream",
          "name": "stdout",
          "text": [
            "batch 80 loss: 0.2831575982272625\n"
          ]
        },
        {
          "output_type": "stream",
          "name": "stderr",
          "text": [
            "Train, Epoch 5 / 20:   6%|▌         | 93/1563 [00:03<00:59, 24.84it/s]"
          ]
        },
        {
          "output_type": "stream",
          "name": "stdout",
          "text": [
            "batch 90 loss: 0.2981823481619358\n"
          ]
        },
        {
          "output_type": "stream",
          "name": "stderr",
          "text": [
            "Train, Epoch 5 / 20:   7%|▋         | 105/1563 [00:04<00:59, 24.67it/s]"
          ]
        },
        {
          "output_type": "stream",
          "name": "stdout",
          "text": [
            "batch 100 loss: 0.34576377272605896\n"
          ]
        },
        {
          "output_type": "stream",
          "name": "stderr",
          "text": [
            "Train, Epoch 5 / 20:   7%|▋         | 114/1563 [00:04<00:58, 24.59it/s]"
          ]
        },
        {
          "output_type": "stream",
          "name": "stdout",
          "text": [
            "batch 110 loss: 0.29860562831163406\n"
          ]
        },
        {
          "output_type": "stream",
          "name": "stderr",
          "text": [
            "Train, Epoch 5 / 20:   8%|▊         | 123/1563 [00:05<00:58, 24.54it/s]"
          ]
        },
        {
          "output_type": "stream",
          "name": "stdout",
          "text": [
            "batch 120 loss: 0.3018780767917633\n"
          ]
        },
        {
          "output_type": "stream",
          "name": "stderr",
          "text": [
            "Train, Epoch 5 / 20:   8%|▊         | 132/1563 [00:05<01:03, 22.55it/s]"
          ]
        },
        {
          "output_type": "stream",
          "name": "stdout",
          "text": [
            "batch 130 loss: 0.3444321006536484\n"
          ]
        },
        {
          "output_type": "stream",
          "name": "stderr",
          "text": [
            "Train, Epoch 5 / 20:   9%|▉         | 144/1563 [00:05<01:04, 21.96it/s]"
          ]
        },
        {
          "output_type": "stream",
          "name": "stdout",
          "text": [
            "batch 140 loss: 0.3414796903729439\n"
          ]
        },
        {
          "output_type": "stream",
          "name": "stderr",
          "text": [
            "Train, Epoch 5 / 20:  10%|▉         | 153/1563 [00:06<01:02, 22.44it/s]"
          ]
        },
        {
          "output_type": "stream",
          "name": "stdout",
          "text": [
            "batch 150 loss: 0.2736751653254032\n"
          ]
        },
        {
          "output_type": "stream",
          "name": "stderr",
          "text": [
            "Train, Epoch 5 / 20:  10%|█         | 162/1563 [00:06<01:04, 21.80it/s]"
          ]
        },
        {
          "output_type": "stream",
          "name": "stdout",
          "text": [
            "batch 160 loss: 0.31468254774808885\n"
          ]
        },
        {
          "output_type": "stream",
          "name": "stderr",
          "text": [
            "Train, Epoch 5 / 20:  11%|█         | 174/1563 [00:07<01:01, 22.51it/s]"
          ]
        },
        {
          "output_type": "stream",
          "name": "stdout",
          "text": [
            "batch 170 loss: 0.3474077984690666\n"
          ]
        },
        {
          "output_type": "stream",
          "name": "stderr",
          "text": [
            "Train, Epoch 5 / 20:  12%|█▏        | 183/1563 [00:07<00:57, 24.00it/s]"
          ]
        },
        {
          "output_type": "stream",
          "name": "stdout",
          "text": [
            "batch 180 loss: 0.38625444620847704\n"
          ]
        },
        {
          "output_type": "stream",
          "name": "stderr",
          "text": [
            "Train, Epoch 5 / 20:  12%|█▏        | 195/1563 [00:08<00:55, 24.49it/s]"
          ]
        },
        {
          "output_type": "stream",
          "name": "stdout",
          "text": [
            "batch 190 loss: 0.4111117526888847\n"
          ]
        },
        {
          "output_type": "stream",
          "name": "stderr",
          "text": [
            "Train, Epoch 5 / 20:  13%|█▎        | 204/1563 [00:08<00:54, 24.86it/s]"
          ]
        },
        {
          "output_type": "stream",
          "name": "stdout",
          "text": [
            "batch 200 loss: 0.22298244535923004\n"
          ]
        },
        {
          "output_type": "stream",
          "name": "stderr",
          "text": [
            "Train, Epoch 5 / 20:  14%|█▎        | 213/1563 [00:08<00:54, 24.81it/s]"
          ]
        },
        {
          "output_type": "stream",
          "name": "stdout",
          "text": [
            "batch 210 loss: 0.3658934056758881\n"
          ]
        },
        {
          "output_type": "stream",
          "name": "stderr",
          "text": [
            "Train, Epoch 5 / 20:  14%|█▍        | 225/1563 [00:09<00:54, 24.69it/s]"
          ]
        },
        {
          "output_type": "stream",
          "name": "stdout",
          "text": [
            "batch 220 loss: 0.37160066366195676\n"
          ]
        },
        {
          "output_type": "stream",
          "name": "stderr",
          "text": [
            "Train, Epoch 5 / 20:  15%|█▍        | 234/1563 [00:09<00:53, 24.91it/s]"
          ]
        },
        {
          "output_type": "stream",
          "name": "stdout",
          "text": [
            "batch 230 loss: 0.29977166205644606\n"
          ]
        },
        {
          "output_type": "stream",
          "name": "stderr",
          "text": [
            "Train, Epoch 5 / 20:  16%|█▌        | 243/1563 [00:10<00:54, 24.42it/s]"
          ]
        },
        {
          "output_type": "stream",
          "name": "stdout",
          "text": [
            "batch 240 loss: 0.3310542434453964\n"
          ]
        },
        {
          "output_type": "stream",
          "name": "stderr",
          "text": [
            "Train, Epoch 5 / 20:  16%|█▋        | 255/1563 [00:10<00:52, 24.69it/s]"
          ]
        },
        {
          "output_type": "stream",
          "name": "stdout",
          "text": [
            "batch 250 loss: 0.329913467168808\n"
          ]
        },
        {
          "output_type": "stream",
          "name": "stderr",
          "text": [
            "Train, Epoch 5 / 20:  17%|█▋        | 264/1563 [00:11<00:52, 24.53it/s]"
          ]
        },
        {
          "output_type": "stream",
          "name": "stdout",
          "text": [
            "batch 260 loss: 0.2751699276268482\n"
          ]
        },
        {
          "output_type": "stream",
          "name": "stderr",
          "text": [
            "Train, Epoch 5 / 20:  17%|█▋        | 273/1563 [00:11<00:52, 24.49it/s]"
          ]
        },
        {
          "output_type": "stream",
          "name": "stdout",
          "text": [
            "batch 270 loss: 0.3513511151075363\n"
          ]
        },
        {
          "output_type": "stream",
          "name": "stderr",
          "text": [
            "Train, Epoch 5 / 20:  18%|█▊        | 282/1563 [00:11<00:52, 24.49it/s]"
          ]
        },
        {
          "output_type": "stream",
          "name": "stdout",
          "text": [
            "batch 280 loss: 0.3224359735846519\n"
          ]
        },
        {
          "output_type": "stream",
          "name": "stderr",
          "text": [
            "Train, Epoch 5 / 20:  19%|█▉        | 294/1563 [00:12<00:51, 24.50it/s]"
          ]
        },
        {
          "output_type": "stream",
          "name": "stdout",
          "text": [
            "batch 290 loss: 0.34882123917341235\n"
          ]
        },
        {
          "output_type": "stream",
          "name": "stderr",
          "text": [
            "Train, Epoch 5 / 20:  19%|█▉        | 303/1563 [00:12<00:51, 24.60it/s]"
          ]
        },
        {
          "output_type": "stream",
          "name": "stdout",
          "text": [
            "batch 300 loss: 0.23991989269852637\n"
          ]
        },
        {
          "output_type": "stream",
          "name": "stderr",
          "text": [
            "Train, Epoch 5 / 20:  20%|██        | 315/1563 [00:13<00:50, 24.79it/s]"
          ]
        },
        {
          "output_type": "stream",
          "name": "stdout",
          "text": [
            "batch 310 loss: 0.2345087707042694\n"
          ]
        },
        {
          "output_type": "stream",
          "name": "stderr",
          "text": [
            "Train, Epoch 5 / 20:  21%|██        | 324/1563 [00:13<00:49, 24.81it/s]"
          ]
        },
        {
          "output_type": "stream",
          "name": "stdout",
          "text": [
            "batch 320 loss: 0.2795940928161144\n"
          ]
        },
        {
          "output_type": "stream",
          "name": "stderr",
          "text": [
            "Train, Epoch 5 / 20:  21%|██▏       | 333/1563 [00:13<00:49, 24.79it/s]"
          ]
        },
        {
          "output_type": "stream",
          "name": "stdout",
          "text": [
            "batch 330 loss: 0.3108551323413849\n"
          ]
        },
        {
          "output_type": "stream",
          "name": "stderr",
          "text": [
            "Train, Epoch 5 / 20:  22%|██▏       | 345/1563 [00:14<00:49, 24.61it/s]"
          ]
        },
        {
          "output_type": "stream",
          "name": "stdout",
          "text": [
            "batch 340 loss: 0.29652981609106066\n"
          ]
        },
        {
          "output_type": "stream",
          "name": "stderr",
          "text": [
            "Train, Epoch 5 / 20:  23%|██▎       | 354/1563 [00:14<00:49, 24.63it/s]"
          ]
        },
        {
          "output_type": "stream",
          "name": "stdout",
          "text": [
            "batch 350 loss: 0.3312553584575653\n"
          ]
        },
        {
          "output_type": "stream",
          "name": "stderr",
          "text": [
            "Train, Epoch 5 / 20:  23%|██▎       | 363/1563 [00:15<00:48, 24.59it/s]"
          ]
        },
        {
          "output_type": "stream",
          "name": "stdout",
          "text": [
            "batch 360 loss: 0.33916857540607454\n"
          ]
        },
        {
          "output_type": "stream",
          "name": "stderr",
          "text": [
            "Train, Epoch 5 / 20:  24%|██▍       | 375/1563 [00:15<00:47, 24.87it/s]"
          ]
        },
        {
          "output_type": "stream",
          "name": "stdout",
          "text": [
            "batch 370 loss: 0.3003019727766514\n"
          ]
        },
        {
          "output_type": "stream",
          "name": "stderr",
          "text": [
            "Train, Epoch 5 / 20:  25%|██▍       | 384/1563 [00:15<00:47, 24.92it/s]"
          ]
        },
        {
          "output_type": "stream",
          "name": "stdout",
          "text": [
            "batch 380 loss: 0.3556005984544754\n"
          ]
        },
        {
          "output_type": "stream",
          "name": "stderr",
          "text": [
            "Train, Epoch 5 / 20:  25%|██▌       | 393/1563 [00:16<00:47, 24.63it/s]"
          ]
        },
        {
          "output_type": "stream",
          "name": "stdout",
          "text": [
            "batch 390 loss: 0.29078152775764465\n"
          ]
        },
        {
          "output_type": "stream",
          "name": "stderr",
          "text": [
            "Train, Epoch 5 / 20:  26%|██▌       | 405/1563 [00:16<00:46, 24.74it/s]"
          ]
        },
        {
          "output_type": "stream",
          "name": "stdout",
          "text": [
            "batch 400 loss: 0.29333810061216353\n"
          ]
        },
        {
          "output_type": "stream",
          "name": "stderr",
          "text": [
            "Train, Epoch 5 / 20:  26%|██▋       | 414/1563 [00:17<00:46, 24.68it/s]"
          ]
        },
        {
          "output_type": "stream",
          "name": "stdout",
          "text": [
            "batch 410 loss: 0.3437120884656906\n"
          ]
        },
        {
          "output_type": "stream",
          "name": "stderr",
          "text": [
            "Train, Epoch 5 / 20:  27%|██▋       | 423/1563 [00:17<00:49, 23.16it/s]"
          ]
        },
        {
          "output_type": "stream",
          "name": "stdout",
          "text": [
            "batch 420 loss: 0.253972315043211\n"
          ]
        },
        {
          "output_type": "stream",
          "name": "stderr",
          "text": [
            "Train, Epoch 5 / 20:  28%|██▊       | 432/1563 [00:17<00:50, 22.33it/s]"
          ]
        },
        {
          "output_type": "stream",
          "name": "stdout",
          "text": [
            "batch 430 loss: 0.2942077063024044\n"
          ]
        },
        {
          "output_type": "stream",
          "name": "stderr",
          "text": [
            "Train, Epoch 5 / 20:  28%|██▊       | 444/1563 [00:18<00:51, 21.53it/s]"
          ]
        },
        {
          "output_type": "stream",
          "name": "stdout",
          "text": [
            "batch 440 loss: 0.29308581352233887\n"
          ]
        },
        {
          "output_type": "stream",
          "name": "stderr",
          "text": [
            "Train, Epoch 5 / 20:  29%|██▉       | 453/1563 [00:18<00:52, 21.28it/s]"
          ]
        },
        {
          "output_type": "stream",
          "name": "stdout",
          "text": [
            "batch 450 loss: 0.3205569013953209\n"
          ]
        },
        {
          "output_type": "stream",
          "name": "stderr",
          "text": [
            "Train, Epoch 5 / 20:  30%|██▉       | 462/1563 [00:19<00:51, 21.19it/s]"
          ]
        },
        {
          "output_type": "stream",
          "name": "stdout",
          "text": [
            "batch 460 loss: 0.3326145336031914\n"
          ]
        },
        {
          "output_type": "stream",
          "name": "stderr",
          "text": [
            "Train, Epoch 5 / 20:  30%|███       | 474/1563 [00:19<00:45, 23.86it/s]"
          ]
        },
        {
          "output_type": "stream",
          "name": "stdout",
          "text": [
            "batch 470 loss: 0.2717342011630535\n"
          ]
        },
        {
          "output_type": "stream",
          "name": "stderr",
          "text": [
            "Train, Epoch 5 / 20:  31%|███       | 483/1563 [00:20<00:44, 24.49it/s]"
          ]
        },
        {
          "output_type": "stream",
          "name": "stdout",
          "text": [
            "batch 480 loss: 0.2751464664936066\n"
          ]
        },
        {
          "output_type": "stream",
          "name": "stderr",
          "text": [
            "Train, Epoch 5 / 20:  32%|███▏      | 495/1563 [00:20<00:43, 24.71it/s]"
          ]
        },
        {
          "output_type": "stream",
          "name": "stdout",
          "text": [
            "batch 490 loss: 0.3347086012363434\n"
          ]
        },
        {
          "output_type": "stream",
          "name": "stderr",
          "text": [
            "Train, Epoch 5 / 20:  32%|███▏      | 504/1563 [00:21<00:42, 24.81it/s]"
          ]
        },
        {
          "output_type": "stream",
          "name": "stdout",
          "text": [
            "batch 500 loss: 0.25464864894747735\n"
          ]
        },
        {
          "output_type": "stream",
          "name": "stderr",
          "text": [
            "Train, Epoch 5 / 20:  33%|███▎      | 513/1563 [00:21<00:43, 24.42it/s]"
          ]
        },
        {
          "output_type": "stream",
          "name": "stdout",
          "text": [
            "batch 510 loss: 0.24984567388892173\n"
          ]
        },
        {
          "output_type": "stream",
          "name": "stderr",
          "text": [
            "Train, Epoch 5 / 20:  33%|███▎      | 522/1563 [00:21<00:42, 24.64it/s]"
          ]
        },
        {
          "output_type": "stream",
          "name": "stdout",
          "text": [
            "batch 520 loss: 0.3355471059679985\n"
          ]
        },
        {
          "output_type": "stream",
          "name": "stderr",
          "text": [
            "Train, Epoch 5 / 20:  34%|███▍      | 534/1563 [00:22<00:41, 24.69it/s]"
          ]
        },
        {
          "output_type": "stream",
          "name": "stdout",
          "text": [
            "batch 530 loss: 0.3029136322438717\n"
          ]
        },
        {
          "output_type": "stream",
          "name": "stderr",
          "text": [
            "Train, Epoch 5 / 20:  35%|███▍      | 543/1563 [00:22<00:41, 24.83it/s]"
          ]
        },
        {
          "output_type": "stream",
          "name": "stdout",
          "text": [
            "batch 540 loss: 0.24532071948051454\n"
          ]
        },
        {
          "output_type": "stream",
          "name": "stderr",
          "text": [
            "Train, Epoch 5 / 20:  36%|███▌      | 555/1563 [00:23<00:40, 24.87it/s]"
          ]
        },
        {
          "output_type": "stream",
          "name": "stdout",
          "text": [
            "batch 550 loss: 0.2697257995605469\n"
          ]
        },
        {
          "output_type": "stream",
          "name": "stderr",
          "text": [
            "Train, Epoch 5 / 20:  36%|███▌      | 564/1563 [00:23<00:40, 24.77it/s]"
          ]
        },
        {
          "output_type": "stream",
          "name": "stdout",
          "text": [
            "batch 560 loss: 0.282724891602993\n"
          ]
        },
        {
          "output_type": "stream",
          "name": "stderr",
          "text": [
            "Train, Epoch 5 / 20:  37%|███▋      | 573/1563 [00:23<00:39, 24.80it/s]"
          ]
        },
        {
          "output_type": "stream",
          "name": "stdout",
          "text": [
            "batch 570 loss: 0.29605382680892944\n"
          ]
        },
        {
          "output_type": "stream",
          "name": "stderr",
          "text": [
            "Train, Epoch 5 / 20:  37%|███▋      | 585/1563 [00:24<00:40, 24.41it/s]"
          ]
        },
        {
          "output_type": "stream",
          "name": "stdout",
          "text": [
            "batch 580 loss: 0.23891208469867706\n"
          ]
        },
        {
          "output_type": "stream",
          "name": "stderr",
          "text": [
            "Train, Epoch 5 / 20:  38%|███▊      | 594/1563 [00:24<00:39, 24.68it/s]"
          ]
        },
        {
          "output_type": "stream",
          "name": "stdout",
          "text": [
            "batch 590 loss: 0.3695391476154327\n"
          ]
        },
        {
          "output_type": "stream",
          "name": "stderr",
          "text": [
            "Train, Epoch 5 / 20:  39%|███▊      | 603/1563 [00:25<00:38, 24.69it/s]"
          ]
        },
        {
          "output_type": "stream",
          "name": "stdout",
          "text": [
            "batch 600 loss: 0.27428620904684065\n"
          ]
        },
        {
          "output_type": "stream",
          "name": "stderr",
          "text": [
            "Train, Epoch 5 / 20:  39%|███▉      | 615/1563 [00:25<00:38, 24.81it/s]"
          ]
        },
        {
          "output_type": "stream",
          "name": "stdout",
          "text": [
            "batch 610 loss: 0.3041585460305214\n"
          ]
        },
        {
          "output_type": "stream",
          "name": "stderr",
          "text": [
            "Train, Epoch 5 / 20:  40%|███▉      | 624/1563 [00:25<00:37, 24.95it/s]"
          ]
        },
        {
          "output_type": "stream",
          "name": "stdout",
          "text": [
            "batch 620 loss: 0.29456393122673036\n"
          ]
        },
        {
          "output_type": "stream",
          "name": "stderr",
          "text": [
            "Train, Epoch 5 / 20:  40%|████      | 633/1563 [00:26<00:37, 24.80it/s]"
          ]
        },
        {
          "output_type": "stream",
          "name": "stdout",
          "text": [
            "batch 630 loss: 0.3143278807401657\n"
          ]
        },
        {
          "output_type": "stream",
          "name": "stderr",
          "text": [
            "Train, Epoch 5 / 20:  41%|████▏     | 645/1563 [00:26<00:37, 24.54it/s]"
          ]
        },
        {
          "output_type": "stream",
          "name": "stdout",
          "text": [
            "batch 640 loss: 0.3173105478286743\n"
          ]
        },
        {
          "output_type": "stream",
          "name": "stderr",
          "text": [
            "Train, Epoch 5 / 20:  42%|████▏     | 654/1563 [00:27<00:36, 24.73it/s]"
          ]
        },
        {
          "output_type": "stream",
          "name": "stdout",
          "text": [
            "batch 650 loss: 0.2667364113032818\n"
          ]
        },
        {
          "output_type": "stream",
          "name": "stderr",
          "text": [
            "Train, Epoch 5 / 20:  42%|████▏     | 663/1563 [00:27<00:36, 24.77it/s]"
          ]
        },
        {
          "output_type": "stream",
          "name": "stdout",
          "text": [
            "batch 660 loss: 0.30421170592308044\n"
          ]
        },
        {
          "output_type": "stream",
          "name": "stderr",
          "text": [
            "Train, Epoch 5 / 20:  43%|████▎     | 675/1563 [00:27<00:35, 24.91it/s]"
          ]
        },
        {
          "output_type": "stream",
          "name": "stdout",
          "text": [
            "batch 670 loss: 0.26751993373036387\n"
          ]
        },
        {
          "output_type": "stream",
          "name": "stderr",
          "text": [
            "Train, Epoch 5 / 20:  44%|████▍     | 684/1563 [00:28<00:35, 24.84it/s]"
          ]
        },
        {
          "output_type": "stream",
          "name": "stdout",
          "text": [
            "batch 680 loss: 0.26362729221582415\n"
          ]
        },
        {
          "output_type": "stream",
          "name": "stderr",
          "text": [
            "Train, Epoch 5 / 20:  44%|████▍     | 693/1563 [00:28<00:35, 24.70it/s]"
          ]
        },
        {
          "output_type": "stream",
          "name": "stdout",
          "text": [
            "batch 690 loss: 0.2635065712034702\n"
          ]
        },
        {
          "output_type": "stream",
          "name": "stderr",
          "text": [
            "Train, Epoch 5 / 20:  45%|████▌     | 705/1563 [00:29<00:34, 24.83it/s]"
          ]
        },
        {
          "output_type": "stream",
          "name": "stdout",
          "text": [
            "batch 700 loss: 0.26357533037662506\n"
          ]
        },
        {
          "output_type": "stream",
          "name": "stderr",
          "text": [
            "Train, Epoch 5 / 20:  46%|████▌     | 714/1563 [00:29<00:36, 22.96it/s]"
          ]
        },
        {
          "output_type": "stream",
          "name": "stdout",
          "text": [
            "batch 710 loss: 0.2418940968811512\n"
          ]
        },
        {
          "output_type": "stream",
          "name": "stderr",
          "text": [
            "Train, Epoch 5 / 20:  46%|████▋     | 723/1563 [00:29<00:36, 22.82it/s]"
          ]
        },
        {
          "output_type": "stream",
          "name": "stdout",
          "text": [
            "batch 720 loss: 0.2960028171539307\n"
          ]
        },
        {
          "output_type": "stream",
          "name": "stderr",
          "text": [
            "Train, Epoch 5 / 20:  47%|████▋     | 732/1563 [00:30<00:36, 22.55it/s]"
          ]
        },
        {
          "output_type": "stream",
          "name": "stdout",
          "text": [
            "batch 730 loss: 0.2735727697610855\n"
          ]
        },
        {
          "output_type": "stream",
          "name": "stderr",
          "text": [
            "Train, Epoch 5 / 20:  48%|████▊     | 744/1563 [00:30<00:36, 22.66it/s]"
          ]
        },
        {
          "output_type": "stream",
          "name": "stdout",
          "text": [
            "batch 740 loss: 0.32178683280944825\n"
          ]
        },
        {
          "output_type": "stream",
          "name": "stderr",
          "text": [
            "Train, Epoch 5 / 20:  48%|████▊     | 753/1563 [00:31<00:35, 22.52it/s]"
          ]
        },
        {
          "output_type": "stream",
          "name": "stdout",
          "text": [
            "batch 750 loss: 0.2714178889989853\n"
          ]
        },
        {
          "output_type": "stream",
          "name": "stderr",
          "text": [
            "Train, Epoch 5 / 20:  49%|████▉     | 765/1563 [00:31<00:34, 23.19it/s]"
          ]
        },
        {
          "output_type": "stream",
          "name": "stdout",
          "text": [
            "batch 760 loss: 0.3627549260854721\n"
          ]
        },
        {
          "output_type": "stream",
          "name": "stderr",
          "text": [
            "Train, Epoch 5 / 20:  50%|████▉     | 774/1563 [00:32<00:32, 24.50it/s]"
          ]
        },
        {
          "output_type": "stream",
          "name": "stdout",
          "text": [
            "batch 770 loss: 0.25062874183058736\n"
          ]
        },
        {
          "output_type": "stream",
          "name": "stderr",
          "text": [
            "Train, Epoch 5 / 20:  50%|█████     | 783/1563 [00:32<00:31, 24.66it/s]"
          ]
        },
        {
          "output_type": "stream",
          "name": "stdout",
          "text": [
            "batch 780 loss: 0.29661973640322686\n"
          ]
        },
        {
          "output_type": "stream",
          "name": "stderr",
          "text": [
            "Train, Epoch 5 / 20:  51%|█████     | 795/1563 [00:33<00:31, 24.74it/s]"
          ]
        },
        {
          "output_type": "stream",
          "name": "stdout",
          "text": [
            "batch 790 loss: 0.3441406324505806\n"
          ]
        },
        {
          "output_type": "stream",
          "name": "stderr",
          "text": [
            "Train, Epoch 5 / 20:  51%|█████▏    | 804/1563 [00:33<00:30, 24.74it/s]"
          ]
        },
        {
          "output_type": "stream",
          "name": "stdout",
          "text": [
            "batch 800 loss: 0.32256433069705964\n"
          ]
        },
        {
          "output_type": "stream",
          "name": "stderr",
          "text": [
            "Train, Epoch 5 / 20:  52%|█████▏    | 813/1563 [00:33<00:30, 24.61it/s]"
          ]
        },
        {
          "output_type": "stream",
          "name": "stdout",
          "text": [
            "batch 810 loss: 0.30513132363557816\n"
          ]
        },
        {
          "output_type": "stream",
          "name": "stderr",
          "text": [
            "Train, Epoch 5 / 20:  53%|█████▎    | 825/1563 [00:34<00:29, 24.91it/s]"
          ]
        },
        {
          "output_type": "stream",
          "name": "stdout",
          "text": [
            "batch 820 loss: 0.3177977129817009\n"
          ]
        },
        {
          "output_type": "stream",
          "name": "stderr",
          "text": [
            "Train, Epoch 5 / 20:  53%|█████▎    | 834/1563 [00:34<00:29, 24.91it/s]"
          ]
        },
        {
          "output_type": "stream",
          "name": "stdout",
          "text": [
            "batch 830 loss: 0.34347852170467374\n"
          ]
        },
        {
          "output_type": "stream",
          "name": "stderr",
          "text": [
            "Train, Epoch 5 / 20:  54%|█████▍    | 843/1563 [00:34<00:29, 24.71it/s]"
          ]
        },
        {
          "output_type": "stream",
          "name": "stdout",
          "text": [
            "batch 840 loss: 0.26779027879238126\n"
          ]
        },
        {
          "output_type": "stream",
          "name": "stderr",
          "text": [
            "Train, Epoch 5 / 20:  55%|█████▍    | 855/1563 [00:35<00:28, 24.81it/s]"
          ]
        },
        {
          "output_type": "stream",
          "name": "stdout",
          "text": [
            "batch 850 loss: 0.24447937086224555\n"
          ]
        },
        {
          "output_type": "stream",
          "name": "stderr",
          "text": [
            "Train, Epoch 5 / 20:  55%|█████▌    | 864/1563 [00:35<00:28, 24.29it/s]"
          ]
        },
        {
          "output_type": "stream",
          "name": "stdout",
          "text": [
            "batch 860 loss: 0.2596317507326603\n"
          ]
        },
        {
          "output_type": "stream",
          "name": "stderr",
          "text": [
            "Train, Epoch 5 / 20:  56%|█████▌    | 873/1563 [00:36<00:27, 24.65it/s]"
          ]
        },
        {
          "output_type": "stream",
          "name": "stdout",
          "text": [
            "batch 870 loss: 0.3194355398416519\n"
          ]
        },
        {
          "output_type": "stream",
          "name": "stderr",
          "text": [
            "Train, Epoch 5 / 20:  57%|█████▋    | 885/1563 [00:36<00:27, 24.87it/s]"
          ]
        },
        {
          "output_type": "stream",
          "name": "stdout",
          "text": [
            "batch 880 loss: 0.28711396753787993\n"
          ]
        },
        {
          "output_type": "stream",
          "name": "stderr",
          "text": [
            "Train, Epoch 5 / 20:  57%|█████▋    | 894/1563 [00:37<00:27, 24.73it/s]"
          ]
        },
        {
          "output_type": "stream",
          "name": "stdout",
          "text": [
            "batch 890 loss: 0.34131294712424276\n"
          ]
        },
        {
          "output_type": "stream",
          "name": "stderr",
          "text": [
            "Train, Epoch 5 / 20:  58%|█████▊    | 903/1563 [00:37<00:26, 24.82it/s]"
          ]
        },
        {
          "output_type": "stream",
          "name": "stdout",
          "text": [
            "batch 900 loss: 0.2609104707837105\n"
          ]
        },
        {
          "output_type": "stream",
          "name": "stderr",
          "text": [
            "Train, Epoch 5 / 20:  59%|█████▊    | 915/1563 [00:37<00:26, 24.64it/s]"
          ]
        },
        {
          "output_type": "stream",
          "name": "stdout",
          "text": [
            "batch 910 loss: 0.33511845767498016\n"
          ]
        },
        {
          "output_type": "stream",
          "name": "stderr",
          "text": [
            "Train, Epoch 5 / 20:  59%|█████▉    | 924/1563 [00:38<00:25, 24.77it/s]"
          ]
        },
        {
          "output_type": "stream",
          "name": "stdout",
          "text": [
            "batch 920 loss: 0.31201308220624924\n"
          ]
        },
        {
          "output_type": "stream",
          "name": "stderr",
          "text": [
            "Train, Epoch 5 / 20:  60%|█████▉    | 933/1563 [00:38<00:25, 24.57it/s]"
          ]
        },
        {
          "output_type": "stream",
          "name": "stdout",
          "text": [
            "batch 930 loss: 0.35993416160345076\n"
          ]
        },
        {
          "output_type": "stream",
          "name": "stderr",
          "text": [
            "Train, Epoch 5 / 20:  60%|██████    | 945/1563 [00:39<00:25, 24.56it/s]"
          ]
        },
        {
          "output_type": "stream",
          "name": "stdout",
          "text": [
            "batch 940 loss: 0.2984450817108154\n"
          ]
        },
        {
          "output_type": "stream",
          "name": "stderr",
          "text": [
            "Train, Epoch 5 / 20:  61%|██████    | 954/1563 [00:39<00:24, 24.76it/s]"
          ]
        },
        {
          "output_type": "stream",
          "name": "stdout",
          "text": [
            "batch 950 loss: 0.2995739236474037\n"
          ]
        },
        {
          "output_type": "stream",
          "name": "stderr",
          "text": [
            "Train, Epoch 5 / 20:  62%|██████▏   | 963/1563 [00:39<00:24, 24.75it/s]"
          ]
        },
        {
          "output_type": "stream",
          "name": "stdout",
          "text": [
            "batch 960 loss: 0.28857418671250346\n"
          ]
        },
        {
          "output_type": "stream",
          "name": "stderr",
          "text": [
            "Train, Epoch 5 / 20:  62%|██████▏   | 975/1563 [00:40<00:23, 24.72it/s]"
          ]
        },
        {
          "output_type": "stream",
          "name": "stdout",
          "text": [
            "batch 970 loss: 0.38219199925661085\n"
          ]
        },
        {
          "output_type": "stream",
          "name": "stderr",
          "text": [
            "Train, Epoch 5 / 20:  63%|██████▎   | 984/1563 [00:40<00:23, 24.75it/s]"
          ]
        },
        {
          "output_type": "stream",
          "name": "stdout",
          "text": [
            "batch 980 loss: 0.3044772297143936\n"
          ]
        },
        {
          "output_type": "stream",
          "name": "stderr",
          "text": [
            "Train, Epoch 5 / 20:  64%|██████▎   | 993/1563 [00:41<00:23, 24.75it/s]"
          ]
        },
        {
          "output_type": "stream",
          "name": "stdout",
          "text": [
            "batch 990 loss: 0.32457551509141924\n"
          ]
        },
        {
          "output_type": "stream",
          "name": "stderr",
          "text": [
            "Train, Epoch 5 / 20:  64%|██████▍   | 1005/1563 [00:41<00:22, 24.73it/s]"
          ]
        },
        {
          "output_type": "stream",
          "name": "stdout",
          "text": [
            "batch 1000 loss: 0.22720724642276763\n"
          ]
        },
        {
          "output_type": "stream",
          "name": "stderr",
          "text": [
            "Train, Epoch 5 / 20:  65%|██████▍   | 1014/1563 [00:41<00:24, 22.62it/s]"
          ]
        },
        {
          "output_type": "stream",
          "name": "stdout",
          "text": [
            "batch 1010 loss: 0.2915207877755165\n"
          ]
        },
        {
          "output_type": "stream",
          "name": "stderr",
          "text": [
            "Train, Epoch 5 / 20:  65%|██████▌   | 1023/1563 [00:42<00:24, 22.44it/s]"
          ]
        },
        {
          "output_type": "stream",
          "name": "stdout",
          "text": [
            "batch 1020 loss: 0.3116681382060051\n"
          ]
        },
        {
          "output_type": "stream",
          "name": "stderr",
          "text": [
            "Train, Epoch 5 / 20:  66%|██████▌   | 1032/1563 [00:42<00:23, 22.84it/s]"
          ]
        },
        {
          "output_type": "stream",
          "name": "stdout",
          "text": [
            "batch 1030 loss: 0.2977436505258083\n"
          ]
        },
        {
          "output_type": "stream",
          "name": "stderr",
          "text": [
            "Train, Epoch 5 / 20:  67%|██████▋   | 1044/1563 [00:43<00:22, 22.79it/s]"
          ]
        },
        {
          "output_type": "stream",
          "name": "stdout",
          "text": [
            "batch 1040 loss: 0.2703931197524071\n"
          ]
        },
        {
          "output_type": "stream",
          "name": "stderr",
          "text": [
            "Train, Epoch 5 / 20:  67%|██████▋   | 1053/1563 [00:43<00:23, 21.70it/s]"
          ]
        },
        {
          "output_type": "stream",
          "name": "stdout",
          "text": [
            "batch 1050 loss: 0.31197095215320586\n"
          ]
        },
        {
          "output_type": "stream",
          "name": "stderr",
          "text": [
            "Train, Epoch 5 / 20:  68%|██████▊   | 1065/1563 [00:44<00:21, 23.21it/s]"
          ]
        },
        {
          "output_type": "stream",
          "name": "stdout",
          "text": [
            "batch 1060 loss: 0.2847636789083481\n"
          ]
        },
        {
          "output_type": "stream",
          "name": "stderr",
          "text": [
            "Train, Epoch 5 / 20:  69%|██████▊   | 1074/1563 [00:44<00:20, 24.22it/s]"
          ]
        },
        {
          "output_type": "stream",
          "name": "stdout",
          "text": [
            "batch 1070 loss: 0.31636603474617003\n"
          ]
        },
        {
          "output_type": "stream",
          "name": "stderr",
          "text": [
            "Train, Epoch 5 / 20:  69%|██████▉   | 1083/1563 [00:44<00:19, 24.39it/s]"
          ]
        },
        {
          "output_type": "stream",
          "name": "stdout",
          "text": [
            "batch 1080 loss: 0.3092207536101341\n"
          ]
        },
        {
          "output_type": "stream",
          "name": "stderr",
          "text": [
            "Train, Epoch 5 / 20:  70%|███████   | 1095/1563 [00:45<00:19, 24.38it/s]"
          ]
        },
        {
          "output_type": "stream",
          "name": "stdout",
          "text": [
            "batch 1090 loss: 0.34147847816348076\n"
          ]
        },
        {
          "output_type": "stream",
          "name": "stderr",
          "text": [
            "Train, Epoch 5 / 20:  71%|███████   | 1104/1563 [00:45<00:18, 24.54it/s]"
          ]
        },
        {
          "output_type": "stream",
          "name": "stdout",
          "text": [
            "batch 1100 loss: 0.3183392763137817\n"
          ]
        },
        {
          "output_type": "stream",
          "name": "stderr",
          "text": [
            "Train, Epoch 5 / 20:  71%|███████   | 1113/1563 [00:46<00:18, 24.73it/s]"
          ]
        },
        {
          "output_type": "stream",
          "name": "stdout",
          "text": [
            "batch 1110 loss: 0.2942590519785881\n"
          ]
        },
        {
          "output_type": "stream",
          "name": "stderr",
          "text": [
            "Train, Epoch 5 / 20:  72%|███████▏  | 1125/1563 [00:46<00:17, 24.69it/s]"
          ]
        },
        {
          "output_type": "stream",
          "name": "stdout",
          "text": [
            "batch 1120 loss: 0.28388780951499937\n"
          ]
        },
        {
          "output_type": "stream",
          "name": "stderr",
          "text": [
            "Train, Epoch 5 / 20:  73%|███████▎  | 1134/1563 [00:47<00:17, 24.88it/s]"
          ]
        },
        {
          "output_type": "stream",
          "name": "stdout",
          "text": [
            "batch 1130 loss: 0.3464208319783211\n"
          ]
        },
        {
          "output_type": "stream",
          "name": "stderr",
          "text": [
            "Train, Epoch 5 / 20:  73%|███████▎  | 1143/1563 [00:47<00:17, 24.62it/s]"
          ]
        },
        {
          "output_type": "stream",
          "name": "stdout",
          "text": [
            "batch 1140 loss: 0.26367164254188535\n"
          ]
        },
        {
          "output_type": "stream",
          "name": "stderr",
          "text": [
            "Train, Epoch 5 / 20:  74%|███████▍  | 1155/1563 [00:47<00:16, 24.59it/s]"
          ]
        },
        {
          "output_type": "stream",
          "name": "stdout",
          "text": [
            "batch 1150 loss: 0.3032907426357269\n"
          ]
        },
        {
          "output_type": "stream",
          "name": "stderr",
          "text": [
            "Train, Epoch 5 / 20:  74%|███████▍  | 1164/1563 [00:48<00:16, 24.59it/s]"
          ]
        },
        {
          "output_type": "stream",
          "name": "stdout",
          "text": [
            "batch 1160 loss: 0.29914764910936353\n"
          ]
        },
        {
          "output_type": "stream",
          "name": "stderr",
          "text": [
            "Train, Epoch 5 / 20:  75%|███████▌  | 1173/1563 [00:48<00:15, 24.81it/s]"
          ]
        },
        {
          "output_type": "stream",
          "name": "stdout",
          "text": [
            "batch 1170 loss: 0.289614300429821\n"
          ]
        },
        {
          "output_type": "stream",
          "name": "stderr",
          "text": [
            "Train, Epoch 5 / 20:  76%|███████▌  | 1185/1563 [00:49<00:15, 24.71it/s]"
          ]
        },
        {
          "output_type": "stream",
          "name": "stdout",
          "text": [
            "batch 1180 loss: 0.32345872819423677\n"
          ]
        },
        {
          "output_type": "stream",
          "name": "stderr",
          "text": [
            "Train, Epoch 5 / 20:  76%|███████▋  | 1194/1563 [00:49<00:14, 24.61it/s]"
          ]
        },
        {
          "output_type": "stream",
          "name": "stdout",
          "text": [
            "batch 1190 loss: 0.39226792603731153\n"
          ]
        },
        {
          "output_type": "stream",
          "name": "stderr",
          "text": [
            "Train, Epoch 5 / 20:  77%|███████▋  | 1203/1563 [00:49<00:14, 24.72it/s]"
          ]
        },
        {
          "output_type": "stream",
          "name": "stdout",
          "text": [
            "batch 1200 loss: 0.34282336533069613\n"
          ]
        },
        {
          "output_type": "stream",
          "name": "stderr",
          "text": [
            "Train, Epoch 5 / 20:  78%|███████▊  | 1215/1563 [00:50<00:14, 24.84it/s]"
          ]
        },
        {
          "output_type": "stream",
          "name": "stdout",
          "text": [
            "batch 1210 loss: 0.30709597170352937\n"
          ]
        },
        {
          "output_type": "stream",
          "name": "stderr",
          "text": [
            "Train, Epoch 5 / 20:  78%|███████▊  | 1224/1563 [00:50<00:13, 24.92it/s]"
          ]
        },
        {
          "output_type": "stream",
          "name": "stdout",
          "text": [
            "batch 1220 loss: 0.32881111800670626\n"
          ]
        },
        {
          "output_type": "stream",
          "name": "stderr",
          "text": [
            "Train, Epoch 5 / 20:  79%|███████▉  | 1233/1563 [00:51<00:13, 24.56it/s]"
          ]
        },
        {
          "output_type": "stream",
          "name": "stdout",
          "text": [
            "batch 1230 loss: 0.32442514300346376\n"
          ]
        },
        {
          "output_type": "stream",
          "name": "stderr",
          "text": [
            "Train, Epoch 5 / 20:  80%|███████▉  | 1245/1563 [00:51<00:12, 24.69it/s]"
          ]
        },
        {
          "output_type": "stream",
          "name": "stdout",
          "text": [
            "batch 1240 loss: 0.24735936224460603\n"
          ]
        },
        {
          "output_type": "stream",
          "name": "stderr",
          "text": [
            "Train, Epoch 5 / 20:  80%|████████  | 1254/1563 [00:51<00:12, 24.59it/s]"
          ]
        },
        {
          "output_type": "stream",
          "name": "stdout",
          "text": [
            "batch 1250 loss: 0.3295058473944664\n"
          ]
        },
        {
          "output_type": "stream",
          "name": "stderr",
          "text": [
            "Train, Epoch 5 / 20:  81%|████████  | 1263/1563 [00:52<00:12, 24.75it/s]"
          ]
        },
        {
          "output_type": "stream",
          "name": "stdout",
          "text": [
            "batch 1260 loss: 0.30689396485686304\n"
          ]
        },
        {
          "output_type": "stream",
          "name": "stderr",
          "text": [
            "Train, Epoch 5 / 20:  82%|████████▏ | 1275/1563 [00:52<00:11, 24.79it/s]"
          ]
        },
        {
          "output_type": "stream",
          "name": "stdout",
          "text": [
            "batch 1270 loss: 0.35998585671186445\n"
          ]
        },
        {
          "output_type": "stream",
          "name": "stderr",
          "text": [
            "Train, Epoch 5 / 20:  82%|████████▏ | 1284/1563 [00:53<00:11, 24.82it/s]"
          ]
        },
        {
          "output_type": "stream",
          "name": "stdout",
          "text": [
            "batch 1280 loss: 0.33128500580787656\n"
          ]
        },
        {
          "output_type": "stream",
          "name": "stderr",
          "text": [
            "Train, Epoch 5 / 20:  83%|████████▎ | 1293/1563 [00:53<00:10, 24.64it/s]"
          ]
        },
        {
          "output_type": "stream",
          "name": "stdout",
          "text": [
            "batch 1290 loss: 0.3814608037471771\n"
          ]
        },
        {
          "output_type": "stream",
          "name": "stderr",
          "text": [
            "Train, Epoch 5 / 20:  83%|████████▎ | 1302/1563 [00:53<00:10, 24.66it/s]"
          ]
        },
        {
          "output_type": "stream",
          "name": "stdout",
          "text": [
            "batch 1300 loss: 0.30357891172170637\n"
          ]
        },
        {
          "output_type": "stream",
          "name": "stderr",
          "text": [
            "Train, Epoch 5 / 20:  84%|████████▍ | 1314/1563 [00:54<00:11, 22.17it/s]"
          ]
        },
        {
          "output_type": "stream",
          "name": "stdout",
          "text": [
            "batch 1310 loss: 0.3045256555080414\n"
          ]
        },
        {
          "output_type": "stream",
          "name": "stderr",
          "text": [
            "Train, Epoch 5 / 20:  85%|████████▍ | 1323/1563 [00:54<00:11, 21.80it/s]"
          ]
        },
        {
          "output_type": "stream",
          "name": "stdout",
          "text": [
            "batch 1320 loss: 0.328337536752224\n"
          ]
        },
        {
          "output_type": "stream",
          "name": "stderr",
          "text": [
            "Train, Epoch 5 / 20:  85%|████████▌ | 1332/1563 [00:55<00:10, 22.12it/s]"
          ]
        },
        {
          "output_type": "stream",
          "name": "stdout",
          "text": [
            "batch 1330 loss: 0.3257066398859024\n"
          ]
        },
        {
          "output_type": "stream",
          "name": "stderr",
          "text": [
            "Train, Epoch 5 / 20:  86%|████████▌ | 1344/1563 [00:55<00:10, 21.49it/s]"
          ]
        },
        {
          "output_type": "stream",
          "name": "stdout",
          "text": [
            "batch 1340 loss: 0.3308512017130852\n"
          ]
        },
        {
          "output_type": "stream",
          "name": "stderr",
          "text": [
            "Train, Epoch 5 / 20:  87%|████████▋ | 1353/1563 [00:56<00:09, 21.93it/s]"
          ]
        },
        {
          "output_type": "stream",
          "name": "stdout",
          "text": [
            "batch 1350 loss: 0.3030782401561737\n"
          ]
        },
        {
          "output_type": "stream",
          "name": "stderr",
          "text": [
            "Train, Epoch 5 / 20:  87%|████████▋ | 1362/1563 [00:56<00:08, 23.20it/s]"
          ]
        },
        {
          "output_type": "stream",
          "name": "stdout",
          "text": [
            "batch 1360 loss: 0.29420264065265656\n"
          ]
        },
        {
          "output_type": "stream",
          "name": "stderr",
          "text": [
            "Train, Epoch 5 / 20:  88%|████████▊ | 1374/1563 [00:57<00:07, 24.05it/s]"
          ]
        },
        {
          "output_type": "stream",
          "name": "stdout",
          "text": [
            "batch 1370 loss: 0.2376498721539974\n"
          ]
        },
        {
          "output_type": "stream",
          "name": "stderr",
          "text": [
            "Train, Epoch 5 / 20:  88%|████████▊ | 1383/1563 [00:57<00:07, 24.50it/s]"
          ]
        },
        {
          "output_type": "stream",
          "name": "stdout",
          "text": [
            "batch 1380 loss: 0.31122518330812454\n"
          ]
        },
        {
          "output_type": "stream",
          "name": "stderr",
          "text": [
            "Train, Epoch 5 / 20:  89%|████████▉ | 1395/1563 [00:57<00:06, 24.64it/s]"
          ]
        },
        {
          "output_type": "stream",
          "name": "stdout",
          "text": [
            "batch 1390 loss: 0.26919866278767585\n"
          ]
        },
        {
          "output_type": "stream",
          "name": "stderr",
          "text": [
            "Train, Epoch 5 / 20:  90%|████████▉ | 1404/1563 [00:58<00:06, 24.78it/s]"
          ]
        },
        {
          "output_type": "stream",
          "name": "stdout",
          "text": [
            "batch 1400 loss: 0.2482169397175312\n"
          ]
        },
        {
          "output_type": "stream",
          "name": "stderr",
          "text": [
            "Train, Epoch 5 / 20:  90%|█████████ | 1413/1563 [00:58<00:06, 24.59it/s]"
          ]
        },
        {
          "output_type": "stream",
          "name": "stdout",
          "text": [
            "batch 1410 loss: 0.31761838421225547\n"
          ]
        },
        {
          "output_type": "stream",
          "name": "stderr",
          "text": [
            "Train, Epoch 5 / 20:  91%|█████████ | 1422/1563 [00:59<00:05, 24.79it/s]"
          ]
        },
        {
          "output_type": "stream",
          "name": "stdout",
          "text": [
            "batch 1420 loss: 0.2680266387760639\n"
          ]
        },
        {
          "output_type": "stream",
          "name": "stderr",
          "text": [
            "Train, Epoch 5 / 20:  92%|█████████▏| 1434/1563 [00:59<00:05, 24.19it/s]"
          ]
        },
        {
          "output_type": "stream",
          "name": "stdout",
          "text": [
            "batch 1430 loss: 0.2932811349630356\n"
          ]
        },
        {
          "output_type": "stream",
          "name": "stderr",
          "text": [
            "Train, Epoch 5 / 20:  92%|█████████▏| 1443/1563 [00:59<00:04, 24.11it/s]"
          ]
        },
        {
          "output_type": "stream",
          "name": "stdout",
          "text": [
            "batch 1440 loss: 0.2927192270755768\n"
          ]
        },
        {
          "output_type": "stream",
          "name": "stderr",
          "text": [
            "Train, Epoch 5 / 20:  93%|█████████▎| 1455/1563 [01:00<00:04, 24.70it/s]"
          ]
        },
        {
          "output_type": "stream",
          "name": "stdout",
          "text": [
            "batch 1450 loss: 0.3430739678442478\n"
          ]
        },
        {
          "output_type": "stream",
          "name": "stderr",
          "text": [
            "Train, Epoch 5 / 20:  94%|█████████▎| 1464/1563 [01:00<00:03, 24.80it/s]"
          ]
        },
        {
          "output_type": "stream",
          "name": "stdout",
          "text": [
            "batch 1460 loss: 0.38746184557676316\n"
          ]
        },
        {
          "output_type": "stream",
          "name": "stderr",
          "text": [
            "Train, Epoch 5 / 20:  94%|█████████▍| 1473/1563 [01:01<00:03, 24.78it/s]"
          ]
        },
        {
          "output_type": "stream",
          "name": "stdout",
          "text": [
            "batch 1470 loss: 0.27234792932868\n"
          ]
        },
        {
          "output_type": "stream",
          "name": "stderr",
          "text": [
            "Train, Epoch 5 / 20:  95%|█████████▌| 1485/1563 [01:01<00:03, 24.69it/s]"
          ]
        },
        {
          "output_type": "stream",
          "name": "stdout",
          "text": [
            "batch 1480 loss: 0.21904212087392808\n"
          ]
        },
        {
          "output_type": "stream",
          "name": "stderr",
          "text": [
            "Train, Epoch 5 / 20:  96%|█████████▌| 1494/1563 [01:01<00:02, 24.84it/s]"
          ]
        },
        {
          "output_type": "stream",
          "name": "stdout",
          "text": [
            "batch 1490 loss: 0.30004407465457916\n"
          ]
        },
        {
          "output_type": "stream",
          "name": "stderr",
          "text": [
            "Train, Epoch 5 / 20:  96%|█████████▌| 1503/1563 [01:02<00:02, 24.69it/s]"
          ]
        },
        {
          "output_type": "stream",
          "name": "stdout",
          "text": [
            "batch 1500 loss: 0.21924312710762023\n"
          ]
        },
        {
          "output_type": "stream",
          "name": "stderr",
          "text": [
            "Train, Epoch 5 / 20:  97%|█████████▋| 1515/1563 [01:02<00:01, 24.64it/s]"
          ]
        },
        {
          "output_type": "stream",
          "name": "stdout",
          "text": [
            "batch 1510 loss: 0.26551644653081896\n"
          ]
        },
        {
          "output_type": "stream",
          "name": "stderr",
          "text": [
            "Train, Epoch 5 / 20:  98%|█████████▊| 1524/1563 [01:03<00:01, 24.66it/s]"
          ]
        },
        {
          "output_type": "stream",
          "name": "stdout",
          "text": [
            "batch 1520 loss: 0.3415455982089043\n"
          ]
        },
        {
          "output_type": "stream",
          "name": "stderr",
          "text": [
            "Train, Epoch 5 / 20:  98%|█████████▊| 1533/1563 [01:03<00:01, 24.42it/s]"
          ]
        },
        {
          "output_type": "stream",
          "name": "stdout",
          "text": [
            "batch 1530 loss: 0.2928279981017113\n"
          ]
        },
        {
          "output_type": "stream",
          "name": "stderr",
          "text": [
            "Train, Epoch 5 / 20:  99%|█████████▉| 1545/1563 [01:04<00:00, 24.89it/s]"
          ]
        },
        {
          "output_type": "stream",
          "name": "stdout",
          "text": [
            "batch 1540 loss: 0.31177197247743604\n"
          ]
        },
        {
          "output_type": "stream",
          "name": "stderr",
          "text": [
            "Train, Epoch 5 / 20:  99%|█████████▉| 1554/1563 [01:04<00:00, 24.75it/s]"
          ]
        },
        {
          "output_type": "stream",
          "name": "stdout",
          "text": [
            "batch 1550 loss: 0.27197555974125864\n"
          ]
        },
        {
          "output_type": "stream",
          "name": "stderr",
          "text": [
            "Train, Epoch 5 / 20: 100%|██████████| 1563/1563 [01:04<00:00, 24.14it/s]\n"
          ]
        },
        {
          "output_type": "stream",
          "name": "stdout",
          "text": [
            "batch 1560 loss: 0.3207321234047413\n"
          ]
        },
        {
          "output_type": "stream",
          "name": "stderr",
          "text": [
            "Test, Epoch 5 / 20: 100%|██████████| 1563/1563 [00:29<00:00, 52.20it/s]\n"
          ]
        },
        {
          "output_type": "stream",
          "name": "stdout",
          "text": [
            "Epoch 5, loss: 0.47918347507089376, accuracy: 0.7998\n"
          ]
        },
        {
          "output_type": "stream",
          "name": "stderr",
          "text": [
            "Train, Epoch 6 / 20:   1%|          | 15/1563 [00:00<01:01, 25.07it/s]"
          ]
        },
        {
          "output_type": "stream",
          "name": "stdout",
          "text": [
            "batch 10 loss: 0.36503555700182916\n"
          ]
        },
        {
          "output_type": "stream",
          "name": "stderr",
          "text": [
            "Train, Epoch 6 / 20:   2%|▏         | 24/1563 [00:00<01:01, 24.95it/s]"
          ]
        },
        {
          "output_type": "stream",
          "name": "stdout",
          "text": [
            "batch 20 loss: 0.3430963769555092\n"
          ]
        },
        {
          "output_type": "stream",
          "name": "stderr",
          "text": [
            "Train, Epoch 6 / 20:   2%|▏         | 33/1563 [00:01<01:01, 24.75it/s]"
          ]
        },
        {
          "output_type": "stream",
          "name": "stdout",
          "text": [
            "batch 30 loss: 0.3289932146668434\n"
          ]
        },
        {
          "output_type": "stream",
          "name": "stderr",
          "text": [
            "Train, Epoch 6 / 20:   3%|▎         | 42/1563 [00:01<01:01, 24.72it/s]"
          ]
        },
        {
          "output_type": "stream",
          "name": "stdout",
          "text": [
            "batch 40 loss: 0.2889015942811966\n"
          ]
        },
        {
          "output_type": "stream",
          "name": "stderr",
          "text": [
            "Train, Epoch 6 / 20:   3%|▎         | 54/1563 [00:02<01:00, 24.74it/s]"
          ]
        },
        {
          "output_type": "stream",
          "name": "stdout",
          "text": [
            "batch 50 loss: 0.20674899518489837\n"
          ]
        },
        {
          "output_type": "stream",
          "name": "stderr",
          "text": [
            "Train, Epoch 6 / 20:   4%|▍         | 63/1563 [00:02<01:00, 24.96it/s]"
          ]
        },
        {
          "output_type": "stream",
          "name": "stdout",
          "text": [
            "batch 60 loss: 0.3097059324383736\n"
          ]
        },
        {
          "output_type": "stream",
          "name": "stderr",
          "text": [
            "Train, Epoch 6 / 20:   5%|▍         | 75/1563 [00:03<00:59, 24.87it/s]"
          ]
        },
        {
          "output_type": "stream",
          "name": "stdout",
          "text": [
            "batch 70 loss: 0.2664672151207924\n"
          ]
        },
        {
          "output_type": "stream",
          "name": "stderr",
          "text": [
            "Train, Epoch 6 / 20:   5%|▌         | 84/1563 [00:03<00:59, 24.78it/s]"
          ]
        },
        {
          "output_type": "stream",
          "name": "stdout",
          "text": [
            "batch 80 loss: 0.29574511498212813\n"
          ]
        },
        {
          "output_type": "stream",
          "name": "stderr",
          "text": [
            "Train, Epoch 6 / 20:   6%|▌         | 93/1563 [00:03<00:59, 24.54it/s]"
          ]
        },
        {
          "output_type": "stream",
          "name": "stdout",
          "text": [
            "batch 90 loss: 0.23565436154603958\n"
          ]
        },
        {
          "output_type": "stream",
          "name": "stderr",
          "text": [
            "Train, Epoch 6 / 20:   7%|▋         | 105/1563 [00:04<00:58, 24.83it/s]"
          ]
        },
        {
          "output_type": "stream",
          "name": "stdout",
          "text": [
            "batch 100 loss: 0.31139546222984793\n"
          ]
        },
        {
          "output_type": "stream",
          "name": "stderr",
          "text": [
            "Train, Epoch 6 / 20:   7%|▋         | 114/1563 [00:04<00:58, 24.85it/s]"
          ]
        },
        {
          "output_type": "stream",
          "name": "stdout",
          "text": [
            "batch 110 loss: 0.20345909409224988\n"
          ]
        },
        {
          "output_type": "stream",
          "name": "stderr",
          "text": [
            "Train, Epoch 6 / 20:   8%|▊         | 123/1563 [00:04<00:58, 24.63it/s]"
          ]
        },
        {
          "output_type": "stream",
          "name": "stdout",
          "text": [
            "batch 120 loss: 0.2929609313607216\n"
          ]
        },
        {
          "output_type": "stream",
          "name": "stderr",
          "text": [
            "Train, Epoch 6 / 20:   9%|▊         | 135/1563 [00:05<00:57, 24.83it/s]"
          ]
        },
        {
          "output_type": "stream",
          "name": "stdout",
          "text": [
            "batch 130 loss: 0.3258093997836113\n"
          ]
        },
        {
          "output_type": "stream",
          "name": "stderr",
          "text": [
            "Train, Epoch 6 / 20:   9%|▉         | 144/1563 [00:05<00:57, 24.70it/s]"
          ]
        },
        {
          "output_type": "stream",
          "name": "stdout",
          "text": [
            "batch 140 loss: 0.28493274599313734\n"
          ]
        },
        {
          "output_type": "stream",
          "name": "stderr",
          "text": [
            "Train, Epoch 6 / 20:  10%|▉         | 153/1563 [00:06<00:57, 24.67it/s]"
          ]
        },
        {
          "output_type": "stream",
          "name": "stdout",
          "text": [
            "batch 150 loss: 0.3543813914060593\n"
          ]
        },
        {
          "output_type": "stream",
          "name": "stderr",
          "text": [
            "Train, Epoch 6 / 20:  11%|█         | 165/1563 [00:06<00:56, 24.70it/s]"
          ]
        },
        {
          "output_type": "stream",
          "name": "stdout",
          "text": [
            "batch 160 loss: 0.23621279150247573\n"
          ]
        },
        {
          "output_type": "stream",
          "name": "stderr",
          "text": [
            "Train, Epoch 6 / 20:  11%|█         | 174/1563 [00:07<00:55, 24.82it/s]"
          ]
        },
        {
          "output_type": "stream",
          "name": "stdout",
          "text": [
            "batch 170 loss: 0.2905553959310055\n"
          ]
        },
        {
          "output_type": "stream",
          "name": "stderr",
          "text": [
            "Train, Epoch 6 / 20:  12%|█▏        | 183/1563 [00:07<00:55, 24.71it/s]"
          ]
        },
        {
          "output_type": "stream",
          "name": "stdout",
          "text": [
            "batch 180 loss: 0.3042382910847664\n"
          ]
        },
        {
          "output_type": "stream",
          "name": "stderr",
          "text": [
            "Train, Epoch 6 / 20:  12%|█▏        | 192/1563 [00:07<00:55, 24.76it/s]"
          ]
        },
        {
          "output_type": "stream",
          "name": "stdout",
          "text": [
            "batch 190 loss: 0.3385286696255207\n"
          ]
        },
        {
          "output_type": "stream",
          "name": "stderr",
          "text": [
            "Train, Epoch 6 / 20:  13%|█▎        | 204/1563 [00:08<00:57, 23.63it/s]"
          ]
        },
        {
          "output_type": "stream",
          "name": "stdout",
          "text": [
            "batch 200 loss: 0.27740020006895066\n"
          ]
        },
        {
          "output_type": "stream",
          "name": "stderr",
          "text": [
            "Train, Epoch 6 / 20:  14%|█▎        | 213/1563 [00:08<00:59, 22.53it/s]"
          ]
        },
        {
          "output_type": "stream",
          "name": "stdout",
          "text": [
            "batch 210 loss: 0.26568014845252036\n"
          ]
        },
        {
          "output_type": "stream",
          "name": "stderr",
          "text": [
            "Train, Epoch 6 / 20:  14%|█▍        | 222/1563 [00:09<01:01, 21.64it/s]"
          ]
        },
        {
          "output_type": "stream",
          "name": "stdout",
          "text": [
            "batch 220 loss: 0.3116891779005527\n"
          ]
        },
        {
          "output_type": "stream",
          "name": "stderr",
          "text": [
            "Train, Epoch 6 / 20:  15%|█▍        | 234/1563 [00:09<01:00, 21.80it/s]"
          ]
        },
        {
          "output_type": "stream",
          "name": "stdout",
          "text": [
            "batch 230 loss: 0.32294399067759516\n"
          ]
        },
        {
          "output_type": "stream",
          "name": "stderr",
          "text": [
            "Train, Epoch 6 / 20:  16%|█▌        | 243/1563 [00:10<00:59, 22.03it/s]"
          ]
        },
        {
          "output_type": "stream",
          "name": "stdout",
          "text": [
            "batch 240 loss: 0.2443590134382248\n"
          ]
        },
        {
          "output_type": "stream",
          "name": "stderr",
          "text": [
            "Train, Epoch 6 / 20:  16%|█▋        | 255/1563 [00:10<00:56, 23.21it/s]"
          ]
        },
        {
          "output_type": "stream",
          "name": "stdout",
          "text": [
            "batch 250 loss: 0.26128740459680555\n"
          ]
        },
        {
          "output_type": "stream",
          "name": "stderr",
          "text": [
            "Train, Epoch 6 / 20:  17%|█▋        | 264/1563 [00:10<00:54, 24.01it/s]"
          ]
        },
        {
          "output_type": "stream",
          "name": "stdout",
          "text": [
            "batch 260 loss: 0.41815088391304017\n"
          ]
        },
        {
          "output_type": "stream",
          "name": "stderr",
          "text": [
            "Train, Epoch 6 / 20:  17%|█▋        | 273/1563 [00:11<00:52, 24.60it/s]"
          ]
        },
        {
          "output_type": "stream",
          "name": "stdout",
          "text": [
            "batch 270 loss: 0.2887952871620655\n"
          ]
        },
        {
          "output_type": "stream",
          "name": "stderr",
          "text": [
            "Train, Epoch 6 / 20:  18%|█▊        | 285/1563 [00:11<00:51, 24.72it/s]"
          ]
        },
        {
          "output_type": "stream",
          "name": "stdout",
          "text": [
            "batch 280 loss: 0.35639889538288116\n"
          ]
        },
        {
          "output_type": "stream",
          "name": "stderr",
          "text": [
            "Train, Epoch 6 / 20:  19%|█▉        | 294/1563 [00:12<00:51, 24.67it/s]"
          ]
        },
        {
          "output_type": "stream",
          "name": "stdout",
          "text": [
            "batch 290 loss: 0.24343771040439605\n"
          ]
        },
        {
          "output_type": "stream",
          "name": "stderr",
          "text": [
            "Train, Epoch 6 / 20:  19%|█▉        | 303/1563 [00:12<00:51, 24.70it/s]"
          ]
        },
        {
          "output_type": "stream",
          "name": "stdout",
          "text": [
            "batch 300 loss: 0.3069209173321724\n"
          ]
        },
        {
          "output_type": "stream",
          "name": "stderr",
          "text": [
            "Train, Epoch 6 / 20:  20%|██        | 315/1563 [00:13<00:50, 24.61it/s]"
          ]
        },
        {
          "output_type": "stream",
          "name": "stdout",
          "text": [
            "batch 310 loss: 0.3103819265961647\n"
          ]
        },
        {
          "output_type": "stream",
          "name": "stderr",
          "text": [
            "Train, Epoch 6 / 20:  21%|██        | 324/1563 [00:13<00:50, 24.74it/s]"
          ]
        },
        {
          "output_type": "stream",
          "name": "stdout",
          "text": [
            "batch 320 loss: 0.36144607663154604\n"
          ]
        },
        {
          "output_type": "stream",
          "name": "stderr",
          "text": [
            "Train, Epoch 6 / 20:  21%|██▏       | 333/1563 [00:13<00:49, 24.82it/s]"
          ]
        },
        {
          "output_type": "stream",
          "name": "stdout",
          "text": [
            "batch 330 loss: 0.2558197885751724\n"
          ]
        },
        {
          "output_type": "stream",
          "name": "stderr",
          "text": [
            "Train, Epoch 6 / 20:  22%|██▏       | 345/1563 [00:14<00:49, 24.71it/s]"
          ]
        },
        {
          "output_type": "stream",
          "name": "stdout",
          "text": [
            "batch 340 loss: 0.2547172661870718\n"
          ]
        },
        {
          "output_type": "stream",
          "name": "stderr",
          "text": [
            "Train, Epoch 6 / 20:  23%|██▎       | 354/1563 [00:14<00:48, 24.93it/s]"
          ]
        },
        {
          "output_type": "stream",
          "name": "stdout",
          "text": [
            "batch 350 loss: 0.2964706264436245\n"
          ]
        },
        {
          "output_type": "stream",
          "name": "stderr",
          "text": [
            "Train, Epoch 6 / 20:  23%|██▎       | 363/1563 [00:14<00:48, 24.72it/s]"
          ]
        },
        {
          "output_type": "stream",
          "name": "stdout",
          "text": [
            "batch 360 loss: 0.33198623210191724\n"
          ]
        },
        {
          "output_type": "stream",
          "name": "stderr",
          "text": [
            "Train, Epoch 6 / 20:  24%|██▍       | 375/1563 [00:15<00:47, 24.80it/s]"
          ]
        },
        {
          "output_type": "stream",
          "name": "stdout",
          "text": [
            "batch 370 loss: 0.31455814093351364\n"
          ]
        },
        {
          "output_type": "stream",
          "name": "stderr",
          "text": [
            "Train, Epoch 6 / 20:  25%|██▍       | 384/1563 [00:15<00:48, 24.51it/s]"
          ]
        },
        {
          "output_type": "stream",
          "name": "stdout",
          "text": [
            "batch 380 loss: 0.30727955549955366\n"
          ]
        },
        {
          "output_type": "stream",
          "name": "stderr",
          "text": [
            "Train, Epoch 6 / 20:  25%|██▌       | 393/1563 [00:16<00:48, 24.13it/s]"
          ]
        },
        {
          "output_type": "stream",
          "name": "stdout",
          "text": [
            "batch 390 loss: 0.3256685361266136\n"
          ]
        },
        {
          "output_type": "stream",
          "name": "stderr",
          "text": [
            "Train, Epoch 6 / 20:  26%|██▌       | 405/1563 [00:16<00:47, 24.52it/s]"
          ]
        },
        {
          "output_type": "stream",
          "name": "stdout",
          "text": [
            "batch 400 loss: 0.3688541904091835\n"
          ]
        },
        {
          "output_type": "stream",
          "name": "stderr",
          "text": [
            "Train, Epoch 6 / 20:  26%|██▋       | 414/1563 [00:17<00:46, 24.48it/s]"
          ]
        },
        {
          "output_type": "stream",
          "name": "stdout",
          "text": [
            "batch 410 loss: 0.30787878334522245\n"
          ]
        },
        {
          "output_type": "stream",
          "name": "stderr",
          "text": [
            "Train, Epoch 6 / 20:  27%|██▋       | 423/1563 [00:17<00:46, 24.70it/s]"
          ]
        },
        {
          "output_type": "stream",
          "name": "stdout",
          "text": [
            "batch 420 loss: 0.20714360177516938\n"
          ]
        },
        {
          "output_type": "stream",
          "name": "stderr",
          "text": [
            "Train, Epoch 6 / 20:  28%|██▊       | 435/1563 [00:17<00:45, 24.86it/s]"
          ]
        },
        {
          "output_type": "stream",
          "name": "stdout",
          "text": [
            "batch 430 loss: 0.33905299976468084\n"
          ]
        },
        {
          "output_type": "stream",
          "name": "stderr",
          "text": [
            "Train, Epoch 6 / 20:  28%|██▊       | 444/1563 [00:18<00:45, 24.86it/s]"
          ]
        },
        {
          "output_type": "stream",
          "name": "stdout",
          "text": [
            "batch 440 loss: 0.2991557314991951\n"
          ]
        },
        {
          "output_type": "stream",
          "name": "stderr",
          "text": [
            "Train, Epoch 6 / 20:  29%|██▉       | 453/1563 [00:18<00:44, 24.80it/s]"
          ]
        },
        {
          "output_type": "stream",
          "name": "stdout",
          "text": [
            "batch 450 loss: 0.3663825377821922\n"
          ]
        },
        {
          "output_type": "stream",
          "name": "stderr",
          "text": [
            "Train, Epoch 6 / 20:  30%|██▉       | 465/1563 [00:19<00:44, 24.91it/s]"
          ]
        },
        {
          "output_type": "stream",
          "name": "stdout",
          "text": [
            "batch 460 loss: 0.34468822479248046\n"
          ]
        },
        {
          "output_type": "stream",
          "name": "stderr",
          "text": [
            "Train, Epoch 6 / 20:  30%|███       | 474/1563 [00:19<00:44, 24.64it/s]"
          ]
        },
        {
          "output_type": "stream",
          "name": "stdout",
          "text": [
            "batch 470 loss: 0.314106909930706\n"
          ]
        },
        {
          "output_type": "stream",
          "name": "stderr",
          "text": [
            "Train, Epoch 6 / 20:  31%|███       | 483/1563 [00:19<00:44, 24.44it/s]"
          ]
        },
        {
          "output_type": "stream",
          "name": "stdout",
          "text": [
            "batch 480 loss: 0.327966645359993\n"
          ]
        },
        {
          "output_type": "stream",
          "name": "stderr",
          "text": [
            "Train, Epoch 6 / 20:  31%|███▏      | 492/1563 [00:20<00:44, 24.01it/s]"
          ]
        },
        {
          "output_type": "stream",
          "name": "stdout",
          "text": [
            "batch 490 loss: 0.3505388587713242\n"
          ]
        },
        {
          "output_type": "stream",
          "name": "stderr",
          "text": [
            "Train, Epoch 6 / 20:  32%|███▏      | 504/1563 [00:20<00:47, 22.26it/s]"
          ]
        },
        {
          "output_type": "stream",
          "name": "stdout",
          "text": [
            "batch 500 loss: 0.2810567244887352\n"
          ]
        },
        {
          "output_type": "stream",
          "name": "stderr",
          "text": [
            "Train, Epoch 6 / 20:  33%|███▎      | 513/1563 [00:21<00:47, 21.92it/s]"
          ]
        },
        {
          "output_type": "stream",
          "name": "stdout",
          "text": [
            "batch 510 loss: 0.2950515031814575\n"
          ]
        },
        {
          "output_type": "stream",
          "name": "stderr",
          "text": [
            "Train, Epoch 6 / 20:  33%|███▎      | 522/1563 [00:21<00:48, 21.49it/s]"
          ]
        },
        {
          "output_type": "stream",
          "name": "stdout",
          "text": [
            "batch 520 loss: 0.34355092197656634\n"
          ]
        },
        {
          "output_type": "stream",
          "name": "stderr",
          "text": [
            "Train, Epoch 6 / 20:  34%|███▍      | 534/1563 [00:22<00:48, 21.31it/s]"
          ]
        },
        {
          "output_type": "stream",
          "name": "stdout",
          "text": [
            "batch 530 loss: 0.31246894747018816\n"
          ]
        },
        {
          "output_type": "stream",
          "name": "stderr",
          "text": [
            "Train, Epoch 6 / 20:  35%|███▍      | 543/1563 [00:22<00:47, 21.57it/s]"
          ]
        },
        {
          "output_type": "stream",
          "name": "stdout",
          "text": [
            "batch 540 loss: 0.33092299550771714\n"
          ]
        },
        {
          "output_type": "stream",
          "name": "stderr",
          "text": [
            "Train, Epoch 6 / 20:  36%|███▌      | 555/1563 [00:23<00:42, 23.80it/s]"
          ]
        },
        {
          "output_type": "stream",
          "name": "stdout",
          "text": [
            "batch 550 loss: 0.26048133596777917\n"
          ]
        },
        {
          "output_type": "stream",
          "name": "stderr",
          "text": [
            "Train, Epoch 6 / 20:  36%|███▌      | 564/1563 [00:23<00:41, 24.21it/s]"
          ]
        },
        {
          "output_type": "stream",
          "name": "stdout",
          "text": [
            "batch 560 loss: 0.31674937456846236\n"
          ]
        },
        {
          "output_type": "stream",
          "name": "stderr",
          "text": [
            "Train, Epoch 6 / 20:  37%|███▋      | 573/1563 [00:23<00:40, 24.70it/s]"
          ]
        },
        {
          "output_type": "stream",
          "name": "stdout",
          "text": [
            "batch 570 loss: 0.26705724000930786\n"
          ]
        },
        {
          "output_type": "stream",
          "name": "stderr",
          "text": [
            "Train, Epoch 6 / 20:  37%|███▋      | 585/1563 [00:24<00:39, 24.74it/s]"
          ]
        },
        {
          "output_type": "stream",
          "name": "stdout",
          "text": [
            "batch 580 loss: 0.28443752974271774\n"
          ]
        },
        {
          "output_type": "stream",
          "name": "stderr",
          "text": [
            "Train, Epoch 6 / 20:  38%|███▊      | 594/1563 [00:24<00:39, 24.69it/s]"
          ]
        },
        {
          "output_type": "stream",
          "name": "stdout",
          "text": [
            "batch 590 loss: 0.20803405493497848\n"
          ]
        },
        {
          "output_type": "stream",
          "name": "stderr",
          "text": [
            "Train, Epoch 6 / 20:  39%|███▊      | 603/1563 [00:25<00:38, 24.79it/s]"
          ]
        },
        {
          "output_type": "stream",
          "name": "stdout",
          "text": [
            "batch 600 loss: 0.3531188353896141\n"
          ]
        },
        {
          "output_type": "stream",
          "name": "stderr",
          "text": [
            "Train, Epoch 6 / 20:  39%|███▉      | 612/1563 [00:25<00:39, 24.38it/s]"
          ]
        },
        {
          "output_type": "stream",
          "name": "stdout",
          "text": [
            "batch 610 loss: 0.2500558033585548\n"
          ]
        },
        {
          "output_type": "stream",
          "name": "stderr",
          "text": [
            "Train, Epoch 6 / 20:  40%|███▉      | 624/1563 [00:25<00:37, 24.77it/s]"
          ]
        },
        {
          "output_type": "stream",
          "name": "stdout",
          "text": [
            "batch 620 loss: 0.2833209328353405\n"
          ]
        },
        {
          "output_type": "stream",
          "name": "stderr",
          "text": [
            "Train, Epoch 6 / 20:  40%|████      | 633/1563 [00:26<00:37, 24.89it/s]"
          ]
        },
        {
          "output_type": "stream",
          "name": "stdout",
          "text": [
            "batch 630 loss: 0.24932217374444007\n"
          ]
        },
        {
          "output_type": "stream",
          "name": "stderr",
          "text": [
            "Train, Epoch 6 / 20:  41%|████▏     | 645/1563 [00:26<00:37, 24.79it/s]"
          ]
        },
        {
          "output_type": "stream",
          "name": "stdout",
          "text": [
            "batch 640 loss: 0.30017087012529375\n"
          ]
        },
        {
          "output_type": "stream",
          "name": "stderr",
          "text": [
            "Train, Epoch 6 / 20:  42%|████▏     | 654/1563 [00:27<00:36, 24.80it/s]"
          ]
        },
        {
          "output_type": "stream",
          "name": "stdout",
          "text": [
            "batch 650 loss: 0.3174867078661919\n"
          ]
        },
        {
          "output_type": "stream",
          "name": "stderr",
          "text": [
            "Train, Epoch 6 / 20:  42%|████▏     | 663/1563 [00:27<00:36, 24.80it/s]"
          ]
        },
        {
          "output_type": "stream",
          "name": "stdout",
          "text": [
            "batch 660 loss: 0.18307051286101342\n"
          ]
        },
        {
          "output_type": "stream",
          "name": "stderr",
          "text": [
            "Train, Epoch 6 / 20:  43%|████▎     | 675/1563 [00:27<00:36, 24.64it/s]"
          ]
        },
        {
          "output_type": "stream",
          "name": "stdout",
          "text": [
            "batch 670 loss: 0.31871424093842504\n"
          ]
        },
        {
          "output_type": "stream",
          "name": "stderr",
          "text": [
            "Train, Epoch 6 / 20:  44%|████▍     | 684/1563 [00:28<00:35, 24.55it/s]"
          ]
        },
        {
          "output_type": "stream",
          "name": "stdout",
          "text": [
            "batch 680 loss: 0.325355364382267\n"
          ]
        },
        {
          "output_type": "stream",
          "name": "stderr",
          "text": [
            "Train, Epoch 6 / 20:  44%|████▍     | 693/1563 [00:28<00:35, 24.67it/s]"
          ]
        },
        {
          "output_type": "stream",
          "name": "stdout",
          "text": [
            "batch 690 loss: 0.29660009890794753\n"
          ]
        },
        {
          "output_type": "stream",
          "name": "stderr",
          "text": [
            "Train, Epoch 6 / 20:  45%|████▌     | 705/1563 [00:29<00:34, 24.74it/s]"
          ]
        },
        {
          "output_type": "stream",
          "name": "stdout",
          "text": [
            "batch 700 loss: 0.260836823284626\n"
          ]
        },
        {
          "output_type": "stream",
          "name": "stderr",
          "text": [
            "Train, Epoch 6 / 20:  46%|████▌     | 714/1563 [00:29<00:34, 24.53it/s]"
          ]
        },
        {
          "output_type": "stream",
          "name": "stdout",
          "text": [
            "batch 710 loss: 0.28197581097483637\n"
          ]
        },
        {
          "output_type": "stream",
          "name": "stderr",
          "text": [
            "Train, Epoch 6 / 20:  46%|████▋     | 723/1563 [00:29<00:33, 24.76it/s]"
          ]
        },
        {
          "output_type": "stream",
          "name": "stdout",
          "text": [
            "batch 720 loss: 0.2748258411884308\n"
          ]
        },
        {
          "output_type": "stream",
          "name": "stderr",
          "text": [
            "Train, Epoch 6 / 20:  47%|████▋     | 735/1563 [00:30<00:33, 24.75it/s]"
          ]
        },
        {
          "output_type": "stream",
          "name": "stdout",
          "text": [
            "batch 730 loss: 0.3199464127421379\n"
          ]
        },
        {
          "output_type": "stream",
          "name": "stderr",
          "text": [
            "Train, Epoch 6 / 20:  48%|████▊     | 744/1563 [00:30<00:33, 24.75it/s]"
          ]
        },
        {
          "output_type": "stream",
          "name": "stdout",
          "text": [
            "batch 740 loss: 0.32542566359043124\n"
          ]
        },
        {
          "output_type": "stream",
          "name": "stderr",
          "text": [
            "Train, Epoch 6 / 20:  48%|████▊     | 753/1563 [00:31<00:32, 24.77it/s]"
          ]
        },
        {
          "output_type": "stream",
          "name": "stdout",
          "text": [
            "batch 750 loss: 0.2782344803214073\n"
          ]
        },
        {
          "output_type": "stream",
          "name": "stderr",
          "text": [
            "Train, Epoch 6 / 20:  49%|████▉     | 762/1563 [00:31<00:32, 24.86it/s]"
          ]
        },
        {
          "output_type": "stream",
          "name": "stdout",
          "text": [
            "batch 760 loss: 0.3538550496101379\n"
          ]
        },
        {
          "output_type": "stream",
          "name": "stderr",
          "text": [
            "Train, Epoch 6 / 20:  50%|████▉     | 774/1563 [00:32<00:31, 24.69it/s]"
          ]
        },
        {
          "output_type": "stream",
          "name": "stdout",
          "text": [
            "batch 770 loss: 0.2646300673484802\n"
          ]
        },
        {
          "output_type": "stream",
          "name": "stderr",
          "text": [
            "Train, Epoch 6 / 20:  50%|█████     | 783/1563 [00:32<00:31, 24.80it/s]"
          ]
        },
        {
          "output_type": "stream",
          "name": "stdout",
          "text": [
            "batch 780 loss: 0.2619709812104702\n"
          ]
        },
        {
          "output_type": "stream",
          "name": "stderr",
          "text": [
            "Train, Epoch 6 / 20:  51%|█████     | 792/1563 [00:32<00:32, 23.66it/s]"
          ]
        },
        {
          "output_type": "stream",
          "name": "stdout",
          "text": [
            "batch 790 loss: 0.31279917657375333\n"
          ]
        },
        {
          "output_type": "stream",
          "name": "stderr",
          "text": [
            "Train, Epoch 6 / 20:  51%|█████▏    | 804/1563 [00:33<00:34, 22.03it/s]"
          ]
        },
        {
          "output_type": "stream",
          "name": "stdout",
          "text": [
            "batch 800 loss: 0.3414975255727768\n"
          ]
        },
        {
          "output_type": "stream",
          "name": "stderr",
          "text": [
            "Train, Epoch 6 / 20:  52%|█████▏    | 813/1563 [00:33<00:34, 21.59it/s]"
          ]
        },
        {
          "output_type": "stream",
          "name": "stdout",
          "text": [
            "batch 810 loss: 0.3006595954298973\n"
          ]
        },
        {
          "output_type": "stream",
          "name": "stderr",
          "text": [
            "Train, Epoch 6 / 20:  53%|█████▎    | 822/1563 [00:34<00:34, 21.70it/s]"
          ]
        },
        {
          "output_type": "stream",
          "name": "stdout",
          "text": [
            "batch 820 loss: 0.2559140115976334\n"
          ]
        },
        {
          "output_type": "stream",
          "name": "stderr",
          "text": [
            "Train, Epoch 6 / 20:  53%|█████▎    | 834/1563 [00:34<00:33, 22.06it/s]"
          ]
        },
        {
          "output_type": "stream",
          "name": "stdout",
          "text": [
            "batch 830 loss: 0.3436496153473854\n"
          ]
        },
        {
          "output_type": "stream",
          "name": "stderr",
          "text": [
            "Train, Epoch 6 / 20:  54%|█████▍    | 843/1563 [00:35<00:30, 23.83it/s]"
          ]
        },
        {
          "output_type": "stream",
          "name": "stdout",
          "text": [
            "batch 840 loss: 0.40921918898820875\n"
          ]
        },
        {
          "output_type": "stream",
          "name": "stderr",
          "text": [
            "Train, Epoch 6 / 20:  55%|█████▍    | 855/1563 [00:35<00:28, 24.74it/s]"
          ]
        },
        {
          "output_type": "stream",
          "name": "stdout",
          "text": [
            "batch 850 loss: 0.20553693622350694\n"
          ]
        },
        {
          "output_type": "stream",
          "name": "stderr",
          "text": [
            "Train, Epoch 6 / 20:  55%|█████▌    | 864/1563 [00:35<00:28, 24.65it/s]"
          ]
        },
        {
          "output_type": "stream",
          "name": "stdout",
          "text": [
            "batch 860 loss: 0.33947386369109156\n"
          ]
        },
        {
          "output_type": "stream",
          "name": "stderr",
          "text": [
            "Train, Epoch 6 / 20:  56%|█████▌    | 873/1563 [00:36<00:27, 24.65it/s]"
          ]
        },
        {
          "output_type": "stream",
          "name": "stdout",
          "text": [
            "batch 870 loss: 0.27823693715035913\n"
          ]
        },
        {
          "output_type": "stream",
          "name": "stderr",
          "text": [
            "Train, Epoch 6 / 20:  57%|█████▋    | 885/1563 [00:36<00:27, 24.59it/s]"
          ]
        },
        {
          "output_type": "stream",
          "name": "stdout",
          "text": [
            "batch 880 loss: 0.21651579365134238\n"
          ]
        },
        {
          "output_type": "stream",
          "name": "stderr",
          "text": [
            "Train, Epoch 6 / 20:  57%|█████▋    | 894/1563 [00:37<00:27, 24.59it/s]"
          ]
        },
        {
          "output_type": "stream",
          "name": "stdout",
          "text": [
            "batch 890 loss: 0.29292048811912536\n"
          ]
        },
        {
          "output_type": "stream",
          "name": "stderr",
          "text": [
            "Train, Epoch 6 / 20:  58%|█████▊    | 903/1563 [00:37<00:26, 24.70it/s]"
          ]
        },
        {
          "output_type": "stream",
          "name": "stdout",
          "text": [
            "batch 900 loss: 0.28303593397140503\n"
          ]
        },
        {
          "output_type": "stream",
          "name": "stderr",
          "text": [
            "Train, Epoch 6 / 20:  59%|█████▊    | 915/1563 [00:37<00:26, 24.69it/s]"
          ]
        },
        {
          "output_type": "stream",
          "name": "stdout",
          "text": [
            "batch 910 loss: 0.37073012739419936\n"
          ]
        },
        {
          "output_type": "stream",
          "name": "stderr",
          "text": [
            "Train, Epoch 6 / 20:  59%|█████▉    | 924/1563 [00:38<00:25, 24.64it/s]"
          ]
        },
        {
          "output_type": "stream",
          "name": "stdout",
          "text": [
            "batch 920 loss: 0.2790824696421623\n"
          ]
        },
        {
          "output_type": "stream",
          "name": "stderr",
          "text": [
            "Train, Epoch 6 / 20:  60%|█████▉    | 933/1563 [00:38<00:25, 24.84it/s]"
          ]
        },
        {
          "output_type": "stream",
          "name": "stdout",
          "text": [
            "batch 930 loss: 0.299704073369503\n"
          ]
        },
        {
          "output_type": "stream",
          "name": "stderr",
          "text": [
            "Train, Epoch 6 / 20:  60%|██████    | 945/1563 [00:39<00:24, 24.78it/s]"
          ]
        },
        {
          "output_type": "stream",
          "name": "stdout",
          "text": [
            "batch 940 loss: 0.2842838287353516\n"
          ]
        },
        {
          "output_type": "stream",
          "name": "stderr",
          "text": [
            "Train, Epoch 6 / 20:  61%|██████    | 954/1563 [00:39<00:24, 24.80it/s]"
          ]
        },
        {
          "output_type": "stream",
          "name": "stdout",
          "text": [
            "batch 950 loss: 0.2467070996761322\n"
          ]
        },
        {
          "output_type": "stream",
          "name": "stderr",
          "text": [
            "Train, Epoch 6 / 20:  62%|██████▏   | 963/1563 [00:39<00:24, 24.63it/s]"
          ]
        },
        {
          "output_type": "stream",
          "name": "stdout",
          "text": [
            "batch 960 loss: 0.30672639757394793\n"
          ]
        },
        {
          "output_type": "stream",
          "name": "stderr",
          "text": [
            "Train, Epoch 6 / 20:  62%|██████▏   | 972/1563 [00:40<00:24, 24.47it/s]"
          ]
        },
        {
          "output_type": "stream",
          "name": "stdout",
          "text": [
            "batch 970 loss: 0.31301895081996917\n"
          ]
        },
        {
          "output_type": "stream",
          "name": "stderr",
          "text": [
            "Train, Epoch 6 / 20:  63%|██████▎   | 984/1563 [00:40<00:23, 24.84it/s]"
          ]
        },
        {
          "output_type": "stream",
          "name": "stdout",
          "text": [
            "batch 980 loss: 0.2961768038570881\n"
          ]
        },
        {
          "output_type": "stream",
          "name": "stderr",
          "text": [
            "Train, Epoch 6 / 20:  64%|██████▎   | 993/1563 [00:41<00:23, 24.59it/s]"
          ]
        },
        {
          "output_type": "stream",
          "name": "stdout",
          "text": [
            "batch 990 loss: 0.29487083852291107\n"
          ]
        },
        {
          "output_type": "stream",
          "name": "stderr",
          "text": [
            "Train, Epoch 6 / 20:  64%|██████▍   | 1005/1563 [00:41<00:22, 24.77it/s]"
          ]
        },
        {
          "output_type": "stream",
          "name": "stdout",
          "text": [
            "batch 1000 loss: 0.3330188512802124\n"
          ]
        },
        {
          "output_type": "stream",
          "name": "stderr",
          "text": [
            "Train, Epoch 6 / 20:  65%|██████▍   | 1014/1563 [00:42<00:22, 24.87it/s]"
          ]
        },
        {
          "output_type": "stream",
          "name": "stdout",
          "text": [
            "batch 1010 loss: 0.27772290632128716\n"
          ]
        },
        {
          "output_type": "stream",
          "name": "stderr",
          "text": [
            "Train, Epoch 6 / 20:  65%|██████▌   | 1023/1563 [00:42<00:21, 24.79it/s]"
          ]
        },
        {
          "output_type": "stream",
          "name": "stdout",
          "text": [
            "batch 1020 loss: 0.273397858440876\n"
          ]
        },
        {
          "output_type": "stream",
          "name": "stderr",
          "text": [
            "Train, Epoch 6 / 20:  66%|██████▌   | 1035/1563 [00:42<00:21, 24.70it/s]"
          ]
        },
        {
          "output_type": "stream",
          "name": "stdout",
          "text": [
            "batch 1030 loss: 0.3391480639576912\n"
          ]
        },
        {
          "output_type": "stream",
          "name": "stderr",
          "text": [
            "Train, Epoch 6 / 20:  67%|██████▋   | 1044/1563 [00:43<00:21, 24.69it/s]"
          ]
        },
        {
          "output_type": "stream",
          "name": "stdout",
          "text": [
            "batch 1040 loss: 0.26569068878889085\n"
          ]
        },
        {
          "output_type": "stream",
          "name": "stderr",
          "text": [
            "Train, Epoch 6 / 20:  67%|██████▋   | 1053/1563 [00:43<00:20, 24.32it/s]"
          ]
        },
        {
          "output_type": "stream",
          "name": "stdout",
          "text": [
            "batch 1050 loss: 0.2520316794514656\n"
          ]
        },
        {
          "output_type": "stream",
          "name": "stderr",
          "text": [
            "Train, Epoch 6 / 20:  68%|██████▊   | 1065/1563 [00:44<00:20, 24.66it/s]"
          ]
        },
        {
          "output_type": "stream",
          "name": "stdout",
          "text": [
            "batch 1060 loss: 0.27831833213567736\n"
          ]
        },
        {
          "output_type": "stream",
          "name": "stderr",
          "text": [
            "Train, Epoch 6 / 20:  69%|██████▊   | 1074/1563 [00:44<00:19, 24.93it/s]"
          ]
        },
        {
          "output_type": "stream",
          "name": "stdout",
          "text": [
            "batch 1070 loss: 0.368662565946579\n"
          ]
        },
        {
          "output_type": "stream",
          "name": "stderr",
          "text": [
            "Train, Epoch 6 / 20:  69%|██████▉   | 1083/1563 [00:44<00:19, 24.45it/s]"
          ]
        },
        {
          "output_type": "stream",
          "name": "stdout",
          "text": [
            "batch 1080 loss: 0.2897850573062897\n"
          ]
        },
        {
          "output_type": "stream",
          "name": "stderr",
          "text": [
            "Train, Epoch 6 / 20:  70%|██████▉   | 1092/1563 [00:45<00:21, 22.41it/s]"
          ]
        },
        {
          "output_type": "stream",
          "name": "stdout",
          "text": [
            "batch 1090 loss: 0.3815313816070557\n"
          ]
        },
        {
          "output_type": "stream",
          "name": "stderr",
          "text": [
            "Train, Epoch 6 / 20:  71%|███████   | 1104/1563 [00:45<00:20, 22.14it/s]"
          ]
        },
        {
          "output_type": "stream",
          "name": "stdout",
          "text": [
            "batch 1100 loss: 0.2597869120538235\n"
          ]
        },
        {
          "output_type": "stream",
          "name": "stderr",
          "text": [
            "Train, Epoch 6 / 20:  71%|███████   | 1113/1563 [00:46<00:20, 22.34it/s]"
          ]
        },
        {
          "output_type": "stream",
          "name": "stdout",
          "text": [
            "batch 1110 loss: 0.24663862437009812\n"
          ]
        },
        {
          "output_type": "stream",
          "name": "stderr",
          "text": [
            "Train, Epoch 6 / 20:  72%|███████▏  | 1122/1563 [00:46<00:20, 21.89it/s]"
          ]
        },
        {
          "output_type": "stream",
          "name": "stdout",
          "text": [
            "batch 1120 loss: 0.29664234817028046\n"
          ]
        },
        {
          "output_type": "stream",
          "name": "stderr",
          "text": [
            "Train, Epoch 6 / 20:  73%|███████▎  | 1134/1563 [00:47<00:19, 22.36it/s]"
          ]
        },
        {
          "output_type": "stream",
          "name": "stdout",
          "text": [
            "batch 1130 loss: 0.28651567697525027\n"
          ]
        },
        {
          "output_type": "stream",
          "name": "stderr",
          "text": [
            "Train, Epoch 6 / 20:  73%|███████▎  | 1143/1563 [00:47<00:17, 23.88it/s]"
          ]
        },
        {
          "output_type": "stream",
          "name": "stdout",
          "text": [
            "batch 1140 loss: 0.32006255686283114\n"
          ]
        },
        {
          "output_type": "stream",
          "name": "stderr",
          "text": [
            "Train, Epoch 6 / 20:  74%|███████▍  | 1155/1563 [00:47<00:16, 24.68it/s]"
          ]
        },
        {
          "output_type": "stream",
          "name": "stdout",
          "text": [
            "batch 1150 loss: 0.3032817155122757\n"
          ]
        },
        {
          "output_type": "stream",
          "name": "stderr",
          "text": [
            "Train, Epoch 6 / 20:  74%|███████▍  | 1164/1563 [00:48<00:16, 24.37it/s]"
          ]
        },
        {
          "output_type": "stream",
          "name": "stdout",
          "text": [
            "batch 1160 loss: 0.36473026499152184\n"
          ]
        },
        {
          "output_type": "stream",
          "name": "stderr",
          "text": [
            "Train, Epoch 6 / 20:  75%|███████▌  | 1173/1563 [00:48<00:15, 24.52it/s]"
          ]
        },
        {
          "output_type": "stream",
          "name": "stdout",
          "text": [
            "batch 1170 loss: 0.26217208579182627\n"
          ]
        },
        {
          "output_type": "stream",
          "name": "stderr",
          "text": [
            "Train, Epoch 6 / 20:  76%|███████▌  | 1185/1563 [00:49<00:15, 24.69it/s]"
          ]
        },
        {
          "output_type": "stream",
          "name": "stdout",
          "text": [
            "batch 1180 loss: 0.26988294124603274\n"
          ]
        },
        {
          "output_type": "stream",
          "name": "stderr",
          "text": [
            "Train, Epoch 6 / 20:  76%|███████▋  | 1194/1563 [00:49<00:14, 24.92it/s]"
          ]
        },
        {
          "output_type": "stream",
          "name": "stdout",
          "text": [
            "batch 1190 loss: 0.39414617121219636\n"
          ]
        },
        {
          "output_type": "stream",
          "name": "stderr",
          "text": [
            "Train, Epoch 6 / 20:  77%|███████▋  | 1203/1563 [00:49<00:14, 24.48it/s]"
          ]
        },
        {
          "output_type": "stream",
          "name": "stdout",
          "text": [
            "batch 1200 loss: 0.31314236894249914\n"
          ]
        },
        {
          "output_type": "stream",
          "name": "stderr",
          "text": [
            "Train, Epoch 6 / 20:  78%|███████▊  | 1215/1563 [00:50<00:14, 24.57it/s]"
          ]
        },
        {
          "output_type": "stream",
          "name": "stdout",
          "text": [
            "batch 1210 loss: 0.2695547342300415\n"
          ]
        },
        {
          "output_type": "stream",
          "name": "stderr",
          "text": [
            "Train, Epoch 6 / 20:  78%|███████▊  | 1224/1563 [00:50<00:13, 24.41it/s]"
          ]
        },
        {
          "output_type": "stream",
          "name": "stdout",
          "text": [
            "batch 1220 loss: 0.3624474681913853\n"
          ]
        },
        {
          "output_type": "stream",
          "name": "stderr",
          "text": [
            "Train, Epoch 6 / 20:  79%|███████▉  | 1233/1563 [00:51<00:13, 24.06it/s]"
          ]
        },
        {
          "output_type": "stream",
          "name": "stdout",
          "text": [
            "batch 1230 loss: 0.37459849417209623\n"
          ]
        },
        {
          "output_type": "stream",
          "name": "stderr",
          "text": [
            "Train, Epoch 6 / 20:  80%|███████▉  | 1245/1563 [00:51<00:13, 24.43it/s]"
          ]
        },
        {
          "output_type": "stream",
          "name": "stdout",
          "text": [
            "batch 1240 loss: 0.27582675963640213\n"
          ]
        },
        {
          "output_type": "stream",
          "name": "stderr",
          "text": [
            "Train, Epoch 6 / 20:  80%|████████  | 1254/1563 [00:52<00:12, 24.67it/s]"
          ]
        },
        {
          "output_type": "stream",
          "name": "stdout",
          "text": [
            "batch 1250 loss: 0.28296408653259275\n"
          ]
        },
        {
          "output_type": "stream",
          "name": "stderr",
          "text": [
            "Train, Epoch 6 / 20:  81%|████████  | 1263/1563 [00:52<00:12, 24.31it/s]"
          ]
        },
        {
          "output_type": "stream",
          "name": "stdout",
          "text": [
            "batch 1260 loss: 0.24688778072595596\n"
          ]
        },
        {
          "output_type": "stream",
          "name": "stderr",
          "text": [
            "Train, Epoch 6 / 20:  82%|████████▏ | 1275/1563 [00:52<00:11, 24.84it/s]"
          ]
        },
        {
          "output_type": "stream",
          "name": "stdout",
          "text": [
            "batch 1270 loss: 0.3046261578798294\n"
          ]
        },
        {
          "output_type": "stream",
          "name": "stderr",
          "text": [
            "Train, Epoch 6 / 20:  82%|████████▏ | 1284/1563 [00:53<00:11, 24.54it/s]"
          ]
        },
        {
          "output_type": "stream",
          "name": "stdout",
          "text": [
            "batch 1280 loss: 0.3397088721394539\n"
          ]
        },
        {
          "output_type": "stream",
          "name": "stderr",
          "text": [
            "Train, Epoch 6 / 20:  83%|████████▎ | 1293/1563 [00:53<00:10, 24.85it/s]"
          ]
        },
        {
          "output_type": "stream",
          "name": "stdout",
          "text": [
            "batch 1290 loss: 0.3309257224202156\n"
          ]
        },
        {
          "output_type": "stream",
          "name": "stderr",
          "text": [
            "Train, Epoch 6 / 20:  83%|████████▎ | 1305/1563 [00:54<00:10, 24.67it/s]"
          ]
        },
        {
          "output_type": "stream",
          "name": "stdout",
          "text": [
            "batch 1300 loss: 0.2603126995265484\n"
          ]
        },
        {
          "output_type": "stream",
          "name": "stderr",
          "text": [
            "Train, Epoch 6 / 20:  84%|████████▍ | 1314/1563 [00:54<00:10, 24.61it/s]"
          ]
        },
        {
          "output_type": "stream",
          "name": "stdout",
          "text": [
            "batch 1310 loss: 0.3306896224617958\n"
          ]
        },
        {
          "output_type": "stream",
          "name": "stderr",
          "text": [
            "Train, Epoch 6 / 20:  85%|████████▍ | 1323/1563 [00:54<00:09, 24.79it/s]"
          ]
        },
        {
          "output_type": "stream",
          "name": "stdout",
          "text": [
            "batch 1320 loss: 0.2787975698709488\n"
          ]
        },
        {
          "output_type": "stream",
          "name": "stderr",
          "text": [
            "Train, Epoch 6 / 20:  85%|████████▌ | 1332/1563 [00:55<00:09, 24.58it/s]"
          ]
        },
        {
          "output_type": "stream",
          "name": "stdout",
          "text": [
            "batch 1330 loss: 0.25253442078828814\n"
          ]
        },
        {
          "output_type": "stream",
          "name": "stderr",
          "text": [
            "Train, Epoch 6 / 20:  86%|████████▌ | 1344/1563 [00:55<00:08, 24.76it/s]"
          ]
        },
        {
          "output_type": "stream",
          "name": "stdout",
          "text": [
            "batch 1340 loss: 0.28775637298822404\n"
          ]
        },
        {
          "output_type": "stream",
          "name": "stderr",
          "text": [
            "Train, Epoch 6 / 20:  87%|████████▋ | 1353/1563 [00:56<00:08, 24.85it/s]"
          ]
        },
        {
          "output_type": "stream",
          "name": "stdout",
          "text": [
            "batch 1350 loss: 0.3046144306659698\n"
          ]
        },
        {
          "output_type": "stream",
          "name": "stderr",
          "text": [
            "Train, Epoch 6 / 20:  87%|████████▋ | 1365/1563 [00:56<00:07, 24.75it/s]"
          ]
        },
        {
          "output_type": "stream",
          "name": "stdout",
          "text": [
            "batch 1360 loss: 0.24170757085084915\n"
          ]
        },
        {
          "output_type": "stream",
          "name": "stderr",
          "text": [
            "Train, Epoch 6 / 20:  88%|████████▊ | 1374/1563 [00:56<00:07, 24.63it/s]"
          ]
        },
        {
          "output_type": "stream",
          "name": "stdout",
          "text": [
            "batch 1370 loss: 0.4069571107625961\n"
          ]
        },
        {
          "output_type": "stream",
          "name": "stderr",
          "text": [
            "Train, Epoch 6 / 20:  88%|████████▊ | 1383/1563 [00:57<00:07, 23.05it/s]"
          ]
        },
        {
          "output_type": "stream",
          "name": "stdout",
          "text": [
            "batch 1380 loss: 0.3246632143855095\n"
          ]
        },
        {
          "output_type": "stream",
          "name": "stderr",
          "text": [
            "Train, Epoch 6 / 20:  89%|████████▉ | 1392/1563 [00:57<00:07, 22.09it/s]"
          ]
        },
        {
          "output_type": "stream",
          "name": "stdout",
          "text": [
            "batch 1390 loss: 0.31265023574233053\n"
          ]
        },
        {
          "output_type": "stream",
          "name": "stderr",
          "text": [
            "Train, Epoch 6 / 20:  90%|████████▉ | 1404/1563 [00:58<00:07, 22.32it/s]"
          ]
        },
        {
          "output_type": "stream",
          "name": "stdout",
          "text": [
            "batch 1400 loss: 0.33759343773126604\n"
          ]
        },
        {
          "output_type": "stream",
          "name": "stderr",
          "text": [
            "Train, Epoch 6 / 20:  90%|█████████ | 1413/1563 [00:58<00:06, 21.93it/s]"
          ]
        },
        {
          "output_type": "stream",
          "name": "stdout",
          "text": [
            "batch 1410 loss: 0.32182937785983085\n"
          ]
        },
        {
          "output_type": "stream",
          "name": "stderr",
          "text": [
            "Train, Epoch 6 / 20:  91%|█████████ | 1422/1563 [00:59<00:06, 21.80it/s]"
          ]
        },
        {
          "output_type": "stream",
          "name": "stdout",
          "text": [
            "batch 1420 loss: 0.2546224519610405\n"
          ]
        },
        {
          "output_type": "stream",
          "name": "stderr",
          "text": [
            "Train, Epoch 6 / 20:  92%|█████████▏| 1434/1563 [00:59<00:05, 23.41it/s]"
          ]
        },
        {
          "output_type": "stream",
          "name": "stdout",
          "text": [
            "batch 1430 loss: 0.2929899573326111\n"
          ]
        },
        {
          "output_type": "stream",
          "name": "stderr",
          "text": [
            "Train, Epoch 6 / 20:  92%|█████████▏| 1443/1563 [00:59<00:04, 24.39it/s]"
          ]
        },
        {
          "output_type": "stream",
          "name": "stdout",
          "text": [
            "batch 1440 loss: 0.33577715158462523\n"
          ]
        },
        {
          "output_type": "stream",
          "name": "stderr",
          "text": [
            "Train, Epoch 6 / 20:  93%|█████████▎| 1452/1563 [01:00<00:04, 24.61it/s]"
          ]
        },
        {
          "output_type": "stream",
          "name": "stdout",
          "text": [
            "batch 1450 loss: 0.3031162187457085\n"
          ]
        },
        {
          "output_type": "stream",
          "name": "stderr",
          "text": [
            "Train, Epoch 6 / 20:  94%|█████████▎| 1464/1563 [01:00<00:04, 24.74it/s]"
          ]
        },
        {
          "output_type": "stream",
          "name": "stdout",
          "text": [
            "batch 1460 loss: 0.2714853294193745\n"
          ]
        },
        {
          "output_type": "stream",
          "name": "stderr",
          "text": [
            "Train, Epoch 6 / 20:  94%|█████████▍| 1473/1563 [01:01<00:03, 24.83it/s]"
          ]
        },
        {
          "output_type": "stream",
          "name": "stdout",
          "text": [
            "batch 1470 loss: 0.2779060110449791\n"
          ]
        },
        {
          "output_type": "stream",
          "name": "stderr",
          "text": [
            "Train, Epoch 6 / 20:  95%|█████████▌| 1485/1563 [01:01<00:03, 24.60it/s]"
          ]
        },
        {
          "output_type": "stream",
          "name": "stdout",
          "text": [
            "batch 1480 loss: 0.2884685754776001\n"
          ]
        },
        {
          "output_type": "stream",
          "name": "stderr",
          "text": [
            "Train, Epoch 6 / 20:  96%|█████████▌| 1494/1563 [01:02<00:02, 24.77it/s]"
          ]
        },
        {
          "output_type": "stream",
          "name": "stdout",
          "text": [
            "batch 1490 loss: 0.2940255731344223\n"
          ]
        },
        {
          "output_type": "stream",
          "name": "stderr",
          "text": [
            "Train, Epoch 6 / 20:  96%|█████████▌| 1503/1563 [01:02<00:02, 24.87it/s]"
          ]
        },
        {
          "output_type": "stream",
          "name": "stdout",
          "text": [
            "batch 1500 loss: 0.259195414185524\n"
          ]
        },
        {
          "output_type": "stream",
          "name": "stderr",
          "text": [
            "Train, Epoch 6 / 20:  97%|█████████▋| 1515/1563 [01:02<00:01, 24.45it/s]"
          ]
        },
        {
          "output_type": "stream",
          "name": "stdout",
          "text": [
            "batch 1510 loss: 0.30161636620759963\n"
          ]
        },
        {
          "output_type": "stream",
          "name": "stderr",
          "text": [
            "Train, Epoch 6 / 20:  98%|█████████▊| 1524/1563 [01:03<00:01, 24.57it/s]"
          ]
        },
        {
          "output_type": "stream",
          "name": "stdout",
          "text": [
            "batch 1520 loss: 0.3354623816907406\n"
          ]
        },
        {
          "output_type": "stream",
          "name": "stderr",
          "text": [
            "Train, Epoch 6 / 20:  98%|█████████▊| 1533/1563 [01:03<00:01, 24.42it/s]"
          ]
        },
        {
          "output_type": "stream",
          "name": "stdout",
          "text": [
            "batch 1530 loss: 0.3686626642942429\n"
          ]
        },
        {
          "output_type": "stream",
          "name": "stderr",
          "text": [
            "Train, Epoch 6 / 20:  99%|█████████▉| 1545/1563 [01:04<00:00, 24.51it/s]"
          ]
        },
        {
          "output_type": "stream",
          "name": "stdout",
          "text": [
            "batch 1540 loss: 0.3325867630541325\n"
          ]
        },
        {
          "output_type": "stream",
          "name": "stderr",
          "text": [
            "Train, Epoch 6 / 20:  99%|█████████▉| 1554/1563 [01:04<00:00, 24.88it/s]"
          ]
        },
        {
          "output_type": "stream",
          "name": "stdout",
          "text": [
            "batch 1550 loss: 0.2659283883869648\n"
          ]
        },
        {
          "output_type": "stream",
          "name": "stderr",
          "text": [
            "Train, Epoch 6 / 20: 100%|██████████| 1563/1563 [01:04<00:00, 24.11it/s]\n"
          ]
        },
        {
          "output_type": "stream",
          "name": "stdout",
          "text": [
            "batch 1560 loss: 0.24656369760632516\n"
          ]
        },
        {
          "output_type": "stream",
          "name": "stderr",
          "text": [
            "Test, Epoch 6 / 20: 100%|██████████| 1563/1563 [00:29<00:00, 52.45it/s]\n"
          ]
        },
        {
          "output_type": "stream",
          "name": "stdout",
          "text": [
            "Epoch 6, loss: 0.45003128020226957, accuracy: 0.806\n"
          ]
        },
        {
          "output_type": "stream",
          "name": "stderr",
          "text": [
            "Train, Epoch 7 / 20:   1%|          | 12/1563 [00:00<01:07, 22.85it/s]"
          ]
        },
        {
          "output_type": "stream",
          "name": "stdout",
          "text": [
            "batch 10 loss: 0.25142631232738494\n"
          ]
        },
        {
          "output_type": "stream",
          "name": "stderr",
          "text": [
            "Train, Epoch 7 / 20:   2%|▏         | 24/1563 [00:01<01:10, 21.79it/s]"
          ]
        },
        {
          "output_type": "stream",
          "name": "stdout",
          "text": [
            "batch 20 loss: 0.27888473123311996\n"
          ]
        },
        {
          "output_type": "stream",
          "name": "stderr",
          "text": [
            "Train, Epoch 7 / 20:   2%|▏         | 33/1563 [00:01<01:12, 21.17it/s]"
          ]
        },
        {
          "output_type": "stream",
          "name": "stdout",
          "text": [
            "batch 30 loss: 0.3279791191220284\n"
          ]
        },
        {
          "output_type": "stream",
          "name": "stderr",
          "text": [
            "Train, Epoch 7 / 20:   3%|▎         | 42/1563 [00:01<01:06, 22.95it/s]"
          ]
        },
        {
          "output_type": "stream",
          "name": "stdout",
          "text": [
            "batch 40 loss: 0.2646473072469234\n"
          ]
        },
        {
          "output_type": "stream",
          "name": "stderr",
          "text": [
            "Train, Epoch 7 / 20:   3%|▎         | 54/1563 [00:02<01:01, 24.34it/s]"
          ]
        },
        {
          "output_type": "stream",
          "name": "stdout",
          "text": [
            "batch 50 loss: 0.2319739505648613\n"
          ]
        },
        {
          "output_type": "stream",
          "name": "stderr",
          "text": [
            "Train, Epoch 7 / 20:   4%|▍         | 63/1563 [00:02<01:00, 24.68it/s]"
          ]
        },
        {
          "output_type": "stream",
          "name": "stdout",
          "text": [
            "batch 60 loss: 0.3021840050816536\n"
          ]
        },
        {
          "output_type": "stream",
          "name": "stderr",
          "text": [
            "Train, Epoch 7 / 20:   5%|▍         | 75/1563 [00:03<01:00, 24.67it/s]"
          ]
        },
        {
          "output_type": "stream",
          "name": "stdout",
          "text": [
            "batch 70 loss: 0.27900908663868906\n"
          ]
        },
        {
          "output_type": "stream",
          "name": "stderr",
          "text": [
            "Train, Epoch 7 / 20:   5%|▌         | 84/1563 [00:03<00:59, 24.81it/s]"
          ]
        },
        {
          "output_type": "stream",
          "name": "stdout",
          "text": [
            "batch 80 loss: 0.3649205848574638\n"
          ]
        },
        {
          "output_type": "stream",
          "name": "stderr",
          "text": [
            "Train, Epoch 7 / 20:   6%|▌         | 93/1563 [00:03<01:00, 24.46it/s]"
          ]
        },
        {
          "output_type": "stream",
          "name": "stdout",
          "text": [
            "batch 90 loss: 0.26554659456014634\n"
          ]
        },
        {
          "output_type": "stream",
          "name": "stderr",
          "text": [
            "Train, Epoch 7 / 20:   7%|▋         | 105/1563 [00:04<00:58, 24.81it/s]"
          ]
        },
        {
          "output_type": "stream",
          "name": "stdout",
          "text": [
            "batch 100 loss: 0.307712721824646\n"
          ]
        },
        {
          "output_type": "stream",
          "name": "stderr",
          "text": [
            "Train, Epoch 7 / 20:   7%|▋         | 114/1563 [00:04<00:58, 24.81it/s]"
          ]
        },
        {
          "output_type": "stream",
          "name": "stdout",
          "text": [
            "batch 110 loss: 0.24651936292648316\n"
          ]
        },
        {
          "output_type": "stream",
          "name": "stderr",
          "text": [
            "Train, Epoch 7 / 20:   8%|▊         | 123/1563 [00:05<00:58, 24.42it/s]"
          ]
        },
        {
          "output_type": "stream",
          "name": "stdout",
          "text": [
            "batch 120 loss: 0.3741797834634781\n"
          ]
        },
        {
          "output_type": "stream",
          "name": "stderr",
          "text": [
            "Train, Epoch 7 / 20:   9%|▊         | 135/1563 [00:05<00:57, 24.63it/s]"
          ]
        },
        {
          "output_type": "stream",
          "name": "stdout",
          "text": [
            "batch 130 loss: 0.2262973114848137\n"
          ]
        },
        {
          "output_type": "stream",
          "name": "stderr",
          "text": [
            "Train, Epoch 7 / 20:   9%|▉         | 144/1563 [00:06<00:57, 24.62it/s]"
          ]
        },
        {
          "output_type": "stream",
          "name": "stdout",
          "text": [
            "batch 140 loss: 0.1766423612833023\n"
          ]
        },
        {
          "output_type": "stream",
          "name": "stderr",
          "text": [
            "Train, Epoch 7 / 20:  10%|▉         | 153/1563 [00:06<00:57, 24.63it/s]"
          ]
        },
        {
          "output_type": "stream",
          "name": "stdout",
          "text": [
            "batch 150 loss: 0.2256990723311901\n"
          ]
        },
        {
          "output_type": "stream",
          "name": "stderr",
          "text": [
            "Train, Epoch 7 / 20:  11%|█         | 165/1563 [00:06<00:57, 24.47it/s]"
          ]
        },
        {
          "output_type": "stream",
          "name": "stdout",
          "text": [
            "batch 160 loss: 0.23031701296567916\n"
          ]
        },
        {
          "output_type": "stream",
          "name": "stderr",
          "text": [
            "Train, Epoch 7 / 20:  11%|█         | 174/1563 [00:07<00:56, 24.62it/s]"
          ]
        },
        {
          "output_type": "stream",
          "name": "stdout",
          "text": [
            "batch 170 loss: 0.2803169645369053\n"
          ]
        },
        {
          "output_type": "stream",
          "name": "stderr",
          "text": [
            "Train, Epoch 7 / 20:  12%|█▏        | 183/1563 [00:07<00:55, 24.67it/s]"
          ]
        },
        {
          "output_type": "stream",
          "name": "stdout",
          "text": [
            "batch 180 loss: 0.33911608904600143\n"
          ]
        },
        {
          "output_type": "stream",
          "name": "stderr",
          "text": [
            "Train, Epoch 7 / 20:  12%|█▏        | 195/1563 [00:08<00:55, 24.63it/s]"
          ]
        },
        {
          "output_type": "stream",
          "name": "stdout",
          "text": [
            "batch 190 loss: 0.45188664495944975\n"
          ]
        },
        {
          "output_type": "stream",
          "name": "stderr",
          "text": [
            "Train, Epoch 7 / 20:  13%|█▎        | 204/1563 [00:08<00:55, 24.61it/s]"
          ]
        },
        {
          "output_type": "stream",
          "name": "stdout",
          "text": [
            "batch 200 loss: 0.23562025874853135\n"
          ]
        },
        {
          "output_type": "stream",
          "name": "stderr",
          "text": [
            "Train, Epoch 7 / 20:  14%|█▎        | 213/1563 [00:08<00:54, 24.63it/s]"
          ]
        },
        {
          "output_type": "stream",
          "name": "stdout",
          "text": [
            "batch 210 loss: 0.2772284775972366\n"
          ]
        },
        {
          "output_type": "stream",
          "name": "stderr",
          "text": [
            "Train, Epoch 7 / 20:  14%|█▍        | 225/1563 [00:09<00:54, 24.71it/s]"
          ]
        },
        {
          "output_type": "stream",
          "name": "stdout",
          "text": [
            "batch 220 loss: 0.27530478686094284\n"
          ]
        },
        {
          "output_type": "stream",
          "name": "stderr",
          "text": [
            "Train, Epoch 7 / 20:  15%|█▍        | 234/1563 [00:09<00:53, 24.76it/s]"
          ]
        },
        {
          "output_type": "stream",
          "name": "stdout",
          "text": [
            "batch 230 loss: 0.26804143786430357\n"
          ]
        },
        {
          "output_type": "stream",
          "name": "stderr",
          "text": [
            "Train, Epoch 7 / 20:  16%|█▌        | 243/1563 [00:10<00:53, 24.68it/s]"
          ]
        },
        {
          "output_type": "stream",
          "name": "stdout",
          "text": [
            "batch 240 loss: 0.3349872440099716\n"
          ]
        },
        {
          "output_type": "stream",
          "name": "stderr",
          "text": [
            "Train, Epoch 7 / 20:  16%|█▋        | 255/1563 [00:10<00:52, 24.72it/s]"
          ]
        },
        {
          "output_type": "stream",
          "name": "stdout",
          "text": [
            "batch 250 loss: 0.217095347866416\n"
          ]
        },
        {
          "output_type": "stream",
          "name": "stderr",
          "text": [
            "Train, Epoch 7 / 20:  17%|█▋        | 264/1563 [00:10<00:52, 24.73it/s]"
          ]
        },
        {
          "output_type": "stream",
          "name": "stdout",
          "text": [
            "batch 260 loss: 0.2996935546398163\n"
          ]
        },
        {
          "output_type": "stream",
          "name": "stderr",
          "text": [
            "Train, Epoch 7 / 20:  17%|█▋        | 273/1563 [00:11<00:52, 24.41it/s]"
          ]
        },
        {
          "output_type": "stream",
          "name": "stdout",
          "text": [
            "batch 270 loss: 0.3807292848825455\n"
          ]
        },
        {
          "output_type": "stream",
          "name": "stderr",
          "text": [
            "Train, Epoch 7 / 20:  18%|█▊        | 282/1563 [00:11<00:53, 23.89it/s]"
          ]
        },
        {
          "output_type": "stream",
          "name": "stdout",
          "text": [
            "batch 280 loss: 0.26713343188166616\n"
          ]
        },
        {
          "output_type": "stream",
          "name": "stderr",
          "text": [
            "Train, Epoch 7 / 20:  19%|█▉        | 294/1563 [00:12<00:57, 22.02it/s]"
          ]
        },
        {
          "output_type": "stream",
          "name": "stdout",
          "text": [
            "batch 290 loss: 0.2618698880076408\n"
          ]
        },
        {
          "output_type": "stream",
          "name": "stderr",
          "text": [
            "Train, Epoch 7 / 20:  19%|█▉        | 303/1563 [00:12<00:58, 21.70it/s]"
          ]
        },
        {
          "output_type": "stream",
          "name": "stdout",
          "text": [
            "batch 300 loss: 0.2810028210282326\n"
          ]
        },
        {
          "output_type": "stream",
          "name": "stderr",
          "text": [
            "Train, Epoch 7 / 20:  20%|█▉        | 312/1563 [00:13<00:56, 22.00it/s]"
          ]
        },
        {
          "output_type": "stream",
          "name": "stdout",
          "text": [
            "batch 310 loss: 0.3353216364979744\n"
          ]
        },
        {
          "output_type": "stream",
          "name": "stderr",
          "text": [
            "Train, Epoch 7 / 20:  21%|██        | 324/1563 [00:13<00:58, 21.34it/s]"
          ]
        },
        {
          "output_type": "stream",
          "name": "stdout",
          "text": [
            "batch 320 loss: 0.260188952088356\n"
          ]
        },
        {
          "output_type": "stream",
          "name": "stderr",
          "text": [
            "Train, Epoch 7 / 20:  21%|██▏       | 333/1563 [00:14<00:54, 22.46it/s]"
          ]
        },
        {
          "output_type": "stream",
          "name": "stdout",
          "text": [
            "batch 330 loss: 0.37383167147636415\n"
          ]
        },
        {
          "output_type": "stream",
          "name": "stderr",
          "text": [
            "Train, Epoch 7 / 20:  22%|██▏       | 345/1563 [00:14<00:50, 24.15it/s]"
          ]
        },
        {
          "output_type": "stream",
          "name": "stdout",
          "text": [
            "batch 340 loss: 0.30757108628749846\n"
          ]
        },
        {
          "output_type": "stream",
          "name": "stderr",
          "text": [
            "Train, Epoch 7 / 20:  23%|██▎       | 354/1563 [00:14<00:48, 24.74it/s]"
          ]
        },
        {
          "output_type": "stream",
          "name": "stdout",
          "text": [
            "batch 350 loss: 0.25516103990375993\n"
          ]
        },
        {
          "output_type": "stream",
          "name": "stderr",
          "text": [
            "Train, Epoch 7 / 20:  23%|██▎       | 363/1563 [00:15<00:48, 24.62it/s]"
          ]
        },
        {
          "output_type": "stream",
          "name": "stdout",
          "text": [
            "batch 360 loss: 0.23190804421901703\n"
          ]
        },
        {
          "output_type": "stream",
          "name": "stderr",
          "text": [
            "Train, Epoch 7 / 20:  24%|██▍       | 372/1563 [00:15<00:48, 24.45it/s]"
          ]
        },
        {
          "output_type": "stream",
          "name": "stdout",
          "text": [
            "batch 370 loss: 0.29571177139878274\n"
          ]
        },
        {
          "output_type": "stream",
          "name": "stderr",
          "text": [
            "Train, Epoch 7 / 20:  25%|██▍       | 384/1563 [00:16<00:47, 24.86it/s]"
          ]
        },
        {
          "output_type": "stream",
          "name": "stdout",
          "text": [
            "batch 380 loss: 0.23357662819325925\n"
          ]
        },
        {
          "output_type": "stream",
          "name": "stderr",
          "text": [
            "Train, Epoch 7 / 20:  25%|██▌       | 393/1563 [00:16<00:47, 24.63it/s]"
          ]
        },
        {
          "output_type": "stream",
          "name": "stdout",
          "text": [
            "batch 390 loss: 0.35235499292612077\n"
          ]
        },
        {
          "output_type": "stream",
          "name": "stderr",
          "text": [
            "Train, Epoch 7 / 20:  26%|██▌       | 405/1563 [00:16<00:47, 24.50it/s]"
          ]
        },
        {
          "output_type": "stream",
          "name": "stdout",
          "text": [
            "batch 400 loss: 0.3296806335449219\n"
          ]
        },
        {
          "output_type": "stream",
          "name": "stderr",
          "text": [
            "Train, Epoch 7 / 20:  26%|██▋       | 414/1563 [00:17<00:46, 24.74it/s]"
          ]
        },
        {
          "output_type": "stream",
          "name": "stdout",
          "text": [
            "batch 410 loss: 0.27221590355038644\n"
          ]
        },
        {
          "output_type": "stream",
          "name": "stderr",
          "text": [
            "Train, Epoch 7 / 20:  27%|██▋       | 423/1563 [00:17<00:46, 24.75it/s]"
          ]
        },
        {
          "output_type": "stream",
          "name": "stdout",
          "text": [
            "batch 420 loss: 0.2738885171711445\n"
          ]
        },
        {
          "output_type": "stream",
          "name": "stderr",
          "text": [
            "Train, Epoch 7 / 20:  28%|██▊       | 432/1563 [00:18<00:46, 24.36it/s]"
          ]
        },
        {
          "output_type": "stream",
          "name": "stdout",
          "text": [
            "batch 430 loss: 0.3546203263103962\n"
          ]
        },
        {
          "output_type": "stream",
          "name": "stderr",
          "text": [
            "Train, Epoch 7 / 20:  28%|██▊       | 444/1563 [00:18<00:45, 24.36it/s]"
          ]
        },
        {
          "output_type": "stream",
          "name": "stdout",
          "text": [
            "batch 440 loss: 0.3685740627348423\n"
          ]
        },
        {
          "output_type": "stream",
          "name": "stderr",
          "text": [
            "Train, Epoch 7 / 20:  29%|██▉       | 453/1563 [00:18<00:44, 24.67it/s]"
          ]
        },
        {
          "output_type": "stream",
          "name": "stdout",
          "text": [
            "batch 450 loss: 0.24685775637626647\n"
          ]
        },
        {
          "output_type": "stream",
          "name": "stderr",
          "text": [
            "Train, Epoch 7 / 20:  30%|██▉       | 465/1563 [00:19<00:44, 24.47it/s]"
          ]
        },
        {
          "output_type": "stream",
          "name": "stdout",
          "text": [
            "batch 460 loss: 0.27296764552593233\n"
          ]
        },
        {
          "output_type": "stream",
          "name": "stderr",
          "text": [
            "Train, Epoch 7 / 20:  30%|███       | 474/1563 [00:19<00:44, 24.61it/s]"
          ]
        },
        {
          "output_type": "stream",
          "name": "stdout",
          "text": [
            "batch 470 loss: 0.32466202452778814\n"
          ]
        },
        {
          "output_type": "stream",
          "name": "stderr",
          "text": [
            "Train, Epoch 7 / 20:  31%|███       | 483/1563 [00:20<00:43, 24.74it/s]"
          ]
        },
        {
          "output_type": "stream",
          "name": "stdout",
          "text": [
            "batch 480 loss: 0.24024855345487595\n"
          ]
        },
        {
          "output_type": "stream",
          "name": "stderr",
          "text": [
            "Train, Epoch 7 / 20:  32%|███▏      | 495/1563 [00:20<00:42, 24.86it/s]"
          ]
        },
        {
          "output_type": "stream",
          "name": "stdout",
          "text": [
            "batch 490 loss: 0.2289329446852207\n"
          ]
        },
        {
          "output_type": "stream",
          "name": "stderr",
          "text": [
            "Train, Epoch 7 / 20:  32%|███▏      | 504/1563 [00:20<00:42, 24.65it/s]"
          ]
        },
        {
          "output_type": "stream",
          "name": "stdout",
          "text": [
            "batch 500 loss: 0.29635044634342195\n"
          ]
        },
        {
          "output_type": "stream",
          "name": "stderr",
          "text": [
            "Train, Epoch 7 / 20:  33%|███▎      | 513/1563 [00:21<00:42, 24.53it/s]"
          ]
        },
        {
          "output_type": "stream",
          "name": "stdout",
          "text": [
            "batch 510 loss: 0.2891277506947517\n"
          ]
        },
        {
          "output_type": "stream",
          "name": "stderr",
          "text": [
            "Train, Epoch 7 / 20:  34%|███▎      | 525/1563 [00:21<00:42, 24.63it/s]"
          ]
        },
        {
          "output_type": "stream",
          "name": "stdout",
          "text": [
            "batch 520 loss: 0.3364119790494442\n"
          ]
        },
        {
          "output_type": "stream",
          "name": "stderr",
          "text": [
            "Train, Epoch 7 / 20:  34%|███▍      | 534/1563 [00:22<00:41, 24.84it/s]"
          ]
        },
        {
          "output_type": "stream",
          "name": "stdout",
          "text": [
            "batch 530 loss: 0.2720355004072189\n"
          ]
        },
        {
          "output_type": "stream",
          "name": "stderr",
          "text": [
            "Train, Epoch 7 / 20:  35%|███▍      | 543/1563 [00:22<00:41, 24.62it/s]"
          ]
        },
        {
          "output_type": "stream",
          "name": "stdout",
          "text": [
            "batch 540 loss: 0.27434066906571386\n"
          ]
        },
        {
          "output_type": "stream",
          "name": "stderr",
          "text": [
            "Train, Epoch 7 / 20:  36%|███▌      | 555/1563 [00:23<00:40, 24.84it/s]"
          ]
        },
        {
          "output_type": "stream",
          "name": "stdout",
          "text": [
            "batch 550 loss: 0.23378657288849353\n"
          ]
        },
        {
          "output_type": "stream",
          "name": "stderr",
          "text": [
            "Train, Epoch 7 / 20:  36%|███▌      | 564/1563 [00:23<00:40, 24.84it/s]"
          ]
        },
        {
          "output_type": "stream",
          "name": "stdout",
          "text": [
            "batch 560 loss: 0.3224261112511158\n"
          ]
        },
        {
          "output_type": "stream",
          "name": "stderr",
          "text": [
            "Train, Epoch 7 / 20:  37%|███▋      | 573/1563 [00:23<00:40, 24.55it/s]"
          ]
        },
        {
          "output_type": "stream",
          "name": "stdout",
          "text": [
            "batch 570 loss: 0.30980801954865456\n"
          ]
        },
        {
          "output_type": "stream",
          "name": "stderr",
          "text": [
            "Train, Epoch 7 / 20:  37%|███▋      | 582/1563 [00:24<00:42, 23.23it/s]"
          ]
        },
        {
          "output_type": "stream",
          "name": "stdout",
          "text": [
            "batch 580 loss: 0.3012402817606926\n"
          ]
        },
        {
          "output_type": "stream",
          "name": "stderr",
          "text": [
            "Train, Epoch 7 / 20:  38%|███▊      | 594/1563 [00:24<00:45, 21.32it/s]"
          ]
        },
        {
          "output_type": "stream",
          "name": "stdout",
          "text": [
            "batch 590 loss: 0.2630386658012867\n"
          ]
        },
        {
          "output_type": "stream",
          "name": "stderr",
          "text": [
            "Train, Epoch 7 / 20:  39%|███▊      | 603/1563 [00:25<00:44, 21.50it/s]"
          ]
        },
        {
          "output_type": "stream",
          "name": "stdout",
          "text": [
            "batch 600 loss: 0.2740949459373951\n"
          ]
        },
        {
          "output_type": "stream",
          "name": "stderr",
          "text": [
            "Train, Epoch 7 / 20:  39%|███▉      | 612/1563 [00:25<00:44, 21.47it/s]"
          ]
        },
        {
          "output_type": "stream",
          "name": "stdout",
          "text": [
            "batch 610 loss: 0.27282461524009705\n"
          ]
        },
        {
          "output_type": "stream",
          "name": "stderr",
          "text": [
            "Train, Epoch 7 / 20:  40%|███▉      | 624/1563 [00:26<00:42, 21.98it/s]"
          ]
        },
        {
          "output_type": "stream",
          "name": "stdout",
          "text": [
            "batch 620 loss: 0.2900268159806728\n"
          ]
        },
        {
          "output_type": "stream",
          "name": "stderr",
          "text": [
            "Train, Epoch 7 / 20:  40%|████      | 633/1563 [00:26<00:39, 23.60it/s]"
          ]
        },
        {
          "output_type": "stream",
          "name": "stdout",
          "text": [
            "batch 630 loss: 0.3054504066705704\n"
          ]
        },
        {
          "output_type": "stream",
          "name": "stderr",
          "text": [
            "Train, Epoch 7 / 20:  41%|████▏     | 645/1563 [00:26<00:37, 24.26it/s]"
          ]
        },
        {
          "output_type": "stream",
          "name": "stdout",
          "text": [
            "batch 640 loss: 0.3139794781804085\n"
          ]
        },
        {
          "output_type": "stream",
          "name": "stderr",
          "text": [
            "Train, Epoch 7 / 20:  42%|████▏     | 654/1563 [00:27<00:36, 24.67it/s]"
          ]
        },
        {
          "output_type": "stream",
          "name": "stdout",
          "text": [
            "batch 650 loss: 0.24160506017506123\n"
          ]
        },
        {
          "output_type": "stream",
          "name": "stderr",
          "text": [
            "Train, Epoch 7 / 20:  42%|████▏     | 663/1563 [00:27<00:36, 24.53it/s]"
          ]
        },
        {
          "output_type": "stream",
          "name": "stdout",
          "text": [
            "batch 660 loss: 0.3273476079106331\n"
          ]
        },
        {
          "output_type": "stream",
          "name": "stderr",
          "text": [
            "Train, Epoch 7 / 20:  43%|████▎     | 675/1563 [00:28<00:35, 24.85it/s]"
          ]
        },
        {
          "output_type": "stream",
          "name": "stdout",
          "text": [
            "batch 670 loss: 0.2723852418363094\n"
          ]
        },
        {
          "output_type": "stream",
          "name": "stderr",
          "text": [
            "Train, Epoch 7 / 20:  44%|████▍     | 684/1563 [00:28<00:35, 24.76it/s]"
          ]
        },
        {
          "output_type": "stream",
          "name": "stdout",
          "text": [
            "batch 680 loss: 0.24627701044082642\n"
          ]
        },
        {
          "output_type": "stream",
          "name": "stderr",
          "text": [
            "Train, Epoch 7 / 20:  44%|████▍     | 693/1563 [00:28<00:35, 24.66it/s]"
          ]
        },
        {
          "output_type": "stream",
          "name": "stdout",
          "text": [
            "batch 690 loss: 0.2852532431483269\n"
          ]
        },
        {
          "output_type": "stream",
          "name": "stderr",
          "text": [
            "Train, Epoch 7 / 20:  45%|████▍     | 702/1563 [00:29<00:34, 24.79it/s]"
          ]
        },
        {
          "output_type": "stream",
          "name": "stdout",
          "text": [
            "batch 700 loss: 0.31646292507648466\n"
          ]
        },
        {
          "output_type": "stream",
          "name": "stderr",
          "text": [
            "Train, Epoch 7 / 20:  46%|████▌     | 714/1563 [00:29<00:34, 24.77it/s]"
          ]
        },
        {
          "output_type": "stream",
          "name": "stdout",
          "text": [
            "batch 710 loss: 0.25649411231279373\n"
          ]
        },
        {
          "output_type": "stream",
          "name": "stderr",
          "text": [
            "Train, Epoch 7 / 20:  46%|████▋     | 723/1563 [00:30<00:34, 24.70it/s]"
          ]
        },
        {
          "output_type": "stream",
          "name": "stdout",
          "text": [
            "batch 720 loss: 0.25126215666532514\n"
          ]
        },
        {
          "output_type": "stream",
          "name": "stderr",
          "text": [
            "Train, Epoch 7 / 20:  47%|████▋     | 735/1563 [00:30<00:33, 24.72it/s]"
          ]
        },
        {
          "output_type": "stream",
          "name": "stdout",
          "text": [
            "batch 730 loss: 0.3453979939222336\n"
          ]
        },
        {
          "output_type": "stream",
          "name": "stderr",
          "text": [
            "Train, Epoch 7 / 20:  48%|████▊     | 744/1563 [00:31<00:33, 24.75it/s]"
          ]
        },
        {
          "output_type": "stream",
          "name": "stdout",
          "text": [
            "batch 740 loss: 0.25676259100437165\n"
          ]
        },
        {
          "output_type": "stream",
          "name": "stderr",
          "text": [
            "Train, Epoch 7 / 20:  48%|████▊     | 753/1563 [00:31<00:33, 24.51it/s]"
          ]
        },
        {
          "output_type": "stream",
          "name": "stdout",
          "text": [
            "batch 750 loss: 0.27038301043212415\n"
          ]
        },
        {
          "output_type": "stream",
          "name": "stderr",
          "text": [
            "Train, Epoch 7 / 20:  49%|████▉     | 765/1563 [00:31<00:32, 24.79it/s]"
          ]
        },
        {
          "output_type": "stream",
          "name": "stdout",
          "text": [
            "batch 760 loss: 0.34361653551459315\n"
          ]
        },
        {
          "output_type": "stream",
          "name": "stderr",
          "text": [
            "Train, Epoch 7 / 20:  50%|████▉     | 774/1563 [00:32<00:32, 24.65it/s]"
          ]
        },
        {
          "output_type": "stream",
          "name": "stdout",
          "text": [
            "batch 770 loss: 0.32428759187459943\n"
          ]
        },
        {
          "output_type": "stream",
          "name": "stderr",
          "text": [
            "Train, Epoch 7 / 20:  50%|█████     | 783/1563 [00:32<00:31, 24.52it/s]"
          ]
        },
        {
          "output_type": "stream",
          "name": "stdout",
          "text": [
            "batch 780 loss: 0.2765238516032696\n"
          ]
        },
        {
          "output_type": "stream",
          "name": "stderr",
          "text": [
            "Train, Epoch 7 / 20:  51%|█████     | 795/1563 [00:33<00:31, 24.66it/s]"
          ]
        },
        {
          "output_type": "stream",
          "name": "stdout",
          "text": [
            "batch 790 loss: 0.20477857291698456\n"
          ]
        },
        {
          "output_type": "stream",
          "name": "stderr",
          "text": [
            "Train, Epoch 7 / 20:  51%|█████▏    | 804/1563 [00:33<00:30, 24.79it/s]"
          ]
        },
        {
          "output_type": "stream",
          "name": "stdout",
          "text": [
            "batch 800 loss: 0.24279894679784775\n"
          ]
        },
        {
          "output_type": "stream",
          "name": "stderr",
          "text": [
            "Train, Epoch 7 / 20:  52%|█████▏    | 813/1563 [00:33<00:30, 24.72it/s]"
          ]
        },
        {
          "output_type": "stream",
          "name": "stdout",
          "text": [
            "batch 810 loss: 0.2010868787765503\n"
          ]
        },
        {
          "output_type": "stream",
          "name": "stderr",
          "text": [
            "Train, Epoch 7 / 20:  53%|█████▎    | 825/1563 [00:34<00:29, 24.82it/s]"
          ]
        },
        {
          "output_type": "stream",
          "name": "stdout",
          "text": [
            "batch 820 loss: 0.286409330368042\n"
          ]
        },
        {
          "output_type": "stream",
          "name": "stderr",
          "text": [
            "Train, Epoch 7 / 20:  53%|█████▎    | 834/1563 [00:34<00:29, 24.81it/s]"
          ]
        },
        {
          "output_type": "stream",
          "name": "stdout",
          "text": [
            "batch 830 loss: 0.27876108661293986\n"
          ]
        },
        {
          "output_type": "stream",
          "name": "stderr",
          "text": [
            "Train, Epoch 7 / 20:  54%|█████▍    | 843/1563 [00:35<00:29, 24.57it/s]"
          ]
        },
        {
          "output_type": "stream",
          "name": "stdout",
          "text": [
            "batch 840 loss: 0.24656605795025827\n"
          ]
        },
        {
          "output_type": "stream",
          "name": "stderr",
          "text": [
            "Train, Epoch 7 / 20:  55%|█████▍    | 855/1563 [00:35<00:28, 24.87it/s]"
          ]
        },
        {
          "output_type": "stream",
          "name": "stdout",
          "text": [
            "batch 850 loss: 0.3298284709453583\n"
          ]
        },
        {
          "output_type": "stream",
          "name": "stderr",
          "text": [
            "Train, Epoch 7 / 20:  55%|█████▌    | 864/1563 [00:35<00:28, 24.37it/s]"
          ]
        },
        {
          "output_type": "stream",
          "name": "stdout",
          "text": [
            "batch 860 loss: 0.2751151517033577\n"
          ]
        },
        {
          "output_type": "stream",
          "name": "stderr",
          "text": [
            "Train, Epoch 7 / 20:  56%|█████▌    | 873/1563 [00:36<00:29, 23.43it/s]"
          ]
        },
        {
          "output_type": "stream",
          "name": "stdout",
          "text": [
            "batch 870 loss: 0.2837721958756447\n"
          ]
        },
        {
          "output_type": "stream",
          "name": "stderr",
          "text": [
            "Train, Epoch 7 / 20:  56%|█████▋    | 882/1563 [00:36<00:31, 21.93it/s]"
          ]
        },
        {
          "output_type": "stream",
          "name": "stdout",
          "text": [
            "batch 880 loss: 0.30688548684120176\n"
          ]
        },
        {
          "output_type": "stream",
          "name": "stderr",
          "text": [
            "Train, Epoch 7 / 20:  57%|█████▋    | 894/1563 [00:37<00:30, 21.82it/s]"
          ]
        },
        {
          "output_type": "stream",
          "name": "stdout",
          "text": [
            "batch 890 loss: 0.3527737259864807\n"
          ]
        },
        {
          "output_type": "stream",
          "name": "stderr",
          "text": [
            "Train, Epoch 7 / 20:  58%|█████▊    | 903/1563 [00:37<00:29, 22.12it/s]"
          ]
        },
        {
          "output_type": "stream",
          "name": "stdout",
          "text": [
            "batch 900 loss: 0.3509263515472412\n"
          ]
        },
        {
          "output_type": "stream",
          "name": "stderr",
          "text": [
            "Train, Epoch 7 / 20:  58%|█████▊    | 912/1563 [00:38<00:30, 21.41it/s]"
          ]
        },
        {
          "output_type": "stream",
          "name": "stdout",
          "text": [
            "batch 910 loss: 0.2366989016532898\n"
          ]
        },
        {
          "output_type": "stream",
          "name": "stderr",
          "text": [
            "Train, Epoch 7 / 20:  59%|█████▉    | 924/1563 [00:38<00:27, 23.34it/s]"
          ]
        },
        {
          "output_type": "stream",
          "name": "stdout",
          "text": [
            "batch 920 loss: 0.2303773857653141\n"
          ]
        },
        {
          "output_type": "stream",
          "name": "stderr",
          "text": [
            "Train, Epoch 7 / 20:  60%|█████▉    | 933/1563 [00:38<00:26, 24.17it/s]"
          ]
        },
        {
          "output_type": "stream",
          "name": "stdout",
          "text": [
            "batch 930 loss: 0.29530925378203393\n"
          ]
        },
        {
          "output_type": "stream",
          "name": "stderr",
          "text": [
            "Train, Epoch 7 / 20:  60%|██████    | 945/1563 [00:39<00:25, 24.62it/s]"
          ]
        },
        {
          "output_type": "stream",
          "name": "stdout",
          "text": [
            "batch 940 loss: 0.2667640492320061\n"
          ]
        },
        {
          "output_type": "stream",
          "name": "stderr",
          "text": [
            "Train, Epoch 7 / 20:  61%|██████    | 954/1563 [00:39<00:24, 24.45it/s]"
          ]
        },
        {
          "output_type": "stream",
          "name": "stdout",
          "text": [
            "batch 950 loss: 0.29250601306557655\n"
          ]
        },
        {
          "output_type": "stream",
          "name": "stderr",
          "text": [
            "Train, Epoch 7 / 20:  62%|██████▏   | 963/1563 [00:40<00:24, 24.65it/s]"
          ]
        },
        {
          "output_type": "stream",
          "name": "stdout",
          "text": [
            "batch 960 loss: 0.29595649391412737\n"
          ]
        },
        {
          "output_type": "stream",
          "name": "stderr",
          "text": [
            "Train, Epoch 7 / 20:  62%|██████▏   | 975/1563 [00:40<00:23, 24.78it/s]"
          ]
        },
        {
          "output_type": "stream",
          "name": "stdout",
          "text": [
            "batch 970 loss: 0.2765043556690216\n"
          ]
        },
        {
          "output_type": "stream",
          "name": "stderr",
          "text": [
            "Train, Epoch 7 / 20:  63%|██████▎   | 984/1563 [00:41<00:23, 24.68it/s]"
          ]
        },
        {
          "output_type": "stream",
          "name": "stdout",
          "text": [
            "batch 980 loss: 0.45652770549058913\n"
          ]
        },
        {
          "output_type": "stream",
          "name": "stderr",
          "text": [
            "Train, Epoch 7 / 20:  64%|██████▎   | 993/1563 [00:41<00:23, 24.65it/s]"
          ]
        },
        {
          "output_type": "stream",
          "name": "stdout",
          "text": [
            "batch 990 loss: 0.2970050752162933\n"
          ]
        },
        {
          "output_type": "stream",
          "name": "stderr",
          "text": [
            "Train, Epoch 7 / 20:  64%|██████▍   | 1005/1563 [00:41<00:22, 24.49it/s]"
          ]
        },
        {
          "output_type": "stream",
          "name": "stdout",
          "text": [
            "batch 1000 loss: 0.33347136378288267\n"
          ]
        },
        {
          "output_type": "stream",
          "name": "stderr",
          "text": [
            "Train, Epoch 7 / 20:  65%|██████▍   | 1014/1563 [00:42<00:22, 24.65it/s]"
          ]
        },
        {
          "output_type": "stream",
          "name": "stdout",
          "text": [
            "batch 1010 loss: 0.2806257516145706\n"
          ]
        },
        {
          "output_type": "stream",
          "name": "stderr",
          "text": [
            "Train, Epoch 7 / 20:  65%|██████▌   | 1023/1563 [00:42<00:21, 24.70it/s]"
          ]
        },
        {
          "output_type": "stream",
          "name": "stdout",
          "text": [
            "batch 1020 loss: 0.2761934623122215\n"
          ]
        },
        {
          "output_type": "stream",
          "name": "stderr",
          "text": [
            "Train, Epoch 7 / 20:  66%|██████▌   | 1032/1563 [00:42<00:21, 24.73it/s]"
          ]
        },
        {
          "output_type": "stream",
          "name": "stdout",
          "text": [
            "batch 1030 loss: 0.296089930832386\n"
          ]
        },
        {
          "output_type": "stream",
          "name": "stderr",
          "text": [
            "Train, Epoch 7 / 20:  67%|██████▋   | 1044/1563 [00:43<00:20, 24.79it/s]"
          ]
        },
        {
          "output_type": "stream",
          "name": "stdout",
          "text": [
            "batch 1040 loss: 0.32471849769353867\n"
          ]
        },
        {
          "output_type": "stream",
          "name": "stderr",
          "text": [
            "Train, Epoch 7 / 20:  67%|██████▋   | 1053/1563 [00:43<00:20, 24.79it/s]"
          ]
        },
        {
          "output_type": "stream",
          "name": "stdout",
          "text": [
            "batch 1050 loss: 0.28662688210606574\n"
          ]
        },
        {
          "output_type": "stream",
          "name": "stderr",
          "text": [
            "Train, Epoch 7 / 20:  68%|██████▊   | 1065/1563 [00:44<00:20, 24.65it/s]"
          ]
        },
        {
          "output_type": "stream",
          "name": "stdout",
          "text": [
            "batch 1060 loss: 0.2827044792473316\n"
          ]
        },
        {
          "output_type": "stream",
          "name": "stderr",
          "text": [
            "Train, Epoch 7 / 20:  69%|██████▊   | 1074/1563 [00:44<00:19, 24.75it/s]"
          ]
        },
        {
          "output_type": "stream",
          "name": "stdout",
          "text": [
            "batch 1070 loss: 0.3178455628454685\n"
          ]
        },
        {
          "output_type": "stream",
          "name": "stderr",
          "text": [
            "Train, Epoch 7 / 20:  69%|██████▉   | 1083/1563 [00:45<00:19, 24.69it/s]"
          ]
        },
        {
          "output_type": "stream",
          "name": "stdout",
          "text": [
            "batch 1080 loss: 0.23633382469415665\n"
          ]
        },
        {
          "output_type": "stream",
          "name": "stderr",
          "text": [
            "Train, Epoch 7 / 20:  70%|███████   | 1095/1563 [00:45<00:18, 24.71it/s]"
          ]
        },
        {
          "output_type": "stream",
          "name": "stdout",
          "text": [
            "batch 1090 loss: 0.3674852207303047\n"
          ]
        },
        {
          "output_type": "stream",
          "name": "stderr",
          "text": [
            "Train, Epoch 7 / 20:  71%|███████   | 1104/1563 [00:45<00:18, 24.76it/s]"
          ]
        },
        {
          "output_type": "stream",
          "name": "stdout",
          "text": [
            "batch 1100 loss: 0.3070383921265602\n"
          ]
        },
        {
          "output_type": "stream",
          "name": "stderr",
          "text": [
            "Train, Epoch 7 / 20:  71%|███████   | 1113/1563 [00:46<00:18, 24.45it/s]"
          ]
        },
        {
          "output_type": "stream",
          "name": "stdout",
          "text": [
            "batch 1110 loss: 0.2991325527429581\n"
          ]
        },
        {
          "output_type": "stream",
          "name": "stderr",
          "text": [
            "Train, Epoch 7 / 20:  72%|███████▏  | 1125/1563 [00:46<00:17, 24.74it/s]"
          ]
        },
        {
          "output_type": "stream",
          "name": "stdout",
          "text": [
            "batch 1120 loss: 0.2704943247139454\n"
          ]
        },
        {
          "output_type": "stream",
          "name": "stderr",
          "text": [
            "Train, Epoch 7 / 20:  73%|███████▎  | 1134/1563 [00:47<00:17, 23.86it/s]"
          ]
        },
        {
          "output_type": "stream",
          "name": "stdout",
          "text": [
            "batch 1130 loss: 0.28413676619529726\n"
          ]
        },
        {
          "output_type": "stream",
          "name": "stderr",
          "text": [
            "Train, Epoch 7 / 20:  73%|███████▎  | 1143/1563 [00:47<00:17, 24.30it/s]"
          ]
        },
        {
          "output_type": "stream",
          "name": "stdout",
          "text": [
            "batch 1140 loss: 0.23247253149747849\n"
          ]
        },
        {
          "output_type": "stream",
          "name": "stderr",
          "text": [
            "Train, Epoch 7 / 20:  74%|███████▍  | 1155/1563 [00:48<00:16, 24.73it/s]"
          ]
        },
        {
          "output_type": "stream",
          "name": "stdout",
          "text": [
            "batch 1150 loss: 0.3105552069842815\n"
          ]
        },
        {
          "output_type": "stream",
          "name": "stderr",
          "text": [
            "Train, Epoch 7 / 20:  74%|███████▍  | 1164/1563 [00:48<00:16, 23.79it/s]"
          ]
        },
        {
          "output_type": "stream",
          "name": "stdout",
          "text": [
            "batch 1160 loss: 0.29286505207419394\n"
          ]
        },
        {
          "output_type": "stream",
          "name": "stderr",
          "text": [
            "Train, Epoch 7 / 20:  75%|███████▌  | 1173/1563 [00:48<00:17, 22.07it/s]"
          ]
        },
        {
          "output_type": "stream",
          "name": "stdout",
          "text": [
            "batch 1170 loss: 0.2878207892179489\n"
          ]
        },
        {
          "output_type": "stream",
          "name": "stderr",
          "text": [
            "Train, Epoch 7 / 20:  76%|███████▌  | 1182/1563 [00:49<00:17, 21.27it/s]"
          ]
        },
        {
          "output_type": "stream",
          "name": "stdout",
          "text": [
            "batch 1180 loss: 0.28392836898565293\n"
          ]
        },
        {
          "output_type": "stream",
          "name": "stderr",
          "text": [
            "Train, Epoch 7 / 20:  76%|███████▋  | 1194/1563 [00:49<00:17, 21.43it/s]"
          ]
        },
        {
          "output_type": "stream",
          "name": "stdout",
          "text": [
            "batch 1190 loss: 0.2928843282163143\n"
          ]
        },
        {
          "output_type": "stream",
          "name": "stderr",
          "text": [
            "Train, Epoch 7 / 20:  77%|███████▋  | 1203/1563 [00:50<00:16, 21.41it/s]"
          ]
        },
        {
          "output_type": "stream",
          "name": "stdout",
          "text": [
            "batch 1200 loss: 0.4000027760863304\n"
          ]
        },
        {
          "output_type": "stream",
          "name": "stderr",
          "text": [
            "Train, Epoch 7 / 20:  78%|███████▊  | 1215/1563 [00:50<00:15, 22.68it/s]"
          ]
        },
        {
          "output_type": "stream",
          "name": "stdout",
          "text": [
            "batch 1210 loss: 0.3304890044033527\n"
          ]
        },
        {
          "output_type": "stream",
          "name": "stderr",
          "text": [
            "Train, Epoch 7 / 20:  78%|███████▊  | 1224/1563 [00:51<00:14, 23.95it/s]"
          ]
        },
        {
          "output_type": "stream",
          "name": "stdout",
          "text": [
            "batch 1220 loss: 0.304067013412714\n"
          ]
        },
        {
          "output_type": "stream",
          "name": "stderr",
          "text": [
            "Train, Epoch 7 / 20:  79%|███████▉  | 1233/1563 [00:51<00:13, 24.21it/s]"
          ]
        },
        {
          "output_type": "stream",
          "name": "stdout",
          "text": [
            "batch 1230 loss: 0.30746866166591647\n"
          ]
        },
        {
          "output_type": "stream",
          "name": "stderr",
          "text": [
            "Train, Epoch 7 / 20:  80%|███████▉  | 1245/1563 [00:51<00:12, 24.79it/s]"
          ]
        },
        {
          "output_type": "stream",
          "name": "stdout",
          "text": [
            "batch 1240 loss: 0.2900254651904106\n"
          ]
        },
        {
          "output_type": "stream",
          "name": "stderr",
          "text": [
            "Train, Epoch 7 / 20:  80%|████████  | 1254/1563 [00:52<00:12, 24.64it/s]"
          ]
        },
        {
          "output_type": "stream",
          "name": "stdout",
          "text": [
            "batch 1250 loss: 0.2638028673827648\n"
          ]
        },
        {
          "output_type": "stream",
          "name": "stderr",
          "text": [
            "Train, Epoch 7 / 20:  81%|████████  | 1263/1563 [00:52<00:12, 24.84it/s]"
          ]
        },
        {
          "output_type": "stream",
          "name": "stdout",
          "text": [
            "batch 1260 loss: 0.26901416331529615\n"
          ]
        },
        {
          "output_type": "stream",
          "name": "stderr",
          "text": [
            "Train, Epoch 7 / 20:  82%|████████▏ | 1275/1563 [00:53<00:11, 24.70it/s]"
          ]
        },
        {
          "output_type": "stream",
          "name": "stdout",
          "text": [
            "batch 1270 loss: 0.2349069558084011\n"
          ]
        },
        {
          "output_type": "stream",
          "name": "stderr",
          "text": [
            "Train, Epoch 7 / 20:  82%|████████▏ | 1284/1563 [00:53<00:11, 24.64it/s]"
          ]
        },
        {
          "output_type": "stream",
          "name": "stdout",
          "text": [
            "batch 1280 loss: 0.26080356240272523\n"
          ]
        },
        {
          "output_type": "stream",
          "name": "stderr",
          "text": [
            "Train, Epoch 7 / 20:  83%|████████▎ | 1293/1563 [00:53<00:10, 24.66it/s]"
          ]
        },
        {
          "output_type": "stream",
          "name": "stdout",
          "text": [
            "batch 1290 loss: 0.2926682695746422\n"
          ]
        },
        {
          "output_type": "stream",
          "name": "stderr",
          "text": [
            "Train, Epoch 7 / 20:  83%|████████▎ | 1305/1563 [00:54<00:10, 24.69it/s]"
          ]
        },
        {
          "output_type": "stream",
          "name": "stdout",
          "text": [
            "batch 1300 loss: 0.29139201939105985\n"
          ]
        },
        {
          "output_type": "stream",
          "name": "stderr",
          "text": [
            "Train, Epoch 7 / 20:  84%|████████▍ | 1314/1563 [00:54<00:10, 24.50it/s]"
          ]
        },
        {
          "output_type": "stream",
          "name": "stdout",
          "text": [
            "batch 1310 loss: 0.24769603163003923\n"
          ]
        },
        {
          "output_type": "stream",
          "name": "stderr",
          "text": [
            "Train, Epoch 7 / 20:  85%|████████▍ | 1323/1563 [00:55<00:09, 24.59it/s]"
          ]
        },
        {
          "output_type": "stream",
          "name": "stdout",
          "text": [
            "batch 1320 loss: 0.3087778702378273\n"
          ]
        },
        {
          "output_type": "stream",
          "name": "stderr",
          "text": [
            "Train, Epoch 7 / 20:  85%|████████▌ | 1335/1563 [00:55<00:09, 24.34it/s]"
          ]
        },
        {
          "output_type": "stream",
          "name": "stdout",
          "text": [
            "batch 1330 loss: 0.24707295894622802\n"
          ]
        },
        {
          "output_type": "stream",
          "name": "stderr",
          "text": [
            "Train, Epoch 7 / 20:  86%|████████▌ | 1344/1563 [00:56<00:08, 24.62it/s]"
          ]
        },
        {
          "output_type": "stream",
          "name": "stdout",
          "text": [
            "batch 1340 loss: 0.35396951287984846\n"
          ]
        },
        {
          "output_type": "stream",
          "name": "stderr",
          "text": [
            "Train, Epoch 7 / 20:  87%|████████▋ | 1353/1563 [00:56<00:08, 23.93it/s]"
          ]
        },
        {
          "output_type": "stream",
          "name": "stdout",
          "text": [
            "batch 1350 loss: 0.41144015192985534\n"
          ]
        },
        {
          "output_type": "stream",
          "name": "stderr",
          "text": [
            "Train, Epoch 7 / 20:  87%|████████▋ | 1365/1563 [00:56<00:08, 24.61it/s]"
          ]
        },
        {
          "output_type": "stream",
          "name": "stdout",
          "text": [
            "batch 1360 loss: 0.3032369360327721\n"
          ]
        },
        {
          "output_type": "stream",
          "name": "stderr",
          "text": [
            "Train, Epoch 7 / 20:  88%|████████▊ | 1374/1563 [00:57<00:07, 24.76it/s]"
          ]
        },
        {
          "output_type": "stream",
          "name": "stdout",
          "text": [
            "batch 1370 loss: 0.24177702963352204\n"
          ]
        },
        {
          "output_type": "stream",
          "name": "stderr",
          "text": [
            "Train, Epoch 7 / 20:  88%|████████▊ | 1383/1563 [00:57<00:07, 24.23it/s]"
          ]
        },
        {
          "output_type": "stream",
          "name": "stdout",
          "text": [
            "batch 1380 loss: 0.31579920575022696\n"
          ]
        },
        {
          "output_type": "stream",
          "name": "stderr",
          "text": [
            "Train, Epoch 7 / 20:  89%|████████▉ | 1395/1563 [00:58<00:06, 24.53it/s]"
          ]
        },
        {
          "output_type": "stream",
          "name": "stdout",
          "text": [
            "batch 1390 loss: 0.3214674010872841\n"
          ]
        },
        {
          "output_type": "stream",
          "name": "stderr",
          "text": [
            "Train, Epoch 7 / 20:  90%|████████▉ | 1404/1563 [00:58<00:06, 24.48it/s]"
          ]
        },
        {
          "output_type": "stream",
          "name": "stdout",
          "text": [
            "batch 1400 loss: 0.2924426689743996\n"
          ]
        },
        {
          "output_type": "stream",
          "name": "stderr",
          "text": [
            "Train, Epoch 7 / 20:  90%|█████████ | 1413/1563 [00:58<00:06, 24.70it/s]"
          ]
        },
        {
          "output_type": "stream",
          "name": "stdout",
          "text": [
            "batch 1410 loss: 0.3655315116047859\n"
          ]
        },
        {
          "output_type": "stream",
          "name": "stderr",
          "text": [
            "Train, Epoch 7 / 20:  91%|█████████ | 1425/1563 [00:59<00:05, 24.67it/s]"
          ]
        },
        {
          "output_type": "stream",
          "name": "stdout",
          "text": [
            "batch 1420 loss: 0.3319954439997673\n"
          ]
        },
        {
          "output_type": "stream",
          "name": "stderr",
          "text": [
            "Train, Epoch 7 / 20:  92%|█████████▏| 1434/1563 [00:59<00:05, 24.71it/s]"
          ]
        },
        {
          "output_type": "stream",
          "name": "stdout",
          "text": [
            "batch 1430 loss: 0.31423617005348203\n"
          ]
        },
        {
          "output_type": "stream",
          "name": "stderr",
          "text": [
            "Train, Epoch 7 / 20:  92%|█████████▏| 1443/1563 [01:00<00:04, 24.92it/s]"
          ]
        },
        {
          "output_type": "stream",
          "name": "stdout",
          "text": [
            "batch 1440 loss: 0.3121711567044258\n"
          ]
        },
        {
          "output_type": "stream",
          "name": "stderr",
          "text": [
            "Train, Epoch 7 / 20:  93%|█████████▎| 1452/1563 [01:00<00:04, 24.82it/s]"
          ]
        },
        {
          "output_type": "stream",
          "name": "stdout",
          "text": [
            "batch 1450 loss: 0.25913549289107324\n"
          ]
        },
        {
          "output_type": "stream",
          "name": "stderr",
          "text": [
            "Train, Epoch 7 / 20:  94%|█████████▎| 1464/1563 [01:00<00:04, 22.99it/s]"
          ]
        },
        {
          "output_type": "stream",
          "name": "stdout",
          "text": [
            "batch 1460 loss: 0.31673028618097304\n"
          ]
        },
        {
          "output_type": "stream",
          "name": "stderr",
          "text": [
            "Train, Epoch 7 / 20:  94%|█████████▍| 1473/1563 [01:01<00:04, 22.12it/s]"
          ]
        },
        {
          "output_type": "stream",
          "name": "stdout",
          "text": [
            "batch 1470 loss: 0.24625298231840134\n"
          ]
        },
        {
          "output_type": "stream",
          "name": "stderr",
          "text": [
            "Train, Epoch 7 / 20:  95%|█████████▍| 1482/1563 [01:01<00:03, 22.20it/s]"
          ]
        },
        {
          "output_type": "stream",
          "name": "stdout",
          "text": [
            "batch 1480 loss: 0.26133751720190046\n"
          ]
        },
        {
          "output_type": "stream",
          "name": "stderr",
          "text": [
            "Train, Epoch 7 / 20:  96%|█████████▌| 1494/1563 [01:02<00:03, 22.44it/s]"
          ]
        },
        {
          "output_type": "stream",
          "name": "stdout",
          "text": [
            "batch 1490 loss: 0.32195444256067274\n"
          ]
        },
        {
          "output_type": "stream",
          "name": "stderr",
          "text": [
            "Train, Epoch 7 / 20:  96%|█████████▌| 1503/1563 [01:02<00:02, 20.83it/s]"
          ]
        },
        {
          "output_type": "stream",
          "name": "stdout",
          "text": [
            "batch 1500 loss: 0.33642530292272566\n"
          ]
        },
        {
          "output_type": "stream",
          "name": "stderr",
          "text": [
            "Train, Epoch 7 / 20:  97%|█████████▋| 1515/1563 [01:03<00:02, 22.93it/s]"
          ]
        },
        {
          "output_type": "stream",
          "name": "stdout",
          "text": [
            "batch 1510 loss: 0.2399849072098732\n"
          ]
        },
        {
          "output_type": "stream",
          "name": "stderr",
          "text": [
            "Train, Epoch 7 / 20:  98%|█████████▊| 1524/1563 [01:03<00:01, 23.97it/s]"
          ]
        },
        {
          "output_type": "stream",
          "name": "stdout",
          "text": [
            "batch 1520 loss: 0.19687778651714324\n"
          ]
        },
        {
          "output_type": "stream",
          "name": "stderr",
          "text": [
            "Train, Epoch 7 / 20:  98%|█████████▊| 1533/1563 [01:04<00:01, 24.47it/s]"
          ]
        },
        {
          "output_type": "stream",
          "name": "stdout",
          "text": [
            "batch 1530 loss: 0.2064802635461092\n"
          ]
        },
        {
          "output_type": "stream",
          "name": "stderr",
          "text": [
            "Train, Epoch 7 / 20:  99%|█████████▉| 1545/1563 [01:04<00:00, 24.83it/s]"
          ]
        },
        {
          "output_type": "stream",
          "name": "stdout",
          "text": [
            "batch 1540 loss: 0.279713749140501\n"
          ]
        },
        {
          "output_type": "stream",
          "name": "stderr",
          "text": [
            "Train, Epoch 7 / 20:  99%|█████████▉| 1554/1563 [01:04<00:00, 24.79it/s]"
          ]
        },
        {
          "output_type": "stream",
          "name": "stdout",
          "text": [
            "batch 1550 loss: 0.2788370862603188\n"
          ]
        },
        {
          "output_type": "stream",
          "name": "stderr",
          "text": [
            "Train, Epoch 7 / 20: 100%|██████████| 1563/1563 [01:05<00:00, 23.97it/s]\n"
          ]
        },
        {
          "output_type": "stream",
          "name": "stdout",
          "text": [
            "batch 1560 loss: 0.3233940973877907\n"
          ]
        },
        {
          "output_type": "stream",
          "name": "stderr",
          "text": [
            "Test, Epoch 7 / 20: 100%|██████████| 1563/1563 [00:29<00:00, 52.61it/s]\n"
          ]
        },
        {
          "output_type": "stream",
          "name": "stdout",
          "text": [
            "Epoch 7, loss: 0.47272218555301426, accuracy: 0.79976\n"
          ]
        },
        {
          "output_type": "stream",
          "name": "stderr",
          "text": [
            "Train, Epoch 8 / 20:   1%|          | 12/1563 [00:00<01:03, 24.51it/s]"
          ]
        },
        {
          "output_type": "stream",
          "name": "stdout",
          "text": [
            "batch 10 loss: 0.25516330190002917\n"
          ]
        },
        {
          "output_type": "stream",
          "name": "stderr",
          "text": [
            "Train, Epoch 8 / 20:   2%|▏         | 24/1563 [00:00<01:02, 24.59it/s]"
          ]
        },
        {
          "output_type": "stream",
          "name": "stdout",
          "text": [
            "batch 20 loss: 0.27033828794956205\n"
          ]
        },
        {
          "output_type": "stream",
          "name": "stderr",
          "text": [
            "Train, Epoch 8 / 20:   2%|▏         | 33/1563 [00:01<01:01, 24.77it/s]"
          ]
        },
        {
          "output_type": "stream",
          "name": "stdout",
          "text": [
            "batch 30 loss: 0.2538119211792946\n"
          ]
        },
        {
          "output_type": "stream",
          "name": "stderr",
          "text": [
            "Train, Epoch 8 / 20:   3%|▎         | 45/1563 [00:01<01:01, 24.70it/s]"
          ]
        },
        {
          "output_type": "stream",
          "name": "stdout",
          "text": [
            "batch 40 loss: 0.3092827916145325\n"
          ]
        },
        {
          "output_type": "stream",
          "name": "stderr",
          "text": [
            "Train, Epoch 8 / 20:   3%|▎         | 54/1563 [00:02<01:00, 24.76it/s]"
          ]
        },
        {
          "output_type": "stream",
          "name": "stdout",
          "text": [
            "batch 50 loss: 0.3023091807961464\n"
          ]
        },
        {
          "output_type": "stream",
          "name": "stderr",
          "text": [
            "Train, Epoch 8 / 20:   4%|▍         | 63/1563 [00:02<01:02, 24.08it/s]"
          ]
        },
        {
          "output_type": "stream",
          "name": "stdout",
          "text": [
            "batch 60 loss: 0.25344905331730844\n"
          ]
        },
        {
          "output_type": "stream",
          "name": "stderr",
          "text": [
            "Train, Epoch 8 / 20:   5%|▍         | 72/1563 [00:02<01:05, 22.81it/s]"
          ]
        },
        {
          "output_type": "stream",
          "name": "stdout",
          "text": [
            "batch 70 loss: 0.3419714167714119\n"
          ]
        },
        {
          "output_type": "stream",
          "name": "stderr",
          "text": [
            "Train, Epoch 8 / 20:   5%|▌         | 84/1563 [00:03<01:07, 21.98it/s]"
          ]
        },
        {
          "output_type": "stream",
          "name": "stdout",
          "text": [
            "batch 80 loss: 0.38235448151826856\n"
          ]
        },
        {
          "output_type": "stream",
          "name": "stderr",
          "text": [
            "Train, Epoch 8 / 20:   6%|▌         | 93/1563 [00:03<01:05, 22.50it/s]"
          ]
        },
        {
          "output_type": "stream",
          "name": "stdout",
          "text": [
            "batch 90 loss: 0.25503516644239427\n"
          ]
        },
        {
          "output_type": "stream",
          "name": "stderr",
          "text": [
            "Train, Epoch 8 / 20:   7%|▋         | 102/1563 [00:04<01:07, 21.52it/s]"
          ]
        },
        {
          "output_type": "stream",
          "name": "stdout",
          "text": [
            "batch 100 loss: 0.2992377296090126\n"
          ]
        },
        {
          "output_type": "stream",
          "name": "stderr",
          "text": [
            "Train, Epoch 8 / 20:   7%|▋         | 114/1563 [00:04<01:05, 22.20it/s]"
          ]
        },
        {
          "output_type": "stream",
          "name": "stdout",
          "text": [
            "batch 110 loss: 0.24519265368580817\n"
          ]
        },
        {
          "output_type": "stream",
          "name": "stderr",
          "text": [
            "Train, Epoch 8 / 20:   8%|▊         | 123/1563 [00:05<01:00, 23.94it/s]"
          ]
        },
        {
          "output_type": "stream",
          "name": "stdout",
          "text": [
            "batch 120 loss: 0.25348447188735007\n"
          ]
        },
        {
          "output_type": "stream",
          "name": "stderr",
          "text": [
            "Train, Epoch 8 / 20:   8%|▊         | 132/1563 [00:05<00:58, 24.30it/s]"
          ]
        },
        {
          "output_type": "stream",
          "name": "stdout",
          "text": [
            "batch 130 loss: 0.23586399406194686\n"
          ]
        },
        {
          "output_type": "stream",
          "name": "stderr",
          "text": [
            "Train, Epoch 8 / 20:   9%|▉         | 144/1563 [00:06<00:57, 24.59it/s]"
          ]
        },
        {
          "output_type": "stream",
          "name": "stdout",
          "text": [
            "batch 140 loss: 0.2851927302777767\n"
          ]
        },
        {
          "output_type": "stream",
          "name": "stderr",
          "text": [
            "Train, Epoch 8 / 20:  10%|▉         | 153/1563 [00:06<00:56, 24.74it/s]"
          ]
        },
        {
          "output_type": "stream",
          "name": "stdout",
          "text": [
            "batch 150 loss: 0.24117894768714904\n"
          ]
        },
        {
          "output_type": "stream",
          "name": "stderr",
          "text": [
            "Train, Epoch 8 / 20:  11%|█         | 165/1563 [00:06<00:56, 24.88it/s]"
          ]
        },
        {
          "output_type": "stream",
          "name": "stdout",
          "text": [
            "batch 160 loss: 0.22350343838334083\n"
          ]
        },
        {
          "output_type": "stream",
          "name": "stderr",
          "text": [
            "Train, Epoch 8 / 20:  11%|█         | 174/1563 [00:07<00:55, 24.88it/s]"
          ]
        },
        {
          "output_type": "stream",
          "name": "stdout",
          "text": [
            "batch 170 loss: 0.38614930063486097\n"
          ]
        },
        {
          "output_type": "stream",
          "name": "stderr",
          "text": [
            "Train, Epoch 8 / 20:  12%|█▏        | 183/1563 [00:07<00:55, 24.74it/s]"
          ]
        },
        {
          "output_type": "stream",
          "name": "stdout",
          "text": [
            "batch 180 loss: 0.4106637969613075\n"
          ]
        },
        {
          "output_type": "stream",
          "name": "stderr",
          "text": [
            "Train, Epoch 8 / 20:  12%|█▏        | 195/1563 [00:08<00:55, 24.80it/s]"
          ]
        },
        {
          "output_type": "stream",
          "name": "stdout",
          "text": [
            "batch 190 loss: 0.3528593711555004\n"
          ]
        },
        {
          "output_type": "stream",
          "name": "stderr",
          "text": [
            "Train, Epoch 8 / 20:  13%|█▎        | 204/1563 [00:08<00:54, 24.79it/s]"
          ]
        },
        {
          "output_type": "stream",
          "name": "stdout",
          "text": [
            "batch 200 loss: 0.29560487642884253\n"
          ]
        },
        {
          "output_type": "stream",
          "name": "stderr",
          "text": [
            "Train, Epoch 8 / 20:  14%|█▎        | 213/1563 [00:08<00:54, 24.62it/s]"
          ]
        },
        {
          "output_type": "stream",
          "name": "stdout",
          "text": [
            "batch 210 loss: 0.2896487519145012\n"
          ]
        },
        {
          "output_type": "stream",
          "name": "stderr",
          "text": [
            "Train, Epoch 8 / 20:  14%|█▍        | 225/1563 [00:09<00:53, 24.88it/s]"
          ]
        },
        {
          "output_type": "stream",
          "name": "stdout",
          "text": [
            "batch 220 loss: 0.2652461126446724\n"
          ]
        },
        {
          "output_type": "stream",
          "name": "stderr",
          "text": [
            "Train, Epoch 8 / 20:  15%|█▍        | 234/1563 [00:09<00:54, 24.35it/s]"
          ]
        },
        {
          "output_type": "stream",
          "name": "stdout",
          "text": [
            "batch 230 loss: 0.33393368124961853\n"
          ]
        },
        {
          "output_type": "stream",
          "name": "stderr",
          "text": [
            "Train, Epoch 8 / 20:  16%|█▌        | 243/1563 [00:10<00:53, 24.69it/s]"
          ]
        },
        {
          "output_type": "stream",
          "name": "stdout",
          "text": [
            "batch 240 loss: 0.22345369383692743\n"
          ]
        },
        {
          "output_type": "stream",
          "name": "stderr",
          "text": [
            "Train, Epoch 8 / 20:  16%|█▋        | 255/1563 [00:10<00:52, 24.86it/s]"
          ]
        },
        {
          "output_type": "stream",
          "name": "stdout",
          "text": [
            "batch 250 loss: 0.24454424232244493\n"
          ]
        },
        {
          "output_type": "stream",
          "name": "stderr",
          "text": [
            "Train, Epoch 8 / 20:  17%|█▋        | 264/1563 [00:10<00:53, 24.51it/s]"
          ]
        },
        {
          "output_type": "stream",
          "name": "stdout",
          "text": [
            "batch 260 loss: 0.28898887038230897\n"
          ]
        },
        {
          "output_type": "stream",
          "name": "stderr",
          "text": [
            "Train, Epoch 8 / 20:  17%|█▋        | 273/1563 [00:11<00:52, 24.56it/s]"
          ]
        },
        {
          "output_type": "stream",
          "name": "stdout",
          "text": [
            "batch 270 loss: 0.20319241806864738\n"
          ]
        },
        {
          "output_type": "stream",
          "name": "stderr",
          "text": [
            "Train, Epoch 8 / 20:  18%|█▊        | 282/1563 [00:11<00:52, 24.45it/s]"
          ]
        },
        {
          "output_type": "stream",
          "name": "stdout",
          "text": [
            "batch 280 loss: 0.21389754712581635\n"
          ]
        },
        {
          "output_type": "stream",
          "name": "stderr",
          "text": [
            "Train, Epoch 8 / 20:  19%|█▉        | 294/1563 [00:12<00:51, 24.63it/s]"
          ]
        },
        {
          "output_type": "stream",
          "name": "stdout",
          "text": [
            "batch 290 loss: 0.23527833372354506\n"
          ]
        },
        {
          "output_type": "stream",
          "name": "stderr",
          "text": [
            "Train, Epoch 8 / 20:  19%|█▉        | 303/1563 [00:12<00:50, 24.74it/s]"
          ]
        },
        {
          "output_type": "stream",
          "name": "stdout",
          "text": [
            "batch 300 loss: 0.28346753790974616\n"
          ]
        },
        {
          "output_type": "stream",
          "name": "stderr",
          "text": [
            "Train, Epoch 8 / 20:  20%|██        | 315/1563 [00:13<00:50, 24.83it/s]"
          ]
        },
        {
          "output_type": "stream",
          "name": "stdout",
          "text": [
            "batch 310 loss: 0.2959387909621\n"
          ]
        },
        {
          "output_type": "stream",
          "name": "stderr",
          "text": [
            "Train, Epoch 8 / 20:  21%|██        | 324/1563 [00:13<00:50, 24.58it/s]"
          ]
        },
        {
          "output_type": "stream",
          "name": "stdout",
          "text": [
            "batch 320 loss: 0.34895150288939475\n"
          ]
        },
        {
          "output_type": "stream",
          "name": "stderr",
          "text": [
            "Train, Epoch 8 / 20:  21%|██▏       | 333/1563 [00:13<00:49, 24.65it/s]"
          ]
        },
        {
          "output_type": "stream",
          "name": "stdout",
          "text": [
            "batch 330 loss: 0.2979867160320282\n"
          ]
        },
        {
          "output_type": "stream",
          "name": "stderr",
          "text": [
            "Train, Epoch 8 / 20:  22%|██▏       | 345/1563 [00:14<00:48, 24.89it/s]"
          ]
        },
        {
          "output_type": "stream",
          "name": "stdout",
          "text": [
            "batch 340 loss: 0.28066085278987885\n"
          ]
        },
        {
          "output_type": "stream",
          "name": "stderr",
          "text": [
            "Train, Epoch 8 / 20:  23%|██▎       | 354/1563 [00:14<00:48, 24.79it/s]"
          ]
        },
        {
          "output_type": "stream",
          "name": "stdout",
          "text": [
            "batch 350 loss: 0.24434819296002389\n"
          ]
        },
        {
          "output_type": "stream",
          "name": "stderr",
          "text": [
            "Train, Epoch 8 / 20:  23%|██▎       | 363/1563 [00:15<00:51, 23.29it/s]"
          ]
        },
        {
          "output_type": "stream",
          "name": "stdout",
          "text": [
            "batch 360 loss: 0.36763903945684434\n"
          ]
        },
        {
          "output_type": "stream",
          "name": "stderr",
          "text": [
            "Train, Epoch 8 / 20:  24%|██▍       | 372/1563 [00:15<00:56, 21.16it/s]"
          ]
        },
        {
          "output_type": "stream",
          "name": "stdout",
          "text": [
            "batch 370 loss: 0.273877902328968\n"
          ]
        },
        {
          "output_type": "stream",
          "name": "stderr",
          "text": [
            "Train, Epoch 8 / 20:  25%|██▍       | 384/1563 [00:16<00:54, 21.63it/s]"
          ]
        },
        {
          "output_type": "stream",
          "name": "stdout",
          "text": [
            "batch 380 loss: 0.20798442140221596\n"
          ]
        },
        {
          "output_type": "stream",
          "name": "stderr",
          "text": [
            "Train, Epoch 8 / 20:  25%|██▌       | 393/1563 [00:16<00:52, 22.46it/s]"
          ]
        },
        {
          "output_type": "stream",
          "name": "stdout",
          "text": [
            "batch 390 loss: 0.2414885487407446\n"
          ]
        },
        {
          "output_type": "stream",
          "name": "stderr",
          "text": [
            "Train, Epoch 8 / 20:  26%|██▌       | 402/1563 [00:16<00:54, 21.23it/s]"
          ]
        },
        {
          "output_type": "stream",
          "name": "stdout",
          "text": [
            "batch 400 loss: 0.31751308441162107\n"
          ]
        },
        {
          "output_type": "stream",
          "name": "stderr",
          "text": [
            "Train, Epoch 8 / 20:  26%|██▋       | 414/1563 [00:17<00:51, 22.44it/s]"
          ]
        },
        {
          "output_type": "stream",
          "name": "stdout",
          "text": [
            "batch 410 loss: 0.32414280660450456\n"
          ]
        },
        {
          "output_type": "stream",
          "name": "stderr",
          "text": [
            "Train, Epoch 8 / 20:  27%|██▋       | 423/1563 [00:17<00:47, 23.77it/s]"
          ]
        },
        {
          "output_type": "stream",
          "name": "stdout",
          "text": [
            "batch 420 loss: 0.33927521109580994\n"
          ]
        },
        {
          "output_type": "stream",
          "name": "stderr",
          "text": [
            "Train, Epoch 8 / 20:  28%|██▊       | 435/1563 [00:18<00:45, 24.60it/s]"
          ]
        },
        {
          "output_type": "stream",
          "name": "stdout",
          "text": [
            "batch 430 loss: 0.2621593102812767\n"
          ]
        },
        {
          "output_type": "stream",
          "name": "stderr",
          "text": [
            "Train, Epoch 8 / 20:  28%|██▊       | 444/1563 [00:18<00:45, 24.78it/s]"
          ]
        },
        {
          "output_type": "stream",
          "name": "stdout",
          "text": [
            "batch 440 loss: 0.3117008492350578\n"
          ]
        },
        {
          "output_type": "stream",
          "name": "stderr",
          "text": [
            "Train, Epoch 8 / 20:  29%|██▉       | 453/1563 [00:18<00:45, 24.63it/s]"
          ]
        },
        {
          "output_type": "stream",
          "name": "stdout",
          "text": [
            "batch 450 loss: 0.2554462157189846\n"
          ]
        },
        {
          "output_type": "stream",
          "name": "stderr",
          "text": [
            "Train, Epoch 8 / 20:  30%|██▉       | 465/1563 [00:19<00:44, 24.76it/s]"
          ]
        },
        {
          "output_type": "stream",
          "name": "stdout",
          "text": [
            "batch 460 loss: 0.31876165270805357\n"
          ]
        },
        {
          "output_type": "stream",
          "name": "stderr",
          "text": [
            "Train, Epoch 8 / 20:  30%|███       | 474/1563 [00:19<00:44, 24.61it/s]"
          ]
        },
        {
          "output_type": "stream",
          "name": "stdout",
          "text": [
            "batch 470 loss: 0.2585930600762367\n"
          ]
        },
        {
          "output_type": "stream",
          "name": "stderr",
          "text": [
            "Train, Epoch 8 / 20:  31%|███       | 483/1563 [00:20<00:44, 24.46it/s]"
          ]
        },
        {
          "output_type": "stream",
          "name": "stdout",
          "text": [
            "batch 480 loss: 0.3283442385494709\n"
          ]
        },
        {
          "output_type": "stream",
          "name": "stderr",
          "text": [
            "Train, Epoch 8 / 20:  32%|███▏      | 495/1563 [00:20<00:42, 24.98it/s]"
          ]
        },
        {
          "output_type": "stream",
          "name": "stdout",
          "text": [
            "batch 490 loss: 0.2771469585597515\n"
          ]
        },
        {
          "output_type": "stream",
          "name": "stderr",
          "text": [
            "Train, Epoch 8 / 20:  32%|███▏      | 504/1563 [00:21<00:42, 24.90it/s]"
          ]
        },
        {
          "output_type": "stream",
          "name": "stdout",
          "text": [
            "batch 500 loss: 0.291900584846735\n"
          ]
        },
        {
          "output_type": "stream",
          "name": "stderr",
          "text": [
            "Train, Epoch 8 / 20:  33%|███▎      | 513/1563 [00:21<00:42, 24.72it/s]"
          ]
        },
        {
          "output_type": "stream",
          "name": "stdout",
          "text": [
            "batch 510 loss: 0.2755433090031147\n"
          ]
        },
        {
          "output_type": "stream",
          "name": "stderr",
          "text": [
            "Train, Epoch 8 / 20:  34%|███▎      | 525/1563 [00:21<00:42, 24.69it/s]"
          ]
        },
        {
          "output_type": "stream",
          "name": "stdout",
          "text": [
            "batch 520 loss: 0.3285327725112438\n"
          ]
        },
        {
          "output_type": "stream",
          "name": "stderr",
          "text": [
            "Train, Epoch 8 / 20:  34%|███▍      | 534/1563 [00:22<00:41, 24.54it/s]"
          ]
        },
        {
          "output_type": "stream",
          "name": "stdout",
          "text": [
            "batch 530 loss: 0.34624488204717635\n"
          ]
        },
        {
          "output_type": "stream",
          "name": "stderr",
          "text": [
            "Train, Epoch 8 / 20:  35%|███▍      | 543/1563 [00:22<00:40, 24.93it/s]"
          ]
        },
        {
          "output_type": "stream",
          "name": "stdout",
          "text": [
            "batch 540 loss: 0.28902303874492646\n"
          ]
        },
        {
          "output_type": "stream",
          "name": "stderr",
          "text": [
            "Train, Epoch 8 / 20:  36%|███▌      | 555/1563 [00:23<00:40, 24.87it/s]"
          ]
        },
        {
          "output_type": "stream",
          "name": "stdout",
          "text": [
            "batch 550 loss: 0.2701640471816063\n"
          ]
        },
        {
          "output_type": "stream",
          "name": "stderr",
          "text": [
            "Train, Epoch 8 / 20:  36%|███▌      | 564/1563 [00:23<00:40, 24.63it/s]"
          ]
        },
        {
          "output_type": "stream",
          "name": "stdout",
          "text": [
            "batch 560 loss: 0.2443135693669319\n"
          ]
        },
        {
          "output_type": "stream",
          "name": "stderr",
          "text": [
            "Train, Epoch 8 / 20:  37%|███▋      | 573/1563 [00:23<00:40, 24.69it/s]"
          ]
        },
        {
          "output_type": "stream",
          "name": "stdout",
          "text": [
            "batch 570 loss: 0.32523070871829984\n"
          ]
        },
        {
          "output_type": "stream",
          "name": "stderr",
          "text": [
            "Train, Epoch 8 / 20:  37%|███▋      | 585/1563 [00:24<00:39, 24.67it/s]"
          ]
        },
        {
          "output_type": "stream",
          "name": "stdout",
          "text": [
            "batch 580 loss: 0.35020338371396065\n"
          ]
        },
        {
          "output_type": "stream",
          "name": "stderr",
          "text": [
            "Train, Epoch 8 / 20:  38%|███▊      | 594/1563 [00:24<00:38, 25.01it/s]"
          ]
        },
        {
          "output_type": "stream",
          "name": "stdout",
          "text": [
            "batch 590 loss: 0.2575888931751251\n"
          ]
        },
        {
          "output_type": "stream",
          "name": "stderr",
          "text": [
            "Train, Epoch 8 / 20:  39%|███▊      | 603/1563 [00:25<00:38, 24.82it/s]"
          ]
        },
        {
          "output_type": "stream",
          "name": "stdout",
          "text": [
            "batch 600 loss: 0.2973852515220642\n"
          ]
        },
        {
          "output_type": "stream",
          "name": "stderr",
          "text": [
            "Train, Epoch 8 / 20:  39%|███▉      | 615/1563 [00:25<00:38, 24.68it/s]"
          ]
        },
        {
          "output_type": "stream",
          "name": "stdout",
          "text": [
            "batch 610 loss: 0.24574581608176232\n"
          ]
        },
        {
          "output_type": "stream",
          "name": "stderr",
          "text": [
            "Train, Epoch 8 / 20:  40%|███▉      | 624/1563 [00:25<00:37, 24.81it/s]"
          ]
        },
        {
          "output_type": "stream",
          "name": "stdout",
          "text": [
            "batch 620 loss: 0.29106305688619616\n"
          ]
        },
        {
          "output_type": "stream",
          "name": "stderr",
          "text": [
            "Train, Epoch 8 / 20:  40%|████      | 633/1563 [00:26<00:38, 24.40it/s]"
          ]
        },
        {
          "output_type": "stream",
          "name": "stdout",
          "text": [
            "batch 630 loss: 0.32407009303569795\n"
          ]
        },
        {
          "output_type": "stream",
          "name": "stderr",
          "text": [
            "Train, Epoch 8 / 20:  41%|████▏     | 645/1563 [00:26<00:37, 24.67it/s]"
          ]
        },
        {
          "output_type": "stream",
          "name": "stdout",
          "text": [
            "batch 640 loss: 0.35653412863612177\n"
          ]
        },
        {
          "output_type": "stream",
          "name": "stderr",
          "text": [
            "Train, Epoch 8 / 20:  42%|████▏     | 654/1563 [00:27<00:36, 24.86it/s]"
          ]
        },
        {
          "output_type": "stream",
          "name": "stdout",
          "text": [
            "batch 650 loss: 0.32528193220496177\n"
          ]
        },
        {
          "output_type": "stream",
          "name": "stderr",
          "text": [
            "Train, Epoch 8 / 20:  42%|████▏     | 663/1563 [00:27<00:39, 22.83it/s]"
          ]
        },
        {
          "output_type": "stream",
          "name": "stdout",
          "text": [
            "batch 660 loss: 0.31375954300165176\n"
          ]
        },
        {
          "output_type": "stream",
          "name": "stderr",
          "text": [
            "Train, Epoch 8 / 20:  43%|████▎     | 672/1563 [00:27<00:41, 21.60it/s]"
          ]
        },
        {
          "output_type": "stream",
          "name": "stdout",
          "text": [
            "batch 670 loss: 0.21068716272711754\n"
          ]
        },
        {
          "output_type": "stream",
          "name": "stderr",
          "text": [
            "Train, Epoch 8 / 20:  44%|████▍     | 684/1563 [00:28<00:41, 21.14it/s]"
          ]
        },
        {
          "output_type": "stream",
          "name": "stdout",
          "text": [
            "batch 680 loss: 0.2669059485197067\n"
          ]
        },
        {
          "output_type": "stream",
          "name": "stderr",
          "text": [
            "Train, Epoch 8 / 20:  44%|████▍     | 693/1563 [00:28<00:40, 21.52it/s]"
          ]
        },
        {
          "output_type": "stream",
          "name": "stdout",
          "text": [
            "batch 690 loss: 0.2946947455406189\n"
          ]
        },
        {
          "output_type": "stream",
          "name": "stderr",
          "text": [
            "Train, Epoch 8 / 20:  45%|████▍     | 702/1563 [00:29<00:41, 20.84it/s]"
          ]
        },
        {
          "output_type": "stream",
          "name": "stdout",
          "text": [
            "batch 700 loss: 0.2769915580749512\n"
          ]
        },
        {
          "output_type": "stream",
          "name": "stderr",
          "text": [
            "Train, Epoch 8 / 20:  46%|████▌     | 714/1563 [00:29<00:36, 23.40it/s]"
          ]
        },
        {
          "output_type": "stream",
          "name": "stdout",
          "text": [
            "batch 710 loss: 0.26822284460067747\n"
          ]
        },
        {
          "output_type": "stream",
          "name": "stderr",
          "text": [
            "Train, Epoch 8 / 20:  46%|████▋     | 723/1563 [00:30<00:34, 24.20it/s]"
          ]
        },
        {
          "output_type": "stream",
          "name": "stdout",
          "text": [
            "batch 720 loss: 0.3109105974435806\n"
          ]
        },
        {
          "output_type": "stream",
          "name": "stderr",
          "text": [
            "Train, Epoch 8 / 20:  47%|████▋     | 732/1563 [00:30<00:33, 24.60it/s]"
          ]
        },
        {
          "output_type": "stream",
          "name": "stdout",
          "text": [
            "batch 730 loss: 0.29194975420832636\n"
          ]
        },
        {
          "output_type": "stream",
          "name": "stderr",
          "text": [
            "Train, Epoch 8 / 20:  48%|████▊     | 744/1563 [00:31<00:33, 24.27it/s]"
          ]
        },
        {
          "output_type": "stream",
          "name": "stdout",
          "text": [
            "batch 740 loss: 0.35333543345332147\n"
          ]
        },
        {
          "output_type": "stream",
          "name": "stderr",
          "text": [
            "Train, Epoch 8 / 20:  48%|████▊     | 753/1563 [00:31<00:33, 24.08it/s]"
          ]
        },
        {
          "output_type": "stream",
          "name": "stdout",
          "text": [
            "batch 750 loss: 0.27481700778007506\n"
          ]
        },
        {
          "output_type": "stream",
          "name": "stderr",
          "text": [
            "Train, Epoch 8 / 20:  49%|████▉     | 765/1563 [00:31<00:32, 24.62it/s]"
          ]
        },
        {
          "output_type": "stream",
          "name": "stdout",
          "text": [
            "batch 760 loss: 0.3528481900691986\n"
          ]
        },
        {
          "output_type": "stream",
          "name": "stderr",
          "text": [
            "Train, Epoch 8 / 20:  50%|████▉     | 774/1563 [00:32<00:31, 24.70it/s]"
          ]
        },
        {
          "output_type": "stream",
          "name": "stdout",
          "text": [
            "batch 770 loss: 0.2875736117362976\n"
          ]
        },
        {
          "output_type": "stream",
          "name": "stderr",
          "text": [
            "Train, Epoch 8 / 20:  50%|█████     | 783/1563 [00:32<00:31, 24.70it/s]"
          ]
        },
        {
          "output_type": "stream",
          "name": "stdout",
          "text": [
            "batch 780 loss: 0.3358935132622719\n"
          ]
        },
        {
          "output_type": "stream",
          "name": "stderr",
          "text": [
            "Train, Epoch 8 / 20:  51%|█████     | 795/1563 [00:33<00:31, 24.69it/s]"
          ]
        },
        {
          "output_type": "stream",
          "name": "stdout",
          "text": [
            "batch 790 loss: 0.22242561504244804\n"
          ]
        },
        {
          "output_type": "stream",
          "name": "stderr",
          "text": [
            "Train, Epoch 8 / 20:  51%|█████▏    | 804/1563 [00:33<00:30, 24.73it/s]"
          ]
        },
        {
          "output_type": "stream",
          "name": "stdout",
          "text": [
            "batch 800 loss: 0.2565090924501419\n"
          ]
        },
        {
          "output_type": "stream",
          "name": "stderr",
          "text": [
            "Train, Epoch 8 / 20:  52%|█████▏    | 813/1563 [00:33<00:30, 24.77it/s]"
          ]
        },
        {
          "output_type": "stream",
          "name": "stdout",
          "text": [
            "batch 810 loss: 0.24782049059867858\n"
          ]
        },
        {
          "output_type": "stream",
          "name": "stderr",
          "text": [
            "Train, Epoch 8 / 20:  53%|█████▎    | 825/1563 [00:34<00:29, 24.71it/s]"
          ]
        },
        {
          "output_type": "stream",
          "name": "stdout",
          "text": [
            "batch 820 loss: 0.23112034946680068\n"
          ]
        },
        {
          "output_type": "stream",
          "name": "stderr",
          "text": [
            "Train, Epoch 8 / 20:  53%|█████▎    | 834/1563 [00:34<00:29, 24.75it/s]"
          ]
        },
        {
          "output_type": "stream",
          "name": "stdout",
          "text": [
            "batch 830 loss: 0.30968105494976045\n"
          ]
        },
        {
          "output_type": "stream",
          "name": "stderr",
          "text": [
            "Train, Epoch 8 / 20:  54%|█████▍    | 843/1563 [00:35<00:29, 24.41it/s]"
          ]
        },
        {
          "output_type": "stream",
          "name": "stdout",
          "text": [
            "batch 840 loss: 0.21459222361445426\n"
          ]
        },
        {
          "output_type": "stream",
          "name": "stderr",
          "text": [
            "Train, Epoch 8 / 20:  55%|█████▍    | 852/1563 [00:35<00:28, 24.56it/s]"
          ]
        },
        {
          "output_type": "stream",
          "name": "stdout",
          "text": [
            "batch 850 loss: 0.4038507789373398\n"
          ]
        },
        {
          "output_type": "stream",
          "name": "stderr",
          "text": [
            "Train, Epoch 8 / 20:  55%|█████▌    | 864/1563 [00:35<00:27, 24.98it/s]"
          ]
        },
        {
          "output_type": "stream",
          "name": "stdout",
          "text": [
            "batch 860 loss: 0.31697801426053046\n"
          ]
        },
        {
          "output_type": "stream",
          "name": "stderr",
          "text": [
            "Train, Epoch 8 / 20:  56%|█████▌    | 873/1563 [00:36<00:27, 24.85it/s]"
          ]
        },
        {
          "output_type": "stream",
          "name": "stdout",
          "text": [
            "batch 870 loss: 0.3427204839885235\n"
          ]
        },
        {
          "output_type": "stream",
          "name": "stderr",
          "text": [
            "Train, Epoch 8 / 20:  57%|█████▋    | 885/1563 [00:36<00:27, 24.69it/s]"
          ]
        },
        {
          "output_type": "stream",
          "name": "stdout",
          "text": [
            "batch 880 loss: 0.25641448348760604\n"
          ]
        },
        {
          "output_type": "stream",
          "name": "stderr",
          "text": [
            "Train, Epoch 8 / 20:  57%|█████▋    | 894/1563 [00:37<00:26, 24.97it/s]"
          ]
        },
        {
          "output_type": "stream",
          "name": "stdout",
          "text": [
            "batch 890 loss: 0.2619729794561863\n"
          ]
        },
        {
          "output_type": "stream",
          "name": "stderr",
          "text": [
            "Train, Epoch 8 / 20:  58%|█████▊    | 903/1563 [00:37<00:26, 24.73it/s]"
          ]
        },
        {
          "output_type": "stream",
          "name": "stdout",
          "text": [
            "batch 900 loss: 0.2103221245110035\n"
          ]
        },
        {
          "output_type": "stream",
          "name": "stderr",
          "text": [
            "Train, Epoch 8 / 20:  59%|█████▊    | 915/1563 [00:38<00:26, 24.81it/s]"
          ]
        },
        {
          "output_type": "stream",
          "name": "stdout",
          "text": [
            "batch 910 loss: 0.29012060910463333\n"
          ]
        },
        {
          "output_type": "stream",
          "name": "stderr",
          "text": [
            "Train, Epoch 8 / 20:  59%|█████▉    | 924/1563 [00:38<00:25, 24.81it/s]"
          ]
        },
        {
          "output_type": "stream",
          "name": "stdout",
          "text": [
            "batch 920 loss: 0.3057502120733261\n"
          ]
        },
        {
          "output_type": "stream",
          "name": "stderr",
          "text": [
            "Train, Epoch 8 / 20:  60%|█████▉    | 933/1563 [00:38<00:25, 24.68it/s]"
          ]
        },
        {
          "output_type": "stream",
          "name": "stdout",
          "text": [
            "batch 930 loss: 0.26520983725786207\n"
          ]
        },
        {
          "output_type": "stream",
          "name": "stderr",
          "text": [
            "Train, Epoch 8 / 20:  60%|██████    | 945/1563 [00:39<00:24, 24.82it/s]"
          ]
        },
        {
          "output_type": "stream",
          "name": "stdout",
          "text": [
            "batch 940 loss: 0.25846299678087237\n"
          ]
        },
        {
          "output_type": "stream",
          "name": "stderr",
          "text": [
            "Train, Epoch 8 / 20:  61%|██████    | 954/1563 [00:39<00:25, 24.10it/s]"
          ]
        },
        {
          "output_type": "stream",
          "name": "stdout",
          "text": [
            "batch 950 loss: 0.2459219887852669\n"
          ]
        },
        {
          "output_type": "stream",
          "name": "stderr",
          "text": [
            "Train, Epoch 8 / 20:  62%|██████▏   | 963/1563 [00:40<00:26, 22.34it/s]"
          ]
        },
        {
          "output_type": "stream",
          "name": "stdout",
          "text": [
            "batch 960 loss: 0.2713544607162476\n"
          ]
        },
        {
          "output_type": "stream",
          "name": "stderr",
          "text": [
            "Train, Epoch 8 / 20:  62%|██████▏   | 972/1563 [00:40<00:26, 22.67it/s]"
          ]
        },
        {
          "output_type": "stream",
          "name": "stdout",
          "text": [
            "batch 970 loss: 0.3171381726861\n"
          ]
        },
        {
          "output_type": "stream",
          "name": "stderr",
          "text": [
            "Train, Epoch 8 / 20:  63%|██████▎   | 984/1563 [00:41<00:26, 21.54it/s]"
          ]
        },
        {
          "output_type": "stream",
          "name": "stdout",
          "text": [
            "batch 980 loss: 0.29230527132749556\n"
          ]
        },
        {
          "output_type": "stream",
          "name": "stderr",
          "text": [
            "Train, Epoch 8 / 20:  64%|██████▎   | 993/1563 [00:41<00:27, 21.01it/s]"
          ]
        },
        {
          "output_type": "stream",
          "name": "stdout",
          "text": [
            "batch 990 loss: 0.265078192949295\n"
          ]
        },
        {
          "output_type": "stream",
          "name": "stderr",
          "text": [
            "Train, Epoch 8 / 20:  64%|██████▍   | 1002/1563 [00:41<00:27, 20.66it/s]"
          ]
        },
        {
          "output_type": "stream",
          "name": "stdout",
          "text": [
            "batch 1000 loss: 0.24948305413126945\n"
          ]
        },
        {
          "output_type": "stream",
          "name": "stderr",
          "text": [
            "Train, Epoch 8 / 20:  65%|██████▍   | 1014/1563 [00:42<00:23, 23.10it/s]"
          ]
        },
        {
          "output_type": "stream",
          "name": "stdout",
          "text": [
            "batch 1010 loss: 0.30768261253833773\n"
          ]
        },
        {
          "output_type": "stream",
          "name": "stderr",
          "text": [
            "Train, Epoch 8 / 20:  65%|██████▌   | 1023/1563 [00:42<00:22, 23.75it/s]"
          ]
        },
        {
          "output_type": "stream",
          "name": "stdout",
          "text": [
            "batch 1020 loss: 0.32990323901176455\n"
          ]
        },
        {
          "output_type": "stream",
          "name": "stderr",
          "text": [
            "Train, Epoch 8 / 20:  66%|██████▌   | 1035/1563 [00:43<00:21, 24.52it/s]"
          ]
        },
        {
          "output_type": "stream",
          "name": "stdout",
          "text": [
            "batch 1030 loss: 0.3035085812211037\n"
          ]
        },
        {
          "output_type": "stream",
          "name": "stderr",
          "text": [
            "Train, Epoch 8 / 20:  67%|██████▋   | 1044/1563 [00:43<00:21, 24.27it/s]"
          ]
        },
        {
          "output_type": "stream",
          "name": "stdout",
          "text": [
            "batch 1040 loss: 0.26297579184174535\n"
          ]
        },
        {
          "output_type": "stream",
          "name": "stderr",
          "text": [
            "Train, Epoch 8 / 20:  67%|██████▋   | 1053/1563 [00:44<00:20, 24.62it/s]"
          ]
        },
        {
          "output_type": "stream",
          "name": "stdout",
          "text": [
            "batch 1050 loss: 0.33247318416833876\n"
          ]
        },
        {
          "output_type": "stream",
          "name": "stderr",
          "text": [
            "Train, Epoch 8 / 20:  68%|██████▊   | 1065/1563 [00:44<00:20, 24.74it/s]"
          ]
        },
        {
          "output_type": "stream",
          "name": "stdout",
          "text": [
            "batch 1060 loss: 0.37112949788570404\n"
          ]
        },
        {
          "output_type": "stream",
          "name": "stderr",
          "text": [
            "Train, Epoch 8 / 20:  69%|██████▊   | 1074/1563 [00:44<00:19, 24.55it/s]"
          ]
        },
        {
          "output_type": "stream",
          "name": "stdout",
          "text": [
            "batch 1070 loss: 0.2596641771495342\n"
          ]
        },
        {
          "output_type": "stream",
          "name": "stderr",
          "text": [
            "Train, Epoch 8 / 20:  69%|██████▉   | 1083/1563 [00:45<00:19, 24.80it/s]"
          ]
        },
        {
          "output_type": "stream",
          "name": "stdout",
          "text": [
            "batch 1080 loss: 0.25021385699510573\n"
          ]
        },
        {
          "output_type": "stream",
          "name": "stderr",
          "text": [
            "Train, Epoch 8 / 20:  70%|██████▉   | 1092/1563 [00:45<00:19, 24.51it/s]"
          ]
        },
        {
          "output_type": "stream",
          "name": "stdout",
          "text": [
            "batch 1090 loss: 0.2900627590715885\n"
          ]
        },
        {
          "output_type": "stream",
          "name": "stderr",
          "text": [
            "Train, Epoch 8 / 20:  71%|███████   | 1104/1563 [00:46<00:19, 23.94it/s]"
          ]
        },
        {
          "output_type": "stream",
          "name": "stdout",
          "text": [
            "batch 1100 loss: 0.308623593300581\n"
          ]
        },
        {
          "output_type": "stream",
          "name": "stderr",
          "text": [
            "Train, Epoch 8 / 20:  71%|███████   | 1113/1563 [00:46<00:18, 24.49it/s]"
          ]
        },
        {
          "output_type": "stream",
          "name": "stdout",
          "text": [
            "batch 1110 loss: 0.24165388941764832\n"
          ]
        },
        {
          "output_type": "stream",
          "name": "stderr",
          "text": [
            "Train, Epoch 8 / 20:  72%|███████▏  | 1125/1563 [00:46<00:17, 24.81it/s]"
          ]
        },
        {
          "output_type": "stream",
          "name": "stdout",
          "text": [
            "batch 1120 loss: 0.28326725512742995\n"
          ]
        },
        {
          "output_type": "stream",
          "name": "stderr",
          "text": [
            "Train, Epoch 8 / 20:  73%|███████▎  | 1134/1563 [00:47<00:17, 24.78it/s]"
          ]
        },
        {
          "output_type": "stream",
          "name": "stdout",
          "text": [
            "batch 1130 loss: 0.3359262928366661\n"
          ]
        },
        {
          "output_type": "stream",
          "name": "stderr",
          "text": [
            "Train, Epoch 8 / 20:  73%|███████▎  | 1143/1563 [00:47<00:16, 24.76it/s]"
          ]
        },
        {
          "output_type": "stream",
          "name": "stdout",
          "text": [
            "batch 1140 loss: 0.29147293865680696\n"
          ]
        },
        {
          "output_type": "stream",
          "name": "stderr",
          "text": [
            "Train, Epoch 8 / 20:  74%|███████▍  | 1155/1563 [00:48<00:16, 24.81it/s]"
          ]
        },
        {
          "output_type": "stream",
          "name": "stdout",
          "text": [
            "batch 1150 loss: 0.30830543488264084\n"
          ]
        },
        {
          "output_type": "stream",
          "name": "stderr",
          "text": [
            "Train, Epoch 8 / 20:  74%|███████▍  | 1164/1563 [00:48<00:16, 24.69it/s]"
          ]
        },
        {
          "output_type": "stream",
          "name": "stdout",
          "text": [
            "batch 1160 loss: 0.33082434311509135\n"
          ]
        },
        {
          "output_type": "stream",
          "name": "stderr",
          "text": [
            "Train, Epoch 8 / 20:  75%|███████▌  | 1173/1563 [00:48<00:15, 24.53it/s]"
          ]
        },
        {
          "output_type": "stream",
          "name": "stdout",
          "text": [
            "batch 1170 loss: 0.3279191359877586\n"
          ]
        },
        {
          "output_type": "stream",
          "name": "stderr",
          "text": [
            "Train, Epoch 8 / 20:  76%|███████▌  | 1185/1563 [00:49<00:15, 24.81it/s]"
          ]
        },
        {
          "output_type": "stream",
          "name": "stdout",
          "text": [
            "batch 1180 loss: 0.2766828551888466\n"
          ]
        },
        {
          "output_type": "stream",
          "name": "stderr",
          "text": [
            "Train, Epoch 8 / 20:  76%|███████▋  | 1194/1563 [00:49<00:14, 24.76it/s]"
          ]
        },
        {
          "output_type": "stream",
          "name": "stdout",
          "text": [
            "batch 1190 loss: 0.336844664812088\n"
          ]
        },
        {
          "output_type": "stream",
          "name": "stderr",
          "text": [
            "Train, Epoch 8 / 20:  77%|███████▋  | 1203/1563 [00:50<00:14, 24.57it/s]"
          ]
        },
        {
          "output_type": "stream",
          "name": "stdout",
          "text": [
            "batch 1200 loss: 0.3417163461446762\n"
          ]
        },
        {
          "output_type": "stream",
          "name": "stderr",
          "text": [
            "Train, Epoch 8 / 20:  78%|███████▊  | 1215/1563 [00:50<00:14, 24.79it/s]"
          ]
        },
        {
          "output_type": "stream",
          "name": "stdout",
          "text": [
            "batch 1210 loss: 0.2745563112199306\n"
          ]
        },
        {
          "output_type": "stream",
          "name": "stderr",
          "text": [
            "Train, Epoch 8 / 20:  78%|███████▊  | 1224/1563 [00:50<00:13, 24.32it/s]"
          ]
        },
        {
          "output_type": "stream",
          "name": "stdout",
          "text": [
            "batch 1220 loss: 0.2816253200173378\n"
          ]
        },
        {
          "output_type": "stream",
          "name": "stderr",
          "text": [
            "Train, Epoch 8 / 20:  79%|███████▉  | 1233/1563 [00:51<00:13, 24.72it/s]"
          ]
        },
        {
          "output_type": "stream",
          "name": "stdout",
          "text": [
            "batch 1230 loss: 0.2365153029561043\n"
          ]
        },
        {
          "output_type": "stream",
          "name": "stderr",
          "text": [
            "Train, Epoch 8 / 20:  80%|███████▉  | 1245/1563 [00:51<00:12, 24.89it/s]"
          ]
        },
        {
          "output_type": "stream",
          "name": "stdout",
          "text": [
            "batch 1240 loss: 0.2890980660915375\n"
          ]
        },
        {
          "output_type": "stream",
          "name": "stderr",
          "text": [
            "Train, Epoch 8 / 20:  80%|████████  | 1254/1563 [00:52<00:12, 24.09it/s]"
          ]
        },
        {
          "output_type": "stream",
          "name": "stdout",
          "text": [
            "batch 1250 loss: 0.32122038304805756\n"
          ]
        },
        {
          "output_type": "stream",
          "name": "stderr",
          "text": [
            "Train, Epoch 8 / 20:  81%|████████  | 1263/1563 [00:52<00:13, 22.90it/s]"
          ]
        },
        {
          "output_type": "stream",
          "name": "stdout",
          "text": [
            "batch 1260 loss: 0.3012789815664291\n"
          ]
        },
        {
          "output_type": "stream",
          "name": "stderr",
          "text": [
            "Train, Epoch 8 / 20:  81%|████████▏ | 1272/1563 [00:52<00:12, 22.95it/s]"
          ]
        },
        {
          "output_type": "stream",
          "name": "stdout",
          "text": [
            "batch 1270 loss: 0.25038682445883753\n"
          ]
        },
        {
          "output_type": "stream",
          "name": "stderr",
          "text": [
            "Train, Epoch 8 / 20:  82%|████████▏ | 1284/1563 [00:53<00:12, 22.84it/s]"
          ]
        },
        {
          "output_type": "stream",
          "name": "stdout",
          "text": [
            "batch 1280 loss: 0.23893932178616523\n"
          ]
        },
        {
          "output_type": "stream",
          "name": "stderr",
          "text": [
            "Train, Epoch 8 / 20:  83%|████████▎ | 1293/1563 [00:53<00:12, 22.35it/s]"
          ]
        },
        {
          "output_type": "stream",
          "name": "stdout",
          "text": [
            "batch 1290 loss: 0.32962636947631835\n"
          ]
        },
        {
          "output_type": "stream",
          "name": "stderr",
          "text": [
            "Train, Epoch 8 / 20:  83%|████████▎ | 1302/1563 [00:54<00:12, 21.05it/s]"
          ]
        },
        {
          "output_type": "stream",
          "name": "stdout",
          "text": [
            "batch 1300 loss: 0.3161132723093033\n"
          ]
        },
        {
          "output_type": "stream",
          "name": "stderr",
          "text": [
            "Train, Epoch 8 / 20:  84%|████████▍ | 1314/1563 [00:54<00:10, 23.73it/s]"
          ]
        },
        {
          "output_type": "stream",
          "name": "stdout",
          "text": [
            "batch 1310 loss: 0.31049401611089705\n"
          ]
        },
        {
          "output_type": "stream",
          "name": "stderr",
          "text": [
            "Train, Epoch 8 / 20:  85%|████████▍ | 1323/1563 [00:55<00:09, 24.54it/s]"
          ]
        },
        {
          "output_type": "stream",
          "name": "stdout",
          "text": [
            "batch 1320 loss: 0.24936536997556685\n"
          ]
        },
        {
          "output_type": "stream",
          "name": "stderr",
          "text": [
            "Train, Epoch 8 / 20:  85%|████████▌ | 1335/1563 [00:55<00:09, 24.79it/s]"
          ]
        },
        {
          "output_type": "stream",
          "name": "stdout",
          "text": [
            "batch 1330 loss: 0.2762365497648716\n"
          ]
        },
        {
          "output_type": "stream",
          "name": "stderr",
          "text": [
            "Train, Epoch 8 / 20:  86%|████████▌ | 1344/1563 [00:56<00:08, 24.84it/s]"
          ]
        },
        {
          "output_type": "stream",
          "name": "stdout",
          "text": [
            "batch 1340 loss: 0.2986251175403595\n"
          ]
        },
        {
          "output_type": "stream",
          "name": "stderr",
          "text": [
            "Train, Epoch 8 / 20:  87%|████████▋ | 1353/1563 [00:56<00:08, 24.64it/s]"
          ]
        },
        {
          "output_type": "stream",
          "name": "stdout",
          "text": [
            "batch 1350 loss: 0.21468350440263748\n"
          ]
        },
        {
          "output_type": "stream",
          "name": "stderr",
          "text": [
            "Train, Epoch 8 / 20:  87%|████████▋ | 1365/1563 [00:56<00:08, 24.73it/s]"
          ]
        },
        {
          "output_type": "stream",
          "name": "stdout",
          "text": [
            "batch 1360 loss: 0.30968987569212914\n"
          ]
        },
        {
          "output_type": "stream",
          "name": "stderr",
          "text": [
            "Train, Epoch 8 / 20:  88%|████████▊ | 1374/1563 [00:57<00:07, 24.57it/s]"
          ]
        },
        {
          "output_type": "stream",
          "name": "stdout",
          "text": [
            "batch 1370 loss: 0.32158771976828576\n"
          ]
        },
        {
          "output_type": "stream",
          "name": "stderr",
          "text": [
            "Train, Epoch 8 / 20:  88%|████████▊ | 1383/1563 [00:57<00:07, 24.49it/s]"
          ]
        },
        {
          "output_type": "stream",
          "name": "stdout",
          "text": [
            "batch 1380 loss: 0.2425489455461502\n"
          ]
        },
        {
          "output_type": "stream",
          "name": "stderr",
          "text": [
            "Train, Epoch 8 / 20:  89%|████████▉ | 1395/1563 [00:58<00:06, 24.92it/s]"
          ]
        },
        {
          "output_type": "stream",
          "name": "stdout",
          "text": [
            "batch 1390 loss: 0.205736718326807\n"
          ]
        },
        {
          "output_type": "stream",
          "name": "stderr",
          "text": [
            "Train, Epoch 8 / 20:  90%|████████▉ | 1404/1563 [00:58<00:06, 24.70it/s]"
          ]
        },
        {
          "output_type": "stream",
          "name": "stdout",
          "text": [
            "batch 1400 loss: 0.23170458897948265\n"
          ]
        },
        {
          "output_type": "stream",
          "name": "stderr",
          "text": [
            "Train, Epoch 8 / 20:  90%|█████████ | 1413/1563 [00:58<00:06, 24.76it/s]"
          ]
        },
        {
          "output_type": "stream",
          "name": "stdout",
          "text": [
            "batch 1410 loss: 0.2430270716547966\n"
          ]
        },
        {
          "output_type": "stream",
          "name": "stderr",
          "text": [
            "Train, Epoch 8 / 20:  91%|█████████ | 1425/1563 [00:59<00:05, 24.76it/s]"
          ]
        },
        {
          "output_type": "stream",
          "name": "stdout",
          "text": [
            "batch 1420 loss: 0.3414906054735184\n"
          ]
        },
        {
          "output_type": "stream",
          "name": "stderr",
          "text": [
            "Train, Epoch 8 / 20:  92%|█████████▏| 1434/1563 [00:59<00:05, 24.88it/s]"
          ]
        },
        {
          "output_type": "stream",
          "name": "stdout",
          "text": [
            "batch 1430 loss: 0.331860314309597\n"
          ]
        },
        {
          "output_type": "stream",
          "name": "stderr",
          "text": [
            "Train, Epoch 8 / 20:  92%|█████████▏| 1443/1563 [01:00<00:04, 24.84it/s]"
          ]
        },
        {
          "output_type": "stream",
          "name": "stdout",
          "text": [
            "batch 1440 loss: 0.2756267085671425\n"
          ]
        },
        {
          "output_type": "stream",
          "name": "stderr",
          "text": [
            "Train, Epoch 8 / 20:  93%|█████████▎| 1455/1563 [01:00<00:04, 24.75it/s]"
          ]
        },
        {
          "output_type": "stream",
          "name": "stdout",
          "text": [
            "batch 1450 loss: 0.2916610687971115\n"
          ]
        },
        {
          "output_type": "stream",
          "name": "stderr",
          "text": [
            "Train, Epoch 8 / 20:  94%|█████████▎| 1464/1563 [01:00<00:04, 24.62it/s]"
          ]
        },
        {
          "output_type": "stream",
          "name": "stdout",
          "text": [
            "batch 1460 loss: 0.2980972856283188\n"
          ]
        },
        {
          "output_type": "stream",
          "name": "stderr",
          "text": [
            "Train, Epoch 8 / 20:  94%|█████████▍| 1473/1563 [01:01<00:03, 24.46it/s]"
          ]
        },
        {
          "output_type": "stream",
          "name": "stdout",
          "text": [
            "batch 1470 loss: 0.3097869664430618\n"
          ]
        },
        {
          "output_type": "stream",
          "name": "stderr",
          "text": [
            "Train, Epoch 8 / 20:  95%|█████████▌| 1485/1563 [01:01<00:03, 24.66it/s]"
          ]
        },
        {
          "output_type": "stream",
          "name": "stdout",
          "text": [
            "batch 1480 loss: 0.3154947556555271\n"
          ]
        },
        {
          "output_type": "stream",
          "name": "stderr",
          "text": [
            "Train, Epoch 8 / 20:  96%|█████████▌| 1494/1563 [01:02<00:02, 24.76it/s]"
          ]
        },
        {
          "output_type": "stream",
          "name": "stdout",
          "text": [
            "batch 1490 loss: 0.28327969163656236\n"
          ]
        },
        {
          "output_type": "stream",
          "name": "stderr",
          "text": [
            "Train, Epoch 8 / 20:  96%|█████████▌| 1503/1563 [01:02<00:02, 24.68it/s]"
          ]
        },
        {
          "output_type": "stream",
          "name": "stdout",
          "text": [
            "batch 1500 loss: 0.35854734629392626\n"
          ]
        },
        {
          "output_type": "stream",
          "name": "stderr",
          "text": [
            "Train, Epoch 8 / 20:  97%|█████████▋| 1515/1563 [01:03<00:01, 24.78it/s]"
          ]
        },
        {
          "output_type": "stream",
          "name": "stdout",
          "text": [
            "batch 1510 loss: 0.24493960440158843\n"
          ]
        },
        {
          "output_type": "stream",
          "name": "stderr",
          "text": [
            "Train, Epoch 8 / 20:  98%|█████████▊| 1524/1563 [01:03<00:01, 24.57it/s]"
          ]
        },
        {
          "output_type": "stream",
          "name": "stdout",
          "text": [
            "batch 1520 loss: 0.32934921979904175\n"
          ]
        },
        {
          "output_type": "stream",
          "name": "stderr",
          "text": [
            "Train, Epoch 8 / 20:  98%|█████████▊| 1533/1563 [01:03<00:01, 24.81it/s]"
          ]
        },
        {
          "output_type": "stream",
          "name": "stdout",
          "text": [
            "batch 1530 loss: 0.30257818698883054\n"
          ]
        },
        {
          "output_type": "stream",
          "name": "stderr",
          "text": [
            "Train, Epoch 8 / 20:  99%|█████████▉| 1545/1563 [01:04<00:00, 24.76it/s]"
          ]
        },
        {
          "output_type": "stream",
          "name": "stdout",
          "text": [
            "batch 1540 loss: 0.31557936891913413\n"
          ]
        },
        {
          "output_type": "stream",
          "name": "stderr",
          "text": [
            "Train, Epoch 8 / 20:  99%|█████████▉| 1554/1563 [01:04<00:00, 23.55it/s]"
          ]
        },
        {
          "output_type": "stream",
          "name": "stdout",
          "text": [
            "batch 1550 loss: 0.2946524456143379\n"
          ]
        },
        {
          "output_type": "stream",
          "name": "stderr",
          "text": [
            "Train, Epoch 8 / 20: 100%|██████████| 1563/1563 [01:05<00:00, 24.03it/s]\n"
          ]
        },
        {
          "output_type": "stream",
          "name": "stdout",
          "text": [
            "batch 1560 loss: 0.3181171163916588\n"
          ]
        },
        {
          "output_type": "stream",
          "name": "stderr",
          "text": [
            "Test, Epoch 8 / 20: 100%|██████████| 1563/1563 [00:30<00:00, 51.72it/s]\n"
          ]
        },
        {
          "output_type": "stream",
          "name": "stdout",
          "text": [
            "Epoch 8, loss: 0.45639348453968764, accuracy: 0.80512\n"
          ]
        },
        {
          "output_type": "stream",
          "name": "stderr",
          "text": [
            "Train, Epoch 9 / 20:   1%|          | 15/1563 [00:00<01:02, 24.64it/s]"
          ]
        },
        {
          "output_type": "stream",
          "name": "stdout",
          "text": [
            "batch 10 loss: 0.22237298265099525\n"
          ]
        },
        {
          "output_type": "stream",
          "name": "stderr",
          "text": [
            "Train, Epoch 9 / 20:   2%|▏         | 24/1563 [00:00<01:02, 24.57it/s]"
          ]
        },
        {
          "output_type": "stream",
          "name": "stdout",
          "text": [
            "batch 20 loss: 0.29061131179332733\n"
          ]
        },
        {
          "output_type": "stream",
          "name": "stderr",
          "text": [
            "Train, Epoch 9 / 20:   2%|▏         | 33/1563 [00:01<01:01, 24.71it/s]"
          ]
        },
        {
          "output_type": "stream",
          "name": "stdout",
          "text": [
            "batch 30 loss: 0.28773987144231794\n"
          ]
        },
        {
          "output_type": "stream",
          "name": "stderr",
          "text": [
            "Train, Epoch 9 / 20:   3%|▎         | 45/1563 [00:01<01:01, 24.83it/s]"
          ]
        },
        {
          "output_type": "stream",
          "name": "stdout",
          "text": [
            "batch 40 loss: 0.2364288866519928\n"
          ]
        },
        {
          "output_type": "stream",
          "name": "stderr",
          "text": [
            "Train, Epoch 9 / 20:   3%|▎         | 54/1563 [00:02<01:01, 24.71it/s]"
          ]
        },
        {
          "output_type": "stream",
          "name": "stdout",
          "text": [
            "batch 50 loss: 0.27774215266108515\n"
          ]
        },
        {
          "output_type": "stream",
          "name": "stderr",
          "text": [
            "Train, Epoch 9 / 20:   4%|▍         | 63/1563 [00:02<01:00, 24.69it/s]"
          ]
        },
        {
          "output_type": "stream",
          "name": "stdout",
          "text": [
            "batch 60 loss: 0.317693492770195\n"
          ]
        },
        {
          "output_type": "stream",
          "name": "stderr",
          "text": [
            "Train, Epoch 9 / 20:   5%|▍         | 72/1563 [00:02<01:00, 24.68it/s]"
          ]
        },
        {
          "output_type": "stream",
          "name": "stdout",
          "text": [
            "batch 70 loss: 0.329186936467886\n"
          ]
        },
        {
          "output_type": "stream",
          "name": "stderr",
          "text": [
            "Train, Epoch 9 / 20:   5%|▌         | 84/1563 [00:03<00:59, 24.76it/s]"
          ]
        },
        {
          "output_type": "stream",
          "name": "stdout",
          "text": [
            "batch 80 loss: 0.2878958165645599\n"
          ]
        },
        {
          "output_type": "stream",
          "name": "stderr",
          "text": [
            "Train, Epoch 9 / 20:   6%|▌         | 93/1563 [00:03<00:59, 24.70it/s]"
          ]
        },
        {
          "output_type": "stream",
          "name": "stdout",
          "text": [
            "batch 90 loss: 0.2187580019235611\n"
          ]
        },
        {
          "output_type": "stream",
          "name": "stderr",
          "text": [
            "Train, Epoch 9 / 20:   7%|▋         | 105/1563 [00:04<00:59, 24.55it/s]"
          ]
        },
        {
          "output_type": "stream",
          "name": "stdout",
          "text": [
            "batch 100 loss: 0.31351585537195203\n"
          ]
        },
        {
          "output_type": "stream",
          "name": "stderr",
          "text": [
            "Train, Epoch 9 / 20:   7%|▋         | 114/1563 [00:04<00:58, 24.82it/s]"
          ]
        },
        {
          "output_type": "stream",
          "name": "stdout",
          "text": [
            "batch 110 loss: 0.21544888392090797\n"
          ]
        },
        {
          "output_type": "stream",
          "name": "stderr",
          "text": [
            "Train, Epoch 9 / 20:   8%|▊         | 123/1563 [00:04<00:58, 24.67it/s]"
          ]
        },
        {
          "output_type": "stream",
          "name": "stdout",
          "text": [
            "batch 120 loss: 0.2734500139951706\n"
          ]
        },
        {
          "output_type": "stream",
          "name": "stderr",
          "text": [
            "Train, Epoch 9 / 20:   9%|▊         | 135/1563 [00:05<00:57, 24.85it/s]"
          ]
        },
        {
          "output_type": "stream",
          "name": "stdout",
          "text": [
            "batch 130 loss: 0.22542952038347722\n"
          ]
        },
        {
          "output_type": "stream",
          "name": "stderr",
          "text": [
            "Train, Epoch 9 / 20:   9%|▉         | 144/1563 [00:05<00:57, 24.89it/s]"
          ]
        },
        {
          "output_type": "stream",
          "name": "stdout",
          "text": [
            "batch 140 loss: 0.2600521631538868\n"
          ]
        },
        {
          "output_type": "stream",
          "name": "stderr",
          "text": [
            "Train, Epoch 9 / 20:  10%|▉         | 153/1563 [00:06<00:56, 24.87it/s]"
          ]
        },
        {
          "output_type": "stream",
          "name": "stdout",
          "text": [
            "batch 150 loss: 0.21391021758317946\n"
          ]
        },
        {
          "output_type": "stream",
          "name": "stderr",
          "text": [
            "Train, Epoch 9 / 20:  10%|█         | 162/1563 [00:06<01:00, 23.06it/s]"
          ]
        },
        {
          "output_type": "stream",
          "name": "stdout",
          "text": [
            "batch 160 loss: 0.31970455050468444\n"
          ]
        },
        {
          "output_type": "stream",
          "name": "stderr",
          "text": [
            "Train, Epoch 9 / 20:  11%|█         | 174/1563 [00:07<01:02, 22.20it/s]"
          ]
        },
        {
          "output_type": "stream",
          "name": "stdout",
          "text": [
            "batch 170 loss: 0.2975771889090538\n"
          ]
        },
        {
          "output_type": "stream",
          "name": "stderr",
          "text": [
            "Train, Epoch 9 / 20:  12%|█▏        | 183/1563 [00:07<01:01, 22.40it/s]"
          ]
        },
        {
          "output_type": "stream",
          "name": "stdout",
          "text": [
            "batch 180 loss: 0.27468984946608543\n"
          ]
        },
        {
          "output_type": "stream",
          "name": "stderr",
          "text": [
            "Train, Epoch 9 / 20:  12%|█▏        | 192/1563 [00:07<01:01, 22.12it/s]"
          ]
        },
        {
          "output_type": "stream",
          "name": "stdout",
          "text": [
            "batch 190 loss: 0.2832423664629459\n"
          ]
        },
        {
          "output_type": "stream",
          "name": "stderr",
          "text": [
            "Train, Epoch 9 / 20:  13%|█▎        | 204/1563 [00:08<01:04, 21.02it/s]"
          ]
        },
        {
          "output_type": "stream",
          "name": "stdout",
          "text": [
            "batch 200 loss: 0.27897958382964133\n"
          ]
        },
        {
          "output_type": "stream",
          "name": "stderr",
          "text": [
            "Train, Epoch 9 / 20:  14%|█▎        | 213/1563 [00:08<00:58, 23.15it/s]"
          ]
        },
        {
          "output_type": "stream",
          "name": "stdout",
          "text": [
            "batch 210 loss: 0.28437661603093145\n"
          ]
        },
        {
          "output_type": "stream",
          "name": "stderr",
          "text": [
            "Train, Epoch 9 / 20:  14%|█▍        | 225/1563 [00:09<00:54, 24.37it/s]"
          ]
        },
        {
          "output_type": "stream",
          "name": "stdout",
          "text": [
            "batch 220 loss: 0.22778441831469537\n"
          ]
        },
        {
          "output_type": "stream",
          "name": "stderr",
          "text": [
            "Train, Epoch 9 / 20:  15%|█▍        | 234/1563 [00:09<00:53, 24.65it/s]"
          ]
        },
        {
          "output_type": "stream",
          "name": "stdout",
          "text": [
            "batch 230 loss: 0.31042017191648485\n"
          ]
        },
        {
          "output_type": "stream",
          "name": "stderr",
          "text": [
            "Train, Epoch 9 / 20:  16%|█▌        | 243/1563 [00:10<00:53, 24.70it/s]"
          ]
        },
        {
          "output_type": "stream",
          "name": "stdout",
          "text": [
            "batch 240 loss: 0.3383623890578747\n"
          ]
        },
        {
          "output_type": "stream",
          "name": "stderr",
          "text": [
            "Train, Epoch 9 / 20:  16%|█▋        | 255/1563 [00:10<00:52, 24.95it/s]"
          ]
        },
        {
          "output_type": "stream",
          "name": "stdout",
          "text": [
            "batch 250 loss: 0.22284768521785736\n"
          ]
        },
        {
          "output_type": "stream",
          "name": "stderr",
          "text": [
            "Train, Epoch 9 / 20:  17%|█▋        | 264/1563 [00:11<00:53, 24.27it/s]"
          ]
        },
        {
          "output_type": "stream",
          "name": "stdout",
          "text": [
            "batch 260 loss: 0.24269395172595978\n"
          ]
        },
        {
          "output_type": "stream",
          "name": "stderr",
          "text": [
            "Train, Epoch 9 / 20:  17%|█▋        | 273/1563 [00:11<00:53, 24.25it/s]"
          ]
        },
        {
          "output_type": "stream",
          "name": "stdout",
          "text": [
            "batch 270 loss: 0.25274073854088785\n"
          ]
        },
        {
          "output_type": "stream",
          "name": "stderr",
          "text": [
            "Train, Epoch 9 / 20:  18%|█▊        | 285/1563 [00:11<00:51, 24.64it/s]"
          ]
        },
        {
          "output_type": "stream",
          "name": "stdout",
          "text": [
            "batch 280 loss: 0.21882502883672714\n"
          ]
        },
        {
          "output_type": "stream",
          "name": "stderr",
          "text": [
            "Train, Epoch 9 / 20:  19%|█▉        | 294/1563 [00:12<00:51, 24.72it/s]"
          ]
        },
        {
          "output_type": "stream",
          "name": "stdout",
          "text": [
            "batch 290 loss: 0.29993632808327675\n"
          ]
        },
        {
          "output_type": "stream",
          "name": "stderr",
          "text": [
            "Train, Epoch 9 / 20:  19%|█▉        | 303/1563 [00:12<00:51, 24.62it/s]"
          ]
        },
        {
          "output_type": "stream",
          "name": "stdout",
          "text": [
            "batch 300 loss: 0.2552404090762138\n"
          ]
        },
        {
          "output_type": "stream",
          "name": "stderr",
          "text": [
            "Train, Epoch 9 / 20:  20%|██        | 315/1563 [00:13<00:50, 24.77it/s]"
          ]
        },
        {
          "output_type": "stream",
          "name": "stdout",
          "text": [
            "batch 310 loss: 0.3383495852351189\n"
          ]
        },
        {
          "output_type": "stream",
          "name": "stderr",
          "text": [
            "Train, Epoch 9 / 20:  21%|██        | 324/1563 [00:13<00:50, 24.63it/s]"
          ]
        },
        {
          "output_type": "stream",
          "name": "stdout",
          "text": [
            "batch 320 loss: 0.2630695790052414\n"
          ]
        },
        {
          "output_type": "stream",
          "name": "stderr",
          "text": [
            "Train, Epoch 9 / 20:  21%|██▏       | 333/1563 [00:13<00:49, 24.86it/s]"
          ]
        },
        {
          "output_type": "stream",
          "name": "stdout",
          "text": [
            "batch 330 loss: 0.21121898107230663\n"
          ]
        },
        {
          "output_type": "stream",
          "name": "stderr",
          "text": [
            "Train, Epoch 9 / 20:  22%|██▏       | 345/1563 [00:14<00:49, 24.65it/s]"
          ]
        },
        {
          "output_type": "stream",
          "name": "stdout",
          "text": [
            "batch 340 loss: 0.21684909239411354\n"
          ]
        },
        {
          "output_type": "stream",
          "name": "stderr",
          "text": [
            "Train, Epoch 9 / 20:  23%|██▎       | 354/1563 [00:14<00:49, 24.35it/s]"
          ]
        },
        {
          "output_type": "stream",
          "name": "stdout",
          "text": [
            "batch 350 loss: 0.21515389680862426\n"
          ]
        },
        {
          "output_type": "stream",
          "name": "stderr",
          "text": [
            "Train, Epoch 9 / 20:  23%|██▎       | 363/1563 [00:15<00:49, 24.35it/s]"
          ]
        },
        {
          "output_type": "stream",
          "name": "stdout",
          "text": [
            "batch 360 loss: 0.24624540731310846\n"
          ]
        },
        {
          "output_type": "stream",
          "name": "stderr",
          "text": [
            "Train, Epoch 9 / 20:  24%|██▍       | 375/1563 [00:15<00:48, 24.67it/s]"
          ]
        },
        {
          "output_type": "stream",
          "name": "stdout",
          "text": [
            "batch 370 loss: 0.38705344349145887\n"
          ]
        },
        {
          "output_type": "stream",
          "name": "stderr",
          "text": [
            "Train, Epoch 9 / 20:  25%|██▍       | 384/1563 [00:15<00:47, 24.85it/s]"
          ]
        },
        {
          "output_type": "stream",
          "name": "stdout",
          "text": [
            "batch 380 loss: 0.2807975634932518\n"
          ]
        },
        {
          "output_type": "stream",
          "name": "stderr",
          "text": [
            "Train, Epoch 9 / 20:  25%|██▌       | 393/1563 [00:16<00:47, 24.75it/s]"
          ]
        },
        {
          "output_type": "stream",
          "name": "stdout",
          "text": [
            "batch 390 loss: 0.26389207169413564\n"
          ]
        },
        {
          "output_type": "stream",
          "name": "stderr",
          "text": [
            "Train, Epoch 9 / 20:  26%|██▌       | 402/1563 [00:16<00:46, 24.80it/s]"
          ]
        },
        {
          "output_type": "stream",
          "name": "stdout",
          "text": [
            "batch 400 loss: 0.3297661833465099\n"
          ]
        },
        {
          "output_type": "stream",
          "name": "stderr",
          "text": [
            "Train, Epoch 9 / 20:  26%|██▋       | 414/1563 [00:17<00:46, 24.61it/s]"
          ]
        },
        {
          "output_type": "stream",
          "name": "stdout",
          "text": [
            "batch 410 loss: 0.3341529980301857\n"
          ]
        },
        {
          "output_type": "stream",
          "name": "stderr",
          "text": [
            "Train, Epoch 9 / 20:  27%|██▋       | 423/1563 [00:17<00:46, 24.59it/s]"
          ]
        },
        {
          "output_type": "stream",
          "name": "stdout",
          "text": [
            "batch 420 loss: 0.3040073364973068\n"
          ]
        },
        {
          "output_type": "stream",
          "name": "stderr",
          "text": [
            "Train, Epoch 9 / 20:  28%|██▊       | 435/1563 [00:17<00:45, 24.71it/s]"
          ]
        },
        {
          "output_type": "stream",
          "name": "stdout",
          "text": [
            "batch 430 loss: 0.27972463592886926\n"
          ]
        },
        {
          "output_type": "stream",
          "name": "stderr",
          "text": [
            "Train, Epoch 9 / 20:  28%|██▊       | 444/1563 [00:18<00:44, 24.87it/s]"
          ]
        },
        {
          "output_type": "stream",
          "name": "stdout",
          "text": [
            "batch 440 loss: 0.2930921345949173\n"
          ]
        },
        {
          "output_type": "stream",
          "name": "stderr",
          "text": [
            "Train, Epoch 9 / 20:  29%|██▉       | 453/1563 [00:18<00:46, 24.06it/s]"
          ]
        },
        {
          "output_type": "stream",
          "name": "stdout",
          "text": [
            "batch 450 loss: 0.25490559712052346\n"
          ]
        },
        {
          "output_type": "stream",
          "name": "stderr",
          "text": [
            "Train, Epoch 9 / 20:  30%|██▉       | 462/1563 [00:19<00:48, 22.50it/s]"
          ]
        },
        {
          "output_type": "stream",
          "name": "stdout",
          "text": [
            "batch 460 loss: 0.2766289435327053\n"
          ]
        },
        {
          "output_type": "stream",
          "name": "stderr",
          "text": [
            "Train, Epoch 9 / 20:  30%|███       | 474/1563 [00:19<00:51, 21.19it/s]"
          ]
        },
        {
          "output_type": "stream",
          "name": "stdout",
          "text": [
            "batch 470 loss: 0.25028085261583327\n"
          ]
        },
        {
          "output_type": "stream",
          "name": "stderr",
          "text": [
            "Train, Epoch 9 / 20:  31%|███       | 483/1563 [00:20<00:49, 21.88it/s]"
          ]
        },
        {
          "output_type": "stream",
          "name": "stdout",
          "text": [
            "batch 480 loss: 0.22320767492055893\n"
          ]
        },
        {
          "output_type": "stream",
          "name": "stderr",
          "text": [
            "Train, Epoch 9 / 20:  31%|███▏      | 492/1563 [00:20<00:49, 21.71it/s]"
          ]
        },
        {
          "output_type": "stream",
          "name": "stdout",
          "text": [
            "batch 490 loss: 0.26101064682006836\n"
          ]
        },
        {
          "output_type": "stream",
          "name": "stderr",
          "text": [
            "Train, Epoch 9 / 20:  32%|███▏      | 504/1563 [00:21<00:46, 22.76it/s]"
          ]
        },
        {
          "output_type": "stream",
          "name": "stdout",
          "text": [
            "batch 500 loss: 0.27485300302505494\n"
          ]
        },
        {
          "output_type": "stream",
          "name": "stderr",
          "text": [
            "Train, Epoch 9 / 20:  33%|███▎      | 513/1563 [00:21<00:43, 23.97it/s]"
          ]
        },
        {
          "output_type": "stream",
          "name": "stdout",
          "text": [
            "batch 510 loss: 0.23752287700772284\n"
          ]
        },
        {
          "output_type": "stream",
          "name": "stderr",
          "text": [
            "Train, Epoch 9 / 20:  34%|███▎      | 525/1563 [00:21<00:42, 24.50it/s]"
          ]
        },
        {
          "output_type": "stream",
          "name": "stdout",
          "text": [
            "batch 520 loss: 0.18559330925345421\n"
          ]
        },
        {
          "output_type": "stream",
          "name": "stderr",
          "text": [
            "Train, Epoch 9 / 20:  34%|███▍      | 534/1563 [00:22<00:41, 24.51it/s]"
          ]
        },
        {
          "output_type": "stream",
          "name": "stdout",
          "text": [
            "batch 530 loss: 0.2903110384941101\n"
          ]
        },
        {
          "output_type": "stream",
          "name": "stderr",
          "text": [
            "Train, Epoch 9 / 20:  35%|███▍      | 543/1563 [00:22<00:41, 24.79it/s]"
          ]
        },
        {
          "output_type": "stream",
          "name": "stdout",
          "text": [
            "batch 540 loss: 0.25687482878565787\n"
          ]
        },
        {
          "output_type": "stream",
          "name": "stderr",
          "text": [
            "Train, Epoch 9 / 20:  36%|███▌      | 555/1563 [00:23<00:40, 24.91it/s]"
          ]
        },
        {
          "output_type": "stream",
          "name": "stdout",
          "text": [
            "batch 550 loss: 0.19381727054715156\n"
          ]
        },
        {
          "output_type": "stream",
          "name": "stderr",
          "text": [
            "Train, Epoch 9 / 20:  36%|███▌      | 564/1563 [00:23<00:40, 24.80it/s]"
          ]
        },
        {
          "output_type": "stream",
          "name": "stdout",
          "text": [
            "batch 560 loss: 0.2180707611143589\n"
          ]
        },
        {
          "output_type": "stream",
          "name": "stderr",
          "text": [
            "Train, Epoch 9 / 20:  37%|███▋      | 573/1563 [00:23<00:39, 24.76it/s]"
          ]
        },
        {
          "output_type": "stream",
          "name": "stdout",
          "text": [
            "batch 570 loss: 0.24843878522515297\n"
          ]
        },
        {
          "output_type": "stream",
          "name": "stderr",
          "text": [
            "Train, Epoch 9 / 20:  37%|███▋      | 585/1563 [00:24<00:39, 24.69it/s]"
          ]
        },
        {
          "output_type": "stream",
          "name": "stdout",
          "text": [
            "batch 580 loss: 0.29253111183643343\n"
          ]
        },
        {
          "output_type": "stream",
          "name": "stderr",
          "text": [
            "Train, Epoch 9 / 20:  38%|███▊      | 594/1563 [00:24<00:39, 24.50it/s]"
          ]
        },
        {
          "output_type": "stream",
          "name": "stdout",
          "text": [
            "batch 590 loss: 0.2632426455616951\n"
          ]
        },
        {
          "output_type": "stream",
          "name": "stderr",
          "text": [
            "Train, Epoch 9 / 20:  39%|███▊      | 603/1563 [00:25<00:38, 24.76it/s]"
          ]
        },
        {
          "output_type": "stream",
          "name": "stdout",
          "text": [
            "batch 600 loss: 0.27633014395833017\n"
          ]
        },
        {
          "output_type": "stream",
          "name": "stderr",
          "text": [
            "Train, Epoch 9 / 20:  39%|███▉      | 615/1563 [00:25<00:38, 24.73it/s]"
          ]
        },
        {
          "output_type": "stream",
          "name": "stdout",
          "text": [
            "batch 610 loss: 0.3124226525425911\n"
          ]
        },
        {
          "output_type": "stream",
          "name": "stderr",
          "text": [
            "Train, Epoch 9 / 20:  40%|███▉      | 624/1563 [00:25<00:38, 24.63it/s]"
          ]
        },
        {
          "output_type": "stream",
          "name": "stdout",
          "text": [
            "batch 620 loss: 0.24817370921373366\n"
          ]
        },
        {
          "output_type": "stream",
          "name": "stderr",
          "text": [
            "Train, Epoch 9 / 20:  40%|████      | 633/1563 [00:26<00:38, 24.19it/s]"
          ]
        },
        {
          "output_type": "stream",
          "name": "stdout",
          "text": [
            "batch 630 loss: 0.31961658373475077\n"
          ]
        },
        {
          "output_type": "stream",
          "name": "stderr",
          "text": [
            "Train, Epoch 9 / 20:  41%|████      | 642/1563 [00:26<00:38, 23.97it/s]"
          ]
        },
        {
          "output_type": "stream",
          "name": "stdout",
          "text": [
            "batch 640 loss: 0.329194913059473\n"
          ]
        },
        {
          "output_type": "stream",
          "name": "stderr",
          "text": [
            "Train, Epoch 9 / 20:  42%|████▏     | 654/1563 [00:27<00:36, 24.69it/s]"
          ]
        },
        {
          "output_type": "stream",
          "name": "stdout",
          "text": [
            "batch 650 loss: 0.2241718165576458\n"
          ]
        },
        {
          "output_type": "stream",
          "name": "stderr",
          "text": [
            "Train, Epoch 9 / 20:  42%|████▏     | 663/1563 [00:27<00:36, 24.71it/s]"
          ]
        },
        {
          "output_type": "stream",
          "name": "stdout",
          "text": [
            "batch 660 loss: 0.22830233462154864\n"
          ]
        },
        {
          "output_type": "stream",
          "name": "stderr",
          "text": [
            "Train, Epoch 9 / 20:  43%|████▎     | 675/1563 [00:28<00:35, 24.69it/s]"
          ]
        },
        {
          "output_type": "stream",
          "name": "stdout",
          "text": [
            "batch 670 loss: 0.35908946245908735\n"
          ]
        },
        {
          "output_type": "stream",
          "name": "stderr",
          "text": [
            "Train, Epoch 9 / 20:  44%|████▍     | 684/1563 [00:28<00:35, 24.68it/s]"
          ]
        },
        {
          "output_type": "stream",
          "name": "stdout",
          "text": [
            "batch 680 loss: 0.327138564735651\n"
          ]
        },
        {
          "output_type": "stream",
          "name": "stderr",
          "text": [
            "Train, Epoch 9 / 20:  44%|████▍     | 693/1563 [00:28<00:35, 24.62it/s]"
          ]
        },
        {
          "output_type": "stream",
          "name": "stdout",
          "text": [
            "batch 690 loss: 0.2330816902220249\n"
          ]
        },
        {
          "output_type": "stream",
          "name": "stderr",
          "text": [
            "Train, Epoch 9 / 20:  45%|████▌     | 705/1563 [00:29<00:34, 24.76it/s]"
          ]
        },
        {
          "output_type": "stream",
          "name": "stdout",
          "text": [
            "batch 700 loss: 0.28083673119544983\n"
          ]
        },
        {
          "output_type": "stream",
          "name": "stderr",
          "text": [
            "Train, Epoch 9 / 20:  46%|████▌     | 714/1563 [00:29<00:34, 24.87it/s]"
          ]
        },
        {
          "output_type": "stream",
          "name": "stdout",
          "text": [
            "batch 710 loss: 0.29104426577687265\n"
          ]
        },
        {
          "output_type": "stream",
          "name": "stderr",
          "text": [
            "Train, Epoch 9 / 20:  46%|████▋     | 723/1563 [00:29<00:33, 24.76it/s]"
          ]
        },
        {
          "output_type": "stream",
          "name": "stdout",
          "text": [
            "batch 720 loss: 0.27308716252446175\n"
          ]
        },
        {
          "output_type": "stream",
          "name": "stderr",
          "text": [
            "Train, Epoch 9 / 20:  47%|████▋     | 735/1563 [00:30<00:33, 24.58it/s]"
          ]
        },
        {
          "output_type": "stream",
          "name": "stdout",
          "text": [
            "batch 730 loss: 0.2502989761531353\n"
          ]
        },
        {
          "output_type": "stream",
          "name": "stderr",
          "text": [
            "Train, Epoch 9 / 20:  48%|████▊     | 744/1563 [00:30<00:34, 23.84it/s]"
          ]
        },
        {
          "output_type": "stream",
          "name": "stdout",
          "text": [
            "batch 740 loss: 0.3043126255273819\n"
          ]
        },
        {
          "output_type": "stream",
          "name": "stderr",
          "text": [
            "Train, Epoch 9 / 20:  48%|████▊     | 753/1563 [00:31<00:36, 22.31it/s]"
          ]
        },
        {
          "output_type": "stream",
          "name": "stdout",
          "text": [
            "batch 750 loss: 0.21434525027871132\n"
          ]
        },
        {
          "output_type": "stream",
          "name": "stderr",
          "text": [
            "Train, Epoch 9 / 20:  49%|████▉     | 762/1563 [00:31<00:37, 21.35it/s]"
          ]
        },
        {
          "output_type": "stream",
          "name": "stdout",
          "text": [
            "batch 760 loss: 0.20124224424362183\n"
          ]
        },
        {
          "output_type": "stream",
          "name": "stderr",
          "text": [
            "Train, Epoch 9 / 20:  50%|████▉     | 774/1563 [00:32<00:37, 20.89it/s]"
          ]
        },
        {
          "output_type": "stream",
          "name": "stdout",
          "text": [
            "batch 770 loss: 0.28152220249176024\n"
          ]
        },
        {
          "output_type": "stream",
          "name": "stderr",
          "text": [
            "Train, Epoch 9 / 20:  50%|█████     | 783/1563 [00:32<00:36, 21.13it/s]"
          ]
        },
        {
          "output_type": "stream",
          "name": "stdout",
          "text": [
            "batch 780 loss: 0.29621867537498475\n"
          ]
        },
        {
          "output_type": "stream",
          "name": "stderr",
          "text": [
            "Train, Epoch 9 / 20:  51%|█████     | 792/1563 [00:33<00:36, 21.32it/s]"
          ]
        },
        {
          "output_type": "stream",
          "name": "stdout",
          "text": [
            "batch 790 loss: 0.26637687496840956\n"
          ]
        },
        {
          "output_type": "stream",
          "name": "stderr",
          "text": [
            "Train, Epoch 9 / 20:  51%|█████▏    | 804/1563 [00:33<00:32, 23.10it/s]"
          ]
        },
        {
          "output_type": "stream",
          "name": "stdout",
          "text": [
            "batch 800 loss: 0.3502251014113426\n"
          ]
        },
        {
          "output_type": "stream",
          "name": "stderr",
          "text": [
            "Train, Epoch 9 / 20:  52%|█████▏    | 813/1563 [00:34<00:31, 24.00it/s]"
          ]
        },
        {
          "output_type": "stream",
          "name": "stdout",
          "text": [
            "batch 810 loss: 0.21792075634002686\n"
          ]
        },
        {
          "output_type": "stream",
          "name": "stderr",
          "text": [
            "Train, Epoch 9 / 20:  53%|█████▎    | 825/1563 [00:34<00:29, 24.65it/s]"
          ]
        },
        {
          "output_type": "stream",
          "name": "stdout",
          "text": [
            "batch 820 loss: 0.3029404848814011\n"
          ]
        },
        {
          "output_type": "stream",
          "name": "stderr",
          "text": [
            "Train, Epoch 9 / 20:  53%|█████▎    | 834/1563 [00:34<00:29, 24.75it/s]"
          ]
        },
        {
          "output_type": "stream",
          "name": "stdout",
          "text": [
            "batch 830 loss: 0.29832848012447355\n"
          ]
        },
        {
          "output_type": "stream",
          "name": "stderr",
          "text": [
            "Train, Epoch 9 / 20:  54%|█████▍    | 843/1563 [00:35<00:29, 24.09it/s]"
          ]
        },
        {
          "output_type": "stream",
          "name": "stdout",
          "text": [
            "batch 840 loss: 0.26952745616436\n"
          ]
        },
        {
          "output_type": "stream",
          "name": "stderr",
          "text": [
            "Train, Epoch 9 / 20:  55%|█████▍    | 855/1563 [00:35<00:28, 24.53it/s]"
          ]
        },
        {
          "output_type": "stream",
          "name": "stdout",
          "text": [
            "batch 850 loss: 0.3175401329994202\n"
          ]
        },
        {
          "output_type": "stream",
          "name": "stderr",
          "text": [
            "Train, Epoch 9 / 20:  55%|█████▌    | 864/1563 [00:36<00:28, 24.47it/s]"
          ]
        },
        {
          "output_type": "stream",
          "name": "stdout",
          "text": [
            "batch 860 loss: 0.2727502502501011\n"
          ]
        },
        {
          "output_type": "stream",
          "name": "stderr",
          "text": [
            "Train, Epoch 9 / 20:  56%|█████▌    | 873/1563 [00:36<00:28, 24.56it/s]"
          ]
        },
        {
          "output_type": "stream",
          "name": "stdout",
          "text": [
            "batch 870 loss: 0.27811290323734283\n"
          ]
        },
        {
          "output_type": "stream",
          "name": "stderr",
          "text": [
            "Train, Epoch 9 / 20:  57%|█████▋    | 885/1563 [00:36<00:27, 24.43it/s]"
          ]
        },
        {
          "output_type": "stream",
          "name": "stdout",
          "text": [
            "batch 880 loss: 0.2740523055195808\n"
          ]
        },
        {
          "output_type": "stream",
          "name": "stderr",
          "text": [
            "Train, Epoch 9 / 20:  57%|█████▋    | 894/1563 [00:37<00:27, 24.75it/s]"
          ]
        },
        {
          "output_type": "stream",
          "name": "stdout",
          "text": [
            "batch 890 loss: 0.2514911025762558\n"
          ]
        },
        {
          "output_type": "stream",
          "name": "stderr",
          "text": [
            "Train, Epoch 9 / 20:  58%|█████▊    | 903/1563 [00:37<00:26, 24.79it/s]"
          ]
        },
        {
          "output_type": "stream",
          "name": "stdout",
          "text": [
            "batch 900 loss: 0.26183436512947084\n"
          ]
        },
        {
          "output_type": "stream",
          "name": "stderr",
          "text": [
            "Train, Epoch 9 / 20:  59%|█████▊    | 915/1563 [00:38<00:26, 24.74it/s]"
          ]
        },
        {
          "output_type": "stream",
          "name": "stdout",
          "text": [
            "batch 910 loss: 0.2877300813794136\n"
          ]
        },
        {
          "output_type": "stream",
          "name": "stderr",
          "text": [
            "Train, Epoch 9 / 20:  59%|█████▉    | 924/1563 [00:38<00:26, 24.51it/s]"
          ]
        },
        {
          "output_type": "stream",
          "name": "stdout",
          "text": [
            "batch 920 loss: 0.23944796100258828\n"
          ]
        },
        {
          "output_type": "stream",
          "name": "stderr",
          "text": [
            "Train, Epoch 9 / 20:  60%|█████▉    | 933/1563 [00:38<00:25, 24.71it/s]"
          ]
        },
        {
          "output_type": "stream",
          "name": "stdout",
          "text": [
            "batch 930 loss: 0.3711061835289001\n"
          ]
        },
        {
          "output_type": "stream",
          "name": "stderr",
          "text": [
            "Train, Epoch 9 / 20:  60%|██████    | 945/1563 [00:39<00:24, 24.77it/s]"
          ]
        },
        {
          "output_type": "stream",
          "name": "stdout",
          "text": [
            "batch 940 loss: 0.29440496638417246\n"
          ]
        },
        {
          "output_type": "stream",
          "name": "stderr",
          "text": [
            "Train, Epoch 9 / 20:  61%|██████    | 954/1563 [00:39<00:24, 24.86it/s]"
          ]
        },
        {
          "output_type": "stream",
          "name": "stdout",
          "text": [
            "batch 950 loss: 0.3301020137965679\n"
          ]
        },
        {
          "output_type": "stream",
          "name": "stderr",
          "text": [
            "Train, Epoch 9 / 20:  62%|██████▏   | 963/1563 [00:40<00:24, 24.72it/s]"
          ]
        },
        {
          "output_type": "stream",
          "name": "stdout",
          "text": [
            "batch 960 loss: 0.27024596855044364\n"
          ]
        },
        {
          "output_type": "stream",
          "name": "stderr",
          "text": [
            "Train, Epoch 9 / 20:  62%|██████▏   | 975/1563 [00:40<00:23, 24.87it/s]"
          ]
        },
        {
          "output_type": "stream",
          "name": "stdout",
          "text": [
            "batch 970 loss: 0.29636642560362814\n"
          ]
        },
        {
          "output_type": "stream",
          "name": "stderr",
          "text": [
            "Train, Epoch 9 / 20:  63%|██████▎   | 984/1563 [00:40<00:23, 24.29it/s]"
          ]
        },
        {
          "output_type": "stream",
          "name": "stdout",
          "text": [
            "batch 980 loss: 0.3770240515470505\n"
          ]
        },
        {
          "output_type": "stream",
          "name": "stderr",
          "text": [
            "Train, Epoch 9 / 20:  64%|██████▎   | 993/1563 [00:41<00:23, 23.90it/s]"
          ]
        },
        {
          "output_type": "stream",
          "name": "stdout",
          "text": [
            "batch 990 loss: 0.34361082017421724\n"
          ]
        },
        {
          "output_type": "stream",
          "name": "stderr",
          "text": [
            "Train, Epoch 9 / 20:  64%|██████▍   | 1005/1563 [00:41<00:22, 24.74it/s]"
          ]
        },
        {
          "output_type": "stream",
          "name": "stdout",
          "text": [
            "batch 1000 loss: 0.25572954714298246\n"
          ]
        },
        {
          "output_type": "stream",
          "name": "stderr",
          "text": [
            "Train, Epoch 9 / 20:  65%|██████▍   | 1014/1563 [00:42<00:22, 24.69it/s]"
          ]
        },
        {
          "output_type": "stream",
          "name": "stdout",
          "text": [
            "batch 1010 loss: 0.34070208221673964\n"
          ]
        },
        {
          "output_type": "stream",
          "name": "stderr",
          "text": [
            "Train, Epoch 9 / 20:  65%|██████▌   | 1023/1563 [00:42<00:21, 24.73it/s]"
          ]
        },
        {
          "output_type": "stream",
          "name": "stdout",
          "text": [
            "batch 1020 loss: 0.30264865458011625\n"
          ]
        },
        {
          "output_type": "stream",
          "name": "stderr",
          "text": [
            "Train, Epoch 9 / 20:  66%|██████▌   | 1035/1563 [00:43<00:21, 24.66it/s]"
          ]
        },
        {
          "output_type": "stream",
          "name": "stdout",
          "text": [
            "batch 1030 loss: 0.3527009509503841\n"
          ]
        },
        {
          "output_type": "stream",
          "name": "stderr",
          "text": [
            "Train, Epoch 9 / 20:  67%|██████▋   | 1044/1563 [00:43<00:21, 23.93it/s]"
          ]
        },
        {
          "output_type": "stream",
          "name": "stdout",
          "text": [
            "batch 1040 loss: 0.24462642669677734\n"
          ]
        },
        {
          "output_type": "stream",
          "name": "stderr",
          "text": [
            "Train, Epoch 9 / 20:  67%|██████▋   | 1053/1563 [00:43<00:22, 23.15it/s]"
          ]
        },
        {
          "output_type": "stream",
          "name": "stdout",
          "text": [
            "batch 1050 loss: 0.2346271239221096\n"
          ]
        },
        {
          "output_type": "stream",
          "name": "stderr",
          "text": [
            "Train, Epoch 9 / 20:  68%|██████▊   | 1062/1563 [00:44<00:21, 23.16it/s]"
          ]
        },
        {
          "output_type": "stream",
          "name": "stdout",
          "text": [
            "batch 1060 loss: 0.25720544308424\n"
          ]
        },
        {
          "output_type": "stream",
          "name": "stderr",
          "text": [
            "Train, Epoch 9 / 20:  69%|██████▊   | 1074/1563 [00:44<00:21, 23.12it/s]"
          ]
        },
        {
          "output_type": "stream",
          "name": "stdout",
          "text": [
            "batch 1070 loss: 0.2148047626018524\n"
          ]
        },
        {
          "output_type": "stream",
          "name": "stderr",
          "text": [
            "Train, Epoch 9 / 20:  69%|██████▉   | 1083/1563 [00:45<00:21, 22.33it/s]"
          ]
        },
        {
          "output_type": "stream",
          "name": "stdout",
          "text": [
            "batch 1080 loss: 0.3024756357073784\n"
          ]
        },
        {
          "output_type": "stream",
          "name": "stderr",
          "text": [
            "Train, Epoch 9 / 20:  70%|██████▉   | 1092/1563 [00:45<00:21, 22.05it/s]"
          ]
        },
        {
          "output_type": "stream",
          "name": "stdout",
          "text": [
            "batch 1090 loss: 0.2345667786896229\n"
          ]
        },
        {
          "output_type": "stream",
          "name": "stderr",
          "text": [
            "Train, Epoch 9 / 20:  71%|███████   | 1104/1563 [00:46<00:19, 23.72it/s]"
          ]
        },
        {
          "output_type": "stream",
          "name": "stdout",
          "text": [
            "batch 1100 loss: 0.30592572391033174\n"
          ]
        },
        {
          "output_type": "stream",
          "name": "stderr",
          "text": [
            "Train, Epoch 9 / 20:  71%|███████   | 1113/1563 [00:46<00:18, 24.16it/s]"
          ]
        },
        {
          "output_type": "stream",
          "name": "stdout",
          "text": [
            "batch 1110 loss: 0.3147065550088882\n"
          ]
        },
        {
          "output_type": "stream",
          "name": "stderr",
          "text": [
            "Train, Epoch 9 / 20:  72%|███████▏  | 1125/1563 [00:46<00:17, 24.53it/s]"
          ]
        },
        {
          "output_type": "stream",
          "name": "stdout",
          "text": [
            "batch 1120 loss: 0.27284877374768257\n"
          ]
        },
        {
          "output_type": "stream",
          "name": "stderr",
          "text": [
            "Train, Epoch 9 / 20:  73%|███████▎  | 1134/1563 [00:47<00:17, 23.89it/s]"
          ]
        },
        {
          "output_type": "stream",
          "name": "stdout",
          "text": [
            "batch 1130 loss: 0.2586067162454128\n"
          ]
        },
        {
          "output_type": "stream",
          "name": "stderr",
          "text": [
            "Train, Epoch 9 / 20:  73%|███████▎  | 1143/1563 [00:47<00:17, 24.35it/s]"
          ]
        },
        {
          "output_type": "stream",
          "name": "stdout",
          "text": [
            "batch 1140 loss: 0.2515276290476322\n"
          ]
        },
        {
          "output_type": "stream",
          "name": "stderr",
          "text": [
            "Train, Epoch 9 / 20:  74%|███████▍  | 1155/1563 [00:48<00:16, 24.55it/s]"
          ]
        },
        {
          "output_type": "stream",
          "name": "stdout",
          "text": [
            "batch 1150 loss: 0.3200408138334751\n"
          ]
        },
        {
          "output_type": "stream",
          "name": "stderr",
          "text": [
            "Train, Epoch 9 / 20:  74%|███████▍  | 1164/1563 [00:48<00:16, 24.63it/s]"
          ]
        },
        {
          "output_type": "stream",
          "name": "stdout",
          "text": [
            "batch 1160 loss: 0.26698225662112235\n"
          ]
        },
        {
          "output_type": "stream",
          "name": "stderr",
          "text": [
            "Train, Epoch 9 / 20:  75%|███████▌  | 1173/1563 [00:48<00:15, 24.60it/s]"
          ]
        },
        {
          "output_type": "stream",
          "name": "stdout",
          "text": [
            "batch 1170 loss: 0.2873413681983948\n"
          ]
        },
        {
          "output_type": "stream",
          "name": "stderr",
          "text": [
            "Train, Epoch 9 / 20:  76%|███████▌  | 1185/1563 [00:49<00:15, 24.68it/s]"
          ]
        },
        {
          "output_type": "stream",
          "name": "stdout",
          "text": [
            "batch 1180 loss: 0.2593444660305977\n"
          ]
        },
        {
          "output_type": "stream",
          "name": "stderr",
          "text": [
            "Train, Epoch 9 / 20:  76%|███████▋  | 1194/1563 [00:49<00:15, 24.43it/s]"
          ]
        },
        {
          "output_type": "stream",
          "name": "stdout",
          "text": [
            "batch 1190 loss: 0.3661955431103706\n"
          ]
        },
        {
          "output_type": "stream",
          "name": "stderr",
          "text": [
            "Train, Epoch 9 / 20:  77%|███████▋  | 1203/1563 [00:50<00:14, 24.73it/s]"
          ]
        },
        {
          "output_type": "stream",
          "name": "stdout",
          "text": [
            "batch 1200 loss: 0.3149050667881966\n"
          ]
        },
        {
          "output_type": "stream",
          "name": "stderr",
          "text": [
            "Train, Epoch 9 / 20:  78%|███████▊  | 1215/1563 [00:50<00:13, 24.89it/s]"
          ]
        },
        {
          "output_type": "stream",
          "name": "stdout",
          "text": [
            "batch 1210 loss: 0.3048096425831318\n"
          ]
        },
        {
          "output_type": "stream",
          "name": "stderr",
          "text": [
            "Train, Epoch 9 / 20:  78%|███████▊  | 1224/1563 [00:50<00:13, 24.86it/s]"
          ]
        },
        {
          "output_type": "stream",
          "name": "stdout",
          "text": [
            "batch 1220 loss: 0.300959599763155\n"
          ]
        },
        {
          "output_type": "stream",
          "name": "stderr",
          "text": [
            "Train, Epoch 9 / 20:  79%|███████▉  | 1233/1563 [00:51<00:13, 24.72it/s]"
          ]
        },
        {
          "output_type": "stream",
          "name": "stdout",
          "text": [
            "batch 1230 loss: 0.23256939686834813\n"
          ]
        },
        {
          "output_type": "stream",
          "name": "stderr",
          "text": [
            "Train, Epoch 9 / 20:  80%|███████▉  | 1245/1563 [00:51<00:12, 24.85it/s]"
          ]
        },
        {
          "output_type": "stream",
          "name": "stdout",
          "text": [
            "batch 1240 loss: 0.2961549453437328\n"
          ]
        },
        {
          "output_type": "stream",
          "name": "stderr",
          "text": [
            "Train, Epoch 9 / 20:  80%|████████  | 1254/1563 [00:52<00:12, 24.77it/s]"
          ]
        },
        {
          "output_type": "stream",
          "name": "stdout",
          "text": [
            "batch 1250 loss: 0.17008532881736754\n"
          ]
        },
        {
          "output_type": "stream",
          "name": "stderr",
          "text": [
            "Train, Epoch 9 / 20:  81%|████████  | 1263/1563 [00:52<00:12, 24.73it/s]"
          ]
        },
        {
          "output_type": "stream",
          "name": "stdout",
          "text": [
            "batch 1260 loss: 0.2598601870238781\n"
          ]
        },
        {
          "output_type": "stream",
          "name": "stderr",
          "text": [
            "Train, Epoch 9 / 20:  81%|████████▏ | 1272/1563 [00:52<00:11, 24.71it/s]"
          ]
        },
        {
          "output_type": "stream",
          "name": "stdout",
          "text": [
            "batch 1270 loss: 0.3394962713122368\n"
          ]
        },
        {
          "output_type": "stream",
          "name": "stderr",
          "text": [
            "Train, Epoch 9 / 20:  82%|████████▏ | 1284/1563 [00:53<00:11, 24.62it/s]"
          ]
        },
        {
          "output_type": "stream",
          "name": "stdout",
          "text": [
            "batch 1280 loss: 0.3065133675932884\n"
          ]
        },
        {
          "output_type": "stream",
          "name": "stderr",
          "text": [
            "Train, Epoch 9 / 20:  83%|████████▎ | 1293/1563 [00:53<00:10, 24.79it/s]"
          ]
        },
        {
          "output_type": "stream",
          "name": "stdout",
          "text": [
            "batch 1290 loss: 0.3348499648272991\n"
          ]
        },
        {
          "output_type": "stream",
          "name": "stderr",
          "text": [
            "Train, Epoch 9 / 20:  83%|████████▎ | 1305/1563 [00:54<00:10, 24.83it/s]"
          ]
        },
        {
          "output_type": "stream",
          "name": "stdout",
          "text": [
            "batch 1300 loss: 0.27922049462795256\n"
          ]
        },
        {
          "output_type": "stream",
          "name": "stderr",
          "text": [
            "Train, Epoch 9 / 20:  84%|████████▍ | 1314/1563 [00:54<00:10, 24.67it/s]"
          ]
        },
        {
          "output_type": "stream",
          "name": "stdout",
          "text": [
            "batch 1310 loss: 0.2692758485674858\n"
          ]
        },
        {
          "output_type": "stream",
          "name": "stderr",
          "text": [
            "Train, Epoch 9 / 20:  85%|████████▍ | 1323/1563 [00:55<00:09, 24.60it/s]"
          ]
        },
        {
          "output_type": "stream",
          "name": "stdout",
          "text": [
            "batch 1320 loss: 0.3159219339489937\n"
          ]
        },
        {
          "output_type": "stream",
          "name": "stderr",
          "text": [
            "Train, Epoch 9 / 20:  85%|████████▌ | 1332/1563 [00:55<00:09, 24.47it/s]"
          ]
        },
        {
          "output_type": "stream",
          "name": "stdout",
          "text": [
            "batch 1330 loss: 0.27293719798326493\n"
          ]
        },
        {
          "output_type": "stream",
          "name": "stderr",
          "text": [
            "Train, Epoch 9 / 20:  86%|████████▌ | 1344/1563 [00:55<00:09, 24.14it/s]"
          ]
        },
        {
          "output_type": "stream",
          "name": "stdout",
          "text": [
            "batch 1340 loss: 0.2591414138674736\n"
          ]
        },
        {
          "output_type": "stream",
          "name": "stderr",
          "text": [
            "Train, Epoch 9 / 20:  87%|████████▋ | 1353/1563 [00:56<00:09, 23.01it/s]"
          ]
        },
        {
          "output_type": "stream",
          "name": "stdout",
          "text": [
            "batch 1350 loss: 0.2529101461172104\n"
          ]
        },
        {
          "output_type": "stream",
          "name": "stderr",
          "text": [
            "Train, Epoch 9 / 20:  87%|████████▋ | 1362/1563 [00:56<00:09, 22.17it/s]"
          ]
        },
        {
          "output_type": "stream",
          "name": "stdout",
          "text": [
            "batch 1360 loss: 0.283264571428299\n"
          ]
        },
        {
          "output_type": "stream",
          "name": "stderr",
          "text": [
            "Train, Epoch 9 / 20:  88%|████████▊ | 1374/1563 [00:57<00:08, 21.71it/s]"
          ]
        },
        {
          "output_type": "stream",
          "name": "stdout",
          "text": [
            "batch 1370 loss: 0.2502674862742424\n"
          ]
        },
        {
          "output_type": "stream",
          "name": "stderr",
          "text": [
            "Train, Epoch 9 / 20:  88%|████████▊ | 1383/1563 [00:57<00:08, 21.56it/s]"
          ]
        },
        {
          "output_type": "stream",
          "name": "stdout",
          "text": [
            "batch 1380 loss: 0.3170065596699715\n"
          ]
        },
        {
          "output_type": "stream",
          "name": "stderr",
          "text": [
            "Train, Epoch 9 / 20:  89%|████████▉ | 1392/1563 [00:58<00:08, 20.69it/s]"
          ]
        },
        {
          "output_type": "stream",
          "name": "stdout",
          "text": [
            "batch 1390 loss: 0.2901325456798077\n"
          ]
        },
        {
          "output_type": "stream",
          "name": "stderr",
          "text": [
            "Train, Epoch 9 / 20:  90%|████████▉ | 1404/1563 [00:58<00:06, 23.43it/s]"
          ]
        },
        {
          "output_type": "stream",
          "name": "stdout",
          "text": [
            "batch 1400 loss: 0.28303245827555656\n"
          ]
        },
        {
          "output_type": "stream",
          "name": "stderr",
          "text": [
            "Train, Epoch 9 / 20:  90%|█████████ | 1413/1563 [00:58<00:06, 24.19it/s]"
          ]
        },
        {
          "output_type": "stream",
          "name": "stdout",
          "text": [
            "batch 1410 loss: 0.2743615090847015\n"
          ]
        },
        {
          "output_type": "stream",
          "name": "stderr",
          "text": [
            "Train, Epoch 9 / 20:  91%|█████████ | 1425/1563 [00:59<00:05, 24.47it/s]"
          ]
        },
        {
          "output_type": "stream",
          "name": "stdout",
          "text": [
            "batch 1420 loss: 0.29644088000059127\n"
          ]
        },
        {
          "output_type": "stream",
          "name": "stderr",
          "text": [
            "Train, Epoch 9 / 20:  92%|█████████▏| 1434/1563 [00:59<00:05, 24.35it/s]"
          ]
        },
        {
          "output_type": "stream",
          "name": "stdout",
          "text": [
            "batch 1430 loss: 0.24957113936543465\n"
          ]
        },
        {
          "output_type": "stream",
          "name": "stderr",
          "text": [
            "Train, Epoch 9 / 20:  92%|█████████▏| 1443/1563 [01:00<00:04, 24.49it/s]"
          ]
        },
        {
          "output_type": "stream",
          "name": "stdout",
          "text": [
            "batch 1440 loss: 0.19886974170804023\n"
          ]
        },
        {
          "output_type": "stream",
          "name": "stderr",
          "text": [
            "Train, Epoch 9 / 20:  93%|█████████▎| 1455/1563 [01:00<00:04, 24.82it/s]"
          ]
        },
        {
          "output_type": "stream",
          "name": "stdout",
          "text": [
            "batch 1450 loss: 0.34747690707445145\n"
          ]
        },
        {
          "output_type": "stream",
          "name": "stderr",
          "text": [
            "Train, Epoch 9 / 20:  94%|█████████▎| 1464/1563 [01:01<00:04, 24.60it/s]"
          ]
        },
        {
          "output_type": "stream",
          "name": "stdout",
          "text": [
            "batch 1460 loss: 0.28061140030622483\n"
          ]
        },
        {
          "output_type": "stream",
          "name": "stderr",
          "text": [
            "Train, Epoch 9 / 20:  94%|█████████▍| 1473/1563 [01:01<00:03, 24.67it/s]"
          ]
        },
        {
          "output_type": "stream",
          "name": "stdout",
          "text": [
            "batch 1470 loss: 0.18467142134904863\n"
          ]
        },
        {
          "output_type": "stream",
          "name": "stderr",
          "text": [
            "Train, Epoch 9 / 20:  95%|█████████▌| 1485/1563 [01:01<00:03, 24.68it/s]"
          ]
        },
        {
          "output_type": "stream",
          "name": "stdout",
          "text": [
            "batch 1480 loss: 0.34220951423048973\n"
          ]
        },
        {
          "output_type": "stream",
          "name": "stderr",
          "text": [
            "Train, Epoch 9 / 20:  96%|█████████▌| 1494/1563 [01:02<00:02, 24.93it/s]"
          ]
        },
        {
          "output_type": "stream",
          "name": "stdout",
          "text": [
            "batch 1490 loss: 0.33941956907510756\n"
          ]
        },
        {
          "output_type": "stream",
          "name": "stderr",
          "text": [
            "Train, Epoch 9 / 20:  96%|█████████▌| 1503/1563 [01:02<00:02, 24.74it/s]"
          ]
        },
        {
          "output_type": "stream",
          "name": "stdout",
          "text": [
            "batch 1500 loss: 0.26797334402799605\n"
          ]
        },
        {
          "output_type": "stream",
          "name": "stderr",
          "text": [
            "Train, Epoch 9 / 20:  97%|█████████▋| 1515/1563 [01:03<00:01, 24.93it/s]"
          ]
        },
        {
          "output_type": "stream",
          "name": "stdout",
          "text": [
            "batch 1510 loss: 0.3176534056663513\n"
          ]
        },
        {
          "output_type": "stream",
          "name": "stderr",
          "text": [
            "Train, Epoch 9 / 20:  98%|█████████▊| 1524/1563 [01:03<00:01, 24.77it/s]"
          ]
        },
        {
          "output_type": "stream",
          "name": "stdout",
          "text": [
            "batch 1520 loss: 0.2861692041158676\n"
          ]
        },
        {
          "output_type": "stream",
          "name": "stderr",
          "text": [
            "Train, Epoch 9 / 20:  98%|█████████▊| 1533/1563 [01:03<00:01, 24.47it/s]"
          ]
        },
        {
          "output_type": "stream",
          "name": "stdout",
          "text": [
            "batch 1530 loss: 0.2208839774131775\n"
          ]
        },
        {
          "output_type": "stream",
          "name": "stderr",
          "text": [
            "Train, Epoch 9 / 20:  99%|█████████▉| 1545/1563 [01:04<00:00, 24.58it/s]"
          ]
        },
        {
          "output_type": "stream",
          "name": "stdout",
          "text": [
            "batch 1540 loss: 0.28144084215164183\n"
          ]
        },
        {
          "output_type": "stream",
          "name": "stderr",
          "text": [
            "Train, Epoch 9 / 20:  99%|█████████▉| 1554/1563 [01:04<00:00, 24.63it/s]"
          ]
        },
        {
          "output_type": "stream",
          "name": "stdout",
          "text": [
            "batch 1550 loss: 0.3204451620578766\n"
          ]
        },
        {
          "output_type": "stream",
          "name": "stderr",
          "text": [
            "Train, Epoch 9 / 20: 100%|██████████| 1563/1563 [01:05<00:00, 24.02it/s]\n"
          ]
        },
        {
          "output_type": "stream",
          "name": "stdout",
          "text": [
            "batch 1560 loss: 0.3154409423470497\n"
          ]
        },
        {
          "output_type": "stream",
          "name": "stderr",
          "text": [
            "Test, Epoch 9 / 20: 100%|██████████| 1563/1563 [00:30<00:00, 51.07it/s]\n"
          ]
        },
        {
          "output_type": "stream",
          "name": "stdout",
          "text": [
            "Epoch 9, loss: 0.46509002470195293, accuracy: 0.80456\n"
          ]
        },
        {
          "output_type": "stream",
          "name": "stderr",
          "text": [
            "Train, Epoch 10 / 20:   1%|          | 15/1563 [00:00<01:02, 24.62it/s]"
          ]
        },
        {
          "output_type": "stream",
          "name": "stdout",
          "text": [
            "batch 10 loss: 0.2503633894026279\n"
          ]
        },
        {
          "output_type": "stream",
          "name": "stderr",
          "text": [
            "Train, Epoch 10 / 20:   2%|▏         | 24/1563 [00:00<01:02, 24.69it/s]"
          ]
        },
        {
          "output_type": "stream",
          "name": "stdout",
          "text": [
            "batch 20 loss: 0.2370956439524889\n"
          ]
        },
        {
          "output_type": "stream",
          "name": "stderr",
          "text": [
            "Train, Epoch 10 / 20:   2%|▏         | 33/1563 [00:01<01:02, 24.33it/s]"
          ]
        },
        {
          "output_type": "stream",
          "name": "stdout",
          "text": [
            "batch 30 loss: 0.3048309415578842\n"
          ]
        },
        {
          "output_type": "stream",
          "name": "stderr",
          "text": [
            "Train, Epoch 10 / 20:   3%|▎         | 45/1563 [00:01<01:02, 24.44it/s]"
          ]
        },
        {
          "output_type": "stream",
          "name": "stdout",
          "text": [
            "batch 40 loss: 0.2653053104877472\n"
          ]
        },
        {
          "output_type": "stream",
          "name": "stderr",
          "text": [
            "Train, Epoch 10 / 20:   3%|▎         | 54/1563 [00:02<01:01, 24.42it/s]"
          ]
        },
        {
          "output_type": "stream",
          "name": "stdout",
          "text": [
            "batch 50 loss: 0.22103567123413087\n"
          ]
        },
        {
          "output_type": "stream",
          "name": "stderr",
          "text": [
            "Train, Epoch 10 / 20:   4%|▍         | 63/1563 [00:02<01:03, 23.70it/s]"
          ]
        },
        {
          "output_type": "stream",
          "name": "stdout",
          "text": [
            "batch 60 loss: 0.21962944120168687\n"
          ]
        },
        {
          "output_type": "stream",
          "name": "stderr",
          "text": [
            "Train, Epoch 10 / 20:   5%|▍         | 72/1563 [00:02<01:01, 24.26it/s]"
          ]
        },
        {
          "output_type": "stream",
          "name": "stdout",
          "text": [
            "batch 70 loss: 0.18541738539934158\n"
          ]
        },
        {
          "output_type": "stream",
          "name": "stderr",
          "text": [
            "Train, Epoch 10 / 20:   5%|▌         | 84/1563 [00:03<01:01, 24.13it/s]"
          ]
        },
        {
          "output_type": "stream",
          "name": "stdout",
          "text": [
            "batch 80 loss: 0.3225243717432022\n"
          ]
        },
        {
          "output_type": "stream",
          "name": "stderr",
          "text": [
            "Train, Epoch 10 / 20:   6%|▌         | 93/1563 [00:03<01:00, 24.43it/s]"
          ]
        },
        {
          "output_type": "stream",
          "name": "stdout",
          "text": [
            "batch 90 loss: 0.2881683215498924\n"
          ]
        },
        {
          "output_type": "stream",
          "name": "stderr",
          "text": [
            "Train, Epoch 10 / 20:   7%|▋         | 102/1563 [00:04<00:59, 24.37it/s]"
          ]
        },
        {
          "output_type": "stream",
          "name": "stdout",
          "text": [
            "batch 100 loss: 0.22748560905456544\n"
          ]
        },
        {
          "output_type": "stream",
          "name": "stderr",
          "text": [
            "Train, Epoch 10 / 20:   7%|▋         | 114/1563 [00:04<00:59, 24.52it/s]"
          ]
        },
        {
          "output_type": "stream",
          "name": "stdout",
          "text": [
            "batch 110 loss: 0.250778466463089\n"
          ]
        },
        {
          "output_type": "stream",
          "name": "stderr",
          "text": [
            "Train, Epoch 10 / 20:   8%|▊         | 123/1563 [00:05<00:59, 24.34it/s]"
          ]
        },
        {
          "output_type": "stream",
          "name": "stdout",
          "text": [
            "batch 120 loss: 0.2481578841805458\n"
          ]
        },
        {
          "output_type": "stream",
          "name": "stderr",
          "text": [
            "Train, Epoch 10 / 20:   9%|▊         | 135/1563 [00:05<00:58, 24.48it/s]"
          ]
        },
        {
          "output_type": "stream",
          "name": "stdout",
          "text": [
            "batch 130 loss: 0.2183644652366638\n"
          ]
        },
        {
          "output_type": "stream",
          "name": "stderr",
          "text": [
            "Train, Epoch 10 / 20:   9%|▉         | 144/1563 [00:05<00:58, 24.39it/s]"
          ]
        },
        {
          "output_type": "stream",
          "name": "stdout",
          "text": [
            "batch 140 loss: 0.2428643561899662\n"
          ]
        },
        {
          "output_type": "stream",
          "name": "stderr",
          "text": [
            "Train, Epoch 10 / 20:  10%|▉         | 153/1563 [00:06<00:59, 23.65it/s]"
          ]
        },
        {
          "output_type": "stream",
          "name": "stdout",
          "text": [
            "batch 150 loss: 0.3414902612566948\n"
          ]
        },
        {
          "output_type": "stream",
          "name": "stderr",
          "text": [
            "Train, Epoch 10 / 20:  11%|█         | 165/1563 [00:06<00:57, 24.12it/s]"
          ]
        },
        {
          "output_type": "stream",
          "name": "stdout",
          "text": [
            "batch 160 loss: 0.24243163987994193\n"
          ]
        },
        {
          "output_type": "stream",
          "name": "stderr",
          "text": [
            "Train, Epoch 10 / 20:  11%|█         | 174/1563 [00:07<00:56, 24.42it/s]"
          ]
        },
        {
          "output_type": "stream",
          "name": "stdout",
          "text": [
            "batch 170 loss: 0.25528679564595225\n"
          ]
        },
        {
          "output_type": "stream",
          "name": "stderr",
          "text": [
            "Train, Epoch 10 / 20:  12%|█▏        | 183/1563 [00:07<00:57, 24.09it/s]"
          ]
        },
        {
          "output_type": "stream",
          "name": "stdout",
          "text": [
            "batch 180 loss: 0.22760459929704666\n"
          ]
        },
        {
          "output_type": "stream",
          "name": "stderr",
          "text": [
            "Train, Epoch 10 / 20:  12%|█▏        | 195/1563 [00:08<00:55, 24.46it/s]"
          ]
        },
        {
          "output_type": "stream",
          "name": "stdout",
          "text": [
            "batch 190 loss: 0.280350935459137\n"
          ]
        },
        {
          "output_type": "stream",
          "name": "stderr",
          "text": [
            "Train, Epoch 10 / 20:  13%|█▎        | 204/1563 [00:08<00:55, 24.49it/s]"
          ]
        },
        {
          "output_type": "stream",
          "name": "stdout",
          "text": [
            "batch 200 loss: 0.2363944508135319\n"
          ]
        },
        {
          "output_type": "stream",
          "name": "stderr",
          "text": [
            "Train, Epoch 10 / 20:  14%|█▎        | 213/1563 [00:08<00:54, 24.57it/s]"
          ]
        },
        {
          "output_type": "stream",
          "name": "stdout",
          "text": [
            "batch 210 loss: 0.2728255517780781\n"
          ]
        },
        {
          "output_type": "stream",
          "name": "stderr",
          "text": [
            "Train, Epoch 10 / 20:  14%|█▍        | 222/1563 [00:09<00:54, 24.56it/s]"
          ]
        },
        {
          "output_type": "stream",
          "name": "stdout",
          "text": [
            "batch 220 loss: 0.2364900939166546\n"
          ]
        },
        {
          "output_type": "stream",
          "name": "stderr",
          "text": [
            "Train, Epoch 10 / 20:  15%|█▍        | 234/1563 [00:09<00:54, 24.22it/s]"
          ]
        },
        {
          "output_type": "stream",
          "name": "stdout",
          "text": [
            "batch 230 loss: 0.3099446684122086\n"
          ]
        },
        {
          "output_type": "stream",
          "name": "stderr",
          "text": [
            "Train, Epoch 10 / 20:  16%|█▌        | 243/1563 [00:10<00:58, 22.75it/s]"
          ]
        },
        {
          "output_type": "stream",
          "name": "stdout",
          "text": [
            "batch 240 loss: 0.2510800860822201\n"
          ]
        },
        {
          "output_type": "stream",
          "name": "stderr",
          "text": [
            "Train, Epoch 10 / 20:  16%|█▌        | 252/1563 [00:10<01:00, 21.58it/s]"
          ]
        },
        {
          "output_type": "stream",
          "name": "stdout",
          "text": [
            "batch 250 loss: 0.2721540242433548\n"
          ]
        },
        {
          "output_type": "stream",
          "name": "stderr",
          "text": [
            "Train, Epoch 10 / 20:  17%|█▋        | 264/1563 [00:11<01:00, 21.37it/s]"
          ]
        },
        {
          "output_type": "stream",
          "name": "stdout",
          "text": [
            "batch 260 loss: 0.344561680406332\n"
          ]
        },
        {
          "output_type": "stream",
          "name": "stderr",
          "text": [
            "Train, Epoch 10 / 20:  17%|█▋        | 273/1563 [00:11<01:02, 20.67it/s]"
          ]
        },
        {
          "output_type": "stream",
          "name": "stdout",
          "text": [
            "batch 270 loss: 0.28375293537974355\n"
          ]
        },
        {
          "output_type": "stream",
          "name": "stderr",
          "text": [
            "Train, Epoch 10 / 20:  18%|█▊        | 282/1563 [00:11<01:00, 21.27it/s]"
          ]
        },
        {
          "output_type": "stream",
          "name": "stdout",
          "text": [
            "batch 280 loss: 0.32368946373462676\n"
          ]
        },
        {
          "output_type": "stream",
          "name": "stderr",
          "text": [
            "Train, Epoch 10 / 20:  19%|█▉        | 294/1563 [00:12<00:56, 22.51it/s]"
          ]
        },
        {
          "output_type": "stream",
          "name": "stdout",
          "text": [
            "batch 290 loss: 0.27935843616724015\n"
          ]
        },
        {
          "output_type": "stream",
          "name": "stderr",
          "text": [
            "Train, Epoch 10 / 20:  19%|█▉        | 303/1563 [00:12<00:53, 23.74it/s]"
          ]
        },
        {
          "output_type": "stream",
          "name": "stdout",
          "text": [
            "batch 300 loss: 0.29805096089839933\n"
          ]
        },
        {
          "output_type": "stream",
          "name": "stderr",
          "text": [
            "Train, Epoch 10 / 20:  20%|█▉        | 312/1563 [00:13<00:52, 23.96it/s]"
          ]
        },
        {
          "output_type": "stream",
          "name": "stdout",
          "text": [
            "batch 310 loss: 0.24915266856551171\n"
          ]
        },
        {
          "output_type": "stream",
          "name": "stderr",
          "text": [
            "Train, Epoch 10 / 20:  21%|██        | 324/1563 [00:13<00:50, 24.30it/s]"
          ]
        },
        {
          "output_type": "stream",
          "name": "stdout",
          "text": [
            "batch 320 loss: 0.2532946072518826\n"
          ]
        },
        {
          "output_type": "stream",
          "name": "stderr",
          "text": [
            "Train, Epoch 10 / 20:  21%|██▏       | 333/1563 [00:14<00:50, 24.38it/s]"
          ]
        },
        {
          "output_type": "stream",
          "name": "stdout",
          "text": [
            "batch 330 loss: 0.33879345953464507\n"
          ]
        },
        {
          "output_type": "stream",
          "name": "stderr",
          "text": [
            "Train, Epoch 10 / 20:  22%|██▏       | 345/1563 [00:14<00:49, 24.63it/s]"
          ]
        },
        {
          "output_type": "stream",
          "name": "stdout",
          "text": [
            "batch 340 loss: 0.22797172293066978\n"
          ]
        },
        {
          "output_type": "stream",
          "name": "stderr",
          "text": [
            "Train, Epoch 10 / 20:  23%|██▎       | 354/1563 [00:14<00:49, 24.45it/s]"
          ]
        },
        {
          "output_type": "stream",
          "name": "stdout",
          "text": [
            "batch 350 loss: 0.29747961163520814\n"
          ]
        },
        {
          "output_type": "stream",
          "name": "stderr",
          "text": [
            "Train, Epoch 10 / 20:  23%|██▎       | 363/1563 [00:15<00:48, 24.80it/s]"
          ]
        },
        {
          "output_type": "stream",
          "name": "stdout",
          "text": [
            "batch 360 loss: 0.2730304218828678\n"
          ]
        },
        {
          "output_type": "stream",
          "name": "stderr",
          "text": [
            "Train, Epoch 10 / 20:  24%|██▍       | 372/1563 [00:15<00:49, 24.29it/s]"
          ]
        },
        {
          "output_type": "stream",
          "name": "stdout",
          "text": [
            "batch 370 loss: 0.26039229445159434\n"
          ]
        },
        {
          "output_type": "stream",
          "name": "stderr",
          "text": [
            "Train, Epoch 10 / 20:  25%|██▍       | 384/1563 [00:16<00:48, 24.49it/s]"
          ]
        },
        {
          "output_type": "stream",
          "name": "stdout",
          "text": [
            "batch 380 loss: 0.21829143017530442\n"
          ]
        },
        {
          "output_type": "stream",
          "name": "stderr",
          "text": [
            "Train, Epoch 10 / 20:  25%|██▌       | 393/1563 [00:16<00:48, 24.29it/s]"
          ]
        },
        {
          "output_type": "stream",
          "name": "stdout",
          "text": [
            "batch 390 loss: 0.31704411953687667\n"
          ]
        },
        {
          "output_type": "stream",
          "name": "stderr",
          "text": [
            "Train, Epoch 10 / 20:  26%|██▌       | 405/1563 [00:17<00:47, 24.31it/s]"
          ]
        },
        {
          "output_type": "stream",
          "name": "stdout",
          "text": [
            "batch 400 loss: 0.24686308205127716\n"
          ]
        },
        {
          "output_type": "stream",
          "name": "stderr",
          "text": [
            "Train, Epoch 10 / 20:  26%|██▋       | 414/1563 [00:17<00:47, 24.32it/s]"
          ]
        },
        {
          "output_type": "stream",
          "name": "stdout",
          "text": [
            "batch 410 loss: 0.29614018462598324\n"
          ]
        },
        {
          "output_type": "stream",
          "name": "stderr",
          "text": [
            "Train, Epoch 10 / 20:  27%|██▋       | 423/1563 [00:17<00:47, 24.25it/s]"
          ]
        },
        {
          "output_type": "stream",
          "name": "stdout",
          "text": [
            "batch 420 loss: 0.3010003849864006\n"
          ]
        },
        {
          "output_type": "stream",
          "name": "stderr",
          "text": [
            "Train, Epoch 10 / 20:  28%|██▊       | 435/1563 [00:18<00:46, 24.35it/s]"
          ]
        },
        {
          "output_type": "stream",
          "name": "stdout",
          "text": [
            "batch 430 loss: 0.24588389620184897\n"
          ]
        },
        {
          "output_type": "stream",
          "name": "stderr",
          "text": [
            "Train, Epoch 10 / 20:  28%|██▊       | 444/1563 [00:18<00:46, 24.20it/s]"
          ]
        },
        {
          "output_type": "stream",
          "name": "stdout",
          "text": [
            "batch 440 loss: 0.2552258506417274\n"
          ]
        },
        {
          "output_type": "stream",
          "name": "stderr",
          "text": [
            "Train, Epoch 10 / 20:  29%|██▉       | 453/1563 [00:19<00:45, 24.20it/s]"
          ]
        },
        {
          "output_type": "stream",
          "name": "stdout",
          "text": [
            "batch 450 loss: 0.3240756824612617\n"
          ]
        },
        {
          "output_type": "stream",
          "name": "stderr",
          "text": [
            "Train, Epoch 10 / 20:  30%|██▉       | 462/1563 [00:19<00:45, 24.29it/s]"
          ]
        },
        {
          "output_type": "stream",
          "name": "stdout",
          "text": [
            "batch 460 loss: 0.22036198005080224\n"
          ]
        },
        {
          "output_type": "stream",
          "name": "stderr",
          "text": [
            "Train, Epoch 10 / 20:  30%|███       | 474/1563 [00:19<00:45, 23.98it/s]"
          ]
        },
        {
          "output_type": "stream",
          "name": "stdout",
          "text": [
            "batch 470 loss: 0.29165196046233177\n"
          ]
        },
        {
          "output_type": "stream",
          "name": "stderr",
          "text": [
            "Train, Epoch 10 / 20:  31%|███       | 483/1563 [00:20<00:44, 24.33it/s]"
          ]
        },
        {
          "output_type": "stream",
          "name": "stdout",
          "text": [
            "batch 480 loss: 0.31495187282562254\n"
          ]
        },
        {
          "output_type": "stream",
          "name": "stderr",
          "text": [
            "Train, Epoch 10 / 20:  32%|███▏      | 495/1563 [00:20<00:43, 24.58it/s]"
          ]
        },
        {
          "output_type": "stream",
          "name": "stdout",
          "text": [
            "batch 490 loss: 0.23848020732402803\n"
          ]
        },
        {
          "output_type": "stream",
          "name": "stderr",
          "text": [
            "Train, Epoch 10 / 20:  32%|███▏      | 504/1563 [00:21<00:42, 24.70it/s]"
          ]
        },
        {
          "output_type": "stream",
          "name": "stdout",
          "text": [
            "batch 500 loss: 0.2524456650018692\n"
          ]
        },
        {
          "output_type": "stream",
          "name": "stderr",
          "text": [
            "Train, Epoch 10 / 20:  33%|███▎      | 513/1563 [00:21<00:42, 24.60it/s]"
          ]
        },
        {
          "output_type": "stream",
          "name": "stdout",
          "text": [
            "batch 510 loss: 0.2063457690179348\n"
          ]
        },
        {
          "output_type": "stream",
          "name": "stderr",
          "text": [
            "Train, Epoch 10 / 20:  33%|███▎      | 522/1563 [00:21<00:43, 24.04it/s]"
          ]
        },
        {
          "output_type": "stream",
          "name": "stdout",
          "text": [
            "batch 520 loss: 0.31081063449382784\n"
          ]
        },
        {
          "output_type": "stream",
          "name": "stderr",
          "text": [
            "Train, Epoch 10 / 20:  34%|███▍      | 534/1563 [00:22<00:44, 23.32it/s]"
          ]
        },
        {
          "output_type": "stream",
          "name": "stdout",
          "text": [
            "batch 530 loss: 0.23935176730155944\n"
          ]
        },
        {
          "output_type": "stream",
          "name": "stderr",
          "text": [
            "Train, Epoch 10 / 20:  35%|███▍      | 543/1563 [00:22<00:47, 21.65it/s]"
          ]
        },
        {
          "output_type": "stream",
          "name": "stdout",
          "text": [
            "batch 540 loss: 0.24617237597703934\n"
          ]
        },
        {
          "output_type": "stream",
          "name": "stderr",
          "text": [
            "Train, Epoch 10 / 20:  35%|███▌      | 552/1563 [00:23<00:46, 21.53it/s]"
          ]
        },
        {
          "output_type": "stream",
          "name": "stdout",
          "text": [
            "batch 550 loss: 0.26998069137334824\n"
          ]
        },
        {
          "output_type": "stream",
          "name": "stderr",
          "text": [
            "Train, Epoch 10 / 20:  36%|███▌      | 564/1563 [00:23<00:48, 20.81it/s]"
          ]
        },
        {
          "output_type": "stream",
          "name": "stdout",
          "text": [
            "batch 560 loss: 0.3025904208421707\n"
          ]
        },
        {
          "output_type": "stream",
          "name": "stderr",
          "text": [
            "Train, Epoch 10 / 20:  37%|███▋      | 573/1563 [00:24<00:47, 20.88it/s]"
          ]
        },
        {
          "output_type": "stream",
          "name": "stdout",
          "text": [
            "batch 570 loss: 0.3339842244982719\n"
          ]
        },
        {
          "output_type": "stream",
          "name": "stderr",
          "text": [
            "Train, Epoch 10 / 20:  37%|███▋      | 582/1563 [00:24<00:47, 20.67it/s]"
          ]
        },
        {
          "output_type": "stream",
          "name": "stdout",
          "text": [
            "batch 580 loss: 0.263468798995018\n"
          ]
        },
        {
          "output_type": "stream",
          "name": "stderr",
          "text": [
            "Train, Epoch 10 / 20:  38%|███▊      | 594/1563 [00:25<00:41, 23.19it/s]"
          ]
        },
        {
          "output_type": "stream",
          "name": "stdout",
          "text": [
            "batch 590 loss: 0.28303655087947843\n"
          ]
        },
        {
          "output_type": "stream",
          "name": "stderr",
          "text": [
            "Train, Epoch 10 / 20:  39%|███▊      | 603/1563 [00:25<00:40, 23.96it/s]"
          ]
        },
        {
          "output_type": "stream",
          "name": "stdout",
          "text": [
            "batch 600 loss: 0.27807202488183974\n"
          ]
        },
        {
          "output_type": "stream",
          "name": "stderr",
          "text": [
            "Train, Epoch 10 / 20:  39%|███▉      | 615/1563 [00:26<00:39, 24.04it/s]"
          ]
        },
        {
          "output_type": "stream",
          "name": "stdout",
          "text": [
            "batch 610 loss: 0.2741406038403511\n"
          ]
        },
        {
          "output_type": "stream",
          "name": "stderr",
          "text": [
            "Train, Epoch 10 / 20:  40%|███▉      | 624/1563 [00:26<00:38, 24.25it/s]"
          ]
        },
        {
          "output_type": "stream",
          "name": "stdout",
          "text": [
            "batch 620 loss: 0.24260495454072953\n"
          ]
        },
        {
          "output_type": "stream",
          "name": "stderr",
          "text": [
            "Train, Epoch 10 / 20:  40%|████      | 633/1563 [00:26<00:38, 24.23it/s]"
          ]
        },
        {
          "output_type": "stream",
          "name": "stdout",
          "text": [
            "batch 630 loss: 0.2936805322766304\n"
          ]
        },
        {
          "output_type": "stream",
          "name": "stderr",
          "text": [
            "Train, Epoch 10 / 20:  41%|████▏     | 645/1563 [00:27<00:37, 24.29it/s]"
          ]
        },
        {
          "output_type": "stream",
          "name": "stdout",
          "text": [
            "batch 640 loss: 0.2865866832435131\n"
          ]
        },
        {
          "output_type": "stream",
          "name": "stderr",
          "text": [
            "Train, Epoch 10 / 20:  42%|████▏     | 654/1563 [00:27<00:37, 24.50it/s]"
          ]
        },
        {
          "output_type": "stream",
          "name": "stdout",
          "text": [
            "batch 650 loss: 0.22772187180817127\n"
          ]
        },
        {
          "output_type": "stream",
          "name": "stderr",
          "text": [
            "Train, Epoch 10 / 20:  42%|████▏     | 663/1563 [00:28<00:37, 24.29it/s]"
          ]
        },
        {
          "output_type": "stream",
          "name": "stdout",
          "text": [
            "batch 660 loss: 0.326946297287941\n"
          ]
        },
        {
          "output_type": "stream",
          "name": "stderr",
          "text": [
            "Train, Epoch 10 / 20:  43%|████▎     | 675/1563 [00:28<00:36, 24.42it/s]"
          ]
        },
        {
          "output_type": "stream",
          "name": "stdout",
          "text": [
            "batch 670 loss: 0.2941096410155296\n"
          ]
        },
        {
          "output_type": "stream",
          "name": "stderr",
          "text": [
            "Train, Epoch 10 / 20:  44%|████▍     | 684/1563 [00:28<00:36, 24.33it/s]"
          ]
        },
        {
          "output_type": "stream",
          "name": "stdout",
          "text": [
            "batch 680 loss: 0.2554058477282524\n"
          ]
        },
        {
          "output_type": "stream",
          "name": "stderr",
          "text": [
            "Train, Epoch 10 / 20:  44%|████▍     | 693/1563 [00:29<00:35, 24.25it/s]"
          ]
        },
        {
          "output_type": "stream",
          "name": "stdout",
          "text": [
            "batch 690 loss: 0.2359485521912575\n"
          ]
        },
        {
          "output_type": "stream",
          "name": "stderr",
          "text": [
            "Train, Epoch 10 / 20:  45%|████▌     | 705/1563 [00:29<00:35, 24.46it/s]"
          ]
        },
        {
          "output_type": "stream",
          "name": "stdout",
          "text": [
            "batch 700 loss: 0.2118362955749035\n"
          ]
        },
        {
          "output_type": "stream",
          "name": "stderr",
          "text": [
            "Train, Epoch 10 / 20:  46%|████▌     | 714/1563 [00:30<00:35, 24.23it/s]"
          ]
        },
        {
          "output_type": "stream",
          "name": "stdout",
          "text": [
            "batch 710 loss: 0.28012869954109193\n"
          ]
        },
        {
          "output_type": "stream",
          "name": "stderr",
          "text": [
            "Train, Epoch 10 / 20:  46%|████▋     | 723/1563 [00:30<00:35, 23.62it/s]"
          ]
        },
        {
          "output_type": "stream",
          "name": "stdout",
          "text": [
            "batch 720 loss: 0.2841538205742836\n"
          ]
        },
        {
          "output_type": "stream",
          "name": "stderr",
          "text": [
            "Train, Epoch 10 / 20:  47%|████▋     | 732/1563 [00:30<00:34, 23.94it/s]"
          ]
        },
        {
          "output_type": "stream",
          "name": "stdout",
          "text": [
            "batch 730 loss: 0.29039173386991024\n"
          ]
        },
        {
          "output_type": "stream",
          "name": "stderr",
          "text": [
            "Train, Epoch 10 / 20:  48%|████▊     | 744/1563 [00:31<00:33, 24.20it/s]"
          ]
        },
        {
          "output_type": "stream",
          "name": "stdout",
          "text": [
            "batch 740 loss: 0.3460027568042278\n"
          ]
        },
        {
          "output_type": "stream",
          "name": "stderr",
          "text": [
            "Train, Epoch 10 / 20:  48%|████▊     | 753/1563 [00:31<00:33, 24.03it/s]"
          ]
        },
        {
          "output_type": "stream",
          "name": "stdout",
          "text": [
            "batch 750 loss: 0.2610479101538658\n"
          ]
        },
        {
          "output_type": "stream",
          "name": "stderr",
          "text": [
            "Train, Epoch 10 / 20:  49%|████▉     | 762/1563 [00:32<00:33, 23.87it/s]"
          ]
        },
        {
          "output_type": "stream",
          "name": "stdout",
          "text": [
            "batch 760 loss: 0.32400163263082504\n"
          ]
        },
        {
          "output_type": "stream",
          "name": "stderr",
          "text": [
            "Train, Epoch 10 / 20:  50%|████▉     | 774/1563 [00:32<00:32, 24.27it/s]"
          ]
        },
        {
          "output_type": "stream",
          "name": "stdout",
          "text": [
            "batch 770 loss: 0.3117115445435047\n"
          ]
        },
        {
          "output_type": "stream",
          "name": "stderr",
          "text": [
            "Train, Epoch 10 / 20:  50%|█████     | 783/1563 [00:32<00:31, 24.60it/s]"
          ]
        },
        {
          "output_type": "stream",
          "name": "stdout",
          "text": [
            "batch 780 loss: 0.2466026395559311\n"
          ]
        },
        {
          "output_type": "stream",
          "name": "stderr",
          "text": [
            "Train, Epoch 10 / 20:  51%|█████     | 795/1563 [00:33<00:31, 24.36it/s]"
          ]
        },
        {
          "output_type": "stream",
          "name": "stdout",
          "text": [
            "batch 790 loss: 0.2867956396192312\n"
          ]
        },
        {
          "output_type": "stream",
          "name": "stderr",
          "text": [
            "Train, Epoch 10 / 20:  51%|█████▏    | 804/1563 [00:33<00:31, 24.45it/s]"
          ]
        },
        {
          "output_type": "stream",
          "name": "stdout",
          "text": [
            "batch 800 loss: 0.37599184811115266\n"
          ]
        },
        {
          "output_type": "stream",
          "name": "stderr",
          "text": [
            "Train, Epoch 10 / 20:  52%|█████▏    | 813/1563 [00:34<00:31, 24.17it/s]"
          ]
        },
        {
          "output_type": "stream",
          "name": "stdout",
          "text": [
            "batch 810 loss: 0.38280766308307645\n"
          ]
        },
        {
          "output_type": "stream",
          "name": "stderr",
          "text": [
            "Train, Epoch 10 / 20:  53%|█████▎    | 822/1563 [00:34<00:30, 24.13it/s]"
          ]
        },
        {
          "output_type": "stream",
          "name": "stdout",
          "text": [
            "batch 820 loss: 0.29144482016563417\n"
          ]
        },
        {
          "output_type": "stream",
          "name": "stderr",
          "text": [
            "Train, Epoch 10 / 20:  53%|█████▎    | 834/1563 [00:35<00:33, 21.62it/s]"
          ]
        },
        {
          "output_type": "stream",
          "name": "stdout",
          "text": [
            "batch 830 loss: 0.35674161911010743\n"
          ]
        },
        {
          "output_type": "stream",
          "name": "stderr",
          "text": [
            "Train, Epoch 10 / 20:  54%|█████▍    | 843/1563 [00:35<00:32, 21.99it/s]"
          ]
        },
        {
          "output_type": "stream",
          "name": "stdout",
          "text": [
            "batch 840 loss: 0.3302350714802742\n"
          ]
        },
        {
          "output_type": "stream",
          "name": "stderr",
          "text": [
            "Train, Epoch 10 / 20:  55%|█████▍    | 852/1563 [00:35<00:31, 22.52it/s]"
          ]
        },
        {
          "output_type": "stream",
          "name": "stdout",
          "text": [
            "batch 850 loss: 0.23667147308588027\n"
          ]
        },
        {
          "output_type": "stream",
          "name": "stderr",
          "text": [
            "Train, Epoch 10 / 20:  55%|█████▌    | 864/1563 [00:36<00:33, 20.72it/s]"
          ]
        },
        {
          "output_type": "stream",
          "name": "stdout",
          "text": [
            "batch 860 loss: 0.2642344169318676\n"
          ]
        },
        {
          "output_type": "stream",
          "name": "stderr",
          "text": [
            "Train, Epoch 10 / 20:  56%|█████▌    | 873/1563 [00:37<00:33, 20.60it/s]"
          ]
        },
        {
          "output_type": "stream",
          "name": "stdout",
          "text": [
            "batch 870 loss: 0.21354278847575187\n"
          ]
        },
        {
          "output_type": "stream",
          "name": "stderr",
          "text": [
            "Train, Epoch 10 / 20:  56%|█████▋    | 882/1563 [00:37<00:30, 22.38it/s]"
          ]
        },
        {
          "output_type": "stream",
          "name": "stdout",
          "text": [
            "batch 880 loss: 0.3306238383054733\n"
          ]
        },
        {
          "output_type": "stream",
          "name": "stderr",
          "text": [
            "Train, Epoch 10 / 20:  57%|█████▋    | 894/1563 [00:37<00:28, 23.87it/s]"
          ]
        },
        {
          "output_type": "stream",
          "name": "stdout",
          "text": [
            "batch 890 loss: 0.338058752566576\n"
          ]
        },
        {
          "output_type": "stream",
          "name": "stderr",
          "text": [
            "Train, Epoch 10 / 20:  58%|█████▊    | 903/1563 [00:38<00:27, 24.08it/s]"
          ]
        },
        {
          "output_type": "stream",
          "name": "stdout",
          "text": [
            "batch 900 loss: 0.285371932387352\n"
          ]
        },
        {
          "output_type": "stream",
          "name": "stderr",
          "text": [
            "Train, Epoch 10 / 20:  58%|█████▊    | 912/1563 [00:38<00:26, 24.14it/s]"
          ]
        },
        {
          "output_type": "stream",
          "name": "stdout",
          "text": [
            "batch 910 loss: 0.27187995314598085\n"
          ]
        },
        {
          "output_type": "stream",
          "name": "stderr",
          "text": [
            "Train, Epoch 10 / 20:  59%|█████▉    | 924/1563 [00:39<00:26, 24.39it/s]"
          ]
        },
        {
          "output_type": "stream",
          "name": "stdout",
          "text": [
            "batch 920 loss: 0.27317156493663786\n"
          ]
        },
        {
          "output_type": "stream",
          "name": "stderr",
          "text": [
            "Train, Epoch 10 / 20:  60%|█████▉    | 933/1563 [00:39<00:26, 24.01it/s]"
          ]
        },
        {
          "output_type": "stream",
          "name": "stdout",
          "text": [
            "batch 930 loss: 0.25779973790049554\n"
          ]
        },
        {
          "output_type": "stream",
          "name": "stderr",
          "text": [
            "Train, Epoch 10 / 20:  60%|██████    | 945/1563 [00:40<00:25, 24.49it/s]"
          ]
        },
        {
          "output_type": "stream",
          "name": "stdout",
          "text": [
            "batch 940 loss: 0.2576716050505638\n"
          ]
        },
        {
          "output_type": "stream",
          "name": "stderr",
          "text": [
            "Train, Epoch 10 / 20:  61%|██████    | 954/1563 [00:40<00:25, 24.16it/s]"
          ]
        },
        {
          "output_type": "stream",
          "name": "stdout",
          "text": [
            "batch 950 loss: 0.29538106471300124\n"
          ]
        },
        {
          "output_type": "stream",
          "name": "stderr",
          "text": [
            "Train, Epoch 10 / 20:  62%|██████▏   | 963/1563 [00:40<00:24, 24.36it/s]"
          ]
        },
        {
          "output_type": "stream",
          "name": "stdout",
          "text": [
            "batch 960 loss: 0.32032442539930345\n"
          ]
        },
        {
          "output_type": "stream",
          "name": "stderr",
          "text": [
            "Train, Epoch 10 / 20:  62%|██████▏   | 975/1563 [00:41<00:24, 24.40it/s]"
          ]
        },
        {
          "output_type": "stream",
          "name": "stdout",
          "text": [
            "batch 970 loss: 0.22325844913721085\n"
          ]
        },
        {
          "output_type": "stream",
          "name": "stderr",
          "text": [
            "Train, Epoch 10 / 20:  63%|██████▎   | 984/1563 [00:41<00:24, 24.06it/s]"
          ]
        },
        {
          "output_type": "stream",
          "name": "stdout",
          "text": [
            "batch 980 loss: 0.19633842408657073\n"
          ]
        },
        {
          "output_type": "stream",
          "name": "stderr",
          "text": [
            "Train, Epoch 10 / 20:  64%|██████▎   | 993/1563 [00:41<00:23, 24.25it/s]"
          ]
        },
        {
          "output_type": "stream",
          "name": "stdout",
          "text": [
            "batch 990 loss: 0.32306470572948454\n"
          ]
        },
        {
          "output_type": "stream",
          "name": "stderr",
          "text": [
            "Train, Epoch 10 / 20:  64%|██████▍   | 1005/1563 [00:42<00:23, 24.08it/s]"
          ]
        },
        {
          "output_type": "stream",
          "name": "stdout",
          "text": [
            "batch 1000 loss: 0.2684148348867893\n"
          ]
        },
        {
          "output_type": "stream",
          "name": "stderr",
          "text": [
            "Train, Epoch 10 / 20:  65%|██████▍   | 1014/1563 [00:42<00:22, 24.22it/s]"
          ]
        },
        {
          "output_type": "stream",
          "name": "stdout",
          "text": [
            "batch 1010 loss: 0.2796421110630035\n"
          ]
        },
        {
          "output_type": "stream",
          "name": "stderr",
          "text": [
            "Train, Epoch 10 / 20:  65%|██████▌   | 1023/1563 [00:43<00:22, 24.34it/s]"
          ]
        },
        {
          "output_type": "stream",
          "name": "stdout",
          "text": [
            "batch 1020 loss: 0.2454416498541832\n"
          ]
        },
        {
          "output_type": "stream",
          "name": "stderr",
          "text": [
            "Train, Epoch 10 / 20:  66%|██████▌   | 1035/1563 [00:43<00:21, 24.44it/s]"
          ]
        },
        {
          "output_type": "stream",
          "name": "stdout",
          "text": [
            "batch 1030 loss: 0.23010548949241638\n"
          ]
        },
        {
          "output_type": "stream",
          "name": "stderr",
          "text": [
            "Train, Epoch 10 / 20:  67%|██████▋   | 1044/1563 [00:44<00:21, 24.26it/s]"
          ]
        },
        {
          "output_type": "stream",
          "name": "stdout",
          "text": [
            "batch 1040 loss: 0.31239710822701455\n"
          ]
        },
        {
          "output_type": "stream",
          "name": "stderr",
          "text": [
            "Train, Epoch 10 / 20:  67%|██████▋   | 1053/1563 [00:44<00:21, 24.14it/s]"
          ]
        },
        {
          "output_type": "stream",
          "name": "stdout",
          "text": [
            "batch 1050 loss: 0.1943062473088503\n"
          ]
        },
        {
          "output_type": "stream",
          "name": "stderr",
          "text": [
            "Train, Epoch 10 / 20:  68%|██████▊   | 1065/1563 [00:44<00:20, 24.34it/s]"
          ]
        },
        {
          "output_type": "stream",
          "name": "stdout",
          "text": [
            "batch 1060 loss: 0.26858745217323304\n"
          ]
        },
        {
          "output_type": "stream",
          "name": "stderr",
          "text": [
            "Train, Epoch 10 / 20:  69%|██████▊   | 1074/1563 [00:45<00:20, 24.13it/s]"
          ]
        },
        {
          "output_type": "stream",
          "name": "stdout",
          "text": [
            "batch 1070 loss: 0.25643508434295653\n"
          ]
        },
        {
          "output_type": "stream",
          "name": "stderr",
          "text": [
            "Train, Epoch 10 / 20:  69%|██████▉   | 1083/1563 [00:45<00:19, 24.11it/s]"
          ]
        },
        {
          "output_type": "stream",
          "name": "stdout",
          "text": [
            "batch 1080 loss: 0.21342942789196967\n"
          ]
        },
        {
          "output_type": "stream",
          "name": "stderr",
          "text": [
            "Train, Epoch 10 / 20:  70%|███████   | 1095/1563 [00:46<00:19, 24.55it/s]"
          ]
        },
        {
          "output_type": "stream",
          "name": "stdout",
          "text": [
            "batch 1090 loss: 0.25091516189277174\n"
          ]
        },
        {
          "output_type": "stream",
          "name": "stderr",
          "text": [
            "Train, Epoch 10 / 20:  71%|███████   | 1104/1563 [00:46<00:18, 24.30it/s]"
          ]
        },
        {
          "output_type": "stream",
          "name": "stdout",
          "text": [
            "batch 1100 loss: 0.23300397619605065\n"
          ]
        },
        {
          "output_type": "stream",
          "name": "stderr",
          "text": [
            "Train, Epoch 10 / 20:  71%|███████   | 1113/1563 [00:46<00:18, 24.11it/s]"
          ]
        },
        {
          "output_type": "stream",
          "name": "stdout",
          "text": [
            "batch 1110 loss: 0.3093419797718525\n"
          ]
        },
        {
          "output_type": "stream",
          "name": "stderr",
          "text": [
            "Train, Epoch 10 / 20:  72%|███████▏  | 1122/1563 [00:47<00:19, 22.63it/s]"
          ]
        },
        {
          "output_type": "stream",
          "name": "stdout",
          "text": [
            "batch 1120 loss: 0.33449349403381345\n"
          ]
        },
        {
          "output_type": "stream",
          "name": "stderr",
          "text": [
            "Train, Epoch 10 / 20:  73%|███████▎  | 1134/1563 [00:47<00:19, 22.25it/s]"
          ]
        },
        {
          "output_type": "stream",
          "name": "stdout",
          "text": [
            "batch 1130 loss: 0.31194276213645933\n"
          ]
        },
        {
          "output_type": "stream",
          "name": "stderr",
          "text": [
            "Train, Epoch 10 / 20:  73%|███████▎  | 1143/1563 [00:48<00:20, 20.97it/s]"
          ]
        },
        {
          "output_type": "stream",
          "name": "stdout",
          "text": [
            "batch 1140 loss: 0.27435884773731234\n"
          ]
        },
        {
          "output_type": "stream",
          "name": "stderr",
          "text": [
            "Train, Epoch 10 / 20:  74%|███████▎  | 1152/1563 [00:48<00:19, 21.01it/s]"
          ]
        },
        {
          "output_type": "stream",
          "name": "stdout",
          "text": [
            "batch 1150 loss: 0.28313675969839097\n"
          ]
        },
        {
          "output_type": "stream",
          "name": "stderr",
          "text": [
            "Train, Epoch 10 / 20:  74%|███████▍  | 1164/1563 [00:49<00:18, 21.05it/s]"
          ]
        },
        {
          "output_type": "stream",
          "name": "stdout",
          "text": [
            "batch 1160 loss: 0.3017993099987507\n"
          ]
        },
        {
          "output_type": "stream",
          "name": "stderr",
          "text": [
            "Train, Epoch 10 / 20:  75%|███████▌  | 1173/1563 [00:49<00:17, 22.14it/s]"
          ]
        },
        {
          "output_type": "stream",
          "name": "stdout",
          "text": [
            "batch 1170 loss: 0.30833143927156925\n"
          ]
        },
        {
          "output_type": "stream",
          "name": "stderr",
          "text": [
            "Train, Epoch 10 / 20:  76%|███████▌  | 1182/1563 [00:50<00:16, 23.42it/s]"
          ]
        },
        {
          "output_type": "stream",
          "name": "stdout",
          "text": [
            "batch 1180 loss: 0.18749852776527404\n"
          ]
        },
        {
          "output_type": "stream",
          "name": "stderr",
          "text": [
            "Train, Epoch 10 / 20:  76%|███████▋  | 1194/1563 [00:50<00:15, 23.87it/s]"
          ]
        },
        {
          "output_type": "stream",
          "name": "stdout",
          "text": [
            "batch 1190 loss: 0.24924026168882846\n"
          ]
        },
        {
          "output_type": "stream",
          "name": "stderr",
          "text": [
            "Train, Epoch 10 / 20:  77%|███████▋  | 1203/1563 [00:51<00:14, 24.09it/s]"
          ]
        },
        {
          "output_type": "stream",
          "name": "stdout",
          "text": [
            "batch 1200 loss: 0.23447803556919097\n"
          ]
        },
        {
          "output_type": "stream",
          "name": "stderr",
          "text": [
            "Train, Epoch 10 / 20:  78%|███████▊  | 1212/1563 [00:51<00:14, 24.22it/s]"
          ]
        },
        {
          "output_type": "stream",
          "name": "stdout",
          "text": [
            "batch 1210 loss: 0.31787410080432893\n"
          ]
        },
        {
          "output_type": "stream",
          "name": "stderr",
          "text": [
            "Train, Epoch 10 / 20:  78%|███████▊  | 1224/1563 [00:51<00:13, 24.24it/s]"
          ]
        },
        {
          "output_type": "stream",
          "name": "stdout",
          "text": [
            "batch 1220 loss: 0.290177609026432\n"
          ]
        },
        {
          "output_type": "stream",
          "name": "stderr",
          "text": [
            "Train, Epoch 10 / 20:  79%|███████▉  | 1233/1563 [00:52<00:13, 24.31it/s]"
          ]
        },
        {
          "output_type": "stream",
          "name": "stdout",
          "text": [
            "batch 1230 loss: 0.2969289518892765\n"
          ]
        },
        {
          "output_type": "stream",
          "name": "stderr",
          "text": [
            "Train, Epoch 10 / 20:  79%|███████▉  | 1242/1563 [00:52<00:13, 24.33it/s]"
          ]
        },
        {
          "output_type": "stream",
          "name": "stdout",
          "text": [
            "batch 1240 loss: 0.33560808151960375\n"
          ]
        },
        {
          "output_type": "stream",
          "name": "stderr",
          "text": [
            "Train, Epoch 10 / 20:  80%|████████  | 1254/1563 [00:53<00:12, 24.26it/s]"
          ]
        },
        {
          "output_type": "stream",
          "name": "stdout",
          "text": [
            "batch 1250 loss: 0.34052281826734543\n"
          ]
        },
        {
          "output_type": "stream",
          "name": "stderr",
          "text": [
            "Train, Epoch 10 / 20:  81%|████████  | 1263/1563 [00:53<00:12, 24.29it/s]"
          ]
        },
        {
          "output_type": "stream",
          "name": "stdout",
          "text": [
            "batch 1260 loss: 0.26001856848597527\n"
          ]
        },
        {
          "output_type": "stream",
          "name": "stderr",
          "text": [
            "Train, Epoch 10 / 20:  81%|████████▏ | 1272/1563 [00:53<00:12, 24.17it/s]"
          ]
        },
        {
          "output_type": "stream",
          "name": "stdout",
          "text": [
            "batch 1270 loss: 0.33545264378190043\n"
          ]
        },
        {
          "output_type": "stream",
          "name": "stderr",
          "text": [
            "Train, Epoch 10 / 20:  82%|████████▏ | 1284/1563 [00:54<00:11, 24.46it/s]"
          ]
        },
        {
          "output_type": "stream",
          "name": "stdout",
          "text": [
            "batch 1280 loss: 0.20649578124284745\n"
          ]
        },
        {
          "output_type": "stream",
          "name": "stderr",
          "text": [
            "Train, Epoch 10 / 20:  83%|████████▎ | 1293/1563 [00:54<00:11, 23.81it/s]"
          ]
        },
        {
          "output_type": "stream",
          "name": "stdout",
          "text": [
            "batch 1290 loss: 0.3309701502323151\n"
          ]
        },
        {
          "output_type": "stream",
          "name": "stderr",
          "text": [
            "Train, Epoch 10 / 20:  83%|████████▎ | 1305/1563 [00:55<00:10, 24.43it/s]"
          ]
        },
        {
          "output_type": "stream",
          "name": "stdout",
          "text": [
            "batch 1300 loss: 0.34312073364853857\n"
          ]
        },
        {
          "output_type": "stream",
          "name": "stderr",
          "text": [
            "Train, Epoch 10 / 20:  84%|████████▍ | 1314/1563 [00:55<00:10, 24.55it/s]"
          ]
        },
        {
          "output_type": "stream",
          "name": "stdout",
          "text": [
            "batch 1310 loss: 0.27002957463264465\n"
          ]
        },
        {
          "output_type": "stream",
          "name": "stderr",
          "text": [
            "Train, Epoch 10 / 20:  85%|████████▍ | 1323/1563 [00:55<00:09, 24.15it/s]"
          ]
        },
        {
          "output_type": "stream",
          "name": "stdout",
          "text": [
            "batch 1320 loss: 0.3063272014260292\n"
          ]
        },
        {
          "output_type": "stream",
          "name": "stderr",
          "text": [
            "Train, Epoch 10 / 20:  85%|████████▌ | 1335/1563 [00:56<00:09, 24.48it/s]"
          ]
        },
        {
          "output_type": "stream",
          "name": "stdout",
          "text": [
            "batch 1330 loss: 0.2502034783363342\n"
          ]
        },
        {
          "output_type": "stream",
          "name": "stderr",
          "text": [
            "Train, Epoch 10 / 20:  86%|████████▌ | 1344/1563 [00:56<00:09, 24.01it/s]"
          ]
        },
        {
          "output_type": "stream",
          "name": "stdout",
          "text": [
            "batch 1340 loss: 0.35378076508641243\n"
          ]
        },
        {
          "output_type": "stream",
          "name": "stderr",
          "text": [
            "Train, Epoch 10 / 20:  87%|████████▋ | 1353/1563 [00:57<00:08, 24.36it/s]"
          ]
        },
        {
          "output_type": "stream",
          "name": "stdout",
          "text": [
            "batch 1350 loss: 0.24961869716644286\n"
          ]
        },
        {
          "output_type": "stream",
          "name": "stderr",
          "text": [
            "Train, Epoch 10 / 20:  87%|████████▋ | 1365/1563 [00:57<00:08, 24.50it/s]"
          ]
        },
        {
          "output_type": "stream",
          "name": "stdout",
          "text": [
            "batch 1360 loss: 0.34956386387348176\n"
          ]
        },
        {
          "output_type": "stream",
          "name": "stderr",
          "text": [
            "Train, Epoch 10 / 20:  88%|████████▊ | 1374/1563 [00:58<00:07, 24.12it/s]"
          ]
        },
        {
          "output_type": "stream",
          "name": "stdout",
          "text": [
            "batch 1370 loss: 0.2174866758286953\n"
          ]
        },
        {
          "output_type": "stream",
          "name": "stderr",
          "text": [
            "Train, Epoch 10 / 20:  88%|████████▊ | 1383/1563 [00:58<00:07, 24.41it/s]"
          ]
        },
        {
          "output_type": "stream",
          "name": "stdout",
          "text": [
            "batch 1380 loss: 0.2810308150947094\n"
          ]
        },
        {
          "output_type": "stream",
          "name": "stderr",
          "text": [
            "Train, Epoch 10 / 20:  89%|████████▉ | 1392/1563 [00:58<00:07, 24.24it/s]"
          ]
        },
        {
          "output_type": "stream",
          "name": "stdout",
          "text": [
            "batch 1390 loss: 0.2293469063937664\n"
          ]
        },
        {
          "output_type": "stream",
          "name": "stderr",
          "text": [
            "Train, Epoch 10 / 20:  90%|████████▉ | 1404/1563 [00:59<00:06, 24.38it/s]"
          ]
        },
        {
          "output_type": "stream",
          "name": "stdout",
          "text": [
            "batch 1400 loss: 0.28021337613463404\n"
          ]
        },
        {
          "output_type": "stream",
          "name": "stderr",
          "text": [
            "Train, Epoch 10 / 20:  90%|█████████ | 1413/1563 [00:59<00:06, 22.38it/s]"
          ]
        },
        {
          "output_type": "stream",
          "name": "stdout",
          "text": [
            "batch 1410 loss: 0.23500030413269996\n"
          ]
        },
        {
          "output_type": "stream",
          "name": "stderr",
          "text": [
            "Train, Epoch 10 / 20:  91%|█████████ | 1422/1563 [01:00<00:06, 21.61it/s]"
          ]
        },
        {
          "output_type": "stream",
          "name": "stdout",
          "text": [
            "batch 1420 loss: 0.3434141680598259\n"
          ]
        },
        {
          "output_type": "stream",
          "name": "stderr",
          "text": [
            "Train, Epoch 10 / 20:  92%|█████████▏| 1434/1563 [01:00<00:05, 22.21it/s]"
          ]
        },
        {
          "output_type": "stream",
          "name": "stdout",
          "text": [
            "batch 1430 loss: 0.2748253583908081\n"
          ]
        },
        {
          "output_type": "stream",
          "name": "stderr",
          "text": [
            "Train, Epoch 10 / 20:  92%|█████████▏| 1443/1563 [01:01<00:05, 22.02it/s]"
          ]
        },
        {
          "output_type": "stream",
          "name": "stdout",
          "text": [
            "batch 1440 loss: 0.2133644036948681\n"
          ]
        },
        {
          "output_type": "stream",
          "name": "stderr",
          "text": [
            "Train, Epoch 10 / 20:  93%|█████████▎| 1452/1563 [01:01<00:05, 21.55it/s]"
          ]
        },
        {
          "output_type": "stream",
          "name": "stdout",
          "text": [
            "batch 1450 loss: 0.3511425867676735\n"
          ]
        },
        {
          "output_type": "stream",
          "name": "stderr",
          "text": [
            "Train, Epoch 10 / 20:  94%|█████████▎| 1464/1563 [01:02<00:04, 21.88it/s]"
          ]
        },
        {
          "output_type": "stream",
          "name": "stdout",
          "text": [
            "batch 1460 loss: 0.18209974020719527\n"
          ]
        },
        {
          "output_type": "stream",
          "name": "stderr",
          "text": [
            "Train, Epoch 10 / 20:  94%|█████████▍| 1473/1563 [01:02<00:03, 23.58it/s]"
          ]
        },
        {
          "output_type": "stream",
          "name": "stdout",
          "text": [
            "batch 1470 loss: 0.28571719080209734\n"
          ]
        },
        {
          "output_type": "stream",
          "name": "stderr",
          "text": [
            "Train, Epoch 10 / 20:  95%|█████████▌| 1485/1563 [01:02<00:03, 24.28it/s]"
          ]
        },
        {
          "output_type": "stream",
          "name": "stdout",
          "text": [
            "batch 1480 loss: 0.2824013441801071\n"
          ]
        },
        {
          "output_type": "stream",
          "name": "stderr",
          "text": [
            "Train, Epoch 10 / 20:  96%|█████████▌| 1494/1563 [01:03<00:02, 24.55it/s]"
          ]
        },
        {
          "output_type": "stream",
          "name": "stdout",
          "text": [
            "batch 1490 loss: 0.29757071286439896\n"
          ]
        },
        {
          "output_type": "stream",
          "name": "stderr",
          "text": [
            "Train, Epoch 10 / 20:  96%|█████████▌| 1503/1563 [01:03<00:02, 24.72it/s]"
          ]
        },
        {
          "output_type": "stream",
          "name": "stdout",
          "text": [
            "batch 1500 loss: 0.2832053564488888\n"
          ]
        },
        {
          "output_type": "stream",
          "name": "stderr",
          "text": [
            "Train, Epoch 10 / 20:  97%|█████████▋| 1515/1563 [01:04<00:01, 24.68it/s]"
          ]
        },
        {
          "output_type": "stream",
          "name": "stdout",
          "text": [
            "batch 1510 loss: 0.2524305799975991\n"
          ]
        },
        {
          "output_type": "stream",
          "name": "stderr",
          "text": [
            "Train, Epoch 10 / 20:  98%|█████████▊| 1524/1563 [01:04<00:01, 24.72it/s]"
          ]
        },
        {
          "output_type": "stream",
          "name": "stdout",
          "text": [
            "batch 1520 loss: 0.2325614832341671\n"
          ]
        },
        {
          "output_type": "stream",
          "name": "stderr",
          "text": [
            "Train, Epoch 10 / 20:  98%|█████████▊| 1533/1563 [01:04<00:01, 24.25it/s]"
          ]
        },
        {
          "output_type": "stream",
          "name": "stdout",
          "text": [
            "batch 1530 loss: 0.22743663117289542\n"
          ]
        },
        {
          "output_type": "stream",
          "name": "stderr",
          "text": [
            "Train, Epoch 10 / 20:  99%|█████████▉| 1545/1563 [01:05<00:00, 24.45it/s]"
          ]
        },
        {
          "output_type": "stream",
          "name": "stdout",
          "text": [
            "batch 1540 loss: 0.2990418940782547\n"
          ]
        },
        {
          "output_type": "stream",
          "name": "stderr",
          "text": [
            "Train, Epoch 10 / 20:  99%|█████████▉| 1554/1563 [01:05<00:00, 24.19it/s]"
          ]
        },
        {
          "output_type": "stream",
          "name": "stdout",
          "text": [
            "batch 1550 loss: 0.2741449363529682\n"
          ]
        },
        {
          "output_type": "stream",
          "name": "stderr",
          "text": [
            "Train, Epoch 10 / 20: 100%|██████████| 1563/1563 [01:06<00:00, 23.63it/s]\n"
          ]
        },
        {
          "output_type": "stream",
          "name": "stdout",
          "text": [
            "batch 1560 loss: 0.32641594409942626\n"
          ]
        },
        {
          "output_type": "stream",
          "name": "stderr",
          "text": [
            "Test, Epoch 10 / 20: 100%|██████████| 1563/1563 [00:30<00:00, 51.29it/s]\n"
          ]
        },
        {
          "output_type": "stream",
          "name": "stdout",
          "text": [
            "Epoch 10, loss: 0.4563367025381327, accuracy: 0.81172\n"
          ]
        },
        {
          "output_type": "stream",
          "name": "stderr",
          "text": [
            "Train, Epoch 11 / 20:   1%|          | 12/1563 [00:00<01:10, 21.98it/s]"
          ]
        },
        {
          "output_type": "stream",
          "name": "stdout",
          "text": [
            "batch 10 loss: 0.22855604365468024\n"
          ]
        },
        {
          "output_type": "stream",
          "name": "stderr",
          "text": [
            "Train, Epoch 11 / 20:   2%|▏         | 24/1563 [00:01<01:14, 20.64it/s]"
          ]
        },
        {
          "output_type": "stream",
          "name": "stdout",
          "text": [
            "batch 20 loss: 0.25296926498413086\n"
          ]
        },
        {
          "output_type": "stream",
          "name": "stderr",
          "text": [
            "Train, Epoch 11 / 20:   2%|▏         | 33/1563 [00:01<01:12, 21.06it/s]"
          ]
        },
        {
          "output_type": "stream",
          "name": "stdout",
          "text": [
            "batch 30 loss: 0.28725199699401854\n"
          ]
        },
        {
          "output_type": "stream",
          "name": "stderr",
          "text": [
            "Train, Epoch 11 / 20:   3%|▎         | 42/1563 [00:01<01:11, 21.38it/s]"
          ]
        },
        {
          "output_type": "stream",
          "name": "stdout",
          "text": [
            "batch 40 loss: 0.21739770770072936\n"
          ]
        },
        {
          "output_type": "stream",
          "name": "stderr",
          "text": [
            "Train, Epoch 11 / 20:   3%|▎         | 54/1563 [00:02<01:13, 20.66it/s]"
          ]
        },
        {
          "output_type": "stream",
          "name": "stdout",
          "text": [
            "batch 50 loss: 0.2638295903801918\n"
          ]
        },
        {
          "output_type": "stream",
          "name": "stderr",
          "text": [
            "Train, Epoch 11 / 20:   4%|▍         | 63/1563 [00:02<01:05, 22.78it/s]"
          ]
        },
        {
          "output_type": "stream",
          "name": "stdout",
          "text": [
            "batch 60 loss: 0.25082312524318695\n"
          ]
        },
        {
          "output_type": "stream",
          "name": "stderr",
          "text": [
            "Train, Epoch 11 / 20:   5%|▍         | 72/1563 [00:03<01:03, 23.66it/s]"
          ]
        },
        {
          "output_type": "stream",
          "name": "stdout",
          "text": [
            "batch 70 loss: 0.20533812344074248\n"
          ]
        },
        {
          "output_type": "stream",
          "name": "stderr",
          "text": [
            "Train, Epoch 11 / 20:   5%|▌         | 84/1563 [00:03<01:00, 24.37it/s]"
          ]
        },
        {
          "output_type": "stream",
          "name": "stdout",
          "text": [
            "batch 80 loss: 0.2707702860236168\n"
          ]
        },
        {
          "output_type": "stream",
          "name": "stderr",
          "text": [
            "Train, Epoch 11 / 20:   6%|▌         | 93/1563 [00:04<00:59, 24.51it/s]"
          ]
        },
        {
          "output_type": "stream",
          "name": "stdout",
          "text": [
            "batch 90 loss: 0.21572867333889006\n"
          ]
        },
        {
          "output_type": "stream",
          "name": "stderr",
          "text": [
            "Train, Epoch 11 / 20:   7%|▋         | 102/1563 [00:04<01:00, 24.24it/s]"
          ]
        },
        {
          "output_type": "stream",
          "name": "stdout",
          "text": [
            "batch 100 loss: 0.2127251535654068\n"
          ]
        },
        {
          "output_type": "stream",
          "name": "stderr",
          "text": [
            "Train, Epoch 11 / 20:   7%|▋         | 114/1563 [00:05<00:59, 24.26it/s]"
          ]
        },
        {
          "output_type": "stream",
          "name": "stdout",
          "text": [
            "batch 110 loss: 0.2910459332168102\n"
          ]
        },
        {
          "output_type": "stream",
          "name": "stderr",
          "text": [
            "Train, Epoch 11 / 20:   8%|▊         | 123/1563 [00:05<00:58, 24.51it/s]"
          ]
        },
        {
          "output_type": "stream",
          "name": "stdout",
          "text": [
            "batch 120 loss: 0.2710141122341156\n"
          ]
        },
        {
          "output_type": "stream",
          "name": "stderr",
          "text": [
            "Train, Epoch 11 / 20:   8%|▊         | 132/1563 [00:05<00:58, 24.26it/s]"
          ]
        },
        {
          "output_type": "stream",
          "name": "stdout",
          "text": [
            "batch 130 loss: 0.2552903354167938\n"
          ]
        },
        {
          "output_type": "stream",
          "name": "stderr",
          "text": [
            "Train, Epoch 11 / 20:   9%|▉         | 144/1563 [00:06<00:58, 24.36it/s]"
          ]
        },
        {
          "output_type": "stream",
          "name": "stdout",
          "text": [
            "batch 140 loss: 0.27533777356147765\n"
          ]
        },
        {
          "output_type": "stream",
          "name": "stderr",
          "text": [
            "Train, Epoch 11 / 20:  10%|▉         | 153/1563 [00:06<00:57, 24.53it/s]"
          ]
        },
        {
          "output_type": "stream",
          "name": "stdout",
          "text": [
            "batch 150 loss: 0.21813806891441345\n"
          ]
        },
        {
          "output_type": "stream",
          "name": "stderr",
          "text": [
            "Train, Epoch 11 / 20:  11%|█         | 165/1563 [00:07<00:56, 24.81it/s]"
          ]
        },
        {
          "output_type": "stream",
          "name": "stdout",
          "text": [
            "batch 160 loss: 0.2642866957932711\n"
          ]
        },
        {
          "output_type": "stream",
          "name": "stderr",
          "text": [
            "Train, Epoch 11 / 20:  11%|█         | 174/1563 [00:07<00:55, 24.85it/s]"
          ]
        },
        {
          "output_type": "stream",
          "name": "stdout",
          "text": [
            "batch 170 loss: 0.3160302549600601\n"
          ]
        },
        {
          "output_type": "stream",
          "name": "stderr",
          "text": [
            "Train, Epoch 11 / 20:  12%|█▏        | 183/1563 [00:07<00:56, 24.37it/s]"
          ]
        },
        {
          "output_type": "stream",
          "name": "stdout",
          "text": [
            "batch 180 loss: 0.31937087774276735\n"
          ]
        },
        {
          "output_type": "stream",
          "name": "stderr",
          "text": [
            "Train, Epoch 11 / 20:  12%|█▏        | 195/1563 [00:08<00:55, 24.52it/s]"
          ]
        },
        {
          "output_type": "stream",
          "name": "stdout",
          "text": [
            "batch 190 loss: 0.26463796496391295\n"
          ]
        },
        {
          "output_type": "stream",
          "name": "stderr",
          "text": [
            "Train, Epoch 11 / 20:  13%|█▎        | 204/1563 [00:08<00:56, 24.05it/s]"
          ]
        },
        {
          "output_type": "stream",
          "name": "stdout",
          "text": [
            "batch 200 loss: 0.22029609680175782\n"
          ]
        },
        {
          "output_type": "stream",
          "name": "stderr",
          "text": [
            "Train, Epoch 11 / 20:  14%|█▎        | 213/1563 [00:09<00:55, 24.30it/s]"
          ]
        },
        {
          "output_type": "stream",
          "name": "stdout",
          "text": [
            "batch 210 loss: 0.2513807713985443\n"
          ]
        },
        {
          "output_type": "stream",
          "name": "stderr",
          "text": [
            "Train, Epoch 11 / 20:  14%|█▍        | 225/1563 [00:09<00:55, 24.15it/s]"
          ]
        },
        {
          "output_type": "stream",
          "name": "stdout",
          "text": [
            "batch 220 loss: 0.3566250137984753\n"
          ]
        },
        {
          "output_type": "stream",
          "name": "stderr",
          "text": [
            "Train, Epoch 11 / 20:  15%|█▍        | 234/1563 [00:09<00:55, 24.15it/s]"
          ]
        },
        {
          "output_type": "stream",
          "name": "stdout",
          "text": [
            "batch 230 loss: 0.2567486599087715\n"
          ]
        },
        {
          "output_type": "stream",
          "name": "stderr",
          "text": [
            "Train, Epoch 11 / 20:  16%|█▌        | 243/1563 [00:10<00:53, 24.45it/s]"
          ]
        },
        {
          "output_type": "stream",
          "name": "stdout",
          "text": [
            "batch 240 loss: 0.3211390271782875\n"
          ]
        },
        {
          "output_type": "stream",
          "name": "stderr",
          "text": [
            "Train, Epoch 11 / 20:  16%|█▋        | 255/1563 [00:10<00:53, 24.25it/s]"
          ]
        },
        {
          "output_type": "stream",
          "name": "stdout",
          "text": [
            "batch 250 loss: 0.2730062995105982\n"
          ]
        },
        {
          "output_type": "stream",
          "name": "stderr",
          "text": [
            "Train, Epoch 11 / 20:  17%|█▋        | 264/1563 [00:11<00:53, 24.37it/s]"
          ]
        },
        {
          "output_type": "stream",
          "name": "stdout",
          "text": [
            "batch 260 loss: 0.2571390479803085\n"
          ]
        },
        {
          "output_type": "stream",
          "name": "stderr",
          "text": [
            "Train, Epoch 11 / 20:  17%|█▋        | 273/1563 [00:11<00:52, 24.52it/s]"
          ]
        },
        {
          "output_type": "stream",
          "name": "stdout",
          "text": [
            "batch 270 loss: 0.2357072576880455\n"
          ]
        },
        {
          "output_type": "stream",
          "name": "stderr",
          "text": [
            "Train, Epoch 11 / 20:  18%|█▊        | 285/1563 [00:12<00:51, 24.64it/s]"
          ]
        },
        {
          "output_type": "stream",
          "name": "stdout",
          "text": [
            "batch 280 loss: 0.2142909899353981\n"
          ]
        },
        {
          "output_type": "stream",
          "name": "stderr",
          "text": [
            "Train, Epoch 11 / 20:  19%|█▉        | 294/1563 [00:12<00:52, 24.25it/s]"
          ]
        },
        {
          "output_type": "stream",
          "name": "stdout",
          "text": [
            "batch 290 loss: 0.2671311847865582\n"
          ]
        },
        {
          "output_type": "stream",
          "name": "stderr",
          "text": [
            "Train, Epoch 11 / 20:  19%|█▉        | 303/1563 [00:12<00:54, 22.92it/s]"
          ]
        },
        {
          "output_type": "stream",
          "name": "stdout",
          "text": [
            "batch 300 loss: 0.27172470800578596\n"
          ]
        },
        {
          "output_type": "stream",
          "name": "stderr",
          "text": [
            "Train, Epoch 11 / 20:  20%|█▉        | 312/1563 [00:13<00:58, 21.48it/s]"
          ]
        },
        {
          "output_type": "stream",
          "name": "stdout",
          "text": [
            "batch 310 loss: 0.2677591428160667\n"
          ]
        },
        {
          "output_type": "stream",
          "name": "stderr",
          "text": [
            "Train, Epoch 11 / 20:  21%|██        | 324/1563 [00:13<00:56, 22.11it/s]"
          ]
        },
        {
          "output_type": "stream",
          "name": "stdout",
          "text": [
            "batch 320 loss: 0.2377843104302883\n"
          ]
        },
        {
          "output_type": "stream",
          "name": "stderr",
          "text": [
            "Train, Epoch 11 / 20:  21%|██▏       | 333/1563 [00:14<00:55, 22.12it/s]"
          ]
        },
        {
          "output_type": "stream",
          "name": "stdout",
          "text": [
            "batch 330 loss: 0.28493317514657973\n"
          ]
        },
        {
          "output_type": "stream",
          "name": "stderr",
          "text": [
            "Train, Epoch 11 / 20:  22%|██▏       | 342/1563 [00:14<00:56, 21.72it/s]"
          ]
        },
        {
          "output_type": "stream",
          "name": "stdout",
          "text": [
            "batch 340 loss: 0.26023269072175026\n"
          ]
        },
        {
          "output_type": "stream",
          "name": "stderr",
          "text": [
            "Train, Epoch 11 / 20:  23%|██▎       | 354/1563 [00:15<00:56, 21.48it/s]"
          ]
        },
        {
          "output_type": "stream",
          "name": "stdout",
          "text": [
            "batch 350 loss: 0.27951327711343765\n"
          ]
        },
        {
          "output_type": "stream",
          "name": "stderr",
          "text": [
            "Train, Epoch 11 / 20:  23%|██▎       | 363/1563 [00:15<00:51, 23.46it/s]"
          ]
        },
        {
          "output_type": "stream",
          "name": "stdout",
          "text": [
            "batch 360 loss: 0.3036467768251896\n"
          ]
        },
        {
          "output_type": "stream",
          "name": "stderr",
          "text": [
            "Train, Epoch 11 / 20:  24%|██▍       | 372/1563 [00:15<00:50, 23.62it/s]"
          ]
        },
        {
          "output_type": "stream",
          "name": "stdout",
          "text": [
            "batch 370 loss: 0.32549584805965426\n"
          ]
        },
        {
          "output_type": "stream",
          "name": "stderr",
          "text": [
            "Train, Epoch 11 / 20:  25%|██▍       | 384/1563 [00:16<00:48, 24.21it/s]"
          ]
        },
        {
          "output_type": "stream",
          "name": "stdout",
          "text": [
            "batch 380 loss: 0.23416438177227974\n"
          ]
        },
        {
          "output_type": "stream",
          "name": "stderr",
          "text": [
            "Train, Epoch 11 / 20:  25%|██▌       | 393/1563 [00:16<00:47, 24.52it/s]"
          ]
        },
        {
          "output_type": "stream",
          "name": "stdout",
          "text": [
            "batch 390 loss: 0.21338564679026603\n"
          ]
        },
        {
          "output_type": "stream",
          "name": "stderr",
          "text": [
            "Train, Epoch 11 / 20:  26%|██▌       | 405/1563 [00:17<00:47, 24.25it/s]"
          ]
        },
        {
          "output_type": "stream",
          "name": "stdout",
          "text": [
            "batch 400 loss: 0.16606895998120308\n"
          ]
        },
        {
          "output_type": "stream",
          "name": "stderr",
          "text": [
            "Train, Epoch 11 / 20:  26%|██▋       | 414/1563 [00:17<00:47, 24.41it/s]"
          ]
        },
        {
          "output_type": "stream",
          "name": "stdout",
          "text": [
            "batch 410 loss: 0.33362795412540436\n"
          ]
        },
        {
          "output_type": "stream",
          "name": "stderr",
          "text": [
            "Train, Epoch 11 / 20:  27%|██▋       | 423/1563 [00:18<00:46, 24.34it/s]"
          ]
        },
        {
          "output_type": "stream",
          "name": "stdout",
          "text": [
            "batch 420 loss: 0.2434712402522564\n"
          ]
        },
        {
          "output_type": "stream",
          "name": "stderr",
          "text": [
            "Train, Epoch 11 / 20:  28%|██▊       | 432/1563 [00:18<00:46, 24.26it/s]"
          ]
        },
        {
          "output_type": "stream",
          "name": "stdout",
          "text": [
            "batch 430 loss: 0.309719181060791\n"
          ]
        },
        {
          "output_type": "stream",
          "name": "stderr",
          "text": [
            "Train, Epoch 11 / 20:  28%|██▊       | 444/1563 [00:18<00:46, 24.14it/s]"
          ]
        },
        {
          "output_type": "stream",
          "name": "stdout",
          "text": [
            "batch 440 loss: 0.2804493546485901\n"
          ]
        },
        {
          "output_type": "stream",
          "name": "stderr",
          "text": [
            "Train, Epoch 11 / 20:  29%|██▉       | 453/1563 [00:19<00:45, 24.50it/s]"
          ]
        },
        {
          "output_type": "stream",
          "name": "stdout",
          "text": [
            "batch 450 loss: 0.34572083204984666\n"
          ]
        },
        {
          "output_type": "stream",
          "name": "stderr",
          "text": [
            "Train, Epoch 11 / 20:  30%|██▉       | 465/1563 [00:19<00:45, 24.40it/s]"
          ]
        },
        {
          "output_type": "stream",
          "name": "stdout",
          "text": [
            "batch 460 loss: 0.28925401344895363\n"
          ]
        },
        {
          "output_type": "stream",
          "name": "stderr",
          "text": [
            "Train, Epoch 11 / 20:  30%|███       | 474/1563 [00:20<00:44, 24.49it/s]"
          ]
        },
        {
          "output_type": "stream",
          "name": "stdout",
          "text": [
            "batch 470 loss: 0.28742215111851693\n"
          ]
        },
        {
          "output_type": "stream",
          "name": "stderr",
          "text": [
            "Train, Epoch 11 / 20:  31%|███       | 483/1563 [00:20<00:43, 24.66it/s]"
          ]
        },
        {
          "output_type": "stream",
          "name": "stdout",
          "text": [
            "batch 480 loss: 0.25042696967720984\n"
          ]
        },
        {
          "output_type": "stream",
          "name": "stderr",
          "text": [
            "Train, Epoch 11 / 20:  32%|███▏      | 495/1563 [00:21<00:43, 24.44it/s]"
          ]
        },
        {
          "output_type": "stream",
          "name": "stdout",
          "text": [
            "batch 490 loss: 0.18129161447286607\n"
          ]
        },
        {
          "output_type": "stream",
          "name": "stderr",
          "text": [
            "Train, Epoch 11 / 20:  32%|███▏      | 504/1563 [00:21<00:43, 24.47it/s]"
          ]
        },
        {
          "output_type": "stream",
          "name": "stdout",
          "text": [
            "batch 500 loss: 0.23810827136039733\n"
          ]
        },
        {
          "output_type": "stream",
          "name": "stderr",
          "text": [
            "Train, Epoch 11 / 20:  33%|███▎      | 513/1563 [00:21<00:43, 24.12it/s]"
          ]
        },
        {
          "output_type": "stream",
          "name": "stdout",
          "text": [
            "batch 510 loss: 0.28313823193311694\n"
          ]
        },
        {
          "output_type": "stream",
          "name": "stderr",
          "text": [
            "Train, Epoch 11 / 20:  34%|███▎      | 525/1563 [00:22<00:42, 24.59it/s]"
          ]
        },
        {
          "output_type": "stream",
          "name": "stdout",
          "text": [
            "batch 520 loss: 0.2091760165989399\n"
          ]
        },
        {
          "output_type": "stream",
          "name": "stderr",
          "text": [
            "Train, Epoch 11 / 20:  34%|███▍      | 534/1563 [00:22<00:41, 24.63it/s]"
          ]
        },
        {
          "output_type": "stream",
          "name": "stdout",
          "text": [
            "batch 530 loss: 0.2063553337007761\n"
          ]
        },
        {
          "output_type": "stream",
          "name": "stderr",
          "text": [
            "Train, Epoch 11 / 20:  35%|███▍      | 543/1563 [00:23<00:42, 24.17it/s]"
          ]
        },
        {
          "output_type": "stream",
          "name": "stdout",
          "text": [
            "batch 540 loss: 0.23176629915833474\n"
          ]
        },
        {
          "output_type": "stream",
          "name": "stderr",
          "text": [
            "Train, Epoch 11 / 20:  36%|███▌      | 555/1563 [00:23<00:40, 24.60it/s]"
          ]
        },
        {
          "output_type": "stream",
          "name": "stdout",
          "text": [
            "batch 550 loss: 0.22369619682431222\n"
          ]
        },
        {
          "output_type": "stream",
          "name": "stderr",
          "text": [
            "Train, Epoch 11 / 20:  36%|███▌      | 564/1563 [00:23<00:40, 24.72it/s]"
          ]
        },
        {
          "output_type": "stream",
          "name": "stdout",
          "text": [
            "batch 560 loss: 0.24219630062580108\n"
          ]
        },
        {
          "output_type": "stream",
          "name": "stderr",
          "text": [
            "Train, Epoch 11 / 20:  37%|███▋      | 573/1563 [00:24<00:40, 24.42it/s]"
          ]
        },
        {
          "output_type": "stream",
          "name": "stdout",
          "text": [
            "batch 570 loss: 0.3188256904482841\n"
          ]
        },
        {
          "output_type": "stream",
          "name": "stderr",
          "text": [
            "Train, Epoch 11 / 20:  37%|███▋      | 582/1563 [00:24<00:40, 24.30it/s]"
          ]
        },
        {
          "output_type": "stream",
          "name": "stdout",
          "text": [
            "batch 580 loss: 0.3440134175121784\n"
          ]
        },
        {
          "output_type": "stream",
          "name": "stderr",
          "text": [
            "Train, Epoch 11 / 20:  38%|███▊      | 594/1563 [00:25<00:40, 24.10it/s]"
          ]
        },
        {
          "output_type": "stream",
          "name": "stdout",
          "text": [
            "batch 590 loss: 0.26214728504419327\n"
          ]
        },
        {
          "output_type": "stream",
          "name": "stderr",
          "text": [
            "Train, Epoch 11 / 20:  39%|███▊      | 603/1563 [00:25<00:42, 22.34it/s]"
          ]
        },
        {
          "output_type": "stream",
          "name": "stdout",
          "text": [
            "batch 600 loss: 0.28900623694062233\n"
          ]
        },
        {
          "output_type": "stream",
          "name": "stderr",
          "text": [
            "Train, Epoch 11 / 20:  39%|███▉      | 612/1563 [00:25<00:45, 20.73it/s]"
          ]
        },
        {
          "output_type": "stream",
          "name": "stdout",
          "text": [
            "batch 610 loss: 0.3274493977427483\n"
          ]
        },
        {
          "output_type": "stream",
          "name": "stderr",
          "text": [
            "Train, Epoch 11 / 20:  40%|███▉      | 624/1563 [00:26<00:44, 20.87it/s]"
          ]
        },
        {
          "output_type": "stream",
          "name": "stdout",
          "text": [
            "batch 620 loss: 0.24233056828379632\n"
          ]
        },
        {
          "output_type": "stream",
          "name": "stderr",
          "text": [
            "Train, Epoch 11 / 20:  40%|████      | 633/1563 [00:26<00:44, 21.00it/s]"
          ]
        },
        {
          "output_type": "stream",
          "name": "stdout",
          "text": [
            "batch 630 loss: 0.17482297345995904\n"
          ]
        },
        {
          "output_type": "stream",
          "name": "stderr",
          "text": [
            "Train, Epoch 11 / 20:  41%|████      | 642/1563 [00:27<00:43, 21.14it/s]"
          ]
        },
        {
          "output_type": "stream",
          "name": "stdout",
          "text": [
            "batch 640 loss: 0.19195099622011186\n"
          ]
        },
        {
          "output_type": "stream",
          "name": "stderr",
          "text": [
            "Train, Epoch 11 / 20:  42%|████▏     | 654/1563 [00:27<00:39, 22.94it/s]"
          ]
        },
        {
          "output_type": "stream",
          "name": "stdout",
          "text": [
            "batch 650 loss: 0.21907906793057919\n"
          ]
        },
        {
          "output_type": "stream",
          "name": "stderr",
          "text": [
            "Train, Epoch 11 / 20:  42%|████▏     | 663/1563 [00:28<00:37, 23.89it/s]"
          ]
        },
        {
          "output_type": "stream",
          "name": "stdout",
          "text": [
            "batch 660 loss: 0.23286831974983216\n"
          ]
        },
        {
          "output_type": "stream",
          "name": "stderr",
          "text": [
            "Train, Epoch 11 / 20:  43%|████▎     | 675/1563 [00:28<00:36, 24.53it/s]"
          ]
        },
        {
          "output_type": "stream",
          "name": "stdout",
          "text": [
            "batch 670 loss: 0.29531966485083105\n"
          ]
        },
        {
          "output_type": "stream",
          "name": "stderr",
          "text": [
            "Train, Epoch 11 / 20:  44%|████▍     | 684/1563 [00:29<00:36, 24.07it/s]"
          ]
        },
        {
          "output_type": "stream",
          "name": "stdout",
          "text": [
            "batch 680 loss: 0.2627111241221428\n"
          ]
        },
        {
          "output_type": "stream",
          "name": "stderr",
          "text": [
            "Train, Epoch 11 / 20:  44%|████▍     | 693/1563 [00:29<00:35, 24.36it/s]"
          ]
        },
        {
          "output_type": "stream",
          "name": "stdout",
          "text": [
            "batch 690 loss: 0.27438763827085494\n"
          ]
        },
        {
          "output_type": "stream",
          "name": "stderr",
          "text": [
            "Train, Epoch 11 / 20:  45%|████▌     | 705/1563 [00:30<00:35, 24.36it/s]"
          ]
        },
        {
          "output_type": "stream",
          "name": "stdout",
          "text": [
            "batch 700 loss: 0.33133906200528146\n"
          ]
        },
        {
          "output_type": "stream",
          "name": "stderr",
          "text": [
            "Train, Epoch 11 / 20:  46%|████▌     | 714/1563 [00:30<00:34, 24.31it/s]"
          ]
        },
        {
          "output_type": "stream",
          "name": "stdout",
          "text": [
            "batch 710 loss: 0.2593557730317116\n"
          ]
        },
        {
          "output_type": "stream",
          "name": "stderr",
          "text": [
            "Train, Epoch 11 / 20:  46%|████▋     | 723/1563 [00:30<00:34, 24.47it/s]"
          ]
        },
        {
          "output_type": "stream",
          "name": "stdout",
          "text": [
            "batch 720 loss: 0.24094868898391725\n"
          ]
        },
        {
          "output_type": "stream",
          "name": "stderr",
          "text": [
            "Train, Epoch 11 / 20:  47%|████▋     | 732/1563 [00:31<00:34, 24.02it/s]"
          ]
        },
        {
          "output_type": "stream",
          "name": "stdout",
          "text": [
            "batch 730 loss: 0.2323174722492695\n"
          ]
        },
        {
          "output_type": "stream",
          "name": "stderr",
          "text": [
            "Train, Epoch 11 / 20:  48%|████▊     | 744/1563 [00:31<00:34, 23.82it/s]"
          ]
        },
        {
          "output_type": "stream",
          "name": "stdout",
          "text": [
            "batch 740 loss: 0.26196445152163506\n"
          ]
        },
        {
          "output_type": "stream",
          "name": "stderr",
          "text": [
            "Train, Epoch 11 / 20:  48%|████▊     | 753/1563 [00:32<00:33, 24.03it/s]"
          ]
        },
        {
          "output_type": "stream",
          "name": "stdout",
          "text": [
            "batch 750 loss: 0.22130397111177444\n"
          ]
        },
        {
          "output_type": "stream",
          "name": "stderr",
          "text": [
            "Train, Epoch 11 / 20:  49%|████▉     | 765/1563 [00:32<00:33, 24.16it/s]"
          ]
        },
        {
          "output_type": "stream",
          "name": "stdout",
          "text": [
            "batch 760 loss: 0.31711421981453897\n"
          ]
        },
        {
          "output_type": "stream",
          "name": "stderr",
          "text": [
            "Train, Epoch 11 / 20:  50%|████▉     | 774/1563 [00:32<00:32, 24.17it/s]"
          ]
        },
        {
          "output_type": "stream",
          "name": "stdout",
          "text": [
            "batch 770 loss: 0.32584182918071747\n"
          ]
        },
        {
          "output_type": "stream",
          "name": "stderr",
          "text": [
            "Train, Epoch 11 / 20:  50%|█████     | 783/1563 [00:33<00:32, 24.14it/s]"
          ]
        },
        {
          "output_type": "stream",
          "name": "stdout",
          "text": [
            "batch 780 loss: 0.30702437460422516\n"
          ]
        },
        {
          "output_type": "stream",
          "name": "stderr",
          "text": [
            "Train, Epoch 11 / 20:  51%|█████     | 795/1563 [00:33<00:31, 24.48it/s]"
          ]
        },
        {
          "output_type": "stream",
          "name": "stdout",
          "text": [
            "batch 790 loss: 0.28235761225223543\n"
          ]
        },
        {
          "output_type": "stream",
          "name": "stderr",
          "text": [
            "Train, Epoch 11 / 20:  51%|█████▏    | 804/1563 [00:34<00:31, 24.04it/s]"
          ]
        },
        {
          "output_type": "stream",
          "name": "stdout",
          "text": [
            "batch 800 loss: 0.32653856128454206\n"
          ]
        },
        {
          "output_type": "stream",
          "name": "stderr",
          "text": [
            "Train, Epoch 11 / 20:  52%|█████▏    | 813/1563 [00:34<00:31, 24.16it/s]"
          ]
        },
        {
          "output_type": "stream",
          "name": "stdout",
          "text": [
            "batch 810 loss: 0.32621958404779433\n"
          ]
        },
        {
          "output_type": "stream",
          "name": "stderr",
          "text": [
            "Train, Epoch 11 / 20:  53%|█████▎    | 825/1563 [00:35<00:30, 24.27it/s]"
          ]
        },
        {
          "output_type": "stream",
          "name": "stdout",
          "text": [
            "batch 820 loss: 0.2878663897514343\n"
          ]
        },
        {
          "output_type": "stream",
          "name": "stderr",
          "text": [
            "Train, Epoch 11 / 20:  53%|█████▎    | 834/1563 [00:35<00:30, 24.11it/s]"
          ]
        },
        {
          "output_type": "stream",
          "name": "stdout",
          "text": [
            "batch 830 loss: 0.21581324189901352\n"
          ]
        },
        {
          "output_type": "stream",
          "name": "stderr",
          "text": [
            "Train, Epoch 11 / 20:  54%|█████▍    | 843/1563 [00:35<00:29, 24.26it/s]"
          ]
        },
        {
          "output_type": "stream",
          "name": "stdout",
          "text": [
            "batch 840 loss: 0.3570961892604828\n"
          ]
        },
        {
          "output_type": "stream",
          "name": "stderr",
          "text": [
            "Train, Epoch 11 / 20:  55%|█████▍    | 855/1563 [00:36<00:29, 24.39it/s]"
          ]
        },
        {
          "output_type": "stream",
          "name": "stdout",
          "text": [
            "batch 850 loss: 0.30905754417181014\n"
          ]
        },
        {
          "output_type": "stream",
          "name": "stderr",
          "text": [
            "Train, Epoch 11 / 20:  55%|█████▌    | 864/1563 [00:36<00:28, 24.57it/s]"
          ]
        },
        {
          "output_type": "stream",
          "name": "stdout",
          "text": [
            "batch 860 loss: 0.2995870426297188\n"
          ]
        },
        {
          "output_type": "stream",
          "name": "stderr",
          "text": [
            "Train, Epoch 11 / 20:  56%|█████▌    | 873/1563 [00:37<00:28, 24.05it/s]"
          ]
        },
        {
          "output_type": "stream",
          "name": "stdout",
          "text": [
            "batch 870 loss: 0.2941503018140793\n"
          ]
        },
        {
          "output_type": "stream",
          "name": "stderr",
          "text": [
            "Train, Epoch 11 / 20:  56%|█████▋    | 882/1563 [00:37<00:28, 24.00it/s]"
          ]
        },
        {
          "output_type": "stream",
          "name": "stdout",
          "text": [
            "batch 880 loss: 0.3012147396802902\n"
          ]
        },
        {
          "output_type": "stream",
          "name": "stderr",
          "text": [
            "Train, Epoch 11 / 20:  57%|█████▋    | 894/1563 [00:37<00:29, 22.62it/s]"
          ]
        },
        {
          "output_type": "stream",
          "name": "stdout",
          "text": [
            "batch 890 loss: 0.2710065692663193\n"
          ]
        },
        {
          "output_type": "stream",
          "name": "stderr",
          "text": [
            "Train, Epoch 11 / 20:  58%|█████▊    | 903/1563 [00:38<00:30, 21.69it/s]"
          ]
        },
        {
          "output_type": "stream",
          "name": "stdout",
          "text": [
            "batch 900 loss: 0.28317693173885344\n"
          ]
        },
        {
          "output_type": "stream",
          "name": "stderr",
          "text": [
            "Train, Epoch 11 / 20:  58%|█████▊    | 912/1563 [00:38<00:30, 21.41it/s]"
          ]
        },
        {
          "output_type": "stream",
          "name": "stdout",
          "text": [
            "batch 910 loss: 0.2703711912035942\n"
          ]
        },
        {
          "output_type": "stream",
          "name": "stderr",
          "text": [
            "Train, Epoch 11 / 20:  59%|█████▉    | 924/1563 [00:39<00:30, 20.72it/s]"
          ]
        },
        {
          "output_type": "stream",
          "name": "stdout",
          "text": [
            "batch 920 loss: 0.267990930378437\n"
          ]
        },
        {
          "output_type": "stream",
          "name": "stderr",
          "text": [
            "Train, Epoch 11 / 20:  60%|█████▉    | 933/1563 [00:39<00:30, 20.69it/s]"
          ]
        },
        {
          "output_type": "stream",
          "name": "stdout",
          "text": [
            "batch 930 loss: 0.18753359243273734\n"
          ]
        },
        {
          "output_type": "stream",
          "name": "stderr",
          "text": [
            "Train, Epoch 11 / 20:  60%|██████    | 945/1563 [00:40<00:27, 22.54it/s]"
          ]
        },
        {
          "output_type": "stream",
          "name": "stdout",
          "text": [
            "batch 940 loss: 0.22795361168682576\n"
          ]
        },
        {
          "output_type": "stream",
          "name": "stderr",
          "text": [
            "Train, Epoch 11 / 20:  61%|██████    | 954/1563 [00:40<00:25, 23.80it/s]"
          ]
        },
        {
          "output_type": "stream",
          "name": "stdout",
          "text": [
            "batch 950 loss: 0.2980655744671822\n"
          ]
        },
        {
          "output_type": "stream",
          "name": "stderr",
          "text": [
            "Train, Epoch 11 / 20:  62%|██████▏   | 963/1563 [00:41<00:24, 24.22it/s]"
          ]
        },
        {
          "output_type": "stream",
          "name": "stdout",
          "text": [
            "batch 960 loss: 0.2632740348577499\n"
          ]
        },
        {
          "output_type": "stream",
          "name": "stderr",
          "text": [
            "Train, Epoch 11 / 20:  62%|██████▏   | 972/1563 [00:41<00:24, 24.02it/s]"
          ]
        },
        {
          "output_type": "stream",
          "name": "stdout",
          "text": [
            "batch 970 loss: 0.2971124403178692\n"
          ]
        },
        {
          "output_type": "stream",
          "name": "stderr",
          "text": [
            "Train, Epoch 11 / 20:  63%|██████▎   | 984/1563 [00:41<00:23, 24.41it/s]"
          ]
        },
        {
          "output_type": "stream",
          "name": "stdout",
          "text": [
            "batch 980 loss: 0.29686368703842164\n"
          ]
        },
        {
          "output_type": "stream",
          "name": "stderr",
          "text": [
            "Train, Epoch 11 / 20:  64%|██████▎   | 993/1563 [00:42<00:23, 24.57it/s]"
          ]
        },
        {
          "output_type": "stream",
          "name": "stdout",
          "text": [
            "batch 990 loss: 0.27144216299057006\n"
          ]
        },
        {
          "output_type": "stream",
          "name": "stderr",
          "text": [
            "Train, Epoch 11 / 20:  64%|██████▍   | 1002/1563 [00:42<00:23, 24.18it/s]"
          ]
        },
        {
          "output_type": "stream",
          "name": "stdout",
          "text": [
            "batch 1000 loss: 0.24389251917600632\n"
          ]
        },
        {
          "output_type": "stream",
          "name": "stderr",
          "text": [
            "Train, Epoch 11 / 20:  65%|██████▍   | 1014/1563 [00:43<00:23, 23.84it/s]"
          ]
        },
        {
          "output_type": "stream",
          "name": "stdout",
          "text": [
            "batch 1010 loss: 0.20283059179782867\n"
          ]
        },
        {
          "output_type": "stream",
          "name": "stderr",
          "text": [
            "Train, Epoch 11 / 20:  65%|██████▌   | 1023/1563 [00:43<00:22, 24.23it/s]"
          ]
        },
        {
          "output_type": "stream",
          "name": "stdout",
          "text": [
            "batch 1020 loss: 0.2586612209677696\n"
          ]
        },
        {
          "output_type": "stream",
          "name": "stderr",
          "text": [
            "Train, Epoch 11 / 20:  66%|██████▌   | 1032/1563 [00:43<00:22, 23.83it/s]"
          ]
        },
        {
          "output_type": "stream",
          "name": "stdout",
          "text": [
            "batch 1030 loss: 0.23232620358467101\n"
          ]
        },
        {
          "output_type": "stream",
          "name": "stderr",
          "text": [
            "Train, Epoch 11 / 20:  67%|██████▋   | 1044/1563 [00:44<00:21, 24.27it/s]"
          ]
        },
        {
          "output_type": "stream",
          "name": "stdout",
          "text": [
            "batch 1040 loss: 0.2832019865512848\n"
          ]
        },
        {
          "output_type": "stream",
          "name": "stderr",
          "text": [
            "Train, Epoch 11 / 20:  67%|██████▋   | 1053/1563 [00:44<00:20, 24.30it/s]"
          ]
        },
        {
          "output_type": "stream",
          "name": "stdout",
          "text": [
            "batch 1050 loss: 0.27525814175605773\n"
          ]
        },
        {
          "output_type": "stream",
          "name": "stderr",
          "text": [
            "Train, Epoch 11 / 20:  68%|██████▊   | 1062/1563 [00:45<00:20, 24.11it/s]"
          ]
        },
        {
          "output_type": "stream",
          "name": "stdout",
          "text": [
            "batch 1060 loss: 0.23061230033636093\n"
          ]
        },
        {
          "output_type": "stream",
          "name": "stderr",
          "text": [
            "Train, Epoch 11 / 20:  69%|██████▊   | 1074/1563 [00:45<00:20, 24.19it/s]"
          ]
        },
        {
          "output_type": "stream",
          "name": "stdout",
          "text": [
            "batch 1070 loss: 0.3301143802702427\n"
          ]
        },
        {
          "output_type": "stream",
          "name": "stderr",
          "text": [
            "Train, Epoch 11 / 20:  69%|██████▉   | 1083/1563 [00:46<00:19, 24.18it/s]"
          ]
        },
        {
          "output_type": "stream",
          "name": "stdout",
          "text": [
            "batch 1080 loss: 0.3730453997850418\n"
          ]
        },
        {
          "output_type": "stream",
          "name": "stderr",
          "text": [
            "Train, Epoch 11 / 20:  70%|███████   | 1095/1563 [00:46<00:19, 24.42it/s]"
          ]
        },
        {
          "output_type": "stream",
          "name": "stdout",
          "text": [
            "batch 1090 loss: 0.31857939511537553\n"
          ]
        },
        {
          "output_type": "stream",
          "name": "stderr",
          "text": [
            "Train, Epoch 11 / 20:  71%|███████   | 1104/1563 [00:46<00:18, 24.49it/s]"
          ]
        },
        {
          "output_type": "stream",
          "name": "stdout",
          "text": [
            "batch 1100 loss: 0.26291652023792267\n"
          ]
        },
        {
          "output_type": "stream",
          "name": "stderr",
          "text": [
            "Train, Epoch 11 / 20:  71%|███████   | 1113/1563 [00:47<00:18, 24.08it/s]"
          ]
        },
        {
          "output_type": "stream",
          "name": "stdout",
          "text": [
            "batch 1110 loss: 0.295639805495739\n"
          ]
        },
        {
          "output_type": "stream",
          "name": "stderr",
          "text": [
            "Train, Epoch 11 / 20:  72%|███████▏  | 1122/1563 [00:47<00:18, 24.42it/s]"
          ]
        },
        {
          "output_type": "stream",
          "name": "stdout",
          "text": [
            "batch 1120 loss: 0.2184773415327072\n"
          ]
        },
        {
          "output_type": "stream",
          "name": "stderr",
          "text": [
            "Train, Epoch 11 / 20:  73%|███████▎  | 1134/1563 [00:48<00:17, 24.47it/s]"
          ]
        },
        {
          "output_type": "stream",
          "name": "stdout",
          "text": [
            "batch 1130 loss: 0.21679804623126983\n"
          ]
        },
        {
          "output_type": "stream",
          "name": "stderr",
          "text": [
            "Train, Epoch 11 / 20:  73%|███████▎  | 1143/1563 [00:48<00:17, 24.29it/s]"
          ]
        },
        {
          "output_type": "stream",
          "name": "stdout",
          "text": [
            "batch 1140 loss: 0.2085447683930397\n"
          ]
        },
        {
          "output_type": "stream",
          "name": "stderr",
          "text": [
            "Train, Epoch 11 / 20:  74%|███████▍  | 1155/1563 [00:49<00:16, 24.30it/s]"
          ]
        },
        {
          "output_type": "stream",
          "name": "stdout",
          "text": [
            "batch 1150 loss: 0.21889216899871827\n"
          ]
        },
        {
          "output_type": "stream",
          "name": "stderr",
          "text": [
            "Train, Epoch 11 / 20:  74%|███████▍  | 1164/1563 [00:49<00:16, 24.15it/s]"
          ]
        },
        {
          "output_type": "stream",
          "name": "stdout",
          "text": [
            "batch 1160 loss: 0.32359103113412857\n"
          ]
        },
        {
          "output_type": "stream",
          "name": "stderr",
          "text": [
            "Train, Epoch 11 / 20:  75%|███████▌  | 1173/1563 [00:49<00:16, 24.12it/s]"
          ]
        },
        {
          "output_type": "stream",
          "name": "stdout",
          "text": [
            "batch 1170 loss: 0.29879705905914306\n"
          ]
        },
        {
          "output_type": "stream",
          "name": "stderr",
          "text": [
            "Train, Epoch 11 / 20:  76%|███████▌  | 1182/1563 [00:50<00:16, 23.08it/s]"
          ]
        },
        {
          "output_type": "stream",
          "name": "stdout",
          "text": [
            "batch 1180 loss: 0.21288446113467216\n"
          ]
        },
        {
          "output_type": "stream",
          "name": "stderr",
          "text": [
            "Train, Epoch 11 / 20:  76%|███████▋  | 1194/1563 [00:50<00:17, 21.20it/s]"
          ]
        },
        {
          "output_type": "stream",
          "name": "stdout",
          "text": [
            "batch 1190 loss: 0.2414627842605114\n"
          ]
        },
        {
          "output_type": "stream",
          "name": "stderr",
          "text": [
            "Train, Epoch 11 / 20:  77%|███████▋  | 1203/1563 [00:51<00:17, 21.03it/s]"
          ]
        },
        {
          "output_type": "stream",
          "name": "stdout",
          "text": [
            "batch 1200 loss: 0.31736005991697314\n"
          ]
        },
        {
          "output_type": "stream",
          "name": "stderr",
          "text": [
            "Train, Epoch 11 / 20:  78%|███████▊  | 1212/1563 [00:51<00:17, 20.58it/s]"
          ]
        },
        {
          "output_type": "stream",
          "name": "stdout",
          "text": [
            "batch 1210 loss: 0.24593316167593002\n"
          ]
        },
        {
          "output_type": "stream",
          "name": "stderr",
          "text": [
            "Train, Epoch 11 / 20:  78%|███████▊  | 1224/1563 [00:52<00:16, 20.89it/s]"
          ]
        },
        {
          "output_type": "stream",
          "name": "stdout",
          "text": [
            "batch 1220 loss: 0.2838814467191696\n"
          ]
        },
        {
          "output_type": "stream",
          "name": "stderr",
          "text": [
            "Train, Epoch 11 / 20:  79%|███████▉  | 1233/1563 [00:52<00:15, 21.73it/s]"
          ]
        },
        {
          "output_type": "stream",
          "name": "stdout",
          "text": [
            "batch 1230 loss: 0.3008334919810295\n"
          ]
        },
        {
          "output_type": "stream",
          "name": "stderr",
          "text": [
            "Train, Epoch 11 / 20:  80%|███████▉  | 1245/1563 [00:53<00:13, 23.66it/s]"
          ]
        },
        {
          "output_type": "stream",
          "name": "stdout",
          "text": [
            "batch 1240 loss: 0.24826244115829468\n"
          ]
        },
        {
          "output_type": "stream",
          "name": "stderr",
          "text": [
            "Train, Epoch 11 / 20:  80%|████████  | 1254/1563 [00:53<00:12, 24.38it/s]"
          ]
        },
        {
          "output_type": "stream",
          "name": "stdout",
          "text": [
            "batch 1250 loss: 0.290898996591568\n"
          ]
        },
        {
          "output_type": "stream",
          "name": "stderr",
          "text": [
            "Train, Epoch 11 / 20:  81%|████████  | 1263/1563 [00:53<00:12, 24.54it/s]"
          ]
        },
        {
          "output_type": "stream",
          "name": "stdout",
          "text": [
            "batch 1260 loss: 0.23071626275777818\n"
          ]
        },
        {
          "output_type": "stream",
          "name": "stderr",
          "text": [
            "Train, Epoch 11 / 20:  82%|████████▏ | 1275/1563 [00:54<00:11, 24.15it/s]"
          ]
        },
        {
          "output_type": "stream",
          "name": "stdout",
          "text": [
            "batch 1270 loss: 0.24435800686478615\n"
          ]
        },
        {
          "output_type": "stream",
          "name": "stderr",
          "text": [
            "Train, Epoch 11 / 20:  82%|████████▏ | 1284/1563 [00:54<00:11, 24.36it/s]"
          ]
        },
        {
          "output_type": "stream",
          "name": "stdout",
          "text": [
            "batch 1280 loss: 0.2194340605288744\n"
          ]
        },
        {
          "output_type": "stream",
          "name": "stderr",
          "text": [
            "Train, Epoch 11 / 20:  83%|████████▎ | 1293/1563 [00:55<00:11, 24.05it/s]"
          ]
        },
        {
          "output_type": "stream",
          "name": "stdout",
          "text": [
            "batch 1290 loss: 0.2689445048570633\n"
          ]
        },
        {
          "output_type": "stream",
          "name": "stderr",
          "text": [
            "Train, Epoch 11 / 20:  83%|████████▎ | 1305/1563 [00:55<00:10, 24.42it/s]"
          ]
        },
        {
          "output_type": "stream",
          "name": "stdout",
          "text": [
            "batch 1300 loss: 0.2619119767099619\n"
          ]
        },
        {
          "output_type": "stream",
          "name": "stderr",
          "text": [
            "Train, Epoch 11 / 20:  84%|████████▍ | 1314/1563 [00:55<00:10, 24.61it/s]"
          ]
        },
        {
          "output_type": "stream",
          "name": "stdout",
          "text": [
            "batch 1310 loss: 0.2508157230913639\n"
          ]
        },
        {
          "output_type": "stream",
          "name": "stderr",
          "text": [
            "Train, Epoch 11 / 20:  85%|████████▍ | 1323/1563 [00:56<00:09, 24.27it/s]"
          ]
        },
        {
          "output_type": "stream",
          "name": "stdout",
          "text": [
            "batch 1320 loss: 0.31566028371453286\n"
          ]
        },
        {
          "output_type": "stream",
          "name": "stderr",
          "text": [
            "Train, Epoch 11 / 20:  85%|████████▌ | 1335/1563 [00:56<00:09, 24.51it/s]"
          ]
        },
        {
          "output_type": "stream",
          "name": "stdout",
          "text": [
            "batch 1330 loss: 0.27051454707980155\n"
          ]
        },
        {
          "output_type": "stream",
          "name": "stderr",
          "text": [
            "Train, Epoch 11 / 20:  86%|████████▌ | 1344/1563 [00:57<00:09, 23.79it/s]"
          ]
        },
        {
          "output_type": "stream",
          "name": "stdout",
          "text": [
            "batch 1340 loss: 0.24151060730218887\n"
          ]
        },
        {
          "output_type": "stream",
          "name": "stderr",
          "text": [
            "Train, Epoch 11 / 20:  87%|████████▋ | 1353/1563 [00:57<00:08, 24.24it/s]"
          ]
        },
        {
          "output_type": "stream",
          "name": "stdout",
          "text": [
            "batch 1350 loss: 0.28685968518257143\n"
          ]
        },
        {
          "output_type": "stream",
          "name": "stderr",
          "text": [
            "Train, Epoch 11 / 20:  87%|████████▋ | 1365/1563 [00:58<00:08, 24.44it/s]"
          ]
        },
        {
          "output_type": "stream",
          "name": "stdout",
          "text": [
            "batch 1360 loss: 0.19976541846990586\n"
          ]
        },
        {
          "output_type": "stream",
          "name": "stderr",
          "text": [
            "Train, Epoch 11 / 20:  88%|████████▊ | 1374/1563 [00:58<00:07, 24.13it/s]"
          ]
        },
        {
          "output_type": "stream",
          "name": "stdout",
          "text": [
            "batch 1370 loss: 0.21583594977855683\n"
          ]
        },
        {
          "output_type": "stream",
          "name": "stderr",
          "text": [
            "Train, Epoch 11 / 20:  88%|████████▊ | 1383/1563 [00:58<00:07, 24.42it/s]"
          ]
        },
        {
          "output_type": "stream",
          "name": "stdout",
          "text": [
            "batch 1380 loss: 0.28699431419372556\n"
          ]
        },
        {
          "output_type": "stream",
          "name": "stderr",
          "text": [
            "Train, Epoch 11 / 20:  89%|████████▉ | 1395/1563 [00:59<00:06, 24.15it/s]"
          ]
        },
        {
          "output_type": "stream",
          "name": "stdout",
          "text": [
            "batch 1390 loss: 0.2989678680896759\n"
          ]
        },
        {
          "output_type": "stream",
          "name": "stderr",
          "text": [
            "Train, Epoch 11 / 20:  90%|████████▉ | 1404/1563 [00:59<00:06, 24.24it/s]"
          ]
        },
        {
          "output_type": "stream",
          "name": "stdout",
          "text": [
            "batch 1400 loss: 0.19784628674387933\n"
          ]
        },
        {
          "output_type": "stream",
          "name": "stderr",
          "text": [
            "Train, Epoch 11 / 20:  90%|█████████ | 1413/1563 [01:00<00:06, 24.22it/s]"
          ]
        },
        {
          "output_type": "stream",
          "name": "stdout",
          "text": [
            "batch 1410 loss: 0.26097561866045\n"
          ]
        },
        {
          "output_type": "stream",
          "name": "stderr",
          "text": [
            "Train, Epoch 11 / 20:  91%|█████████ | 1425/1563 [01:00<00:05, 24.39it/s]"
          ]
        },
        {
          "output_type": "stream",
          "name": "stdout",
          "text": [
            "batch 1420 loss: 0.2753059171140194\n"
          ]
        },
        {
          "output_type": "stream",
          "name": "stderr",
          "text": [
            "Train, Epoch 11 / 20:  92%|█████████▏| 1434/1563 [01:00<00:05, 24.40it/s]"
          ]
        },
        {
          "output_type": "stream",
          "name": "stdout",
          "text": [
            "batch 1430 loss: 0.3536524802446365\n"
          ]
        },
        {
          "output_type": "stream",
          "name": "stderr",
          "text": [
            "Train, Epoch 11 / 20:  92%|█████████▏| 1443/1563 [01:01<00:05, 23.63it/s]"
          ]
        },
        {
          "output_type": "stream",
          "name": "stdout",
          "text": [
            "batch 1440 loss: 0.26317253783345224\n"
          ]
        },
        {
          "output_type": "stream",
          "name": "stderr",
          "text": [
            "Train, Epoch 11 / 20:  93%|█████████▎| 1455/1563 [01:01<00:04, 24.15it/s]"
          ]
        },
        {
          "output_type": "stream",
          "name": "stdout",
          "text": [
            "batch 1450 loss: 0.3157318487763405\n"
          ]
        },
        {
          "output_type": "stream",
          "name": "stderr",
          "text": [
            "Train, Epoch 11 / 20:  94%|█████████▎| 1464/1563 [01:02<00:04, 24.10it/s]"
          ]
        },
        {
          "output_type": "stream",
          "name": "stdout",
          "text": [
            "batch 1460 loss: 0.33051311075687406\n"
          ]
        },
        {
          "output_type": "stream",
          "name": "stderr",
          "text": [
            "Train, Epoch 11 / 20:  94%|█████████▍| 1473/1563 [01:02<00:03, 23.16it/s]"
          ]
        },
        {
          "output_type": "stream",
          "name": "stdout",
          "text": [
            "batch 1470 loss: 0.22971197925508022\n"
          ]
        },
        {
          "output_type": "stream",
          "name": "stderr",
          "text": [
            "Train, Epoch 11 / 20:  95%|█████████▍| 1482/1563 [01:03<00:03, 21.27it/s]"
          ]
        },
        {
          "output_type": "stream",
          "name": "stdout",
          "text": [
            "batch 1480 loss: 0.25397451370954516\n"
          ]
        },
        {
          "output_type": "stream",
          "name": "stderr",
          "text": [
            "Train, Epoch 11 / 20:  96%|█████████▌| 1494/1563 [01:03<00:03, 21.31it/s]"
          ]
        },
        {
          "output_type": "stream",
          "name": "stdout",
          "text": [
            "batch 1490 loss: 0.31184437572956086\n"
          ]
        },
        {
          "output_type": "stream",
          "name": "stderr",
          "text": [
            "Train, Epoch 11 / 20:  96%|█████████▌| 1503/1563 [01:04<00:02, 21.24it/s]"
          ]
        },
        {
          "output_type": "stream",
          "name": "stdout",
          "text": [
            "batch 1500 loss: 0.28904558196663854\n"
          ]
        },
        {
          "output_type": "stream",
          "name": "stderr",
          "text": [
            "Train, Epoch 11 / 20:  97%|█████████▋| 1512/1563 [01:04<00:02, 20.83it/s]"
          ]
        },
        {
          "output_type": "stream",
          "name": "stdout",
          "text": [
            "batch 1510 loss: 0.2956298887729645\n"
          ]
        },
        {
          "output_type": "stream",
          "name": "stderr",
          "text": [
            "Train, Epoch 11 / 20:  98%|█████████▊| 1524/1563 [01:04<00:01, 22.17it/s]"
          ]
        },
        {
          "output_type": "stream",
          "name": "stdout",
          "text": [
            "batch 1520 loss: 0.36977295726537707\n"
          ]
        },
        {
          "output_type": "stream",
          "name": "stderr",
          "text": [
            "Train, Epoch 11 / 20:  98%|█████████▊| 1533/1563 [01:05<00:01, 23.41it/s]"
          ]
        },
        {
          "output_type": "stream",
          "name": "stdout",
          "text": [
            "batch 1530 loss: 0.3126778706908226\n"
          ]
        },
        {
          "output_type": "stream",
          "name": "stderr",
          "text": [
            "Train, Epoch 11 / 20:  99%|█████████▉| 1545/1563 [01:05<00:00, 24.16it/s]"
          ]
        },
        {
          "output_type": "stream",
          "name": "stdout",
          "text": [
            "batch 1540 loss: 0.2697662964463234\n"
          ]
        },
        {
          "output_type": "stream",
          "name": "stderr",
          "text": [
            "Train, Epoch 11 / 20:  99%|█████████▉| 1554/1563 [01:06<00:00, 24.44it/s]"
          ]
        },
        {
          "output_type": "stream",
          "name": "stdout",
          "text": [
            "batch 1550 loss: 0.2522380091249943\n"
          ]
        },
        {
          "output_type": "stream",
          "name": "stderr",
          "text": [
            "Train, Epoch 11 / 20: 100%|██████████| 1563/1563 [01:06<00:00, 23.47it/s]\n"
          ]
        },
        {
          "output_type": "stream",
          "name": "stdout",
          "text": [
            "batch 1560 loss: 0.2817234680056572\n"
          ]
        },
        {
          "output_type": "stream",
          "name": "stderr",
          "text": [
            "Test, Epoch 11 / 20: 100%|██████████| 1563/1563 [00:30<00:00, 51.52it/s]\n"
          ]
        },
        {
          "output_type": "stream",
          "name": "stdout",
          "text": [
            "Epoch 11, loss: 0.46772162197753786, accuracy: 0.80768\n"
          ]
        },
        {
          "output_type": "stream",
          "name": "stderr",
          "text": [
            "Train, Epoch 12 / 20:   1%|          | 15/1563 [00:00<01:02, 24.59it/s]"
          ]
        },
        {
          "output_type": "stream",
          "name": "stdout",
          "text": [
            "batch 10 loss: 0.263494274020195\n"
          ]
        },
        {
          "output_type": "stream",
          "name": "stderr",
          "text": [
            "Train, Epoch 12 / 20:   2%|▏         | 24/1563 [00:00<01:03, 24.37it/s]"
          ]
        },
        {
          "output_type": "stream",
          "name": "stdout",
          "text": [
            "batch 20 loss: 0.24898182451725007\n"
          ]
        },
        {
          "output_type": "stream",
          "name": "stderr",
          "text": [
            "Train, Epoch 12 / 20:   2%|▏         | 33/1563 [00:01<01:03, 24.15it/s]"
          ]
        },
        {
          "output_type": "stream",
          "name": "stdout",
          "text": [
            "batch 30 loss: 0.32885917723178865\n"
          ]
        },
        {
          "output_type": "stream",
          "name": "stderr",
          "text": [
            "Train, Epoch 12 / 20:   3%|▎         | 45/1563 [00:01<01:02, 24.25it/s]"
          ]
        },
        {
          "output_type": "stream",
          "name": "stdout",
          "text": [
            "batch 40 loss: 0.2582186579704285\n"
          ]
        },
        {
          "output_type": "stream",
          "name": "stderr",
          "text": [
            "Train, Epoch 12 / 20:   3%|▎         | 54/1563 [00:02<01:01, 24.50it/s]"
          ]
        },
        {
          "output_type": "stream",
          "name": "stdout",
          "text": [
            "batch 50 loss: 0.18944051153957844\n"
          ]
        },
        {
          "output_type": "stream",
          "name": "stderr",
          "text": [
            "Train, Epoch 12 / 20:   4%|▍         | 63/1563 [00:02<01:02, 24.15it/s]"
          ]
        },
        {
          "output_type": "stream",
          "name": "stdout",
          "text": [
            "batch 60 loss: 0.3008414924144745\n"
          ]
        },
        {
          "output_type": "stream",
          "name": "stderr",
          "text": [
            "Train, Epoch 12 / 20:   5%|▍         | 72/1563 [00:02<01:01, 24.15it/s]"
          ]
        },
        {
          "output_type": "stream",
          "name": "stdout",
          "text": [
            "batch 70 loss: 0.2323281466960907\n"
          ]
        },
        {
          "output_type": "stream",
          "name": "stderr",
          "text": [
            "Train, Epoch 12 / 20:   5%|▌         | 84/1563 [00:03<01:08, 21.68it/s]"
          ]
        },
        {
          "output_type": "stream",
          "name": "stdout",
          "text": [
            "batch 80 loss: 0.3390603303909302\n"
          ]
        },
        {
          "output_type": "stream",
          "name": "stderr",
          "text": [
            "Train, Epoch 12 / 20:   6%|▌         | 93/1563 [00:04<01:12, 20.35it/s]"
          ]
        },
        {
          "output_type": "stream",
          "name": "stdout",
          "text": [
            "batch 90 loss: 0.28374746814370155\n"
          ]
        },
        {
          "output_type": "stream",
          "name": "stderr",
          "text": [
            "Train, Epoch 12 / 20:   7%|▋         | 102/1563 [00:04<01:13, 19.99it/s]"
          ]
        },
        {
          "output_type": "stream",
          "name": "stdout",
          "text": [
            "batch 100 loss: 0.22320349961519242\n"
          ]
        },
        {
          "output_type": "stream",
          "name": "stderr",
          "text": [
            "Train, Epoch 12 / 20:   7%|▋         | 114/1563 [00:05<01:10, 20.55it/s]"
          ]
        },
        {
          "output_type": "stream",
          "name": "stdout",
          "text": [
            "batch 110 loss: 0.2996709100902081\n"
          ]
        },
        {
          "output_type": "stream",
          "name": "stderr",
          "text": [
            "Train, Epoch 12 / 20:   8%|▊         | 123/1563 [00:05<01:08, 21.09it/s]"
          ]
        },
        {
          "output_type": "stream",
          "name": "stdout",
          "text": [
            "batch 120 loss: 0.32608342692255976\n"
          ]
        },
        {
          "output_type": "stream",
          "name": "stderr",
          "text": [
            "Train, Epoch 12 / 20:   9%|▊         | 135/1563 [00:05<00:59, 23.86it/s]"
          ]
        },
        {
          "output_type": "stream",
          "name": "stdout",
          "text": [
            "batch 130 loss: 0.24342100620269774\n"
          ]
        },
        {
          "output_type": "stream",
          "name": "stderr",
          "text": [
            "Train, Epoch 12 / 20:   9%|▉         | 144/1563 [00:06<00:58, 24.24it/s]"
          ]
        },
        {
          "output_type": "stream",
          "name": "stdout",
          "text": [
            "batch 140 loss: 0.22224150486290456\n"
          ]
        },
        {
          "output_type": "stream",
          "name": "stderr",
          "text": [
            "Train, Epoch 12 / 20:  10%|▉         | 153/1563 [00:06<00:57, 24.48it/s]"
          ]
        },
        {
          "output_type": "stream",
          "name": "stdout",
          "text": [
            "batch 150 loss: 0.2934186220169067\n"
          ]
        },
        {
          "output_type": "stream",
          "name": "stderr",
          "text": [
            "Train, Epoch 12 / 20:  11%|█         | 165/1563 [00:07<00:56, 24.90it/s]"
          ]
        },
        {
          "output_type": "stream",
          "name": "stdout",
          "text": [
            "batch 160 loss: 0.3497927702963352\n"
          ]
        },
        {
          "output_type": "stream",
          "name": "stderr",
          "text": [
            "Train, Epoch 12 / 20:  11%|█         | 174/1563 [00:07<00:56, 24.50it/s]"
          ]
        },
        {
          "output_type": "stream",
          "name": "stdout",
          "text": [
            "batch 170 loss: 0.23879795148968697\n"
          ]
        },
        {
          "output_type": "stream",
          "name": "stderr",
          "text": [
            "Train, Epoch 12 / 20:  12%|█▏        | 183/1563 [00:07<00:55, 24.71it/s]"
          ]
        },
        {
          "output_type": "stream",
          "name": "stdout",
          "text": [
            "batch 180 loss: 0.2492368847131729\n"
          ]
        },
        {
          "output_type": "stream",
          "name": "stderr",
          "text": [
            "Train, Epoch 12 / 20:  12%|█▏        | 195/1563 [00:08<00:54, 24.89it/s]"
          ]
        },
        {
          "output_type": "stream",
          "name": "stdout",
          "text": [
            "batch 190 loss: 0.30291578322649004\n"
          ]
        },
        {
          "output_type": "stream",
          "name": "stderr",
          "text": [
            "Train, Epoch 12 / 20:  13%|█▎        | 204/1563 [00:08<00:54, 24.82it/s]"
          ]
        },
        {
          "output_type": "stream",
          "name": "stdout",
          "text": [
            "batch 200 loss: 0.2751310169696808\n"
          ]
        },
        {
          "output_type": "stream",
          "name": "stderr",
          "text": [
            "Train, Epoch 12 / 20:  14%|█▎        | 213/1563 [00:09<00:54, 24.60it/s]"
          ]
        },
        {
          "output_type": "stream",
          "name": "stdout",
          "text": [
            "batch 210 loss: 0.2301620677113533\n"
          ]
        },
        {
          "output_type": "stream",
          "name": "stderr",
          "text": [
            "Train, Epoch 12 / 20:  14%|█▍        | 225/1563 [00:09<00:53, 24.78it/s]"
          ]
        },
        {
          "output_type": "stream",
          "name": "stdout",
          "text": [
            "batch 220 loss: 0.23569302409887313\n"
          ]
        },
        {
          "output_type": "stream",
          "name": "stderr",
          "text": [
            "Train, Epoch 12 / 20:  15%|█▍        | 234/1563 [00:09<00:53, 24.76it/s]"
          ]
        },
        {
          "output_type": "stream",
          "name": "stdout",
          "text": [
            "batch 230 loss: 0.295914401113987\n"
          ]
        },
        {
          "output_type": "stream",
          "name": "stderr",
          "text": [
            "Train, Epoch 12 / 20:  16%|█▌        | 243/1563 [00:10<00:54, 24.30it/s]"
          ]
        },
        {
          "output_type": "stream",
          "name": "stdout",
          "text": [
            "batch 240 loss: 0.15683582425117493\n"
          ]
        },
        {
          "output_type": "stream",
          "name": "stderr",
          "text": [
            "Train, Epoch 12 / 20:  16%|█▋        | 255/1563 [00:10<00:54, 23.97it/s]"
          ]
        },
        {
          "output_type": "stream",
          "name": "stdout",
          "text": [
            "batch 250 loss: 0.2578962229192257\n"
          ]
        },
        {
          "output_type": "stream",
          "name": "stderr",
          "text": [
            "Train, Epoch 12 / 20:  17%|█▋        | 264/1563 [00:11<00:53, 24.19it/s]"
          ]
        },
        {
          "output_type": "stream",
          "name": "stdout",
          "text": [
            "batch 260 loss: 0.2472493201494217\n"
          ]
        },
        {
          "output_type": "stream",
          "name": "stderr",
          "text": [
            "Train, Epoch 12 / 20:  17%|█▋        | 273/1563 [00:11<00:54, 23.65it/s]"
          ]
        },
        {
          "output_type": "stream",
          "name": "stdout",
          "text": [
            "batch 270 loss: 0.30060082376003266\n"
          ]
        },
        {
          "output_type": "stream",
          "name": "stderr",
          "text": [
            "Train, Epoch 12 / 20:  18%|█▊        | 285/1563 [00:12<00:52, 24.47it/s]"
          ]
        },
        {
          "output_type": "stream",
          "name": "stdout",
          "text": [
            "batch 280 loss: 0.2987502679228783\n"
          ]
        },
        {
          "output_type": "stream",
          "name": "stderr",
          "text": [
            "Train, Epoch 12 / 20:  19%|█▉        | 294/1563 [00:12<00:51, 24.55it/s]"
          ]
        },
        {
          "output_type": "stream",
          "name": "stdout",
          "text": [
            "batch 290 loss: 0.23229895308613777\n"
          ]
        },
        {
          "output_type": "stream",
          "name": "stderr",
          "text": [
            "Train, Epoch 12 / 20:  19%|█▉        | 303/1563 [00:12<00:51, 24.54it/s]"
          ]
        },
        {
          "output_type": "stream",
          "name": "stdout",
          "text": [
            "batch 300 loss: 0.2850616693496704\n"
          ]
        },
        {
          "output_type": "stream",
          "name": "stderr",
          "text": [
            "Train, Epoch 12 / 20:  20%|██        | 315/1563 [00:13<00:50, 24.76it/s]"
          ]
        },
        {
          "output_type": "stream",
          "name": "stdout",
          "text": [
            "batch 310 loss: 0.2277831181883812\n"
          ]
        },
        {
          "output_type": "stream",
          "name": "stderr",
          "text": [
            "Train, Epoch 12 / 20:  21%|██        | 324/1563 [00:13<00:50, 24.44it/s]"
          ]
        },
        {
          "output_type": "stream",
          "name": "stdout",
          "text": [
            "batch 320 loss: 0.2620170138776302\n"
          ]
        },
        {
          "output_type": "stream",
          "name": "stderr",
          "text": [
            "Train, Epoch 12 / 20:  21%|██▏       | 333/1563 [00:14<00:49, 24.69it/s]"
          ]
        },
        {
          "output_type": "stream",
          "name": "stdout",
          "text": [
            "batch 330 loss: 0.2122371256351471\n"
          ]
        },
        {
          "output_type": "stream",
          "name": "stderr",
          "text": [
            "Train, Epoch 12 / 20:  22%|██▏       | 345/1563 [00:14<00:48, 24.92it/s]"
          ]
        },
        {
          "output_type": "stream",
          "name": "stdout",
          "text": [
            "batch 340 loss: 0.31309452950954436\n"
          ]
        },
        {
          "output_type": "stream",
          "name": "stderr",
          "text": [
            "Train, Epoch 12 / 20:  23%|██▎       | 354/1563 [00:14<00:49, 24.56it/s]"
          ]
        },
        {
          "output_type": "stream",
          "name": "stdout",
          "text": [
            "batch 350 loss: 0.27013824582099916\n"
          ]
        },
        {
          "output_type": "stream",
          "name": "stderr",
          "text": [
            "Train, Epoch 12 / 20:  23%|██▎       | 363/1563 [00:15<00:49, 24.28it/s]"
          ]
        },
        {
          "output_type": "stream",
          "name": "stdout",
          "text": [
            "batch 360 loss: 0.30701556652784345\n"
          ]
        },
        {
          "output_type": "stream",
          "name": "stderr",
          "text": [
            "Train, Epoch 12 / 20:  24%|██▍       | 372/1563 [00:15<00:53, 22.20it/s]"
          ]
        },
        {
          "output_type": "stream",
          "name": "stdout",
          "text": [
            "batch 370 loss: 0.20343379583209753\n"
          ]
        },
        {
          "output_type": "stream",
          "name": "stderr",
          "text": [
            "Train, Epoch 12 / 20:  25%|██▍       | 384/1563 [00:16<00:52, 22.51it/s]"
          ]
        },
        {
          "output_type": "stream",
          "name": "stdout",
          "text": [
            "batch 380 loss: 0.242204799503088\n"
          ]
        },
        {
          "output_type": "stream",
          "name": "stderr",
          "text": [
            "Train, Epoch 12 / 20:  25%|██▌       | 393/1563 [00:16<00:51, 22.54it/s]"
          ]
        },
        {
          "output_type": "stream",
          "name": "stdout",
          "text": [
            "batch 390 loss: 0.2978051468729973\n"
          ]
        },
        {
          "output_type": "stream",
          "name": "stderr",
          "text": [
            "Train, Epoch 12 / 20:  26%|██▌       | 402/1563 [00:17<00:52, 21.95it/s]"
          ]
        },
        {
          "output_type": "stream",
          "name": "stdout",
          "text": [
            "batch 400 loss: 0.23896907269954681\n"
          ]
        },
        {
          "output_type": "stream",
          "name": "stderr",
          "text": [
            "Train, Epoch 12 / 20:  26%|██▋       | 414/1563 [00:17<00:52, 21.68it/s]"
          ]
        },
        {
          "output_type": "stream",
          "name": "stdout",
          "text": [
            "batch 410 loss: 0.27924626022577287\n"
          ]
        },
        {
          "output_type": "stream",
          "name": "stderr",
          "text": [
            "Train, Epoch 12 / 20:  27%|██▋       | 423/1563 [00:18<00:50, 22.76it/s]"
          ]
        },
        {
          "output_type": "stream",
          "name": "stdout",
          "text": [
            "batch 420 loss: 0.19479108415544033\n"
          ]
        },
        {
          "output_type": "stream",
          "name": "stderr",
          "text": [
            "Train, Epoch 12 / 20:  28%|██▊       | 435/1563 [00:18<00:46, 24.20it/s]"
          ]
        },
        {
          "output_type": "stream",
          "name": "stdout",
          "text": [
            "batch 430 loss: 0.2722854010760784\n"
          ]
        },
        {
          "output_type": "stream",
          "name": "stderr",
          "text": [
            "Train, Epoch 12 / 20:  28%|██▊       | 444/1563 [00:18<00:45, 24.34it/s]"
          ]
        },
        {
          "output_type": "stream",
          "name": "stdout",
          "text": [
            "batch 440 loss: 0.3040534943342209\n"
          ]
        },
        {
          "output_type": "stream",
          "name": "stderr",
          "text": [
            "Train, Epoch 12 / 20:  29%|██▉       | 453/1563 [00:19<00:45, 24.63it/s]"
          ]
        },
        {
          "output_type": "stream",
          "name": "stdout",
          "text": [
            "batch 450 loss: 0.3031201273202896\n"
          ]
        },
        {
          "output_type": "stream",
          "name": "stderr",
          "text": [
            "Train, Epoch 12 / 20:  30%|██▉       | 465/1563 [00:19<00:44, 24.75it/s]"
          ]
        },
        {
          "output_type": "stream",
          "name": "stdout",
          "text": [
            "batch 460 loss: 0.24220195040106773\n"
          ]
        },
        {
          "output_type": "stream",
          "name": "stderr",
          "text": [
            "Train, Epoch 12 / 20:  30%|███       | 474/1563 [00:20<00:44, 24.54it/s]"
          ]
        },
        {
          "output_type": "stream",
          "name": "stdout",
          "text": [
            "batch 470 loss: 0.23740807622671128\n"
          ]
        },
        {
          "output_type": "stream",
          "name": "stderr",
          "text": [
            "Train, Epoch 12 / 20:  31%|███       | 483/1563 [00:20<00:44, 24.50it/s]"
          ]
        },
        {
          "output_type": "stream",
          "name": "stdout",
          "text": [
            "batch 480 loss: 0.26713065393269064\n"
          ]
        },
        {
          "output_type": "stream",
          "name": "stderr",
          "text": [
            "Train, Epoch 12 / 20:  31%|███▏      | 492/1563 [00:20<00:43, 24.59it/s]"
          ]
        },
        {
          "output_type": "stream",
          "name": "stdout",
          "text": [
            "batch 490 loss: 0.32381973415613174\n"
          ]
        },
        {
          "output_type": "stream",
          "name": "stderr",
          "text": [
            "Train, Epoch 12 / 20:  32%|███▏      | 504/1563 [00:21<00:43, 24.51it/s]"
          ]
        },
        {
          "output_type": "stream",
          "name": "stdout",
          "text": [
            "batch 500 loss: 0.192180860042572\n"
          ]
        },
        {
          "output_type": "stream",
          "name": "stderr",
          "text": [
            "Train, Epoch 12 / 20:  33%|███▎      | 513/1563 [00:21<00:42, 24.56it/s]"
          ]
        },
        {
          "output_type": "stream",
          "name": "stdout",
          "text": [
            "batch 510 loss: 0.3204019881784916\n"
          ]
        },
        {
          "output_type": "stream",
          "name": "stderr",
          "text": [
            "Train, Epoch 12 / 20:  34%|███▎      | 525/1563 [00:22<00:42, 24.70it/s]"
          ]
        },
        {
          "output_type": "stream",
          "name": "stdout",
          "text": [
            "batch 520 loss: 0.24505698531866074\n"
          ]
        },
        {
          "output_type": "stream",
          "name": "stderr",
          "text": [
            "Train, Epoch 12 / 20:  34%|███▍      | 534/1563 [00:22<00:41, 24.70it/s]"
          ]
        },
        {
          "output_type": "stream",
          "name": "stdout",
          "text": [
            "batch 530 loss: 0.28540133535861967\n"
          ]
        },
        {
          "output_type": "stream",
          "name": "stderr",
          "text": [
            "Train, Epoch 12 / 20:  35%|███▍      | 543/1563 [00:22<00:41, 24.65it/s]"
          ]
        },
        {
          "output_type": "stream",
          "name": "stdout",
          "text": [
            "batch 540 loss: 0.20698428377509118\n"
          ]
        },
        {
          "output_type": "stream",
          "name": "stderr",
          "text": [
            "Train, Epoch 12 / 20:  36%|███▌      | 555/1563 [00:23<00:40, 24.85it/s]"
          ]
        },
        {
          "output_type": "stream",
          "name": "stdout",
          "text": [
            "batch 550 loss: 0.26153875067830085\n"
          ]
        },
        {
          "output_type": "stream",
          "name": "stderr",
          "text": [
            "Train, Epoch 12 / 20:  36%|███▌      | 564/1563 [00:23<00:40, 24.79it/s]"
          ]
        },
        {
          "output_type": "stream",
          "name": "stdout",
          "text": [
            "batch 560 loss: 0.31627253741025924\n"
          ]
        },
        {
          "output_type": "stream",
          "name": "stderr",
          "text": [
            "Train, Epoch 12 / 20:  37%|███▋      | 573/1563 [00:24<00:40, 24.45it/s]"
          ]
        },
        {
          "output_type": "stream",
          "name": "stdout",
          "text": [
            "batch 570 loss: 0.2587984465062618\n"
          ]
        },
        {
          "output_type": "stream",
          "name": "stderr",
          "text": [
            "Train, Epoch 12 / 20:  37%|███▋      | 582/1563 [00:24<00:39, 24.55it/s]"
          ]
        },
        {
          "output_type": "stream",
          "name": "stdout",
          "text": [
            "batch 580 loss: 0.28381369784474375\n"
          ]
        },
        {
          "output_type": "stream",
          "name": "stderr",
          "text": [
            "Train, Epoch 12 / 20:  38%|███▊      | 594/1563 [00:24<00:40, 23.95it/s]"
          ]
        },
        {
          "output_type": "stream",
          "name": "stdout",
          "text": [
            "batch 590 loss: 0.29497011452913285\n"
          ]
        },
        {
          "output_type": "stream",
          "name": "stderr",
          "text": [
            "Train, Epoch 12 / 20:  39%|███▊      | 603/1563 [00:25<00:39, 24.36it/s]"
          ]
        },
        {
          "output_type": "stream",
          "name": "stdout",
          "text": [
            "batch 600 loss: 0.3271564394235611\n"
          ]
        },
        {
          "output_type": "stream",
          "name": "stderr",
          "text": [
            "Train, Epoch 12 / 20:  39%|███▉      | 615/1563 [00:25<00:38, 24.81it/s]"
          ]
        },
        {
          "output_type": "stream",
          "name": "stdout",
          "text": [
            "batch 610 loss: 0.16464970149099828\n"
          ]
        },
        {
          "output_type": "stream",
          "name": "stderr",
          "text": [
            "Train, Epoch 12 / 20:  40%|███▉      | 624/1563 [00:26<00:38, 24.68it/s]"
          ]
        },
        {
          "output_type": "stream",
          "name": "stdout",
          "text": [
            "batch 620 loss: 0.2120918668806553\n"
          ]
        },
        {
          "output_type": "stream",
          "name": "stderr",
          "text": [
            "Train, Epoch 12 / 20:  40%|████      | 633/1563 [00:26<00:37, 24.64it/s]"
          ]
        },
        {
          "output_type": "stream",
          "name": "stdout",
          "text": [
            "batch 630 loss: 0.3385248839855194\n"
          ]
        },
        {
          "output_type": "stream",
          "name": "stderr",
          "text": [
            "Train, Epoch 12 / 20:  41%|████      | 642/1563 [00:26<00:37, 24.42it/s]"
          ]
        },
        {
          "output_type": "stream",
          "name": "stdout",
          "text": [
            "batch 640 loss: 0.31454998776316645\n"
          ]
        },
        {
          "output_type": "stream",
          "name": "stderr",
          "text": [
            "Train, Epoch 12 / 20:  42%|████▏     | 654/1563 [00:27<00:36, 24.60it/s]"
          ]
        },
        {
          "output_type": "stream",
          "name": "stdout",
          "text": [
            "batch 650 loss: 0.280697825551033\n"
          ]
        },
        {
          "output_type": "stream",
          "name": "stderr",
          "text": [
            "Train, Epoch 12 / 20:  42%|████▏     | 663/1563 [00:27<00:37, 24.28it/s]"
          ]
        },
        {
          "output_type": "stream",
          "name": "stdout",
          "text": [
            "batch 660 loss: 0.22782923877239228\n"
          ]
        },
        {
          "output_type": "stream",
          "name": "stderr",
          "text": [
            "Train, Epoch 12 / 20:  43%|████▎     | 672/1563 [00:28<00:38, 22.86it/s]"
          ]
        },
        {
          "output_type": "stream",
          "name": "stdout",
          "text": [
            "batch 670 loss: 0.2841960027813911\n"
          ]
        },
        {
          "output_type": "stream",
          "name": "stderr",
          "text": [
            "Train, Epoch 12 / 20:  44%|████▍     | 684/1563 [00:28<00:39, 22.17it/s]"
          ]
        },
        {
          "output_type": "stream",
          "name": "stdout",
          "text": [
            "batch 680 loss: 0.27741633653640746\n"
          ]
        },
        {
          "output_type": "stream",
          "name": "stderr",
          "text": [
            "Train, Epoch 12 / 20:  44%|████▍     | 693/1563 [00:29<00:40, 21.34it/s]"
          ]
        },
        {
          "output_type": "stream",
          "name": "stdout",
          "text": [
            "batch 690 loss: 0.24614312052726744\n"
          ]
        },
        {
          "output_type": "stream",
          "name": "stderr",
          "text": [
            "Train, Epoch 12 / 20:  45%|████▍     | 702/1563 [00:29<00:39, 21.97it/s]"
          ]
        },
        {
          "output_type": "stream",
          "name": "stdout",
          "text": [
            "batch 700 loss: 0.31073001846671106\n"
          ]
        },
        {
          "output_type": "stream",
          "name": "stderr",
          "text": [
            "Train, Epoch 12 / 20:  46%|████▌     | 714/1563 [00:30<00:38, 21.95it/s]"
          ]
        },
        {
          "output_type": "stream",
          "name": "stdout",
          "text": [
            "batch 710 loss: 0.2815671980381012\n"
          ]
        },
        {
          "output_type": "stream",
          "name": "stderr",
          "text": [
            "Train, Epoch 12 / 20:  46%|████▋     | 723/1563 [00:30<00:36, 23.28it/s]"
          ]
        },
        {
          "output_type": "stream",
          "name": "stdout",
          "text": [
            "batch 720 loss: 0.26885263100266454\n"
          ]
        },
        {
          "output_type": "stream",
          "name": "stderr",
          "text": [
            "Train, Epoch 12 / 20:  47%|████▋     | 735/1563 [00:31<00:34, 24.15it/s]"
          ]
        },
        {
          "output_type": "stream",
          "name": "stdout",
          "text": [
            "batch 730 loss: 0.2439635943621397\n"
          ]
        },
        {
          "output_type": "stream",
          "name": "stderr",
          "text": [
            "Train, Epoch 12 / 20:  48%|████▊     | 744/1563 [00:31<00:33, 24.34it/s]"
          ]
        },
        {
          "output_type": "stream",
          "name": "stdout",
          "text": [
            "batch 740 loss: 0.28339422941207887\n"
          ]
        },
        {
          "output_type": "stream",
          "name": "stderr",
          "text": [
            "Train, Epoch 12 / 20:  48%|████▊     | 753/1563 [00:31<00:32, 24.78it/s]"
          ]
        },
        {
          "output_type": "stream",
          "name": "stdout",
          "text": [
            "batch 750 loss: 0.2824295602738857\n"
          ]
        },
        {
          "output_type": "stream",
          "name": "stderr",
          "text": [
            "Train, Epoch 12 / 20:  49%|████▉     | 765/1563 [00:32<00:32, 24.60it/s]"
          ]
        },
        {
          "output_type": "stream",
          "name": "stdout",
          "text": [
            "batch 760 loss: 0.2741357505321503\n"
          ]
        },
        {
          "output_type": "stream",
          "name": "stderr",
          "text": [
            "Train, Epoch 12 / 20:  50%|████▉     | 774/1563 [00:32<00:31, 24.85it/s]"
          ]
        },
        {
          "output_type": "stream",
          "name": "stdout",
          "text": [
            "batch 770 loss: 0.26515912264585495\n"
          ]
        },
        {
          "output_type": "stream",
          "name": "stderr",
          "text": [
            "Train, Epoch 12 / 20:  50%|█████     | 783/1563 [00:32<00:31, 24.87it/s]"
          ]
        },
        {
          "output_type": "stream",
          "name": "stdout",
          "text": [
            "batch 780 loss: 0.2712324447929859\n"
          ]
        },
        {
          "output_type": "stream",
          "name": "stderr",
          "text": [
            "Train, Epoch 12 / 20:  51%|█████     | 795/1563 [00:33<00:31, 24.76it/s]"
          ]
        },
        {
          "output_type": "stream",
          "name": "stdout",
          "text": [
            "batch 790 loss: 0.26129529625177383\n"
          ]
        },
        {
          "output_type": "stream",
          "name": "stderr",
          "text": [
            "Train, Epoch 12 / 20:  51%|█████▏    | 804/1563 [00:33<00:30, 24.80it/s]"
          ]
        },
        {
          "output_type": "stream",
          "name": "stdout",
          "text": [
            "batch 800 loss: 0.2954793617129326\n"
          ]
        },
        {
          "output_type": "stream",
          "name": "stderr",
          "text": [
            "Train, Epoch 12 / 20:  52%|█████▏    | 813/1563 [00:34<00:30, 24.70it/s]"
          ]
        },
        {
          "output_type": "stream",
          "name": "stdout",
          "text": [
            "batch 810 loss: 0.23153107687830926\n"
          ]
        },
        {
          "output_type": "stream",
          "name": "stderr",
          "text": [
            "Train, Epoch 12 / 20:  53%|█████▎    | 825/1563 [00:34<00:29, 24.85it/s]"
          ]
        },
        {
          "output_type": "stream",
          "name": "stdout",
          "text": [
            "batch 820 loss: 0.2726473338901997\n"
          ]
        },
        {
          "output_type": "stream",
          "name": "stderr",
          "text": [
            "Train, Epoch 12 / 20:  53%|█████▎    | 834/1563 [00:35<00:29, 24.71it/s]"
          ]
        },
        {
          "output_type": "stream",
          "name": "stdout",
          "text": [
            "batch 830 loss: 0.33402438163757325\n"
          ]
        },
        {
          "output_type": "stream",
          "name": "stderr",
          "text": [
            "Train, Epoch 12 / 20:  54%|█████▍    | 843/1563 [00:35<00:29, 24.57it/s]"
          ]
        },
        {
          "output_type": "stream",
          "name": "stdout",
          "text": [
            "batch 840 loss: 0.2687734842300415\n"
          ]
        },
        {
          "output_type": "stream",
          "name": "stderr",
          "text": [
            "Train, Epoch 12 / 20:  55%|█████▍    | 855/1563 [00:35<00:28, 24.82it/s]"
          ]
        },
        {
          "output_type": "stream",
          "name": "stdout",
          "text": [
            "batch 850 loss: 0.2355851337313652\n"
          ]
        },
        {
          "output_type": "stream",
          "name": "stderr",
          "text": [
            "Train, Epoch 12 / 20:  55%|█████▌    | 864/1563 [00:36<00:28, 24.51it/s]"
          ]
        },
        {
          "output_type": "stream",
          "name": "stdout",
          "text": [
            "batch 860 loss: 0.3925945725291967\n"
          ]
        },
        {
          "output_type": "stream",
          "name": "stderr",
          "text": [
            "Train, Epoch 12 / 20:  56%|█████▌    | 873/1563 [00:36<00:27, 24.75it/s]"
          ]
        },
        {
          "output_type": "stream",
          "name": "stdout",
          "text": [
            "batch 870 loss: 0.24855958819389343\n"
          ]
        },
        {
          "output_type": "stream",
          "name": "stderr",
          "text": [
            "Train, Epoch 12 / 20:  57%|█████▋    | 885/1563 [00:37<00:27, 24.83it/s]"
          ]
        },
        {
          "output_type": "stream",
          "name": "stdout",
          "text": [
            "batch 880 loss: 0.2369513414800167\n"
          ]
        },
        {
          "output_type": "stream",
          "name": "stderr",
          "text": [
            "Train, Epoch 12 / 20:  57%|█████▋    | 894/1563 [00:37<00:27, 24.54it/s]"
          ]
        },
        {
          "output_type": "stream",
          "name": "stdout",
          "text": [
            "batch 890 loss: 0.28423466980457307\n"
          ]
        },
        {
          "output_type": "stream",
          "name": "stderr",
          "text": [
            "Train, Epoch 12 / 20:  58%|█████▊    | 903/1563 [00:37<00:27, 24.38it/s]"
          ]
        },
        {
          "output_type": "stream",
          "name": "stdout",
          "text": [
            "batch 900 loss: 0.22875353321433067\n"
          ]
        },
        {
          "output_type": "stream",
          "name": "stderr",
          "text": [
            "Train, Epoch 12 / 20:  59%|█████▊    | 915/1563 [00:38<00:26, 24.67it/s]"
          ]
        },
        {
          "output_type": "stream",
          "name": "stdout",
          "text": [
            "batch 910 loss: 0.31056902930140495\n"
          ]
        },
        {
          "output_type": "stream",
          "name": "stderr",
          "text": [
            "Train, Epoch 12 / 20:  59%|█████▉    | 924/1563 [00:38<00:25, 24.61it/s]"
          ]
        },
        {
          "output_type": "stream",
          "name": "stdout",
          "text": [
            "batch 920 loss: 0.2858146607875824\n"
          ]
        },
        {
          "output_type": "stream",
          "name": "stderr",
          "text": [
            "Train, Epoch 12 / 20:  60%|█████▉    | 933/1563 [00:39<00:25, 24.72it/s]"
          ]
        },
        {
          "output_type": "stream",
          "name": "stdout",
          "text": [
            "batch 930 loss: 0.31283093690872193\n"
          ]
        },
        {
          "output_type": "stream",
          "name": "stderr",
          "text": [
            "Train, Epoch 12 / 20:  60%|██████    | 945/1563 [00:39<00:25, 24.72it/s]"
          ]
        },
        {
          "output_type": "stream",
          "name": "stdout",
          "text": [
            "batch 940 loss: 0.19840763211250306\n"
          ]
        },
        {
          "output_type": "stream",
          "name": "stderr",
          "text": [
            "Train, Epoch 12 / 20:  61%|██████    | 954/1563 [00:39<00:24, 24.70it/s]"
          ]
        },
        {
          "output_type": "stream",
          "name": "stdout",
          "text": [
            "batch 950 loss: 0.2683972179889679\n"
          ]
        },
        {
          "output_type": "stream",
          "name": "stderr",
          "text": [
            "Train, Epoch 12 / 20:  62%|██████▏   | 963/1563 [00:40<00:24, 24.59it/s]"
          ]
        },
        {
          "output_type": "stream",
          "name": "stdout",
          "text": [
            "batch 960 loss: 0.27425457537174225\n"
          ]
        },
        {
          "output_type": "stream",
          "name": "stderr",
          "text": [
            "Train, Epoch 12 / 20:  62%|██████▏   | 972/1563 [00:40<00:26, 22.65it/s]"
          ]
        },
        {
          "output_type": "stream",
          "name": "stdout",
          "text": [
            "batch 970 loss: 0.24437716007232665\n"
          ]
        },
        {
          "output_type": "stream",
          "name": "stderr",
          "text": [
            "Train, Epoch 12 / 20:  63%|██████▎   | 984/1563 [00:41<00:25, 22.66it/s]"
          ]
        },
        {
          "output_type": "stream",
          "name": "stdout",
          "text": [
            "batch 980 loss: 0.2882168017327785\n"
          ]
        },
        {
          "output_type": "stream",
          "name": "stderr",
          "text": [
            "Train, Epoch 12 / 20:  64%|██████▎   | 993/1563 [00:41<00:26, 21.33it/s]"
          ]
        },
        {
          "output_type": "stream",
          "name": "stdout",
          "text": [
            "batch 990 loss: 0.29094609916210173\n"
          ]
        },
        {
          "output_type": "stream",
          "name": "stderr",
          "text": [
            "Train, Epoch 12 / 20:  64%|██████▍   | 1002/1563 [00:42<00:26, 21.14it/s]"
          ]
        },
        {
          "output_type": "stream",
          "name": "stdout",
          "text": [
            "batch 1000 loss: 0.2515042372047901\n"
          ]
        },
        {
          "output_type": "stream",
          "name": "stderr",
          "text": [
            "Train, Epoch 12 / 20:  65%|██████▍   | 1014/1563 [00:42<00:27, 19.74it/s]"
          ]
        },
        {
          "output_type": "stream",
          "name": "stdout",
          "text": [
            "batch 1010 loss: 0.24418145716190337\n"
          ]
        },
        {
          "output_type": "stream",
          "name": "stderr",
          "text": [
            "Train, Epoch 12 / 20:  66%|██████▌   | 1025/1563 [00:43<00:23, 22.59it/s]"
          ]
        },
        {
          "output_type": "stream",
          "name": "stdout",
          "text": [
            "batch 1020 loss: 0.2920431077480316\n"
          ]
        },
        {
          "output_type": "stream",
          "name": "stderr",
          "text": [
            "Train, Epoch 12 / 20:  66%|██████▌   | 1034/1563 [00:43<00:22, 23.97it/s]"
          ]
        },
        {
          "output_type": "stream",
          "name": "stdout",
          "text": [
            "batch 1030 loss: 0.2846937797963619\n"
          ]
        },
        {
          "output_type": "stream",
          "name": "stderr",
          "text": [
            "Train, Epoch 12 / 20:  67%|██████▋   | 1043/1563 [00:43<00:21, 24.48it/s]"
          ]
        },
        {
          "output_type": "stream",
          "name": "stdout",
          "text": [
            "batch 1040 loss: 0.294845961779356\n"
          ]
        },
        {
          "output_type": "stream",
          "name": "stderr",
          "text": [
            "Train, Epoch 12 / 20:  67%|██████▋   | 1055/1563 [00:44<00:20, 24.77it/s]"
          ]
        },
        {
          "output_type": "stream",
          "name": "stdout",
          "text": [
            "batch 1050 loss: 0.28863326236605646\n"
          ]
        },
        {
          "output_type": "stream",
          "name": "stderr",
          "text": [
            "Train, Epoch 12 / 20:  68%|██████▊   | 1064/1563 [00:44<00:20, 24.60it/s]"
          ]
        },
        {
          "output_type": "stream",
          "name": "stdout",
          "text": [
            "batch 1060 loss: 0.25055170580744746\n"
          ]
        },
        {
          "output_type": "stream",
          "name": "stderr",
          "text": [
            "Train, Epoch 12 / 20:  69%|██████▊   | 1073/1563 [00:45<00:19, 24.75it/s]"
          ]
        },
        {
          "output_type": "stream",
          "name": "stdout",
          "text": [
            "batch 1070 loss: 0.28180351108312607\n"
          ]
        },
        {
          "output_type": "stream",
          "name": "stderr",
          "text": [
            "Train, Epoch 12 / 20:  69%|██████▉   | 1085/1563 [00:45<00:19, 24.57it/s]"
          ]
        },
        {
          "output_type": "stream",
          "name": "stdout",
          "text": [
            "batch 1080 loss: 0.19383491426706315\n"
          ]
        },
        {
          "output_type": "stream",
          "name": "stderr",
          "text": [
            "Train, Epoch 12 / 20:  70%|██████▉   | 1094/1563 [00:46<00:19, 24.44it/s]"
          ]
        },
        {
          "output_type": "stream",
          "name": "stdout",
          "text": [
            "batch 1090 loss: 0.2036989599466324\n"
          ]
        },
        {
          "output_type": "stream",
          "name": "stderr",
          "text": [
            "Train, Epoch 12 / 20:  71%|███████   | 1103/1563 [00:46<00:18, 24.42it/s]"
          ]
        },
        {
          "output_type": "stream",
          "name": "stdout",
          "text": [
            "batch 1100 loss: 0.2521874010562897\n"
          ]
        },
        {
          "output_type": "stream",
          "name": "stderr",
          "text": [
            "Train, Epoch 12 / 20:  71%|███████▏  | 1115/1563 [00:46<00:18, 24.63it/s]"
          ]
        },
        {
          "output_type": "stream",
          "name": "stdout",
          "text": [
            "batch 1110 loss: 0.1829136058688164\n"
          ]
        },
        {
          "output_type": "stream",
          "name": "stderr",
          "text": [
            "Train, Epoch 12 / 20:  72%|███████▏  | 1124/1563 [00:47<00:17, 24.84it/s]"
          ]
        },
        {
          "output_type": "stream",
          "name": "stdout",
          "text": [
            "batch 1120 loss: 0.27883847802877426\n"
          ]
        },
        {
          "output_type": "stream",
          "name": "stderr",
          "text": [
            "Train, Epoch 12 / 20:  72%|███████▏  | 1133/1563 [00:47<00:17, 24.76it/s]"
          ]
        },
        {
          "output_type": "stream",
          "name": "stdout",
          "text": [
            "batch 1130 loss: 0.24027328491210936\n"
          ]
        },
        {
          "output_type": "stream",
          "name": "stderr",
          "text": [
            "Train, Epoch 12 / 20:  73%|███████▎  | 1145/1563 [00:48<00:16, 24.96it/s]"
          ]
        },
        {
          "output_type": "stream",
          "name": "stdout",
          "text": [
            "batch 1140 loss: 0.31609226316213607\n"
          ]
        },
        {
          "output_type": "stream",
          "name": "stderr",
          "text": [
            "Train, Epoch 12 / 20:  74%|███████▍  | 1154/1563 [00:48<00:16, 24.73it/s]"
          ]
        },
        {
          "output_type": "stream",
          "name": "stdout",
          "text": [
            "batch 1150 loss: 0.293985116481781\n"
          ]
        },
        {
          "output_type": "stream",
          "name": "stderr",
          "text": [
            "Train, Epoch 12 / 20:  74%|███████▍  | 1163/1563 [00:48<00:16, 24.53it/s]"
          ]
        },
        {
          "output_type": "stream",
          "name": "stdout",
          "text": [
            "batch 1160 loss: 0.2070551857352257\n"
          ]
        },
        {
          "output_type": "stream",
          "name": "stderr",
          "text": [
            "Train, Epoch 12 / 20:  75%|███████▌  | 1175/1563 [00:49<00:15, 24.59it/s]"
          ]
        },
        {
          "output_type": "stream",
          "name": "stdout",
          "text": [
            "batch 1170 loss: 0.28952269852161405\n"
          ]
        },
        {
          "output_type": "stream",
          "name": "stderr",
          "text": [
            "Train, Epoch 12 / 20:  76%|███████▌  | 1184/1563 [00:49<00:15, 24.46it/s]"
          ]
        },
        {
          "output_type": "stream",
          "name": "stdout",
          "text": [
            "batch 1180 loss: 0.3148623965680599\n"
          ]
        },
        {
          "output_type": "stream",
          "name": "stderr",
          "text": [
            "Train, Epoch 12 / 20:  76%|███████▋  | 1193/1563 [00:50<00:15, 24.40it/s]"
          ]
        },
        {
          "output_type": "stream",
          "name": "stdout",
          "text": [
            "batch 1190 loss: 0.3118520364165306\n"
          ]
        },
        {
          "output_type": "stream",
          "name": "stderr",
          "text": [
            "Train, Epoch 12 / 20:  77%|███████▋  | 1205/1563 [00:50<00:14, 24.51it/s]"
          ]
        },
        {
          "output_type": "stream",
          "name": "stdout",
          "text": [
            "batch 1200 loss: 0.30063447877764704\n"
          ]
        },
        {
          "output_type": "stream",
          "name": "stderr",
          "text": [
            "Train, Epoch 12 / 20:  78%|███████▊  | 1214/1563 [00:50<00:14, 24.58it/s]"
          ]
        },
        {
          "output_type": "stream",
          "name": "stdout",
          "text": [
            "batch 1210 loss: 0.2522431932389736\n"
          ]
        },
        {
          "output_type": "stream",
          "name": "stderr",
          "text": [
            "Train, Epoch 12 / 20:  78%|███████▊  | 1223/1563 [00:51<00:13, 24.33it/s]"
          ]
        },
        {
          "output_type": "stream",
          "name": "stdout",
          "text": [
            "batch 1220 loss: 0.23695259913802147\n"
          ]
        },
        {
          "output_type": "stream",
          "name": "stderr",
          "text": [
            "Train, Epoch 12 / 20:  79%|███████▉  | 1232/1563 [00:51<00:13, 24.51it/s]"
          ]
        },
        {
          "output_type": "stream",
          "name": "stdout",
          "text": [
            "batch 1230 loss: 0.29964604005217554\n"
          ]
        },
        {
          "output_type": "stream",
          "name": "stderr",
          "text": [
            "Train, Epoch 12 / 20:  80%|███████▉  | 1244/1563 [00:52<00:12, 24.64it/s]"
          ]
        },
        {
          "output_type": "stream",
          "name": "stdout",
          "text": [
            "batch 1240 loss: 0.29332319647073746\n"
          ]
        },
        {
          "output_type": "stream",
          "name": "stderr",
          "text": [
            "Train, Epoch 12 / 20:  80%|████████  | 1253/1563 [00:52<00:12, 24.80it/s]"
          ]
        },
        {
          "output_type": "stream",
          "name": "stdout",
          "text": [
            "batch 1250 loss: 0.30806460604071617\n"
          ]
        },
        {
          "output_type": "stream",
          "name": "stderr",
          "text": [
            "Train, Epoch 12 / 20:  81%|████████  | 1262/1563 [00:52<00:12, 23.76it/s]"
          ]
        },
        {
          "output_type": "stream",
          "name": "stdout",
          "text": [
            "batch 1260 loss: 0.3222295567393303\n"
          ]
        },
        {
          "output_type": "stream",
          "name": "stderr",
          "text": [
            "Train, Epoch 12 / 20:  82%|████████▏ | 1274/1563 [00:53<00:12, 22.44it/s]"
          ]
        },
        {
          "output_type": "stream",
          "name": "stdout",
          "text": [
            "batch 1270 loss: 0.33901349157094957\n"
          ]
        },
        {
          "output_type": "stream",
          "name": "stderr",
          "text": [
            "Train, Epoch 12 / 20:  82%|████████▏ | 1283/1563 [00:53<00:12, 21.70it/s]"
          ]
        },
        {
          "output_type": "stream",
          "name": "stdout",
          "text": [
            "batch 1280 loss: 0.26255675554275515\n"
          ]
        },
        {
          "output_type": "stream",
          "name": "stderr",
          "text": [
            "Train, Epoch 12 / 20:  83%|████████▎ | 1292/1563 [00:54<00:13, 20.44it/s]"
          ]
        },
        {
          "output_type": "stream",
          "name": "stdout",
          "text": [
            "batch 1290 loss: 0.2421528786420822\n"
          ]
        },
        {
          "output_type": "stream",
          "name": "stderr",
          "text": [
            "Train, Epoch 12 / 20:  83%|████████▎ | 1304/1563 [00:54<00:12, 20.69it/s]"
          ]
        },
        {
          "output_type": "stream",
          "name": "stdout",
          "text": [
            "batch 1300 loss: 0.21263267397880553\n"
          ]
        },
        {
          "output_type": "stream",
          "name": "stderr",
          "text": [
            "Train, Epoch 12 / 20:  84%|████████▍ | 1313/1563 [00:55<00:11, 20.90it/s]"
          ]
        },
        {
          "output_type": "stream",
          "name": "stdout",
          "text": [
            "batch 1310 loss: 0.3096866376698017\n"
          ]
        },
        {
          "output_type": "stream",
          "name": "stderr",
          "text": [
            "Train, Epoch 12 / 20:  85%|████████▍ | 1322/1563 [00:55<00:10, 23.14it/s]"
          ]
        },
        {
          "output_type": "stream",
          "name": "stdout",
          "text": [
            "batch 1320 loss: 0.29172362610697744\n"
          ]
        },
        {
          "output_type": "stream",
          "name": "stderr",
          "text": [
            "Train, Epoch 12 / 20:  85%|████████▌ | 1334/1563 [00:56<00:09, 23.78it/s]"
          ]
        },
        {
          "output_type": "stream",
          "name": "stdout",
          "text": [
            "batch 1330 loss: 0.2973839834332466\n"
          ]
        },
        {
          "output_type": "stream",
          "name": "stderr",
          "text": [
            "Train, Epoch 12 / 20:  86%|████████▌ | 1343/1563 [00:56<00:09, 24.15it/s]"
          ]
        },
        {
          "output_type": "stream",
          "name": "stdout",
          "text": [
            "batch 1340 loss: 0.30638106912374496\n"
          ]
        },
        {
          "output_type": "stream",
          "name": "stderr",
          "text": [
            "Train, Epoch 12 / 20:  87%|████████▋ | 1352/1563 [00:56<00:08, 24.16it/s]"
          ]
        },
        {
          "output_type": "stream",
          "name": "stdout",
          "text": [
            "batch 1350 loss: 0.19077638387680054\n"
          ]
        },
        {
          "output_type": "stream",
          "name": "stderr",
          "text": [
            "Train, Epoch 12 / 20:  87%|████████▋ | 1364/1563 [00:57<00:08, 24.04it/s]"
          ]
        },
        {
          "output_type": "stream",
          "name": "stdout",
          "text": [
            "batch 1360 loss: 0.23458720073103906\n"
          ]
        },
        {
          "output_type": "stream",
          "name": "stderr",
          "text": [
            "Train, Epoch 12 / 20:  88%|████████▊ | 1373/1563 [00:57<00:07, 24.40it/s]"
          ]
        },
        {
          "output_type": "stream",
          "name": "stdout",
          "text": [
            "batch 1370 loss: 0.2327631637454033\n"
          ]
        },
        {
          "output_type": "stream",
          "name": "stderr",
          "text": [
            "Train, Epoch 12 / 20:  89%|████████▊ | 1385/1563 [00:58<00:07, 24.24it/s]"
          ]
        },
        {
          "output_type": "stream",
          "name": "stdout",
          "text": [
            "batch 1380 loss: 0.27567595839500425\n"
          ]
        },
        {
          "output_type": "stream",
          "name": "stderr",
          "text": [
            "Train, Epoch 12 / 20:  89%|████████▉ | 1394/1563 [00:58<00:06, 24.57it/s]"
          ]
        },
        {
          "output_type": "stream",
          "name": "stdout",
          "text": [
            "batch 1390 loss: 0.2467144913971424\n"
          ]
        },
        {
          "output_type": "stream",
          "name": "stderr",
          "text": [
            "Train, Epoch 12 / 20:  90%|████████▉ | 1403/1563 [00:59<00:06, 23.93it/s]"
          ]
        },
        {
          "output_type": "stream",
          "name": "stdout",
          "text": [
            "batch 1400 loss: 0.20150939449667932\n"
          ]
        },
        {
          "output_type": "stream",
          "name": "stderr",
          "text": [
            "Train, Epoch 12 / 20:  90%|█████████ | 1412/1563 [00:59<00:06, 24.19it/s]"
          ]
        },
        {
          "output_type": "stream",
          "name": "stdout",
          "text": [
            "batch 1410 loss: 0.28431950360536573\n"
          ]
        },
        {
          "output_type": "stream",
          "name": "stderr",
          "text": [
            "Train, Epoch 12 / 20:  91%|█████████ | 1424/1563 [00:59<00:05, 24.07it/s]"
          ]
        },
        {
          "output_type": "stream",
          "name": "stdout",
          "text": [
            "batch 1420 loss: 0.2878099426627159\n"
          ]
        },
        {
          "output_type": "stream",
          "name": "stderr",
          "text": [
            "Train, Epoch 12 / 20:  92%|█████████▏| 1433/1563 [01:00<00:05, 23.88it/s]"
          ]
        },
        {
          "output_type": "stream",
          "name": "stdout",
          "text": [
            "batch 1430 loss: 0.2561605617403984\n"
          ]
        },
        {
          "output_type": "stream",
          "name": "stderr",
          "text": [
            "Train, Epoch 12 / 20:  92%|█████████▏| 1445/1563 [01:00<00:04, 24.44it/s]"
          ]
        },
        {
          "output_type": "stream",
          "name": "stdout",
          "text": [
            "batch 1440 loss: 0.26834104359149935\n"
          ]
        },
        {
          "output_type": "stream",
          "name": "stderr",
          "text": [
            "Train, Epoch 12 / 20:  93%|█████████▎| 1454/1563 [01:01<00:04, 24.65it/s]"
          ]
        },
        {
          "output_type": "stream",
          "name": "stdout",
          "text": [
            "batch 1450 loss: 0.3769977897405624\n"
          ]
        },
        {
          "output_type": "stream",
          "name": "stderr",
          "text": [
            "Train, Epoch 12 / 20:  94%|█████████▎| 1463/1563 [01:01<00:04, 24.68it/s]"
          ]
        },
        {
          "output_type": "stream",
          "name": "stdout",
          "text": [
            "batch 1460 loss: 0.22233604341745378\n"
          ]
        },
        {
          "output_type": "stream",
          "name": "stderr",
          "text": [
            "Train, Epoch 12 / 20:  94%|█████████▍| 1475/1563 [01:02<00:03, 24.80it/s]"
          ]
        },
        {
          "output_type": "stream",
          "name": "stdout",
          "text": [
            "batch 1470 loss: 0.2534922629594803\n"
          ]
        },
        {
          "output_type": "stream",
          "name": "stderr",
          "text": [
            "Train, Epoch 12 / 20:  95%|█████████▍| 1484/1563 [01:02<00:03, 24.76it/s]"
          ]
        },
        {
          "output_type": "stream",
          "name": "stdout",
          "text": [
            "batch 1480 loss: 0.22216226309537887\n"
          ]
        },
        {
          "output_type": "stream",
          "name": "stderr",
          "text": [
            "Train, Epoch 12 / 20:  96%|█████████▌| 1493/1563 [01:02<00:02, 24.42it/s]"
          ]
        },
        {
          "output_type": "stream",
          "name": "stdout",
          "text": [
            "batch 1490 loss: 0.2175725817680359\n"
          ]
        },
        {
          "output_type": "stream",
          "name": "stderr",
          "text": [
            "Train, Epoch 12 / 20:  96%|█████████▋| 1505/1563 [01:03<00:02, 24.37it/s]"
          ]
        },
        {
          "output_type": "stream",
          "name": "stdout",
          "text": [
            "batch 1500 loss: 0.27281111404299735\n"
          ]
        },
        {
          "output_type": "stream",
          "name": "stderr",
          "text": [
            "Train, Epoch 12 / 20:  97%|█████████▋| 1514/1563 [01:03<00:01, 24.61it/s]"
          ]
        },
        {
          "output_type": "stream",
          "name": "stdout",
          "text": [
            "batch 1510 loss: 0.27637003622949124\n"
          ]
        },
        {
          "output_type": "stream",
          "name": "stderr",
          "text": [
            "Train, Epoch 12 / 20:  97%|█████████▋| 1523/1563 [01:03<00:01, 24.63it/s]"
          ]
        },
        {
          "output_type": "stream",
          "name": "stdout",
          "text": [
            "batch 1520 loss: 0.31677880585193635\n"
          ]
        },
        {
          "output_type": "stream",
          "name": "stderr",
          "text": [
            "Train, Epoch 12 / 20:  98%|█████████▊| 1535/1563 [01:04<00:01, 24.76it/s]"
          ]
        },
        {
          "output_type": "stream",
          "name": "stdout",
          "text": [
            "batch 1530 loss: 0.32748129665851594\n"
          ]
        },
        {
          "output_type": "stream",
          "name": "stderr",
          "text": [
            "Train, Epoch 12 / 20:  99%|█████████▉| 1544/1563 [01:04<00:00, 24.76it/s]"
          ]
        },
        {
          "output_type": "stream",
          "name": "stdout",
          "text": [
            "batch 1540 loss: 0.27549671977758405\n"
          ]
        },
        {
          "output_type": "stream",
          "name": "stderr",
          "text": [
            "Train, Epoch 12 / 20:  99%|█████████▉| 1553/1563 [01:05<00:00, 24.60it/s]"
          ]
        },
        {
          "output_type": "stream",
          "name": "stdout",
          "text": [
            "batch 1550 loss: 0.24734998643398284\n"
          ]
        },
        {
          "output_type": "stream",
          "name": "stderr",
          "text": [
            "Train, Epoch 12 / 20: 100%|██████████| 1563/1563 [01:05<00:00, 23.81it/s]\n"
          ]
        },
        {
          "output_type": "stream",
          "name": "stdout",
          "text": [
            "batch 1560 loss: 0.23815446421504022\n"
          ]
        },
        {
          "output_type": "stream",
          "name": "stderr",
          "text": [
            "Test, Epoch 12 / 20: 100%|██████████| 1563/1563 [00:30<00:00, 51.02it/s]\n"
          ]
        },
        {
          "output_type": "stream",
          "name": "stdout",
          "text": [
            "Epoch 12, loss: 0.4567181300011277, accuracy: 0.8138\n"
          ]
        },
        {
          "output_type": "stream",
          "name": "stderr",
          "text": [
            "Train, Epoch 13 / 20:   1%|          | 15/1563 [00:00<01:02, 24.77it/s]"
          ]
        },
        {
          "output_type": "stream",
          "name": "stdout",
          "text": [
            "batch 10 loss: 0.3833178475499153\n"
          ]
        },
        {
          "output_type": "stream",
          "name": "stderr",
          "text": [
            "Train, Epoch 13 / 20:   2%|▏         | 24/1563 [00:00<01:02, 24.75it/s]"
          ]
        },
        {
          "output_type": "stream",
          "name": "stdout",
          "text": [
            "batch 20 loss: 0.3447577267885208\n"
          ]
        },
        {
          "output_type": "stream",
          "name": "stderr",
          "text": [
            "Train, Epoch 13 / 20:   2%|▏         | 33/1563 [00:01<01:01, 24.82it/s]"
          ]
        },
        {
          "output_type": "stream",
          "name": "stdout",
          "text": [
            "batch 30 loss: 0.2548444136977196\n"
          ]
        },
        {
          "output_type": "stream",
          "name": "stderr",
          "text": [
            "Train, Epoch 13 / 20:   3%|▎         | 45/1563 [00:01<01:01, 24.83it/s]"
          ]
        },
        {
          "output_type": "stream",
          "name": "stdout",
          "text": [
            "batch 40 loss: 0.2989749975502491\n"
          ]
        },
        {
          "output_type": "stream",
          "name": "stderr",
          "text": [
            "Train, Epoch 13 / 20:   3%|▎         | 54/1563 [00:02<01:01, 24.69it/s]"
          ]
        },
        {
          "output_type": "stream",
          "name": "stdout",
          "text": [
            "batch 50 loss: 0.2850365832448006\n"
          ]
        },
        {
          "output_type": "stream",
          "name": "stderr",
          "text": [
            "Train, Epoch 13 / 20:   4%|▍         | 63/1563 [00:02<01:00, 24.77it/s]"
          ]
        },
        {
          "output_type": "stream",
          "name": "stdout",
          "text": [
            "batch 60 loss: 0.2717067927122116\n"
          ]
        },
        {
          "output_type": "stream",
          "name": "stderr",
          "text": [
            "Train, Epoch 13 / 20:   5%|▍         | 75/1563 [00:03<01:00, 24.74it/s]"
          ]
        },
        {
          "output_type": "stream",
          "name": "stdout",
          "text": [
            "batch 70 loss: 0.2849646478891373\n"
          ]
        },
        {
          "output_type": "stream",
          "name": "stderr",
          "text": [
            "Train, Epoch 13 / 20:   5%|▌         | 84/1563 [00:03<00:59, 24.79it/s]"
          ]
        },
        {
          "output_type": "stream",
          "name": "stdout",
          "text": [
            "batch 80 loss: 0.2580584615468979\n"
          ]
        },
        {
          "output_type": "stream",
          "name": "stderr",
          "text": [
            "Train, Epoch 13 / 20:   6%|▌         | 93/1563 [00:03<00:59, 24.71it/s]"
          ]
        },
        {
          "output_type": "stream",
          "name": "stdout",
          "text": [
            "batch 90 loss: 0.1761720634996891\n"
          ]
        },
        {
          "output_type": "stream",
          "name": "stderr",
          "text": [
            "Train, Epoch 13 / 20:   7%|▋         | 102/1563 [00:04<01:00, 24.22it/s]"
          ]
        },
        {
          "output_type": "stream",
          "name": "stdout",
          "text": [
            "batch 100 loss: 0.28882693573832513\n"
          ]
        },
        {
          "output_type": "stream",
          "name": "stderr",
          "text": [
            "Train, Epoch 13 / 20:   7%|▋         | 114/1563 [00:04<00:58, 24.65it/s]"
          ]
        },
        {
          "output_type": "stream",
          "name": "stdout",
          "text": [
            "batch 110 loss: 0.3270749233663082\n"
          ]
        },
        {
          "output_type": "stream",
          "name": "stderr",
          "text": [
            "Train, Epoch 13 / 20:   8%|▊         | 123/1563 [00:05<00:59, 24.36it/s]"
          ]
        },
        {
          "output_type": "stream",
          "name": "stdout",
          "text": [
            "batch 120 loss: 0.22772933542728424\n"
          ]
        },
        {
          "output_type": "stream",
          "name": "stderr",
          "text": [
            "Train, Epoch 13 / 20:   9%|▊         | 135/1563 [00:05<00:57, 24.74it/s]"
          ]
        },
        {
          "output_type": "stream",
          "name": "stdout",
          "text": [
            "batch 130 loss: 0.17744909711182116\n"
          ]
        },
        {
          "output_type": "stream",
          "name": "stderr",
          "text": [
            "Train, Epoch 13 / 20:   9%|▉         | 144/1563 [00:05<00:57, 24.72it/s]"
          ]
        },
        {
          "output_type": "stream",
          "name": "stdout",
          "text": [
            "batch 140 loss: 0.27357256412506104\n"
          ]
        },
        {
          "output_type": "stream",
          "name": "stderr",
          "text": [
            "Train, Epoch 13 / 20:  10%|▉         | 153/1563 [00:06<00:58, 24.31it/s]"
          ]
        },
        {
          "output_type": "stream",
          "name": "stdout",
          "text": [
            "batch 150 loss: 0.27374621033668517\n"
          ]
        },
        {
          "output_type": "stream",
          "name": "stderr",
          "text": [
            "Train, Epoch 13 / 20:  10%|█         | 162/1563 [00:06<00:57, 24.53it/s]"
          ]
        },
        {
          "output_type": "stream",
          "name": "stdout",
          "text": [
            "batch 160 loss: 0.2558061555027962\n"
          ]
        },
        {
          "output_type": "stream",
          "name": "stderr",
          "text": [
            "Train, Epoch 13 / 20:  11%|█         | 174/1563 [00:07<01:03, 21.80it/s]"
          ]
        },
        {
          "output_type": "stream",
          "name": "stdout",
          "text": [
            "batch 170 loss: 0.24593160673975945\n"
          ]
        },
        {
          "output_type": "stream",
          "name": "stderr",
          "text": [
            "Train, Epoch 13 / 20:  12%|█▏        | 183/1563 [00:07<01:04, 21.26it/s]"
          ]
        },
        {
          "output_type": "stream",
          "name": "stdout",
          "text": [
            "batch 180 loss: 0.22947660237550735\n"
          ]
        },
        {
          "output_type": "stream",
          "name": "stderr",
          "text": [
            "Train, Epoch 13 / 20:  12%|█▏        | 192/1563 [00:08<01:05, 21.08it/s]"
          ]
        },
        {
          "output_type": "stream",
          "name": "stdout",
          "text": [
            "batch 190 loss: 0.2587231777608395\n"
          ]
        },
        {
          "output_type": "stream",
          "name": "stderr",
          "text": [
            "Train, Epoch 13 / 20:  13%|█▎        | 204/1563 [00:08<01:03, 21.51it/s]"
          ]
        },
        {
          "output_type": "stream",
          "name": "stdout",
          "text": [
            "batch 200 loss: 0.24571449607610701\n"
          ]
        },
        {
          "output_type": "stream",
          "name": "stderr",
          "text": [
            "Train, Epoch 13 / 20:  14%|█▎        | 213/1563 [00:09<01:04, 20.96it/s]"
          ]
        },
        {
          "output_type": "stream",
          "name": "stdout",
          "text": [
            "batch 210 loss: 0.1947976104915142\n"
          ]
        },
        {
          "output_type": "stream",
          "name": "stderr",
          "text": [
            "Train, Epoch 13 / 20:  14%|█▍        | 225/1563 [00:09<00:57, 23.42it/s]"
          ]
        },
        {
          "output_type": "stream",
          "name": "stdout",
          "text": [
            "batch 220 loss: 0.23855433166027068\n"
          ]
        },
        {
          "output_type": "stream",
          "name": "stderr",
          "text": [
            "Train, Epoch 13 / 20:  15%|█▍        | 234/1563 [00:09<00:54, 24.41it/s]"
          ]
        },
        {
          "output_type": "stream",
          "name": "stdout",
          "text": [
            "batch 230 loss: 0.21566095799207688\n"
          ]
        },
        {
          "output_type": "stream",
          "name": "stderr",
          "text": [
            "Train, Epoch 13 / 20:  16%|█▌        | 243/1563 [00:10<00:54, 24.34it/s]"
          ]
        },
        {
          "output_type": "stream",
          "name": "stdout",
          "text": [
            "batch 240 loss: 0.28216252028942107\n"
          ]
        },
        {
          "output_type": "stream",
          "name": "stderr",
          "text": [
            "Train, Epoch 13 / 20:  16%|█▋        | 255/1563 [00:10<00:53, 24.67it/s]"
          ]
        },
        {
          "output_type": "stream",
          "name": "stdout",
          "text": [
            "batch 250 loss: 0.28886147812008856\n"
          ]
        },
        {
          "output_type": "stream",
          "name": "stderr",
          "text": [
            "Train, Epoch 13 / 20:  17%|█▋        | 264/1563 [00:11<00:52, 24.76it/s]"
          ]
        },
        {
          "output_type": "stream",
          "name": "stdout",
          "text": [
            "batch 260 loss: 0.3017366588115692\n"
          ]
        },
        {
          "output_type": "stream",
          "name": "stderr",
          "text": [
            "Train, Epoch 13 / 20:  17%|█▋        | 273/1563 [00:11<00:51, 24.84it/s]"
          ]
        },
        {
          "output_type": "stream",
          "name": "stdout",
          "text": [
            "batch 270 loss: 0.23559602200984955\n"
          ]
        },
        {
          "output_type": "stream",
          "name": "stderr",
          "text": [
            "Train, Epoch 13 / 20:  18%|█▊        | 285/1563 [00:11<00:51, 24.74it/s]"
          ]
        },
        {
          "output_type": "stream",
          "name": "stdout",
          "text": [
            "batch 280 loss: 0.23200460150837898\n"
          ]
        },
        {
          "output_type": "stream",
          "name": "stderr",
          "text": [
            "Train, Epoch 13 / 20:  19%|█▉        | 294/1563 [00:12<00:51, 24.51it/s]"
          ]
        },
        {
          "output_type": "stream",
          "name": "stdout",
          "text": [
            "batch 290 loss: 0.29454015493392943\n"
          ]
        },
        {
          "output_type": "stream",
          "name": "stderr",
          "text": [
            "Train, Epoch 13 / 20:  19%|█▉        | 303/1563 [00:12<00:50, 24.74it/s]"
          ]
        },
        {
          "output_type": "stream",
          "name": "stdout",
          "text": [
            "batch 300 loss: 0.21574767008423806\n"
          ]
        },
        {
          "output_type": "stream",
          "name": "stderr",
          "text": [
            "Train, Epoch 13 / 20:  20%|█▉        | 312/1563 [00:13<00:50, 24.80it/s]"
          ]
        },
        {
          "output_type": "stream",
          "name": "stdout",
          "text": [
            "batch 310 loss: 0.1923902414739132\n"
          ]
        },
        {
          "output_type": "stream",
          "name": "stderr",
          "text": [
            "Train, Epoch 13 / 20:  21%|██        | 324/1563 [00:13<00:49, 24.79it/s]"
          ]
        },
        {
          "output_type": "stream",
          "name": "stdout",
          "text": [
            "batch 320 loss: 0.2852893531322479\n"
          ]
        },
        {
          "output_type": "stream",
          "name": "stderr",
          "text": [
            "Train, Epoch 13 / 20:  21%|██▏       | 333/1563 [00:13<00:49, 24.94it/s]"
          ]
        },
        {
          "output_type": "stream",
          "name": "stdout",
          "text": [
            "batch 330 loss: 0.26402916200459003\n"
          ]
        },
        {
          "output_type": "stream",
          "name": "stderr",
          "text": [
            "Train, Epoch 13 / 20:  22%|██▏       | 342/1563 [00:14<00:51, 23.87it/s]"
          ]
        },
        {
          "output_type": "stream",
          "name": "stdout",
          "text": [
            "batch 340 loss: 0.23620034754276276\n"
          ]
        },
        {
          "output_type": "stream",
          "name": "stderr",
          "text": [
            "Train, Epoch 13 / 20:  23%|██▎       | 354/1563 [00:14<00:49, 24.50it/s]"
          ]
        },
        {
          "output_type": "stream",
          "name": "stdout",
          "text": [
            "batch 350 loss: 0.2793830171227455\n"
          ]
        },
        {
          "output_type": "stream",
          "name": "stderr",
          "text": [
            "Train, Epoch 13 / 20:  23%|██▎       | 363/1563 [00:15<00:48, 24.57it/s]"
          ]
        },
        {
          "output_type": "stream",
          "name": "stdout",
          "text": [
            "batch 360 loss: 0.19307721853256227\n"
          ]
        },
        {
          "output_type": "stream",
          "name": "stderr",
          "text": [
            "Train, Epoch 13 / 20:  24%|██▍       | 375/1563 [00:15<00:48, 24.71it/s]"
          ]
        },
        {
          "output_type": "stream",
          "name": "stdout",
          "text": [
            "batch 370 loss: 0.21671565994620323\n"
          ]
        },
        {
          "output_type": "stream",
          "name": "stderr",
          "text": [
            "Train, Epoch 13 / 20:  25%|██▍       | 384/1563 [00:15<00:47, 24.70it/s]"
          ]
        },
        {
          "output_type": "stream",
          "name": "stdout",
          "text": [
            "batch 380 loss: 0.1724008873105049\n"
          ]
        },
        {
          "output_type": "stream",
          "name": "stderr",
          "text": [
            "Train, Epoch 13 / 20:  25%|██▌       | 393/1563 [00:16<00:47, 24.58it/s]"
          ]
        },
        {
          "output_type": "stream",
          "name": "stdout",
          "text": [
            "batch 390 loss: 0.253687322512269\n"
          ]
        },
        {
          "output_type": "stream",
          "name": "stderr",
          "text": [
            "Train, Epoch 13 / 20:  26%|██▌       | 405/1563 [00:16<00:46, 24.72it/s]"
          ]
        },
        {
          "output_type": "stream",
          "name": "stdout",
          "text": [
            "batch 400 loss: 0.23992013856768607\n"
          ]
        },
        {
          "output_type": "stream",
          "name": "stderr",
          "text": [
            "Train, Epoch 13 / 20:  26%|██▋       | 414/1563 [00:17<00:46, 24.59it/s]"
          ]
        },
        {
          "output_type": "stream",
          "name": "stdout",
          "text": [
            "batch 410 loss: 0.22928463034331797\n"
          ]
        },
        {
          "output_type": "stream",
          "name": "stderr",
          "text": [
            "Train, Epoch 13 / 20:  27%|██▋       | 423/1563 [00:17<00:46, 24.53it/s]"
          ]
        },
        {
          "output_type": "stream",
          "name": "stdout",
          "text": [
            "batch 420 loss: 0.20783228576183319\n"
          ]
        },
        {
          "output_type": "stream",
          "name": "stderr",
          "text": [
            "Train, Epoch 13 / 20:  28%|██▊       | 435/1563 [00:18<00:45, 24.70it/s]"
          ]
        },
        {
          "output_type": "stream",
          "name": "stdout",
          "text": [
            "batch 430 loss: 0.26486576348543167\n"
          ]
        },
        {
          "output_type": "stream",
          "name": "stderr",
          "text": [
            "Train, Epoch 13 / 20:  28%|██▊       | 444/1563 [00:18<00:45, 24.50it/s]"
          ]
        },
        {
          "output_type": "stream",
          "name": "stdout",
          "text": [
            "batch 440 loss: 0.21809327825903893\n"
          ]
        },
        {
          "output_type": "stream",
          "name": "stderr",
          "text": [
            "Train, Epoch 13 / 20:  29%|██▉       | 453/1563 [00:18<00:44, 24.69it/s]"
          ]
        },
        {
          "output_type": "stream",
          "name": "stdout",
          "text": [
            "batch 450 loss: 0.22215531542897224\n"
          ]
        },
        {
          "output_type": "stream",
          "name": "stderr",
          "text": [
            "Train, Epoch 13 / 20:  30%|██▉       | 462/1563 [00:19<00:46, 23.85it/s]"
          ]
        },
        {
          "output_type": "stream",
          "name": "stdout",
          "text": [
            "batch 460 loss: 0.3096035450696945\n"
          ]
        },
        {
          "output_type": "stream",
          "name": "stderr",
          "text": [
            "Train, Epoch 13 / 20:  30%|███       | 474/1563 [00:19<00:47, 22.87it/s]"
          ]
        },
        {
          "output_type": "stream",
          "name": "stdout",
          "text": [
            "batch 470 loss: 0.3217111587524414\n"
          ]
        },
        {
          "output_type": "stream",
          "name": "stderr",
          "text": [
            "Train, Epoch 13 / 20:  31%|███       | 483/1563 [00:20<00:46, 23.00it/s]"
          ]
        },
        {
          "output_type": "stream",
          "name": "stdout",
          "text": [
            "batch 480 loss: 0.27789740785956385\n"
          ]
        },
        {
          "output_type": "stream",
          "name": "stderr",
          "text": [
            "Train, Epoch 13 / 20:  31%|███▏      | 492/1563 [00:20<00:47, 22.68it/s]"
          ]
        },
        {
          "output_type": "stream",
          "name": "stdout",
          "text": [
            "batch 490 loss: 0.2501616783440113\n"
          ]
        },
        {
          "output_type": "stream",
          "name": "stderr",
          "text": [
            "Train, Epoch 13 / 20:  32%|███▏      | 504/1563 [00:21<00:48, 22.03it/s]"
          ]
        },
        {
          "output_type": "stream",
          "name": "stdout",
          "text": [
            "batch 500 loss: 0.23409328535199164\n"
          ]
        },
        {
          "output_type": "stream",
          "name": "stderr",
          "text": [
            "Train, Epoch 13 / 20:  33%|███▎      | 513/1563 [00:21<00:49, 21.17it/s]"
          ]
        },
        {
          "output_type": "stream",
          "name": "stdout",
          "text": [
            "batch 510 loss: 0.23475678265094757\n"
          ]
        },
        {
          "output_type": "stream",
          "name": "stderr",
          "text": [
            "Train, Epoch 13 / 20:  34%|███▎      | 525/1563 [00:22<00:45, 22.58it/s]"
          ]
        },
        {
          "output_type": "stream",
          "name": "stdout",
          "text": [
            "batch 520 loss: 0.23073672577738763\n"
          ]
        },
        {
          "output_type": "stream",
          "name": "stderr",
          "text": [
            "Train, Epoch 13 / 20:  34%|███▍      | 534/1563 [00:22<00:42, 23.99it/s]"
          ]
        },
        {
          "output_type": "stream",
          "name": "stdout",
          "text": [
            "batch 530 loss: 0.2582061685621738\n"
          ]
        },
        {
          "output_type": "stream",
          "name": "stderr",
          "text": [
            "Train, Epoch 13 / 20:  35%|███▍      | 543/1563 [00:22<00:41, 24.31it/s]"
          ]
        },
        {
          "output_type": "stream",
          "name": "stdout",
          "text": [
            "batch 540 loss: 0.2968145027756691\n"
          ]
        },
        {
          "output_type": "stream",
          "name": "stderr",
          "text": [
            "Train, Epoch 13 / 20:  36%|███▌      | 555/1563 [00:23<00:40, 24.86it/s]"
          ]
        },
        {
          "output_type": "stream",
          "name": "stdout",
          "text": [
            "batch 550 loss: 0.23163783103227614\n"
          ]
        },
        {
          "output_type": "stream",
          "name": "stderr",
          "text": [
            "Train, Epoch 13 / 20:  36%|███▌      | 564/1563 [00:23<00:41, 24.32it/s]"
          ]
        },
        {
          "output_type": "stream",
          "name": "stdout",
          "text": [
            "batch 560 loss: 0.2258426994085312\n"
          ]
        },
        {
          "output_type": "stream",
          "name": "stderr",
          "text": [
            "Train, Epoch 13 / 20:  37%|███▋      | 573/1563 [00:23<00:40, 24.65it/s]"
          ]
        },
        {
          "output_type": "stream",
          "name": "stdout",
          "text": [
            "batch 570 loss: 0.2613793984055519\n"
          ]
        },
        {
          "output_type": "stream",
          "name": "stderr",
          "text": [
            "Train, Epoch 13 / 20:  37%|███▋      | 585/1563 [00:24<00:39, 24.65it/s]"
          ]
        },
        {
          "output_type": "stream",
          "name": "stdout",
          "text": [
            "batch 580 loss: 0.2230544738471508\n"
          ]
        },
        {
          "output_type": "stream",
          "name": "stderr",
          "text": [
            "Train, Epoch 13 / 20:  38%|███▊      | 594/1563 [00:24<00:39, 24.48it/s]"
          ]
        },
        {
          "output_type": "stream",
          "name": "stdout",
          "text": [
            "batch 590 loss: 0.22558702379465104\n"
          ]
        },
        {
          "output_type": "stream",
          "name": "stderr",
          "text": [
            "Train, Epoch 13 / 20:  39%|███▊      | 603/1563 [00:25<00:39, 24.60it/s]"
          ]
        },
        {
          "output_type": "stream",
          "name": "stdout",
          "text": [
            "batch 600 loss: 0.28342230767011645\n"
          ]
        },
        {
          "output_type": "stream",
          "name": "stderr",
          "text": [
            "Train, Epoch 13 / 20:  39%|███▉      | 615/1563 [00:25<00:38, 24.63it/s]"
          ]
        },
        {
          "output_type": "stream",
          "name": "stdout",
          "text": [
            "batch 610 loss: 0.3023577481508255\n"
          ]
        },
        {
          "output_type": "stream",
          "name": "stderr",
          "text": [
            "Train, Epoch 13 / 20:  40%|███▉      | 624/1563 [00:26<00:38, 24.71it/s]"
          ]
        },
        {
          "output_type": "stream",
          "name": "stdout",
          "text": [
            "batch 620 loss: 0.25048239678144457\n"
          ]
        },
        {
          "output_type": "stream",
          "name": "stderr",
          "text": [
            "Train, Epoch 13 / 20:  40%|████      | 633/1563 [00:26<00:37, 24.76it/s]"
          ]
        },
        {
          "output_type": "stream",
          "name": "stdout",
          "text": [
            "batch 630 loss: 0.2472079239785671\n"
          ]
        },
        {
          "output_type": "stream",
          "name": "stderr",
          "text": [
            "Train, Epoch 13 / 20:  41%|████▏     | 645/1563 [00:26<00:37, 24.75it/s]"
          ]
        },
        {
          "output_type": "stream",
          "name": "stdout",
          "text": [
            "batch 640 loss: 0.25744440853595735\n"
          ]
        },
        {
          "output_type": "stream",
          "name": "stderr",
          "text": [
            "Train, Epoch 13 / 20:  42%|████▏     | 654/1563 [00:27<00:36, 24.72it/s]"
          ]
        },
        {
          "output_type": "stream",
          "name": "stdout",
          "text": [
            "batch 650 loss: 0.2815647184848785\n"
          ]
        },
        {
          "output_type": "stream",
          "name": "stderr",
          "text": [
            "Train, Epoch 13 / 20:  42%|████▏     | 663/1563 [00:27<00:37, 24.31it/s]"
          ]
        },
        {
          "output_type": "stream",
          "name": "stdout",
          "text": [
            "batch 660 loss: 0.28598037660121917\n"
          ]
        },
        {
          "output_type": "stream",
          "name": "stderr",
          "text": [
            "Train, Epoch 13 / 20:  43%|████▎     | 675/1563 [00:28<00:36, 24.43it/s]"
          ]
        },
        {
          "output_type": "stream",
          "name": "stdout",
          "text": [
            "batch 670 loss: 0.2813454821705818\n"
          ]
        },
        {
          "output_type": "stream",
          "name": "stderr",
          "text": [
            "Train, Epoch 13 / 20:  44%|████▍     | 684/1563 [00:28<00:36, 24.32it/s]"
          ]
        },
        {
          "output_type": "stream",
          "name": "stdout",
          "text": [
            "batch 680 loss: 0.21650710552930832\n"
          ]
        },
        {
          "output_type": "stream",
          "name": "stderr",
          "text": [
            "Train, Epoch 13 / 20:  44%|████▍     | 693/1563 [00:28<00:35, 24.60it/s]"
          ]
        },
        {
          "output_type": "stream",
          "name": "stdout",
          "text": [
            "batch 690 loss: 0.28128410764038564\n"
          ]
        },
        {
          "output_type": "stream",
          "name": "stderr",
          "text": [
            "Train, Epoch 13 / 20:  45%|████▌     | 705/1563 [00:29<00:34, 24.59it/s]"
          ]
        },
        {
          "output_type": "stream",
          "name": "stdout",
          "text": [
            "batch 700 loss: 0.22076397389173508\n"
          ]
        },
        {
          "output_type": "stream",
          "name": "stderr",
          "text": [
            "Train, Epoch 13 / 20:  46%|████▌     | 714/1563 [00:29<00:35, 24.21it/s]"
          ]
        },
        {
          "output_type": "stream",
          "name": "stdout",
          "text": [
            "batch 710 loss: 0.271130608022213\n"
          ]
        },
        {
          "output_type": "stream",
          "name": "stderr",
          "text": [
            "Train, Epoch 13 / 20:  46%|████▋     | 723/1563 [00:30<00:34, 24.55it/s]"
          ]
        },
        {
          "output_type": "stream",
          "name": "stdout",
          "text": [
            "batch 720 loss: 0.17084308415651323\n"
          ]
        },
        {
          "output_type": "stream",
          "name": "stderr",
          "text": [
            "Train, Epoch 13 / 20:  47%|████▋     | 735/1563 [00:30<00:33, 24.69it/s]"
          ]
        },
        {
          "output_type": "stream",
          "name": "stdout",
          "text": [
            "batch 730 loss: 0.22048618122935296\n"
          ]
        },
        {
          "output_type": "stream",
          "name": "stderr",
          "text": [
            "Train, Epoch 13 / 20:  48%|████▊     | 744/1563 [00:30<00:33, 24.26it/s]"
          ]
        },
        {
          "output_type": "stream",
          "name": "stdout",
          "text": [
            "batch 740 loss: 0.27614264041185377\n"
          ]
        },
        {
          "output_type": "stream",
          "name": "stderr",
          "text": [
            "Train, Epoch 13 / 20:  48%|████▊     | 753/1563 [00:31<00:33, 24.15it/s]"
          ]
        },
        {
          "output_type": "stream",
          "name": "stdout",
          "text": [
            "batch 750 loss: 0.2906257141381502\n"
          ]
        },
        {
          "output_type": "stream",
          "name": "stderr",
          "text": [
            "Train, Epoch 13 / 20:  49%|████▉     | 762/1563 [00:31<00:33, 23.66it/s]"
          ]
        },
        {
          "output_type": "stream",
          "name": "stdout",
          "text": [
            "batch 760 loss: 0.2511206120252609\n"
          ]
        },
        {
          "output_type": "stream",
          "name": "stderr",
          "text": [
            "Train, Epoch 13 / 20:  50%|████▉     | 774/1563 [00:32<00:35, 22.29it/s]"
          ]
        },
        {
          "output_type": "stream",
          "name": "stdout",
          "text": [
            "batch 770 loss: 0.2507318776100874\n"
          ]
        },
        {
          "output_type": "stream",
          "name": "stderr",
          "text": [
            "Train, Epoch 13 / 20:  50%|█████     | 783/1563 [00:32<00:35, 21.95it/s]"
          ]
        },
        {
          "output_type": "stream",
          "name": "stdout",
          "text": [
            "batch 780 loss: 0.2469298131763935\n"
          ]
        },
        {
          "output_type": "stream",
          "name": "stderr",
          "text": [
            "Train, Epoch 13 / 20:  51%|█████     | 792/1563 [00:33<00:35, 21.95it/s]"
          ]
        },
        {
          "output_type": "stream",
          "name": "stdout",
          "text": [
            "batch 790 loss: 0.3088237576186657\n"
          ]
        },
        {
          "output_type": "stream",
          "name": "stderr",
          "text": [
            "Train, Epoch 13 / 20:  51%|█████▏    | 804/1563 [00:33<00:36, 20.60it/s]"
          ]
        },
        {
          "output_type": "stream",
          "name": "stdout",
          "text": [
            "batch 800 loss: 0.2648245021700859\n"
          ]
        },
        {
          "output_type": "stream",
          "name": "stderr",
          "text": [
            "Train, Epoch 13 / 20:  52%|█████▏    | 813/1563 [00:34<00:35, 20.92it/s]"
          ]
        },
        {
          "output_type": "stream",
          "name": "stdout",
          "text": [
            "batch 810 loss: 0.2838293142616749\n"
          ]
        },
        {
          "output_type": "stream",
          "name": "stderr",
          "text": [
            "Train, Epoch 13 / 20:  53%|█████▎    | 825/1563 [00:34<00:32, 22.77it/s]"
          ]
        },
        {
          "output_type": "stream",
          "name": "stdout",
          "text": [
            "batch 820 loss: 0.2241753578186035\n"
          ]
        },
        {
          "output_type": "stream",
          "name": "stderr",
          "text": [
            "Train, Epoch 13 / 20:  53%|█████▎    | 834/1563 [00:35<00:30, 23.77it/s]"
          ]
        },
        {
          "output_type": "stream",
          "name": "stdout",
          "text": [
            "batch 830 loss: 0.23510611653327942\n"
          ]
        },
        {
          "output_type": "stream",
          "name": "stderr",
          "text": [
            "Train, Epoch 13 / 20:  54%|█████▍    | 843/1563 [00:35<00:29, 24.40it/s]"
          ]
        },
        {
          "output_type": "stream",
          "name": "stdout",
          "text": [
            "batch 840 loss: 0.2024427779018879\n"
          ]
        },
        {
          "output_type": "stream",
          "name": "stderr",
          "text": [
            "Train, Epoch 13 / 20:  55%|█████▍    | 855/1563 [00:35<00:28, 24.49it/s]"
          ]
        },
        {
          "output_type": "stream",
          "name": "stdout",
          "text": [
            "batch 850 loss: 0.2108479082584381\n"
          ]
        },
        {
          "output_type": "stream",
          "name": "stderr",
          "text": [
            "Train, Epoch 13 / 20:  55%|█████▌    | 864/1563 [00:36<00:28, 24.67it/s]"
          ]
        },
        {
          "output_type": "stream",
          "name": "stdout",
          "text": [
            "batch 860 loss: 0.21304268203675747\n"
          ]
        },
        {
          "output_type": "stream",
          "name": "stderr",
          "text": [
            "Train, Epoch 13 / 20:  56%|█████▌    | 873/1563 [00:36<00:28, 24.63it/s]"
          ]
        },
        {
          "output_type": "stream",
          "name": "stdout",
          "text": [
            "batch 870 loss: 0.26394313722848894\n"
          ]
        },
        {
          "output_type": "stream",
          "name": "stderr",
          "text": [
            "Train, Epoch 13 / 20:  57%|█████▋    | 885/1563 [00:37<00:27, 24.37it/s]"
          ]
        },
        {
          "output_type": "stream",
          "name": "stdout",
          "text": [
            "batch 880 loss: 0.2311612531542778\n"
          ]
        },
        {
          "output_type": "stream",
          "name": "stderr",
          "text": [
            "Train, Epoch 13 / 20:  57%|█████▋    | 894/1563 [00:37<00:27, 24.51it/s]"
          ]
        },
        {
          "output_type": "stream",
          "name": "stdout",
          "text": [
            "batch 890 loss: 0.24767320975661278\n"
          ]
        },
        {
          "output_type": "stream",
          "name": "stderr",
          "text": [
            "Train, Epoch 13 / 20:  58%|█████▊    | 903/1563 [00:37<00:26, 24.60it/s]"
          ]
        },
        {
          "output_type": "stream",
          "name": "stdout",
          "text": [
            "batch 900 loss: 0.29914626106619835\n"
          ]
        },
        {
          "output_type": "stream",
          "name": "stderr",
          "text": [
            "Train, Epoch 13 / 20:  59%|█████▊    | 915/1563 [00:38<00:26, 24.85it/s]"
          ]
        },
        {
          "output_type": "stream",
          "name": "stdout",
          "text": [
            "batch 910 loss: 0.28869383931159975\n"
          ]
        },
        {
          "output_type": "stream",
          "name": "stderr",
          "text": [
            "Train, Epoch 13 / 20:  59%|█████▉    | 924/1563 [00:38<00:25, 24.78it/s]"
          ]
        },
        {
          "output_type": "stream",
          "name": "stdout",
          "text": [
            "batch 920 loss: 0.2293805181980133\n"
          ]
        },
        {
          "output_type": "stream",
          "name": "stderr",
          "text": [
            "Train, Epoch 13 / 20:  60%|█████▉    | 933/1563 [00:39<00:25, 24.77it/s]"
          ]
        },
        {
          "output_type": "stream",
          "name": "stdout",
          "text": [
            "batch 930 loss: 0.3203867178410292\n"
          ]
        },
        {
          "output_type": "stream",
          "name": "stderr",
          "text": [
            "Train, Epoch 13 / 20:  60%|██████    | 945/1563 [00:39<00:24, 24.83it/s]"
          ]
        },
        {
          "output_type": "stream",
          "name": "stdout",
          "text": [
            "batch 940 loss: 0.19002872258424758\n"
          ]
        },
        {
          "output_type": "stream",
          "name": "stderr",
          "text": [
            "Train, Epoch 13 / 20:  61%|██████    | 954/1563 [00:39<00:24, 24.73it/s]"
          ]
        },
        {
          "output_type": "stream",
          "name": "stdout",
          "text": [
            "batch 950 loss: 0.26547401659190656\n"
          ]
        },
        {
          "output_type": "stream",
          "name": "stderr",
          "text": [
            "Train, Epoch 13 / 20:  62%|██████▏   | 963/1563 [00:40<00:24, 24.84it/s]"
          ]
        },
        {
          "output_type": "stream",
          "name": "stdout",
          "text": [
            "batch 960 loss: 0.21411362513899804\n"
          ]
        },
        {
          "output_type": "stream",
          "name": "stderr",
          "text": [
            "Train, Epoch 13 / 20:  62%|██████▏   | 975/1563 [00:40<00:23, 24.87it/s]"
          ]
        },
        {
          "output_type": "stream",
          "name": "stdout",
          "text": [
            "batch 970 loss: 0.24582748264074325\n"
          ]
        },
        {
          "output_type": "stream",
          "name": "stderr",
          "text": [
            "Train, Epoch 13 / 20:  63%|██████▎   | 984/1563 [00:41<00:23, 24.59it/s]"
          ]
        },
        {
          "output_type": "stream",
          "name": "stdout",
          "text": [
            "batch 980 loss: 0.29598632305860517\n"
          ]
        },
        {
          "output_type": "stream",
          "name": "stderr",
          "text": [
            "Train, Epoch 13 / 20:  64%|██████▎   | 993/1563 [00:41<00:23, 24.67it/s]"
          ]
        },
        {
          "output_type": "stream",
          "name": "stdout",
          "text": [
            "batch 990 loss: 0.23346520960330963\n"
          ]
        },
        {
          "output_type": "stream",
          "name": "stderr",
          "text": [
            "Train, Epoch 13 / 20:  64%|██████▍   | 1005/1563 [00:42<00:22, 24.95it/s]"
          ]
        },
        {
          "output_type": "stream",
          "name": "stdout",
          "text": [
            "batch 1000 loss: 0.27558272182941435\n"
          ]
        },
        {
          "output_type": "stream",
          "name": "stderr",
          "text": [
            "Train, Epoch 13 / 20:  65%|██████▍   | 1014/1563 [00:42<00:22, 24.79it/s]"
          ]
        },
        {
          "output_type": "stream",
          "name": "stdout",
          "text": [
            "batch 1010 loss: 0.2565056376159191\n"
          ]
        },
        {
          "output_type": "stream",
          "name": "stderr",
          "text": [
            "Train, Epoch 13 / 20:  65%|██████▌   | 1023/1563 [00:42<00:22, 24.33it/s]"
          ]
        },
        {
          "output_type": "stream",
          "name": "stdout",
          "text": [
            "batch 1020 loss: 0.28604199439287187\n"
          ]
        },
        {
          "output_type": "stream",
          "name": "stderr",
          "text": [
            "Train, Epoch 13 / 20:  66%|██████▌   | 1035/1563 [00:43<00:21, 24.42it/s]"
          ]
        },
        {
          "output_type": "stream",
          "name": "stdout",
          "text": [
            "batch 1030 loss: 0.327666175365448\n"
          ]
        },
        {
          "output_type": "stream",
          "name": "stderr",
          "text": [
            "Train, Epoch 13 / 20:  67%|██████▋   | 1044/1563 [00:43<00:21, 24.46it/s]"
          ]
        },
        {
          "output_type": "stream",
          "name": "stdout",
          "text": [
            "batch 1040 loss: 0.23097299486398698\n"
          ]
        },
        {
          "output_type": "stream",
          "name": "stderr",
          "text": [
            "Train, Epoch 13 / 20:  67%|██████▋   | 1053/1563 [00:43<00:20, 24.71it/s]"
          ]
        },
        {
          "output_type": "stream",
          "name": "stdout",
          "text": [
            "batch 1050 loss: 0.272315987944603\n"
          ]
        },
        {
          "output_type": "stream",
          "name": "stderr",
          "text": [
            "Train, Epoch 13 / 20:  68%|██████▊   | 1062/1563 [00:44<00:21, 23.18it/s]"
          ]
        },
        {
          "output_type": "stream",
          "name": "stdout",
          "text": [
            "batch 1060 loss: 0.22685377523303032\n"
          ]
        },
        {
          "output_type": "stream",
          "name": "stderr",
          "text": [
            "Train, Epoch 13 / 20:  69%|██████▊   | 1074/1563 [00:44<00:23, 20.96it/s]"
          ]
        },
        {
          "output_type": "stream",
          "name": "stdout",
          "text": [
            "batch 1070 loss: 0.21777333542704583\n"
          ]
        },
        {
          "output_type": "stream",
          "name": "stderr",
          "text": [
            "Train, Epoch 13 / 20:  69%|██████▉   | 1083/1563 [00:45<00:22, 21.20it/s]"
          ]
        },
        {
          "output_type": "stream",
          "name": "stdout",
          "text": [
            "batch 1080 loss: 0.2540401589125395\n"
          ]
        },
        {
          "output_type": "stream",
          "name": "stderr",
          "text": [
            "Train, Epoch 13 / 20:  70%|██████▉   | 1092/1563 [00:45<00:21, 22.39it/s]"
          ]
        },
        {
          "output_type": "stream",
          "name": "stdout",
          "text": [
            "batch 1090 loss: 0.20632897615432738\n"
          ]
        },
        {
          "output_type": "stream",
          "name": "stderr",
          "text": [
            "Train, Epoch 13 / 20:  71%|███████   | 1104/1563 [00:46<00:21, 21.49it/s]"
          ]
        },
        {
          "output_type": "stream",
          "name": "stdout",
          "text": [
            "batch 1100 loss: 0.3225956857204437\n"
          ]
        },
        {
          "output_type": "stream",
          "name": "stderr",
          "text": [
            "Train, Epoch 13 / 20:  71%|███████   | 1113/1563 [00:46<00:21, 21.13it/s]"
          ]
        },
        {
          "output_type": "stream",
          "name": "stdout",
          "text": [
            "batch 1110 loss: 0.2546506136655807\n"
          ]
        },
        {
          "output_type": "stream",
          "name": "stderr",
          "text": [
            "Train, Epoch 13 / 20:  72%|███████▏  | 1125/1563 [00:47<00:18, 23.29it/s]"
          ]
        },
        {
          "output_type": "stream",
          "name": "stdout",
          "text": [
            "batch 1120 loss: 0.21777338758111\n"
          ]
        },
        {
          "output_type": "stream",
          "name": "stderr",
          "text": [
            "Train, Epoch 13 / 20:  73%|███████▎  | 1134/1563 [00:47<00:17, 24.36it/s]"
          ]
        },
        {
          "output_type": "stream",
          "name": "stdout",
          "text": [
            "batch 1130 loss: 0.2603392772376537\n"
          ]
        },
        {
          "output_type": "stream",
          "name": "stderr",
          "text": [
            "Train, Epoch 13 / 20:  73%|███████▎  | 1143/1563 [00:48<00:16, 24.71it/s]"
          ]
        },
        {
          "output_type": "stream",
          "name": "stdout",
          "text": [
            "batch 1140 loss: 0.22933901958167552\n"
          ]
        },
        {
          "output_type": "stream",
          "name": "stderr",
          "text": [
            "Train, Epoch 13 / 20:  74%|███████▍  | 1155/1563 [00:48<00:16, 24.43it/s]"
          ]
        },
        {
          "output_type": "stream",
          "name": "stdout",
          "text": [
            "batch 1150 loss: 0.2825139328837395\n"
          ]
        },
        {
          "output_type": "stream",
          "name": "stderr",
          "text": [
            "Train, Epoch 13 / 20:  74%|███████▍  | 1164/1563 [00:48<00:16, 24.77it/s]"
          ]
        },
        {
          "output_type": "stream",
          "name": "stdout",
          "text": [
            "batch 1160 loss: 0.259818746894598\n"
          ]
        },
        {
          "output_type": "stream",
          "name": "stderr",
          "text": [
            "Train, Epoch 13 / 20:  75%|███████▌  | 1173/1563 [00:49<00:15, 24.85it/s]"
          ]
        },
        {
          "output_type": "stream",
          "name": "stdout",
          "text": [
            "batch 1170 loss: 0.251991818100214\n"
          ]
        },
        {
          "output_type": "stream",
          "name": "stderr",
          "text": [
            "Train, Epoch 13 / 20:  76%|███████▌  | 1185/1563 [00:49<00:15, 24.50it/s]"
          ]
        },
        {
          "output_type": "stream",
          "name": "stdout",
          "text": [
            "batch 1180 loss: 0.29489524513483045\n"
          ]
        },
        {
          "output_type": "stream",
          "name": "stderr",
          "text": [
            "Train, Epoch 13 / 20:  76%|███████▋  | 1194/1563 [00:50<00:15, 24.44it/s]"
          ]
        },
        {
          "output_type": "stream",
          "name": "stdout",
          "text": [
            "batch 1190 loss: 0.28753083050251005\n"
          ]
        },
        {
          "output_type": "stream",
          "name": "stderr",
          "text": [
            "Train, Epoch 13 / 20:  77%|███████▋  | 1203/1563 [00:50<00:14, 24.31it/s]"
          ]
        },
        {
          "output_type": "stream",
          "name": "stdout",
          "text": [
            "batch 1200 loss: 0.3825414929538965\n"
          ]
        },
        {
          "output_type": "stream",
          "name": "stderr",
          "text": [
            "Train, Epoch 13 / 20:  78%|███████▊  | 1215/1563 [00:50<00:14, 24.53it/s]"
          ]
        },
        {
          "output_type": "stream",
          "name": "stdout",
          "text": [
            "batch 1210 loss: 0.2554697148501873\n"
          ]
        },
        {
          "output_type": "stream",
          "name": "stderr",
          "text": [
            "Train, Epoch 13 / 20:  78%|███████▊  | 1224/1563 [00:51<00:14, 24.03it/s]"
          ]
        },
        {
          "output_type": "stream",
          "name": "stdout",
          "text": [
            "batch 1220 loss: 0.3582225613296032\n"
          ]
        },
        {
          "output_type": "stream",
          "name": "stderr",
          "text": [
            "Train, Epoch 13 / 20:  79%|███████▉  | 1233/1563 [00:51<00:13, 24.37it/s]"
          ]
        },
        {
          "output_type": "stream",
          "name": "stdout",
          "text": [
            "batch 1230 loss: 0.24253300502896308\n"
          ]
        },
        {
          "output_type": "stream",
          "name": "stderr",
          "text": [
            "Train, Epoch 13 / 20:  80%|███████▉  | 1245/1563 [00:52<00:12, 24.79it/s]"
          ]
        },
        {
          "output_type": "stream",
          "name": "stdout",
          "text": [
            "batch 1240 loss: 0.29773085117340087\n"
          ]
        },
        {
          "output_type": "stream",
          "name": "stderr",
          "text": [
            "Train, Epoch 13 / 20:  80%|████████  | 1254/1563 [00:52<00:12, 24.27it/s]"
          ]
        },
        {
          "output_type": "stream",
          "name": "stdout",
          "text": [
            "batch 1250 loss: 0.19439727663993836\n"
          ]
        },
        {
          "output_type": "stream",
          "name": "stderr",
          "text": [
            "Train, Epoch 13 / 20:  81%|████████  | 1263/1563 [00:52<00:12, 24.26it/s]"
          ]
        },
        {
          "output_type": "stream",
          "name": "stdout",
          "text": [
            "batch 1260 loss: 0.24826478883624076\n"
          ]
        },
        {
          "output_type": "stream",
          "name": "stderr",
          "text": [
            "Train, Epoch 13 / 20:  82%|████████▏ | 1275/1563 [00:53<00:11, 24.42it/s]"
          ]
        },
        {
          "output_type": "stream",
          "name": "stdout",
          "text": [
            "batch 1270 loss: 0.2823935478925705\n"
          ]
        },
        {
          "output_type": "stream",
          "name": "stderr",
          "text": [
            "Train, Epoch 13 / 20:  82%|████████▏ | 1284/1563 [00:53<00:11, 24.26it/s]"
          ]
        },
        {
          "output_type": "stream",
          "name": "stdout",
          "text": [
            "batch 1280 loss: 0.2867221042513847\n"
          ]
        },
        {
          "output_type": "stream",
          "name": "stderr",
          "text": [
            "Train, Epoch 13 / 20:  83%|████████▎ | 1293/1563 [00:54<00:11, 24.25it/s]"
          ]
        },
        {
          "output_type": "stream",
          "name": "stdout",
          "text": [
            "batch 1290 loss: 0.32728798389434816\n"
          ]
        },
        {
          "output_type": "stream",
          "name": "stderr",
          "text": [
            "Train, Epoch 13 / 20:  83%|████████▎ | 1305/1563 [00:54<00:10, 23.95it/s]"
          ]
        },
        {
          "output_type": "stream",
          "name": "stdout",
          "text": [
            "batch 1300 loss: 0.23993680402636527\n"
          ]
        },
        {
          "output_type": "stream",
          "name": "stderr",
          "text": [
            "Train, Epoch 13 / 20:  84%|████████▍ | 1314/1563 [00:55<00:10, 24.24it/s]"
          ]
        },
        {
          "output_type": "stream",
          "name": "stdout",
          "text": [
            "batch 1310 loss: 0.2153523437678814\n"
          ]
        }
      ]
    },
    {
      "cell_type": "markdown",
      "source": [
        "# **3. Naive MoE that has the same token choosing strategy and MLP architecture as the fully vectorized MoE for comparison. Third part of the task.**"
      ],
      "metadata": {
        "id": "IsNIUZhXE8bz"
      }
    },
    {
      "cell_type": "code",
      "source": [],
      "metadata": {
        "id": "3C6CwPUXFhEB"
      },
      "execution_count": null,
      "outputs": []
    }
  ],
  "metadata": {
    "kernelspec": {
      "display_name": "Python 3",
      "name": "python3"
    },
    "language_info": {
      "codemirror_mode": {
        "name": "ipython",
        "version": 3
      },
      "file_extension": ".py",
      "mimetype": "text/x-python",
      "name": "python",
      "nbconvert_exporter": "python",
      "pygments_lexer": "ipython3",
      "version": "3.11.7"
    },
    "colab": {
      "provenance": [],
      "gpuType": "T4"
    },
    "accelerator": "GPU",
    "widgets": {
      "application/vnd.jupyter.widget-state+json": {
        "7b3e3e5c48c148828bff11ecd6a71203": {
          "model_module": "@jupyter-widgets/controls",
          "model_name": "HBoxModel",
          "model_module_version": "1.5.0",
          "state": {
            "_dom_classes": [],
            "_model_module": "@jupyter-widgets/controls",
            "_model_module_version": "1.5.0",
            "_model_name": "HBoxModel",
            "_view_count": null,
            "_view_module": "@jupyter-widgets/controls",
            "_view_module_version": "1.5.0",
            "_view_name": "HBoxView",
            "box_style": "",
            "children": [
              "IPY_MODEL_8606b77625284a1da02305b337d53bc7",
              "IPY_MODEL_aa65200d1b5f4c9589b6fbc867416bb0",
              "IPY_MODEL_0ee0ff50c52748ee898e2a12fcfec1b6"
            ],
            "layout": "IPY_MODEL_5a90f244382c430a8c4802cfdf8bafea"
          }
        },
        "8606b77625284a1da02305b337d53bc7": {
          "model_module": "@jupyter-widgets/controls",
          "model_name": "HTMLModel",
          "model_module_version": "1.5.0",
          "state": {
            "_dom_classes": [],
            "_model_module": "@jupyter-widgets/controls",
            "_model_module_version": "1.5.0",
            "_model_name": "HTMLModel",
            "_view_count": null,
            "_view_module": "@jupyter-widgets/controls",
            "_view_module_version": "1.5.0",
            "_view_name": "HTMLView",
            "description": "",
            "description_tooltip": null,
            "layout": "IPY_MODEL_2e56c448783d40568e6ddb4fbb99c5e6",
            "placeholder": "​",
            "style": "IPY_MODEL_bfc63a8622254765873d8088828e054b",
            "value": "Downloading readme: 100%"
          }
        },
        "aa65200d1b5f4c9589b6fbc867416bb0": {
          "model_module": "@jupyter-widgets/controls",
          "model_name": "FloatProgressModel",
          "model_module_version": "1.5.0",
          "state": {
            "_dom_classes": [],
            "_model_module": "@jupyter-widgets/controls",
            "_model_module_version": "1.5.0",
            "_model_name": "FloatProgressModel",
            "_view_count": null,
            "_view_module": "@jupyter-widgets/controls",
            "_view_module_version": "1.5.0",
            "_view_name": "ProgressView",
            "bar_style": "success",
            "description": "",
            "description_tooltip": null,
            "layout": "IPY_MODEL_8a817cfb73e747e784694b979c7fa5ac",
            "max": 7809,
            "min": 0,
            "orientation": "horizontal",
            "style": "IPY_MODEL_53791a9259524ef686c4f2d49c5d8b95",
            "value": 7809
          }
        },
        "0ee0ff50c52748ee898e2a12fcfec1b6": {
          "model_module": "@jupyter-widgets/controls",
          "model_name": "HTMLModel",
          "model_module_version": "1.5.0",
          "state": {
            "_dom_classes": [],
            "_model_module": "@jupyter-widgets/controls",
            "_model_module_version": "1.5.0",
            "_model_name": "HTMLModel",
            "_view_count": null,
            "_view_module": "@jupyter-widgets/controls",
            "_view_module_version": "1.5.0",
            "_view_name": "HTMLView",
            "description": "",
            "description_tooltip": null,
            "layout": "IPY_MODEL_f2eb910a629040a58270d67298d44319",
            "placeholder": "​",
            "style": "IPY_MODEL_e4a55967b3314e299457caac831a1e6b",
            "value": " 7.81k/7.81k [00:00&lt;00:00, 254kB/s]"
          }
        },
        "5a90f244382c430a8c4802cfdf8bafea": {
          "model_module": "@jupyter-widgets/base",
          "model_name": "LayoutModel",
          "model_module_version": "1.2.0",
          "state": {
            "_model_module": "@jupyter-widgets/base",
            "_model_module_version": "1.2.0",
            "_model_name": "LayoutModel",
            "_view_count": null,
            "_view_module": "@jupyter-widgets/base",
            "_view_module_version": "1.2.0",
            "_view_name": "LayoutView",
            "align_content": null,
            "align_items": null,
            "align_self": null,
            "border": null,
            "bottom": null,
            "display": null,
            "flex": null,
            "flex_flow": null,
            "grid_area": null,
            "grid_auto_columns": null,
            "grid_auto_flow": null,
            "grid_auto_rows": null,
            "grid_column": null,
            "grid_gap": null,
            "grid_row": null,
            "grid_template_areas": null,
            "grid_template_columns": null,
            "grid_template_rows": null,
            "height": null,
            "justify_content": null,
            "justify_items": null,
            "left": null,
            "margin": null,
            "max_height": null,
            "max_width": null,
            "min_height": null,
            "min_width": null,
            "object_fit": null,
            "object_position": null,
            "order": null,
            "overflow": null,
            "overflow_x": null,
            "overflow_y": null,
            "padding": null,
            "right": null,
            "top": null,
            "visibility": null,
            "width": null
          }
        },
        "2e56c448783d40568e6ddb4fbb99c5e6": {
          "model_module": "@jupyter-widgets/base",
          "model_name": "LayoutModel",
          "model_module_version": "1.2.0",
          "state": {
            "_model_module": "@jupyter-widgets/base",
            "_model_module_version": "1.2.0",
            "_model_name": "LayoutModel",
            "_view_count": null,
            "_view_module": "@jupyter-widgets/base",
            "_view_module_version": "1.2.0",
            "_view_name": "LayoutView",
            "align_content": null,
            "align_items": null,
            "align_self": null,
            "border": null,
            "bottom": null,
            "display": null,
            "flex": null,
            "flex_flow": null,
            "grid_area": null,
            "grid_auto_columns": null,
            "grid_auto_flow": null,
            "grid_auto_rows": null,
            "grid_column": null,
            "grid_gap": null,
            "grid_row": null,
            "grid_template_areas": null,
            "grid_template_columns": null,
            "grid_template_rows": null,
            "height": null,
            "justify_content": null,
            "justify_items": null,
            "left": null,
            "margin": null,
            "max_height": null,
            "max_width": null,
            "min_height": null,
            "min_width": null,
            "object_fit": null,
            "object_position": null,
            "order": null,
            "overflow": null,
            "overflow_x": null,
            "overflow_y": null,
            "padding": null,
            "right": null,
            "top": null,
            "visibility": null,
            "width": null
          }
        },
        "bfc63a8622254765873d8088828e054b": {
          "model_module": "@jupyter-widgets/controls",
          "model_name": "DescriptionStyleModel",
          "model_module_version": "1.5.0",
          "state": {
            "_model_module": "@jupyter-widgets/controls",
            "_model_module_version": "1.5.0",
            "_model_name": "DescriptionStyleModel",
            "_view_count": null,
            "_view_module": "@jupyter-widgets/base",
            "_view_module_version": "1.2.0",
            "_view_name": "StyleView",
            "description_width": ""
          }
        },
        "8a817cfb73e747e784694b979c7fa5ac": {
          "model_module": "@jupyter-widgets/base",
          "model_name": "LayoutModel",
          "model_module_version": "1.2.0",
          "state": {
            "_model_module": "@jupyter-widgets/base",
            "_model_module_version": "1.2.0",
            "_model_name": "LayoutModel",
            "_view_count": null,
            "_view_module": "@jupyter-widgets/base",
            "_view_module_version": "1.2.0",
            "_view_name": "LayoutView",
            "align_content": null,
            "align_items": null,
            "align_self": null,
            "border": null,
            "bottom": null,
            "display": null,
            "flex": null,
            "flex_flow": null,
            "grid_area": null,
            "grid_auto_columns": null,
            "grid_auto_flow": null,
            "grid_auto_rows": null,
            "grid_column": null,
            "grid_gap": null,
            "grid_row": null,
            "grid_template_areas": null,
            "grid_template_columns": null,
            "grid_template_rows": null,
            "height": null,
            "justify_content": null,
            "justify_items": null,
            "left": null,
            "margin": null,
            "max_height": null,
            "max_width": null,
            "min_height": null,
            "min_width": null,
            "object_fit": null,
            "object_position": null,
            "order": null,
            "overflow": null,
            "overflow_x": null,
            "overflow_y": null,
            "padding": null,
            "right": null,
            "top": null,
            "visibility": null,
            "width": null
          }
        },
        "53791a9259524ef686c4f2d49c5d8b95": {
          "model_module": "@jupyter-widgets/controls",
          "model_name": "ProgressStyleModel",
          "model_module_version": "1.5.0",
          "state": {
            "_model_module": "@jupyter-widgets/controls",
            "_model_module_version": "1.5.0",
            "_model_name": "ProgressStyleModel",
            "_view_count": null,
            "_view_module": "@jupyter-widgets/base",
            "_view_module_version": "1.2.0",
            "_view_name": "StyleView",
            "bar_color": null,
            "description_width": ""
          }
        },
        "f2eb910a629040a58270d67298d44319": {
          "model_module": "@jupyter-widgets/base",
          "model_name": "LayoutModel",
          "model_module_version": "1.2.0",
          "state": {
            "_model_module": "@jupyter-widgets/base",
            "_model_module_version": "1.2.0",
            "_model_name": "LayoutModel",
            "_view_count": null,
            "_view_module": "@jupyter-widgets/base",
            "_view_module_version": "1.2.0",
            "_view_name": "LayoutView",
            "align_content": null,
            "align_items": null,
            "align_self": null,
            "border": null,
            "bottom": null,
            "display": null,
            "flex": null,
            "flex_flow": null,
            "grid_area": null,
            "grid_auto_columns": null,
            "grid_auto_flow": null,
            "grid_auto_rows": null,
            "grid_column": null,
            "grid_gap": null,
            "grid_row": null,
            "grid_template_areas": null,
            "grid_template_columns": null,
            "grid_template_rows": null,
            "height": null,
            "justify_content": null,
            "justify_items": null,
            "left": null,
            "margin": null,
            "max_height": null,
            "max_width": null,
            "min_height": null,
            "min_width": null,
            "object_fit": null,
            "object_position": null,
            "order": null,
            "overflow": null,
            "overflow_x": null,
            "overflow_y": null,
            "padding": null,
            "right": null,
            "top": null,
            "visibility": null,
            "width": null
          }
        },
        "e4a55967b3314e299457caac831a1e6b": {
          "model_module": "@jupyter-widgets/controls",
          "model_name": "DescriptionStyleModel",
          "model_module_version": "1.5.0",
          "state": {
            "_model_module": "@jupyter-widgets/controls",
            "_model_module_version": "1.5.0",
            "_model_name": "DescriptionStyleModel",
            "_view_count": null,
            "_view_module": "@jupyter-widgets/base",
            "_view_module_version": "1.2.0",
            "_view_name": "StyleView",
            "description_width": ""
          }
        },
        "db841faf813f46288f951c57bb825e68": {
          "model_module": "@jupyter-widgets/controls",
          "model_name": "HBoxModel",
          "model_module_version": "1.5.0",
          "state": {
            "_dom_classes": [],
            "_model_module": "@jupyter-widgets/controls",
            "_model_module_version": "1.5.0",
            "_model_name": "HBoxModel",
            "_view_count": null,
            "_view_module": "@jupyter-widgets/controls",
            "_view_module_version": "1.5.0",
            "_view_name": "HBoxView",
            "box_style": "",
            "children": [
              "IPY_MODEL_103409c61e1546e484bbb72b7c482bf2",
              "IPY_MODEL_05c927b0a1ce48cfa3534e59b1e22cb6",
              "IPY_MODEL_484f602d10ce48a08f2c736b3087595e"
            ],
            "layout": "IPY_MODEL_667df8a378ed43308c21b0f7ec5cc921"
          }
        },
        "103409c61e1546e484bbb72b7c482bf2": {
          "model_module": "@jupyter-widgets/controls",
          "model_name": "HTMLModel",
          "model_module_version": "1.5.0",
          "state": {
            "_dom_classes": [],
            "_model_module": "@jupyter-widgets/controls",
            "_model_module_version": "1.5.0",
            "_model_name": "HTMLModel",
            "_view_count": null,
            "_view_module": "@jupyter-widgets/controls",
            "_view_module_version": "1.5.0",
            "_view_name": "HTMLView",
            "description": "",
            "description_tooltip": null,
            "layout": "IPY_MODEL_1a5ae8c67177490e9283c0ac2153da93",
            "placeholder": "​",
            "style": "IPY_MODEL_113abd8d8f414e1a8e91e1dff302f047",
            "value": "Downloading data: 100%"
          }
        },
        "05c927b0a1ce48cfa3534e59b1e22cb6": {
          "model_module": "@jupyter-widgets/controls",
          "model_name": "FloatProgressModel",
          "model_module_version": "1.5.0",
          "state": {
            "_dom_classes": [],
            "_model_module": "@jupyter-widgets/controls",
            "_model_module_version": "1.5.0",
            "_model_name": "FloatProgressModel",
            "_view_count": null,
            "_view_module": "@jupyter-widgets/controls",
            "_view_module_version": "1.5.0",
            "_view_name": "ProgressView",
            "bar_style": "success",
            "description": "",
            "description_tooltip": null,
            "layout": "IPY_MODEL_266da5290f914aff9b8d6be2fbe20f1b",
            "max": 20979968,
            "min": 0,
            "orientation": "horizontal",
            "style": "IPY_MODEL_2afe931419a14c88bf5eb71beab1f6f4",
            "value": 20979968
          }
        },
        "484f602d10ce48a08f2c736b3087595e": {
          "model_module": "@jupyter-widgets/controls",
          "model_name": "HTMLModel",
          "model_module_version": "1.5.0",
          "state": {
            "_dom_classes": [],
            "_model_module": "@jupyter-widgets/controls",
            "_model_module_version": "1.5.0",
            "_model_name": "HTMLModel",
            "_view_count": null,
            "_view_module": "@jupyter-widgets/controls",
            "_view_module_version": "1.5.0",
            "_view_name": "HTMLView",
            "description": "",
            "description_tooltip": null,
            "layout": "IPY_MODEL_b3a111b562bb4112ae6521247ccf6b1e",
            "placeholder": "​",
            "style": "IPY_MODEL_a6768295ef744a9ab80dae5910a13671",
            "value": " 21.0M/21.0M [00:01&lt;00:00, 20.5MB/s]"
          }
        },
        "667df8a378ed43308c21b0f7ec5cc921": {
          "model_module": "@jupyter-widgets/base",
          "model_name": "LayoutModel",
          "model_module_version": "1.2.0",
          "state": {
            "_model_module": "@jupyter-widgets/base",
            "_model_module_version": "1.2.0",
            "_model_name": "LayoutModel",
            "_view_count": null,
            "_view_module": "@jupyter-widgets/base",
            "_view_module_version": "1.2.0",
            "_view_name": "LayoutView",
            "align_content": null,
            "align_items": null,
            "align_self": null,
            "border": null,
            "bottom": null,
            "display": null,
            "flex": null,
            "flex_flow": null,
            "grid_area": null,
            "grid_auto_columns": null,
            "grid_auto_flow": null,
            "grid_auto_rows": null,
            "grid_column": null,
            "grid_gap": null,
            "grid_row": null,
            "grid_template_areas": null,
            "grid_template_columns": null,
            "grid_template_rows": null,
            "height": null,
            "justify_content": null,
            "justify_items": null,
            "left": null,
            "margin": null,
            "max_height": null,
            "max_width": null,
            "min_height": null,
            "min_width": null,
            "object_fit": null,
            "object_position": null,
            "order": null,
            "overflow": null,
            "overflow_x": null,
            "overflow_y": null,
            "padding": null,
            "right": null,
            "top": null,
            "visibility": null,
            "width": null
          }
        },
        "1a5ae8c67177490e9283c0ac2153da93": {
          "model_module": "@jupyter-widgets/base",
          "model_name": "LayoutModel",
          "model_module_version": "1.2.0",
          "state": {
            "_model_module": "@jupyter-widgets/base",
            "_model_module_version": "1.2.0",
            "_model_name": "LayoutModel",
            "_view_count": null,
            "_view_module": "@jupyter-widgets/base",
            "_view_module_version": "1.2.0",
            "_view_name": "LayoutView",
            "align_content": null,
            "align_items": null,
            "align_self": null,
            "border": null,
            "bottom": null,
            "display": null,
            "flex": null,
            "flex_flow": null,
            "grid_area": null,
            "grid_auto_columns": null,
            "grid_auto_flow": null,
            "grid_auto_rows": null,
            "grid_column": null,
            "grid_gap": null,
            "grid_row": null,
            "grid_template_areas": null,
            "grid_template_columns": null,
            "grid_template_rows": null,
            "height": null,
            "justify_content": null,
            "justify_items": null,
            "left": null,
            "margin": null,
            "max_height": null,
            "max_width": null,
            "min_height": null,
            "min_width": null,
            "object_fit": null,
            "object_position": null,
            "order": null,
            "overflow": null,
            "overflow_x": null,
            "overflow_y": null,
            "padding": null,
            "right": null,
            "top": null,
            "visibility": null,
            "width": null
          }
        },
        "113abd8d8f414e1a8e91e1dff302f047": {
          "model_module": "@jupyter-widgets/controls",
          "model_name": "DescriptionStyleModel",
          "model_module_version": "1.5.0",
          "state": {
            "_model_module": "@jupyter-widgets/controls",
            "_model_module_version": "1.5.0",
            "_model_name": "DescriptionStyleModel",
            "_view_count": null,
            "_view_module": "@jupyter-widgets/base",
            "_view_module_version": "1.2.0",
            "_view_name": "StyleView",
            "description_width": ""
          }
        },
        "266da5290f914aff9b8d6be2fbe20f1b": {
          "model_module": "@jupyter-widgets/base",
          "model_name": "LayoutModel",
          "model_module_version": "1.2.0",
          "state": {
            "_model_module": "@jupyter-widgets/base",
            "_model_module_version": "1.2.0",
            "_model_name": "LayoutModel",
            "_view_count": null,
            "_view_module": "@jupyter-widgets/base",
            "_view_module_version": "1.2.0",
            "_view_name": "LayoutView",
            "align_content": null,
            "align_items": null,
            "align_self": null,
            "border": null,
            "bottom": null,
            "display": null,
            "flex": null,
            "flex_flow": null,
            "grid_area": null,
            "grid_auto_columns": null,
            "grid_auto_flow": null,
            "grid_auto_rows": null,
            "grid_column": null,
            "grid_gap": null,
            "grid_row": null,
            "grid_template_areas": null,
            "grid_template_columns": null,
            "grid_template_rows": null,
            "height": null,
            "justify_content": null,
            "justify_items": null,
            "left": null,
            "margin": null,
            "max_height": null,
            "max_width": null,
            "min_height": null,
            "min_width": null,
            "object_fit": null,
            "object_position": null,
            "order": null,
            "overflow": null,
            "overflow_x": null,
            "overflow_y": null,
            "padding": null,
            "right": null,
            "top": null,
            "visibility": null,
            "width": null
          }
        },
        "2afe931419a14c88bf5eb71beab1f6f4": {
          "model_module": "@jupyter-widgets/controls",
          "model_name": "ProgressStyleModel",
          "model_module_version": "1.5.0",
          "state": {
            "_model_module": "@jupyter-widgets/controls",
            "_model_module_version": "1.5.0",
            "_model_name": "ProgressStyleModel",
            "_view_count": null,
            "_view_module": "@jupyter-widgets/base",
            "_view_module_version": "1.2.0",
            "_view_name": "StyleView",
            "bar_color": null,
            "description_width": ""
          }
        },
        "b3a111b562bb4112ae6521247ccf6b1e": {
          "model_module": "@jupyter-widgets/base",
          "model_name": "LayoutModel",
          "model_module_version": "1.2.0",
          "state": {
            "_model_module": "@jupyter-widgets/base",
            "_model_module_version": "1.2.0",
            "_model_name": "LayoutModel",
            "_view_count": null,
            "_view_module": "@jupyter-widgets/base",
            "_view_module_version": "1.2.0",
            "_view_name": "LayoutView",
            "align_content": null,
            "align_items": null,
            "align_self": null,
            "border": null,
            "bottom": null,
            "display": null,
            "flex": null,
            "flex_flow": null,
            "grid_area": null,
            "grid_auto_columns": null,
            "grid_auto_flow": null,
            "grid_auto_rows": null,
            "grid_column": null,
            "grid_gap": null,
            "grid_row": null,
            "grid_template_areas": null,
            "grid_template_columns": null,
            "grid_template_rows": null,
            "height": null,
            "justify_content": null,
            "justify_items": null,
            "left": null,
            "margin": null,
            "max_height": null,
            "max_width": null,
            "min_height": null,
            "min_width": null,
            "object_fit": null,
            "object_position": null,
            "order": null,
            "overflow": null,
            "overflow_x": null,
            "overflow_y": null,
            "padding": null,
            "right": null,
            "top": null,
            "visibility": null,
            "width": null
          }
        },
        "a6768295ef744a9ab80dae5910a13671": {
          "model_module": "@jupyter-widgets/controls",
          "model_name": "DescriptionStyleModel",
          "model_module_version": "1.5.0",
          "state": {
            "_model_module": "@jupyter-widgets/controls",
            "_model_module_version": "1.5.0",
            "_model_name": "DescriptionStyleModel",
            "_view_count": null,
            "_view_module": "@jupyter-widgets/base",
            "_view_module_version": "1.2.0",
            "_view_name": "StyleView",
            "description_width": ""
          }
        },
        "94c79f51a25840d28a4bf2abf05e90f6": {
          "model_module": "@jupyter-widgets/controls",
          "model_name": "HBoxModel",
          "model_module_version": "1.5.0",
          "state": {
            "_dom_classes": [],
            "_model_module": "@jupyter-widgets/controls",
            "_model_module_version": "1.5.0",
            "_model_name": "HBoxModel",
            "_view_count": null,
            "_view_module": "@jupyter-widgets/controls",
            "_view_module_version": "1.5.0",
            "_view_name": "HBoxView",
            "box_style": "",
            "children": [
              "IPY_MODEL_bce1832da1c649c0aa7a32fc63776e7a",
              "IPY_MODEL_4adfddbf763541898700a61a615bd423",
              "IPY_MODEL_3f9ec26e4379437d98a5e81e57f0e7e4"
            ],
            "layout": "IPY_MODEL_451efa92528d49e18121d34755a455c4"
          }
        },
        "bce1832da1c649c0aa7a32fc63776e7a": {
          "model_module": "@jupyter-widgets/controls",
          "model_name": "HTMLModel",
          "model_module_version": "1.5.0",
          "state": {
            "_dom_classes": [],
            "_model_module": "@jupyter-widgets/controls",
            "_model_module_version": "1.5.0",
            "_model_name": "HTMLModel",
            "_view_count": null,
            "_view_module": "@jupyter-widgets/controls",
            "_view_module_version": "1.5.0",
            "_view_name": "HTMLView",
            "description": "",
            "description_tooltip": null,
            "layout": "IPY_MODEL_9e96a249ce1b4c92b0a5074fa39252a1",
            "placeholder": "​",
            "style": "IPY_MODEL_540a95f98f6a4a34a41f90a277fda4f2",
            "value": "Downloading data: 100%"
          }
        },
        "4adfddbf763541898700a61a615bd423": {
          "model_module": "@jupyter-widgets/controls",
          "model_name": "FloatProgressModel",
          "model_module_version": "1.5.0",
          "state": {
            "_dom_classes": [],
            "_model_module": "@jupyter-widgets/controls",
            "_model_module_version": "1.5.0",
            "_model_name": "FloatProgressModel",
            "_view_count": null,
            "_view_module": "@jupyter-widgets/controls",
            "_view_module_version": "1.5.0",
            "_view_name": "ProgressView",
            "bar_style": "success",
            "description": "",
            "description_tooltip": null,
            "layout": "IPY_MODEL_418349717f1d4c0cbd44e0f28d15d2a9",
            "max": 20470363,
            "min": 0,
            "orientation": "horizontal",
            "style": "IPY_MODEL_3f60292b31ad49728bfef016ae26bdcc",
            "value": 20470363
          }
        },
        "3f9ec26e4379437d98a5e81e57f0e7e4": {
          "model_module": "@jupyter-widgets/controls",
          "model_name": "HTMLModel",
          "model_module_version": "1.5.0",
          "state": {
            "_dom_classes": [],
            "_model_module": "@jupyter-widgets/controls",
            "_model_module_version": "1.5.0",
            "_model_name": "HTMLModel",
            "_view_count": null,
            "_view_module": "@jupyter-widgets/controls",
            "_view_module_version": "1.5.0",
            "_view_name": "HTMLView",
            "description": "",
            "description_tooltip": null,
            "layout": "IPY_MODEL_2c94976d87d9447fbd4660f42b30e75d",
            "placeholder": "​",
            "style": "IPY_MODEL_473fdc28544f4f13b862e646d7f71b58",
            "value": " 20.5M/20.5M [00:01&lt;00:00, 19.6MB/s]"
          }
        },
        "451efa92528d49e18121d34755a455c4": {
          "model_module": "@jupyter-widgets/base",
          "model_name": "LayoutModel",
          "model_module_version": "1.2.0",
          "state": {
            "_model_module": "@jupyter-widgets/base",
            "_model_module_version": "1.2.0",
            "_model_name": "LayoutModel",
            "_view_count": null,
            "_view_module": "@jupyter-widgets/base",
            "_view_module_version": "1.2.0",
            "_view_name": "LayoutView",
            "align_content": null,
            "align_items": null,
            "align_self": null,
            "border": null,
            "bottom": null,
            "display": null,
            "flex": null,
            "flex_flow": null,
            "grid_area": null,
            "grid_auto_columns": null,
            "grid_auto_flow": null,
            "grid_auto_rows": null,
            "grid_column": null,
            "grid_gap": null,
            "grid_row": null,
            "grid_template_areas": null,
            "grid_template_columns": null,
            "grid_template_rows": null,
            "height": null,
            "justify_content": null,
            "justify_items": null,
            "left": null,
            "margin": null,
            "max_height": null,
            "max_width": null,
            "min_height": null,
            "min_width": null,
            "object_fit": null,
            "object_position": null,
            "order": null,
            "overflow": null,
            "overflow_x": null,
            "overflow_y": null,
            "padding": null,
            "right": null,
            "top": null,
            "visibility": null,
            "width": null
          }
        },
        "9e96a249ce1b4c92b0a5074fa39252a1": {
          "model_module": "@jupyter-widgets/base",
          "model_name": "LayoutModel",
          "model_module_version": "1.2.0",
          "state": {
            "_model_module": "@jupyter-widgets/base",
            "_model_module_version": "1.2.0",
            "_model_name": "LayoutModel",
            "_view_count": null,
            "_view_module": "@jupyter-widgets/base",
            "_view_module_version": "1.2.0",
            "_view_name": "LayoutView",
            "align_content": null,
            "align_items": null,
            "align_self": null,
            "border": null,
            "bottom": null,
            "display": null,
            "flex": null,
            "flex_flow": null,
            "grid_area": null,
            "grid_auto_columns": null,
            "grid_auto_flow": null,
            "grid_auto_rows": null,
            "grid_column": null,
            "grid_gap": null,
            "grid_row": null,
            "grid_template_areas": null,
            "grid_template_columns": null,
            "grid_template_rows": null,
            "height": null,
            "justify_content": null,
            "justify_items": null,
            "left": null,
            "margin": null,
            "max_height": null,
            "max_width": null,
            "min_height": null,
            "min_width": null,
            "object_fit": null,
            "object_position": null,
            "order": null,
            "overflow": null,
            "overflow_x": null,
            "overflow_y": null,
            "padding": null,
            "right": null,
            "top": null,
            "visibility": null,
            "width": null
          }
        },
        "540a95f98f6a4a34a41f90a277fda4f2": {
          "model_module": "@jupyter-widgets/controls",
          "model_name": "DescriptionStyleModel",
          "model_module_version": "1.5.0",
          "state": {
            "_model_module": "@jupyter-widgets/controls",
            "_model_module_version": "1.5.0",
            "_model_name": "DescriptionStyleModel",
            "_view_count": null,
            "_view_module": "@jupyter-widgets/base",
            "_view_module_version": "1.2.0",
            "_view_name": "StyleView",
            "description_width": ""
          }
        },
        "418349717f1d4c0cbd44e0f28d15d2a9": {
          "model_module": "@jupyter-widgets/base",
          "model_name": "LayoutModel",
          "model_module_version": "1.2.0",
          "state": {
            "_model_module": "@jupyter-widgets/base",
            "_model_module_version": "1.2.0",
            "_model_name": "LayoutModel",
            "_view_count": null,
            "_view_module": "@jupyter-widgets/base",
            "_view_module_version": "1.2.0",
            "_view_name": "LayoutView",
            "align_content": null,
            "align_items": null,
            "align_self": null,
            "border": null,
            "bottom": null,
            "display": null,
            "flex": null,
            "flex_flow": null,
            "grid_area": null,
            "grid_auto_columns": null,
            "grid_auto_flow": null,
            "grid_auto_rows": null,
            "grid_column": null,
            "grid_gap": null,
            "grid_row": null,
            "grid_template_areas": null,
            "grid_template_columns": null,
            "grid_template_rows": null,
            "height": null,
            "justify_content": null,
            "justify_items": null,
            "left": null,
            "margin": null,
            "max_height": null,
            "max_width": null,
            "min_height": null,
            "min_width": null,
            "object_fit": null,
            "object_position": null,
            "order": null,
            "overflow": null,
            "overflow_x": null,
            "overflow_y": null,
            "padding": null,
            "right": null,
            "top": null,
            "visibility": null,
            "width": null
          }
        },
        "3f60292b31ad49728bfef016ae26bdcc": {
          "model_module": "@jupyter-widgets/controls",
          "model_name": "ProgressStyleModel",
          "model_module_version": "1.5.0",
          "state": {
            "_model_module": "@jupyter-widgets/controls",
            "_model_module_version": "1.5.0",
            "_model_name": "ProgressStyleModel",
            "_view_count": null,
            "_view_module": "@jupyter-widgets/base",
            "_view_module_version": "1.2.0",
            "_view_name": "StyleView",
            "bar_color": null,
            "description_width": ""
          }
        },
        "2c94976d87d9447fbd4660f42b30e75d": {
          "model_module": "@jupyter-widgets/base",
          "model_name": "LayoutModel",
          "model_module_version": "1.2.0",
          "state": {
            "_model_module": "@jupyter-widgets/base",
            "_model_module_version": "1.2.0",
            "_model_name": "LayoutModel",
            "_view_count": null,
            "_view_module": "@jupyter-widgets/base",
            "_view_module_version": "1.2.0",
            "_view_name": "LayoutView",
            "align_content": null,
            "align_items": null,
            "align_self": null,
            "border": null,
            "bottom": null,
            "display": null,
            "flex": null,
            "flex_flow": null,
            "grid_area": null,
            "grid_auto_columns": null,
            "grid_auto_flow": null,
            "grid_auto_rows": null,
            "grid_column": null,
            "grid_gap": null,
            "grid_row": null,
            "grid_template_areas": null,
            "grid_template_columns": null,
            "grid_template_rows": null,
            "height": null,
            "justify_content": null,
            "justify_items": null,
            "left": null,
            "margin": null,
            "max_height": null,
            "max_width": null,
            "min_height": null,
            "min_width": null,
            "object_fit": null,
            "object_position": null,
            "order": null,
            "overflow": null,
            "overflow_x": null,
            "overflow_y": null,
            "padding": null,
            "right": null,
            "top": null,
            "visibility": null,
            "width": null
          }
        },
        "473fdc28544f4f13b862e646d7f71b58": {
          "model_module": "@jupyter-widgets/controls",
          "model_name": "DescriptionStyleModel",
          "model_module_version": "1.5.0",
          "state": {
            "_model_module": "@jupyter-widgets/controls",
            "_model_module_version": "1.5.0",
            "_model_name": "DescriptionStyleModel",
            "_view_count": null,
            "_view_module": "@jupyter-widgets/base",
            "_view_module_version": "1.2.0",
            "_view_name": "StyleView",
            "description_width": ""
          }
        },
        "52bf7c2b54db495882c2b9b43083777f": {
          "model_module": "@jupyter-widgets/controls",
          "model_name": "HBoxModel",
          "model_module_version": "1.5.0",
          "state": {
            "_dom_classes": [],
            "_model_module": "@jupyter-widgets/controls",
            "_model_module_version": "1.5.0",
            "_model_name": "HBoxModel",
            "_view_count": null,
            "_view_module": "@jupyter-widgets/controls",
            "_view_module_version": "1.5.0",
            "_view_name": "HBoxView",
            "box_style": "",
            "children": [
              "IPY_MODEL_5088da70f8a340299ca7683ac8629303",
              "IPY_MODEL_1c7925b7017a4202b4792890d7a872ae",
              "IPY_MODEL_c3db6d531b8e46ecaa0ebc42413c647a"
            ],
            "layout": "IPY_MODEL_3be4e9bfc346408b8b89bb5b6ee5fcb6"
          }
        },
        "5088da70f8a340299ca7683ac8629303": {
          "model_module": "@jupyter-widgets/controls",
          "model_name": "HTMLModel",
          "model_module_version": "1.5.0",
          "state": {
            "_dom_classes": [],
            "_model_module": "@jupyter-widgets/controls",
            "_model_module_version": "1.5.0",
            "_model_name": "HTMLModel",
            "_view_count": null,
            "_view_module": "@jupyter-widgets/controls",
            "_view_module_version": "1.5.0",
            "_view_name": "HTMLView",
            "description": "",
            "description_tooltip": null,
            "layout": "IPY_MODEL_a55e5f36c3d24a248fe76da167501210",
            "placeholder": "​",
            "style": "IPY_MODEL_6f3881cb41824b67b2a5f3432947804c",
            "value": "Downloading data: 100%"
          }
        },
        "1c7925b7017a4202b4792890d7a872ae": {
          "model_module": "@jupyter-widgets/controls",
          "model_name": "FloatProgressModel",
          "model_module_version": "1.5.0",
          "state": {
            "_dom_classes": [],
            "_model_module": "@jupyter-widgets/controls",
            "_model_module_version": "1.5.0",
            "_model_name": "FloatProgressModel",
            "_view_count": null,
            "_view_module": "@jupyter-widgets/controls",
            "_view_module_version": "1.5.0",
            "_view_name": "ProgressView",
            "bar_style": "success",
            "description": "",
            "description_tooltip": null,
            "layout": "IPY_MODEL_014d49791e8344f281ef6b9f10518c7d",
            "max": 41996509,
            "min": 0,
            "orientation": "horizontal",
            "style": "IPY_MODEL_71a609a6f61642afb9cd317d6725ace2",
            "value": 41996509
          }
        },
        "c3db6d531b8e46ecaa0ebc42413c647a": {
          "model_module": "@jupyter-widgets/controls",
          "model_name": "HTMLModel",
          "model_module_version": "1.5.0",
          "state": {
            "_dom_classes": [],
            "_model_module": "@jupyter-widgets/controls",
            "_model_module_version": "1.5.0",
            "_model_name": "HTMLModel",
            "_view_count": null,
            "_view_module": "@jupyter-widgets/controls",
            "_view_module_version": "1.5.0",
            "_view_name": "HTMLView",
            "description": "",
            "description_tooltip": null,
            "layout": "IPY_MODEL_37924065cd884085963994fab4e208df",
            "placeholder": "​",
            "style": "IPY_MODEL_09e4ce61364d4e39a6e7196aa25ccb4b",
            "value": " 42.0M/42.0M [00:01&lt;00:00, 24.6MB/s]"
          }
        },
        "3be4e9bfc346408b8b89bb5b6ee5fcb6": {
          "model_module": "@jupyter-widgets/base",
          "model_name": "LayoutModel",
          "model_module_version": "1.2.0",
          "state": {
            "_model_module": "@jupyter-widgets/base",
            "_model_module_version": "1.2.0",
            "_model_name": "LayoutModel",
            "_view_count": null,
            "_view_module": "@jupyter-widgets/base",
            "_view_module_version": "1.2.0",
            "_view_name": "LayoutView",
            "align_content": null,
            "align_items": null,
            "align_self": null,
            "border": null,
            "bottom": null,
            "display": null,
            "flex": null,
            "flex_flow": null,
            "grid_area": null,
            "grid_auto_columns": null,
            "grid_auto_flow": null,
            "grid_auto_rows": null,
            "grid_column": null,
            "grid_gap": null,
            "grid_row": null,
            "grid_template_areas": null,
            "grid_template_columns": null,
            "grid_template_rows": null,
            "height": null,
            "justify_content": null,
            "justify_items": null,
            "left": null,
            "margin": null,
            "max_height": null,
            "max_width": null,
            "min_height": null,
            "min_width": null,
            "object_fit": null,
            "object_position": null,
            "order": null,
            "overflow": null,
            "overflow_x": null,
            "overflow_y": null,
            "padding": null,
            "right": null,
            "top": null,
            "visibility": null,
            "width": null
          }
        },
        "a55e5f36c3d24a248fe76da167501210": {
          "model_module": "@jupyter-widgets/base",
          "model_name": "LayoutModel",
          "model_module_version": "1.2.0",
          "state": {
            "_model_module": "@jupyter-widgets/base",
            "_model_module_version": "1.2.0",
            "_model_name": "LayoutModel",
            "_view_count": null,
            "_view_module": "@jupyter-widgets/base",
            "_view_module_version": "1.2.0",
            "_view_name": "LayoutView",
            "align_content": null,
            "align_items": null,
            "align_self": null,
            "border": null,
            "bottom": null,
            "display": null,
            "flex": null,
            "flex_flow": null,
            "grid_area": null,
            "grid_auto_columns": null,
            "grid_auto_flow": null,
            "grid_auto_rows": null,
            "grid_column": null,
            "grid_gap": null,
            "grid_row": null,
            "grid_template_areas": null,
            "grid_template_columns": null,
            "grid_template_rows": null,
            "height": null,
            "justify_content": null,
            "justify_items": null,
            "left": null,
            "margin": null,
            "max_height": null,
            "max_width": null,
            "min_height": null,
            "min_width": null,
            "object_fit": null,
            "object_position": null,
            "order": null,
            "overflow": null,
            "overflow_x": null,
            "overflow_y": null,
            "padding": null,
            "right": null,
            "top": null,
            "visibility": null,
            "width": null
          }
        },
        "6f3881cb41824b67b2a5f3432947804c": {
          "model_module": "@jupyter-widgets/controls",
          "model_name": "DescriptionStyleModel",
          "model_module_version": "1.5.0",
          "state": {
            "_model_module": "@jupyter-widgets/controls",
            "_model_module_version": "1.5.0",
            "_model_name": "DescriptionStyleModel",
            "_view_count": null,
            "_view_module": "@jupyter-widgets/base",
            "_view_module_version": "1.2.0",
            "_view_name": "StyleView",
            "description_width": ""
          }
        },
        "014d49791e8344f281ef6b9f10518c7d": {
          "model_module": "@jupyter-widgets/base",
          "model_name": "LayoutModel",
          "model_module_version": "1.2.0",
          "state": {
            "_model_module": "@jupyter-widgets/base",
            "_model_module_version": "1.2.0",
            "_model_name": "LayoutModel",
            "_view_count": null,
            "_view_module": "@jupyter-widgets/base",
            "_view_module_version": "1.2.0",
            "_view_name": "LayoutView",
            "align_content": null,
            "align_items": null,
            "align_self": null,
            "border": null,
            "bottom": null,
            "display": null,
            "flex": null,
            "flex_flow": null,
            "grid_area": null,
            "grid_auto_columns": null,
            "grid_auto_flow": null,
            "grid_auto_rows": null,
            "grid_column": null,
            "grid_gap": null,
            "grid_row": null,
            "grid_template_areas": null,
            "grid_template_columns": null,
            "grid_template_rows": null,
            "height": null,
            "justify_content": null,
            "justify_items": null,
            "left": null,
            "margin": null,
            "max_height": null,
            "max_width": null,
            "min_height": null,
            "min_width": null,
            "object_fit": null,
            "object_position": null,
            "order": null,
            "overflow": null,
            "overflow_x": null,
            "overflow_y": null,
            "padding": null,
            "right": null,
            "top": null,
            "visibility": null,
            "width": null
          }
        },
        "71a609a6f61642afb9cd317d6725ace2": {
          "model_module": "@jupyter-widgets/controls",
          "model_name": "ProgressStyleModel",
          "model_module_version": "1.5.0",
          "state": {
            "_model_module": "@jupyter-widgets/controls",
            "_model_module_version": "1.5.0",
            "_model_name": "ProgressStyleModel",
            "_view_count": null,
            "_view_module": "@jupyter-widgets/base",
            "_view_module_version": "1.2.0",
            "_view_name": "StyleView",
            "bar_color": null,
            "description_width": ""
          }
        },
        "37924065cd884085963994fab4e208df": {
          "model_module": "@jupyter-widgets/base",
          "model_name": "LayoutModel",
          "model_module_version": "1.2.0",
          "state": {
            "_model_module": "@jupyter-widgets/base",
            "_model_module_version": "1.2.0",
            "_model_name": "LayoutModel",
            "_view_count": null,
            "_view_module": "@jupyter-widgets/base",
            "_view_module_version": "1.2.0",
            "_view_name": "LayoutView",
            "align_content": null,
            "align_items": null,
            "align_self": null,
            "border": null,
            "bottom": null,
            "display": null,
            "flex": null,
            "flex_flow": null,
            "grid_area": null,
            "grid_auto_columns": null,
            "grid_auto_flow": null,
            "grid_auto_rows": null,
            "grid_column": null,
            "grid_gap": null,
            "grid_row": null,
            "grid_template_areas": null,
            "grid_template_columns": null,
            "grid_template_rows": null,
            "height": null,
            "justify_content": null,
            "justify_items": null,
            "left": null,
            "margin": null,
            "max_height": null,
            "max_width": null,
            "min_height": null,
            "min_width": null,
            "object_fit": null,
            "object_position": null,
            "order": null,
            "overflow": null,
            "overflow_x": null,
            "overflow_y": null,
            "padding": null,
            "right": null,
            "top": null,
            "visibility": null,
            "width": null
          }
        },
        "09e4ce61364d4e39a6e7196aa25ccb4b": {
          "model_module": "@jupyter-widgets/controls",
          "model_name": "DescriptionStyleModel",
          "model_module_version": "1.5.0",
          "state": {
            "_model_module": "@jupyter-widgets/controls",
            "_model_module_version": "1.5.0",
            "_model_name": "DescriptionStyleModel",
            "_view_count": null,
            "_view_module": "@jupyter-widgets/base",
            "_view_module_version": "1.2.0",
            "_view_name": "StyleView",
            "description_width": ""
          }
        },
        "5b82013cb74546b1a1e14e269aacddc7": {
          "model_module": "@jupyter-widgets/controls",
          "model_name": "HBoxModel",
          "model_module_version": "1.5.0",
          "state": {
            "_dom_classes": [],
            "_model_module": "@jupyter-widgets/controls",
            "_model_module_version": "1.5.0",
            "_model_name": "HBoxModel",
            "_view_count": null,
            "_view_module": "@jupyter-widgets/controls",
            "_view_module_version": "1.5.0",
            "_view_name": "HBoxView",
            "box_style": "",
            "children": [
              "IPY_MODEL_62874df911e046f7bba06128dc922b02",
              "IPY_MODEL_6f72cf0fbba7472e8e3acdfe8c997c5b",
              "IPY_MODEL_3468fe5c2a33484ca08332f13c246f11"
            ],
            "layout": "IPY_MODEL_6a4763edc99c43b99b14fb1df20a62f7"
          }
        },
        "62874df911e046f7bba06128dc922b02": {
          "model_module": "@jupyter-widgets/controls",
          "model_name": "HTMLModel",
          "model_module_version": "1.5.0",
          "state": {
            "_dom_classes": [],
            "_model_module": "@jupyter-widgets/controls",
            "_model_module_version": "1.5.0",
            "_model_name": "HTMLModel",
            "_view_count": null,
            "_view_module": "@jupyter-widgets/controls",
            "_view_module_version": "1.5.0",
            "_view_name": "HTMLView",
            "description": "",
            "description_tooltip": null,
            "layout": "IPY_MODEL_04db9e6a09b24f0d828aa2a0c58bc4d8",
            "placeholder": "​",
            "style": "IPY_MODEL_8faf7b87040b494b8410b099e3246e8e",
            "value": "Generating train split: 100%"
          }
        },
        "6f72cf0fbba7472e8e3acdfe8c997c5b": {
          "model_module": "@jupyter-widgets/controls",
          "model_name": "FloatProgressModel",
          "model_module_version": "1.5.0",
          "state": {
            "_dom_classes": [],
            "_model_module": "@jupyter-widgets/controls",
            "_model_module_version": "1.5.0",
            "_model_name": "FloatProgressModel",
            "_view_count": null,
            "_view_module": "@jupyter-widgets/controls",
            "_view_module_version": "1.5.0",
            "_view_name": "ProgressView",
            "bar_style": "success",
            "description": "",
            "description_tooltip": null,
            "layout": "IPY_MODEL_6c926a9fd6864622bb061fd934410c1a",
            "max": 25000,
            "min": 0,
            "orientation": "horizontal",
            "style": "IPY_MODEL_e5112fe53953474ab07a16aae1958dcc",
            "value": 25000
          }
        },
        "3468fe5c2a33484ca08332f13c246f11": {
          "model_module": "@jupyter-widgets/controls",
          "model_name": "HTMLModel",
          "model_module_version": "1.5.0",
          "state": {
            "_dom_classes": [],
            "_model_module": "@jupyter-widgets/controls",
            "_model_module_version": "1.5.0",
            "_model_name": "HTMLModel",
            "_view_count": null,
            "_view_module": "@jupyter-widgets/controls",
            "_view_module_version": "1.5.0",
            "_view_name": "HTMLView",
            "description": "",
            "description_tooltip": null,
            "layout": "IPY_MODEL_7b126eec46e74d299183bbf67993b1f5",
            "placeholder": "​",
            "style": "IPY_MODEL_a30c7f5ca5b546b8be9cde4462148acf",
            "value": " 25000/25000 [00:00&lt;00:00, 75914.59 examples/s]"
          }
        },
        "6a4763edc99c43b99b14fb1df20a62f7": {
          "model_module": "@jupyter-widgets/base",
          "model_name": "LayoutModel",
          "model_module_version": "1.2.0",
          "state": {
            "_model_module": "@jupyter-widgets/base",
            "_model_module_version": "1.2.0",
            "_model_name": "LayoutModel",
            "_view_count": null,
            "_view_module": "@jupyter-widgets/base",
            "_view_module_version": "1.2.0",
            "_view_name": "LayoutView",
            "align_content": null,
            "align_items": null,
            "align_self": null,
            "border": null,
            "bottom": null,
            "display": null,
            "flex": null,
            "flex_flow": null,
            "grid_area": null,
            "grid_auto_columns": null,
            "grid_auto_flow": null,
            "grid_auto_rows": null,
            "grid_column": null,
            "grid_gap": null,
            "grid_row": null,
            "grid_template_areas": null,
            "grid_template_columns": null,
            "grid_template_rows": null,
            "height": null,
            "justify_content": null,
            "justify_items": null,
            "left": null,
            "margin": null,
            "max_height": null,
            "max_width": null,
            "min_height": null,
            "min_width": null,
            "object_fit": null,
            "object_position": null,
            "order": null,
            "overflow": null,
            "overflow_x": null,
            "overflow_y": null,
            "padding": null,
            "right": null,
            "top": null,
            "visibility": null,
            "width": null
          }
        },
        "04db9e6a09b24f0d828aa2a0c58bc4d8": {
          "model_module": "@jupyter-widgets/base",
          "model_name": "LayoutModel",
          "model_module_version": "1.2.0",
          "state": {
            "_model_module": "@jupyter-widgets/base",
            "_model_module_version": "1.2.0",
            "_model_name": "LayoutModel",
            "_view_count": null,
            "_view_module": "@jupyter-widgets/base",
            "_view_module_version": "1.2.0",
            "_view_name": "LayoutView",
            "align_content": null,
            "align_items": null,
            "align_self": null,
            "border": null,
            "bottom": null,
            "display": null,
            "flex": null,
            "flex_flow": null,
            "grid_area": null,
            "grid_auto_columns": null,
            "grid_auto_flow": null,
            "grid_auto_rows": null,
            "grid_column": null,
            "grid_gap": null,
            "grid_row": null,
            "grid_template_areas": null,
            "grid_template_columns": null,
            "grid_template_rows": null,
            "height": null,
            "justify_content": null,
            "justify_items": null,
            "left": null,
            "margin": null,
            "max_height": null,
            "max_width": null,
            "min_height": null,
            "min_width": null,
            "object_fit": null,
            "object_position": null,
            "order": null,
            "overflow": null,
            "overflow_x": null,
            "overflow_y": null,
            "padding": null,
            "right": null,
            "top": null,
            "visibility": null,
            "width": null
          }
        },
        "8faf7b87040b494b8410b099e3246e8e": {
          "model_module": "@jupyter-widgets/controls",
          "model_name": "DescriptionStyleModel",
          "model_module_version": "1.5.0",
          "state": {
            "_model_module": "@jupyter-widgets/controls",
            "_model_module_version": "1.5.0",
            "_model_name": "DescriptionStyleModel",
            "_view_count": null,
            "_view_module": "@jupyter-widgets/base",
            "_view_module_version": "1.2.0",
            "_view_name": "StyleView",
            "description_width": ""
          }
        },
        "6c926a9fd6864622bb061fd934410c1a": {
          "model_module": "@jupyter-widgets/base",
          "model_name": "LayoutModel",
          "model_module_version": "1.2.0",
          "state": {
            "_model_module": "@jupyter-widgets/base",
            "_model_module_version": "1.2.0",
            "_model_name": "LayoutModel",
            "_view_count": null,
            "_view_module": "@jupyter-widgets/base",
            "_view_module_version": "1.2.0",
            "_view_name": "LayoutView",
            "align_content": null,
            "align_items": null,
            "align_self": null,
            "border": null,
            "bottom": null,
            "display": null,
            "flex": null,
            "flex_flow": null,
            "grid_area": null,
            "grid_auto_columns": null,
            "grid_auto_flow": null,
            "grid_auto_rows": null,
            "grid_column": null,
            "grid_gap": null,
            "grid_row": null,
            "grid_template_areas": null,
            "grid_template_columns": null,
            "grid_template_rows": null,
            "height": null,
            "justify_content": null,
            "justify_items": null,
            "left": null,
            "margin": null,
            "max_height": null,
            "max_width": null,
            "min_height": null,
            "min_width": null,
            "object_fit": null,
            "object_position": null,
            "order": null,
            "overflow": null,
            "overflow_x": null,
            "overflow_y": null,
            "padding": null,
            "right": null,
            "top": null,
            "visibility": null,
            "width": null
          }
        },
        "e5112fe53953474ab07a16aae1958dcc": {
          "model_module": "@jupyter-widgets/controls",
          "model_name": "ProgressStyleModel",
          "model_module_version": "1.5.0",
          "state": {
            "_model_module": "@jupyter-widgets/controls",
            "_model_module_version": "1.5.0",
            "_model_name": "ProgressStyleModel",
            "_view_count": null,
            "_view_module": "@jupyter-widgets/base",
            "_view_module_version": "1.2.0",
            "_view_name": "StyleView",
            "bar_color": null,
            "description_width": ""
          }
        },
        "7b126eec46e74d299183bbf67993b1f5": {
          "model_module": "@jupyter-widgets/base",
          "model_name": "LayoutModel",
          "model_module_version": "1.2.0",
          "state": {
            "_model_module": "@jupyter-widgets/base",
            "_model_module_version": "1.2.0",
            "_model_name": "LayoutModel",
            "_view_count": null,
            "_view_module": "@jupyter-widgets/base",
            "_view_module_version": "1.2.0",
            "_view_name": "LayoutView",
            "align_content": null,
            "align_items": null,
            "align_self": null,
            "border": null,
            "bottom": null,
            "display": null,
            "flex": null,
            "flex_flow": null,
            "grid_area": null,
            "grid_auto_columns": null,
            "grid_auto_flow": null,
            "grid_auto_rows": null,
            "grid_column": null,
            "grid_gap": null,
            "grid_row": null,
            "grid_template_areas": null,
            "grid_template_columns": null,
            "grid_template_rows": null,
            "height": null,
            "justify_content": null,
            "justify_items": null,
            "left": null,
            "margin": null,
            "max_height": null,
            "max_width": null,
            "min_height": null,
            "min_width": null,
            "object_fit": null,
            "object_position": null,
            "order": null,
            "overflow": null,
            "overflow_x": null,
            "overflow_y": null,
            "padding": null,
            "right": null,
            "top": null,
            "visibility": null,
            "width": null
          }
        },
        "a30c7f5ca5b546b8be9cde4462148acf": {
          "model_module": "@jupyter-widgets/controls",
          "model_name": "DescriptionStyleModel",
          "model_module_version": "1.5.0",
          "state": {
            "_model_module": "@jupyter-widgets/controls",
            "_model_module_version": "1.5.0",
            "_model_name": "DescriptionStyleModel",
            "_view_count": null,
            "_view_module": "@jupyter-widgets/base",
            "_view_module_version": "1.2.0",
            "_view_name": "StyleView",
            "description_width": ""
          }
        },
        "060ca6dea699478db7541f09e1d7a954": {
          "model_module": "@jupyter-widgets/controls",
          "model_name": "HBoxModel",
          "model_module_version": "1.5.0",
          "state": {
            "_dom_classes": [],
            "_model_module": "@jupyter-widgets/controls",
            "_model_module_version": "1.5.0",
            "_model_name": "HBoxModel",
            "_view_count": null,
            "_view_module": "@jupyter-widgets/controls",
            "_view_module_version": "1.5.0",
            "_view_name": "HBoxView",
            "box_style": "",
            "children": [
              "IPY_MODEL_8f633dc51be44eb48c717357593a51e8",
              "IPY_MODEL_02ade8edd38b4282a9e2912dc3e51154",
              "IPY_MODEL_5e7b36a127e04eb6acb880d1c962f526"
            ],
            "layout": "IPY_MODEL_e78323f461834ec5975179fa5570b902"
          }
        },
        "8f633dc51be44eb48c717357593a51e8": {
          "model_module": "@jupyter-widgets/controls",
          "model_name": "HTMLModel",
          "model_module_version": "1.5.0",
          "state": {
            "_dom_classes": [],
            "_model_module": "@jupyter-widgets/controls",
            "_model_module_version": "1.5.0",
            "_model_name": "HTMLModel",
            "_view_count": null,
            "_view_module": "@jupyter-widgets/controls",
            "_view_module_version": "1.5.0",
            "_view_name": "HTMLView",
            "description": "",
            "description_tooltip": null,
            "layout": "IPY_MODEL_6d0d753a798742c2b89011b383730999",
            "placeholder": "​",
            "style": "IPY_MODEL_2d079e438b204a4fb20bd4ab91d8fc9d",
            "value": "Generating test split: 100%"
          }
        },
        "02ade8edd38b4282a9e2912dc3e51154": {
          "model_module": "@jupyter-widgets/controls",
          "model_name": "FloatProgressModel",
          "model_module_version": "1.5.0",
          "state": {
            "_dom_classes": [],
            "_model_module": "@jupyter-widgets/controls",
            "_model_module_version": "1.5.0",
            "_model_name": "FloatProgressModel",
            "_view_count": null,
            "_view_module": "@jupyter-widgets/controls",
            "_view_module_version": "1.5.0",
            "_view_name": "ProgressView",
            "bar_style": "success",
            "description": "",
            "description_tooltip": null,
            "layout": "IPY_MODEL_478991fb504144b0b98b042df8bed6cf",
            "max": 25000,
            "min": 0,
            "orientation": "horizontal",
            "style": "IPY_MODEL_fc9d7e17c9cc4545a3c0b6113fa39620",
            "value": 25000
          }
        },
        "5e7b36a127e04eb6acb880d1c962f526": {
          "model_module": "@jupyter-widgets/controls",
          "model_name": "HTMLModel",
          "model_module_version": "1.5.0",
          "state": {
            "_dom_classes": [],
            "_model_module": "@jupyter-widgets/controls",
            "_model_module_version": "1.5.0",
            "_model_name": "HTMLModel",
            "_view_count": null,
            "_view_module": "@jupyter-widgets/controls",
            "_view_module_version": "1.5.0",
            "_view_name": "HTMLView",
            "description": "",
            "description_tooltip": null,
            "layout": "IPY_MODEL_380eba05429d4b92a5b13e4e8429c720",
            "placeholder": "​",
            "style": "IPY_MODEL_67ecf6b489954c00a7e34e78825b0db7",
            "value": " 25000/25000 [00:00&lt;00:00, 76208.98 examples/s]"
          }
        },
        "e78323f461834ec5975179fa5570b902": {
          "model_module": "@jupyter-widgets/base",
          "model_name": "LayoutModel",
          "model_module_version": "1.2.0",
          "state": {
            "_model_module": "@jupyter-widgets/base",
            "_model_module_version": "1.2.0",
            "_model_name": "LayoutModel",
            "_view_count": null,
            "_view_module": "@jupyter-widgets/base",
            "_view_module_version": "1.2.0",
            "_view_name": "LayoutView",
            "align_content": null,
            "align_items": null,
            "align_self": null,
            "border": null,
            "bottom": null,
            "display": null,
            "flex": null,
            "flex_flow": null,
            "grid_area": null,
            "grid_auto_columns": null,
            "grid_auto_flow": null,
            "grid_auto_rows": null,
            "grid_column": null,
            "grid_gap": null,
            "grid_row": null,
            "grid_template_areas": null,
            "grid_template_columns": null,
            "grid_template_rows": null,
            "height": null,
            "justify_content": null,
            "justify_items": null,
            "left": null,
            "margin": null,
            "max_height": null,
            "max_width": null,
            "min_height": null,
            "min_width": null,
            "object_fit": null,
            "object_position": null,
            "order": null,
            "overflow": null,
            "overflow_x": null,
            "overflow_y": null,
            "padding": null,
            "right": null,
            "top": null,
            "visibility": null,
            "width": null
          }
        },
        "6d0d753a798742c2b89011b383730999": {
          "model_module": "@jupyter-widgets/base",
          "model_name": "LayoutModel",
          "model_module_version": "1.2.0",
          "state": {
            "_model_module": "@jupyter-widgets/base",
            "_model_module_version": "1.2.0",
            "_model_name": "LayoutModel",
            "_view_count": null,
            "_view_module": "@jupyter-widgets/base",
            "_view_module_version": "1.2.0",
            "_view_name": "LayoutView",
            "align_content": null,
            "align_items": null,
            "align_self": null,
            "border": null,
            "bottom": null,
            "display": null,
            "flex": null,
            "flex_flow": null,
            "grid_area": null,
            "grid_auto_columns": null,
            "grid_auto_flow": null,
            "grid_auto_rows": null,
            "grid_column": null,
            "grid_gap": null,
            "grid_row": null,
            "grid_template_areas": null,
            "grid_template_columns": null,
            "grid_template_rows": null,
            "height": null,
            "justify_content": null,
            "justify_items": null,
            "left": null,
            "margin": null,
            "max_height": null,
            "max_width": null,
            "min_height": null,
            "min_width": null,
            "object_fit": null,
            "object_position": null,
            "order": null,
            "overflow": null,
            "overflow_x": null,
            "overflow_y": null,
            "padding": null,
            "right": null,
            "top": null,
            "visibility": null,
            "width": null
          }
        },
        "2d079e438b204a4fb20bd4ab91d8fc9d": {
          "model_module": "@jupyter-widgets/controls",
          "model_name": "DescriptionStyleModel",
          "model_module_version": "1.5.0",
          "state": {
            "_model_module": "@jupyter-widgets/controls",
            "_model_module_version": "1.5.0",
            "_model_name": "DescriptionStyleModel",
            "_view_count": null,
            "_view_module": "@jupyter-widgets/base",
            "_view_module_version": "1.2.0",
            "_view_name": "StyleView",
            "description_width": ""
          }
        },
        "478991fb504144b0b98b042df8bed6cf": {
          "model_module": "@jupyter-widgets/base",
          "model_name": "LayoutModel",
          "model_module_version": "1.2.0",
          "state": {
            "_model_module": "@jupyter-widgets/base",
            "_model_module_version": "1.2.0",
            "_model_name": "LayoutModel",
            "_view_count": null,
            "_view_module": "@jupyter-widgets/base",
            "_view_module_version": "1.2.0",
            "_view_name": "LayoutView",
            "align_content": null,
            "align_items": null,
            "align_self": null,
            "border": null,
            "bottom": null,
            "display": null,
            "flex": null,
            "flex_flow": null,
            "grid_area": null,
            "grid_auto_columns": null,
            "grid_auto_flow": null,
            "grid_auto_rows": null,
            "grid_column": null,
            "grid_gap": null,
            "grid_row": null,
            "grid_template_areas": null,
            "grid_template_columns": null,
            "grid_template_rows": null,
            "height": null,
            "justify_content": null,
            "justify_items": null,
            "left": null,
            "margin": null,
            "max_height": null,
            "max_width": null,
            "min_height": null,
            "min_width": null,
            "object_fit": null,
            "object_position": null,
            "order": null,
            "overflow": null,
            "overflow_x": null,
            "overflow_y": null,
            "padding": null,
            "right": null,
            "top": null,
            "visibility": null,
            "width": null
          }
        },
        "fc9d7e17c9cc4545a3c0b6113fa39620": {
          "model_module": "@jupyter-widgets/controls",
          "model_name": "ProgressStyleModel",
          "model_module_version": "1.5.0",
          "state": {
            "_model_module": "@jupyter-widgets/controls",
            "_model_module_version": "1.5.0",
            "_model_name": "ProgressStyleModel",
            "_view_count": null,
            "_view_module": "@jupyter-widgets/base",
            "_view_module_version": "1.2.0",
            "_view_name": "StyleView",
            "bar_color": null,
            "description_width": ""
          }
        },
        "380eba05429d4b92a5b13e4e8429c720": {
          "model_module": "@jupyter-widgets/base",
          "model_name": "LayoutModel",
          "model_module_version": "1.2.0",
          "state": {
            "_model_module": "@jupyter-widgets/base",
            "_model_module_version": "1.2.0",
            "_model_name": "LayoutModel",
            "_view_count": null,
            "_view_module": "@jupyter-widgets/base",
            "_view_module_version": "1.2.0",
            "_view_name": "LayoutView",
            "align_content": null,
            "align_items": null,
            "align_self": null,
            "border": null,
            "bottom": null,
            "display": null,
            "flex": null,
            "flex_flow": null,
            "grid_area": null,
            "grid_auto_columns": null,
            "grid_auto_flow": null,
            "grid_auto_rows": null,
            "grid_column": null,
            "grid_gap": null,
            "grid_row": null,
            "grid_template_areas": null,
            "grid_template_columns": null,
            "grid_template_rows": null,
            "height": null,
            "justify_content": null,
            "justify_items": null,
            "left": null,
            "margin": null,
            "max_height": null,
            "max_width": null,
            "min_height": null,
            "min_width": null,
            "object_fit": null,
            "object_position": null,
            "order": null,
            "overflow": null,
            "overflow_x": null,
            "overflow_y": null,
            "padding": null,
            "right": null,
            "top": null,
            "visibility": null,
            "width": null
          }
        },
        "67ecf6b489954c00a7e34e78825b0db7": {
          "model_module": "@jupyter-widgets/controls",
          "model_name": "DescriptionStyleModel",
          "model_module_version": "1.5.0",
          "state": {
            "_model_module": "@jupyter-widgets/controls",
            "_model_module_version": "1.5.0",
            "_model_name": "DescriptionStyleModel",
            "_view_count": null,
            "_view_module": "@jupyter-widgets/base",
            "_view_module_version": "1.2.0",
            "_view_name": "StyleView",
            "description_width": ""
          }
        },
        "18f814f7f2a546c79aa488e509a71b05": {
          "model_module": "@jupyter-widgets/controls",
          "model_name": "HBoxModel",
          "model_module_version": "1.5.0",
          "state": {
            "_dom_classes": [],
            "_model_module": "@jupyter-widgets/controls",
            "_model_module_version": "1.5.0",
            "_model_name": "HBoxModel",
            "_view_count": null,
            "_view_module": "@jupyter-widgets/controls",
            "_view_module_version": "1.5.0",
            "_view_name": "HBoxView",
            "box_style": "",
            "children": [
              "IPY_MODEL_866a74323b7a4f63b009e43d42ce6581",
              "IPY_MODEL_347103a349b94b868d231a3bcae6d3f1",
              "IPY_MODEL_7c1b9a0d42164a3797ed3609693fdce6"
            ],
            "layout": "IPY_MODEL_af4ee65874bb430094239fddfa75bd1b"
          }
        },
        "866a74323b7a4f63b009e43d42ce6581": {
          "model_module": "@jupyter-widgets/controls",
          "model_name": "HTMLModel",
          "model_module_version": "1.5.0",
          "state": {
            "_dom_classes": [],
            "_model_module": "@jupyter-widgets/controls",
            "_model_module_version": "1.5.0",
            "_model_name": "HTMLModel",
            "_view_count": null,
            "_view_module": "@jupyter-widgets/controls",
            "_view_module_version": "1.5.0",
            "_view_name": "HTMLView",
            "description": "",
            "description_tooltip": null,
            "layout": "IPY_MODEL_8be7f8464dfc4c919bac5cc97ef1756b",
            "placeholder": "​",
            "style": "IPY_MODEL_6ee78267fc504f808020ec46b1471a55",
            "value": "Generating unsupervised split: 100%"
          }
        },
        "347103a349b94b868d231a3bcae6d3f1": {
          "model_module": "@jupyter-widgets/controls",
          "model_name": "FloatProgressModel",
          "model_module_version": "1.5.0",
          "state": {
            "_dom_classes": [],
            "_model_module": "@jupyter-widgets/controls",
            "_model_module_version": "1.5.0",
            "_model_name": "FloatProgressModel",
            "_view_count": null,
            "_view_module": "@jupyter-widgets/controls",
            "_view_module_version": "1.5.0",
            "_view_name": "ProgressView",
            "bar_style": "success",
            "description": "",
            "description_tooltip": null,
            "layout": "IPY_MODEL_e7d53f7c00ed42d1bcfaa849157d9d63",
            "max": 50000,
            "min": 0,
            "orientation": "horizontal",
            "style": "IPY_MODEL_f99d530338be4e61818378e2b58c3c55",
            "value": 50000
          }
        },
        "7c1b9a0d42164a3797ed3609693fdce6": {
          "model_module": "@jupyter-widgets/controls",
          "model_name": "HTMLModel",
          "model_module_version": "1.5.0",
          "state": {
            "_dom_classes": [],
            "_model_module": "@jupyter-widgets/controls",
            "_model_module_version": "1.5.0",
            "_model_name": "HTMLModel",
            "_view_count": null,
            "_view_module": "@jupyter-widgets/controls",
            "_view_module_version": "1.5.0",
            "_view_name": "HTMLView",
            "description": "",
            "description_tooltip": null,
            "layout": "IPY_MODEL_6fdb3a8824aa465483852c78d96f8d75",
            "placeholder": "​",
            "style": "IPY_MODEL_96448e2d032241bda774e631761701aa",
            "value": " 50000/50000 [00:00&lt;00:00, 167734.72 examples/s]"
          }
        },
        "af4ee65874bb430094239fddfa75bd1b": {
          "model_module": "@jupyter-widgets/base",
          "model_name": "LayoutModel",
          "model_module_version": "1.2.0",
          "state": {
            "_model_module": "@jupyter-widgets/base",
            "_model_module_version": "1.2.0",
            "_model_name": "LayoutModel",
            "_view_count": null,
            "_view_module": "@jupyter-widgets/base",
            "_view_module_version": "1.2.0",
            "_view_name": "LayoutView",
            "align_content": null,
            "align_items": null,
            "align_self": null,
            "border": null,
            "bottom": null,
            "display": null,
            "flex": null,
            "flex_flow": null,
            "grid_area": null,
            "grid_auto_columns": null,
            "grid_auto_flow": null,
            "grid_auto_rows": null,
            "grid_column": null,
            "grid_gap": null,
            "grid_row": null,
            "grid_template_areas": null,
            "grid_template_columns": null,
            "grid_template_rows": null,
            "height": null,
            "justify_content": null,
            "justify_items": null,
            "left": null,
            "margin": null,
            "max_height": null,
            "max_width": null,
            "min_height": null,
            "min_width": null,
            "object_fit": null,
            "object_position": null,
            "order": null,
            "overflow": null,
            "overflow_x": null,
            "overflow_y": null,
            "padding": null,
            "right": null,
            "top": null,
            "visibility": null,
            "width": null
          }
        },
        "8be7f8464dfc4c919bac5cc97ef1756b": {
          "model_module": "@jupyter-widgets/base",
          "model_name": "LayoutModel",
          "model_module_version": "1.2.0",
          "state": {
            "_model_module": "@jupyter-widgets/base",
            "_model_module_version": "1.2.0",
            "_model_name": "LayoutModel",
            "_view_count": null,
            "_view_module": "@jupyter-widgets/base",
            "_view_module_version": "1.2.0",
            "_view_name": "LayoutView",
            "align_content": null,
            "align_items": null,
            "align_self": null,
            "border": null,
            "bottom": null,
            "display": null,
            "flex": null,
            "flex_flow": null,
            "grid_area": null,
            "grid_auto_columns": null,
            "grid_auto_flow": null,
            "grid_auto_rows": null,
            "grid_column": null,
            "grid_gap": null,
            "grid_row": null,
            "grid_template_areas": null,
            "grid_template_columns": null,
            "grid_template_rows": null,
            "height": null,
            "justify_content": null,
            "justify_items": null,
            "left": null,
            "margin": null,
            "max_height": null,
            "max_width": null,
            "min_height": null,
            "min_width": null,
            "object_fit": null,
            "object_position": null,
            "order": null,
            "overflow": null,
            "overflow_x": null,
            "overflow_y": null,
            "padding": null,
            "right": null,
            "top": null,
            "visibility": null,
            "width": null
          }
        },
        "6ee78267fc504f808020ec46b1471a55": {
          "model_module": "@jupyter-widgets/controls",
          "model_name": "DescriptionStyleModel",
          "model_module_version": "1.5.0",
          "state": {
            "_model_module": "@jupyter-widgets/controls",
            "_model_module_version": "1.5.0",
            "_model_name": "DescriptionStyleModel",
            "_view_count": null,
            "_view_module": "@jupyter-widgets/base",
            "_view_module_version": "1.2.0",
            "_view_name": "StyleView",
            "description_width": ""
          }
        },
        "e7d53f7c00ed42d1bcfaa849157d9d63": {
          "model_module": "@jupyter-widgets/base",
          "model_name": "LayoutModel",
          "model_module_version": "1.2.0",
          "state": {
            "_model_module": "@jupyter-widgets/base",
            "_model_module_version": "1.2.0",
            "_model_name": "LayoutModel",
            "_view_count": null,
            "_view_module": "@jupyter-widgets/base",
            "_view_module_version": "1.2.0",
            "_view_name": "LayoutView",
            "align_content": null,
            "align_items": null,
            "align_self": null,
            "border": null,
            "bottom": null,
            "display": null,
            "flex": null,
            "flex_flow": null,
            "grid_area": null,
            "grid_auto_columns": null,
            "grid_auto_flow": null,
            "grid_auto_rows": null,
            "grid_column": null,
            "grid_gap": null,
            "grid_row": null,
            "grid_template_areas": null,
            "grid_template_columns": null,
            "grid_template_rows": null,
            "height": null,
            "justify_content": null,
            "justify_items": null,
            "left": null,
            "margin": null,
            "max_height": null,
            "max_width": null,
            "min_height": null,
            "min_width": null,
            "object_fit": null,
            "object_position": null,
            "order": null,
            "overflow": null,
            "overflow_x": null,
            "overflow_y": null,
            "padding": null,
            "right": null,
            "top": null,
            "visibility": null,
            "width": null
          }
        },
        "f99d530338be4e61818378e2b58c3c55": {
          "model_module": "@jupyter-widgets/controls",
          "model_name": "ProgressStyleModel",
          "model_module_version": "1.5.0",
          "state": {
            "_model_module": "@jupyter-widgets/controls",
            "_model_module_version": "1.5.0",
            "_model_name": "ProgressStyleModel",
            "_view_count": null,
            "_view_module": "@jupyter-widgets/base",
            "_view_module_version": "1.2.0",
            "_view_name": "StyleView",
            "bar_color": null,
            "description_width": ""
          }
        },
        "6fdb3a8824aa465483852c78d96f8d75": {
          "model_module": "@jupyter-widgets/base",
          "model_name": "LayoutModel",
          "model_module_version": "1.2.0",
          "state": {
            "_model_module": "@jupyter-widgets/base",
            "_model_module_version": "1.2.0",
            "_model_name": "LayoutModel",
            "_view_count": null,
            "_view_module": "@jupyter-widgets/base",
            "_view_module_version": "1.2.0",
            "_view_name": "LayoutView",
            "align_content": null,
            "align_items": null,
            "align_self": null,
            "border": null,
            "bottom": null,
            "display": null,
            "flex": null,
            "flex_flow": null,
            "grid_area": null,
            "grid_auto_columns": null,
            "grid_auto_flow": null,
            "grid_auto_rows": null,
            "grid_column": null,
            "grid_gap": null,
            "grid_row": null,
            "grid_template_areas": null,
            "grid_template_columns": null,
            "grid_template_rows": null,
            "height": null,
            "justify_content": null,
            "justify_items": null,
            "left": null,
            "margin": null,
            "max_height": null,
            "max_width": null,
            "min_height": null,
            "min_width": null,
            "object_fit": null,
            "object_position": null,
            "order": null,
            "overflow": null,
            "overflow_x": null,
            "overflow_y": null,
            "padding": null,
            "right": null,
            "top": null,
            "visibility": null,
            "width": null
          }
        },
        "96448e2d032241bda774e631761701aa": {
          "model_module": "@jupyter-widgets/controls",
          "model_name": "DescriptionStyleModel",
          "model_module_version": "1.5.0",
          "state": {
            "_model_module": "@jupyter-widgets/controls",
            "_model_module_version": "1.5.0",
            "_model_name": "DescriptionStyleModel",
            "_view_count": null,
            "_view_module": "@jupyter-widgets/base",
            "_view_module_version": "1.2.0",
            "_view_name": "StyleView",
            "description_width": ""
          }
        },
        "a0b837a204d64740b423fd05f2d84bc9": {
          "model_module": "@jupyter-widgets/controls",
          "model_name": "HBoxModel",
          "model_module_version": "1.5.0",
          "state": {
            "_dom_classes": [],
            "_model_module": "@jupyter-widgets/controls",
            "_model_module_version": "1.5.0",
            "_model_name": "HBoxModel",
            "_view_count": null,
            "_view_module": "@jupyter-widgets/controls",
            "_view_module_version": "1.5.0",
            "_view_name": "HBoxView",
            "box_style": "",
            "children": [
              "IPY_MODEL_d9efcd2c3b33475d9376bd54224b085a",
              "IPY_MODEL_9fab5f363e6e4c079ad53c115de4875c",
              "IPY_MODEL_942d98e780404296a331b020c4bf12d5"
            ],
            "layout": "IPY_MODEL_3691a3014571457e924ce11eb0b3993e"
          }
        },
        "d9efcd2c3b33475d9376bd54224b085a": {
          "model_module": "@jupyter-widgets/controls",
          "model_name": "HTMLModel",
          "model_module_version": "1.5.0",
          "state": {
            "_dom_classes": [],
            "_model_module": "@jupyter-widgets/controls",
            "_model_module_version": "1.5.0",
            "_model_name": "HTMLModel",
            "_view_count": null,
            "_view_module": "@jupyter-widgets/controls",
            "_view_module_version": "1.5.0",
            "_view_name": "HTMLView",
            "description": "",
            "description_tooltip": null,
            "layout": "IPY_MODEL_915bdf2585cc4c7d9262b65d53a8cbdb",
            "placeholder": "​",
            "style": "IPY_MODEL_45086a9d4e2642cdae61252941cdce35",
            "value": "Map: 100%"
          }
        },
        "9fab5f363e6e4c079ad53c115de4875c": {
          "model_module": "@jupyter-widgets/controls",
          "model_name": "FloatProgressModel",
          "model_module_version": "1.5.0",
          "state": {
            "_dom_classes": [],
            "_model_module": "@jupyter-widgets/controls",
            "_model_module_version": "1.5.0",
            "_model_name": "FloatProgressModel",
            "_view_count": null,
            "_view_module": "@jupyter-widgets/controls",
            "_view_module_version": "1.5.0",
            "_view_name": "ProgressView",
            "bar_style": "success",
            "description": "",
            "description_tooltip": null,
            "layout": "IPY_MODEL_6d4d436939364229b0f859353274daf1",
            "max": 25000,
            "min": 0,
            "orientation": "horizontal",
            "style": "IPY_MODEL_f553b84bc98b4b0fa0679a747ce3cf2e",
            "value": 25000
          }
        },
        "942d98e780404296a331b020c4bf12d5": {
          "model_module": "@jupyter-widgets/controls",
          "model_name": "HTMLModel",
          "model_module_version": "1.5.0",
          "state": {
            "_dom_classes": [],
            "_model_module": "@jupyter-widgets/controls",
            "_model_module_version": "1.5.0",
            "_model_name": "HTMLModel",
            "_view_count": null,
            "_view_module": "@jupyter-widgets/controls",
            "_view_module_version": "1.5.0",
            "_view_name": "HTMLView",
            "description": "",
            "description_tooltip": null,
            "layout": "IPY_MODEL_f9e4464f87b246b58e8820ebcc2eee81",
            "placeholder": "​",
            "style": "IPY_MODEL_1669ead2fd954737a73439f3795aa625",
            "value": " 25000/25000 [00:26&lt;00:00, 989.92 examples/s]"
          }
        },
        "3691a3014571457e924ce11eb0b3993e": {
          "model_module": "@jupyter-widgets/base",
          "model_name": "LayoutModel",
          "model_module_version": "1.2.0",
          "state": {
            "_model_module": "@jupyter-widgets/base",
            "_model_module_version": "1.2.0",
            "_model_name": "LayoutModel",
            "_view_count": null,
            "_view_module": "@jupyter-widgets/base",
            "_view_module_version": "1.2.0",
            "_view_name": "LayoutView",
            "align_content": null,
            "align_items": null,
            "align_self": null,
            "border": null,
            "bottom": null,
            "display": null,
            "flex": null,
            "flex_flow": null,
            "grid_area": null,
            "grid_auto_columns": null,
            "grid_auto_flow": null,
            "grid_auto_rows": null,
            "grid_column": null,
            "grid_gap": null,
            "grid_row": null,
            "grid_template_areas": null,
            "grid_template_columns": null,
            "grid_template_rows": null,
            "height": null,
            "justify_content": null,
            "justify_items": null,
            "left": null,
            "margin": null,
            "max_height": null,
            "max_width": null,
            "min_height": null,
            "min_width": null,
            "object_fit": null,
            "object_position": null,
            "order": null,
            "overflow": null,
            "overflow_x": null,
            "overflow_y": null,
            "padding": null,
            "right": null,
            "top": null,
            "visibility": null,
            "width": null
          }
        },
        "915bdf2585cc4c7d9262b65d53a8cbdb": {
          "model_module": "@jupyter-widgets/base",
          "model_name": "LayoutModel",
          "model_module_version": "1.2.0",
          "state": {
            "_model_module": "@jupyter-widgets/base",
            "_model_module_version": "1.2.0",
            "_model_name": "LayoutModel",
            "_view_count": null,
            "_view_module": "@jupyter-widgets/base",
            "_view_module_version": "1.2.0",
            "_view_name": "LayoutView",
            "align_content": null,
            "align_items": null,
            "align_self": null,
            "border": null,
            "bottom": null,
            "display": null,
            "flex": null,
            "flex_flow": null,
            "grid_area": null,
            "grid_auto_columns": null,
            "grid_auto_flow": null,
            "grid_auto_rows": null,
            "grid_column": null,
            "grid_gap": null,
            "grid_row": null,
            "grid_template_areas": null,
            "grid_template_columns": null,
            "grid_template_rows": null,
            "height": null,
            "justify_content": null,
            "justify_items": null,
            "left": null,
            "margin": null,
            "max_height": null,
            "max_width": null,
            "min_height": null,
            "min_width": null,
            "object_fit": null,
            "object_position": null,
            "order": null,
            "overflow": null,
            "overflow_x": null,
            "overflow_y": null,
            "padding": null,
            "right": null,
            "top": null,
            "visibility": null,
            "width": null
          }
        },
        "45086a9d4e2642cdae61252941cdce35": {
          "model_module": "@jupyter-widgets/controls",
          "model_name": "DescriptionStyleModel",
          "model_module_version": "1.5.0",
          "state": {
            "_model_module": "@jupyter-widgets/controls",
            "_model_module_version": "1.5.0",
            "_model_name": "DescriptionStyleModel",
            "_view_count": null,
            "_view_module": "@jupyter-widgets/base",
            "_view_module_version": "1.2.0",
            "_view_name": "StyleView",
            "description_width": ""
          }
        },
        "6d4d436939364229b0f859353274daf1": {
          "model_module": "@jupyter-widgets/base",
          "model_name": "LayoutModel",
          "model_module_version": "1.2.0",
          "state": {
            "_model_module": "@jupyter-widgets/base",
            "_model_module_version": "1.2.0",
            "_model_name": "LayoutModel",
            "_view_count": null,
            "_view_module": "@jupyter-widgets/base",
            "_view_module_version": "1.2.0",
            "_view_name": "LayoutView",
            "align_content": null,
            "align_items": null,
            "align_self": null,
            "border": null,
            "bottom": null,
            "display": null,
            "flex": null,
            "flex_flow": null,
            "grid_area": null,
            "grid_auto_columns": null,
            "grid_auto_flow": null,
            "grid_auto_rows": null,
            "grid_column": null,
            "grid_gap": null,
            "grid_row": null,
            "grid_template_areas": null,
            "grid_template_columns": null,
            "grid_template_rows": null,
            "height": null,
            "justify_content": null,
            "justify_items": null,
            "left": null,
            "margin": null,
            "max_height": null,
            "max_width": null,
            "min_height": null,
            "min_width": null,
            "object_fit": null,
            "object_position": null,
            "order": null,
            "overflow": null,
            "overflow_x": null,
            "overflow_y": null,
            "padding": null,
            "right": null,
            "top": null,
            "visibility": null,
            "width": null
          }
        },
        "f553b84bc98b4b0fa0679a747ce3cf2e": {
          "model_module": "@jupyter-widgets/controls",
          "model_name": "ProgressStyleModel",
          "model_module_version": "1.5.0",
          "state": {
            "_model_module": "@jupyter-widgets/controls",
            "_model_module_version": "1.5.0",
            "_model_name": "ProgressStyleModel",
            "_view_count": null,
            "_view_module": "@jupyter-widgets/base",
            "_view_module_version": "1.2.0",
            "_view_name": "StyleView",
            "bar_color": null,
            "description_width": ""
          }
        },
        "f9e4464f87b246b58e8820ebcc2eee81": {
          "model_module": "@jupyter-widgets/base",
          "model_name": "LayoutModel",
          "model_module_version": "1.2.0",
          "state": {
            "_model_module": "@jupyter-widgets/base",
            "_model_module_version": "1.2.0",
            "_model_name": "LayoutModel",
            "_view_count": null,
            "_view_module": "@jupyter-widgets/base",
            "_view_module_version": "1.2.0",
            "_view_name": "LayoutView",
            "align_content": null,
            "align_items": null,
            "align_self": null,
            "border": null,
            "bottom": null,
            "display": null,
            "flex": null,
            "flex_flow": null,
            "grid_area": null,
            "grid_auto_columns": null,
            "grid_auto_flow": null,
            "grid_auto_rows": null,
            "grid_column": null,
            "grid_gap": null,
            "grid_row": null,
            "grid_template_areas": null,
            "grid_template_columns": null,
            "grid_template_rows": null,
            "height": null,
            "justify_content": null,
            "justify_items": null,
            "left": null,
            "margin": null,
            "max_height": null,
            "max_width": null,
            "min_height": null,
            "min_width": null,
            "object_fit": null,
            "object_position": null,
            "order": null,
            "overflow": null,
            "overflow_x": null,
            "overflow_y": null,
            "padding": null,
            "right": null,
            "top": null,
            "visibility": null,
            "width": null
          }
        },
        "1669ead2fd954737a73439f3795aa625": {
          "model_module": "@jupyter-widgets/controls",
          "model_name": "DescriptionStyleModel",
          "model_module_version": "1.5.0",
          "state": {
            "_model_module": "@jupyter-widgets/controls",
            "_model_module_version": "1.5.0",
            "_model_name": "DescriptionStyleModel",
            "_view_count": null,
            "_view_module": "@jupyter-widgets/base",
            "_view_module_version": "1.2.0",
            "_view_name": "StyleView",
            "description_width": ""
          }
        },
        "388fc0f9ab8a4e5f8096613b56fda2c6": {
          "model_module": "@jupyter-widgets/controls",
          "model_name": "HBoxModel",
          "model_module_version": "1.5.0",
          "state": {
            "_dom_classes": [],
            "_model_module": "@jupyter-widgets/controls",
            "_model_module_version": "1.5.0",
            "_model_name": "HBoxModel",
            "_view_count": null,
            "_view_module": "@jupyter-widgets/controls",
            "_view_module_version": "1.5.0",
            "_view_name": "HBoxView",
            "box_style": "",
            "children": [
              "IPY_MODEL_174732cc49d143ee914f43d63b495d6e",
              "IPY_MODEL_172099f6a81e4ba5913f3efde638773b",
              "IPY_MODEL_711a94efff574dcb828a645e88fdca40"
            ],
            "layout": "IPY_MODEL_2284092da869488c8908ef5344918917"
          }
        },
        "174732cc49d143ee914f43d63b495d6e": {
          "model_module": "@jupyter-widgets/controls",
          "model_name": "HTMLModel",
          "model_module_version": "1.5.0",
          "state": {
            "_dom_classes": [],
            "_model_module": "@jupyter-widgets/controls",
            "_model_module_version": "1.5.0",
            "_model_name": "HTMLModel",
            "_view_count": null,
            "_view_module": "@jupyter-widgets/controls",
            "_view_module_version": "1.5.0",
            "_view_name": "HTMLView",
            "description": "",
            "description_tooltip": null,
            "layout": "IPY_MODEL_bdb6cf2c2c9547719a1602316841ece1",
            "placeholder": "​",
            "style": "IPY_MODEL_350bc9f1d687455bb10ea2efbc0e25a3",
            "value": "Map: 100%"
          }
        },
        "172099f6a81e4ba5913f3efde638773b": {
          "model_module": "@jupyter-widgets/controls",
          "model_name": "FloatProgressModel",
          "model_module_version": "1.5.0",
          "state": {
            "_dom_classes": [],
            "_model_module": "@jupyter-widgets/controls",
            "_model_module_version": "1.5.0",
            "_model_name": "FloatProgressModel",
            "_view_count": null,
            "_view_module": "@jupyter-widgets/controls",
            "_view_module_version": "1.5.0",
            "_view_name": "ProgressView",
            "bar_style": "success",
            "description": "",
            "description_tooltip": null,
            "layout": "IPY_MODEL_019c609e873a4baba2ccb23ff386449b",
            "max": 25000,
            "min": 0,
            "orientation": "horizontal",
            "style": "IPY_MODEL_aecd5943352249219b073d8b42fed542",
            "value": 25000
          }
        },
        "711a94efff574dcb828a645e88fdca40": {
          "model_module": "@jupyter-widgets/controls",
          "model_name": "HTMLModel",
          "model_module_version": "1.5.0",
          "state": {
            "_dom_classes": [],
            "_model_module": "@jupyter-widgets/controls",
            "_model_module_version": "1.5.0",
            "_model_name": "HTMLModel",
            "_view_count": null,
            "_view_module": "@jupyter-widgets/controls",
            "_view_module_version": "1.5.0",
            "_view_name": "HTMLView",
            "description": "",
            "description_tooltip": null,
            "layout": "IPY_MODEL_8f52bdef79684faf891b594d2e102004",
            "placeholder": "​",
            "style": "IPY_MODEL_606e628ad5844727bf3b762a8943f4bf",
            "value": " 25000/25000 [00:26&lt;00:00, 1154.09 examples/s]"
          }
        },
        "2284092da869488c8908ef5344918917": {
          "model_module": "@jupyter-widgets/base",
          "model_name": "LayoutModel",
          "model_module_version": "1.2.0",
          "state": {
            "_model_module": "@jupyter-widgets/base",
            "_model_module_version": "1.2.0",
            "_model_name": "LayoutModel",
            "_view_count": null,
            "_view_module": "@jupyter-widgets/base",
            "_view_module_version": "1.2.0",
            "_view_name": "LayoutView",
            "align_content": null,
            "align_items": null,
            "align_self": null,
            "border": null,
            "bottom": null,
            "display": null,
            "flex": null,
            "flex_flow": null,
            "grid_area": null,
            "grid_auto_columns": null,
            "grid_auto_flow": null,
            "grid_auto_rows": null,
            "grid_column": null,
            "grid_gap": null,
            "grid_row": null,
            "grid_template_areas": null,
            "grid_template_columns": null,
            "grid_template_rows": null,
            "height": null,
            "justify_content": null,
            "justify_items": null,
            "left": null,
            "margin": null,
            "max_height": null,
            "max_width": null,
            "min_height": null,
            "min_width": null,
            "object_fit": null,
            "object_position": null,
            "order": null,
            "overflow": null,
            "overflow_x": null,
            "overflow_y": null,
            "padding": null,
            "right": null,
            "top": null,
            "visibility": null,
            "width": null
          }
        },
        "bdb6cf2c2c9547719a1602316841ece1": {
          "model_module": "@jupyter-widgets/base",
          "model_name": "LayoutModel",
          "model_module_version": "1.2.0",
          "state": {
            "_model_module": "@jupyter-widgets/base",
            "_model_module_version": "1.2.0",
            "_model_name": "LayoutModel",
            "_view_count": null,
            "_view_module": "@jupyter-widgets/base",
            "_view_module_version": "1.2.0",
            "_view_name": "LayoutView",
            "align_content": null,
            "align_items": null,
            "align_self": null,
            "border": null,
            "bottom": null,
            "display": null,
            "flex": null,
            "flex_flow": null,
            "grid_area": null,
            "grid_auto_columns": null,
            "grid_auto_flow": null,
            "grid_auto_rows": null,
            "grid_column": null,
            "grid_gap": null,
            "grid_row": null,
            "grid_template_areas": null,
            "grid_template_columns": null,
            "grid_template_rows": null,
            "height": null,
            "justify_content": null,
            "justify_items": null,
            "left": null,
            "margin": null,
            "max_height": null,
            "max_width": null,
            "min_height": null,
            "min_width": null,
            "object_fit": null,
            "object_position": null,
            "order": null,
            "overflow": null,
            "overflow_x": null,
            "overflow_y": null,
            "padding": null,
            "right": null,
            "top": null,
            "visibility": null,
            "width": null
          }
        },
        "350bc9f1d687455bb10ea2efbc0e25a3": {
          "model_module": "@jupyter-widgets/controls",
          "model_name": "DescriptionStyleModel",
          "model_module_version": "1.5.0",
          "state": {
            "_model_module": "@jupyter-widgets/controls",
            "_model_module_version": "1.5.0",
            "_model_name": "DescriptionStyleModel",
            "_view_count": null,
            "_view_module": "@jupyter-widgets/base",
            "_view_module_version": "1.2.0",
            "_view_name": "StyleView",
            "description_width": ""
          }
        },
        "019c609e873a4baba2ccb23ff386449b": {
          "model_module": "@jupyter-widgets/base",
          "model_name": "LayoutModel",
          "model_module_version": "1.2.0",
          "state": {
            "_model_module": "@jupyter-widgets/base",
            "_model_module_version": "1.2.0",
            "_model_name": "LayoutModel",
            "_view_count": null,
            "_view_module": "@jupyter-widgets/base",
            "_view_module_version": "1.2.0",
            "_view_name": "LayoutView",
            "align_content": null,
            "align_items": null,
            "align_self": null,
            "border": null,
            "bottom": null,
            "display": null,
            "flex": null,
            "flex_flow": null,
            "grid_area": null,
            "grid_auto_columns": null,
            "grid_auto_flow": null,
            "grid_auto_rows": null,
            "grid_column": null,
            "grid_gap": null,
            "grid_row": null,
            "grid_template_areas": null,
            "grid_template_columns": null,
            "grid_template_rows": null,
            "height": null,
            "justify_content": null,
            "justify_items": null,
            "left": null,
            "margin": null,
            "max_height": null,
            "max_width": null,
            "min_height": null,
            "min_width": null,
            "object_fit": null,
            "object_position": null,
            "order": null,
            "overflow": null,
            "overflow_x": null,
            "overflow_y": null,
            "padding": null,
            "right": null,
            "top": null,
            "visibility": null,
            "width": null
          }
        },
        "aecd5943352249219b073d8b42fed542": {
          "model_module": "@jupyter-widgets/controls",
          "model_name": "ProgressStyleModel",
          "model_module_version": "1.5.0",
          "state": {
            "_model_module": "@jupyter-widgets/controls",
            "_model_module_version": "1.5.0",
            "_model_name": "ProgressStyleModel",
            "_view_count": null,
            "_view_module": "@jupyter-widgets/base",
            "_view_module_version": "1.2.0",
            "_view_name": "StyleView",
            "bar_color": null,
            "description_width": ""
          }
        },
        "8f52bdef79684faf891b594d2e102004": {
          "model_module": "@jupyter-widgets/base",
          "model_name": "LayoutModel",
          "model_module_version": "1.2.0",
          "state": {
            "_model_module": "@jupyter-widgets/base",
            "_model_module_version": "1.2.0",
            "_model_name": "LayoutModel",
            "_view_count": null,
            "_view_module": "@jupyter-widgets/base",
            "_view_module_version": "1.2.0",
            "_view_name": "LayoutView",
            "align_content": null,
            "align_items": null,
            "align_self": null,
            "border": null,
            "bottom": null,
            "display": null,
            "flex": null,
            "flex_flow": null,
            "grid_area": null,
            "grid_auto_columns": null,
            "grid_auto_flow": null,
            "grid_auto_rows": null,
            "grid_column": null,
            "grid_gap": null,
            "grid_row": null,
            "grid_template_areas": null,
            "grid_template_columns": null,
            "grid_template_rows": null,
            "height": null,
            "justify_content": null,
            "justify_items": null,
            "left": null,
            "margin": null,
            "max_height": null,
            "max_width": null,
            "min_height": null,
            "min_width": null,
            "object_fit": null,
            "object_position": null,
            "order": null,
            "overflow": null,
            "overflow_x": null,
            "overflow_y": null,
            "padding": null,
            "right": null,
            "top": null,
            "visibility": null,
            "width": null
          }
        },
        "606e628ad5844727bf3b762a8943f4bf": {
          "model_module": "@jupyter-widgets/controls",
          "model_name": "DescriptionStyleModel",
          "model_module_version": "1.5.0",
          "state": {
            "_model_module": "@jupyter-widgets/controls",
            "_model_module_version": "1.5.0",
            "_model_name": "DescriptionStyleModel",
            "_view_count": null,
            "_view_module": "@jupyter-widgets/base",
            "_view_module_version": "1.2.0",
            "_view_name": "StyleView",
            "description_width": ""
          }
        },
        "53dbb4cf7d834d5d8233cae111fc5778": {
          "model_module": "@jupyter-widgets/controls",
          "model_name": "HBoxModel",
          "model_module_version": "1.5.0",
          "state": {
            "_dom_classes": [],
            "_model_module": "@jupyter-widgets/controls",
            "_model_module_version": "1.5.0",
            "_model_name": "HBoxModel",
            "_view_count": null,
            "_view_module": "@jupyter-widgets/controls",
            "_view_module_version": "1.5.0",
            "_view_name": "HBoxView",
            "box_style": "",
            "children": [
              "IPY_MODEL_a5e7ce8b415e4afc970bf6939448d646",
              "IPY_MODEL_89fd189978634d6d8eb138800b943b23",
              "IPY_MODEL_20a8c46384804fd3a2e9055e11807b35"
            ],
            "layout": "IPY_MODEL_5972f28bce834c8080e99fd3ece70e8a"
          }
        },
        "a5e7ce8b415e4afc970bf6939448d646": {
          "model_module": "@jupyter-widgets/controls",
          "model_name": "HTMLModel",
          "model_module_version": "1.5.0",
          "state": {
            "_dom_classes": [],
            "_model_module": "@jupyter-widgets/controls",
            "_model_module_version": "1.5.0",
            "_model_name": "HTMLModel",
            "_view_count": null,
            "_view_module": "@jupyter-widgets/controls",
            "_view_module_version": "1.5.0",
            "_view_name": "HTMLView",
            "description": "",
            "description_tooltip": null,
            "layout": "IPY_MODEL_1b3692521c2d48ebb1d2148e5077a8a2",
            "placeholder": "​",
            "style": "IPY_MODEL_c5dfd344574e46659a444da5e087af69",
            "value": "Map: 100%"
          }
        },
        "89fd189978634d6d8eb138800b943b23": {
          "model_module": "@jupyter-widgets/controls",
          "model_name": "FloatProgressModel",
          "model_module_version": "1.5.0",
          "state": {
            "_dom_classes": [],
            "_model_module": "@jupyter-widgets/controls",
            "_model_module_version": "1.5.0",
            "_model_name": "FloatProgressModel",
            "_view_count": null,
            "_view_module": "@jupyter-widgets/controls",
            "_view_module_version": "1.5.0",
            "_view_name": "ProgressView",
            "bar_style": "success",
            "description": "",
            "description_tooltip": null,
            "layout": "IPY_MODEL_30f07b7f6004458187aeab015701255c",
            "max": 50000,
            "min": 0,
            "orientation": "horizontal",
            "style": "IPY_MODEL_afa5cba685624f579975427407d50fde",
            "value": 50000
          }
        },
        "20a8c46384804fd3a2e9055e11807b35": {
          "model_module": "@jupyter-widgets/controls",
          "model_name": "HTMLModel",
          "model_module_version": "1.5.0",
          "state": {
            "_dom_classes": [],
            "_model_module": "@jupyter-widgets/controls",
            "_model_module_version": "1.5.0",
            "_model_name": "HTMLModel",
            "_view_count": null,
            "_view_module": "@jupyter-widgets/controls",
            "_view_module_version": "1.5.0",
            "_view_name": "HTMLView",
            "description": "",
            "description_tooltip": null,
            "layout": "IPY_MODEL_d4e32d51a13d4c69a2f2897b475ae921",
            "placeholder": "​",
            "style": "IPY_MODEL_d894b8779b5245b282a591684b14568c",
            "value": " 50000/50000 [00:58&lt;00:00, 1052.52 examples/s]"
          }
        },
        "5972f28bce834c8080e99fd3ece70e8a": {
          "model_module": "@jupyter-widgets/base",
          "model_name": "LayoutModel",
          "model_module_version": "1.2.0",
          "state": {
            "_model_module": "@jupyter-widgets/base",
            "_model_module_version": "1.2.0",
            "_model_name": "LayoutModel",
            "_view_count": null,
            "_view_module": "@jupyter-widgets/base",
            "_view_module_version": "1.2.0",
            "_view_name": "LayoutView",
            "align_content": null,
            "align_items": null,
            "align_self": null,
            "border": null,
            "bottom": null,
            "display": null,
            "flex": null,
            "flex_flow": null,
            "grid_area": null,
            "grid_auto_columns": null,
            "grid_auto_flow": null,
            "grid_auto_rows": null,
            "grid_column": null,
            "grid_gap": null,
            "grid_row": null,
            "grid_template_areas": null,
            "grid_template_columns": null,
            "grid_template_rows": null,
            "height": null,
            "justify_content": null,
            "justify_items": null,
            "left": null,
            "margin": null,
            "max_height": null,
            "max_width": null,
            "min_height": null,
            "min_width": null,
            "object_fit": null,
            "object_position": null,
            "order": null,
            "overflow": null,
            "overflow_x": null,
            "overflow_y": null,
            "padding": null,
            "right": null,
            "top": null,
            "visibility": null,
            "width": null
          }
        },
        "1b3692521c2d48ebb1d2148e5077a8a2": {
          "model_module": "@jupyter-widgets/base",
          "model_name": "LayoutModel",
          "model_module_version": "1.2.0",
          "state": {
            "_model_module": "@jupyter-widgets/base",
            "_model_module_version": "1.2.0",
            "_model_name": "LayoutModel",
            "_view_count": null,
            "_view_module": "@jupyter-widgets/base",
            "_view_module_version": "1.2.0",
            "_view_name": "LayoutView",
            "align_content": null,
            "align_items": null,
            "align_self": null,
            "border": null,
            "bottom": null,
            "display": null,
            "flex": null,
            "flex_flow": null,
            "grid_area": null,
            "grid_auto_columns": null,
            "grid_auto_flow": null,
            "grid_auto_rows": null,
            "grid_column": null,
            "grid_gap": null,
            "grid_row": null,
            "grid_template_areas": null,
            "grid_template_columns": null,
            "grid_template_rows": null,
            "height": null,
            "justify_content": null,
            "justify_items": null,
            "left": null,
            "margin": null,
            "max_height": null,
            "max_width": null,
            "min_height": null,
            "min_width": null,
            "object_fit": null,
            "object_position": null,
            "order": null,
            "overflow": null,
            "overflow_x": null,
            "overflow_y": null,
            "padding": null,
            "right": null,
            "top": null,
            "visibility": null,
            "width": null
          }
        },
        "c5dfd344574e46659a444da5e087af69": {
          "model_module": "@jupyter-widgets/controls",
          "model_name": "DescriptionStyleModel",
          "model_module_version": "1.5.0",
          "state": {
            "_model_module": "@jupyter-widgets/controls",
            "_model_module_version": "1.5.0",
            "_model_name": "DescriptionStyleModel",
            "_view_count": null,
            "_view_module": "@jupyter-widgets/base",
            "_view_module_version": "1.2.0",
            "_view_name": "StyleView",
            "description_width": ""
          }
        },
        "30f07b7f6004458187aeab015701255c": {
          "model_module": "@jupyter-widgets/base",
          "model_name": "LayoutModel",
          "model_module_version": "1.2.0",
          "state": {
            "_model_module": "@jupyter-widgets/base",
            "_model_module_version": "1.2.0",
            "_model_name": "LayoutModel",
            "_view_count": null,
            "_view_module": "@jupyter-widgets/base",
            "_view_module_version": "1.2.0",
            "_view_name": "LayoutView",
            "align_content": null,
            "align_items": null,
            "align_self": null,
            "border": null,
            "bottom": null,
            "display": null,
            "flex": null,
            "flex_flow": null,
            "grid_area": null,
            "grid_auto_columns": null,
            "grid_auto_flow": null,
            "grid_auto_rows": null,
            "grid_column": null,
            "grid_gap": null,
            "grid_row": null,
            "grid_template_areas": null,
            "grid_template_columns": null,
            "grid_template_rows": null,
            "height": null,
            "justify_content": null,
            "justify_items": null,
            "left": null,
            "margin": null,
            "max_height": null,
            "max_width": null,
            "min_height": null,
            "min_width": null,
            "object_fit": null,
            "object_position": null,
            "order": null,
            "overflow": null,
            "overflow_x": null,
            "overflow_y": null,
            "padding": null,
            "right": null,
            "top": null,
            "visibility": null,
            "width": null
          }
        },
        "afa5cba685624f579975427407d50fde": {
          "model_module": "@jupyter-widgets/controls",
          "model_name": "ProgressStyleModel",
          "model_module_version": "1.5.0",
          "state": {
            "_model_module": "@jupyter-widgets/controls",
            "_model_module_version": "1.5.0",
            "_model_name": "ProgressStyleModel",
            "_view_count": null,
            "_view_module": "@jupyter-widgets/base",
            "_view_module_version": "1.2.0",
            "_view_name": "StyleView",
            "bar_color": null,
            "description_width": ""
          }
        },
        "d4e32d51a13d4c69a2f2897b475ae921": {
          "model_module": "@jupyter-widgets/base",
          "model_name": "LayoutModel",
          "model_module_version": "1.2.0",
          "state": {
            "_model_module": "@jupyter-widgets/base",
            "_model_module_version": "1.2.0",
            "_model_name": "LayoutModel",
            "_view_count": null,
            "_view_module": "@jupyter-widgets/base",
            "_view_module_version": "1.2.0",
            "_view_name": "LayoutView",
            "align_content": null,
            "align_items": null,
            "align_self": null,
            "border": null,
            "bottom": null,
            "display": null,
            "flex": null,
            "flex_flow": null,
            "grid_area": null,
            "grid_auto_columns": null,
            "grid_auto_flow": null,
            "grid_auto_rows": null,
            "grid_column": null,
            "grid_gap": null,
            "grid_row": null,
            "grid_template_areas": null,
            "grid_template_columns": null,
            "grid_template_rows": null,
            "height": null,
            "justify_content": null,
            "justify_items": null,
            "left": null,
            "margin": null,
            "max_height": null,
            "max_width": null,
            "min_height": null,
            "min_width": null,
            "object_fit": null,
            "object_position": null,
            "order": null,
            "overflow": null,
            "overflow_x": null,
            "overflow_y": null,
            "padding": null,
            "right": null,
            "top": null,
            "visibility": null,
            "width": null
          }
        },
        "d894b8779b5245b282a591684b14568c": {
          "model_module": "@jupyter-widgets/controls",
          "model_name": "DescriptionStyleModel",
          "model_module_version": "1.5.0",
          "state": {
            "_model_module": "@jupyter-widgets/controls",
            "_model_module_version": "1.5.0",
            "_model_name": "DescriptionStyleModel",
            "_view_count": null,
            "_view_module": "@jupyter-widgets/base",
            "_view_module_version": "1.2.0",
            "_view_name": "StyleView",
            "description_width": ""
          }
        }
      }
    }
  },
  "nbformat": 4,
  "nbformat_minor": 0
}