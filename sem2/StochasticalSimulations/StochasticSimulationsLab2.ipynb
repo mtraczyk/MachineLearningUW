{
 "nbformat": 4,
 "nbformat_minor": 0,
 "metadata": {
  "colab": {
   "provenance": []
  },
  "kernelspec": {
   "name": "python3",
   "display_name": "Python 3"
  },
  "language_info": {
   "name": "python"
  }
 },
 "cells": [
  {
   "cell_type": "code",
   "execution_count": null,
   "metadata": {
    "id": "o_9ZXljw6Hwb"
   },
   "outputs": [],
   "source": [
    "import numpy as np\n",
    "import matplotlib.pyplot as plt\n",
    "from scipy.stats import uniform\n",
    "from scipy.stats import kstest"
   ]
  },
  {
   "cell_type": "code",
   "outputs": [],
   "source": [
    "# Uniform distribution in a circle using a uniform distribution in a square\n",
    "n = 10000\n",
    "U = np.random.uniform(-1, 1, (n, 2))\n",
    "U = U[U[:, 0]**2 + U[:, 1]**2 < 1]\n",
    "plt.scatter(U[:, 0], U[:, 1])\n",
    "plt.show()"
   ],
   "metadata": {
    "collapsed": false
   }
  },
  {
   "cell_type": "code",
   "outputs": [],
   "source": [
    "# generate a distribution of a function of distance\n",
    "U_dis = np.linalg.norm(U, axis=1)\n",
    "plt.hist(U_dis, bins=30, density=True)\n",
    "plt.show()"
   ],
   "metadata": {
    "collapsed": false
   }
  },
  {
   "cell_type": "code",
   "outputs": [],
   "source": [
    "# generate a distribution of R^2\n",
    "U_dis2 = U_dis**2\n",
    "plt.hist(U_dis2, bins=30, density=True)\n",
    "plt.show()"
   ],
   "metadata": {
    "collapsed": false
   }
  },
  {
   "cell_type": "code",
   "outputs": [],
   "source": [
    "# plot (X, Y) * sqrt(-2log(R^2)) / R\n",
    "X_1, Y_1 = (np.sqrt(-2 * np.log(U_dis2) / U_dis2) * U[:, 0], np.sqrt(-2 * np.log(U_dis2) / U_dis2) * U[:, 1])\n",
    "plt.scatter(X_1, Y_1)\n",
    "plt.show()"
   ],
   "metadata": {
    "collapsed": false
   }
  },
  {
   "cell_type": "code",
   "outputs": [],
   "source": [
    "# plot histogram of X_1 and Y_1, marginal distributions\n",
    "plt.hist(X_1, bins=30, density=True)\n",
    "plt.show()\n",
    "plt.hist(Y_1, bins=30, density=True)\n",
    "plt.show()"
   ],
   "metadata": {
    "collapsed": false
   }
  },
  {
   "cell_type": "code",
   "outputs": [],
   "source": [
    "n = 9\n",
    "m = 1000000\n",
    "# draw u from uniform distribution and draw x from binomial distribution\n",
    "U = np.random.uniform(0, 1, m)\n",
    "X = np.random.binomial(n, U)\n",
    "# plot (U, X)\n",
    "plt.scatter(U, X)\n",
    "plt.show()"
   ],
   "metadata": {
    "collapsed": false
   }
  },
  {
   "cell_type": "code",
   "outputs": [],
   "source": [
    "# plot marginal distribution of X using barplot\n",
    "plt.bar(range(n+1), np.bincount(X) / m)\n",
    "plt.show()"
   ],
   "metadata": {
    "collapsed": false
   }
  },
  {
   "cell_type": "code",
   "outputs": [],
   "source": [
    "# plot marginal distribution of U|X=3 with a histogram\n",
    "U_3 = U[X == 3]\n",
    "plt.hist(U_3, bins=30, density=True)\n",
    "plt.show()"
   ],
   "metadata": {
    "collapsed": false
   }
  },
  {
   "cell_type": "code",
   "outputs": [],
   "source": [
    "import math\n",
    "\n",
    "# plot p(u|x) = (n choose x) u^x (1-u)^(n-x) * (n + 1) for x = 3\n",
    "x = 3\n",
    "u = np.linspace(0, 1, 1000000)\n",
    "p = (math.comb(n, x) * u**x * (1 - u)**(n - x)) * (n + 1)\n",
    "plt.scatter(u, p)\n",
    "plt.show()\n",
    "\n",
    "# it has a distribution of Beta(4, 7)"
   ],
   "metadata": {
    "collapsed": false
   }
  },
  {
   "cell_type": "code",
   "outputs": [],
   "source": [
    "# plot beta(4, 7) distribution\n",
    "from scipy.stats import beta\n",
    "x = np.linspace(0, 1, 1000000)\n",
    "p = beta.pdf(x, 4, 7)\n",
    "plt.plot(x, p)\n",
    "plt.show()"
   ],
   "metadata": {
    "collapsed": false
   }
  }
 ]
}
