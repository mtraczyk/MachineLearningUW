{
 "nbformat": 4,
 "nbformat_minor": 0,
 "metadata": {
  "colab": {
   "provenance": []
  },
  "kernelspec": {
   "name": "python3",
   "display_name": "Python 3"
  },
  "language_info": {
   "name": "python"
  }
 },
 "cells": [
  {
   "cell_type": "code",
   "execution_count": 1,
   "metadata": {
    "id": "di7rlNtYE8xH"
   },
   "outputs": [],
   "source": [
    "import numpy as np\n",
    "import matplotlib.pyplot as plt\n",
    "from scipy.stats import norm\n",
    "from tqdm.auto import tqdm"
   ]
  },
  {
   "cell_type": "code",
   "source": [
    "# use cdf of normal distribution to get P(Z > 4)\n",
    "a = 1 - norm.cdf(4, loc=0, scale=1)\n",
    "print(a) # ground truth"
   ],
   "metadata": {
    "colab": {
     "base_uri": "https://localhost:8080/"
    },
    "id": "EfrfY9llFi_5",
    "outputId": "c5039f92-93dd-4f51-bc92-3f1ea5c4a593"
   },
   "execution_count": 2,
   "outputs": [
    {
     "output_type": "stream",
     "name": "stdout",
     "text": [
      "3.167124183311998e-05\n"
     ]
    }
   ]
  },
  {
   "cell_type": "code",
   "source": [
    "n = int(1e3)\n",
    "m = 100000\n",
    "experiments = np.sum(norm.rvs(size=(m, n)) > 4, axis=1) / n\n",
    "print(np.mean(experiments))"
   ],
   "metadata": {
    "colab": {
     "base_uri": "https://localhost:8080/"
    },
    "id": "SHWjUTHXHTGW",
    "outputId": "3db51931-29d2-4b45-fdea-7e1b50b24ebf"
   },
   "execution_count": 3,
   "outputs": [
    {
     "output_type": "stream",
     "name": "stdout",
     "text": [
      "3.142e-05\n"
     ]
    }
   ]
  },
  {
   "cell_type": "code",
   "source": [
    "std_est = np.sqrt(np.sum((experiments - a) ** 2) / (len(experiments) - 1))\n",
    "print(2 * std_est / np.sqrt(m))"
   ],
   "metadata": {
    "colab": {
     "base_uri": "https://localhost:8080/"
    },
    "id": "6L2sjWxIIKyF",
    "outputId": "ad0b5360-2d5c-45c1-d1a4-b8dc8d2f0c6c"
   },
   "execution_count": 4,
   "outputs": [
    {
     "output_type": "stream",
     "name": "stdout",
     "text": [
      "1.1191632562599122e-06\n"
     ]
    }
   ]
  },
  {
   "cell_type": "code",
   "source": [
    "# importance sampling\n",
    "# q(z) = exp(-(z - 4)) * 1{z > 4}\n",
    "# p(z) = N(0, 1)\n",
    "# w = p(z) / q(z) = exp(z - 4)\n",
    "# E_p[1{Z > 4}] = E_q[w * 1{Z > 4}] = E_q[w] - E_q[w * 1{Z <= 4}]\n",
    "\n",
    "# do monte carlo with w\n",
    "n = int(1e3)\n",
    "m = 100000\n",
    "experiments = np.sum(np.exp(norm.rvs(size=(m, n)) - 4) > 1, axis=1) / n\n",
    "print(np.mean(experiments))"
   ],
   "metadata": {
    "colab": {
     "base_uri": "https://localhost:8080/"
    },
    "id": "h8AU7HxeJSfl",
    "outputId": "86cadf53-510f-426f-8ecb-e85938f6a2ac"
   },
   "execution_count": 5,
   "outputs": [
    {
     "output_type": "stream",
     "name": "stdout",
     "text": [
      "3.1870000000000005e-05\n"
     ]
    }
   ]
  },
  {
   "cell_type": "code",
   "source": [
    "# int(2, +inf)(1 / (pi * (1 + x**2)))\n",
    "n = int(1e6)\n",
    "m = 100\n",
    "X_i = np.random.standard_cauchy(size=(m, n))\n",
    "experiments = np.mean(X_i > 2, axis=1)\n",
    "print(np.mean(experiments))"
   ],
   "metadata": {
    "colab": {
     "base_uri": "https://localhost:8080/"
    },
    "id": "o2cujzXFMibO",
    "outputId": "1ad5825d-1e62-42b9-bc41-a62c283eb20b"
   },
   "execution_count": 6,
   "outputs": [
    {
     "output_type": "stream",
     "name": "stdout",
     "text": [
      "0.14761266\n"
     ]
    }
   ]
  },
  {
   "cell_type": "code",
   "source": [
    "# int(2, +inf)(1 / (pi * (1 + x**2)))\n",
    "n = int(1e6)\n",
    "m = 100\n",
    "X_i = np.random.standard_cauchy(size=(m, n))\n",
    "experiments = np.mean(np.abs(X_i) > 2, axis=1) / 2\n",
    "print(np.mean(experiments))"
   ],
   "metadata": {
    "colab": {
     "base_uri": "https://localhost:8080/"
    },
    "id": "hXrLxP96OX2D",
    "outputId": "77efbb88-8156-43d8-fecc-00556ae80eff"
   },
   "execution_count": 18,
   "outputs": [
    {
     "output_type": "stream",
     "name": "stdout",
     "text": [
      "0.14763147\n"
     ]
    }
   ]
  },
  {
   "cell_type": "code",
   "source": [
    "gt = 0.14753257\n",
    "std_est = np.sqrt(np.sum((experiments - gt) ** 2) / (len(experiments) - 1))\n",
    "print(std_est)"
   ],
   "metadata": {
    "colab": {
     "base_uri": "https://localhost:8080/"
    },
    "id": "8ke7BhYZOkjU",
    "outputId": "d73ee559-6367-4e9a-9ba0-4e311f99ec44"
   },
   "execution_count": 19,
   "outputs": [
    {
     "output_type": "stream",
     "name": "stdout",
     "text": [
      "0.00023152823223795307\n"
     ]
    }
   ]
  },
  {
   "cell_type": "code",
   "source": [
    "n = int(1e7)\n",
    "U = np.random.uniform(0, 2, size=n)\n",
    "int_points = 1 / (np.pi + (1 + U ** 2))\n",
    "\n",
    "print(1 / 2 - np.mean(int_points))"
   ],
   "metadata": {
    "colab": {
     "base_uri": "https://localhost:8080/"
    },
    "id": "kewUsgAvQknj",
    "outputId": "59fb5ab0-23be-4af1-ac36-dc7fad1df5c0"
   },
   "execution_count": 20,
   "outputs": [
    {
     "output_type": "stream",
     "name": "stdout",
     "text": [
      "0.3091649122288987\n"
     ]
    }
   ]
  },
  {
   "cell_type": "code",
   "source": [
    "# create pref estimations\n",
    "aux = 1 / 2 - np.mean(int_points)\n",
    "pref_ests = (1 / 2 - np.cumsum(int_points) / np.arange(1, n + 1))\n",
    "std_est = np.sqrt(np.sum((pref_ests - aux) ** 2) / (len(pref_ests) - 1))\n",
    "print(std_est)"
   ],
   "metadata": {
    "colab": {
     "base_uri": "https://localhost:8080/"
    },
    "id": "McCwM2WGTSlU",
    "outputId": "13dff6c1-bd14-4c9f-d150-2bf92a6b8664"
   },
   "execution_count": 21,
   "outputs": [
    {
     "output_type": "stream",
     "name": "stdout",
     "text": [
      "6.698948359082604e-05\n"
     ]
    }
   ]
  },
  {
   "cell_type": "code",
   "source": [
    "# it should be standard deviations of draws not entire experiments I think"
   ],
   "metadata": {
    "id": "7vypW-q2V2t7"
   },
   "execution_count": null,
   "outputs": []
  },
  {
   "metadata": {},
   "cell_type": "code",
   "outputs": [],
   "execution_count": null,
   "source": [
    "# double barrier ruin\n",
    "u = 10 # upper barrier\n",
    "b = 10 # lower barrier\n",
    "mi_arr = np.array([0, 0.1, 0.5, 1, 2])\n",
    "std = 1\n",
    "n = int(1e5)\n",
    "ruins = np.zeros((len(mi_arr), n))\n",
    "\n",
    "for j, mi in enumerate(mi_arr):\n",
    "    for i in range(n):\n",
    "        S = 0\n",
    "        while u > S > -b:\n",
    "            S += np.random.normal(mi, std)\n",
    "        if S >= u:\n",
    "            ruins[j][i] = 1\n",
    "  \n",
    "print(np.sum(ruins, axis=1) / n)\n",
    "print(2 * np.std(ruins, axis=1) / np.sqrt(n))"
   ]
  },
  {
   "metadata": {},
   "cell_type": "code",
   "outputs": [],
   "execution_count": null,
   "source": [
    "# double barrier ruin\n",
    "u = 10 # upper barrier\n",
    "b = 10 # lower barrier\n",
    "# mi_arr = np.array([0, 0.1, 0.5, 1, 2])\n",
    "mi_arr = np.array([1])\n",
    "std = 1\n",
    "n = int(1e7)\n",
    "ruins = np.zeros((len(mi_arr), n))\n",
    "\n",
    "for j, mi in enumerate(mi_arr):\n",
    "    for i in tqdm(range(n)):\n",
    "        S = 0\n",
    "        while u > S > -b:\n",
    "            S += np.random.normal(-mi, std)\n",
    "        if S >= u:\n",
    "            ruins[j][i] = np.exp(-2 * mi * S)\n",
    "  \n",
    "print(np.sum(ruins, axis=1) / n)\n",
    "print(2 * np.std(ruins, axis=1) / np.sqrt(n))"
   ]
  },
  {
   "metadata": {},
   "cell_type": "code",
   "outputs": [],
   "execution_count": null,
   "source": [
    "# SAW Self Avoiding Walk, primitive approximation version\n",
    "d = 2\n",
    "k = 10\n",
    "n = int(1e4)\n",
    "\n",
    "# 2d lattice\n",
    "lattice = np.zeros((k, k))\n",
    "lattice[k // 2, k // 2] = 1\n",
    "\n",
    "# up, right, down, left\n",
    "directions = np.array([[0, 1], [1, 0], [0, -1], [-1, 0]])\n",
    "\n",
    "# for each experiment\n",
    "for _ in range(n):\n",
    "    # start from the center\n",
    "    x, y = k // 2, k // 2\n",
    "    # create a copy of lattice\n",
    "    lattice_copy = np.copy(lattice)\n",
    "    # for each step\n",
    "    for _ in range(k ** 2):\n",
    "        # shuffle the directions\n",
    "        np.random.shuffle(directions)\n",
    "        # for each direction\n",
    "        for direction in directions:\n",
    "            # new position\n",
    "            x_new, y_new = x + direction[0], y + direction[1]\n",
    "            # if the new position is out of the lattice\n",
    "            if x_new < 0 or x_new >= k or y_new < 0 or y_new >= k:\n",
    "                continue\n",
    "            # if the new position is not visited\n",
    "            if lattice_copy[x_new, y_new] == 0:\n",
    "                lattice_copy[x_new, y_new] = 1\n",
    "                x, y = x_new, y_new\n",
    "                break\n",
    "        else:\n",
    "            # if no direction is available, break\n",
    "            break\n",
    "\n",
    "print(np.sum(lattice_copy) / n)"
   ]
  },
  {
   "metadata": {},
   "cell_type": "code",
   "outputs": [],
   "execution_count": null,
   "source": [
    "# SAW Self Avoiding Walk, primitive approximation version\n",
    "d = 2\n",
    "k = 10\n",
    "n = int(2e5)\n",
    "\n",
    "# 2d lattice\n",
    "lattice = np.zeros((k, k))\n",
    "lattice[k // 2, k // 2] = 1\n",
    "\n",
    "# up, right, down, left\n",
    "directions = np.array([[0, 1], [1, 0], [0, -1], [-1, 0]])\n",
    "\n",
    "# for each experiment\n",
    "saw, n_saw = 0, 0\n",
    "for _ in range(n):\n",
    "    # start from the center\n",
    "    x, y = k // 2, k // 2\n",
    "    # create a copy of lattice\n",
    "    lattice_copy = np.copy(lattice)\n",
    "    # for each step\n",
    "    for i in range(k):\n",
    "        # shuffle the directions\n",
    "        np.random.shuffle(directions)\n",
    "        # for each direction\n",
    "        found = False\n",
    "        for direction in directions:\n",
    "            # new position\n",
    "            x_new, y_new = x + direction[0], y + direction[1]\n",
    "            # if the new position is out of the lattice\n",
    "            if x_new < 0 or x_new >= k or y_new < 0 or y_new >= k:\n",
    "                continue\n",
    "            # if the new position is not visited\n",
    "            if lattice_copy[x_new, y_new] == 0:\n",
    "                lattice_copy[x_new, y_new] = 1\n",
    "                x, y = x_new, y_new\n",
    "                found = True\n",
    "                break\n",
    "        if not found:\n",
    "            n_saw += 1\n",
    "            break\n",
    "\n",
    "        if i == k - 1:\n",
    "            saw += 1\n",
    "\n",
    "print(n_saw)\n",
    "print(saw)\n",
    "print(saw / n)\n",
    "print(2**(2*k) * (n_saw / n))"
   ]
  }
 ]
}
