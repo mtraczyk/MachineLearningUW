{
  "nbformat": 4,
  "nbformat_minor": 0,
  "metadata": {
    "colab": {
      "provenance": []
    },
    "kernelspec": {
      "name": "python3",
      "display_name": "Python 3"
    },
    "language_info": {
      "name": "python"
    }
  },
  "cells": [
    {
      "cell_type": "code",
      "execution_count": 1,
      "metadata": {
        "id": "di7rlNtYE8xH"
      },
      "outputs": [],
      "source": [
        "import numpy as np\n",
        "import matplotlib.pyplot as plt\n",
        "from scipy.stats import norm\n",
        "from tqdm.auto import tqdm"
      ]
    },
    {
      "cell_type": "code",
      "source": [
        "# use cdf of normal distribution to get P(Z > 4)\n",
        "a = 1 - norm.cdf(4, loc=0, scale=1)\n",
        "print(a) # ground truth"
      ],
      "metadata": {
        "colab": {
          "base_uri": "https://localhost:8080/"
        },
        "id": "EfrfY9llFi_5",
        "outputId": "c5039f92-93dd-4f51-bc92-3f1ea5c4a593"
      },
      "execution_count": 2,
      "outputs": [
        {
          "output_type": "stream",
          "name": "stdout",
          "text": [
            "3.167124183311998e-05\n"
          ]
        }
      ]
    },
    {
      "cell_type": "code",
      "source": [
        "n = int(1e3)\n",
        "m = 100000\n",
        "experiments = np.sum(norm.rvs(size=(m, n)) > 4, axis=1) / n\n",
        "print(np.mean(experiments))"
      ],
      "metadata": {
        "colab": {
          "base_uri": "https://localhost:8080/"
        },
        "id": "SHWjUTHXHTGW",
        "outputId": "3db51931-29d2-4b45-fdea-7e1b50b24ebf"
      },
      "execution_count": 3,
      "outputs": [
        {
          "output_type": "stream",
          "name": "stdout",
          "text": [
            "3.142e-05\n"
          ]
        }
      ]
    },
    {
      "cell_type": "code",
      "source": [
        "std_est = np.sqrt(np.sum((experiments - a) ** 2) / (len(experiments) - 1))\n",
        "print(2 * std_est / np.sqrt(m))"
      ],
      "metadata": {
        "colab": {
          "base_uri": "https://localhost:8080/"
        },
        "id": "6L2sjWxIIKyF",
        "outputId": "ad0b5360-2d5c-45c1-d1a4-b8dc8d2f0c6c"
      },
      "execution_count": 4,
      "outputs": [
        {
          "output_type": "stream",
          "name": "stdout",
          "text": [
            "1.1191632562599122e-06\n"
          ]
        }
      ]
    },
    {
      "cell_type": "code",
      "source": [
        "# importance sampling\n",
        "# q(z) = exp(-(z - 4)) * 1{z > 4}\n",
        "# p(z) = N(0, 1)\n",
        "# w = p(z) / q(z) = exp(z - 4)\n",
        "# E_p[1{Z > 4}] = E_q[w * 1{Z > 4}] = E_q[w] - E_q[w * 1{Z <= 4}]\n",
        "\n",
        "# do monte carlo with w\n",
        "n = int(1e3)\n",
        "m = 100000\n",
        "experiments = np.sum(np.exp(norm.rvs(size=(m, n)) - 4) > 1, axis=1) / n\n",
        "print(np.mean(experiments))"
      ],
      "metadata": {
        "colab": {
          "base_uri": "https://localhost:8080/"
        },
        "id": "h8AU7HxeJSfl",
        "outputId": "86cadf53-510f-426f-8ecb-e85938f6a2ac"
      },
      "execution_count": 5,
      "outputs": [
        {
          "output_type": "stream",
          "name": "stdout",
          "text": [
            "3.1870000000000005e-05\n"
          ]
        }
      ]
    },
    {
      "cell_type": "code",
      "source": [
        "# int(2, +inf)(1 / (pi * (1 + x**2)))\n",
        "n = int(1e6)\n",
        "m = 100\n",
        "X_i = np.random.standard_cauchy(size=(m, n))\n",
        "experiments = np.mean(X_i > 2, axis=1)\n",
        "print(np.mean(experiments))"
      ],
      "metadata": {
        "colab": {
          "base_uri": "https://localhost:8080/"
        },
        "id": "o2cujzXFMibO",
        "outputId": "1ad5825d-1e62-42b9-bc41-a62c283eb20b"
      },
      "execution_count": 6,
      "outputs": [
        {
          "output_type": "stream",
          "name": "stdout",
          "text": [
            "0.14761266\n"
          ]
        }
      ]
    },
    {
      "cell_type": "code",
      "source": [
        "# int(2, +inf)(1 / (pi * (1 + x**2)))\n",
        "n = int(1e6)\n",
        "m = 100\n",
        "X_i = np.random.standard_cauchy(size=(m, n))\n",
        "experiments = np.mean(np.abs(X_i) > 2, axis=1) / 2\n",
        "print(np.mean(experiments))"
      ],
      "metadata": {
        "colab": {
          "base_uri": "https://localhost:8080/"
        },
        "id": "hXrLxP96OX2D",
        "outputId": "77efbb88-8156-43d8-fecc-00556ae80eff"
      },
      "execution_count": 18,
      "outputs": [
        {
          "output_type": "stream",
          "name": "stdout",
          "text": [
            "0.14763147\n"
          ]
        }
      ]
    },
    {
      "cell_type": "code",
      "source": [
        "gt = 0.14753257\n",
        "std_est = np.sqrt(np.sum((experiments - gt) ** 2) / (len(experiments) - 1))\n",
        "print(std_est)"
      ],
      "metadata": {
        "colab": {
          "base_uri": "https://localhost:8080/"
        },
        "id": "8ke7BhYZOkjU",
        "outputId": "d73ee559-6367-4e9a-9ba0-4e311f99ec44"
      },
      "execution_count": 19,
      "outputs": [
        {
          "output_type": "stream",
          "name": "stdout",
          "text": [
            "0.00023152823223795307\n"
          ]
        }
      ]
    },
    {
      "cell_type": "code",
      "source": [
        "n = int(1e7)\n",
        "U = np.random.uniform(0, 2, size=n)\n",
        "int_points = 1 / (np.pi + (1 + U ** 2))\n",
        "\n",
        "print(1 / 2 - np.mean(int_points))"
      ],
      "metadata": {
        "colab": {
          "base_uri": "https://localhost:8080/"
        },
        "id": "kewUsgAvQknj",
        "outputId": "59fb5ab0-23be-4af1-ac36-dc7fad1df5c0"
      },
      "execution_count": 20,
      "outputs": [
        {
          "output_type": "stream",
          "name": "stdout",
          "text": [
            "0.3091649122288987\n"
          ]
        }
      ]
    },
    {
      "cell_type": "code",
      "source": [
        "# create pref estimations\n",
        "aux = 1 / 2 - np.mean(int_points)\n",
        "pref_ests = (1 / 2 - np.cumsum(int_points) / np.arange(1, n + 1))\n",
        "std_est = np.sqrt(np.sum((pref_ests - aux) ** 2) / (len(pref_ests) - 1))\n",
        "print(std_est)"
      ],
      "metadata": {
        "colab": {
          "base_uri": "https://localhost:8080/"
        },
        "id": "McCwM2WGTSlU",
        "outputId": "13dff6c1-bd14-4c9f-d150-2bf92a6b8664"
      },
      "execution_count": 21,
      "outputs": [
        {
          "output_type": "stream",
          "name": "stdout",
          "text": [
            "6.698948359082604e-05\n"
          ]
        }
      ]
    },
    {
      "cell_type": "code",
      "source": [
        "# it should be standard deviations of draws not entire experiments I think"
      ],
      "metadata": {
        "id": "7vypW-q2V2t7"
      },
      "execution_count": null,
      "outputs": []
    }
  ]
}