{
 "nbformat": 4,
 "nbformat_minor": 0,
 "metadata": {
  "colab": {
   "provenance": []
  },
  "kernelspec": {
   "name": "python3",
   "display_name": "Python 3"
  },
  "language_info": {
   "name": "python"
  }
 },
 "cells": [
  {
   "cell_type": "code",
   "execution_count": null,
   "metadata": {
    "id": "XvAukwQFOsux"
   },
   "outputs": [],
   "source": [
    "import numpy as np\n",
    "import matplotlib.pyplot as plt\n",
    "from scipy.stats import norm\n",
    "from tqdm.auto import tqdm"
   ]
  },
  {
   "metadata": {},
   "cell_type": "code",
   "outputs": [],
   "execution_count": null,
   "source": [
    "n = 1000000\n",
    "block_size = 1000\n",
    "markov_chain = np.zeros(n)\n",
    "markov_chain[0] = np.random.normal()\n",
    "alpha = 0.9\n",
    "\n",
    "for i in range(1, n):\n",
    "    markov_chain[i] = markov_chain[i - 1] * alpha + np.random.normal()\n",
    "\n",
    "block_mean = np.zeros(n // block_size)\n",
    "for i in range(n // block_size):\n",
    "    block_mean[i] = np.mean(markov_chain[i * block_size:(i + 1) * block_size])\n",
    "\n",
    "mean_of_the_entire_chain = np.mean(markov_chain)\n",
    "var_of_the_entire_chain = np.var(markov_chain)\n",
    "asymptotic_variance_std = np.sum((block_size / (n / block_size)) * ((block_mean - mean_of_the_entire_chain) ** 2))"
   ]
  },
  {
   "metadata": {},
   "cell_type": "code",
   "outputs": [],
   "execution_count": null,
   "source": [
    "print(asymptotic_variance_std)\n",
    "print(var_of_the_entire_chain * (1 + alpha) / (1 - alpha))"
   ]
  },
  {
   "metadata": {},
   "cell_type": "code",
   "outputs": [],
   "execution_count": null,
   "source": [
    "alpha = 0.1\n",
    "beta = 0.1\n",
    "trans_matr = np.array([[1 - alpha, alpha], [beta, 1 - beta]])\n",
    "\n",
    "n = 100000\n",
    "block_size = 100\n",
    "markov_chain = np.zeros(n)\n",
    "markov_chain[0] = 1\n",
    "actions = np.array([0, 1])\n",
    "\n",
    "for i in range(1, n):\n",
    "    if markov_chain[i - 1] == 0:\n",
    "        markov_chain[i] = np.random.choice(actions, p=trans_matr[0])\n",
    "    else:\n",
    "        markov_chain[i] = np.random.choice(actions, p=trans_matr[1])\n",
    "\n",
    "block_mean = np.zeros(n // block_size)\n",
    "for i in range(n // block_size):\n",
    "    block_mean[i] = np.mean(markov_chain[i * block_size:(i + 1) * block_size])"
   ]
  },
  {
   "metadata": {},
   "cell_type": "code",
   "outputs": [],
   "execution_count": null,
   "source": [
    "# estimate asymptotic variance of the markov_chain using blocks\n",
    "std_of_the_entire_chain = np.std(markov_chain)\n",
    "var_of_the_entire_chain = np.var(markov_chain)\n",
    "mean_of_the_entire_chain = np.mean(markov_chain)\n",
    "asymptotic_variance_std = np.sum((block_size / (n / block_size)) * ((block_mean - mean_of_the_entire_chain) ** 2))\n",
    "print(asymptotic_variance_std)\n",
    "print(var_of_the_entire_chain * (2 - alpha - beta) / (alpha + beta))\n",
    "print(std_of_the_entire_chain)"
   ]
  },
  {
   "metadata": {},
   "cell_type": "code",
   "outputs": [],
   "execution_count": null,
   "source": [
    "# auto-logistic model implementation using Gibbs Sampling\n",
    "d = 10\n",
    "diag_val = 0.5\n",
    "\n",
    "W = np.zeros((d, d))\n",
    "for i in range(d):\n",
    "    W[i, i] = diag_val\n",
    "    if i > 0:\n",
    "        W[i, i - 1] = 1\n",
    "    if i < d - 1:\n",
    "        W[i, i + 1] = 1"
   ]
  },
  {
   "metadata": {},
   "cell_type": "code",
   "outputs": [],
   "execution_count": null,
   "source": [
    "n = 10000\n",
    "burn_in = 100\n",
    "samples = np.zeros((n + burn_in, d))\n",
    "\n",
    "for i in range(1, n + burn_in):\n",
    "    samples[i] = samples[i - 1].copy()\n",
    "    for j in range(d):\n",
    "        aux = samples[i].copy()\n",
    "        aux[j] = 1\n",
    "        prob_x_i_1 = 1 / (1 + np.exp(-np.dot(W[j], aux)))\n",
    "        samples[i][j] = np.random.binomial(1, prob_x_i_1)\n",
    "\n",
    "samples = samples[burn_in:]\n",
    "plt.imshow(samples.T, aspect='auto', cmap='gray')\n",
    "plt.show()"
   ]
  }
 ]
}
