{
 "nbformat": 4,
 "nbformat_minor": 0,
 "metadata": {
  "colab": {
   "provenance": []
  },
  "kernelspec": {
   "name": "python3",
   "display_name": "Python 3"
  },
  "language_info": {
   "name": "python"
  }
 },
 "cells": [
  {
   "cell_type": "code",
   "execution_count": 1,
   "metadata": {
    "id": "35Ahq-9VR2Mo"
   },
   "outputs": [],
   "source": [
    "import numpy as np\n",
    "import matplotlib.pyplot as plt\n",
    "from scipy.stats import norm\n",
    "from tqdm.auto import tqdm"
   ]
  },
  {
   "cell_type": "code",
   "source": [
    "# Ising Model implementation\n",
    "d = 20\n",
    "alpha_0 = 4\n",
    "alpha_1 = -2\n",
    "beta = 0.5\n",
    "\n",
    "# Initialize the lattice\n",
    "lattice = np.random.choice([-1, 1], size=(d + 2, d + 2))\n",
    "lattice[0, :] = lattice[-1, :] = 0\n",
    "lattice[:, 0] = lattice[:, -1] = 0"
   ],
   "metadata": {
    "id": "AnmDlYOmR6z6"
   },
   "execution_count": null,
   "outputs": []
  },
  {
   "metadata": {},
   "cell_type": "code",
   "outputs": [],
   "execution_count": null,
   "source": [
    "# define the energy method\n",
    "def energy(lattice):\n",
    "    return -(alpha_0 * np.sum(lattice) + alpha_1 * np.sum(lattice[1:-1, 1:-1] * (lattice[2:, 1:-1] + lattice[:-2, 1:-1] + lattice[1:-1, 2:] + lattice[1:-1, :-2])))\n",
    "\n",
    "def energy_of_neighbours(lattice, a, b):\n",
    "    return alpha_0 + alpha_1 * (lattice[a + 1, b] + lattice[a - 1, b] + lattice[a, b + 1] + lattice[a, b - 1])"
   ]
  },
  {
   "metadata": {},
   "cell_type": "code",
   "outputs": [],
   "execution_count": null,
   "source": [
    "# perform gibbs sampling\n",
    "n = 1000\n",
    "energies = np.zeros(n)\n",
    "lattices = np.zeros((n, d + 2, d + 2))\n",
    "for i in tqdm(range(n)):\n",
    "    for j in range(1, d + 1):\n",
    "        for k in range(1, d + 1):\n",
    "            e = energy_of_neighbours(lattice, j, k)\n",
    "            p = np.exp(-beta * e) / (1 + np.exp(-beta * e))\n",
    "            lattice[j, k] = np.random.choice([0, 1], p=[1 - p, p])\n",
    "    energies[i] = energy(lattice)\n",
    "    lattices[i] = lattice.copy()"
   ]
  },
  {
   "metadata": {},
   "cell_type": "code",
   "outputs": [],
   "execution_count": null,
   "source": [
    "plt.plot(energies)\n",
    "plt.show()"
   ]
  },
  {
   "metadata": {},
   "cell_type": "code",
   "outputs": [],
   "execution_count": null,
   "source": "print(np.mean(energies))"
  },
  {
   "metadata": {},
   "cell_type": "code",
   "outputs": [],
   "execution_count": null,
   "source": [
    "S_est = np.mean(np.sum(lattices, axis=(1, 2)))\n",
    "print(S_est)"
   ]
  },
  {
   "metadata": {},
   "cell_type": "code",
   "outputs": [],
   "execution_count": null,
   "source": ""
  }
 ]
}
