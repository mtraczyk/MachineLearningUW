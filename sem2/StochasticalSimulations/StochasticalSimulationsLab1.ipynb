{
 "nbformat": 4,
 "nbformat_minor": 0,
 "metadata": {
  "colab": {
   "provenance": []
  },
  "kernelspec": {
   "name": "python3",
   "display_name": "Python 3"
  },
  "language_info": {
   "name": "python"
  }
 },
 "cells": [
  {
   "cell_type": "code",
   "execution_count": null,
   "metadata": {
    "id": "tWjbVHOq3BFj"
   },
   "outputs": [],
   "source": [
    "import numpy as np\n",
    "import matplotlib.pyplot as plt\n",
    "\n",
    "# generate n iid samples from a uniform distribution on 0,1 and plot them\n",
    "n = 10000\n",
    "U = np.random.uniform(0, 1, n)\n",
    "plt.hist(U, bins=30, density=True)"
   ]
  },
  {
   "cell_type": "code",
   "outputs": [],
   "source": [
    "# get an empirical distribution function\n",
    "def ecdf(x):\n",
    "    x = np.sort(x)\n",
    "    n = len(x)\n",
    "    y = np.arange(1, n+1) / n\n",
    "    return x, y\n",
    "\n",
    "# plot the empirical distribution function\n",
    "x, y = ecdf(U)\n",
    "plt.plot(x, y, marker='.', linestyle='none')\n",
    "plt.show()"
   ],
   "metadata": {
    "collapsed": false
   }
  },
  {
   "cell_type": "code",
   "outputs": [],
   "source": [
    "# use scipy.stats.ecdf\n",
    "from scipy.stats import uniform\n",
    "\n",
    "x = uniform.rvs(size=n)\n",
    "x, y = ecdf(x)\n",
    "plt.plot(x, y, marker='.', linestyle='none')"
   ],
   "metadata": {
    "collapsed": false
   }
  },
  {
   "cell_type": "code",
   "outputs": [],
   "source": [
    "# conduct kolmogorov smirnov test to compare the empirical distribution function with the uniform distribution\n",
    "from scipy.stats import kstest\n",
    "\n",
    "kstest_result = kstest(x, 'uniform')\n",
    "print(kstest_result)\n",
    "\n",
    "if kstest_result[1] < 0.05:\n",
    "    print('The null hypothesis that the sample comes from a uniform distribution is rejected')\n",
    "else:\n",
    "    print('The null hypothesis that the sample comes from a uniform distribution is not rejected')"
   ],
   "metadata": {
    "collapsed": false
   }
  }
 ]
}
