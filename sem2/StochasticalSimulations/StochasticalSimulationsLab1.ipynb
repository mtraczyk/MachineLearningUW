{
 "nbformat": 4,
 "nbformat_minor": 0,
 "metadata": {
  "colab": {
   "provenance": []
  },
  "kernelspec": {
   "name": "python3",
   "display_name": "Python 3"
  },
  "language_info": {
   "name": "python"
  }
 },
 "cells": [
  {
   "cell_type": "code",
   "execution_count": null,
   "metadata": {
    "id": "tWjbVHOq3BFj"
   },
   "outputs": [],
   "source": [
    "import numpy as np\n",
    "import matplotlib.pyplot as plt\n",
    "\n",
    "# generate n iid samples from a uniform distribution on 0,1 and plot them\n",
    "n = 10000\n",
    "U = np.random.uniform(0, 1, n)\n",
    "plt.hist(U, bins=30, density=True)"
   ]
  },
  {
   "cell_type": "code",
   "outputs": [],
   "source": [
    "# get an empirical distribution function\n",
    "def ecdf(x):\n",
    "    x = np.sort(x)\n",
    "    n = len(x)\n",
    "    y = np.arange(1, n+1) / n\n",
    "    return x, y\n",
    "\n",
    "# plot the empirical distribution function\n",
    "x, y = ecdf(U)\n",
    "plt.plot(x, y, marker='.', linestyle='none')\n",
    "plt.show()"
   ],
   "metadata": {
    "collapsed": false
   }
  },
  {
   "cell_type": "code",
   "outputs": [],
   "source": [
    "# use scipy.stats.ecdf\n",
    "from scipy.stats import uniform\n",
    "\n",
    "x = uniform.rvs(size=n)\n",
    "x, y = ecdf(x)\n",
    "plt.plot(x, y, marker='.', linestyle='none')"
   ],
   "metadata": {
    "collapsed": false
   }
  },
  {
   "cell_type": "code",
   "outputs": [],
   "source": [
    "# conduct kolmogorov smirnov test to compare the empirical distribution function with the uniform distribution\n",
    "from scipy.stats import kstest\n",
    "\n",
    "kstest_result = kstest(x, 'uniform')\n",
    "print(kstest_result)\n",
    "\n",
    "if kstest_result[1] < 0.05:\n",
    "    print('The null hypothesis that the sample comes from a uniform distribution is rejected')\n",
    "else:\n",
    "    print('The null hypothesis that the sample comes from a uniform distribution is not rejected')"
   ],
   "metadata": {
    "collapsed": false
   }
  },
  {
   "cell_type": "code",
   "outputs": [],
   "source": [
    "# repeat sampling from uniform distribution and conduct the test\n",
    "n = 100\n",
    "rows = 10000\n",
    "x = uniform.rvs(size=(rows, n))\n",
    "\n",
    "# perform ks test for each sample\n",
    "kstest_results = np.array([kstest(x[i], 'uniform')[0] for i in range(rows)])\n",
    "\n",
    "# plot the kstest values\n",
    "plt.hist(kstest_results, bins=30, density=True)\n",
    "plt.show()"
   ],
   "metadata": {
    "collapsed": false
   }
  },
  {
   "cell_type": "code",
   "outputs": [],
   "source": [
    "# generate cauchy distribution using tangens\n",
    "n = 1000\n",
    "U = np.random.uniform(0, 1, n)\n",
    "X = np.tan(np.pi * (U - 0.5))\n",
    "\n",
    "# scale the histogram better\n",
    "plt.hist(X, bins=30, density=True, range=(-10, 10))\n",
    "\n",
    "# plot the theoretical density together with the histogram\n",
    "x = np.linspace(-10, 10, 1000) # cut off only to -10 to 10 \n",
    "y = 1 / (np.pi * (1 + x**2))\n",
    "plt.plot(x, y, color='red')\n",
    "plt.show()\n",
    "\n",
    "# Cauchy distribution has a very heavy tails"
   ],
   "metadata": {
    "collapsed": false
   }
  },
  {
   "cell_type": "code",
   "outputs": [],
   "source": [
    "num_of_repeats = 1000000\n",
    "n = 100\n",
    "X = np.random.standard_cauchy((num_of_repeats, n))\n",
    "# get the mean of each sample\n",
    "X_mean = np.mean(X, axis=1)\n",
    "# plot the mean of each sample\n",
    "plt.hist(X_mean, bins=30, density=True, range=(-5, 5))\n",
    "\n",
    "# it's a cauchy distribution, surprising (!!)\n",
    "# Central limit theorem doesn't work here, it's a stable distribution"
   ],
   "metadata": {
    "collapsed": false
   }
  },
  {
   "cell_type": "code",
   "outputs": [],
   "source": [
    "# draw a sample from a normal distribution\n",
    "n = 100\n",
    "num_of_repeats = 10000\n",
    "X = np.random.normal(0, 1, (num_of_repeats, n))\n",
    "X_mean = np.mean(X, axis=1)\n",
    "plt.hist(X_mean, bins=30, density=True)\n",
    "\n",
    "# draw the theoretical distribution\n",
    "y = np.random.normal(0, 1 / n, num_of_repeats)\n",
    "plt.hist(y, bins=30, density=True, alpha=0.5)\n",
    "plt.show()"
   ],
   "metadata": {
    "collapsed": false
   }
  },
  {
   "cell_type": "code",
   "outputs": [],
   "source": [
    "# do the experiment for a uniform distribution\n",
    "n = 12\n",
    "num_of_repeats = 10000\n",
    "X = np.random.uniform(0, 1, (num_of_repeats, n))\n",
    "X_mean = np.mean(X, axis=1)\n",
    "plt.hist(X_mean, bins=30, density=True)"
   ],
   "metadata": {
    "collapsed": false
   }
  },
  {
   "cell_type": "code",
   "outputs": [],
   "source": [
    "# draw n bernoulli samples\n",
    "n = 100\n",
    "p = 0.5\n",
    "\n",
    "# repeat the random walk multiple times and plot it\n",
    "num_of_repeats = 100\n",
    "Y_cumsums = np.cumsum(np.random.binomial(1, p, (num_of_repeats, n)) * 2 - 1, axis=1)\n",
    "plt.plot(Y_cumsums.T, color='black', alpha=0.1)"
   ],
   "metadata": {
    "collapsed": false
   }
  },
  {
   "cell_type": "code",
   "outputs": [],
   "source": [
    "# for how long is the first player winning\n",
    "Y_means = np.mean(Y_cumsums > 0, axis= 1)\n",
    "\n",
    "# plot the histogram\n",
    "plt.hist(Y_means, bins=30, density=True)\n",
    "plt.show()\n",
    "\n",
    "# it should be a beta distribution with some parameters\n",
    "# Z ~ Beta(1/2, 1/2)\n",
    "# this theorem holds for distributions with Expected value of 0 and distributions that have variance"
   ],
   "metadata": {
    "collapsed": false
   }
  },
  {
   "cell_type": "code",
   "outputs": [],
   "source": [
    "# Let's illustrate the theorem with Exponential distribution\n",
    "n = 1000\n",
    "num_of_repeats = 10000\n",
    "X = np.random.exponential(1, (num_of_repeats, n)) - 1\n",
    "X_mean = np.mean(np.cumsum(X, axis=1) > 0, axis=1)\n",
    "plt.hist(X_mean, bins=30, density=True)\n",
    "plt.show()"
   ],
   "metadata": {
    "collapsed": false
   }
  },
  {
   "cell_type": "code",
   "outputs": [],
   "source": [
    "# Uniform distribution in a circle using a uniform distribution in a square\n",
    "n = 1000\n",
    "U = np.random.uniform(-1, 1, (n, 2))\n",
    "U = U[U[:, 0]**2 + U[:, 1]**2 < 1]\n",
    "plt.scatter(U[:, 0], U[:, 1])\n",
    "plt.show()"
   ],
   "metadata": {
    "collapsed": false
   }
  },
  {
   "cell_type": "code",
   "outputs": [],
   "source": [
    "# generate a distribution of a function of distance\n",
    "U_dis = np.linalg.norm(U, axis=1)\n",
    "plt.hist(U_dis, bins=30, density=True)\n",
    "plt.show()"
   ],
   "metadata": {
    "collapsed": false
   }
  }
 ]
}
