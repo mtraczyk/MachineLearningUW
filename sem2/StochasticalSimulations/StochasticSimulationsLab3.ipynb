{
 "cells": [
  {
   "cell_type": "code",
   "execution_count": null,
   "id": "initial_id",
   "metadata": {
    "collapsed": true
   },
   "outputs": [],
   "source": [
    "import numpy as np\n",
    "import matplotlib.pyplot as plt\n",
    "from scipy.stats import uniform\n",
    "from scipy.stats import kstest"
   ]
  },
  {
   "cell_type": "code",
   "outputs": [],
   "source": [
    "# generate n random uniform numbers from (0,1)\n",
    "n = 1000\n",
    "U = np.random.uniform(0, 1, n)\n",
    "# create a rolling window mean of the uniform numbers of the prefix\n",
    "U_mean = np.zeros(n)\n",
    "U_median = np.zeros(n)\n",
    "R_n = np.zeros(n)\n",
    "for i in range(n):\n",
    "    U_mean[i] = np.mean(U[:i+1])\n",
    "    U_median[i] = np.median(U[:i+1])\n",
    "    R_n[i] = (np.max(U[:i+1]) + np.min(U[:i+1])) / 2"
   ],
   "metadata": {
    "collapsed": false
   },
   "id": "80552b299e133107"
  },
  {
   "cell_type": "code",
   "outputs": [],
   "source": [
    "# plot mean, median and R_n in 3 different\n",
    "plt.plot(U, label='U')\n",
    "plt.plot(U_mean, label='mean')\n",
    "plt.plot(U_median, label='median')\n",
    "plt.plot(R_n, label='R_n')\n",
    "plt.legend()\n",
    "plt.show()"
   ],
   "metadata": {
    "collapsed": false
   },
   "id": "a6df665f4fc249d0"
  },
  {
   "cell_type": "code",
   "outputs": [],
   "source": [
    "# generate n random uniform numbers from (0,1)\n",
    "n = 1000\n",
    "m = 1000\n",
    "U = np.random.uniform(0, 1, n)\n",
    "# create a rolling window mean of the uniform numbers of the prefix\n",
    "R = np.zeros(m)\n",
    "for j in range(m):\n",
    "  U = np.random.uniform(0, 1, n)\n",
    "  R[j] = (np.max(U[:i+1]) + np.min(U[:i+1])) / 2\n",
    "\n",
    "R = n * (R - 1 / 2)"
   ],
   "metadata": {
    "collapsed": false
   },
   "id": "4601e860f79fde80"
  },
  {
   "cell_type": "code",
   "outputs": [],
   "source": [
    "# plot R\n",
    "plt.hist(R, bins=30, density=True)\n",
    "plt.show()"
   ],
   "metadata": {
    "collapsed": false
   },
   "id": "ca385ab9b215aae6"
  },
  {
   "cell_type": "code",
   "outputs": [],
   "source": [
    "# generate laplace'a distribution using the exponential distribution\n",
    "n = 1000\n",
    "lam = 3\n",
    "exp = np.random.exponential(lam, n)\n",
    "# throw a fair coin to decide the sign\n",
    "coin = np.random.binomial(1, 0.5, n)\n",
    "lap = exp * (2 * coin - 1) * lam / 2\n",
    "# plot the histogram of the laplace distribution\n",
    "plt.hist(lap, bins=30, density=True)\n",
    "plt.show()"
   ],
   "metadata": {
    "collapsed": false
   },
   "id": "949191563926ece1"
  },
  {
   "cell_type": "code",
   "outputs": [],
   "source": [
    "# normal distribution using elimination\n",
    "n = 1000000\n",
    "b = 2 / np.exp(1)\n",
    "U = np.random.uniform(0, 1, n)\n",
    "V = np.random.uniform(-b, b, n)\n",
    "X = V / U\n",
    "X = X[np.where(X**2 < -4 * np.log(U))]\n",
    "# plot the histogram of the laplace distribution\n",
    "plt.hist(X, bins=30, density=True)\n",
    "plt.show()"
   ],
   "metadata": {
    "collapsed": false
   },
   "id": "94cb076de346b3e0"
  },
  {
   "cell_type": "code",
   "outputs": [],
   "source": [
    "# plot pairs (u, v) that (v**2/u**2) < -4 * log(u)\n",
    "U_u = U[np.where(V**2 / U**2 < -4 * np.log(U))]\n",
    "V_v = V[np.where(V**2 / U**2 < -4 * np.log(U))]\n",
    "plt.scatter(U_u, V_v)\n",
    "plt.ylim(-b, b)\n",
    "plt.show()"
   ],
   "metadata": {
    "collapsed": false
   },
   "id": "75cee17fc41e27b1"
  },
  {
   "cell_type": "code",
   "outputs": [],
   "source": [
    "import scipy \n",
    "\n",
    "V = np.array([[2, 1], [1, 1]])\n",
    "# get cholesky decomposition of V\n",
    "A = scipy.linalg.cholesky(V, lower=True)\n",
    "# generate n pairs of random normal numbers\n",
    "n = 10000\n",
    "X = np.random.normal(0, 1, (n, 2))\n",
    "# transform the normal numbers to the correlated normal numbers\n",
    "Y = (A @ X.T).T\n",
    "# plot the correlated normal numbers\n",
    "plt.scatter(Y[:, 0], Y[:, 1])\n",
    "plt.show()"
   ],
   "metadata": {
    "collapsed": false
   },
   "id": "1c6c045acb519b7"
  }
 ],
 "metadata": {
  "kernelspec": {
   "display_name": "Python 3",
   "language": "python",
   "name": "python3"
  },
  "language_info": {
   "codemirror_mode": {
    "name": "ipython",
    "version": 2
   },
   "file_extension": ".py",
   "mimetype": "text/x-python",
   "name": "python",
   "nbconvert_exporter": "python",
   "pygments_lexer": "ipython2",
   "version": "2.7.6"
  }
 },
 "nbformat": 4,
 "nbformat_minor": 5
}
