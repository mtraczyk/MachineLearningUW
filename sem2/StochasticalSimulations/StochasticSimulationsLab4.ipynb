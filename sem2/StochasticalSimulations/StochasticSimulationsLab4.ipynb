{
 "nbformat": 4,
 "nbformat_minor": 0,
 "metadata": {
  "colab": {
   "provenance": []
  },
  "kernelspec": {
   "name": "python3",
   "display_name": "Python 3"
  },
  "language_info": {
   "name": "python"
  }
 },
 "cells": [
  {
   "cell_type": "code",
   "execution_count": null,
   "metadata": {
    "id": "4qxP2pFSAVkv"
   },
   "outputs": [],
   "source": [
    "import numpy as np\n",
    "import matplotlib.pyplot as plt\n",
    "from scipy.stats import uniform\n",
    "from scipy.stats import kstest"
   ]
  },
  {
   "cell_type": "code",
   "outputs": [],
   "source": [
    "n = 5\n",
    "m = 10000000\n",
    "U = np.random.uniform(0, 1, m)\n",
    "Y = U ** (-1 / (n + 1))\n",
    "# X is exp distribution of Y\n",
    "X = np.random.exponential(Y)\n",
    "# plot histogram of X\n",
    "plt.hist(X, bins=100, density=True)\n",
    "plt.show()\n",
    "\n",
    "# get mean of X\n",
    "print(X.mean())"
   ],
   "metadata": {
    "collapsed": false
   }
  },
  {
   "cell_type": "code",
   "outputs": [],
   "source": [
    "m = 10000\n",
    "# generate 2-d normal distribution\n",
    "mean = np.array([0, 0])\n",
    "cov = np.array([[1, 0], [0, 1]])\n",
    "X = np.random.multivariate_normal(mean, cov, m).T\n",
    "# plot X\n",
    "plt.scatter(X[0], X[1])\n",
    "plt.show()"
   ],
   "metadata": {
    "collapsed": false
   }
  },
  {
   "cell_type": "code",
   "outputs": [],
   "source": [
    "# generate chi-square distribution with k degrees of freedom\n",
    "k = 2\n",
    "m = 1000000\n",
    "R = np.random.normal(0, 1, (k, m))\n",
    "R = R ** 2\n",
    "Y = X / np.sqrt(R / k)"
   ],
   "metadata": {
    "collapsed": false
   }
  },
  {
   "cell_type": "code",
   "outputs": [],
   "source": [
    "# generate chi-square distribution with k degrees of freedom\n",
    "k = 2\n",
    "R = np.random.normal(0, 1, (k, m))\n",
    "R = R ** 2\n",
    "Y = X / np.sqrt(R / k)\n",
    "\n",
    "# plot Y\n",
    "plt.scatter(Y[0], Y[1])\n",
    "plt.xlim(-1000, 1000)\n",
    "plt.ylim(-1000, 1000)\n",
    "plt.show()"
   ],
   "metadata": {
    "collapsed": false
   }
  },
  {
   "cell_type": "code",
   "outputs": [],
   "source": [
    "# use contour to plot the 2-dimensional\n",
    "# create a meshgrid\n",
    "x = np.linspace(-10, 10, 1000)\n",
    "y = np.linspace(-10, 10, 1000)\n",
    "X, Y = np.meshgrid(x, y)\n",
    "# calculate the density\n",
    "def f(x, y):\n",
    "    return x**2 + y\n",
    "\n",
    "Z = f(X, Y)\n",
    "# plot the contour\n",
    "plt.contour(X, Y, Z)\n",
    "plt.show()"
   ],
   "metadata": {
    "collapsed": false
   }
  },
  {
   "cell_type": "code",
   "outputs": [],
   "source": [
    "# plot contour for cauchy distribution\n",
    "x = np.linspace(-10, 10, 1000)\n",
    "y = np.linspace(-10, 10, 1000)\n",
    "X, Y = np.meshgrid(x, y)\n",
    "Z = 1 / (1 + X**2 + Y**2) # is it even 2-d Cauchy?\n",
    "plt.contour(X, Y, Z)\n",
    "plt.show()"
   ],
   "metadata": {
    "collapsed": false
   }
  },
  {
   "cell_type": "code",
   "outputs": [],
   "source": [
    "k = 3\n",
    "m = 1000000\n",
    "mean = np.zeros(k)\n",
    "cov = np.identity(k)\n",
    "Z = np.random.multivariate_normal(mean, cov, m)\n",
    "X = Z / np.linalg.norm(Z, axis=1).reshape(m, 1)\n",
    "\n",
    "# plot X_1\n",
    "plt.hist(X[:, 0], bins=100, density=True)\n",
    "plt.show()"
   ],
   "metadata": {
    "collapsed": false
   }
  },
  {
   "cell_type": "code",
   "outputs": [],
   "source": [
    "k = 4\n",
    "m = 10000\n",
    "mean = np.zeros(k)\n",
    "cov = np.identity(k)\n",
    "Z = np.random.multivariate_normal(mean, cov, m)\n",
    "print(Z.shape)\n",
    "X = Z / np.linalg.norm(Z, axis=1).reshape(m, 1)\n",
    "\n",
    "# scatter X_1 and X_2\n",
    "plt.scatter(X[:, 0], X[:, 1])\n",
    "plt.show()"
   ],
   "metadata": {
    "collapsed": false
   }
  },
  {
   "cell_type": "code",
   "outputs": [],
   "source": [
    "k = 10\n",
    "m = 100000\n",
    "mean = np.zeros(k)\n",
    "cov = np.identity(k)\n",
    "Z = np.random.multivariate_normal(mean, cov, m)\n",
    "print(Z.shape)\n",
    "X = Z / np.linalg.norm(Z, axis=1).reshape(m, 1)\n",
    "\n",
    "# scatter X_1 and X_2\n",
    "plt.scatter(X[:, 0], X[:, 1])\n",
    "plt.show()\n",
    "\n",
    "# Looks like a normal distribution\n",
    "\n",
    "# plot X_1\n",
    "plt.hist(X[:, 0], bins=100, density=True)\n",
    "plt.show()"
   ],
   "metadata": {
    "collapsed": false
   }
  },
  {
   "cell_type": "code",
   "outputs": [],
   "source": [
    "k = 20\n",
    "m = 100000\n",
    "mean = np.zeros(k)\n",
    "cov = np.identity(k)\n",
    "Z = np.random.multivariate_normal(mean, cov, m)\n",
    "print(Z.shape)\n",
    "X = Z / np.linalg.norm(Z, axis=1).reshape(m, 1)\n",
    "\n",
    "# scatter X_1 and X_2\n",
    "plt.scatter(X[:, 0], X[:, 1])\n",
    "plt.show()\n",
    "\n",
    "# Looks like a normal distribution\n",
    "\n",
    "# plot X_1\n",
    "plt.hist(X[:, 0], bins=100, density=True)\n",
    "plt.show()"
   ],
   "metadata": {
    "collapsed": false
   }
  }
 ]
}
