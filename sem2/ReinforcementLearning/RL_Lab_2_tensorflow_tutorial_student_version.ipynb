{
 "cells": [
  {
   "cell_type": "markdown",
   "metadata": {
    "id": "DXrXk_8_iNB0"
   },
   "source": [
    "# TensorFlow overview\n",
    "While the homeworks will be written in torch, the labs are written in tensorflow. Most of the time, only a very basic tensorflow knowledge suffices for solving them. Since tensorflow is not used during other ML courses at MIMUW, we will introduce it briefly here."
   ]
  },
  {
   "cell_type": "code",
   "execution_count": null,
   "metadata": {
    "id": "kU2KMKPBbSYb"
   },
   "outputs": [],
   "source": [
    "import tensorflow as tf\n",
    "import numpy as np\n",
    "import keras"
   ]
  },
  {
   "cell_type": "markdown",
   "metadata": {
    "id": "0M8kJWmxm-Lq"
   },
   "source": [
    "#Tensors\n",
    "\n",
    "Example tensor operations in tensorflow\n",
    "\n",
    "\n"
   ]
  },
  {
   "cell_type": "code",
   "execution_count": null,
   "metadata": {
    "id": "wsrzsGBYnCnm"
   },
   "outputs": [],
   "source": [
    "print(tf.math.add(1, 2))\n",
    "print(tf.math.add([1, 2], [3, 4]))\n",
    "print(tf.math.square(5))\n",
    "print(tf.math.reduce_sum([1, 2, 3]))\n",
    "\n",
    "# Operator overloading is also supported\n",
    "print(tf.math.square(2) + tf.math.square(3))"
   ]
  },
  {
   "cell_type": "markdown",
   "metadata": {
    "id": "Py2HNwgOnVqK"
   },
   "source": [
    "In contrast to pytorch, in tensorflow numpy arrays can be used instead of tf.Tensor - they get converted automatically:"
   ]
  },
  {
   "cell_type": "code",
   "execution_count": null,
   "metadata": {
    "id": "iwzfVXS3nk3B"
   },
   "outputs": [],
   "source": [
    "import numpy as np\n",
    "\n",
    "ndarray = np.ones([3, 3])\n",
    "\n",
    "print(\"TensorFlow operations convert numpy arrays to Tensors automatically\")\n",
    "tensor = tf.math.multiply(ndarray, 42)\n",
    "print(tensor)\n",
    "\n",
    "print(\"And NumPy operations convert Tensors to NumPy arrays automatically\")\n",
    "print(np.add(tensor, 1))"
   ]
  },
  {
   "cell_type": "markdown",
   "metadata": {
    "id": "jDJkFmuWnyvk"
   },
   "source": [
    "Tensorflow automatically decides which device to choose for execution - it moves tensors between GPU and CPU as needed. Of course it is also possible to do it manually."
   ]
  },
  {
   "cell_type": "code",
   "execution_count": null,
   "metadata": {
    "id": "6tVT3GBJnyMT"
   },
   "outputs": [],
   "source": [
    "x = tf.random.uniform([3, 3])\n",
    "\n",
    "print(\"Is there a GPU available: \"),\n",
    "print(tf.config.list_physical_devices(\"GPU\"))\n",
    "\n",
    "print(\"Is the Tensor on GPU #0:  \"),\n",
    "print(x.device.endswith('GPU:0'))\n"
   ]
  },
  {
   "cell_type": "code",
   "execution_count": null,
   "metadata": {
    "id": "PwTPh9Nt5-5E"
   },
   "outputs": [],
   "source": [
    "###########################################\n",
    "# Implement mse loss                      #\n",
    "# using vector operations from tensorflow #\n",
    "###########################################\n",
    "\n",
    "def mse_loss(y_true, y_pred):\n",
    "  ### TODO ###\n",
    "  assert y_true.shape[0] == y_pred.shape[0]\n",
    "  return tf.math.reduce_mean((y_true - y_pred)**2)\n",
    "  ### END ###\n",
    "\n",
    "\n",
    "loss_fn = tf.keras.losses.MeanSquaredError()\n",
    "y_true = np.random.rand(4, 10)\n",
    "y_pred = np.random.rand(4, 10)\n",
    "print(loss_fn(y_true, y_pred))\n",
    "print(mse_loss(y_true, y_pred.astype(np.float64)))\n",
    "assert np.isclose(loss_fn(y_true, y_pred), mse_loss(y_true, y_pred.astype(np.float64)))"
   ]
  },
  {
   "cell_type": "markdown",
   "metadata": {
    "id": "RH_3VNcrJx2G"
   },
   "source": [
    "## Dataset Definition\n",
    "The dataset we will be using for network training is Cifar10."
   ]
  },
  {
   "cell_type": "code",
   "execution_count": null,
   "metadata": {
    "id": "U50frvChgE-1"
   },
   "outputs": [],
   "source": [
    "dataset = tf.keras.datasets.cifar10\n",
    "\n",
    "(x_train, y_train), (x_test, y_test) = dataset.load_data()\n",
    "\n",
    "##############################################\n",
    "# Scale the data to be in (0, 1) interval    #\n",
    "##############################################\n",
    "### TODO ###\n",
    "x_train = tf.divide(x_train, tf.reduce_max(x_train))\n",
    "x_test = tf.divide(x_test, tf.reduce_max(x_test))\n",
    "### END ###"
   ]
  },
  {
   "cell_type": "code",
   "execution_count": null,
   "metadata": {
    "id": "mlv2KG9ptVTA"
   },
   "outputs": [],
   "source": [
    "train_dataset = tf.data.Dataset.from_tensor_slices((x_train, y_train))\n",
    "test_dataset = tf.data.Dataset.from_tensor_slices((x_test, y_test))"
   ]
  },
  {
   "cell_type": "markdown",
   "metadata": {
    "id": "DOisXQWTPPpQ"
   },
   "source": [
    "## Keras Sequential\n",
    "The most straightforward wat to define a model is using Keras Sequential."
   ]
  },
  {
   "cell_type": "code",
   "execution_count": null,
   "metadata": {
    "id": "uL3YCsEjgGb_"
   },
   "outputs": [],
   "source": [
    "loss_fn = tf.keras.losses.SparseCategoricalCrossentropy(from_logits=True)\n",
    "model = tf.keras.models.Sequential([\n",
    "  tf.keras.layers.Flatten(input_shape=(32, 32, 3)),\n",
    "  tf.keras.layers.Dense(128, activation='relu'),\n",
    "  tf.keras.layers.Dropout(0.2),\n",
    "  tf.keras.layers.Dense(128, activation='relu'),\n",
    "  tf.keras.layers.Dropout(0.2),\n",
    "  tf.keras.layers.Dense(128, activation='relu'),\n",
    "  tf.keras.layers.Dropout(0.2),\n",
    "  tf.keras.layers.Dense(10)\n",
    "])\n",
    "\n",
    "model.compile(optimizer='adam',\n",
    "              loss=loss_fn,\n",
    "              metrics=['accuracy'])\n",
    "\n",
    "model.fit(x_train, y_train, epochs=5)\n",
    "\n",
    "test_loss, test_acc = model.evaluate(x_test,  y_test, verbose=2)"
   ]
  },
  {
   "cell_type": "markdown",
   "source": [
    "We can use `keras.utils.plot_model` to plot the model."
   ],
   "metadata": {
    "id": "wVDeMLpzhsXM"
   }
  },
  {
   "cell_type": "code",
   "execution_count": null,
   "metadata": {
    "id": "UUNBtvZZgyxF"
   },
   "outputs": [],
   "source": [
    "keras.utils.plot_model(model, \"dense_model.png\")"
   ]
  },
  {
   "cell_type": "markdown",
   "metadata": {
    "id": "o2S3jT2CqOzb"
   },
   "source": [
    "We can call the model as in torch. The mode that the model is called in can be specified by passing the `training` argument."
   ]
  },
  {
   "cell_type": "code",
   "execution_count": null,
   "metadata": {
    "id": "jEvnQcgGmbuG"
   },
   "outputs": [],
   "source": [
    "features = tf.random.normal((10, 32, 32, 3))\n",
    "predictions = model(features, training=False)\n",
    "\n",
    "print(predictions)"
   ]
  },
  {
   "cell_type": "markdown",
   "metadata": {
    "id": "EQm3Gj1Yqqad"
   },
   "source": [
    "Then we can convert it to logits and find the predictions"
   ]
  },
  {
   "cell_type": "code",
   "execution_count": null,
   "metadata": {
    "id": "1LdyqY3VqutD"
   },
   "outputs": [],
   "source": [
    "##########################################\n",
    "#   Convert the predictions to logits    #\n",
    "#   And calculate the resulting label    #\n",
    "##########################################\n",
    "\n",
    "### TODO ###\n",
    "label = tf.argmax(tf.nn.softmax(predictions, -1), -1)\n",
    "print(label)\n",
    "### END ###"
   ]
  },
  {
   "cell_type": "markdown",
   "metadata": {
    "id": "6EzQHPtoNCQe"
   },
   "source": [
    "Using your background from the dnn course and layers from `tf.keras.layers`  define the model so that the accuracy of 0.5 is reached within 5 epochs."
   ]
  },
  {
   "cell_type": "code",
   "execution_count": null,
   "metadata": {
    "id": "ahrOxnrFLnK0"
   },
   "outputs": [],
   "source": [
    "##############################################\n",
    "# Define a convolutional network             #\n",
    "# That gets an accuracy over 50% in 5 epochs #\n",
    "##############################################\n",
    "from keras import layers, models\n",
    "\n",
    "dataset = tf.keras.datasets.cifar10\n",
    "(x_train, y_train), (x_test, y_test) = dataset.load_data()\n",
    "\n",
    "### TODO ###\n",
    "model = tf.keras.models.Sequential()\n",
    "input_shape=(32, 32, 3)\n",
    "num_classes=10\n",
    "\n",
    "# First conv block\n",
    "model.add(layers.Conv2D(32, (3, 3), activation='relu', kernel_initializer='he_uniform', input_shape=input_shape))\n",
    "model.add(layers.BatchNormalization())\n",
    "model.add(layers.MaxPooling2D((2, 2), strides=(2, 2)))\n",
    "\n",
    "# Second conv block\n",
    "model.add(layers.Conv2D(64, (3, 3), activation='relu', kernel_initializer='he_uniform'))\n",
    "model.add(layers.BatchNormalization())\n",
    "model.add(layers.MaxPooling2D((2, 2), strides=(2, 2)))\n",
    "\n",
    "# Third conv block\n",
    "model.add(layers.Conv2D(128, (3, 3), activation='relu', kernel_initializer='he_uniform'))\n",
    "model.add(layers.BatchNormalization())\n",
    "model.add(layers.MaxPooling2D((2, 2), strides=(2, 2)))\n",
    "\n",
    "# Flatten and dense layers\n",
    "model.add(layers.Flatten())\n",
    "model.add(layers.Dense(128, activation='relu', kernel_initializer='he_uniform'))\n",
    "model.add(layers.Dense(num_classes))\n",
    "\n",
    "### END ###\n",
    "\n",
    "loss_fn = tf.keras.losses.SparseCategoricalCrossentropy(from_logits=True)\n",
    "\n",
    "model.compile(optimizer='adam',\n",
    "              loss=loss_fn,\n",
    "              metrics=['accuracy'])\n",
    "\n",
    "model.fit(x_train, y_train, epochs=5)\n",
    "test_loss, test_acc = model.evaluate(x_test,  y_test, verbose=2)"
   ]
  },
  {
   "cell_type": "markdown",
   "metadata": {
    "id": "SiMJW0FFO9_i"
   },
   "source": [
    "## Keras Functional API\n",
    "Keras functional API allows for creating more flexible models than `keras.Sequential`. It will therefore be useful during this course."
   ]
  },
  {
   "cell_type": "code",
   "execution_count": null,
   "metadata": {
    "id": "DIZAmvUpPlWn"
   },
   "outputs": [],
   "source": [
    "import keras\n",
    "from keras import layers"
   ]
  },
  {
   "cell_type": "markdown",
   "metadata": {
    "id": "pY-VsjxNRbny"
   },
   "source": [
    "Let's build the same dense model as before."
   ]
  },
  {
   "cell_type": "code",
   "execution_count": null,
   "metadata": {
    "id": "PGoabeNxRGpS"
   },
   "outputs": [],
   "source": [
    "inputs = keras.Input(shape=(3072,))\n",
    "dense = layers.Dense(64, activation=\"relu\")\n",
    "x = dense(inputs)\n",
    "x = layers.Dropout(0.2)(x)\n",
    "x = layers.Dense(64, activation=\"relu\")(x)\n",
    "x = layers.Dropout(0.2)(x)\n",
    "x = layers.Dense(64, activation=\"relu\")(x)\n",
    "x = layers.Dropout(0.2)(x)\n",
    "outputs = layers.Dense(10)(x)\n",
    "\n",
    "model = keras.Model(inputs=inputs, outputs=outputs)"
   ]
  },
  {
   "cell_type": "markdown",
   "metadata": {
    "id": "umza1GCgR-Mo"
   },
   "source": [
    "And again fit it to the data."
   ]
  },
  {
   "cell_type": "code",
   "execution_count": null,
   "metadata": {
    "id": "oWZ6Rz-CSDEx"
   },
   "outputs": [],
   "source": [
    "##################################\n",
    "# Flatten the images             #\n",
    "##################################\n",
    "### TODO ###\n",
    "x_flat_train = tf.reshape(x_train, (x_train.shape[0], -1))\n",
    "x_flat_test = tf.reshape(x_test, (x_test.shape[0], -1))\n",
    "### DONE ###\n",
    "\n",
    "loss_fn = tf.keras.losses.SparseCategoricalCrossentropy(from_logits=True)\n",
    "\n",
    "##############################################\n",
    "# Train the model with batch size 128        #\n",
    "# And learning rate 0.001                    #\n",
    "##############################################\n",
    "### TODO ###\n",
    "model.compile(optimizer=tf.keras.optimizers.Adam(learning_rate=0.001),\n",
    "              loss=loss_fn,\n",
    "              metrics=['accuracy'])\n",
    "\n",
    "model.fit(x_flat_train, y_train, batch_size=128, epochs=5)\n",
    "### DONE ###\n",
    "\n",
    "test_loss, test_acc = model.evaluate(x_flat_test,  y_test, verbose=2)"
   ]
  },
  {
   "cell_type": "markdown",
   "metadata": {
    "id": "6piVF2y2U3FV"
   },
   "source": [
    "Define the same network as in the previous exercise, but using the functional approach."
   ]
  },
  {
   "cell_type": "markdown",
   "metadata": {
    "id": "I6bfYwdzYtOM"
   },
   "source": [
    "Write a training loop that does the same thing as happens above manually."
   ]
  },
  {
   "cell_type": "markdown",
   "metadata": {
    "id": "c0erPzC8Y03D"
   },
   "source": [
    "Create network with a plot like this on right."
   ]
  },
  {
   "cell_type": "code",
   "execution_count": null,
   "metadata": {
    "id": "Pd5lAvwAOeh1"
   },
   "outputs": [],
   "source": [
    "######################################\n",
    "# Define the same convnet as before, #\n",
    "# But use the functional API         #\n",
    "######################################\n",
    "\n",
    "### TODO ###\n",
    "inputs = keras.Input(shape=(32, 32, 3))\n",
    "\n",
    "# First conv block\n",
    "x = layers.Conv2D(32, (3, 3), activation='relu', kernel_initializer='he_uniform')(inputs)\n",
    "x = layers.BatchNormalization()(x)\n",
    "x = layers.MaxPooling2D((2, 2), strides=(2, 2))(x)\n",
    "\n",
    "# Second conv block\n",
    "x = layers.Conv2D(64, (3, 3), activation='relu', kernel_initializer='he_uniform')(x)\n",
    "x = layers.BatchNormalization()(x)\n",
    "x = layers.MaxPooling2D((2, 2), strides=(2, 2))(x)\n",
    "\n",
    "# Third conv block\n",
    "x = layers.Conv2D(128, (3, 3), activation='relu', kernel_initializer='he_uniform')(x)\n",
    "x = layers.BatchNormalization()(x)\n",
    "x = layers.MaxPooling2D((2, 2), strides=(2, 2))(x)\n",
    "\n",
    "# Flatten and dense layers\n",
    "x = layers.Flatten()(x)\n",
    "x = layers.Dense(128, activation='relu', kernel_initializer='he_uniform')(x)\n",
    "outputs = layers.Dense(10)(x)\n",
    "\n",
    "### END ###\n",
    "\n",
    "model = keras.Model(inputs=inputs, outputs=outputs)"
   ]
  },
  {
   "cell_type": "code",
   "execution_count": null,
   "metadata": {
    "id": "5AHJ6IbIQ8mU"
   },
   "outputs": [],
   "source": [
    "loss_fn = tf.keras.losses.SparseCategoricalCrossentropy(from_logits=True)\n",
    "\n",
    "model.compile(optimizer='adam',\n",
    "              loss=loss_fn,\n",
    "              metrics=['accuracy'])\n",
    "\n",
    "model.fit(x_train, y_train, epochs=5)\n",
    "test_loss, test_acc = model.evaluate(x_test,  y_test, verbose=2)"
   ]
  },
  {
   "cell_type": "code",
   "outputs": [],
   "source": [
    "######################################\n",
    "# Add a residual connection to your #\n",
    "# convnet, use the functional API   #\n",
    "######################################\n",
    "\n",
    "### TODO ###\n",
    "inputs = keras.Input(shape=(32, 32, 3))\n",
    "\n",
    "# First conv block\n",
    "x = layers.Conv2D(32, (3, 3), activation='relu', kernel_initializer='he_uniform')(inputs)\n",
    "x = layers.BatchNormalization()(x)\n",
    "x = layers.MaxPooling2D((2, 2), strides=(2, 2))(x)\n",
    "\n",
    "# Second conv block\n",
    "x = layers.Conv2D(64, (3, 3), activation='relu', kernel_initializer='he_uniform')(x)\n",
    "x = layers.BatchNormalization()(x)\n",
    "x = layers.MaxPooling2D((2, 2), strides=(2, 2))(x)\n",
    "\n",
    "# Third conv block\n",
    "x = layers.Conv2D(128, (3, 3), activation='relu', kernel_initializer='he_uniform')(x)\n",
    "x = layers.BatchNormalization()(x)\n",
    "x = layers.MaxPooling2D((2, 2), strides=(2, 2))(x)\n",
    "\n",
    "# Flatten and dense layers\n",
    "x = layers.Flatten()(x)\n",
    "x = layers.Dense(32 * 32 * 3, activation='relu', kernel_initializer='he_uniform')(x)\n",
    "\n",
    "# Residual connection\n",
    "flatten_inputs = layers.Flatten()(inputs)\n",
    "x = layers.add([flatten_inputs, x])\n",
    "\n",
    "x = layers.Dense(128, activation='relu', kernel_initializer='he_uniform')(x)\n",
    "outputs = layers.Dense(10)(x)\n",
    "\n",
    "### END ###\n",
    "\n",
    "model = keras.Model(inputs=inputs, outputs=outputs)\n",
    "\n",
    "keras.utils.plot_model(model, \"residual_model.png\")"
   ],
   "metadata": {
    "collapsed": false
   }
  },
  {
   "cell_type": "markdown",
   "source": [
    "Sometimes just using `.fit` method might not be enough. It is also possible to write the training loop more from scratch."
   ],
   "metadata": {
    "collapsed": false
   }
  },
  {
   "cell_type": "code",
   "execution_count": null,
   "metadata": {
    "id": "91AQHMfhRsX9"
   },
   "outputs": [],
   "source": [
    "batch_size = 32\n",
    "\n",
    "loss_fn = tf.keras.losses.SparseCategoricalCrossentropy(from_logits=True)\n",
    "ds_train_batch = train_dataset.batch(batch_size)\n",
    "ds_test_batch = test_dataset.batch(batch_size)\n",
    "\n",
    "\n",
    "def simple_forward(x, model, training):\n",
    "    ########################################\n",
    "    #   Get the predictions from the model #\n",
    "    ########################################\n",
    "\n",
    "    ### TODO ###\n",
    "    return model(x, training=training)\n",
    "    ### END ###\n",
    "\n",
    "\n",
    "def loss(model, x, y, training, forward_fn):\n",
    "    # training=training is needed only if there are layers with different\n",
    "    # behavior during training versus inference (e.g. Dropout).\n",
    "    y_ = forward_fn(x, model, training)\n",
    "    return loss_fn(y_true=y, y_pred=y_)\n",
    "\n",
    "\n",
    "@tf.function\n",
    "def grad(model, inputs, targets, forward_fn):\n",
    "    with tf.GradientTape() as tape:\n",
    "      loss_value = loss(model, inputs, targets, training=True, forward_fn=forward_fn)\n",
    "\n",
    "    return loss_value, tape.gradient(loss_value, model.trainable_variables)\n",
    "\n",
    "\n",
    "def run_training(optimizer, num_epochs, model, forward_fn):\n",
    "    for epoch in range(num_epochs):\n",
    "      epoch_loss_avg = tf.keras.metrics.Mean()\n",
    "      epoch_accuracy = tf.keras.metrics.SparseCategoricalAccuracy()\n",
    "\n",
    "      test_epoch_loss_avg = tf.keras.metrics.Mean()\n",
    "      test_epoch_accuracy = tf.keras.metrics.SparseCategoricalAccuracy()\n",
    "\n",
    "      for x, y in ds_train_batch:\n",
    "        loss_value, grads = grad(model, x, y, forward_fn)\n",
    "\n",
    "        ########################\n",
    "        # Apply the gradients  #\n",
    "        ########################\n",
    "\n",
    "        ### TODO ###\n",
    "        optimizer.apply_gradients(zip(grads, model.trainable_variables))\n",
    "        ### END ###\n",
    "\n",
    "        epoch_loss_avg.update_state(loss_value)\n",
    "        epoch_accuracy.update_state(y, model(x, training=True))\n",
    "\n",
    "      print(\"Epoch {:03d}: Loss: {:.3f}, Accuracy: {:.3%}\".format(epoch,\n",
    "                                                                  epoch_loss_avg.result(),\n",
    "                                                                    epoch_accuracy.result()))\n",
    "\n",
    "      ######################\n",
    "      # Run the test epoch #\n",
    "      ######################\n",
    "      ### TODO ###\n",
    "      for x, y in ds_test_batch:\n",
    "        test_loss_value = loss(model, x, y, training=False, forward_fn=forward_fn)\n",
    "        test_epoch_loss_avg.update_state(test_loss_value)\n",
    "        test_epoch_accuracy.update_state(y, model(x, training=False))\n",
    "      \n",
    "      print(\"Test set: Loss: {:.3f}, Accuracy: {:.3%}\".format(test_epoch_loss_avg.result(),\n",
    "                                                              test_epoch_accuracy.result()))\n",
    "      ### END ###\n",
    "\n",
    "optimizer = tf.keras.optimizers.Adam()\n",
    "num_epochs = 5\n",
    "\n",
    "run_training(optimizer, num_epochs, model, simple_forward)"
   ]
  },
  {
   "cell_type": "markdown",
   "metadata": {
    "id": "1-Defx1ZTHZ2"
   },
   "source": [
    "Humans have two eyes. Let's try to simulate something similar with a neural network, that is train a separate encoder for the left and right parts of the image and then encode them together. Your network should have a plot similar to this one: ![image.png](data:image/png;base64,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)"
   ]
  },
  {
   "cell_type": "code",
   "execution_count": null,
   "metadata": {
    "id": "kBWutuUdquJK"
   },
   "outputs": [],
   "source": [
    "#######################################\n",
    "# Split x_train and x_test into       #\n",
    "# two inputs with shapes (32, 16, 3)  #\n",
    "#######################################\n",
    "\n",
    "### TODO ###\n",
    "x_train_left, x_train_right = x_train[:, :, :16, :], x_train[:, :, 16:, :]\n",
    "x_test_left, x_test_right = x_test[:, :, :16, :], x_test[:, :, 16:, :]\n",
    "### END ###"
   ]
  },
  {
   "cell_type": "code",
   "execution_count": null,
   "metadata": {
    "id": "KOMeWkFbU6VL"
   },
   "outputs": [],
   "source": [
    "num_epochs = 5\n",
    "\n",
    "def get_block(input_shape):\n",
    "  model = tf.keras.models.Sequential([\n",
    "    tf.keras.layers.Conv2D(3, 3, activation='relu', input_shape=input_shape, padding='same'),\n",
    "    tf.keras.layers.BatchNormalization(),\n",
    "    tf.keras.layers.Conv2D(3, 3, activation='relu', input_shape=input_shape, padding='same'),\n",
    "    tf.keras.layers.BatchNormalization(),\n",
    "    tf.keras.layers.Conv2D(3, 3, activation='relu', input_shape=input_shape, padding='same'),\n",
    "    tf.keras.layers.BatchNormalization(),\n",
    "  ])\n",
    "\n",
    "  return model\n",
    "\n",
    "\n",
    "\n",
    "def build_model(left_model, right_model, out_model):\n",
    "  #######################################\n",
    "  # Build the model so that its plot    #\n",
    "  # resembles the one from the image    #\n",
    "  #######################################\n",
    "\n",
    "  ### TODO ###\n",
    "  left_input = tf.keras.layers.Input(shape=(32, 16, 3))\n",
    "  right_input = tf.keras.layers.Input(shape=(32, 16, 3))\n",
    "  x = left_model(left_input)\n",
    "  y = right_model(right_input)\n",
    "  z = tf.keras.layers.concatenate([x, y], -2)\n",
    "  out = out_model(z)\n",
    "  out_flat = tf.keras.layers.Flatten()(out)\n",
    "  outputs = tf.keras.layers.Dense(10, activation='softmax')(out_flat)\n",
    "\n",
    "  return keras.Model(inputs=[left_input, right_input], outputs=outputs)\n",
    "  ### END ###"
   ]
  },
  {
   "cell_type": "code",
   "source": [
    "loss_fn = tf.keras.losses.SparseCategoricalCrossentropy(from_logits=False)\n",
    "\n",
    "left_model = get_block((32, 16, 3))\n",
    "right_model = get_block((32, 16, 3))\n",
    "out_model = get_block((32, 32, 3))\n",
    "\n",
    "model = build_model(left_model, right_model, out_model)\n",
    "keras.utils.plot_model(model, \"two_inputs_model.png\")\n",
    "\n",
    "model.compile(optimizer='adam',\n",
    "              loss=loss_fn,\n",
    "              metrics=['accuracy'])\n",
    "\n",
    "###################\n",
    "# Fit the model   #\n",
    "###################\n",
    "### TODO ###\n",
    "model.fit([x_train_left, x_train_right], y_train, epochs=5)\n",
    "### END ###\n",
    "\n",
    "#######################\n",
    "# Evaluate the model  #\n",
    "#######################\n",
    "### TODO ###\n",
    "test_loss, test_acc = model.evaluate([x_test_left, x_test_right],  y_test, verbose=2)\n",
    "### END ###"
   ],
   "metadata": {
    "id": "eYHRdjujzvFe"
   },
   "execution_count": null,
   "outputs": []
  }
 ],
 "metadata": {
  "accelerator": "GPU",
  "colab": {
   "gpuType": "T4",
   "provenance": []
  },
  "kernelspec": {
   "display_name": "Python 3",
   "name": "python3"
  },
  "language_info": {
   "name": "python"
  }
 },
 "nbformat": 4,
 "nbformat_minor": 0
}
